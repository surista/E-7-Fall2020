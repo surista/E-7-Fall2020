{
 "cells": [
  {
   "cell_type": "markdown",
   "metadata": {},
   "source": [
    "# Homework 1"
   ]
  },
  {
   "cell_type": "markdown",
   "metadata": {},
   "source": [
    "Preliminaries.  You'll need to list your first and last name with each homework assignment.\n",
    "\n",
    "Do you work in the notebook, and run each cell to check your work.  Save your work and submit the notebook to Canvas."
   ]
  },
  {
   "cell_type": "code",
   "execution_count": 1,
   "metadata": {},
   "outputs": [],
   "source": [
    "# Fill in your name\n",
    "\n",
    "first_name = \"Scott\"\n",
    "last_name = \"Urista\"\n",
    "\n",
    "assert(len(first_name) != 0)\n",
    "assert(len(last_name) != 0)"
   ]
  },
  {
   "cell_type": "markdown",
   "metadata": {},
   "source": [
    "## Problem 1\n",
    "\n",
    "(Python Program: 3 points) In the cell below we define two strings\n",
    "\n",
    "a= \"+\" \n",
    "\n",
    "b = \"-\"\n",
    "\n",
    "Using only a and b, write a series of python statements to create the 45-character string below, and assign it to the variable s, using as few operations as possible:\n",
    "\n",
    "\"+-+-+-+-+-+-+-+-+-+-+-+-+-+-+-+-+-+-+-+-+-+-+\""
   ]
  },
  {
   "cell_type": "code",
   "execution_count": 2,
   "metadata": {},
   "outputs": [],
   "source": [
    "# Do not change this cell\n",
    "\n",
    "a = \"+\"\n",
    "b = \"-\""
   ]
  },
  {
   "cell_type": "code",
   "execution_count": 5,
   "metadata": {},
   "outputs": [
    {
     "name": "stdout",
     "output_type": "stream",
     "text": [
      "+-+-+-+-+-+-+-+-+-+-+-+-+-+-+-+-+-+-+-+-+-+-+ 45\n"
     ]
    }
   ],
   "source": [
    "# Put your code in this cell:\n",
    "\n",
    "s = (a + b)*22+a\n",
    "...\n",
    "\n",
    "print(s, len(s))"
   ]
  },
  {
   "cell_type": "code",
   "execution_count": 6,
   "metadata": {},
   "outputs": [],
   "source": [
    "# This cell will test your string s\n",
    "\n",
    "assert(s[:2] == '+-')     # Must start with +-\n",
    "assert(s[2:] == s[:-2])   # Pattern must continue\n",
    "assert(len(s) == 45)      # Must have length 45"
   ]
  },
  {
   "cell_type": "markdown",
   "metadata": {},
   "source": [
    "## Problem 2\n",
    "\n",
    "  Write code that prints\n",
    "\n",
    "- The length of the string vip.\n",
    "- The eleventh character in the string vip.  The first character is 'I'.  \n",
    "- The index i of the first blank space character in the string vip.  vip[i] should be blank.  \n",
    "- The index j of the last blank space character in the string vip.  vip[j] should be blank."
   ]
  },
  {
   "cell_type": "code",
   "execution_count": 14,
   "metadata": {},
   "outputs": [
    {
     "name": "stdout",
     "output_type": "stream",
     "text": [
      "31\n",
      "P\n",
      "9\n",
      "24\n"
     ]
    }
   ],
   "source": [
    "vip = \"Important Person in High School\"\n",
    "\n",
    "print(len(vip))\n",
    "print(vip[10])\n",
    "print(vip.index(\" \"))\n",
    "print(vip.rfind(\" \"))\n"
   ]
  },
  {
   "cell_type": "markdown",
   "metadata": {},
   "source": [
    "## Problem 3\n",
    "\n",
    "Write a Python fragment to create a string holding the text below.   \n",
    "\n",
    "     Then he said \"I don't know.\""
   ]
  },
  {
   "cell_type": "code",
   "execution_count": 17,
   "metadata": {},
   "outputs": [
    {
     "name": "stdout",
     "output_type": "stream",
     "text": [
      "Then he said \"I don't know.\" 28\n"
     ]
    }
   ],
   "source": [
    "# Write your answer here\n",
    "\n",
    "s = 'Then he said \"I don\\'t know.\"'\n",
    "\n",
    "# And print your string below\n",
    "print(s, len(s))"
   ]
  },
  {
   "cell_type": "markdown",
   "metadata": {},
   "source": [
    "# Problem 4\n",
    "\n",
    "Import datetime and write a fragment that, whenever it is run, computes and prints the next year.  \n",
    "\n",
    "When we run it next week it should print 2020.  "
   ]
  },
  {
   "cell_type": "code",
   "execution_count": 21,
   "metadata": {},
   "outputs": [
    {
     "name": "stdout",
     "output_type": "stream",
     "text": [
      "2021\n"
     ]
    }
   ],
   "source": [
    "import datetime\n",
    "today = datetime.date.today()\n",
    "print(today.year+1)"
   ]
  },
  {
   "cell_type": "markdown",
   "metadata": {},
   "source": [
    "# Post Mortem\n",
    "\n",
    "How long did it take you to solve this problem set?\n",
    "\n",
    "Did anything confuse you or cause difficulty?"
   ]
  },
  {
   "cell_type": "code",
   "execution_count": null,
   "metadata": {
    "collapsed": true
   },
   "outputs": [],
   "source": [
    "# Your thoughts...\n"
   ]
  }
 ],
 "metadata": {
  "kernelspec": {
   "display_name": "Python 3",
   "language": "python",
   "name": "python3"
  },
  "language_info": {
   "codemirror_mode": {
    "name": "ipython",
    "version": 3
   },
   "file_extension": ".py",
   "mimetype": "text/x-python",
   "name": "python",
   "nbconvert_exporter": "python",
   "pygments_lexer": "ipython3",
   "version": "3.8.3"
  }
 },
 "nbformat": 4,
 "nbformat_minor": 2
}
