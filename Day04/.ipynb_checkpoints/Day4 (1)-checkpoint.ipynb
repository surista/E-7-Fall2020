{
 "cells": [
  {
   "cell_type": "markdown",
   "metadata": {},
   "source": [
    "# Inproduction to Programming with Python\n",
    "# Day 4 Notebook - Booleans and Control Flow\n",
    "# Fall 2019 (c) Jeff Parker "
   ]
  },
  {
   "cell_type": "markdown",
   "metadata": {},
   "source": [
    "# Homework Review"
   ]
  },
  {
   "cell_type": "code",
   "execution_count": null,
   "metadata": {
    "scrolled": true
   },
   "outputs": [],
   "source": [
    "# pentagram.py\n",
    "#\n",
    "# Draw a pentagram\n",
    "# Usage:\n",
    "#      % python pentagram.py\n",
    "#\n",
    "# John Doe\n",
    "# CSCI E-7 Fall 2018\n",
    "# Based on readings from Downey's Think Python and course lectures.\n",
    "\n",
    "# Import the turtle module, so we can draw.\n",
    "import turtle\n",
    "\n",
    "# Our main function, to draw a pentagram taking the turtle object, how large to make it and thickness of the drawingself.\n",
    "def draw_pentagram(t, edgeLen, penWidth):\n",
    "    t.ht() # Hide the turtle.\n",
    "    t.pendown() # Get ready to draw, make sure pen is down.\n",
    "    t.pensize(penWidth) # Sets the thickness of the pen\n",
    "    t.color('black') # We pick black as the default\n",
    "    t.left(72) # Initiate the start of the pentagram, to get the correct angles.\n",
    "\n",
    "# For loop to draw sides of the pentagram\n",
    "    for sideNum in range(5):\n",
    "        t.forward(edgeLen)\n",
    "        t.right(144)\n",
    "\n",
    "# Create a Turtle Object\n",
    "penta = turtle.Turtle()\n",
    "\n",
    "# Pass the turtle object to the draw_pentragram function, with sides of 150 and thickness of 5.\n",
    "draw_pentagram(t = penta, edgeLen = 150, penWidth = 5)\n",
    "\n",
    "# Wait for the user\n",
    "turtle.mainloop()\n",
    "exit()\n"
   ]
  },
  {
   "cell_type": "markdown",
   "metadata": {},
   "source": [
    "# My pentangle"
   ]
  },
  {
   "cell_type": "code",
   "execution_count": null,
   "metadata": {
    "scrolled": true
   },
   "outputs": [],
   "source": [
    "import turtle\n",
    "\n",
    "edgeLen  = 200            # Length of each stroke\n",
    "width    = 10             # Penwidth\n",
    "\n",
    "\n",
    "def draw_pentagram(t, edgeLen, penWidth):\n",
    "    \"Draw a pentagram\"\n",
    "    \n",
    "    # Point turtle to peak\n",
    "                          # 72 = (360/5)\n",
    "    t.lt(90 + 18)         # 18 = 72/4\n",
    "\n",
    "    # Set penwidth\n",
    "    t.pensize(penWidth)\n",
    "\n",
    "    # Draw each arm of Pentagram\n",
    "    for i in range(5):\n",
    "        t.fd(edgeLen)\n",
    "        t.lt(144)         # 144 = 180 - 72/2\n",
    "\n",
    "    t.ht()                # Hide the turtle\n",
    "\n",
    "    \n",
    "my_turtle = turtle.Turtle()     # Instantiate a turtle\n",
    "\n",
    "draw_pentagram(my_turtle, edgeLen, width)\n",
    "\n",
    "turtle.mainloop()         # Wait for the user"
   ]
  },
  {
   "cell_type": "markdown",
   "metadata": {},
   "source": [
    "## Less is more"
   ]
  },
  {
   "cell_type": "markdown",
   "metadata": {
    "collapsed": true
   },
   "source": [
    "# Hopscotch"
   ]
  },
  {
   "cell_type": "code",
   "execution_count": null,
   "metadata": {
    "scrolled": true
   },
   "outputs": [],
   "source": [
    "# Turtle program generates a hopscotch diagram of varying length and pen width\n",
    "# Usage:\n",
    "#      % python hopscotch.py\n",
    "#\n",
    "\n",
    "\n",
    "import turtle\n",
    "\n",
    "# function draw_hopscotch draws a hopscotch of length edgeLen and pen width penWidth\n",
    "def draw_hopscotch(t, edgeLen, penWidth):\n",
    "    t.width(penWidth)\n",
    "    # move the turtle\n",
    "    t.up()\n",
    "    t.lt(90)\n",
    "    t.fd(edgeLen * 4)\n",
    "    t.rt(90)\n",
    "    t.fd(edgeLen * .5)\n",
    "    t.down()\n",
    "    #starting point\n",
    "    t.rt(90)\n",
    "    # generate one square only\n",
    "    for i in range(4):\n",
    "        t.fd(edgeLen)\n",
    "        t.rt(90)\n",
    "\n",
    "    t.up()\n",
    "    t.fd(edgeLen)\n",
    "    t.rt(90)\n",
    "    t.fd(edgeLen/2)\n",
    "    t.down()\n",
    "    #generate two squares together\n",
    "    for i in range(4):\n",
    "        t.fd(edgeLen)\n",
    "        t.lt(90)\n",
    "    t.rt(180)\n",
    "    for i in range(3):\n",
    "        t.fd(edgeLen)\n",
    "        t.rt(90)\n",
    "    t.rt(90)\n",
    "    #move the turtle\n",
    "    t.up()\n",
    "    t.fd(edgeLen/2)\n",
    "    t.rt(90)\n",
    "    t.down()\n",
    "     #generate one square alone\n",
    "    for i in range(4):\n",
    "        t.fd(edgeLen)\n",
    "        t.rt(90)\n",
    "\n",
    "    #move the turtle\n",
    "    t.up()\n",
    "    t.fd(edgeLen)\n",
    "    t.rt(90)\n",
    "    t.fd(edgeLen/2)\n",
    "    t.down()\n",
    "    #generate two squares together\n",
    "    for i in range(4):\n",
    "        t.fd(edgeLen)\n",
    "        t.lt(90)\n",
    "    t.rt(180)\n",
    "    for i in range(3):\n",
    "        t.fd(edgeLen)\n",
    "        t.rt(90)\n",
    "    t.rt(90)\n",
    "    #move the turtle\n",
    "    t.up()\n",
    "    t.fd(edgeLen/2)\n",
    "    t.rt(90)\n",
    "    t.down()\n",
    "     #generate three squares alone\n",
    "    for i in range(4):\n",
    "        t.fd(edgeLen)\n",
    "        t.rt(90)\n",
    "    t.fd(edgeLen)\n",
    "    for i in range(4):\n",
    "        t.fd(edgeLen)\n",
    "        t.rt(90)\n",
    "    t.fd(edgeLen)\n",
    "    for i in range(4):\n",
    "        t.fd(edgeLen)\n",
    "        t.rt(90)\n",
    "    t.fd(edgeLen)\n",
    "    t.ht()\n",
    "\n",
    "\n",
    "bob = turtle.Turtle()\n",
    "\n",
    "draw_hopscotch(bob, 75, 5)  # Arguments are bob, 75, and 5\n",
    "\n",
    "# Wait for the user\n",
    "turtle.mainloop()\n"
   ]
  },
  {
   "cell_type": "markdown",
   "metadata": {},
   "source": [
    "## Even the simplests task, drawing a square, is re-written"
   ]
  },
  {
   "cell_type": "markdown",
   "metadata": {},
   "source": [
    "# Another student submission"
   ]
  },
  {
   "cell_type": "code",
   "execution_count": null,
   "metadata": {
    "scrolled": true
   },
   "outputs": [],
   "source": [
    "import turtle\n",
    "t = turtle.Turtle()\n",
    "print(t)\n",
    "\n",
    "#def square_piece(t,edgeLen,penWidth):\n",
    "#    import turtle\n",
    "#    t.right(90)\n",
    "#    t.width(penWidth)\n",
    "#    for i in range(4):\n",
    "#        t.forward(edgeLen)\n",
    "#        t.right(90)\n",
    "#    up()\n",
    "#\n",
    "#\n",
    "#bob = turtle.Turtle()\n",
    "#square_piece(bob,40,5)\n",
    "\n",
    "#hopscotch_court(t, edgeLen, penWidth)\n",
    "    #import turtle\n",
    "    #t.width()\n",
    "    \n",
    "def part1(edgeLen):\n",
    "    import turtle\n",
    "    for i in range(2):\n",
    "        t.forward(edgeLen)\n",
    "        t.right(90)\n",
    "        t.forward(edgeLen)\n",
    "        t.forward(edgeLen)\n",
    "        t.right(90)\n",
    "    for i in range(5):\n",
    "        t.forward(edgeLen)\n",
    "        t.right(90)\n",
    "\n",
    "def part2():\n",
    "    import turtle\n",
    "    t.left(90)\n",
    "\n",
    "def square_right(edgeLen):\n",
    "    import turtle\n",
    "    for i in range(4):\n",
    "        t.forward(edgeLen)\n",
    "        t.left(90)\n",
    "\n",
    "def square_up(edgeLen):\n",
    "    import turtle\n",
    "    for i in range(4):\n",
    "        t.left(90)\n",
    "        t.forward(edgeLen)\n",
    "    t.right(180)\n",
    "\n",
    "def line(edgeLen):\n",
    "    import turtle\n",
    "    t.forward(edgeLen)\n",
    "\n",
    "def halfline(edgeLen):\n",
    "    import turtle\n",
    "    t.right(90)\n",
    "    t.forward(edgeLen*.5)\n",
    "\n",
    "\n",
    "def half_square(edgeLen):\n",
    "    import turtle\n",
    "    for i in range(3):\n",
    "        t.forward(edgeLen)\n",
    "        t.right(90)\n",
    "\n",
    "        \n",
    "def square_left(edgeLen):\n",
    "    import turtle\n",
    "    for i in range(4):\n",
    "        t.forward(edgeLen)\n",
    "        t.right(90)\n",
    "\n",
    "\n",
    "def last_square(edgeLen):\n",
    "    import turtle\n",
    "    for i in range(4):\n",
    "        t.right(90)\n",
    "        t.forward(edgeLen)\n",
    "\n",
    "\n",
    "def hopscotch(t, edgeLen, penWidth):\n",
    "     t.width(penWidth)\n",
    "     part1(edgeLen)\n",
    "     part2()\n",
    "     square_right(edgeLen)\n",
    "     square_up(edgeLen)\n",
    "     line(edgeLen)\n",
    "     half_square(edgeLen)\n",
    "     square_up(edgeLen)\n",
    "     line(edgeLen)\n",
    "     halfline(edgeLen)\n",
    "     square_up(edgeLen)\n",
    "     half_square(edgeLen)\n",
    "     square_right(edgeLen)\n",
    "     halfline(edgeLen)\n",
    "     last_square(edgeLen)\n",
    "\n",
    "\n",
    "bob = turtle.Turtle()\n",
    "hopscotch(bob,100,3)\n",
    "turtle.mainloop()"
   ]
  },
  {
   "cell_type": "markdown",
   "metadata": {},
   "source": [
    "## Not clear what any of these functions do\n",
    "\n",
    "## Look at head of program\n",
    "## Don't leave cruft - prepare your program for Architectural Digest\n",
    "\n",
    "# Nice solution from Adam"
   ]
  },
  {
   "cell_type": "code",
   "execution_count": null,
   "metadata": {
    "scrolled": true
   },
   "outputs": [],
   "source": [
    "# Turtle Program\n",
    "# Draws a hopscotch court\n",
    "# Adam \n",
    "\n",
    "import turtle\n",
    "\n",
    "#define the court function\n",
    "def draw_hopscotch_court(t, edgeLen, penWidth):\n",
    "\n",
    "\n",
    "    #Clear to Defaults setting\n",
    "    t.reset()\n",
    "    #set penwidth\n",
    "    t.pensize(penWidth)\n",
    "    #could change direction of court with this\n",
    "    t.left(90)\n",
    "\n",
    "    draw_multibox(t, edgeLen, 1)\n",
    "    draw_multibox(t, edgeLen, 1)\n",
    "    draw_multibox(t, edgeLen, 1)\n",
    "    draw_multibox(t, edgeLen, 2)\n",
    "    draw_multibox(t, edgeLen, 1)\n",
    "    draw_multibox(t, edgeLen, 2)\n",
    "    draw_multibox(t, edgeLen, 1)\n",
    "\n",
    "# draw a row of boxes\n",
    "def draw_multibox(t,length,numboxes):\n",
    "\n",
    "    #moving to account for numboxes\n",
    "    t.left(90)\n",
    "    t.forward(length/2*(numboxes-1))\n",
    "    t.right(90)\n",
    "\n",
    "    # draw the boxes\n",
    "    for i in range(numboxes):\n",
    "        draw_box(t,length)\n",
    "        t.right(90)\n",
    "        t.forward(length)\n",
    "        t.right(90)\n",
    "        t.forward(length)\n",
    "        t.left(180)\n",
    "    \n",
    "    #bring back to neutral line\n",
    "    t.forward(length)\n",
    "    t.left(90)\n",
    "    t.forward(length/2*(numboxes-1)+length)\n",
    "    t.right(90)\n",
    "\n",
    "#draw a single box returning to origin\n",
    "def draw_box(t,length):\n",
    "\n",
    "\n",
    "    #moving an edgelength and drawing\n",
    "    for i in range(5):\n",
    "        t.forward(length)\n",
    "        t.right(90)\n",
    "    #face original dir\n",
    "    t.left(90)\n",
    "\n",
    "\n",
    "trtl = turtle.Turtle()\n",
    "\n",
    "draw_hopscotch_court(trtl, 30, 3)\n",
    "\n",
    "# Wait for the user\n",
    "turtle.mainloop()"
   ]
  },
  {
   "cell_type": "markdown",
   "metadata": {},
   "source": [
    "## Usage line - how you would call it "
   ]
  },
  {
   "cell_type": "markdown",
   "metadata": {},
   "source": [
    "# My hopscotch "
   ]
  },
  {
   "cell_type": "code",
   "execution_count": null,
   "metadata": {
    "scrolled": true
   },
   "outputs": [],
   "source": [
    "# hopscotch.py\n",
    "#\n",
    "# Draw the Hopscotch Court\n",
    "# Usage:\n",
    "#      % python hopscotch.py\n",
    "#\n",
    "# Jeff Parker, June 24, 2018\n",
    "\n",
    "import turtle\n",
    "\n",
    "edge  = 50      # edge length of each square\n",
    "width = 5       # Pen width\n",
    "\n",
    "\n",
    "def square(t, edgeLen):\n",
    "    \"Draw a square of a given size\"\n",
    "    for i in range(4):\n",
    "        t.fd(edgeLen)\n",
    "        t.lt(90)\n",
    "\n",
    "        \n",
    "def climbup(t, edgeLen):\n",
    "    \"Move up one space, keep orientation\"\n",
    "    t.penup()           # Don't scribble!\n",
    "    t.lt(90)\n",
    "    t.fd(edgeLen)\n",
    "    t.rt(90)\n",
    "    t.pendown() \n",
    "\n",
    "    \n",
    "def stack_square(t, edgeLen):\n",
    "    \"Draw a square, and move turtle to upper left corner\"\n",
    "    square(t, edgeLen)\n",
    "    climbup(t, edgeLen)\n",
    "\n",
    "    \n",
    "def move_half_back(t, edgeLen):\n",
    "    \"Take a half step to the left, keep orientation\"\n",
    "    t.penup()           # Don't scribble!\n",
    "    t.bk(edgeLen/2)\n",
    "    t.pendown() \n",
    "\n",
    "    \n",
    "def crossbar(t, edgeLen):\n",
    "    \"Draw two squares balanced over current point, and move up\"\n",
    "    # backup a half square\n",
    "    move_half_back(t, edgeLen)\n",
    "    \n",
    "    # draw the two squares\n",
    "    square(t, edgeLen)\n",
    "    t.fd(edgeLen)\n",
    "    square(t, edgeLen)\n",
    "\n",
    "    # backup to our starting spot\n",
    "    move_half_back(t, edgeLen)\n",
    "\n",
    "    # Prepare for next piece\n",
    "    climbup(t, edgeLen)\n",
    "\n",
    "    \n",
    "def hopscotch_court(t, edgeLen, penWidth):\n",
    "    \"Assemble a hopscotch court from our components\"\n",
    "    t.pensize(penWidth)\n",
    "\n",
    "    # Draw a stack of three squares\n",
    "    stack_square(t, edgeLen)\n",
    "    stack_square(t, edgeLen)\n",
    "    stack_square(t, edgeLen)\n",
    "\n",
    "    # Draw the crossbars\n",
    "    crossbar(t, edgeLen)\n",
    "    stack_square(t, edgeLen)\n",
    "    crossbar(t, edgeLen)\n",
    "    stack_square(t, edgeLen)\n",
    "    t.ht()                       # Hide Turtle\n",
    "\n",
    "    \n",
    "bob = turtle.Turtle()\n",
    "\n",
    "hopscotch_court(bob, edge, width)\n",
    "\n",
    "turtle.mainloop()"
   ]
  },
  {
   "cell_type": "markdown",
   "metadata": {
    "collapsed": true
   },
   "source": [
    "# Grid"
   ]
  },
  {
   "cell_type": "code",
   "execution_count": null,
   "metadata": {
    "scrolled": true
   },
   "outputs": [],
   "source": [
    "# grid.py\n",
    "# Gaurav \n",
    "# September 23, 2018\n",
    "#\n",
    "# Function draw_grid draws a nxn grid with provided turtle object, edge length and count\n",
    "# where count = n i.e. the size of grid\n",
    "# Usage:\n",
    "#      % python grid.py <turtle> <edgeLength> <count>\n",
    "#\n",
    "# Assignment 3 - draw_grid\n",
    "\n",
    "import turtle\n",
    "\n",
    "# draw_outergrid takes 3 parameters:\n",
    "# turtle object , length of each grid edge  and number of grids per side\n",
    "# draw_outergrid draws outer edges of the grid with\n",
    "# each side of outer grid =  length of each box x number of boxes\n",
    "def draw_outergrid(t,edgeLen,count):\n",
    "    # draw outer grid 4 sides, each outer side length equals edgeLen X count\n",
    "    # turn turtle head left 90 degrees at end of each iteration to complete a square\n",
    "    for i in range(4):\n",
    "        t.fd(edgeLen * count)\n",
    "        t.left(90)\n",
    "\n",
    "# draw_horizontal_lines takes 3 arguments:\n",
    "# turtle object , length of each grid edge  and number of grids per side\n",
    "# draw_horizontal_lines draws the inner horizontal parallel lines dividing the grid\n",
    "# each horizontal line equals total grid length i.e. edgeLen x count\n",
    "# number of horizontal lines excluding the outermost edges equals count -1\n",
    "# for e.g. for a 3x3 grid, number of inner horizontal lines equals 3 - 1 = 2\n",
    "def draw_horizontal_lines(t,edgeLen,count):\n",
    "    # iteration starts with turtle pointing east at left most corner of the outer grid\n",
    "    # in each iteration , turn turtle head south\n",
    "    # move turtle backwards equal to length of each side of a box\n",
    "    # turn turtle head east\n",
    "    # draw the horizontal line parallel to outer side\n",
    "    # lift turtle up\n",
    "    # return the turtle to starting position\n",
    "    # drop down the turtle\n",
    "    for i in range(count -1):\n",
    "        t.right(90)\n",
    "        t.bk(edgeLen)\n",
    "        t.left(90)\n",
    "        t.fd(edgeLen*count)\n",
    "        t.up()\n",
    "        t.bk(edgeLen*count)\n",
    "        t.down()\n",
    "\n",
    "# reset_turtle_position takes 2 arguments:\n",
    "# the turtle object and lenght of each box\n",
    "# reset_turtle_position resets turtle position to top left of the outer grid to start drawing vertical lines\n",
    "# this function should be executed after drawing horizontal lines\n",
    "def reset_turtle_position(t,edgeLen):\n",
    "    # return turtle to the top line and turn east to start drawing vertical lines\n",
    "    t.up()\n",
    "    t.right(90)\n",
    "    t.bk(edgeLen)\n",
    "    t.left(90)\n",
    "    t.down()\n",
    "\n",
    "# draw_vertical_lines takes 3 arguments:\n",
    "# turtle object , length of each grid edge  and number of grids per side\n",
    "# draw_vertical_lines draws the inner vertical parallel lines dividing the grid\n",
    "# each vertical line equals total grid side i.e. edgeLen x count\n",
    "# number of vertical lines excluding the outermost edges equals count -1\n",
    "# for e.g. for a 3x3 grid, number of inner vertical lines equals 3 - 1 = 2\n",
    "\n",
    "\n",
    "def draw_vertical_lines(t,edgeLen,count):\n",
    "    # iteration starts with turtle pointing east at left most corner of the outer grid\n",
    "    # in each iteration , pick the turtle\n",
    "    # move turtle forward one edge length\n",
    "    # turn turtle head south\n",
    "    # put down the turtle\n",
    "    # draw the vertical line parallel to outer side\n",
    "    # lift turtle up\n",
    "    # return the turtle to starting position\n",
    "    # drop down the turtle\n",
    "    for i in range(count-1):\n",
    "        t.up()\n",
    "        t.fd(edgeLen)\n",
    "        t.right(90)\n",
    "        t.down()\n",
    "        t.fd(edgeLen*count)\n",
    "        t.up()\n",
    "        t.bk(edgeLen*count)\n",
    "        t.left(90)\n",
    "        t.down()\n",
    "\n",
    "# draw_grid takes 3 arguments:\n",
    "# turtle object , length of each grid edge  and number of grids per side\n",
    "# draw_grid draws the complete grid by drawing in the order:\n",
    "#  1. outer sides\n",
    "#  2. horizontal lines\n",
    "#  3. vertical lines\n",
    "\n",
    "\n",
    "def draw_grid(t,edgeLen,count):\n",
    "    draw_outergrid(t,edgeLen,count)\n",
    "    draw_horizontal_lines(t,edgeLen,count)\n",
    "    reset_turtle_position(t,edgeLen)\n",
    "    draw_vertical_lines(t,edgeLen,count)\n",
    "\n",
    "\n",
    "t = turtle.Turtle()\n",
    "draw_grid(t,50,4)\n",
    "t.ht()\n",
    "turtle.mainloop()"
   ]
  },
  {
   "cell_type": "markdown",
   "metadata": {},
   "source": [
    "# My grid"
   ]
  },
  {
   "cell_type": "code",
   "execution_count": null,
   "metadata": {
    "scrolled": true
   },
   "outputs": [],
   "source": [
    "# grid1.py\n",
    "#\n",
    "# Draw an n x n grid of square boxes\n",
    "# Usage:\n",
    "#      % python grid1.py \n",
    "#\n",
    "# Jeff Parker, June 24, 2018\n",
    "#\n",
    "# This draw two sets of n+1 parallel lines\n",
    "\n",
    "import turtle\n",
    "\n",
    "edgeLen  = 50      # Size of each square\n",
    "count    = 4       # Number of squares per row, col\n",
    "width    = 5       # Width of pen nub\n",
    "\n",
    "def lines(t, edgeLen, count):\n",
    "    \"Draw a set of (count + 1) parallel lines\"\n",
    "    # Draw a line as long as count squares\n",
    "    for i in range(count + 1):\n",
    "        t.fd( edgeLen * count )\n",
    "\n",
    "        # Position turtle for next line\n",
    "        # Return to the start\n",
    "        t.bk( edgeLen * count )\n",
    "\n",
    "        # Nose up, and move up\n",
    "        t.lt(90)\n",
    "        t.penup()\n",
    "        t.fd(edgeLen)\n",
    "        t.pendown()\n",
    "\n",
    "        # Return to orientation\n",
    "        t.rt(90)\n",
    "\n",
    "    # Return to our starting point\n",
    "    t.rt(90)\n",
    "    t.penup()\n",
    "    t.fd(edgeLen*(count + 1))\n",
    "    t.pendown()\n",
    "    t.lt(90)\n",
    "    \n",
    "    \n",
    "def draw_grid(t, edgeLen, count):\n",
    "    \"Draw a grid with count rows and columns\"\n",
    "    # Wide nib\n",
    "    bob.pensize(width)\n",
    "\n",
    "    # Draw the horizontal lines\n",
    "    lines(t, edgeLen, count)\n",
    "\n",
    "    # Move to the lower right hand corner, turn nose up\n",
    "    t.penup()\n",
    "    t.fd(edgeLen*count)\n",
    "    t.lt(90)\n",
    "    t.pendown()\n",
    "\n",
    "    # Draw the vertical lines\n",
    "    lines(t, edgeLen, count)\n",
    "    t.ht()\n",
    "\n",
    "\n",
    "bob = turtle.Turtle()\n",
    "\n",
    "draw_grid(bob, edgeLen, count)\n",
    "\n",
    "turtle.mainloop()"
   ]
  },
  {
   "cell_type": "markdown",
   "metadata": {},
   "source": [
    "# Lessons\n",
    "## Functions can simplify your work\n",
    "## Factor out the parts you do again and again\n",
    "\n",
    "### Functions are our unit of design \n",
    "### Noun Verb or Is Adjective\n",
    "```python\n",
    "    strip()\n",
    "    lower()\n",
    "    isalpha()\n",
    "```\n",
    "### Do one thing to one type of thing"
   ]
  },
  {
   "cell_type": "markdown",
   "metadata": {},
   "source": [
    "# Some elements of Code Style\n",
    "## From Python Enhancement Proposal 8 (PEP 8)\n",
    "### Doc Strings for functions\n",
    "### Two spaces between functions\n",
    "### ..."
   ]
  },
  {
   "cell_type": "markdown",
   "metadata": {},
   "source": [
    "# %=%=%=%=%=%=%=%=%=%=%=%=%=%=\n",
    "# Control Flow\n",
    "## We may want to do this or to do that: \n",
    "- Add a number or forget it\n",
    "- Finish a calculation or keep going\n",
    "- Draw a line or draw a circle\n",
    "## To decide which we wish to do, we often test a Boolean Condition\n",
    "```python\n",
    "    s = 'Sam'\n",
    "    if len(s) > 0:\n",
    "        print(s)\n",
    "        \n",
    "    if s.islower():\n",
    "        print(s.upper()\n",
    "````"
   ]
  },
  {
   "cell_type": "markdown",
   "metadata": {},
   "source": [
    "# Boolean Conditions: named after George Boole"
   ]
  },
  {
   "cell_type": "code",
   "execution_count": null,
   "metadata": {
    "scrolled": true
   },
   "outputs": [],
   "source": [
    "# Boolean \n",
    "4 == 4"
   ]
  },
  {
   "cell_type": "code",
   "execution_count": null,
   "metadata": {
    "scrolled": true
   },
   "outputs": [],
   "source": [
    "4 == 'cat'"
   ]
  },
  {
   "cell_type": "code",
   "execution_count": null,
   "metadata": {
    "scrolled": true
   },
   "outputs": [],
   "source": [
    "'cat' == 'cat'"
   ]
  },
  {
   "cell_type": "markdown",
   "metadata": {},
   "source": [
    "# Digression: Boolean tests equals and is"
   ]
  },
  {
   "cell_type": "code",
   "execution_count": null,
   "metadata": {
    "scrolled": true
   },
   "outputs": [],
   "source": [
    "s1 = 'cat'\n",
    "s2 = 'cat'\n",
    "\n",
    "s1 == s2"
   ]
  },
  {
   "cell_type": "code",
   "execution_count": null,
   "metadata": {
    "scrolled": true
   },
   "outputs": [],
   "source": [
    "L1 = ['cat']\n",
    "L2 = ['cat']\n",
    "\n",
    "L1 == L2"
   ]
  },
  {
   "cell_type": "code",
   "execution_count": null,
   "metadata": {
    "scrolled": true
   },
   "outputs": [],
   "source": [
    "s1 = 'cat'\n",
    "s2 = 'cat'\n",
    "\n",
    "s1 is s2"
   ]
  },
  {
   "cell_type": "code",
   "execution_count": null,
   "metadata": {
    "scrolled": true
   },
   "outputs": [],
   "source": [
    "L1 = ['cat']\n",
    "L2 = ['cat']\n",
    "\n",
    "L1 is L2"
   ]
  },
  {
   "cell_type": "markdown",
   "metadata": {},
   "source": [
    "## The strings are the same\n",
    "## The lists are different\n",
    "### Look at their addresses in memory"
   ]
  },
  {
   "cell_type": "code",
   "execution_count": null,
   "metadata": {
    "scrolled": true
   },
   "outputs": [],
   "source": [
    "print(id(s1))\n",
    "print(id(s2))"
   ]
  },
  {
   "cell_type": "code",
   "execution_count": null,
   "metadata": {
    "scrolled": true
   },
   "outputs": [],
   "source": [
    "print(id(L1))\n",
    "print(id(L2))"
   ]
  },
  {
   "cell_type": "markdown",
   "metadata": {},
   "source": [
    "## Why the difference?  When I paint L1 black, L2 doesn't change color"
   ]
  },
  {
   "cell_type": "code",
   "execution_count": null,
   "metadata": {
    "scrolled": true
   },
   "outputs": [],
   "source": [
    "print('L1', L1)\n",
    "print('L2', L2)\n",
    "\n",
    "# Modify one list\n",
    "L1.pop()\n",
    "print('L1', L1)\n",
    "print('L2', L2)"
   ]
  },
  {
   "cell_type": "markdown",
   "metadata": {},
   "source": [
    "## The Lists are still stored in the same place"
   ]
  },
  {
   "cell_type": "code",
   "execution_count": null,
   "metadata": {
    "scrolled": true
   },
   "outputs": [],
   "source": [
    "print(id(L1))\n",
    "print(id(L2))"
   ]
  },
  {
   "cell_type": "markdown",
   "metadata": {},
   "source": [
    "### The strings are the same: since strings are imutable, we only need one copy of 'cat'\n",
    "### The lists are different: they started out the same, but I can edit them separately. \n",
    "### They held the same things, but they are not the same list.  "
   ]
  },
  {
   "cell_type": "markdown",
   "metadata": {},
   "source": [
    "# I have an identical twin.  \n",
    "# We look the same, but we are different\n",
    "### We live in different appartments, so we have different addresses"
   ]
  },
  {
   "cell_type": "markdown",
   "metadata": {},
   "source": [
    "# Twin cats"
   ]
  },
  {
   "cell_type": "code",
   "execution_count": null,
   "metadata": {
    "scrolled": true
   },
   "outputs": [],
   "source": [
    "s1 = 'cat'\n",
    "s2 = 'cat'\n",
    "\n",
    "print(id(s2))\n",
    "print(id(s2))"
   ]
  },
  {
   "cell_type": "code",
   "execution_count": null,
   "metadata": {
    "scrolled": true
   },
   "outputs": [],
   "source": [
    "s1 == s2"
   ]
  },
  {
   "cell_type": "code",
   "execution_count": null,
   "metadata": {
    "scrolled": true
   },
   "outputs": [],
   "source": [
    "s1 is s2"
   ]
  },
  {
   "cell_type": "markdown",
   "metadata": {},
   "source": [
    "# Franken-cat"
   ]
  },
  {
   "cell_type": "code",
   "execution_count": null,
   "metadata": {
    "scrolled": true
   },
   "outputs": [],
   "source": [
    "ch1 = 'c'\n",
    "ch2 = 'a'\n",
    "ch3 = 't'\n",
    "frankenCat = ch1 + ch2 + ch3\n",
    "\n",
    "print(s1)\n",
    "print(frankenCat)"
   ]
  },
  {
   "cell_type": "markdown",
   "metadata": {},
   "source": [
    "## Predict what will happen"
   ]
  },
  {
   "cell_type": "code",
   "execution_count": null,
   "metadata": {
    "scrolled": true
   },
   "outputs": [],
   "source": [
    "s1 == frankenCat"
   ]
  },
  {
   "cell_type": "code",
   "execution_count": null,
   "metadata": {
    "scrolled": true
   },
   "outputs": [],
   "source": [
    "s1 is frankenCat"
   ]
  },
  {
   "cell_type": "code",
   "execution_count": null,
   "metadata": {
    "scrolled": true
   },
   "outputs": [],
   "source": [
    "print(id(s1))\n",
    "print(id(frankenCat))"
   ]
  },
  {
   "cell_type": "markdown",
   "metadata": {},
   "source": [
    "## Yes, it worked different the last time we tried this\n",
    "## No, I don't have an explanation"
   ]
  },
  {
   "cell_type": "markdown",
   "metadata": {},
   "source": [
    "# if statements use Boolean conditions"
   ]
  },
  {
   "cell_type": "code",
   "execution_count": null,
   "metadata": {
    "scrolled": true
   },
   "outputs": [],
   "source": [
    "x = 5\n",
    "\n",
    "if x > 0:\n",
    "    print('x is positive')"
   ]
  },
  {
   "cell_type": "markdown",
   "metadata": {},
   "source": [
    "# if-else statements have one Boolean but two outcomes\n",
    "\n",
    "### *Is you is or is you ain't my baby?*\n",
    "\n",
    "https://www.youtube.com/watch?v=VP1Bcx1D3c8&vl=ja"
   ]
  },
  {
   "cell_type": "code",
   "execution_count": null,
   "metadata": {
    "scrolled": true
   },
   "outputs": [],
   "source": [
    "x = -1\n",
    "\n",
    "if x > 0:\n",
    "    print('x is positive')\n",
    "else:\n",
    "    print('x is negative')"
   ]
  },
  {
   "cell_type": "markdown",
   "metadata": {},
   "source": [
    "# What kind of bug is that?"
   ]
  },
  {
   "cell_type": "code",
   "execution_count": null,
   "metadata": {
    "scrolled": true
   },
   "outputs": [],
   "source": [
    "if x > 0:\n",
    "    print('x is positive')\n",
    "else:\n",
    "    print('x is negative')"
   ]
  },
  {
   "cell_type": "markdown",
   "metadata": {},
   "source": [
    "# elif statement"
   ]
  },
  {
   "cell_type": "code",
   "execution_count": null,
   "metadata": {
    "scrolled": true
   },
   "outputs": [],
   "source": [
    "x = 0\n",
    "\n",
    "if x > 0: \n",
    "    print('x is positive')     \n",
    "elif x == 0:                       # Note ‘==‘\n",
    "    print('x is zero')\n",
    "else: \n",
    "    print('x is negative')"
   ]
  },
  {
   "cell_type": "markdown",
   "metadata": {},
   "source": [
    "## In example above, conditions are checked in order. \n",
    "\n",
    "- If one is false, check next\n",
    "- If a condition is True, branch runs and the statement ends. \n",
    "- If multiple conditions are True, only the first True branch runs.\n",
    "\n",
    "- The final, unguarded else runs if no condition was True\n",
    "\n",
    "```python\n",
    "    if x == ...\n",
    "        print(...)\n",
    "    elif x == ...\n",
    "        print(...)\n",
    "    elif x == ...\n",
    "        print(...)\n",
    "    elif x == ...\n",
    "        print(...)\n",
    "    elif x == ...\n",
    "        print(...)\n",
    "    elif x == ...\n",
    "         print(...)\n",
    "    else:\n",
    "         print(...)\n",
    "```"
   ]
  },
  {
   "cell_type": "markdown",
   "metadata": {},
   "source": [
    "# Parallel construction"
   ]
  },
  {
   "cell_type": "code",
   "execution_count": null,
   "metadata": {
    "scrolled": true
   },
   "outputs": [],
   "source": [
    "if hasHammer: \n",
    "    print('Hammer in Morning') \n",
    "if hasBell: \n",
    "    print('Ring in Morning')\n",
    "if hasSong: \n",
    "    print('All over this land') "
   ]
  },
  {
   "cell_type": "markdown",
   "metadata": {},
   "source": [
    "## In example above, each condition is always checked "
   ]
  },
  {
   "cell_type": "markdown",
   "metadata": {},
   "source": [
    "# Compound examples"
   ]
  },
  {
   "cell_type": "code",
   "execution_count": null,
   "metadata": {
    "scrolled": true
   },
   "outputs": [],
   "source": [
    "time = 9\n",
    "\n",
    "if (time < 8): \n",
    "    print('Please have a seat.')\n",
    "elif (time > 12):\n",
    "    print('Please have a seat.')\n",
    "else: \n",
    "    print('Please come in.')"
   ]
  },
  {
   "cell_type": "markdown",
   "metadata": {},
   "source": [
    "## The two clauses have the same result: we can combine them\n",
    "## We use an -or- If this is True OR if that is True"
   ]
  },
  {
   "cell_type": "code",
   "execution_count": null,
   "metadata": {
    "scrolled": true
   },
   "outputs": [],
   "source": [
    "if (time < 8) or (time > 12):\n",
    "    print('Please have a seat.')\n",
    "else: \n",
    "    print('Please come in.')"
   ]
  },
  {
   "cell_type": "markdown",
   "metadata": {},
   "source": [
    "# New compound: must pass two tests"
   ]
  },
  {
   "cell_type": "code",
   "execution_count": null,
   "metadata": {
    "scrolled": true
   },
   "outputs": [],
   "source": [
    "if 0 < x: \n",
    "    if x < 10: \n",
    "        print('x is positive digit')"
   ]
  },
  {
   "cell_type": "markdown",
   "metadata": {},
   "source": [
    "# Both conditions must be True: this AND that\n",
    "## We can rewrite that as:"
   ]
  },
  {
   "cell_type": "code",
   "execution_count": null,
   "metadata": {
    "scrolled": true
   },
   "outputs": [],
   "source": [
    "if (0 < x) and (x < 10): \n",
    "    print('x is positive digit')"
   ]
  },
  {
   "cell_type": "markdown",
   "metadata": {},
   "source": [
    "# One more rewriting: Before"
   ]
  },
  {
   "cell_type": "code",
   "execution_count": null,
   "metadata": {
    "scrolled": true
   },
   "outputs": [],
   "source": [
    "x = 3\n",
    "y = 5\n",
    "\n",
    "if x == y: \n",
    "    print('x and y equal') \n",
    "else: \n",
    "    if x < y: \n",
    "        print('x is less')\n",
    "    else:\n",
    "        print('x is greater')"
   ]
  },
  {
   "cell_type": "markdown",
   "metadata": {},
   "source": [
    "# After: this may be easier to follow"
   ]
  },
  {
   "cell_type": "code",
   "execution_count": null,
   "metadata": {
    "scrolled": true
   },
   "outputs": [],
   "source": [
    "if x == y: \n",
    "    print('x and y equal') \n",
    "elif x < y: \n",
    "    print('x is less')\n",
    "else:\n",
    "    print('x is greater')"
   ]
  },
  {
   "cell_type": "markdown",
   "metadata": {},
   "source": [
    "# Leap Year \n",
    "## Write a Boolean function to tell us if a given year is a leap year"
   ]
  },
  {
   "cell_type": "code",
   "execution_count": null,
   "metadata": {},
   "outputs": [],
   "source": [
    "def is_leap_year(year: int) -> bool:\n",
    "    return False\n",
    "\n",
    "\n",
    "year = 2019\n",
    "print(is_leap_year(year))"
   ]
  },
  {
   "cell_type": "markdown",
   "metadata": {},
   "source": [
    "## Unix commands to try\n",
    "### DOS doesn't have an equivalent"
   ]
  },
  {
   "cell_type": "code",
   "execution_count": null,
   "metadata": {},
   "outputs": [],
   "source": [
    "!cal"
   ]
  },
  {
   "cell_type": "markdown",
   "metadata": {},
   "source": [
    "```python\n",
    "   September 2019     \n",
    "Su Mo Tu We Th Fr Sa  \n",
    " 1  2  3  4  5  6  7  \n",
    " 8  9 10 11 12 13 14  \n",
    "15 16 17 18 19 20 21  \n",
    "22 23 24 25 26 27 28  \n",
    "29 30         \n",
    "```"
   ]
  },
  {
   "cell_type": "code",
   "execution_count": null,
   "metadata": {},
   "outputs": [],
   "source": [
    "!cal 2019"
   ]
  },
  {
   "cell_type": "markdown",
   "metadata": {},
   "source": [
    "```python\n",
    "                            2019\n",
    "      January               February               March          \n",
    "Su Mo Tu We Th Fr Sa  Su Mo Tu We Th Fr Sa  Su Mo Tu We Th Fr Sa  \n",
    "       1  2  3  4  5                  1  2                  1  2  \n",
    " 6  7  8  9 10 11 12   3  4  5  6  7  8  9   3  4  5  6  7  8  9  \n",
    "13 14 15 16 17 18 19  10 11 12 13 14 15 16  10 11 12 13 14 15 16  \n",
    "20 21 22 23 24 25 26  17 18 19 20 21 22 23  17 18 19 20 21 22 23  \n",
    "27 28 29 30 31        24 25 26 27 28        24 25 26 27 28 29 30  \n",
    "                                            31                    \n",
    "\n",
    "       April                  May                   June          \n",
    "Su Mo Tu We Th Fr Sa  Su Mo Tu We Th Fr Sa  Su Mo Tu We Th Fr Sa  \n",
    "    1  2  3  4  5  6            1  2  3  4                     1  \n",
    " 7  8  9 10 11 12 13   5  6  7  8  9 10 11   2  3  4  5  6  7  8  \n",
    "14 15 16 17 18 19 20  12 13 14 15 16 17 18   9 10 11 12 13 14 15  \n",
    "21 22 23 24 25 26 27  19 20 21 22 23 24 25  16 17 18 19 20 21 22  \n",
    "28 29 30              26 27 28 29 30 31     23 24 25 26 27 28 29  \n",
    "                                            30                    \n",
    "\n",
    "        July                 August              September        \n",
    "Su Mo Tu We Th Fr Sa  Su Mo Tu We Th Fr Sa  Su Mo Tu We Th Fr Sa  \n",
    "    1  2  3  4  5  6               1  2  3   1  2  3  4  5  6  7  \n",
    " 7  8  9 10 11 12 13   4  5  6  7  8  9 10   8  9 10 11 12 13 14  \n",
    "14 15 16 17 18 19 20  11 12 13 14 15 16 17  15 16 17 18 19 20 21  \n",
    "21 22 23 24 25 26 27  18 19 20 21 22 23 24  22 23 24 25 26 27 28  \n",
    "28 29 30 31           25 26 27 28 29 30 31  29 30                 \n",
    "                                                                  \n",
    "\n",
    "      October               November              December        \n",
    "Su Mo Tu We Th Fr Sa  Su Mo Tu We Th Fr Sa  Su Mo Tu We Th Fr Sa  \n",
    "       1  2  3  4  5                  1  2   1  2  3  4  5  6  7  \n",
    " 6  7  8  9 10 11 12   3  4  5  6  7  8  9   8  9 10 11 12 13 14  \n",
    "13 14 15 16 17 18 19  10 11 12 13 14 15 16  15 16 17 18 19 20 21  \n",
    "20 21 22 23 24 25 26  17 18 19 20 21 22 23  22 23 24 25 26 27 28  \n",
    "27 28 29 30 31        24 25 26 27 28 29 30  29 30 31  \n",
    "```"
   ]
  },
  {
   "cell_type": "markdown",
   "metadata": {},
   "source": [
    "# Julien Calendar  \n",
    "## Imposed in 46 AD by Julius Cesear\n",
    "## By 1500 Easter was moving into Summer: reform was needed\n",
    "# Gregorian Calendar adopted in UK in 1752\n",
    "## Give us back our 11 days!\n",
    "\n",
    "https://www.historic-uk.com/HistoryUK/HistoryofBritain/Give-us-our-eleven-days/"
   ]
  },
  {
   "cell_type": "code",
   "execution_count": null,
   "metadata": {},
   "outputs": [],
   "source": [
    "!cal 1752"
   ]
  },
  {
   "cell_type": "markdown",
   "metadata": {},
   "source": [
    "#### \"These extra days occur in years which are multiples of four (with the exception of centennial years not divisible by 400)\" - Wikipedia\n",
    "## What is a Boolean Function?"
   ]
  },
  {
   "cell_type": "code",
   "execution_count": null,
   "metadata": {
    "scrolled": true
   },
   "outputs": [],
   "source": [
    "# Signature is right, but the logic is wrong\n",
    "# This says no year is a leap year\n",
    "#\n",
    "def is_leap_year(year: int) -> bool:\n",
    "    \"Is this a leap year?\"\n",
    "    return False\n",
    "\n",
    "print(is_leap_year(2019))"
   ]
  },
  {
   "cell_type": "markdown",
   "metadata": {},
   "source": [
    "## We have a leap year\n",
    "- On every year that is evenly divisible by 4\n",
    "- Except every year that is evenly divisible by 100\n",
    "- Unless the year is also evenly divisible by 400"
   ]
  },
  {
   "cell_type": "markdown",
   "metadata": {},
   "source": [
    "# Test for our leapyear function"
   ]
  },
  {
   "cell_type": "code",
   "execution_count": null,
   "metadata": {
    "scrolled": true
   },
   "outputs": [],
   "source": [
    "# Which should be True and which should be False?\n",
    "\n",
    "def test_function() -> bool:\n",
    "    print(\"Test isLeapYear()\")\n",
    "    assert(not is_leap_year(2019))   # 2019 is not a leap year\n",
    "    assert(is_leap_year(2020))\n",
    "    assert(is_leap_year(2000))       # 2000 was a leap year\n",
    "    assert(not is_leap_year(1900))   # 1900 was not a leap year\n",
    "    print(\"Passed 4 tests\")"
   ]
  },
  {
   "cell_type": "markdown",
   "metadata": {},
   "source": [
    "## Let's try it"
   ]
  },
  {
   "cell_type": "code",
   "execution_count": null,
   "metadata": {
    "scrolled": true
   },
   "outputs": [],
   "source": [
    "test_function()"
   ]
  },
  {
   "cell_type": "markdown",
   "metadata": {},
   "source": [
    "# Grow a solution\n",
    "## Testing if value is divisible by 2"
   ]
  },
  {
   "cell_type": "code",
   "execution_count": null,
   "metadata": {},
   "outputs": [],
   "source": [
    "x = 1\n",
    "\n",
    "if (x % 2) == 0:\n",
    "    print('x is even')\n",
    "else:\n",
    "    print('x is odd')"
   ]
  },
  {
   "cell_type": "markdown",
   "metadata": {},
   "source": [
    "# You often see this as a test for non-zero"
   ]
  },
  {
   "cell_type": "code",
   "execution_count": null,
   "metadata": {},
   "outputs": [],
   "source": [
    "x = 1\n",
    "\n",
    "if (x % 2):\n",
    "    print('x is odd')\n",
    "else:\n",
    "    print('x is even')"
   ]
  },
  {
   "cell_type": "code",
   "execution_count": null,
   "metadata": {
    "scrolled": true
   },
   "outputs": [],
   "source": [
    "# Grow a solution\n",
    "def is_leap_year(year: int) -> bool:\n",
    "    if (year % 4 == 0):\n",
    "        return True\n",
    "    else:\n",
    "        return False"
   ]
  },
  {
   "cell_type": "code",
   "execution_count": null,
   "metadata": {
    "scrolled": true
   },
   "outputs": [],
   "source": [
    "test_function()"
   ]
  },
  {
   "cell_type": "markdown",
   "metadata": {},
   "source": [
    "## Two edits:\n",
    "### Rather than \"if true, return true\", just return condition"
   ]
  },
  {
   "cell_type": "code",
   "execution_count": null,
   "metadata": {
    "scrolled": true
   },
   "outputs": [],
   "source": [
    "def is_leap_year(year: int) -> bool:\n",
    "    return (year % 4 == 0)"
   ]
  },
  {
   "cell_type": "code",
   "execution_count": null,
   "metadata": {
    "scrolled": true
   },
   "outputs": [],
   "source": [
    "test_function()"
   ]
  },
  {
   "cell_type": "markdown",
   "metadata": {},
   "source": [
    "# What do we think of this solution?"
   ]
  },
  {
   "cell_type": "code",
   "execution_count": null,
   "metadata": {
    "scrolled": true
   },
   "outputs": [],
   "source": [
    "def is_leap_year(year):\n",
    "    if year % 4 == 0:\n",
    "        if year % 100 == 0 and year % 400 != 0:\n",
    "            return False\n",
    "        elif year % 100 != 0:\n",
    "            return True\n",
    "        elif year % 400 == 0:\n",
    "            return True\n",
    "    else:\n",
    "        return False"
   ]
  },
  {
   "cell_type": "code",
   "execution_count": null,
   "metadata": {},
   "outputs": [],
   "source": [
    "test_function()"
   ]
  },
  {
   "cell_type": "markdown",
   "metadata": {},
   "source": [
    "## Can we simplify?"
   ]
  },
  {
   "cell_type": "code",
   "execution_count": null,
   "metadata": {
    "scrolled": true
   },
   "outputs": [],
   "source": [
    "def is_leap_year(year: int) -> bool:\n",
    "    if year % 4:\n",
    "        return False\n",
    "    # So year is divisible by 4\n",
    "    if year % 400 == 0:\n",
    "        return True\n",
    "    if year % 100 == 0:\n",
    "        return False\n",
    "    return True"
   ]
  },
  {
   "cell_type": "code",
   "execution_count": null,
   "metadata": {
    "scrolled": true
   },
   "outputs": [],
   "source": [
    "test_function()"
   ]
  },
  {
   "cell_type": "markdown",
   "metadata": {},
   "source": [
    "# What about this one?"
   ]
  },
  {
   "cell_type": "code",
   "execution_count": null,
   "metadata": {
    "scrolled": true
   },
   "outputs": [],
   "source": [
    "def is_leap_year(year):\n",
    "    if year % 100 == 0:\n",
    "        return year % 400 == 0\n",
    "    return year % 4 == 0"
   ]
  },
  {
   "cell_type": "code",
   "execution_count": null,
   "metadata": {
    "scrolled": true
   },
   "outputs": [],
   "source": [
    "test_function()"
   ]
  },
  {
   "cell_type": "markdown",
   "metadata": {},
   "source": [
    "# What makes a good function?\n",
    "## a) Short\n",
    "## b) Fast\n",
    "## c) Understandable"
   ]
  },
  {
   "cell_type": "code",
   "execution_count": null,
   "metadata": {
    "scrolled": true
   },
   "outputs": [],
   "source": [
    "def is_leap_year(year):\n",
    "    if year % 100 == 0:\n",
    "        return year % 400 == 0\n",
    "    return year % 4 == 0"
   ]
  },
  {
   "cell_type": "markdown",
   "metadata": {},
   "source": [
    "## Very short function, but always makes 2 tests\n",
    "## Can we do better?  What should we test first?"
   ]
  },
  {
   "cell_type": "markdown",
   "metadata": {},
   "source": [
    "## Relational Tests"
   ]
  },
  {
   "cell_type": "code",
   "execution_count": null,
   "metadata": {
    "scrolled": true
   },
   "outputs": [],
   "source": [
    "x = 3\n",
    "y = 5\n",
    "\n",
    "x == y      # Not x = y\n",
    "x != y\n",
    "x > y\n",
    "x < y\n",
    "x >= y\n",
    "x <= y"
   ]
  },
  {
   "cell_type": "markdown",
   "metadata": {},
   "source": [
    "# What does each evalute to?"
   ]
  },
  {
   "cell_type": "code",
   "execution_count": null,
   "metadata": {
    "scrolled": true
   },
   "outputs": [],
   "source": [
    "a = 4 \n",
    "\n",
    "(a > 3) or (a < 1)"
   ]
  },
  {
   "cell_type": "code",
   "execution_count": null,
   "metadata": {
    "scrolled": true
   },
   "outputs": [],
   "source": [
    "(a > 3) and (a < 1)"
   ]
  },
  {
   "cell_type": "code",
   "execution_count": null,
   "metadata": {
    "scrolled": true
   },
   "outputs": [],
   "source": [
    "not (a < 1)"
   ]
  },
  {
   "cell_type": "markdown",
   "metadata": {},
   "source": [
    "# Common Boolean tests "
   ]
  },
  {
   "cell_type": "code",
   "execution_count": null,
   "metadata": {},
   "outputs": [],
   "source": [
    "x = 17\n",
    "\n",
    "x == 0       # Is x zero?"
   ]
  },
  {
   "cell_type": "code",
   "execution_count": null,
   "metadata": {},
   "outputs": [],
   "source": [
    "if x:\n",
    "    print(\"X is non-zero\")\n",
    "else: \n",
    "    print(\"X is zero\")"
   ]
  },
  {
   "cell_type": "code",
   "execution_count": null,
   "metadata": {},
   "outputs": [],
   "source": [
    "val = [1, 2, 3]\n",
    "\n",
    "if val:\n",
    "    print(\"Val is not False\")\n",
    "else: \n",
    "    print(\"Val is None\")"
   ]
  },
  {
   "cell_type": "markdown",
   "metadata": {},
   "source": [
    "## Predict what will happen"
   ]
  },
  {
   "cell_type": "code",
   "execution_count": null,
   "metadata": {},
   "outputs": [],
   "source": [
    "p = True\n",
    "q = False\n",
    "\n",
    "p and q      # Are both True?"
   ]
  },
  {
   "cell_type": "code",
   "execution_count": null,
   "metadata": {},
   "outputs": [],
   "source": [
    "p or q       # Is one True?"
   ]
  },
  {
   "cell_type": "code",
   "execution_count": null,
   "metadata": {},
   "outputs": [],
   "source": [
    "not p        # Is p false?"
   ]
  },
  {
   "cell_type": "markdown",
   "metadata": {},
   "source": [
    "# Reading Text Files"
   ]
  },
  {
   "cell_type": "markdown",
   "metadata": {},
   "source": [
    "# Text files have the following structure:\n",
    "## A sequence of lines\n",
    "## Each line is a sequence of characters ending with a ‘\\n’\n",
    "##     *Or a '\\r\\n' for DOS files*"
   ]
  },
  {
   "cell_type": "code",
   "execution_count": null,
   "metadata": {
    "scrolled": true
   },
   "outputs": [],
   "source": [
    "! more sample.txt"
   ]
  },
  {
   "cell_type": "markdown",
   "metadata": {},
   "source": [
    "## Open the file\n",
    "### Read a line at a time\n",
    "#### Print the line"
   ]
  },
  {
   "cell_type": "code",
   "execution_count": null,
   "metadata": {
    "scrolled": true
   },
   "outputs": [],
   "source": [
    "with open('sample.txt', 'r') as my_file:\n",
    "    for line in my_file:\n",
    "        print(line)"
   ]
  },
  {
   "cell_type": "markdown",
   "metadata": {},
   "source": [
    "## The 'with' clause closes the file when you exit the block"
   ]
  },
  {
   "cell_type": "markdown",
   "metadata": {},
   "source": [
    "# Crossword Puzzle Example"
   ]
  },
  {
   "cell_type": "code",
   "execution_count": null,
   "metadata": {
    "scrolled": true
   },
   "outputs": [],
   "source": [
    "print(\"Find four letter words ending in t\\n\")\n",
    "\n",
    "with open('../words.txt', 'r') as words:\n",
    "    for line in words:\n",
    "        if (len(line) == 4) and (line[-1] == 't'):\n",
    "            print(line)"
   ]
  },
  {
   "cell_type": "markdown",
   "metadata": {},
   "source": [
    "### What do we expect?  \n",
    "### What do we get?"
   ]
  },
  {
   "cell_type": "markdown",
   "metadata": {},
   "source": [
    "# Debug the issue with print - repr() shows representation"
   ]
  },
  {
   "cell_type": "code",
   "execution_count": null,
   "metadata": {
    "scrolled": true
   },
   "outputs": [],
   "source": [
    "print(\"Find four letter words ending in t\\n\")\n",
    "\n",
    "with open('../words.txt', 'r') as words:\n",
    "    for line in words:\n",
    "        print(repr(line))                           # <<<<<<< Debug\n",
    "        if (len(line) == 4) and (line[-1] == 't'):\n",
    "            print(line)"
   ]
  },
  {
   "cell_type": "markdown",
   "metadata": {},
   "source": [
    "# The problem is the trailing \\n"
   ]
  },
  {
   "cell_type": "markdown",
   "metadata": {},
   "source": [
    "## Look at the string method strip()\n",
    "## https://docs.python.org/3/library/stdtypes.html\n",
    "### Search for strip()"
   ]
  },
  {
   "cell_type": "code",
   "execution_count": null,
   "metadata": {
    "scrolled": true
   },
   "outputs": [],
   "source": [
    "print(\"Find four letter words ending in t\\n\")\n",
    "with open('../words.txt') as words:\n",
    "    for line in words:\n",
    "        line = line.strip()                          # <<<<<<<\n",
    "        if (len(line) == 4) and (line[-1] == 't'):\n",
    "            print(line)"
   ]
  },
  {
   "cell_type": "markdown",
   "metadata": {},
   "source": [
    "# Libraries"
   ]
  },
  {
   "cell_type": "code",
   "execution_count": null,
   "metadata": {},
   "outputs": [],
   "source": [
    "## DOS command - you **will** need to modify the starting spot\n",
    "\n",
    "! dir \\Users\\jparker\\anaconda3 /s > myfilelist.txt"
   ]
  },
  {
   "cell_type": "code",
   "execution_count": null,
   "metadata": {},
   "outputs": [],
   "source": [
    "import this"
   ]
  },
  {
   "cell_type": "code",
   "execution_count": null,
   "metadata": {},
   "outputs": [],
   "source": [
    "## Unix Command\n",
    "\n",
    "! find ~/anaconda3"
   ]
  },
  {
   "cell_type": "code",
   "execution_count": null,
   "metadata": {},
   "outputs": [],
   "source": [
    "## Unix Command\n",
    "\n",
    "!find ~/anaconda3 | grep turtle.py"
   ]
  },
  {
   "cell_type": "code",
   "execution_count": null,
   "metadata": {},
   "outputs": [],
   "source": [
    "!find ~/anaconda3 -name turtle.py"
   ]
  },
  {
   "cell_type": "markdown",
   "metadata": {},
   "source": [
    "```python\n",
    "/Users/jparker/anaconda3/pkgs/python-3.7.3-h359304d_0/lib/python3.7/turtle.py\n",
    "/Users/jparker/anaconda3/lib/python3.7/turtle.py\n",
    "```"
   ]
  },
  {
   "cell_type": "code",
   "execution_count": null,
   "metadata": {},
   "outputs": [],
   "source": [
    "!more /Users/jparker/anaconda3/lib/python3.7/turtle.py"
   ]
  },
  {
   "cell_type": "markdown",
   "metadata": {},
   "source": [
    "# Let's write our own library\n",
    "## We will export our leap year function\n",
    "### *Explore Dunder Name and Dunder Main*"
   ]
  },
  {
   "cell_type": "markdown",
   "metadata": {},
   "source": [
    "## You will often see the following\n",
    "```python\n",
    "if __name__ == \"__main__\":\n",
    "```\n",
    "## What is this about?"
   ]
  },
  {
   "cell_type": "code",
   "execution_count": null,
   "metadata": {},
   "outputs": [],
   "source": [
    "!grep __name__ /Users/jparker/anaconda3/lib/python3.7/turtle.py"
   ]
  },
  {
   "cell_type": "code",
   "execution_count": null,
   "metadata": {
    "scrolled": true
   },
   "outputs": [],
   "source": [
    "print(__name__)"
   ]
  },
  {
   "cell_type": "code",
   "execution_count": null,
   "metadata": {
    "scrolled": true
   },
   "outputs": [],
   "source": [
    "if __name__ == '__main__':\n",
    "    print('In the main program')"
   ]
  },
  {
   "cell_type": "code",
   "execution_count": null,
   "metadata": {
    "scrolled": true
   },
   "outputs": [],
   "source": [
    "!more leapyear.py"
   ]
  },
  {
   "cell_type": "markdown",
   "metadata": {},
   "source": [
    "## What I see\n",
    "```python\n",
    "# leapyear.py\n",
    "# Is this a Leap Year?\n",
    "# Real purpose is to explore libraries\n",
    "#\n",
    "# Usage:\n",
    "#      python leapyear.py\n",
    "#\n",
    "# Jeff Parker Sept 2019\n",
    "\n",
    "\n",
    "def is_leap_year(year: int) -> bool:\n",
    "    if year % 4:\n",
    "        return False\n",
    "    if year % 100:\n",
    "        return True\n",
    "    if year % 400:\n",
    "        return False\n",
    "    return True\n",
    "\n",
    "\n",
    "print(\"leapyear.py: name is:\", __name__)\n",
    "if __name__ == \"__main__\":\n",
    "    year = 2019 \n",
    "    print('Is', year, 'a leap year?', is_leap_year(2019))\n",
    "```"
   ]
  },
  {
   "cell_type": "code",
   "execution_count": null,
   "metadata": {},
   "outputs": [],
   "source": [
    "!python leapyear.py"
   ]
  },
  {
   "cell_type": "markdown",
   "metadata": {},
   "source": [
    "```python\n",
    "isleapyear.py: name is: __main__\n",
    "Is 2019 a leap year? False\n",
    "```"
   ]
  },
  {
   "cell_type": "markdown",
   "metadata": {},
   "source": [
    "# When would it not be __main__?\n",
    "# test_leapyear imports the library leapyear\n",
    "## *We have two files: each has a variable dunder name*"
   ]
  },
  {
   "cell_type": "code",
   "execution_count": null,
   "metadata": {
    "scrolled": true
   },
   "outputs": [],
   "source": [
    "! more test_leapyear.py"
   ]
  },
  {
   "cell_type": "markdown",
   "metadata": {},
   "source": [
    "```python\n",
    "# test_leapYear.py\n",
    "#\n",
    "# Use the leapyear library\n",
    "#\n",
    "# Usage:\n",
    "#      python test_leapyear.py\n",
    "#\n",
    "# Jeff Parker Sept 2019\n",
    "\n",
    "from leapyear import is_leap_year\n",
    "\n",
    "\n",
    "print('test_leapyear: Name is', __name__)\n",
    "\n",
    "year = 2019\n",
    "print(year, is_leap_year(year))\n",
    "```"
   ]
  },
  {
   "cell_type": "code",
   "execution_count": null,
   "metadata": {},
   "outputs": [],
   "source": [
    "!python test_leapyear.py"
   ]
  },
  {
   "cell_type": "markdown",
   "metadata": {},
   "source": [
    "```python\n",
    "leapyear.py: name is: leapyear\n",
    "test_leapyear: Name is __main__\n",
    "2019 False\n",
    "```"
   ]
  },
  {
   "cell_type": "markdown",
   "metadata": {
    "collapsed": true
   },
   "source": [
    "# Command Line Parameters - mycopy.py\n",
    "## *This does not run in Notebook - no argv*\n",
    "## Our first program with an interesting Usage line\n",
    "### *python mycopy.py original copy*"
   ]
  },
  {
   "cell_type": "code",
   "execution_count": null,
   "metadata": {
    "scrolled": true
   },
   "outputs": [],
   "source": [
    "# mycopy.py\n",
    "#\n",
    "# Copy file\n",
    "# Usage:\n",
    "#      % python mycopy.py original copy\n",
    "#\n",
    "# Jeff Parker, September, 2018\n",
    "\n",
    "import sys\n",
    "\n",
    "\n",
    "def copy(source: str, dest: str):\n",
    "    \"Copy one file to another\"\n",
    "\n",
    "    # Open the files\n",
    "    with open(source, 'r') as fin:\n",
    "        with open(dest, 'w') as fout:\n",
    "\n",
    "            # Iterate over the input, write to output\n",
    "            for line in fin:\n",
    "                :.write(line)\n",
    "\n",
    "\n",
    "if (len(sys.argv) == 3):\n",
    "    copy(sys.argv[1], sys.argv[2])\n",
    "else:\n",
    "    print(\"Usage: mycopy <from> <to>\")"
   ]
  },
  {
   "cell_type": "markdown",
   "metadata": {},
   "source": [
    "# Recursion in action - traverse a directory tree"
   ]
  },
  {
   "cell_type": "code",
   "execution_count": null,
   "metadata": {
    "scrolled": true
   },
   "outputs": [],
   "source": [
    "# DOS version\n",
    "! dir /s"
   ]
  },
  {
   "cell_type": "code",
   "execution_count": null,
   "metadata": {
    "scrolled": true
   },
   "outputs": [],
   "source": [
    "# Unix version\n",
    "! find ."
   ]
  },
  {
   "cell_type": "markdown",
   "metadata": {},
   "source": [
    "## I see\n",
    "### DOS users will see  \\__pycache__\\isvowel.cpython-37.pyc\n",
    "```python\n",
    ".\n",
    "./hanoi2.py\n",
    "./cross.py\n",
    "./hanoi.py\n",
    "./isvowel.py\n",
    "./Koch.py\n",
    "./reverse.py\n",
    "./__pycache__\n",
    "./__pycache__/isvowel.cpython-37.pyc\n",
    "./fakecopy.py\n",
    "./traverse.py\n",
    "./read2.py\n",
    "./cli.py\n",
    "./mycopy.py\n",
    "./Day4.ipynb\n",
    "./crossword.py\n",
    "./find.py\n",
    "./.ipynb_checkpoints\n",
    "./.ipynb_checkpoints/Day4-checkpoint.ipynb\n",
    "./double.py\n",
    "./square.py\n",
    "./day4.py\n",
    "./test_vowel.py\n",
    "./sample.txt\n",
    "./read.py\n",
    "./match.py\n",
    "```"
   ]
  },
  {
   "cell_type": "markdown",
   "metadata": {},
   "source": [
    "# Walk directory above current directory"
   ]
  },
  {
   "cell_type": "code",
   "execution_count": null,
   "metadata": {
    "scrolled": true
   },
   "outputs": [],
   "source": [
    "# walk.py\n",
    "#\n",
    "# List all files below a point in the file system\n",
    "#\n",
    "# Usage:\n",
    "#    python walk.py \n",
    "#\n",
    "# Based on Downey's Think Python, Chapter 14.4\n",
    "\n",
    "import os\n",
    "\n",
    "def walk(dirname):\n",
    "    \"Perform a recursive traverse of directories\"\n",
    "    \n",
    "    # Walk over the files in this directory\n",
    "    for name in os.listdir(dirname):\n",
    "\n",
    "        # Construct a full path\n",
    "        path = os.path.join(dirname, name)\n",
    "\n",
    "        # print filenames, and traverse directories\n",
    "        if os.path.isfile(path):\n",
    "            print(path)\n",
    "        else:\n",
    "            walk(path)\n",
    "\n",
    "\n",
    "walk('..')"
   ]
  },
  {
   "cell_type": "markdown",
   "metadata": {},
   "source": [
    "# Towers of Hanoi"
   ]
  },
  {
   "cell_type": "code",
   "execution_count": null,
   "metadata": {
    "scrolled": true
   },
   "outputs": [],
   "source": [
    "# Towers of Hanoi\n",
    "#\n",
    "# Mike Loukides\n",
    "# www.oreilly.com/ideas/towers-of-hanoi-every-cs-students-introduction-to-recursion\n",
    "\n",
    "def hanoi(height, frum, to, using):\n",
    "    \"Move height disks from frum to to\"\n",
    "    if (height > 0):\n",
    "        hanoi(height - 1, frum, using, to)\n",
    "        print(height, frum, '=>', to)\n",
    "        hanoi(height - 1, using, to, frum)\n",
    "\n",
    "hanoi(4, 'left  ', 'right ', 'middle')"
   ]
  },
  {
   "cell_type": "markdown",
   "metadata": {},
   "source": [
    "# Summary\n",
    "## Now we have loops, conditions, and functions\n",
    "## We can start to write interesting programs\n",
    "## We will start with extensions of the Crossword problem"
   ]
  },
  {
   "cell_type": "markdown",
   "metadata": {},
   "source": [
    "# Wow!  That's Fantastic!\n",
    "\n",
    "## Use Dan Gries' Fractal Maker to create your own fractal\n",
    "### *You may need to enable Flash*"
   ]
  },
  {
   "cell_type": "markdown",
   "metadata": {
    "collapsed": true
   },
   "source": [
    "## http://www.dangries.com/Flash/FractalMakerExp/FractalMaker_exp.html"
   ]
  }
 ],
 "metadata": {
  "kernelspec": {
   "display_name": "Python 3",
   "language": "python",
   "name": "python3"
  },
  "language_info": {
   "codemirror_mode": {
    "name": "ipython",
    "version": 3
   },
   "file_extension": ".py",
   "mimetype": "text/x-python",
   "name": "python",
   "nbconvert_exporter": "python",
   "pygments_lexer": "ipython3",
   "version": "3.8.3"
  }
 },
 "nbformat": 4,
 "nbformat_minor": 2
}
