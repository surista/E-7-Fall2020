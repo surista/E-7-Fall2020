{
 "cells": [
  {
   "cell_type": "markdown",
   "metadata": {},
   "source": [
    "# CLI - What is it good for?\n",
    "\n",
    "In this notebook we look at two things that the CLI can help up undetstand\n",
    "\n",
    "## This is going to get a bit geeky.  It is not on the quiz.  \n",
    "\n",
    "## Think of this as another \"Wow!  That's Fantastic\" (WTF) post\n",
    "\n",
    "## There are two topics:\n",
    "### What is the venv directory in PyCharm projects about?\n",
    "### What are letters made of?\n",
    "\n",
    "## This is a Unix Demo - you can perform some of this on Windows, but not all\n",
    "\n",
    "Windows has FC (File Compare) which is similar to diff\n",
    "\n",
    "To replace 'find' you can use dir /s, and we have developed walk \n",
    "\n",
    "We are working on a version of Octal Dump in Python: I'll be releasing a better version this week\n",
    "\n",
    "You can find the Ascii table here: https://en.wikipedia.org/wiki/ASCII\n",
    "\n",
    "### I'm not going to try to explain everything: I'm just going to try to get you to start wondering"
   ]
  },
  {
   "cell_type": "markdown",
   "metadata": {},
   "source": [
    "## Topic 1: What's with the venv?\n",
    "\n",
    "I have two PyCharm projects I will compare: Honeycomb and Yinyang"
   ]
  },
  {
   "cell_type": "code",
   "execution_count": null,
   "metadata": {},
   "outputs": [],
   "source": [
    "! find ~/Honeycomb"
   ]
  },
  {
   "cell_type": "markdown",
   "metadata": {},
   "source": [
    "### What I see\n",
    "\n",
    "```python\n",
    "/Users/jparker/Honeycomb\n",
    "/Users/jparker/Honeycomb/honeycomb.py\n",
    "/Users/jparker/Honeycomb/venv\n",
    "/Users/jparker/Honeycomb/venv/bin\n",
    "/Users/jparker/Honeycomb/venv/bin/pip3.7\n",
    "/Users/jparker/Honeycomb/venv/bin/python3\n",
    "/Users/jparker/Honeycomb/venv/bin/easy_install\n",
    "/Users/jparker/Honeycomb/venv/bin/python\n",
    "/Users/jparker/Honeycomb/venv/bin/pip3\n",
    "/Users/jparker/Honeycomb/venv/bin/activate.fish\n",
    "/Users/jparker/Honeycomb/venv/bin/easy_install-3.7\n",
    "/Users/jparker/Honeycomb/venv/bin/pip\n",
    "/Users/jparker/Honeycomb/venv/bin/activate\n",
    "/Users/jparker/Honeycomb/venv/bin/activate.csh\n",
    "/Users/jparker/Honeycomb/venv/include\n",
    "/Users/jparker/Honeycomb/venv/pyvenv.cfg\n",
    "...\n",
    "```\n",
    "\n",
    "and so on..."
   ]
  },
  {
   "cell_type": "markdown",
   "metadata": {},
   "source": [
    "### Here is a quick measure of the size"
   ]
  },
  {
   "cell_type": "code",
   "execution_count": null,
   "metadata": {},
   "outputs": [],
   "source": [
    "! du -h Honeycomb"
   ]
  },
  {
   "cell_type": "markdown",
   "metadata": {},
   "source": [
    "### What I see\n",
    "```python\n",
    "(base) jparker@Macintosh ~ % du -h Honeycomb \n",
    "8.0M\tHoneycomb/venv/bin\n",
    "  0B\tHoneycomb/venv/include\n",
    " 36K\tHoneycomb/venv/lib/python3.7/site-packages/pip-19.0.3-py3.7.egg/EGG-INFO\n",
    "140K\tHoneycomb/venv/lib/python3.7/site-packages/pip-19.0.3-py3.7.egg/pip/_internal/utils\n",
    " 24K\tHoneycomb/venv/lib/python3.7/site-packages/pip-19.0.3-py3.7.egg/pip/_internal/models\n",
    " 72K\tHoneycomb/venv/lib/python3.7/site-packages/pip-19.0.3-py3.7.egg/pip/_internal/cli\n",
    " 40K\tHoneycomb/venv/lib/python3.7/site-packages/pip-19.0.3-py3.7.egg/pip/_internal/operations\n",
    "108K\tHoneycomb/venv/lib/python3.7/site-packages/pip-19.0.3-py3.7.egg/pip/_internal/req\n",
    " 52K\tHoneycomb/venv/lib/python3.7/site-packages/pip-19.0.3-py3.7.egg/pip/_internal/vcs\n",
    "104K\tHoneycomb/venv/lib/python3.7/site-packages/pip-19.0.3-py3.7.egg/pip/_internal/commands\n",
    "756K\tHoneycomb/venv/lib/python3.7/site-packages/pip-19.0.3-py3.7.egg/pip/_internal\n",
    " 80K\tHoneycomb/venv/lib/python3.7/site-packages/pip-19.0.3-py3.7.egg/pip/_vendor/packaging\n",
    " 32K\tHoneycomb/venv/lib/python3.7/site-packages/pip-19.0.3-py3.7.egg/pip/_vendor/pytoml\n",
    " 48K\tHoneycomb/venv/lib/python3.7/site-packages/pip-19.0.3-py3.7.egg/pip/_vendor/msgpack\n",
    "8.0K\tHoneycomb/venv/lib/python3.7/site-packages/pip-19.0.3-py3.7.egg/pip/_vendor/chardet/cli\n",
    "444K\tHoneycomb/venv/lib/python3.7/site-packages/pip-19.0.3-py3.7.egg/pip/_vendor/chardet\n",
    " 44K\tHoneycomb/venv/lib/python3.7/site-packages/pip-19.0.3-py3.7.egg/pip/_vendor/webencodings\n",
    " 20K\tHoneycomb/venv/lib/python3.7/site-packages/pip-19.0.3-py3.7.egg/pip/_vendor/progress\n",
    " 52K\tHoneycomb/venv/lib/python3.7/site-packages/pip-19.0.3-py3.7.egg/pip/_vendor/pep517\n",
    "160K\tHoneycomb/venv/lib/python3.7/site-packages/pip-19.0.3-py3.7.egg/pip/_vendor/distlib/_backport\n",
    "936K\tHoneycomb/venv/lib/python3.7/site-packages/pip-19.0.3-py3.7.egg/pip/_vendor/distlib\n",
    " 40K\tHoneycomb/venv/lib/python3.7/site-packages/pip-19.0.3-py3.7.egg/pip/_vendor/colorama\n",
    " 40K\tHoneycomb/venv/lib/python3.7/site-packages/pip-19.0.3-py3.7.egg/pip/_vendor/lockfile\n",
    " 16K\tHoneycomb/venv/lib/python3.7/site-packages/pip-19.0.3-py3.7.egg/pip/_vendor/cachecontrol/caches\n",
    " 76K\tHoneycomb/venv/lib/python3.7/site-packages/pip-19.0.3-py3.7.egg/pip/_vendor/cachecontrol\n",
    "268K\tHoneycomb/venv/lib/python3.7/site-packages/pip-19.0.3-py3.7.egg/pip/_vendor/idna\n",
    "212K\tHoneycomb/venv/lib/python3.7/site-packages/pip-19.0.3-py3.7.egg/pip/_vendor/requests\n",
    " 60K\tHoneycomb/venv/lib/python3.7/site-packages/pip-19.0.3-py3.7.egg/pip/_vendor/html5lib/filters\n",
    " 40K\tHoneycomb/venv/lib/python3.7/site-packages/pip-19.0.3-py3.7.egg/pip/_vendor/html5lib/treewalkers\n",
    " 64K\tHoneycomb/venv/lib/python3.7/site-packages/pip-19.0.3-py3.7.egg/pip/_vendor/html5lib/treebuilders\n",
    " 16K\tHoneycomb/venv/lib/python3.7/site-packages/pip-19.0.3-py3.7.egg/pip/_vendor/html5lib/_trie\n",
    " 12K\tHoneycomb/venv/lib/python3.7/site-packages/pip-19.0.3-py3.7.egg/pip/_vendor/html5lib/treeadapters\n",
    "548K\tHoneycomb/venv/lib/python3.7/site-packages/pip-19.0.3-py3.7.egg/pip/_vendor/html5lib\n",
    "284K\tHoneycomb/venv/lib/python3.7/site-packages/pip-19.0.3-py3.7.egg/pip/_vendor/certifi\n",
    " 84K\tHoneycomb/venv/lib/python3.7/site-packages/pip-19.0.3-py3.7.egg/pip/_vendor/urllib3/util\n",
    " 32K\tHoneycomb/venv/lib/python3.7/site-packages/pip-19.0.3-py3.7.egg/pip/_vendor/urllib3/contrib/_securetransport\n",
    "112K\tHoneycomb/venv/lib/python3.7/site-packages/pip-19.0.3-py3.7.egg/pip/_vendor/urllib3/contrib\n",
    "4.0K\tHoneycomb/venv/lib/python3.7/site-packages/pip-19.0.3-py3.7.egg/pip/_vendor/urllib3/packages/backports\n",
    " 12K\tHoneycomb/venv/lib/python3.7/site-packages/pip-19.0.3-py3.7.egg/pip/_vendor/urllib3/packages/ssl_match_hostname\n",
    " 52K\tHoneycomb/venv/lib/python3.7/site-packages/pip-19.0.3-py3.7.egg/pip/_vendor/urllib3/packages\n",
    "392K\tHoneycomb/venv/lib/python3.7/site-packages/pip-19.0.3-py3.7.egg/pip/_vendor/urllib3\n",
    "108K\tHoneycomb/venv/lib/python3.7/site-packages/pip-19.0.3-py3.7.egg/pip/_vendor/pkg_resources\n",
    "4.0M\tHoneycomb/venv/lib/python3.7/site-packages/pip-19.0.3-py3.7.egg/pip/_vendor\n",
    "4.7M\tHoneycomb/venv/lib/python3.7/site-packages/pip-19.0.3-py3.7.egg/pip\n",
    "4.8M\tHoneycomb/venv/lib/python3.7/site-packages/pip-19.0.3-py3.7.egg\n",
    "5.3M\tHoneycomb/venv/lib/python3.7/site-packages\n",
    "5.3M\tHoneycomb/venv/lib/python3.7\n",
    "5.3M\tHoneycomb/venv/lib\n",
    " 13M\tHoneycomb/venv\n",
    "4.0K\tHoneycomb/.idea/inspectionProfiles\n",
    " 20K\tHoneycomb/.idea\n",
    " 13M\tHoneycomb\n",
    "```"
   ]
  },
  {
   "cell_type": "markdown",
   "metadata": {},
   "source": [
    "### 13 Meg - that isn't chopped liver!  \n",
    "\n",
    "### *Does every one of your projects take up 13Meg?*"
   ]
  },
  {
   "cell_type": "code",
   "execution_count": null,
   "metadata": {},
   "outputs": [],
   "source": [
    "! diff ~/Honeycomb ~/Yinyang"
   ]
  },
  {
   "cell_type": "markdown",
   "metadata": {},
   "source": [
    "### What I see\n",
    "```python\n",
    "Common subdirectories: /Users/jparker/Honeycomb/.idea and /Users/jparker/Yinyang/.idea\n",
    "Only in /Users/jparker/Honeycomb: honeycomb.py\n",
    "Common subdirectories: /Users/jparker/Honeycomb/venv and /Users/jparker/Yinyang/venv\n",
    "```\n",
    "\n",
    "### The file yinyang.py was placed under venv: honecomb.py was placed at the top level"
   ]
  },
  {
   "cell_type": "code",
   "execution_count": null,
   "metadata": {},
   "outputs": [],
   "source": [
    "! diff YinYang/venv Honeycomb/venv "
   ]
  },
  {
   "cell_type": "markdown",
   "metadata": {},
   "source": [
    "### What i see\n",
    "\n",
    "```python\n",
    "(base) jparker@Macintosh ~ % diff YinYang/venv Honeycomb/venv \n",
    "Common subdirectories: YinYang/venv/bin and Honeycomb/venv/bin\n",
    "Common subdirectories: YinYang/venv/include and Honeycomb/venv/include\n",
    "Common subdirectories: YinYang/venv/lib and Honeycomb/venv/lib\n",
    "Only in YinYang/venv: yinyang.py\n",
    "```"
   ]
  },
  {
   "cell_type": "code",
   "execution_count": null,
   "metadata": {},
   "outputs": [],
   "source": [
    "! diff ~/YinYang/venv/include ~/Honeycomb/venv/include "
   ]
  },
  {
   "cell_type": "markdown",
   "metadata": {},
   "source": [
    "### Bubkis\n",
    "\n",
    "No difference"
   ]
  },
  {
   "cell_type": "code",
   "execution_count": null,
   "metadata": {},
   "outputs": [],
   "source": [
    "! diff ~/YinYang/venv/lib ~/Honeycomb/venv/lib"
   ]
  },
  {
   "cell_type": "markdown",
   "metadata": {},
   "source": [
    "### What I see:\n",
    "\n",
    "```python\n",
    "Common subdirectories: /Users/jparker/YinYang/venv/lib/python3.7 and /Users/jparker/Honeycomb/venv/lib/python3.7\n",
    "```"
   ]
  },
  {
   "cell_type": "code",
   "execution_count": null,
   "metadata": {},
   "outputs": [],
   "source": [
    "! diff ~/YinYang/venv/bin ~/Honeycomb/venv/bin"
   ]
  },
  {
   "cell_type": "markdown",
   "metadata": {},
   "source": [
    "## Bingo!\n",
    "\n",
    "### What I see (I have added blank lines to help you read this...\n",
    "\n",
    "```python\n",
    "diff /Users/jparker/YinYang/venv/bin/activate /Users/jparker/Honeycomb/venv/bin/activate\n",
    "40c40\n",
    "< VIRTUAL_ENV=\"/Users/jparker/YinYang/venv\"\n",
    "---\n",
    "> VIRTUAL_ENV=\"/Users/jparker/Honeycomb/venv\"\n",
    "\n",
    "diff /Users/jparker/YinYang/venv/bin/activate.csh /Users/jparker/Honeycomb/venv/bin/activate.csh\n",
    "11c11\n",
    "< setenv VIRTUAL_ENV \"/Users/jparker/YinYang/venv\"\n",
    "---\n",
    "> setenv VIRTUAL_ENV \"/Users/jparker/Honeycomb/venv\"\n",
    "\n",
    "diff /Users/jparker/YinYang/venv/bin/activate.fish /Users/jparker/Honeycomb/venv/bin/activate.fish\n",
    "32c32\n",
    "< set -gx VIRTUAL_ENV \"/Users/jparker/YinYang/venv\"\n",
    "---\n",
    "> set -gx VIRTUAL_ENV \"/Users/jparker/Honeycomb/venv\"\n",
    "\n",
    "diff /Users/jparker/YinYang/venv/bin/easy_install /Users/jparker/Honeycomb/venv/bin/easy_install\n",
    "1c1\n",
    "< #!/Users/jparker/YinYang/venv/bin/python\n",
    "---\n",
    "> #!/Users/jparker/Honeycomb/venv/bin/python\n",
    "\n",
    "diff /Users/jparker/YinYang/venv/bin/easy_install-3.7 /Users/jparker/Honeycomb/venv/bin/easy_install-3.7\n",
    "1c1\n",
    "< #!/Users/jparker/YinYang/venv/bin/python\n",
    "---\n",
    "> #!/Users/jparker/Honeycomb/venv/bin/python\n",
    "\n",
    "diff /Users/jparker/YinYang/venv/bin/pip /Users/jparker/Honeycomb/venv/bin/pip\n",
    "1c1\n",
    "< #!/Users/jparker/YinYang/venv/bin/python\n",
    "---\n",
    "> #!/Users/jparker/Honeycomb/venv/bin/python\n",
    "\n",
    "diff /Users/jparker/YinYang/venv/bin/pip3 /Users/jparker/Honeycomb/venv/bin/pip3\n",
    "1c1\n",
    "< #!/Users/jparker/YinYang/venv/bin/python\n",
    "---\n",
    "> #!/Users/jparker/Honeycomb/venv/bin/python\n",
    "\n",
    "diff /Users/jparker/YinYang/venv/bin/pip3.7 /Users/jparker/Honeycomb/venv/bin/pip3.7\n",
    "1c1\n",
    "< #!/Users/jparker/YinYang/venv/bin/python\n",
    "---\n",
    "> #!/Users/jparker/Honeycomb/venv/bin/python\n",
    "```"
   ]
  },
  {
   "cell_type": "markdown",
   "metadata": {},
   "source": [
    "### The bin directory is full of small files that tell PyCharm what to do.  Let's look at one:"
   ]
  },
  {
   "cell_type": "code",
   "execution_count": null,
   "metadata": {},
   "outputs": [],
   "source": [
    "! more ~/YinYang/venv/bin/easy_install"
   ]
  },
  {
   "cell_type": "markdown",
   "metadata": {},
   "source": [
    "### What I see\n",
    "\n",
    "```python\n",
    "#!/Users/jparker/YinYang/venv/bin/python\n",
    "# EASY-INSTALL-ENTRY-SCRIPT: 'setuptools==40.8.0','console_scripts','easy_install'\n",
    "__requires__ = 'setuptools==40.8.0'\n",
    "import re\n",
    "import sys\n",
    "from pkg_resources import load_entry_point\n",
    "\n",
    "if __name__ == '__main__':\n",
    "    sys.argv[0] = re.sub(r'(-script\\.pyw?|\\.exe)?$', '', sys.argv[0])\n",
    "    sys.exit(\n",
    "        load_entry_point('setuptools==40.8.0', 'console_scripts', 'easy_install')()\n",
    "    )\n",
    "```"
   ]
  },
  {
   "cell_type": "markdown",
   "metadata": {},
   "source": [
    "### What does that mean?\n",
    "\n",
    "Notice the line we've seen so often\n",
    "\n",
    "```python\n",
    "    if __name__ == '__main__':\n",
    "```"
   ]
  },
  {
   "cell_type": "markdown",
   "metadata": {},
   "source": [
    "# Summation\n",
    "\n",
    "PyCharm creates a Virtual Environment (venv) in the project which holds links to the Python environment\n",
    "\n",
    "Each project has it's own files in /bin, but probably shares the files in /venv\n"
   ]
  },
  {
   "cell_type": "markdown",
   "metadata": {},
   "source": [
    "## Topic 2: What is a letter made of?\n",
    "\n",
    "We create a small file with three lines: 15 digits, 15 lower case letters, 15 upper case letters\n",
    "\n",
    "We use 15 to help lay out the information: we will use Octal Dump, which prints lines of 16 characters"
   ]
  },
  {
   "cell_type": "code",
   "execution_count": null,
   "metadata": {},
   "outputs": [],
   "source": [
    "! more letters.txt"
   ]
  },
  {
   "cell_type": "markdown",
   "metadata": {},
   "source": [
    "### What I see\n",
    "\n",
    "```python\n",
    "123456789012345\n",
    "abcdefghijklmno\n",
    "ABCDEFGHIJKLMNO\n",
    "```"
   ]
  },
  {
   "cell_type": "markdown",
   "metadata": {},
   "source": [
    "### Let's dig in"
   ]
  },
  {
   "cell_type": "code",
   "execution_count": null,
   "metadata": {},
   "outputs": [],
   "source": [
    "! od letters.txt"
   ]
  },
  {
   "cell_type": "code",
   "execution_count": null,
   "metadata": {},
   "outputs": [],
   "source": [
    "```python\n",
    "0000000    031061  032063  033065  034067  030071  031061  032063  005065\n",
    "0000020    061141  062143  063145  064147  065151  066153  067155  005157\n",
    "0000040    041101  042103  043105  044107  045111  046113  047115  005117\n",
    "0000060\n",
    "```"
   ]
  },
  {
   "cell_type": "markdown",
   "metadata": {},
   "source": [
    "### Not very helpful.  Octal takes 3 bits at a time, and today bytes are 8 bits"
   ]
  },
  {
   "cell_type": "code",
   "execution_count": null,
   "metadata": {},
   "outputs": [],
   "source": [
    "! man od"
   ]
  },
  {
   "cell_type": "markdown",
   "metadata": {},
   "source": [
    "```python\n",
    "OD(1)                     BSD General Commands Manual                    OD(1)\n",
    "\n",
    "NAME\n",
    "     od -- octal, decimal, hex, ASCII dump\n",
    "\n",
    "SYNOPSIS\n",
    "     od [-aBbcDdeFfHhIiLlOosvXx] [-A base] [-j skip] [-N length] [-t type]\n",
    "        [[+]offset[.][Bb]] [file ...]\n",
    "\n",
    "DESCRIPTION\n",
    "     The od utility is a filter which displays the specified files, or stan-\n",
    "     dard input if no files are specified, in a user specified format.\n",
    "\n",
    "     The options are as follows:\n",
    "\n",
    "     -A base     Specify the input address base.  base may be one of d, o, x\n",
    "                 or n, which specify decimal, octal, hexadecimal addresses or\n",
    "                 no address, respectively.\n",
    "\n",
    "     -a          Output named characters.  Equivalent to -t a.\n",
    "\n",
    "     -B, -o      Output octal shorts.  Equivalent to -t o2.\n",
    "\n",
    "     -b          Output octal bytes.  Equivalent to -t o1.\n",
    "\n",
    "     -c          Output C-style escaped characters.  Equivalent to -t c.\n",
    "...\n",
    "```"
   ]
  },
  {
   "cell_type": "code",
   "execution_count": null,
   "metadata": {},
   "outputs": [],
   "source": [
    "## Try -c, for characters first\n",
    "\n",
    "! od -c letters.txt"
   ]
  },
  {
   "cell_type": "markdown",
   "metadata": {},
   "source": [
    "```python\n",
    "0000000    1   2   3   4   5   6   7   8   9   0   1   2   3   4   5  \\n\n",
    "0000020    a   b   c   d   e   f   g   h   i   j   k   l   m   n   o  \\n\n",
    "0000040    A   B   C   D   E   F   G   H   I   J   K   L   M   N   O  \\n\n",
    "0000060\n",
    "```"
   ]
  },
  {
   "cell_type": "markdown",
   "metadata": {},
   "source": [
    "### We see the digits, the lower case letters, and the upper case letters\n",
    "\n",
    "## Let's print each byte by itself"
   ]
  },
  {
   "cell_type": "code",
   "execution_count": null,
   "metadata": {},
   "outputs": [],
   "source": [
    "! od -b letters.txt"
   ]
  },
  {
   "cell_type": "markdown",
   "metadata": {},
   "source": [
    "### What this tells us is that lower case letters and upper case letters are almost the same\n",
    "### They differ only in bit six"
   ]
  },
  {
   "cell_type": "code",
   "execution_count": null,
   "metadata": {},
   "outputs": [],
   "source": [
    "! man ascii"
   ]
  },
  {
   "cell_type": "markdown",
   "metadata": {},
   "source": [
    "```python\n",
    "ASCII(7)             BSD Miscellaneous Information Manual             ASCII(7)\n",
    "\n",
    "NAME\n",
    "     ascii -- octal, hexadecimal and decimal ASCII character sets\n",
    "\n",
    "DESCRIPTION\n",
    "     The octal set:\n",
    "\n",
    "     000 nul  001 soh  002 stx  003 etx  004 eot  005 enq  006 ack  007 bel\n",
    "     010 bs   011 ht   012 nl   013 vt   014 np   015 cr   016 so   017 si\n",
    "     020 dle  021 dc1  022 dc2  023 dc3  024 dc4  025 nak  026 syn  027 etb\n",
    "     030 can  031 em   032 sub  033 esc  034 fs   035 gs   036 rs   037 us\n",
    "     040 sp   041  !   042  \"   043  #   044  $   045  %   046  &   047  '\n",
    "     050  (   051  )   052  *   053  +   054  ,   055  -   056  .   057  /\n",
    "     060  0   061  1   062  2   063  3   064  4   065  5   066  6   067  7\n",
    "     070  8   071  9   072  :   073  ;   074  <   075  =   076  >   077  ?\n",
    "     100  @   101  A   102  B   103  C   104  D   105  E   106  F   107  G\n",
    "     110  H   111  I   112  J   113  K   114  L   115  M   116  N   117  O\n",
    "     120  P   121  Q   122  R   123  S   124  T   125  U   126  V   127  W\n",
    "     130  X   131  Y   132  Z   133  [   134  \\   135  ]   136  ^   137  _\n",
    "     140  `   141  a   142  b   143  c   144  d   145  e   146  f   147  g\n",
    "     150  h   151  i   152  j   153  k   154  l   155  m   156  n   157  o\n",
    "     160  p   161  q   162  r   163  s   164  t   165  u   166  v   167  w\n",
    "     170  x   171  y   172  z   173  {   174  |   175  }   176  ~   177 del\n",
    "\n",
    "...\n",
    "```"
   ]
  },
  {
   "cell_type": "markdown",
   "metadata": {},
   "source": [
    "### This just confirms what we suspected: upper and lower case letters differ in a signle bit"
   ]
  },
  {
   "cell_type": "markdown",
   "metadata": {},
   "source": [
    "## Let's print two bytes at a time"
   ]
  },
  {
   "cell_type": "code",
   "execution_count": null,
   "metadata": {},
   "outputs": [],
   "source": [
    "! od -x letters.txt"
   ]
  },
  {
   "cell_type": "markdown",
   "metadata": {},
   "source": [
    "### What I see\n",
    "\n",
    "```python\n",
    "0000000      3231    3433    3635    3837    3039    3231    3433    0a35\n",
    "0000020      6261    6463    6665    6867    6a69    6c6b    6e6d    0a6f\n",
    "0000040      4241    4443    4645    4847    4a49    4c4b    4e4d    0a4f\n",
    "0000060\n",
    "```"
   ]
  },
  {
   "cell_type": "markdown",
   "metadata": {},
   "source": [
    "\n",
    "### I'm not going to try to explain this now, but notice that the numbers are not ascending: 32, 31, 34, 33,....\n",
    "### My machine is little-endian - something we'll discuss a bit when we look at pickle"
   ]
  },
  {
   "cell_type": "code",
   "execution_count": null,
   "metadata": {},
   "outputs": [],
   "source": []
  }
 ],
 "metadata": {
  "kernelspec": {
   "display_name": "Python 3",
   "language": "python",
   "name": "python3"
  },
  "language_info": {
   "codemirror_mode": {
    "name": "ipython",
    "version": 3
   },
   "file_extension": ".py",
   "mimetype": "text/x-python",
   "name": "python",
   "nbconvert_exporter": "python",
   "pygments_lexer": "ipython3",
   "version": "3.8.1"
  }
 },
 "nbformat": 4,
 "nbformat_minor": 4
}
