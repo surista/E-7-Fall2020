{
 "cells": [
  {
   "cell_type": "markdown",
   "metadata": {},
   "source": [
    "# Finding Repeats\n",
    "## Nov 2020\n",
    "\n",
    "DNA often has repeats, due to the activity of transposons.\n",
    "\n",
    "Repeats complicate the task of sequencing the genome, which is done by piecing together short subsequences. \n",
    "If the repeat is longer than the typical subsequence, it is difficult to know which copy of a repeat a sequence preceeds or follows.  \n",
    "\n",
    "### The problem\n",
    "\n",
    "Given a string 'text', we are looking for a tripple t = (length, pos1, pos2) such that pos1 != pos2 and\n",
    "\n",
    "```python\n",
    "    text[pos1:pos1 + length] == text[pos2:pos2 + length] \n",
    "```\n",
    "\n",
    "### Special Cases\n",
    "\n",
    "There are Tandem Repeats, where pos2 ~ pos1 + length, such as 'Duran Duran'.   \n",
    "\n",
    "```python\n",
    "    Duran Duran\n",
    "          Duran Duran\n",
    "```\n",
    "\n",
    "(See Murmur at the poetry slam: http://www.ironicsans.com/2007/05/murmur_at_the_poetry_slam.html)\n",
    "\n",
    "There are overlap repeats such as AGAGAGAGAG inside AGAGAGAGAGAG, where pos1 = 0, pos2 = 2 and length = 10\n",
    "\n",
    "```python\n",
    "    AGAGAGAGAGAG\n",
    "      AGAGAGAGAG AG\n",
    "```"
   ]
  },
  {
   "cell_type": "markdown",
   "metadata": {},
   "source": [
    "## Algorithm 1\n",
    "\n",
    "Iterate over all pairs pos1, pos2, with pos1 < pos2, and compare the strings\n",
    "\n",
    "*We can move the starting point for pos2 to avoid overlap*\n",
    "\n",
    "Remember the largest match seen\n",
    "\n",
    "```python\n",
    "    for pos1 in range(len(text)):\n",
    "        for pos2 in range(pos1 + 1, len(text)):\n",
    "            find largest length such that text[pos1:pos1 + length] == text[pos2:pos2 + length]\n",
    "            If this is greater than current max, remember it\n",
    "```\n",
    "We are looking at N^2 spots, and testing in each spot"
   ]
  },
  {
   "cell_type": "markdown",
   "metadata": {},
   "source": [
    "## Algorithm 2\n",
    "\n",
    "For each position, pos1, see how long a mach we can find\n",
    "\n",
    "```python\n",
    "    for pos1 in range(len(text)):\n",
    "        increase ln until we cannot find a match in text[pos1+1:] \n",
    "        If this is greater than current max, remember it\n",
    "```\n",
    "\n",
    "We can use Python's 'in' and 'find()' to speed this up.\n",
    "\n",
    "We are looking at N starting positions, and searching for a matchin sequence.\n",
    "\n",
    "No need to search for strings shorter than what we've already found."
   ]
  },
  {
   "cell_type": "markdown",
   "metadata": {},
   "source": [
    "## Algorithm 3\n",
    "\n",
    "This is a special case of the Smith-Waterman ocal alignment problem. \n",
    "\n",
    "See the figure here: https://en.wikipedia.org/wiki/Smith–Waterman_algorithm\n",
    "\n",
    "We build an array holding the length of a match.  For example, look for repeats in the string \"AGGCTAGCT\"\n",
    "    \n",
    "We are looking for large values off the diagonal - I've bumped the longest match (3) so it will pop out.  \n",
    "\n",
    "```python\n",
    "          A  G  G  C  T  A  G  C  T  \n",
    "       0  0  0  0  0  0  0  0  0  0\n",
    "    A  0  1  0  0  0  0  1  0  0  0\n",
    "    G  0  0  2  1  0  0  0  2  0  0\n",
    "    G  0  0  1  3  0  0  0  1  0  0\n",
    "    C  0  0  0  0  4  0  0  0  2  0\n",
    "    T  0  0  0  0  0  5  0  0  0   3\n",
    "    A  0  1  0  0  0  0  6  0  0  0\n",
    "    G  0  0  2  1  0  0  0  7  0  0\n",
    "    C  0  0  0  0  2  0  0  0  8  0\n",
    "    T  0  0  0  0  0  3  0  0  0  9\n",
    "```"
   ]
  },
  {
   "cell_type": "markdown",
   "metadata": {},
   "source": [
    "## The code fragment below shows how to deal with a 2-D array, stored as a list of lists"
   ]
  },
  {
   "cell_type": "code",
   "execution_count": null,
   "metadata": {},
   "outputs": [],
   "source": [
    "# Pretty Print the array\n",
    "#     table      - array holding tableau to print\n",
    "#     str1, str2 - strings being aligned\n",
    "def printArray(table, str1, str2):\n",
    "\n",
    "    # Print the column headings\n",
    "    print(\"   \", end = '')         # Add spacing\n",
    "    for c in range(len(str2)):\n",
    "        print(str2[c], \" \", end = '')    # Try to match field below\n",
    "    print()\n",
    "\n",
    "    # Print the contents\n",
    "    for r in range(len(str1)):\n",
    "\n",
    "        # Print the row headings\n",
    "        print(str1[r], end= '')\n",
    "\n",
    "        # Print the row\n",
    "        for c in range(len(str2)):\n",
    "            print(repr(table[r][c]).rjust(3), end= '')   # Field width of 3\n",
    "        print()                # Newline\n",
    "    print()                    # Blank line at end"
   ]
  },
  {
   "cell_type": "markdown",
   "metadata": {},
   "source": [
    "### Just look at top right\n",
    "\n",
    "Focus on the array: align \"AGGCTAGCT\"\n",
    "    \n",
    "We are looking for large values off the diagonal\n",
    "\n",
    "```python\n",
    "      A  G  G  C  T  A  G  C  T  \n",
    "      0  0  0  0  0  0  0  0  0\n",
    "A        0  0  0  0  1  0  0  0\n",
    "G           1  0  0  0  2  0  0\n",
    "G              0  0  0  1  0  0\n",
    "C                 0  0  0  2  0\n",
    "T                    0  0  0  3\n",
    "A                       0  0  0\n",
    "G                          0  0\n",
    "C                             0\n",
    "T                            \n",
    "```"
   ]
  },
  {
   "cell_type": "markdown",
   "metadata": {},
   "source": [
    "### Prune further\n",
    "\n",
    "Focus on the array: align \"AGGCTAGCT\"\n",
    "    \n",
    "We are looking for large values off the diagonal\n",
    "\n",
    "Focus on the key parts\n",
    "\n",
    "```python\n",
    "                     A  G  C  T  \n",
    "      \n",
    "A                    1 \n",
    "G                    0  2  \n",
    "G                       1 \n",
    "C                          2  \n",
    "T                             3                         \n",
    "```"
   ]
  },
  {
   "cell_type": "markdown",
   "metadata": {},
   "source": [
    "## Algorithm 4\n",
    "\n",
    "Algorithm 3 creates a large matrix\n",
    "\n",
    "We don't need the full matrix: can work with current row and previous row."
   ]
  },
  {
   "cell_type": "markdown",
   "metadata": {},
   "source": [
    "## Algorithm 5 - The Suffix Tree \n",
    "\n",
    "Excellent algorithm, but the Data structure is too complicated to discuss in this course.  \n",
    "    \n",
    "However, we can use the ideas in the next algorithm.  "
   ]
  },
  {
   "cell_type": "markdown",
   "metadata": {},
   "source": [
    "## Algorithm 6: Sort and Search\n",
    "\n",
    "Take our string\n",
    "\n",
    "```python\n",
    "    text = \"AGGCTAGCT\"\n",
    "```\n",
    "\n",
    "Build a list of suffixes of the string\n",
    "\n",
    "```python\n",
    "    lst = [ text[i:] for i in range(len(text))]\n",
    "```"
   ]
  },
  {
   "cell_type": "code",
   "execution_count": null,
   "metadata": {},
   "outputs": [],
   "source": [
    "text = \"AGGCTAGCT\"\n",
    "lst = [ text[i:] for i in range(len(text))]\n",
    "for item in lst:\n",
    "    print(item)"
   ]
  },
  {
   "cell_type": "markdown",
   "metadata": {},
   "source": [
    "## Sort the list"
   ]
  },
  {
   "cell_type": "code",
   "execution_count": null,
   "metadata": {},
   "outputs": [],
   "source": [
    "text = \"AGGCTAGCT\"\n",
    "lst = [ text[i:] for i in range(len(text))]\n",
    "for item in sorted(lst):\n",
    "    print(item)"
   ]
  },
  {
   "cell_type": "markdown",
   "metadata": {},
   "source": [
    "## Look at adjacent strings, and find best initial match\n",
    "```python\n",
    "    AG CT\n",
    "    AG GCTAGCT\n",
    "    CT\n",
    "    CT AGCT\n",
    "    GCT\n",
    "    GCT AGCT\n",
    "    GGCTAGCT\n",
    "    T\n",
    "    T AGCT\n",
    "```"
   ]
  },
  {
   "cell_type": "markdown",
   "metadata": {},
   "source": [
    "## Drawbacks\n",
    "\n",
    "The list of suffixes has Quadratic size\n",
    "\n",
    "*Don't really need the strings: all we need is the index to the first item*\n",
    "\n",
    "Hard to sort based on that representation.  Python 2 let you define a cmp() function - there are workarounds in Python 3"
   ]
  },
  {
   "cell_type": "code",
   "execution_count": null,
   "metadata": {},
   "outputs": [],
   "source": [
    "text = 'AACCAACCCTTGGCAGAACATATCCATCGCGTCCGCCATCTCCAGCAGCCGCACGCGGCGCATCTCGGGCAGCGTTGGGTCCTGGCCACGGGTG'"
   ]
  },
  {
   "cell_type": "code",
   "execution_count": null,
   "metadata": {},
   "outputs": [],
   "source": [
    "lst = [ text[i:] for i in range(len(text))]\n",
    "for item in sorted(lst):\n",
    "    print(item)"
   ]
  },
  {
   "cell_type": "markdown",
   "metadata": {},
   "source": [
    "## Scroll down for a match of length 6\n",
    "\n",
    "```python\n",
    "    AAC ATATCCATCGCGTCCGCCATCTCCAGCAGCCGCACGCGGCGCATCTCGGGCAGCGTTGGGTCCTGGCCACGGGTG\n",
    "    AACC AACCCTTGGCAGAACATATCCATCGCGTCCGCCATCTCCAGCAGCCGCACGCGGCGCATCTCGGGCAGCGTTGGGTCCTGGCCACGGGTG\n",
    "    AACC CTTGGCAGAACATATCCATCGCGTCCGCCATCTCCAGCAGCCGCACGCGGCGCATCTCGGGCAGCGTTGGGTCCTGGCCACGGGTG\n",
    "    ACATATCCATCGCGTCCGCCATCTCCAGCAGCCGCACGCGGCGCATCTCGGGCAGCGTTGGGTCCTGGCCACGGGTG\n",
    "    ACC AACCCTTGGCAGAACATATCCATCGCGTCCGCCATCTCCAGCAGCCGCACGCGGCGCATCTCGGGCAGCGTTGGGTCCTGGCCACGGGTG\n",
    "    ACC CTTGGCAGAACATATCCATCGCGTCCGCCATCTCCAGCAGCCGCACGCGGCGCATCTCGGGCAGCGTTGGGTCCTGGCCACGGGTG\n",
    "    ACGCGGCGCATCTCGGGCAGCGTTGGGTCCTGGCCACGGGTG\n",
    "    ACGGGTG\n",
    "    AGAACATATCCATCGCGTCCGCCATCTCCAGCAGCCGCACGCGGCGCATCTCGGGCAGCGTTGGGTCCTGGCCACGGGTG\n",
    "    AGCAGCCGCACGCGGCGCATCTCGGGCAGCGTTGGGTCCTGGCCACGGGTG\n",
    "    AGCCGCACGCGGCGCATCTCGGGCAGCGTTGGGTCCTGGCCACGGGTG\n",
    "    AGCGTTGGGTCCTGGCCACGGGTG\n",
    "    ATATCCATCGCGTCCGCCATCTCCAGCAGCCGCACGCGGCGCATCTCGGGCAGCGTTGGGTCCTGGCCACGGGTG\n",
    "    ATC CATCGCGTCCGCCATCTCCAGCAGCCGCACGCGGCGCATCTCGGGCAGCGTTGGGTCCTGGCCACGGGTG\n",
    "    ATC GCGTCCGCCATCTCCAGCAGCCGCACGCGGCGCATCTCGGGCAGCGTTGGGTCCTGGCCACGGGTG\n",
    "    ATCTC CAGCAGCCGCACGCGGCGCATCTCGGGCAGCGTTGGGTCCTGGCCACGGGTG\n",
    "    ATCTC GGGCAGCGTTGGGTCCTGGCCACGGGTG\n",
    "    CAACCCTTGGCAGAACATATCCATCGCGTCCGCCATCTCCAGCAGCCGCACGCGGCGCATCTCGGGCAGCGTTGGGTCCTGGCCACGGGTG\n",
    "    CACGCGGCGCATCTCGGGCAGCGTTGGGTCCTGGCCACGGGTG\n",
    "    CACGGGTG\n",
    "    CAGAACATATCCATCGCGTCCGCCATCTCCAGCAGCCGCACGCGGCGCATCTCGGGCAGCGTTGGGTCCTGGCCACGGGTG\n",
    "    CAGCAGCCGCACGCGGCGCATCTCGGGCAGCGTTGGGTCCTGGCCACGGGTG\n",
    "    CAGCCGCACGCGGCGCATCTCGGGCAGCGTTGGGTCCTGGCCACGGGTG\n",
    "    CAGCGTTGGGTCCTGGCCACGGGTG\n",
    "    CATATCCATCGCGTCCGCCATCTCCAGCAGCCGCACGCGGCGCATCTCGGGCAGCGTTGGGTCCTGGCCACGGGTG\n",
    "    CATCGCGTCCGCCATCTCCAGCAGCCGCACGCGGCGCATCTCGGGCAGCGTTGGGTCCTGGCCACGGGTG\n",
    "    CATCTC CAGCAGCCGCACGCGGCGCATCTCGGGCAGCGTTGGGTCCTGGCCACGGGTG\n",
    "    CATCTC GGGCAGCGTTGGGTCCTGGCCACGGGTG\n",
    " \n",
    "```"
   ]
  },
  {
   "cell_type": "markdown",
   "metadata": {},
   "source": [
    "## Algorithm 7: Doubling Table\n",
    "\n",
    "Build a Dictionary mapping sequences of a fixed length to the positions seen in the string."
   ]
  },
  {
   "cell_type": "code",
   "execution_count": 2,
   "metadata": {},
   "outputs": [],
   "source": [
    "text = 'AACCAACCCTTGGCAGAACATATCCATCGCGTCCGCCATCTCCAGCAGCCGCACGCGGCGCATCTCGGGCAGCGTTGGGTCCTGGCCACGGGTG'"
   ]
  },
  {
   "cell_type": "code",
   "execution_count": 5,
   "metadata": {},
   "outputs": [
    {
     "name": "stdout",
     "output_type": "stream",
     "text": [
      "AACCA [0]\n",
      "ACCAA [1]\n",
      "CCAAC [2]\n",
      "CAACC [3]\n",
      "AACCC [4]\n",
      "ACCCT [5]\n",
      "CCCTT [6]\n",
      "CCTTG [7]\n",
      "CTTGG [8]\n",
      "TTGGC [9]\n",
      "TGGCA [10]\n",
      "GGCAG [11, 67]\n",
      "GCAGA [12]\n",
      "CAGAA [13]\n",
      "AGAAC [14]\n",
      "GAACA [15]\n",
      "AACAT [16]\n",
      "ACATA [17]\n",
      "CATAT [18]\n",
      "ATATC [19]\n",
      "TATCC [20]\n",
      "ATCCA [21]\n",
      "TCCAT [22]\n",
      "CCATC [23, 35]\n",
      "CATCG [24]\n",
      "ATCGC [25]\n",
      "TCGCG [26]\n",
      "CGCGT [27]\n",
      "GCGTC [28]\n",
      "CGTCC [29]\n",
      "GTCCG [30]\n",
      "TCCGC [31]\n",
      "CCGCC [32]\n",
      "CGCCA [33]\n",
      "GCCAT [34]\n",
      "CATCT [36, 60]\n",
      "ATCTC [37, 61]\n",
      "TCTCC [38]\n",
      "CTCCA [39]\n",
      "TCCAG [40]\n",
      "CCAGC [41]\n",
      "CAGCA [42]\n",
      "AGCAG [43]\n",
      "GCAGC [44, 68]\n",
      "CAGCC [45]\n",
      "AGCCG [46]\n",
      "GCCGC [47]\n",
      "CCGCA [48]\n",
      "CGCAC [49]\n",
      "GCACG [50]\n",
      "CACGC [51]\n",
      "ACGCG [52]\n",
      "CGCGG [53]\n",
      "GCGGC [54]\n",
      "CGGCG [55]\n",
      "GGCGC [56]\n",
      "GCGCA [57]\n",
      "CGCAT [58]\n",
      "GCATC [59]\n",
      "TCTCG [62]\n",
      "CTCGG [63]\n",
      "TCGGG [64]\n",
      "CGGGC [65]\n",
      "GGGCA [66]\n",
      "CAGCG [69]\n",
      "AGCGT [70]\n",
      "GCGTT [71]\n",
      "CGTTG [72]\n",
      "GTTGG [73]\n",
      "TTGGG [74]\n",
      "TGGGT [75]\n",
      "GGGTC [76]\n",
      "GGTCC [77]\n",
      "GTCCT [78]\n",
      "TCCTG [79]\n",
      "CCTGG [80]\n",
      "CTGGC [81]\n",
      "TGGCC [82]\n",
      "GGCCA [83]\n",
      "GCCAC [84]\n",
      "CCACG [85]\n",
      "CACGG [86]\n",
      "ACGGG [87]\n",
      "CGGGT [88]\n",
      "GGGTG [89]\n",
      "GGTG [90]\n",
      "GTG [91]\n",
      "TG [92]\n",
      "G [93]\n"
     ]
    }
   ],
   "source": [
    "from collections import defaultdict\n",
    "\n",
    "d = defaultdict(list)\n",
    "\n",
    "for i in range(len(text)):\n",
    "    d[text[i:i+5]].append(i)\n",
    "    \n",
    "for key in d:\n",
    "    print(key, d[key])"
   ]
  },
  {
   "cell_type": "markdown",
   "metadata": {},
   "source": [
    "## What does this mean?\n",
    "\n",
    "```python\n",
    "    TGGCA [10]\n",
    "    GGCAG [11, 67]\n",
    "```\n",
    "\n",
    "This says that text[10:15] is TGGCA, and GGCAG appears twice: once as text[11:16] and once as text[67:72]"
   ]
  },
  {
   "cell_type": "markdown",
   "metadata": {},
   "source": [
    "## Look at the repeats"
   ]
  },
  {
   "cell_type": "code",
   "execution_count": 6,
   "metadata": {},
   "outputs": [
    {
     "name": "stdout",
     "output_type": "stream",
     "text": [
      "GGCAG [11, 67]\n",
      "CCATC [23, 35]\n",
      "CATCT [36, 60]\n",
      "ATCTC [37, 61]\n",
      "GCAGC [44, 68]\n"
     ]
    }
   ],
   "source": [
    "for key in d:\n",
    "    if len(d[key]) > 1:\n",
    "        print(key, d[key])"
   ]
  },
  {
   "cell_type": "markdown",
   "metadata": {},
   "source": [
    "## There are 5 repeats of length 5\n",
    "\n",
    "```python\n",
    "    GGCAG [11, 67]\n",
    "    CCATC [23, 35]\n",
    "    CATCT [36, 60]\n",
    "    ATCTC [37, 61]\n",
    "    GCAGC [44, 68]\n",
    "```\n",
    "\n",
    "One of them is two views of a repeat of length 6\n",
    "\n",
    "```python\n",
    "    CATCT [36, 60]\n",
    "    ATCTC [37, 61]\n",
    "    \n",
    "    CATCTC\n",
    "```"
   ]
  },
  {
   "cell_type": "markdown",
   "metadata": {},
   "source": [
    "## Idea\n",
    "\n",
    "We create a sequence of dictionaries with keys of increasing length\n",
    "\n",
    "At each stage we can elimate keys that only appear once, such as 'GCCAT' above.\n",
    "\n",
    "This gives us a smaller set of candidates to investigate\n",
    "\n",
    "There is a tradeoff here: the longer the key, the faster we can winnow out the set.\n",
    "However, longer keys require more storage.  "
   ]
  },
  {
   "cell_type": "markdown",
   "metadata": {},
   "source": [
    "## Note: this was by far the fastest approach of the ones I tried.  "
   ]
  },
  {
   "cell_type": "code",
   "execution_count": null,
   "metadata": {},
   "outputs": [],
   "source": []
  }
 ],
 "metadata": {
  "kernelspec": {
   "display_name": "Python 3",
   "language": "python",
   "name": "python3"
  },
  "language_info": {
   "codemirror_mode": {
    "name": "ipython",
    "version": 3
   },
   "file_extension": ".py",
   "mimetype": "text/x-python",
   "name": "python",
   "nbconvert_exporter": "python",
   "pygments_lexer": "ipython3",
   "version": "3.8.3"
  }
 },
 "nbformat": 4,
 "nbformat_minor": 4
}
