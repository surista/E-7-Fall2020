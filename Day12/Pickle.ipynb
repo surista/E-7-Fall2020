{
 "cells": [
  {
   "cell_type": "markdown",
   "metadata": {},
   "source": [
    "# Introduction to Programming In Python\n",
    "# Pickle and JSON\n",
    "# Fall 2019, (c) Jeff Parker"
   ]
  },
  {
   "cell_type": "markdown",
   "metadata": {},
   "source": [
    "# Why do you need to save your program's state?\n",
    "\n",
    "Motivation: you have a fabulous Draw program\n",
    "    \n",
    "Users can create marvelous paintings\n",
    "\n",
    "However, they cannot store their results"
   ]
  },
  {
   "cell_type": "markdown",
   "metadata": {},
   "source": [
    "### It is convenient to be able to store an object in a file in a manner that we can restore\n",
    "\n",
    "- Storing your program’s state\n",
    "- Store your CD collection\n",
    "- Data Bases\n",
    "\n",
    "### We start with the Pickle library\n",
    "### *We pickle something to preserve it for later use*"
   ]
  },
  {
   "cell_type": "markdown",
   "metadata": {},
   "source": [
    "Open two shell windows running python in the same directory\n",
    "\n",
    "We will save data to a file in one shell\n",
    "\n",
    "We will read the data from the second shell"
   ]
  },
  {
   "cell_type": "code",
   "execution_count": null,
   "metadata": {},
   "outputs": [],
   "source": [
    "shell = 1\n",
    "import time\n",
    "\n",
    "course = {}\n",
    "course['Name'] = \"Introduction to Programming with Python\"\n",
    "course['Number'] = \"CSCI-S 7\"\n",
    "\n",
    "course['FirstDay'] = time.strptime('Wed Sep 5 17:50:00 2018') \n",
    "course['Tuition'] = \"Too Much!\"\n",
    "course['Credit'] = True\n",
    "\n",
    "course['Subjects'] = ('Programming', 'Python', 'XKCD')\n",
    "\n",
    "print(course)"
   ]
  },
  {
   "cell_type": "code",
   "execution_count": null,
   "metadata": {},
   "outputs": [],
   "source": [
    "! ls"
   ]
  },
  {
   "cell_type": "markdown",
   "metadata": {},
   "source": [
    "## Now save the data to a file"
   ]
  },
  {
   "cell_type": "code",
   "execution_count": null,
   "metadata": {},
   "outputs": [],
   "source": [
    "import pickle\n",
    "with open('course.pickle', 'wb') as f:\n",
    "    pickle.dump(course, f)"
   ]
  },
  {
   "cell_type": "code",
   "execution_count": null,
   "metadata": {},
   "outputs": [],
   "source": [
    "! ls"
   ]
  },
  {
   "cell_type": "markdown",
   "metadata": {},
   "source": [
    "### Look at course.pickle"
   ]
  },
  {
   "cell_type": "code",
   "execution_count": null,
   "metadata": {},
   "outputs": [],
   "source": [
    "! ls -ltr\n",
    "\n",
    "! od -c course.pickle"
   ]
  },
  {
   "cell_type": "markdown",
   "metadata": {},
   "source": [
    "Here is what I see\n",
    "```python\n",
    "0000000  200 003   }   q  \\0   (   X  \\b  \\0  \\0  \\0   F   i   r   s   t\n",
    "0000020    D   a   y   q 001   c   t   i   m   e  \\n   s   t   r   u   c\n",
    "0000040    t   _   t   i   m   e  \\n   q 002   (   M 342  \\a   K 006   K\n",
    "0000060  031   K  \\f   K  \\0   K  \\0   K  \\0   K 260   J 377 377 377 377\n",
    "0000100    t   q 003   }   q 004   (   X  \\t  \\0  \\0  \\0   t   m   _   g\n",
    "0000120    m   t   o   f   f   q 005   N   X  \\a  \\0  \\0  \\0   t   m   _\n",
    "0000140    z   o   n   e   q 006   N   u 206   q  \\a   R   q  \\b   X  \\a\n",
    "0000160   \\0  \\0  \\0   T   u   i   t   i   o   n   q  \\t   X  \\t  \\0  \\0\n",
    "0000200   \\0   T   o   o       M   u   c   h   !   q  \\n   X  \\b  \\0  \\0\n",
    "0000220   \\0   S   u   b   j   e   c   t   s   q  \\v   X  \\v  \\0  \\0  \\0\n",
    "0000240    P   r   o   g   r   a   m   m   i   n   g   q  \\f   X 006  \\0\n",
    "0000260   \\0  \\0   P   y   t   h   o   n   q  \\r   X 004  \\0  \\0  \\0   X\n",
    "0000300    K   C   D   q 016 207   q 017   X 006  \\0  \\0  \\0   C   r   e\n",
    "0000320    d   i   t   q 020 210   X 006  \\0  \\0  \\0   N   u   m   b   e\n",
    "0000340    r   q 021   X  \\b  \\0  \\0  \\0   C   S   C   I   -   S       7\n",
    "0000360    q 022   X 004  \\0  \\0  \\0   N   a   m   e   q 023   X   '  \\0\n",
    "0000400   \\0  \\0   I   n   t   r   o   d   u   c   t   i   o   n       t\n",
    "0000420    o       P   r   o   g   r   a   m   m   i   n   g       w   i\n",
    "0000440    t   h       P   y   t   h   o   n   q 024   u   .            \n",
    "```                                "
   ]
  },
  {
   "cell_type": "markdown",
   "metadata": {},
   "source": [
    "## Open a third terminal window in the same directory"
   ]
  },
  {
   "cell_type": "code",
   "execution_count": null,
   "metadata": {},
   "outputs": [],
   "source": [
    "shell = 2\n",
    "\n",
    "import pickle\n",
    "\n",
    "with open('course.pickle', 'rb') as f:\n",
    "    course = pickle.load(f)\n",
    "\n",
    "print(course)"
   ]
  },
  {
   "cell_type": "markdown",
   "metadata": {},
   "source": [
    "Here is what I see\n",
    "```python\n",
    "{'Name': 'Introduction to Programming with Python', 'Number': 'CSCI-S 7', \n",
    " 'FirstDay': time.struct_time(tm_year=2018, tm_mon=9, tm_mday=5, tm_hour=17, \n",
    "                tm_min=50, tm_sec=0, tm_wday=2, tm_yday=248, tm_isdst=-1), \n",
    " 'Tuition': 'Too Much!', 'Credit': True, \n",
    " 'Subjects': ('Programming', 'Python', 'XKCD')}\n",
    "```"
   ]
  },
  {
   "cell_type": "markdown",
   "metadata": {},
   "source": [
    "## Preserves (many) types\n",
    "\n",
    "- Course is still a dictionary\n",
    "- Subjects is still a tuple\n",
    "- First Day is a time"
   ]
  },
  {
   "cell_type": "markdown",
   "metadata": {},
   "source": [
    "## We can pickle in place"
   ]
  },
  {
   "cell_type": "code",
   "execution_count": null,
   "metadata": {},
   "outputs": [],
   "source": [
    "import pickle\n",
    "\n",
    "print(shell)\n",
    "\n",
    "b = pickle.dumps(course)\n",
    "print(type(b))\n",
    "print(repr(b))"
   ]
  },
  {
   "cell_type": "code",
   "execution_count": null,
   "metadata": {},
   "outputs": [],
   "source": [
    "print(shell)\n",
    "\n",
    "b = pickle.dumps(course)\n",
    "course3 = pickle.loads(b)\n",
    "course3 == course"
   ]
  },
  {
   "cell_type": "markdown",
   "metadata": {},
   "source": [
    "## PIckle Tools disassembler\n",
    "\n",
    "If you like that kind of thing, then this is the kind of think you'll like.  "
   ]
  },
  {
   "cell_type": "code",
   "execution_count": null,
   "metadata": {},
   "outputs": [],
   "source": [
    "import pickletools\n",
    "with open('course.pickle', 'rb') as f:\n",
    "    pickletools.dis(f)"
   ]
  },
  {
   "cell_type": "markdown",
   "metadata": {},
   "source": [
    "Here is what I see\n",
    "```python\n",
    "0: \\x80 PROTO      3\n",
    "    2: }    EMPTY_DICT\n",
    "    3: q    BINPUT     0\n",
    "    5: (    MARK\n",
    "    6: X        BINUNICODE 'Name'\n",
    "   15: q        BINPUT     1\n",
    "   17: X        BINUNICODE 'Introduction to Programming with Python'\n",
    "   61: q        BINPUT     2\n",
    "   63: X        BINUNICODE 'Number'\n",
    "   74: q        BINPUT     3\n",
    "   76: X        BINUNICODE 'CSCI-S 7'\n",
    "   89: q        BINPUT     4\n",
    "   91: X        BINUNICODE 'FirstDay'\n",
    "  104: q        BINPUT     5\n",
    "  106: c        GLOBAL     'time struct_time'\n",
    "  124: q        BINPUT     6\n",
    "  126: (        MARK\n",
    "  127: M            BININT2    2018\n",
    "  130: K            BININT1    9\n",
    "  132: K            BININT1    5\n",
    "  134: K            BININT1    17\n",
    "  136: K            BININT1    50\n",
    "  138: K            BININT1    0\n",
    "  140: K            BININT1    2\n",
    "  142: K            BININT1    248\n",
    "  144: J            BININT     -1\n",
    "  149: t            TUPLE      (MARK at 126)\n",
    "  150: q        BINPUT     7\n",
    "  152: }        EMPTY_DICT\n",
    "  153: q        BINPUT     8\n",
    "  155: (        MARK\n",
    "  156: X            BINUNICODE 'tm_zone'\n",
    "  168: q            BINPUT     9\n",
    "  170: N            NONE\n",
    "  171: X            BINUNICODE 'tm_gmtoff'\n",
    "  185: q            BINPUT     10\n",
    "  187: N            NONE\n",
    "  188: u            SETITEMS   (MARK at 155)\n",
    "  189: \\x86     TUPLE2\n",
    "  190: q        BINPUT     11\n",
    "  192: R        REDUCE\n",
    "  193: q        BINPUT     12\n",
    "  195: X        BINUNICODE 'Tuition'\n",
    "  207: q        BINPUT     13\n",
    "  209: X        BINUNICODE 'Too Much!'\n",
    "  223: q        BINPUT     14\n",
    "  225: X        BINUNICODE 'Credit'\n",
    "  236: q        BINPUT     15\n",
    "  238: \\x88     NEWTRUE\n",
    "  239: X        BINUNICODE 'Subjects'\n",
    "  252: q        BINPUT     16\n",
    "  254: X        BINUNICODE 'Programming'\n",
    "  270: q        BINPUT     17\n",
    "  272: X        BINUNICODE 'Python'\n",
    "  283: q        BINPUT     18\n",
    "  285: X        BINUNICODE 'XKCD'\n",
    "  294: q        BINPUT     19\n",
    "  296: \\x87     TUPLE3\n",
    "  297: q        BINPUT     20\n",
    "  299: u        SETITEMS   (MARK at 5)\n",
    "  300: .    STOP\n",
    "highest protocol among opcodes = 2\n",
    "```        "
   ]
  },
  {
   "cell_type": "markdown",
   "metadata": {},
   "source": [
    "# Caveats\n",
    "\n",
    "- Pickle is a Python only protocol\n",
    "-- Other languages may not (may not?  Will not!) understand your file\n",
    "- Slower than other methods and produces larger files\n",
    "- Security risk: You can pickle a malicious shell command\n"
   ]
  },
  {
   "cell_type": "markdown",
   "metadata": {},
   "source": [
    "# Alternatives - Json\n",
    "\n",
    "www.youtube.com/watch?v=zhVdWQWKRqM"
   ]
  },
  {
   "cell_type": "code",
   "execution_count": null,
   "metadata": {},
   "outputs": [],
   "source": [
    "#  shell = 1\n",
    "import json\n",
    "with open ('course.json', mode='w', encoding='utf-8') as f:\n",
    "    json.dump(course, f)"
   ]
  },
  {
   "cell_type": "markdown",
   "metadata": {},
   "source": [
    "### Look for course.json"
   ]
  },
  {
   "cell_type": "code",
   "execution_count": null,
   "metadata": {},
   "outputs": [],
   "source": [
    "! ls"
   ]
  },
  {
   "cell_type": "markdown",
   "metadata": {},
   "source": [
    "## Let's look in the file system"
   ]
  },
  {
   "cell_type": "code",
   "execution_count": null,
   "metadata": {},
   "outputs": [],
   "source": [
    "! od -c course.json "
   ]
  },
  {
   "cell_type": "markdown",
   "metadata": {
    "collapsed": true
   },
   "source": [
    " Here is what I see - don't run this\n",
    "```python\n",
    "% od -c course.json \n",
    "0000000    {   \"   N   a   m   e   \"   :       \"   I   n   t   r   o   d\n",
    "0000020    u   c   t   i   o   n       t   o       P   r   o   g   r   a\n",
    "0000040    m   m   i   n   g       w   i   t   h       P   y   t   h   o\n",
    "0000060    n   \"   ,       \"   T   u   i   t   i   o   n   \"   :       \"\n",
    "0000100    T   o   o       M   u   c   h   !   \"   ,       \"   F   i   r\n",
    "0000120    s   t   D   a   y   \"   :       [   2   0   1   8   ,       6\n",
    "0000140    ,       2   5   ,       1   2   ,       0   ,       0   ,    \n",
    "0000160    0   ,       1   7   6   ,       -   1   ]   ,       \"   C   r\n",
    "0000200    e   d   i   t   \"   :       t   r   u   e   ,       \"   N   u\n",
    "0000220    m   b   e   r   \"   :       \"   C   S   C   I   -   S       7\n",
    "0000240    \"   ,       \"   S   u   b   j   e   c   t   s   \"   :       [\n",
    "0000260    \"   P   r   o   g   r   a   m   m   i   n   g   \"   ,       \"\n",
    "0000300    P   y   t   h   o   n   \"   ,       \"   X   K   C   D   \"   ]\n",
    "0000320    } \n",
    "```"
   ]
  },
  {
   "cell_type": "markdown",
   "metadata": {},
   "source": [
    "## The file is pure text"
   ]
  },
  {
   "cell_type": "code",
   "execution_count": null,
   "metadata": {},
   "outputs": [],
   "source": [
    "! cat course.json "
   ]
  },
  {
   "cell_type": "markdown",
   "metadata": {
    "collapsed": true
   },
   "source": [
    "```python\n",
    "{\"Name\": \"Introduction to Programming with Python\", \"Tuition\": \"Too Much!\", \n",
    " \"FirstDay\": [2018, 6, 25, 12, 0, 0, 0, 176, -1], \"Credit\": true, \n",
    " \"Number\": \"CSCI-S 7\", \"Subjects\": [\"Programming\", \"Python\", \"XKCD\"]}\n",
    "```"
   ]
  },
  {
   "cell_type": "markdown",
   "metadata": {},
   "source": [
    "## But we can do better"
   ]
  },
  {
   "cell_type": "code",
   "execution_count": null,
   "metadata": {},
   "outputs": [],
   "source": [
    "import json\n",
    "\n",
    "with open ('pretty-course.json', mode='w', encoding='utf-8') as f:\n",
    "    json.dump(course, f, indent=2)"
   ]
  },
  {
   "cell_type": "markdown",
   "metadata": {},
   "source": [
    "## Now look in the file system"
   ]
  },
  {
   "cell_type": "code",
   "execution_count": null,
   "metadata": {},
   "outputs": [],
   "source": [
    "! more pretty-course.json "
   ]
  },
  {
   "cell_type": "markdown",
   "metadata": {
    "collapsed": true
   },
   "source": [
    "```python\n",
    "{\n",
    "  \"Name\": \"Introduction to Programming with Python\",\n",
    "  \"Tuition\": \"Too Much!\",\n",
    "  \"FirstDay\": [\n",
    "    2018,\n",
    "    6,\n",
    "    25,\n",
    "    12,\n",
    "    0,\n",
    "    0,\n",
    "    0,\n",
    "    176,\n",
    "    -1\n",
    "  ],\n",
    "  \"Credit\": true,\n",
    "  \"Number\": \"CSCI-S 7\",\n",
    "  \"Subjects\": [\n",
    "    \"Programming\",\n",
    "    \"Python\",\n",
    "    \"XKCD\"\n",
    "  ]\n",
    "}\n",
    "```"
   ]
  },
  {
   "cell_type": "markdown",
   "metadata": {},
   "source": [
    "## In shell 2, import the course"
   ]
  },
  {
   "cell_type": "code",
   "execution_count": null,
   "metadata": {},
   "outputs": [],
   "source": [
    "import json\n",
    "with open('course.json', 'r') as f:\n",
    "    course = json.load(f)\n",
    "\n",
    "print(course)"
   ]
  },
  {
   "cell_type": "markdown",
   "metadata": {
    "collapsed": true
   },
   "source": [
    "```python\n",
    "{'Credit': True, 'Subjects': ['Programming', 'Python', 'XKCD'], \n",
    " 'FirstDay': [2018, 6, 25, 12, 0, 0, 0, 176, -1], \n",
    " 'Tuition': 'Too Much!', 'Number': 'CSCI-S 7', \n",
    " 'Name': 'Introduction to Programming with Python'}\n",
    "```"
   ]
  },
  {
   "cell_type": "markdown",
   "metadata": {},
   "source": [
    "## Notice what we have lost\n",
    "\n",
    "- First Day is not a time struct\n",
    "- Subjects is a list, not a tuple\n",
    "\n",
    "- Json does not understand all Python Types\n",
    "- Some it knows well enough to do something\n",
    "- You can define handlers to deal with new types\n",
    "\n",
    "- Json is widely used and understood \n",
    "- Your Json file can be read by many languages "
   ]
  },
  {
   "cell_type": "markdown",
   "metadata": {},
   "source": [
    "## Summary\n",
    "\n",
    "- We often wish to update data stored online\n",
    "- We may wish to save something we create\n",
    "- This is called “serialization” \n",
    "- To see why this is hard, think about serializing a network graph, which doesn’t have a natural first or last element\n",
    "\n",
    "- Pickle is a Python Protocol\n",
    "- Json is a standard understood by many languages "
   ]
  },
  {
   "cell_type": "code",
   "execution_count": null,
   "metadata": {},
   "outputs": [],
   "source": []
  }
 ],
 "metadata": {
  "kernelspec": {
   "display_name": "Python 3",
   "language": "python",
   "name": "python3"
  },
  "language_info": {
   "codemirror_mode": {
    "name": "ipython",
    "version": 3
   },
   "file_extension": ".py",
   "mimetype": "text/x-python",
   "name": "python",
   "nbconvert_exporter": "python",
   "pygments_lexer": "ipython3",
   "version": "3.8.1"
  }
 },
 "nbformat": 4,
 "nbformat_minor": 1
}
