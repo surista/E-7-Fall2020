{
 "cells": [
  {
   "cell_type": "markdown",
   "metadata": {},
   "source": [
    "# Homework 12\n",
    "\n",
    "## Due 4PM Nov 30, 2020"
   ]
  },
  {
   "cell_type": "markdown",
   "metadata": {},
   "source": [
    "## Problem 1: Women's 800 Meter\n",
    "\n",
    "Which countries have done best at the Women's 800 Meter?\n",
    "\n",
    "Gather the data from the World Records CSV, use a Dictionary to count the records, and create a bar chart showing the relative number of records per country.  Sort the countries alphabetically, and make sure we can read the country names.  "
   ]
  },
  {
   "cell_type": "code",
   "execution_count": null,
   "metadata": {},
   "outputs": [],
   "source": []
  },
  {
   "cell_type": "markdown",
   "metadata": {},
   "source": [
    "## Problem 2: Regular Expressions\n",
    "\n",
    "We have used Beautiful Soup to scrape a website.\n",
    "\n",
    "Let's see what we can do with just urlib and Regular Expressions\n",
    "\n",
    "Take the DCE website, and find all the links.  (Be sure to compare notes with Beautiful Soup)"
   ]
  },
  {
   "cell_type": "code",
   "execution_count": null,
   "metadata": {},
   "outputs": [],
   "source": [
    "import urllib.request\n",
    "\n",
    "def find_links(website):\n",
    "    \"Return a list of the links on this page: Use only urllib and Regular Expressions\"\n",
    "    pass"
   ]
  },
  {
   "cell_type": "markdown",
   "metadata": {},
   "source": [
    "## Unit Test"
   ]
  },
  {
   "cell_type": "code",
   "execution_count": null,
   "metadata": {},
   "outputs": [],
   "source": [
    "website = 'https://www.extension.harvard.edu'"
   ]
  },
  {
   "cell_type": "code",
   "execution_count": null,
   "metadata": {},
   "outputs": [],
   "source": [
    "results = find_links(website)\n",
    "print(len(results))\n",
    "for link in results:\n",
    "    print(link)"
   ]
  },
  {
   "cell_type": "markdown",
   "metadata": {},
   "source": [
    "## Compare your program with the results from Beautiful Soup\n",
    "\n",
    "Do you get the same number of links?  If not:\n",
    "\n",
    "1) How many do you miss?\n",
    "\n",
    "2) Can you explain why you miss them?\n",
    "\n",
    "3) Can you fix it?"
   ]
  },
  {
   "cell_type": "markdown",
   "metadata": {},
   "source": [
    "## Problem 3: File Name Generator\n",
    "\n",
    "Write a Generator that takes a directory, a file extension, and, optionally, a file size, and then yields a stream of tuples, (path, filename) so that path/filename is a legal path to a file that meets the conditions.\n",
    "\n",
    "Use os.walk(dir) to create a generator that gives all files and directories below dir.  Call this generator, and yield files (not directories) with the right extension and a file size greater than the given size.   \n",
    "\n",
    "We have three unit tests: demonstrate that you can walk recursivly through two or more directories, and that you can filter by file extension and filter by extension and by size. "
   ]
  },
  {
   "cell_type": "code",
   "execution_count": null,
   "metadata": {},
   "outputs": [],
   "source": [
    "# Find all files in the directory or below that end with the given extension and are larger than size\n",
    "def find_files_gen(directory, extension, size = 0):\n",
    "    pass"
   ]
  },
  {
   "cell_type": "markdown",
   "metadata": {},
   "source": [
    "## Unit Test"
   ]
  },
  {
   "cell_type": "code",
   "execution_count": null,
   "metadata": {},
   "outputs": [],
   "source": [
    "# Show recursive search.  Make sure we can see at least two directories of files\n",
    "gen = find_files_gen('..', 'py' )\n",
    "\n",
    "for path, filename in gen:\n",
    "    print(path, filename)"
   ]
  },
  {
   "cell_type": "code",
   "execution_count": null,
   "metadata": {},
   "outputs": [],
   "source": [
    "# Show all notebooks in this directory\n",
    "gen = find_files_gen('.', '.ipynb')\n",
    "\n",
    "for path, filename in gen:\n",
    "    print(path, filename)"
   ]
  },
  {
   "cell_type": "code",
   "execution_count": null,
   "metadata": {},
   "outputs": [],
   "source": [
    "# Show all notebooks in this directory with at least 1K bytes\n",
    "gen = find_files_gen('.', '.ipynb', 1000)\n",
    "\n",
    "for path, filename in gen:\n",
    "    print(path, filename)"
   ]
  },
  {
   "cell_type": "markdown",
   "metadata": {},
   "source": [
    "## Problem 4: Sorting Employees\n",
    "\n",
    "We wish to take an unordered list of Employees, and get a list sorted by Company and Id.\n",
    "\n",
    "Everyone who works at 'Springfield Department of Motor Vehicles' should be in one group. \n",
    "Everyone who works at 'Springfield Nuclear Power' would be in another group, later in the list, \n",
    "and everyone who works from the Mafia would be in a group earlier in the list. \n",
    "Within each group, we want to see the low ID numbers before this high ones.\n",
    "\n",
    "For this problem, we do not want you to write a sorting program. You will use Python's sort.   \n",
    "You just need to define the magic method dunder lt(), less than, for the class Employee. \n",
    "\n",
    "Once you have defined dunder lt(), calling Python's sorted() on a list of Employees will return a sorted list.\n",
    "\n",
    "```python\n",
    "    def __lt__(self,\n",
    "\n",
    "### Add to the cell below"
   ]
  },
  {
   "cell_type": "code",
   "execution_count": null,
   "metadata": {},
   "outputs": [],
   "source": [
    "class Person:\n",
    "\n",
    "    def __init__(self, first, last):\n",
    "        self.firstname = first.capitalize()\n",
    "        self.lastname = last.capitalize()\n",
    "\n",
    "    def __str__(self):\n",
    "        return self.firstname + \" \" + self.lastname\n",
    "\n",
    "\n",
    "class Employee(Person):\n",
    "\n",
    "    def __init__(self, first, last, company, id):\n",
    "        # Call Superclass to set common information\n",
    "        super().__init__(first, last)\n",
    "        self.id = id\n",
    "        self.company = company\n",
    "\n",
    "    def __str__(self):\n",
    "        # Call Superclass to dispaly common information\n",
    "        return super().__str__() + \", \" + str(self.id) + ' at ' + self.company"
   ]
  },
  {
   "cell_type": "markdown",
   "metadata": {},
   "source": [
    "## Unit Test"
   ]
  },
  {
   "cell_type": "code",
   "execution_count": null,
   "metadata": {},
   "outputs": [],
   "source": [
    "lst = [\n",
    "    Employee('Homer', 'Simpson', 'Springfield Nuclear Power', 1005),\n",
    "    Employee('Barney', 'Gumble', 'Plow King', 1),\n",
    "    Employee('Clancy', 'Wiggum', 'Police Department', 1),\n",
    "    Employee('Edna', 'Krabapple', 'Springfield Elementary School', 39),\n",
    "    Employee('Seymour', 'Skinner', 'Springfield Elementary School', 1),\n",
    "    Employee('Charles', 'Burns', 'Springfield Nuclear Power', 1),\n",
    "    Employee('Waylon', 'Smithers', 'Springfield Nuclear Power', 2),\n",
    "    Employee('Patty', 'Bouvier', 'Springfield Department of Motor Vehicles', 39),\n",
    "    Employee('Selma', 'Bouvier', 'Springfield Department of Motor Vehicles', 38),\n",
    "    Employee('Robert', 'Terwilliger', 'Channel 6', 31),\n",
    "    Employee('Herschel', 'Krustofsky', 'Channel 6', 2),\n",
    "    Employee('Lois', 'Pennycandy', 'Channel 6', 46),\n",
    "    Employee('Johnny', 'Cevasco', 'Mafia', 2),\n",
    "    Employee('Fat', 'Tony', 'Mafia', 1),\n",
    "    Employee('Max', 'Legman', 'Mafia', 3 ),\n",
    "    Employee('Louie', 'Walters', 'Mafia', 4)\n",
    "    ]\n",
    "\n",
    "for emp in lst:\n",
    "    print(emp)\n",
    "    \n",
    "print('==========================')\n",
    "\n",
    "# Sort the people\n",
    "lst = sorted(lst)\n",
    "\n",
    "# Now check that the list is sorted\n",
    "for first, second in zip(lst[:-1], lst[1:]):\n",
    "    assert (first.company, first.id) < (second.company, second.id)\n",
    "\n",
    "for emp in lst:\n",
    "    print(emp)\n",
    "    \n",
    "print(\"\\n\\tSuccess!\")"
   ]
  },
  {
   "cell_type": "markdown",
   "metadata": {},
   "source": [
    "## Problem 5: Finding Repeats\n",
    "\n",
    "DNA has a great deal of structure.  DNA often contains repeats: this is a fascinating area that we are not going to explore.  Investigate 'transposons'.  \n",
    "    \n",
    "Write a program that finds the longest repeat in a sequence of DNA stored in a FASTA file.\n",
    "\n",
    "There will be a single string of DNA in the file. The first line has a description of the contents,\n",
    "while the remainder is a string of A, C, G, and T with line breaks.  Be sure to remove the line breaks.  \n",
    "\n",
    "Here is a sample run on pKLMF-FX.fasta\n",
    "\n",
    "```python\n",
    "9988\n",
    "(5534, 5540, 15)\n",
    "CACGGGCACGGGCAC\n",
    "CACGGGCACGGGCAC\n",
    "CPU times: user 191 ms, sys: 2.49 ms, total: 193 ms\n",
    "Wall time: 193 ms\n",
    "```"
   ]
  },
  {
   "cell_type": "code",
   "execution_count": null,
   "metadata": {},
   "outputs": [],
   "source": [
    "# Read contents of fasta file with a single sequence\n",
    "# Skip the first line, and return a string holding the contents\n",
    "def read_fasta_file(filename: str) -> str:\n",
    "    pass"
   ]
  },
  {
   "cell_type": "code",
   "execution_count": null,
   "metadata": {},
   "outputs": [],
   "source": [
    "# Take a string and look for the longest repeat\n",
    "# Return a tuple: (pos1, pos2, length) or None if there are no repeats\n",
    "#    pos1 != pos2 and text[pos1:pos1+length)] == text[pos2:pos2+length]\n",
    "#\n",
    "def longest_repeat(text):\n",
    "    pass"
   ]
  },
  {
   "cell_type": "markdown",
   "metadata": {},
   "source": [
    "## Unit tests"
   ]
  },
  {
   "cell_type": "code",
   "execution_count": null,
   "metadata": {},
   "outputs": [],
   "source": [
    "%%time\n",
    "filename = 'pKLMF-FX.fasta'\n",
    "\n",
    "text = read_fasta_file(filename)\n",
    "print(len(text))               \n",
    "assert len(text) == 9988\n",
    "\n",
    "tup = longest_repeat(text) \n",
    "\n",
    "print(tup)\n",
    "assert len(tup) == 3\n",
    "assert isinstance(tup, tuple)\n",
    "\n",
    "print(text[tup[0]:tup[0]+tup[2]])\n",
    "print(text[tup[1]:tup[1]+tup[2]])\n",
    "\n",
    "assert text[tup[0]:tup[0]+tup[2]] == text[tup[1]:tup[1]+tup[2]]"
   ]
  },
  {
   "cell_type": "code",
   "execution_count": null,
   "metadata": {},
   "outputs": [],
   "source": [
    "%%time\n",
    "filename = 'pACYC184.fasta'        # An EColi plasmid cloning vector\n",
    "\n",
    "# See https://www.snapgene.com/resources/plasmid-files/?set=basic_cloning_vectors&plasmid=pACYC184\n",
    "    \n",
    "\n",
    "text = read_fasta_file(filename)\n",
    "print(len(text))                   # DNA is 4289 Bytes long: remove first line and \\n\n",
    "assert len(text) == 4245 \n",
    "\n",
    "tup = longest_repeat(text) \n",
    "print(tup)\n",
    "assert len(tup) == 3\n",
    "assert isinstance(tup, tuple)\n",
    "\n",
    "print(text[tup[0]:tup[0]+tup[2]])\n",
    "print(text[tup[1]:tup[1]+tup[2]])\n",
    "\n",
    "assert tup[2] == 94\n",
    "assert text[tup[0]:tup[0]+tup[2]] == text[tup[1]:tup[1]+tup[2]]"
   ]
  },
  {
   "cell_type": "markdown",
   "metadata": {},
   "source": [
    "## Extra credit: Find the longest repeat in EColi"
   ]
  },
  {
   "cell_type": "code",
   "execution_count": null,
   "metadata": {},
   "outputs": [],
   "source": [
    "%%time\n",
    "filename = 'EColi.fasta'\n",
    "\n",
    "text = read_fasta_file(filename)\n",
    "print(len(text))\n",
    "assert len(text) == 4641652\n",
    "\n",
    "tup = longest_repeat(text)  \n",
    "print(tup)\n",
    "\n",
    "assert len(tup) == 3\n",
    "assert isinstance(tup, tuple)\n",
    "assert len(text) == 4641729 \n",
    "\n",
    "print(text[tup[0]:tup[0]+tup[2]])\n",
    "print(text[tup[1]:tup[1]+tup[2]])\n",
    "\n",
    "assert text[tup[0]:tup[0]+tup[2]] == text[tup[1]:tup[1]+tup[2]]"
   ]
  },
  {
   "cell_type": "code",
   "execution_count": null,
   "metadata": {},
   "outputs": [],
   "source": []
  }
 ],
 "metadata": {
  "kernelspec": {
   "display_name": "Python 3",
   "language": "python",
   "name": "python3"
  },
  "language_info": {
   "codemirror_mode": {
    "name": "ipython",
    "version": 3
   },
   "file_extension": ".py",
   "mimetype": "text/x-python",
   "name": "python",
   "nbconvert_exporter": "python",
   "pygments_lexer": "ipython3",
   "version": "3.8.3"
  }
 },
 "nbformat": 4,
 "nbformat_minor": 4
}
