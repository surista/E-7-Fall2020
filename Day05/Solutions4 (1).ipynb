{
 "cells": [
  {
   "cell_type": "markdown",
   "metadata": {},
   "source": [
    "# Homework 4 Solutions Fall 2020"
   ]
  },
  {
   "cell_type": "markdown",
   "metadata": {},
   "source": [
    "## Quiz 4.4\n",
    "\n",
    "What does function quiz() return when called below?"
   ]
  },
  {
   "cell_type": "code",
   "execution_count": null,
   "metadata": {},
   "outputs": [],
   "source": [
    "def quiz(x):\n",
    "    if (x % 2) and (x % 3):\n",
    "        print('One')\n",
    "    else:\n",
    "        print('Two')\n",
    "\n",
    "retval = quiz(5)"
   ]
  },
  {
   "cell_type": "code",
   "execution_count": null,
   "metadata": {},
   "outputs": [],
   "source": [
    "print(retval)"
   ]
  },
  {
   "cell_type": "markdown",
   "metadata": {},
   "source": [
    "## This assignment uses an idiom called Filtering\n",
    "\n",
    "**Filtering** - running through a sequence of items, and testing each item with a Boolean function.  \n",
    "\n",
    "We filter your luggage at the airport.  We look at each item in your suitcase, and stop you if you have a gun, explosives, or a bottle of water.  \n",
    "\n",
    "*We use filtering to decide if we should let you board*\n",
    "\n",
    "We filter our reciepts after a trip.  We can charge the meals and the room to the company, but can't charge the tickets to see Buddy Guy.  \n",
    "\n",
    "*We filtering to find the sublist of items to pass on*"
   ]
  },
  {
   "cell_type": "markdown",
   "metadata": {},
   "source": [
    "## Problem 1"
   ]
  },
  {
   "cell_type": "markdown",
   "metadata": {},
   "source": [
    "## is_vowel()\n",
    "\n",
    "Is this character a vowel?  \n",
    "\n",
    "This function takes a string and returns a Boolean.\n",
    "\n",
    "```python\n",
    "    def is_vowel(ch: str) -> bool:\n",
    "```"
   ]
  },
  {
   "cell_type": "markdown",
   "metadata": {},
   "source": [
    "<div class=\"alert alert-block alert-info\">\n",
    "Fill in your function definition in the cell below.\n",
    "</div>"
   ]
  },
  {
   "cell_type": "code",
   "execution_count": null,
   "metadata": {},
   "outputs": [],
   "source": [
    "def is_vowel(ch):\n",
    "    \"Is the character ch a vowel?\"\n",
    "    \n",
    "    if ch.lower() == 'a':\n",
    "        return True\n",
    "    elif ch.lower() == 'e':\n",
    "        return True\n",
    "    elif ch.lower() == 'i':\n",
    "        return True\n",
    "    elif ch.lower() == 'o':\n",
    "        return True\n",
    "    elif ch.lower() == 'u':\n",
    "        return True\n",
    "    \n",
    "    return False"
   ]
  },
  {
   "cell_type": "code",
   "execution_count": null,
   "metadata": {},
   "outputs": [],
   "source": [
    "import string\n",
    "\n",
    "def validate_vowel():\n",
    "    for ch in 'aeiouAEIOU':\n",
    "        assert is_vowel(ch), f\"'{ch}' should be a vowel\"\n",
    "\n",
    "    for ch in string.ascii_lowercase:\n",
    "        if ch not in 'aeiou':\n",
    "            assert not is_vowel(ch), f\"'{ch}' is not a vowel\"\n",
    "            assert not is_vowel(ch.upper()), f\"'{ch.upper()}' is not a vowel\"\n",
    "            \n",
    "    print('Success!')\n",
    "\n",
    "validate_vowel()"
   ]
  },
  {
   "cell_type": "code",
   "execution_count": null,
   "metadata": {},
   "outputs": [],
   "source": [
    "def is_vowel(ch):\n",
    "    \"Is the character ch a vowel?\"\n",
    "    \n",
    "    ch = ch.lower()\n",
    "    if ch == 'a':\n",
    "        return True\n",
    "    elif ch == 'e':\n",
    "            return True\n",
    "    elif ch == 'i':\n",
    "            return True\n",
    "    elif ch == 'o':\n",
    "            return True\n",
    "    elif ch == 'u':\n",
    "            return True\n",
    "    \n",
    "    return False"
   ]
  },
  {
   "cell_type": "code",
   "execution_count": null,
   "metadata": {},
   "outputs": [],
   "source": [
    "validate_vowel()"
   ]
  },
  {
   "cell_type": "code",
   "execution_count": null,
   "metadata": {},
   "outputs": [],
   "source": [
    "def is_vowel(ch):\n",
    "    \"Is the character ch a vowel?\"\n",
    "    \n",
    "    assert len(ch) == 1, \"Paraemter should only be one character long\"\n",
    "    \n",
    "    return ch in 'aeiouAEIOU'"
   ]
  },
  {
   "cell_type": "code",
   "execution_count": null,
   "metadata": {},
   "outputs": [],
   "source": [
    "validate_vowel()"
   ]
  },
  {
   "cell_type": "markdown",
   "metadata": {},
   "source": [
    "### Test cases for is_vowel()"
   ]
  },
  {
   "cell_type": "markdown",
   "metadata": {},
   "source": [
    "<div class=\"alert alert-block alert-danger\">\n",
    "Run the cell below to call your function.\n",
    "</div>"
   ]
  },
  {
   "cell_type": "code",
   "execution_count": null,
   "metadata": {},
   "outputs": [],
   "source": [
    "import string\n",
    "\n",
    "def validate_vowel():\n",
    "    for ch in 'aeiouAEIOU':\n",
    "        assert is_vowel(ch), f\"'{ch}' should be a vowel\"\n",
    "\n",
    "    for ch in string.ascii_lowercase:\n",
    "        if ch not in 'aeiou':\n",
    "            assert not is_vowel(ch), f\"'{ch}' is not a vowel\"\n",
    "            assert not is_vowel(ch.upper()), f\"'{ch.upper()}' is not a vowel\"\n",
    "            \n",
    "    print('Success!')\n",
    "\n",
    "validate_vowel()"
   ]
  },
  {
   "cell_type": "markdown",
   "metadata": {},
   "source": [
    "### Our Unit Test uses filtering\n",
    "\n",
    "In this unit test, we run through a list of vowels looking for a counterexample.  "
   ]
  },
  {
   "cell_type": "markdown",
   "metadata": {},
   "source": [
    "## Problem 2: has_all_vowels()\n",
    "\n",
    "Does the string contain all the vowels?\n",
    "\n",
    "This function takes a string and returns a Boolean.\n",
    "\n",
    "```python\n",
    "    def has_all_vowels(word: str) -> bool:\n",
    "```"
   ]
  },
  {
   "cell_type": "markdown",
   "metadata": {},
   "source": [
    "<div class=\"alert alert-block alert-info\">\n",
    "I just used the idea presented in the Unit Tests above\n",
    "</div>"
   ]
  },
  {
   "cell_type": "code",
   "execution_count": null,
   "metadata": {},
   "outputs": [],
   "source": [
    "def has_all_vowels(word):\n",
    "    \"Does word have all the vowels?\"\n",
    "    \n",
    "    for ch in 'aeiou':\n",
    "        if ch not in word.lower():\n",
    "            return False\n",
    "        \n",
    "    return True"
   ]
  },
  {
   "cell_type": "markdown",
   "metadata": {},
   "source": [
    "### Test cases for has_all_vowels()"
   ]
  },
  {
   "cell_type": "markdown",
   "metadata": {},
   "source": [
    "<div class=\"alert alert-block alert-danger\">\n",
    "Run the cell below to call your function.\n",
    "</div>"
   ]
  },
  {
   "cell_type": "code",
   "execution_count": null,
   "metadata": {},
   "outputs": [],
   "source": [
    "def validate_all_vowels():\n",
    "    assert has_all_vowels('vexatious'), \"'vexatious' has all the vowels\"\n",
    "    assert has_all_vowels('VEXATIOUS'), \"'VEXATIOUS' has all the vowels\"\n",
    "\n",
    "    # Now remove one vowel at a time\n",
    "    # Each test case should return False\n",
    "    assert not has_all_vowels('vxatious'), \"Missing 'e'\"\n",
    "    assert not has_all_vowels('vextious'), \"Missing 'a'\"\n",
    "    assert not has_all_vowels('vexatous'), \"Missing 'i'\"\n",
    "    assert not has_all_vowels('vexatius'), \"Missing 'o'\"\n",
    "    assert not has_all_vowels('vexatios'), \"Missing 'u'\"\n",
    "\n",
    "    print('Success!')\n",
    "    \n",
    "validate_all_vowels()"
   ]
  },
  {
   "cell_type": "markdown",
   "metadata": {},
   "source": [
    "## Problem 3: is_all_vowels()\n",
    "\n",
    "Is every character in word a vowel?\n",
    "\n",
    "This function takes a string and returns a Boolean.\n",
    "\n",
    "```python\n",
    "    def is_all_vowels(word: str) -> bool:\n",
    "```"
   ]
  },
  {
   "cell_type": "markdown",
   "metadata": {},
   "source": [
    "<div class=\"alert alert-block alert-info\">\n",
    "Fill in your function definition in the cell below.\n",
    "</div>"
   ]
  },
  {
   "cell_type": "code",
   "execution_count": null,
   "metadata": {},
   "outputs": [],
   "source": [
    "def is_all_vowels(word):\n",
    "    \"Is every character in word a vowel?\"\n",
    "    \n",
    "    for ch in word:\n",
    "        if not is_vowel(ch):\n",
    "            return False\n",
    "        \n",
    "    return True"
   ]
  },
  {
   "cell_type": "markdown",
   "metadata": {},
   "source": [
    "### Test case for is_all_vowels()"
   ]
  },
  {
   "cell_type": "markdown",
   "metadata": {},
   "source": [
    "<div class=\"alert alert-block alert-danger\">\n",
    "Run the cell below to call your function.\n",
    "</div>"
   ]
  },
  {
   "cell_type": "code",
   "execution_count": null,
   "metadata": {},
   "outputs": [],
   "source": [
    "def validate_is_all_vowels():\n",
    "    assert is_all_vowels('aie'), \"'aie' is all vowels\"\n",
    "    assert is_all_vowels('Aie'), \"'Aie' is all vowels\"\n",
    "    assert is_all_vowels('AeIoU'), \"'AeIoU' is all vowels\"\n",
    "\n",
    "    assert not is_all_vowels('kaie'), \"has a k\"\n",
    "    assert not is_all_vowels('akie'), \"has a k\"\n",
    "    assert not is_all_vowels('aike'), \"has a k\"\n",
    "    assert not is_all_vowels('aiek'), \"has a k\"\n",
    "    \n",
    "    print('Success!')\n",
    "    \n",
    "validate_is_all_vowels()"
   ]
  },
  {
   "cell_type": "markdown",
   "metadata": {},
   "source": [
    "## Problem 4: is_palindrome()"
   ]
  },
  {
   "cell_type": "markdown",
   "metadata": {},
   "source": [
    "### Write a function that decides if a word is a palindrome, like Radar or madam.  \n",
    "\n",
    "Is the word the same, read forwards or backwards?\n",
    "\n",
    "Your function is_palindrome() should take a string and return a Boolean\n",
    "\n",
    "```python\n",
    "    def is_palindrome(word: str) -> bool:\n",
    "```"
   ]
  },
  {
   "cell_type": "markdown",
   "metadata": {},
   "source": [
    "<div class=\"alert alert-block alert-info\">\n",
    "Fill in your function definition in the cell below.\n",
    "</div>"
   ]
  },
  {
   "cell_type": "code",
   "execution_count": null,
   "metadata": {},
   "outputs": [],
   "source": [
    "def is_palindrome(word):\n",
    "    \"Is the word a palindrome?\"\n",
    "    \n",
    "    word = word.lower()\n",
    "    return word == word[::-1]"
   ]
  },
  {
   "cell_type": "markdown",
   "metadata": {},
   "source": [
    "### Test cases for is_palindrome"
   ]
  },
  {
   "cell_type": "markdown",
   "metadata": {},
   "source": [
    "<div class=\"alert alert-block alert-danger\">\n",
    "Run the cell below to call your function.\n",
    "</div>"
   ]
  },
  {
   "cell_type": "code",
   "execution_count": null,
   "metadata": {},
   "outputs": [],
   "source": [
    "def validate_palindrome():\n",
    "    lst = ['A', 'radar', 'Radar', 'Ada', 'madaM']\n",
    "    for word in lst:\n",
    "        assert is_palindrome(word), f\"'{word}' is a palindrome\"\n",
    "        \n",
    "    lst = ['adar', 'loop', 'leal']\n",
    "    for word in lst:\n",
    "        assert not is_palindrome(word), f\"'{word}' is not a palindrome\"\n",
    "\n",
    "\n",
    "    print('Success!')\n",
    "\n",
    "validate_palindrome()"
   ]
  },
  {
   "cell_type": "markdown",
   "metadata": {},
   "source": [
    "## Problem 5: Crossword Puzzle"
   ]
  },
  {
   "cell_type": "markdown",
   "metadata": {},
   "source": [
    "### Write a function that detects five letter words that start with 'a' and end in 't'.\n",
    "\n",
    "Your function is_match() should take a string and return a Boolean\n",
    "\n",
    "\n",
    "```python\n",
    "    def is_match(word: str) -> bool:\n",
    "```"
   ]
  },
  {
   "cell_type": "markdown",
   "metadata": {},
   "source": [
    "<div class=\"alert alert-block alert-info\">\n",
    "Fill in your function definition in the cell below.\n",
    "</div>"
   ]
  },
  {
   "cell_type": "code",
   "execution_count": null,
   "metadata": {},
   "outputs": [],
   "source": [
    "def is_match(word):\n",
    "    \"Is word a five letter string starting with 'a' and ending in 't'?\"\n",
    "    return (len(word) == 5) and (word[0] in 'aA') and (word[4] in 'tT')"
   ]
  },
  {
   "cell_type": "markdown",
   "metadata": {},
   "source": [
    "<div class=\"alert alert-block alert-danger\">\n",
    "Run the cell below to call your function.\n",
    "</div>"
   ]
  },
  {
   "cell_type": "code",
   "execution_count": null,
   "metadata": {},
   "outputs": [],
   "source": [
    "def validate_match():\n",
    "    for word in ['A', 'Radar', 'at', 'splat', 'adotp']:\n",
    "        assert not is_match(word), f\"'{word}' is not a match\"\n",
    "        \n",
    "    for word in ['adopt', 'agent', 'argot', 'avast', 'adult']:\n",
    "        assert is_match(word), f\"'{word}' should be a match\"\n",
    " \n",
    "    print('Success!')\n",
    "\n",
    "validate_match()"
   ]
  },
  {
   "cell_type": "markdown",
   "metadata": {},
   "source": [
    "## Problem 6: Find all matches in the Dictionary"
   ]
  },
  {
   "cell_type": "markdown",
   "metadata": {},
   "source": [
    "### Write a function that takes a Boolean function and a filename and prints the matches\n",
    "\n",
    "Open the file words.txt, and print all five letter words that start with 'a' and end in 't'.\n",
    "\n",
    "Your function find_match() should take a function and a filename and return a list of strings.\n",
    "\n",
    "The function you pass in to find_match should take a string and return a Boolean.  \n",
    "\n",
    "We can use Python's Type Hints to describe the interface.  This looks complicated, but this is a complicated idea.\n",
    "\n",
    "```python\n",
    "    f: Callable[[str], bool]\n",
    "```\n",
    "says: the parameter f is a function (Callable) that takes a string and returns a Boolean.\n",
    "\n",
    "The return value is described by this:\n",
    "\n",
    "```python\n",
    "    -> List[str]:\n",
    "```\n",
    "which means \"The function returns a list of strings\".\n",
    "\n",
    "The full description is:\n",
    "\n",
    "```python\n",
    "    from typing import List, Callable\n",
    "    \n",
    "    def find_match(f: Callable[[str], bool], filename: str) -> List[str]:\n",
    "```"
   ]
  },
  {
   "cell_type": "markdown",
   "metadata": {},
   "source": [
    "<div class=\"alert alert-block alert-info\">\n",
    "Fill in your function definition in the cell below.\n",
    "</div>"
   ]
  },
  {
   "cell_type": "code",
   "execution_count": null,
   "metadata": {},
   "outputs": [],
   "source": [
    "# What does append return?\n",
    "\n",
    "lst = []\n",
    "retVal = lst.append(1)\n",
    "print(lst)\n",
    "print(retVal)"
   ]
  },
  {
   "cell_type": "code",
   "execution_count": null,
   "metadata": {},
   "outputs": [],
   "source": [
    "# Write a function that uses your is_match() to filter the contents of words.txt  \n",
    "\n",
    "# Your function find_match takes a function: pass in your function is_match()\n",
    "# find_match should return a list holding the words in the file words.txt that satify the function passed in\n",
    "\n",
    "def find_match(func, filename):\n",
    "    \"Returns a list of all lines matching the condition that function func() checks.\"\n",
    "    \n",
    "    result = []\n",
    "    \n",
    "    # open the file\n",
    "    with open(filename, 'r') as f:\n",
    "\n",
    "        # For each word in the file\n",
    "        for word in f:\n",
    "\n",
    "            # Remove cruft\n",
    "            word = word.strip()\n",
    "\n",
    "            # If it meets the condition\n",
    "            if func(word):\n",
    "                result.append(word)\n",
    "          \n",
    "    return result"
   ]
  },
  {
   "cell_type": "markdown",
   "metadata": {},
   "source": [
    "<div class=\"alert alert-block alert-danger\">\n",
    "Run the cell below to call your function.\n",
    "    \n",
    "Be sure you have Downey's **words.txt** in the same directory as your notebook\n",
    "</div>"
   ]
  },
  {
   "cell_type": "code",
   "execution_count": null,
   "metadata": {},
   "outputs": [],
   "source": [
    "# Call your function to find the matches \n",
    "\n",
    "lst = find_match(is_match, \"../../Programs/words.txt\")\n",
    "\n",
    "print(len(lst), lst)\n",
    "\n",
    "for word in lst:\n",
    "    print(word)"
   ]
  },
  {
   "cell_type": "markdown",
   "metadata": {},
   "source": [
    "## Problem 7: Find the palindromes in words.txt.\n",
    "\n",
    "Use your function from Problem 6, but use is_palindrome(), the Boolean function you defined in problem 4, as the filter.  \n",
    "\n",
    "You should be able to use your work from problems 4 and 6 without changing them\n",
    "\n",
    "<div class=\"alert alert-block alert-danger\">\n",
    "Be sure you have Downey's **words.txt** in the same directory as your notebook.\n",
    "    \n",
    "Print the number of palindromes in the file.\n",
    "\n",
    "Print the first 10 palindromes in the file.\n",
    "</div>"
   ]
  },
  {
   "cell_type": "code",
   "execution_count": null,
   "metadata": {},
   "outputs": [],
   "source": [
    "# Write a Python fragment that uses your work from problems 4 and 6\n",
    "\n",
    "lst = find_match(is_palindrome, \"../../Programs/words.txt\")\n",
    "\n",
    "print(len(lst), lst)"
   ]
  },
  {
   "cell_type": "markdown",
   "metadata": {},
   "source": [
    "# Post Mortem"
   ]
  },
  {
   "cell_type": "markdown",
   "metadata": {},
   "source": [
    "<div class=\"alert alert-block alert-info\">\n",
    "\n",
    "How long did it take you to solve this problem set?\n",
    "\n",
    "Did anything confuse you or cause difficulty?\n",
    "</div>"
   ]
  },
  {
   "cell_type": "code",
   "execution_count": null,
   "metadata": {},
   "outputs": [],
   "source": [
    "# Enter your thoughts\n"
   ]
  }
 ],
 "metadata": {
  "kernelspec": {
   "display_name": "Python 3",
   "language": "python",
   "name": "python3"
  },
  "language_info": {
   "codemirror_mode": {
    "name": "ipython",
    "version": 3
   },
   "file_extension": ".py",
   "mimetype": "text/x-python",
   "name": "python",
   "nbconvert_exporter": "python",
   "pygments_lexer": "ipython3",
   "version": "3.8.1"
  }
 },
 "nbformat": 4,
 "nbformat_minor": 1
}
