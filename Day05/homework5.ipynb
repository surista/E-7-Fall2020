{
 "cells": [
  {
   "cell_type": "markdown",
   "metadata": {},
   "source": [
    "# Homework 5: Fall 2020\n",
    "## Due Oct 5, 4PM\n",
    "### Fill in your name"
   ]
  },
  {
   "cell_type": "code",
   "execution_count": 1,
   "metadata": {},
   "outputs": [],
   "source": [
    "first_name = \"Scott\"\n",
    "last_name = \"Urista\"\n",
    "\n",
    "assert(len(first_name) != 0)\n",
    "assert(len(last_name) != 0)"
   ]
  },
  {
   "cell_type": "markdown",
   "metadata": {},
   "source": [
    "## Problem 1: Inorder\n",
    "\n",
    "Take a list of elements, and decide if the elements are in ascending order.\n",
    "\n",
    "The list may contain integers or strings, but will contain only one type of value.\n",
    "\n",
    "```python\n",
    "    def inorder(lst: List) -> bool:\n",
    "```\n",
    "\n",
    "### Examples:\n",
    "\n",
    "The list\n",
    "\n",
    "```python\n",
    "     [1, 4, 9, 13]\n",
    "```\n",
    "is in order.  However\n",
    "\n",
    "```python\n",
    "['one', 'two', 'three', 'four']\n",
    "```\n",
    "is not in order, as 'three' comes before 'two' in the dictionary\n"
   ]
  },
  {
   "cell_type": "markdown",
   "metadata": {},
   "source": [
    "<div class=\"alert alert-block alert-info\">\n",
    "Fill in your function definition in the cell below.\n",
    "</div>"
   ]
  },
  {
   "cell_type": "code",
   "execution_count": 9,
   "metadata": {},
   "outputs": [],
   "source": [
    "def inorder(lst):\n",
    "    \"\"\"\n",
    "    :param lst: list\n",
    "    :return: True if list is in order, False if not\n",
    "        Assumes an empty list is ordered, since there is no pair of \n",
    "        elements (x, y) such that y comes before x in the list\n",
    "        \n",
    "    \"\"\"\n",
    "    \n",
    "    for item in range(len(lst)-1):\n",
    "        if lst[item] > lst[item+1]:\n",
    "            return False\n",
    "    return True"
   ]
  },
  {
   "cell_type": "markdown",
   "metadata": {},
   "source": [
    "## Test case for inorder()"
   ]
  },
  {
   "cell_type": "code",
   "execution_count": 10,
   "metadata": {},
   "outputs": [
    {
     "name": "stdout",
     "output_type": "stream",
     "text": [
      "Sucess!\n"
     ]
    }
   ],
   "source": [
    "def validate_inorder():\n",
    "    assert inorder([1, 4, 9, 13]), \"List is inorder\"\n",
    "    assert inorder([1]), \"List is inorder\"\n",
    "    assert inorder([]), \"List is inorder\"\n",
    "    assert inorder(['one', 'ten', 'three', 'two']), \"List is inorder\"\n",
    "\n",
    "    assert not inorder([3, 1, 4]), \"3 appears before 1\"\n",
    "    assert not inorder([3, 2, 1]), \"3 appears before 2\"\n",
    "    assert not inorder([1, 4, 9, 13, 12]), \"13 appears before 12\"\n",
    "    assert not inorder(['one', 'two', 'three', 'four']), \"two appears before three\"\n",
    "\n",
    "    print('Sucess!')\n",
    "    \n",
    "validate_inorder()"
   ]
  },
  {
   "cell_type": "markdown",
   "metadata": {},
   "source": [
    "## Problem 2: Sum of Two\n",
    "\n",
    "Write a function that takes an integer target k and a list of integers, and decides if you can represent k as the sum of two different numbers in the list. \n",
    "\n",
    "```python\n",
    "    def sum_of_two(k: int, lst : List[int]) -> bool:\n",
    "```\n",
    "\n",
    "### Examples:\n",
    "\n",
    "```python\n",
    "sum_of_two(17, [1, 15, 3, 4, 5, 6, 7, 2]) \n",
    "```\n",
    "returns True, as 17 = 15 + 2\n",
    "\n",
    "```python\n",
    "sum_of_two(4, [1, 2])\n",
    "```\n",
    "returns False, as you cannot reuse the 2, and 4 is not 2 + 1.  \n"
   ]
  },
  {
   "cell_type": "markdown",
   "metadata": {},
   "source": [
    "<div class=\"alert alert-block alert-info\">\n",
    "Fill in your function definition in the cell below.\n",
    "</div>"
   ]
  },
  {
   "cell_type": "code",
   "execution_count": 11,
   "metadata": {},
   "outputs": [],
   "source": [
    "def sum_of_two(k, lst):\n",
    "    \"\"\"\n",
    "    :param k: integer\n",
    "    :param lst: list of integers\n",
    "    :return: True if two different elements in lst sum to k\n",
    "    \"\"\"\n",
    "\n",
    "    # make copy of list to avoid changing list in place\n",
    "    # remove item from copied list one  at a time,\n",
    "    # see if (item - k) exists\n",
    "    \n",
    "    list_copy = lst[:]\n",
    "    while list_copy:\n",
    "        current_item = list_copy.pop(0)\n",
    "        if (k-current_item) in list_copy:   \n",
    "            return True\n",
    "        \n",
    "    return False"
   ]
  },
  {
   "cell_type": "markdown",
   "metadata": {},
   "source": [
    "## Test cases for sum of two"
   ]
  },
  {
   "cell_type": "code",
   "execution_count": 12,
   "metadata": {},
   "outputs": [
    {
     "name": "stdout",
     "output_type": "stream",
     "text": [
      "Sucess\n"
     ]
    }
   ],
   "source": [
    "assert not sum_of_two(0, []), \"Empty List\"\n",
    "assert not sum_of_two(3, [3]), \"Singleton list\"\n",
    "assert sum_of_two(3, [1, 2]), \"3 = 1 + 2\"\n",
    "assert sum_of_two(17, [10, 15, 3, 7]),  \"17 = 10 + 7\"\n",
    "assert sum_of_two(4, [2, 2]), \"4 = 2 + 2\"\n",
    "assert sum_of_two(4, [0, 4]), \"4 = 0 + 4\"\n",
    "assert sum_of_two(17, [1, 15, 3, 4, 5, 6, 7, 2]), \"17 = 15 + 2\"\n",
    "\n",
    "assert not sum_of_two(17, [10, 15, 4, 8]), \"Cannot write 17 as sum of elements\"\n",
    "assert not sum_of_two(4, [1, 2]), \"Can't use the same 2 twice\"\n",
    "\n",
    "print('Sucess')"
   ]
  },
  {
   "cell_type": "markdown",
   "metadata": {},
   "source": [
    "## Problem 3: Hamming Distance\n",
    "\n",
    "The Hamming distance between two strings is the number of places where the strings don't agree. \n",
    "\n",
    "We consider 'A' and 'a' to be the same letter. \n",
    "\n",
    "\n",
    "```python\n",
    "    def hamming_distance(word1: str, word2: str) -> int:\n",
    "```\n",
    "\n",
    "### Examples:\n",
    "\n",
    "\n",
    "\n",
    "```python\n",
    "hamming_distance('sugar', 'spice') = 4\n",
    "```\n",
    "as the two strings differ in every spot but the first.\n",
    "\n",
    "```python\n",
    "hamming_distance(\"GGACG\", \"GGTCG\") == 1\n",
    "```\n",
    "as the two strings only differ in the third place: A != T.\n",
    "\n",
    "```python\n",
    "hamming_distance(\"tag\", \"GAT\") == 2\n",
    "```\n",
    "as the strings differ in the first and third place.  We treat 'a' and 'A' as equal.  \n",
    "\n",
    "```python\n",
    "hamming_distance(\"hot\", \"cold\") \n",
    "```\n",
    "is not defined, as the strings have different lengths.   \n",
    "\n",
    "### If the strings have different lengths, your function should throw an ValueError exception with text describing the problem in your own words    "
   ]
  },
  {
   "cell_type": "markdown",
   "metadata": {},
   "source": [
    "<div class=\"alert alert-block alert-info\">\n",
    "Fill in your function definition in the cell below.\n",
    "</div>"
   ]
  },
  {
   "cell_type": "code",
   "execution_count": 15,
   "metadata": {},
   "outputs": [],
   "source": [
    "# Return the number of differences \n",
    "# Takes two strings, return non-negative integer\n",
    "# Throws ValueError if the strings have different length\n",
    "\n",
    "def hamming_distance(strand_a, strand_b):\n",
    "    \"Return the Hamming distance between the two strands\"\n",
    "    \n",
    "    if (len(strand_a) != len(strand_b)):\n",
    "        raise ValueError('Strings are not the same length')\n",
    "\n",
    "    str_a = strand_a.upper()\n",
    "    str_b = strand_b.upper()\n",
    "    \n",
    "    return sum([ch1 != ch2 for ch1, ch2 in zip(str_a, str_b)])\n"
   ]
  },
  {
   "cell_type": "code",
   "execution_count": 16,
   "metadata": {},
   "outputs": [
    {
     "data": {
      "text/plain": [
       "'Success'"
      ]
     },
     "execution_count": 16,
     "metadata": {},
     "output_type": "execute_result"
    }
   ],
   "source": [
    "### Test case for hamming_distance()\n",
    "\n",
    "def test_hamming():\n",
    "    assert hamming_distance(\"A\", \"A\") == 0, \"Same string\"\n",
    "    assert hamming_distance(\"GGACTGA\", \"GGACTGA\") == 0, \"Same string\"\n",
    "    assert hamming_distance(\"A\", \"G\") == 1, \"Differ in every place\"\n",
    "    assert hamming_distance(\"AG\", \"CT\") == 2, \"Differ in every place\"\n",
    "    assert hamming_distance(\"AT\", \"CT\") == 1, \"Differ in first place\"\n",
    "    assert hamming_distance(\"GGACG\", \"GGTCG\") == 1, \"Differ in third place\"\n",
    "    assert hamming_distance(\"ggACG\", \"GGtCG\") == 1, \"Differ in third place\"\n",
    "    assert hamming_distance(\"GGACG\", \"ggtCG\") == 1, \"Differ in third place\"\n",
    "    assert hamming_distance(\"ACCAGGG\", \"ACTATGG\") == 2, \"Differ in two places\"\n",
    "    assert hamming_distance(\"AAG\", \"AAA\") == 1, \"Differ in third place\"\n",
    "    assert hamming_distance(\"AAA\", \"AAG\") == 1, \"Differ in third place\"\n",
    "    assert hamming_distance(\"TAG\", \"GAT\") == 2, \"Differ in first and third place\"\n",
    "    assert hamming_distance(\"GATACA\", \"GCATAA\") == 4, \"Differ in four places\"\n",
    "    assert hamming_distance(\"GGACGGATTCTG\", \"AGGACGGATTCT\") == 9, \"Differ in nine places\"\n",
    "\n",
    "    return 'Success'\n",
    "\n",
    "test_hamming()"
   ]
  },
  {
   "cell_type": "code",
   "execution_count": 17,
   "metadata": {},
   "outputs": [
    {
     "name": "stdout",
     "output_type": "stream",
     "text": [
      "Success\n"
     ]
    }
   ],
   "source": [
    "# Your function should throw an ValueError exception if the strings have different lengths\n",
    "#\n",
    "# If it doesn't, I will raise an exception\n",
    "#\n",
    "try:\n",
    "    hamming_distance(\"AATG\", \"AAA\")\n",
    "    assert 1 == 2, \"You were supposed to raise an Exception!\"\n",
    "except ValueError:\n",
    "    print(\"Success\")\n",
    "except:\n",
    "    assert 1 == 2, \"You were supposed to raise an ValueError Exception!\""
   ]
  },
  {
   "cell_type": "markdown",
   "metadata": {},
   "source": [
    "## Problem 4: Find Reversals\n",
    "\n",
    "Write a function that takes a list, and returns a list representing each word whose reverse is also in the list.\n",
    "\n",
    "```python\n",
    "    def find_reversals(lst: List[str]) -> List[str]:\n",
    "```\n",
    "\n",
    "Each pair, such as 'abut', 'tuba', should be represented by the first element encountered.  Don't report the same pairs twice.  \n",
    "\n",
    "Don't list palindromes.  "
   ]
  },
  {
   "cell_type": "markdown",
   "metadata": {},
   "source": [
    "<div class=\"alert alert-block alert-info\">\n",
    "Fill in your function definition in the cell below.\n",
    "</div>"
   ]
  },
  {
   "cell_type": "code",
   "execution_count": 20,
   "metadata": {},
   "outputs": [],
   "source": [
    "def find_reversals(lst):\n",
    "    \"Find unique reversals in the list\"\n",
    "    \n",
    "    reversals_list = []  # list to hold reversals found\n",
    "    \n",
    "    for word in lst:\n",
    "        word = word.lower()\n",
    "        word_reverse = word[::-1]\n",
    "        \n",
    "        # if word is a reverse, is not in reverse list, and not a palindrome, add to results_list\n",
    "        if (word != word_reverse) and (word_reverse in lst) and (word_reverse not in reversals_list) and (word not in reversals_list):\n",
    "            reversals_list.append(word)\n",
    "            \n",
    "    return reversals_list\n"
   ]
  },
  {
   "cell_type": "markdown",
   "metadata": {},
   "source": [
    "## Test cases for find_reversals()"
   ]
  },
  {
   "cell_type": "code",
   "execution_count": 21,
   "metadata": {},
   "outputs": [
    {
     "name": "stdout",
     "output_type": "stream",
     "text": [
      "Success!\n"
     ]
    }
   ],
   "source": [
    "assert find_reversals(['art', 'Rat', 'Radar', 'scam', 'tar', 'vista']) == ['rat']\n",
    "assert find_reversals(['abut', 'Rat', 'Radar', 'tuba']) == ['abut']\n",
    "assert find_reversals(['art', 'Rat', 'Radars', 'scam', 'tartars', 'vista']) == []\n",
    "\n",
    "assert find_reversals(['art', 'tuba', 'Rat', 'Radar', 'rat', 'radar', 'abut', 'tar', 'tar']) == ['tuba', 'rat']\n",
    "assert find_reversals(['art', 'tuba', 'Rat', 'Radar', 'tar', 'tar', 'rat', 'radar', 'abut']) == ['tuba', 'rat']\n",
    "\n",
    "assert find_reversals(['Radar']) == []\n",
    "assert find_reversals(['test']) == []\n",
    "assert find_reversals([]) == []\n",
    "\n",
    "print('Success!')"
   ]
  },
  {
   "cell_type": "markdown",
   "metadata": {
    "collapsed": true
   },
   "source": [
    "## Problem 5: Find reversals in the dictionary\n",
    "\n",
    "### Write a program that finds the reversals in Downey's word list.\n",
    "\n",
    "List each pair only once, and only report the first word: List 'abut', but not 'tuba'\n",
    "\n",
    "Do not list palindromes.  \n",
    "\n",
    "```python\n",
    "    def find_reversals_in_file(fileName: str) -> List[str]:\n",
    "```\n",
    "\n",
    "### If you try to open a file that does not exist, you should catch a FileNotFoundError and print an error message in your own words"
   ]
  },
  {
   "cell_type": "markdown",
   "metadata": {},
   "source": [
    "<div class=\"alert alert-block alert-info\">\n",
    "Fill in your function definition in the cell below.\n",
    "</div>"
   ]
  },
  {
   "cell_type": "code",
   "execution_count": 22,
   "metadata": {},
   "outputs": [],
   "source": [
    "# Enter your function  here\n",
    "\n",
    "def find_reversals_in_file(filename):\n",
    "    \"Find reversals in file\"\n",
    "    \n",
    "    reversals_dict = {}  # Create an empty dictionary to store words from file\n",
    "    try:\n",
    "        with open(filename) as words_file:\n",
    "            for word in words_file:\n",
    "                word = word.lower().strip()\n",
    "                reversals_dict[word] = None               \n",
    "    \n",
    "        return find_reversals(reversals_dict)\n",
    "\n",
    "    except FileNotFoundError:\n",
    "        print(\"Houston we have a problem - no such file exists\")       "
   ]
  },
  {
   "cell_type": "markdown",
   "metadata": {},
   "source": [
    "<div class=\"alert alert-block alert-info\">\n",
    "Call your function in the cell below.  You may change the path to point to your copy of words.txt\n",
    "</div>"
   ]
  },
  {
   "cell_type": "code",
   "execution_count": 23,
   "metadata": {},
   "outputs": [
    {
     "name": "stdout",
     "output_type": "stream",
     "text": [
      "There were 397 reversals\n",
      "abut\n",
      "ad\n",
      "ados\n",
      "agar\n",
      "agas\n",
      "agenes\n",
      "ah\n",
      "aider\n",
      "airts\n",
      "ajar\n"
     ]
    }
   ],
   "source": [
    "# Call your function here\n",
    "lst = find_reversals_in_file(\"words.txt\")\n",
    "\n",
    "print(f\"There were {len(lst)} reversals\")\n",
    "\n",
    "for word in lst[:10]:\n",
    "    print(word)"
   ]
  },
  {
   "cell_type": "markdown",
   "metadata": {},
   "source": [
    "<div class=\"alert alert-block alert-info\">\n",
    "Call your function on a file that doesn't exist\n",
    "    You should catch the exception and print a message in your own words\n",
    "</div>"
   ]
  },
  {
   "cell_type": "code",
   "execution_count": 24,
   "metadata": {},
   "outputs": [
    {
     "name": "stdout",
     "output_type": "stream",
     "text": [
      "Houston we have a problem - no such file exists\n"
     ]
    }
   ],
   "source": [
    "# Call your function here on a file that doesn't exist\n",
    "#\n",
    "lst = find_reversals_in_file(\"mxyzptlk.txt\")"
   ]
  },
  {
   "cell_type": "markdown",
   "metadata": {},
   "source": [
    "## Problem 6: Find Python files\n",
    "\n",
    "Starting with Downey's walk.py, write a function find_python_files() to return a list of all Python files below a directory in the file system.\n",
    "\n",
    "```python\n",
    "    def find_python_files(dirName: str) -> List[str]:\n",
    "```\n",
    "\n",
    "When I call it on my directory 'Python/Programs', I get a list like this:\n",
    "    \n",
    "```python\n",
    "./day4/cross.py\n",
    "./day4/hanoi.py\n",
    "./day4/isvowel.py\n",
    "./day4/Koch.py\n",
    "./day4/dragon.py\n",
    "./day3/binary_search.py\n",
    "./day3/file2.py\n",
    "./day3/reverse.py\n",
    "./day3/longwords2.py\n",
    "./day3/paint.py\n",
    "./day3/file3.py\n",
    "...\n",
    "```\n",
    "\n",
    "Incude in your notebook output an example with at least this level of complexity: multiple levels and multiple directories.  \n",
    "(You may need to create some directories and copy some file around to achieve that.)"
   ]
  },
  {
   "cell_type": "markdown",
   "metadata": {},
   "source": [
    "<div class=\"alert alert-block alert-info\">\n",
    "define your function below\n",
    "</div>"
   ]
  },
  {
   "cell_type": "code",
   "execution_count": 25,
   "metadata": {},
   "outputs": [],
   "source": [
    "import os\n",
    "import sys\n",
    "\n",
    "def find_python_files(dirname: str):\n",
    "    \"Perform a recursive traverse of directories\"\n",
    "    for root, dirs, files in os.walk(\"./Day05\", topdown=False):\n",
    "        for name in dirs:\n",
    "            print(os.path.join(root, name))   "
   ]
  },
  {
   "cell_type": "markdown",
   "metadata": {},
   "source": [
    "<div class=\"alert alert-block alert-info\">\n",
    "Call your function below.  You may change the directory to find your python files.\n",
    "</div>"
   ]
  },
  {
   "cell_type": "code",
   "execution_count": 26,
   "metadata": {},
   "outputs": [
    {
     "name": "stdout",
     "output_type": "stream",
     "text": [
      "./Day05/.ipynb_checkpoints\n"
     ]
    },
    {
     "ename": "TypeError",
     "evalue": "'NoneType' object is not iterable",
     "output_type": "error",
     "traceback": [
      "\u001b[0;31m---------------------------------------------------------------------------\u001b[0m",
      "\u001b[0;31mTypeError\u001b[0m                                 Traceback (most recent call last)",
      "\u001b[0;32m<ipython-input-26-1ec121f078ed>\u001b[0m in \u001b[0;36m<module>\u001b[0;34m\u001b[0m\n\u001b[1;32m      1\u001b[0m \u001b[0mlst\u001b[0m \u001b[0;34m=\u001b[0m \u001b[0mfind_python_files\u001b[0m\u001b[0;34m(\u001b[0m\u001b[0;34m'..'\u001b[0m\u001b[0;34m)\u001b[0m\u001b[0;34m\u001b[0m\u001b[0;34m\u001b[0m\u001b[0m\n\u001b[1;32m      2\u001b[0m \u001b[0;34m\u001b[0m\u001b[0m\n\u001b[0;32m----> 3\u001b[0;31m \u001b[0;32mfor\u001b[0m \u001b[0mw\u001b[0m \u001b[0;32min\u001b[0m \u001b[0mlst\u001b[0m\u001b[0;34m:\u001b[0m\u001b[0;34m\u001b[0m\u001b[0;34m\u001b[0m\u001b[0m\n\u001b[0m\u001b[1;32m      4\u001b[0m     \u001b[0mprint\u001b[0m\u001b[0;34m(\u001b[0m\u001b[0mw\u001b[0m\u001b[0;34m)\u001b[0m\u001b[0;34m\u001b[0m\u001b[0;34m\u001b[0m\u001b[0m\n",
      "\u001b[0;31mTypeError\u001b[0m: 'NoneType' object is not iterable"
     ]
    }
   ],
   "source": [
    "lst = find_python_files('..')\n",
    "\n",
    "for w in lst:\n",
    "    print(w)"
   ]
  },
  {
   "cell_type": "markdown",
   "metadata": {},
   "source": [
    "# Post Mortem"
   ]
  },
  {
   "cell_type": "markdown",
   "metadata": {},
   "source": [
    "How long did it take you to solve this problem set?\n",
    "\n",
    "Did anything confuse you or cause difficulty?"
   ]
  },
  {
   "cell_type": "code",
   "execution_count": null,
   "metadata": {},
   "outputs": [],
   "source": [
    "# Enter your thoughts\n",
    "# OK, problem 5 takes waaaaay too long. "
   ]
  },
  {
   "cell_type": "code",
   "execution_count": null,
   "metadata": {},
   "outputs": [],
   "source": []
  }
 ],
 "metadata": {
  "kernelspec": {
   "display_name": "Python 3",
   "language": "python",
   "name": "python3"
  },
  "language_info": {
   "codemirror_mode": {
    "name": "ipython",
    "version": 3
   },
   "file_extension": ".py",
   "mimetype": "text/x-python",
   "name": "python",
   "nbconvert_exporter": "python",
   "pygments_lexer": "ipython3",
   "version": "3.8.3"
  }
 },
 "nbformat": 4,
 "nbformat_minor": 1
}
