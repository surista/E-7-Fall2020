{
 "cells": [
  {
   "cell_type": "markdown",
   "metadata": {},
   "source": [
    "# Day 5 examples\n",
    "\n",
    "## Oct 2, JDP"
   ]
  },
  {
   "cell_type": "markdown",
   "metadata": {},
   "source": [
    "# Homework"
   ]
  },
  {
   "cell_type": "markdown",
   "metadata": {},
   "source": [
    "# Problem 1"
   ]
  },
  {
   "cell_type": "markdown",
   "metadata": {},
   "source": [
    "# is_vowel"
   ]
  },
  {
   "cell_type": "code",
   "execution_count": 8,
   "metadata": {},
   "outputs": [],
   "source": [
    "def test_is_vowel():\n",
    "\tassert(is_vowel('a'))\n",
    "\tassert(is_vowel('e'))\n",
    "\tassert(is_vowel('i'))\n",
    "\tassert(is_vowel('o'))\n",
    "\tassert(is_vowel('u'))\n",
    "\n",
    "\tassert(is_vowel('A'))\n",
    "\tassert(is_vowel('E'))\n",
    "\tassert(is_vowel('I'))\n",
    "\tassert(is_vowel('O'))\n",
    "\tassert(is_vowel('U'))\n",
    "\n",
    "\tassert(not is_vowel('b'))\n",
    "\tassert(not is_vowel('m'))\n",
    "\tassert(not is_vowel('z'))\n",
    "\tassert(not is_vowel('C'))\n",
    "\tassert(not is_vowel('R'))\n",
    "\tassert(not is_vowel('X'))\n",
    "\t\n",
    "\treturn 'Pass!'"
   ]
  },
  {
   "cell_type": "markdown",
   "metadata": {},
   "source": [
    "# Has all vowels"
   ]
  },
  {
   "cell_type": "code",
   "execution_count": 9,
   "metadata": {},
   "outputs": [],
   "source": [
    "# Test cases\n",
    "def test_has_all_vowels():\n",
    "    assert(has_all_vowels('vexatious'))\n",
    "    assert(has_all_vowels('VEXATIOUS'))\n",
    "\n",
    "    # Now remove one vowel at a time\n",
    "    # Each test case should return False\n",
    "    assert(not has_all_vowels('vxatious'))\n",
    "    assert(not has_all_vowels('vextious'))\n",
    "    assert(not has_all_vowels('vexatous'))\n",
    "    assert(not has_all_vowels('vexatius'))\n",
    "    assert(not has_all_vowels('vexatios'))\n",
    "\n",
    "    return 'Pass'"
   ]
  },
  {
   "cell_type": "markdown",
   "metadata": {},
   "source": [
    "# Is all vowels"
   ]
  },
  {
   "cell_type": "code",
   "execution_count": 10,
   "metadata": {},
   "outputs": [],
   "source": [
    "def test_is_all_vowels():\n",
    "    assert(is_all_vowels('aie'))\n",
    "    assert(is_all_vowels('Aie'))\n",
    "    assert(is_all_vowels('AeIoU'))\n",
    "\n",
    "    assert(not is_all_vowels('kaie'))\n",
    "    assert(not is_all_vowels('akie'))\n",
    "    assert(not is_all_vowels('aike'))\n",
    "    assert(not is_all_vowels('aiek'))\n",
    "\n",
    "    return 'Pass!'"
   ]
  },
  {
   "cell_type": "markdown",
   "metadata": {},
   "source": [
    "# Problem 2: Is Palindrome?"
   ]
  },
  {
   "cell_type": "code",
   "execution_count": 11,
   "metadata": {},
   "outputs": [],
   "source": [
    "def test_is_palindrome():\n",
    "    assert(is_palindrome('A'))\n",
    "    assert(is_palindrome('Radar'))\n",
    "    assert(is_palindrome('radar'))\n",
    "    assert(is_palindrome('Ada'))\n",
    "    assert(is_palindrome('madaM'))\n",
    "\n",
    "    assert(not is_palindrome('adar'))\n",
    "    assert(not is_palindrome('loop'))\n",
    "    assert(not is_palindrome('leal'))\n",
    "\n",
    "    return('Pass!')"
   ]
  },
  {
   "cell_type": "markdown",
   "metadata": {},
   "source": [
    "# Problem 3: Crossword Puzzle"
   ]
  },
  {
   "cell_type": "markdown",
   "metadata": {},
   "source": [
    "# Look for matches in the file"
   ]
  },
  {
   "cell_type": "markdown",
   "metadata": {},
   "source": [
    "## Digression: Introduction to lists"
   ]
  },
  {
   "cell_type": "code",
   "execution_count": 1,
   "metadata": {},
   "outputs": [
    {
     "name": "stdout",
     "output_type": "stream",
     "text": [
      "[]\n"
     ]
    }
   ],
   "source": [
    "res = []\n",
    "\n",
    "print(res)"
   ]
  },
  {
   "cell_type": "code",
   "execution_count": 2,
   "metadata": {},
   "outputs": [
    {
     "name": "stdout",
     "output_type": "stream",
     "text": [
      "['one']\n"
     ]
    }
   ],
   "source": [
    "res.append('one')\n",
    "\n",
    "print(res)"
   ]
  },
  {
   "cell_type": "code",
   "execution_count": 3,
   "metadata": {},
   "outputs": [
    {
     "name": "stdout",
     "output_type": "stream",
     "text": [
      "['one', 'two']\n"
     ]
    }
   ],
   "source": [
    "res.append('two')\n",
    "\n",
    "print(res)"
   ]
  },
  {
   "cell_type": "markdown",
   "metadata": {},
   "source": [
    "# Lists\n",
    "\n",
    "We can iterate across a list"
   ]
  },
  {
   "cell_type": "code",
   "execution_count": 4,
   "metadata": {},
   "outputs": [
    {
     "name": "stdout",
     "output_type": "stream",
     "text": [
      "1\n",
      "2\n",
      "3\n"
     ]
    }
   ],
   "source": [
    "lst = [1, 2, 3]\n",
    "\n",
    "# Print the contents\n",
    "for i in lst:\n",
    "    print(i)   "
   ]
  },
  {
   "cell_type": "code",
   "execution_count": 5,
   "metadata": {},
   "outputs": [
    {
     "name": "stdout",
     "output_type": "stream",
     "text": [
      "one\n",
      "two\n",
      "three\n"
     ]
    }
   ],
   "source": [
    "lst = [\"one\", \"two\", \"three\"]\n",
    "\n",
    "# Print the contents\n",
    "for word in lst:\n",
    "    print(word)"
   ]
  },
  {
   "cell_type": "markdown",
   "metadata": {},
   "source": [
    "# We can use slicing"
   ]
  },
  {
   "cell_type": "code",
   "execution_count": 6,
   "metadata": {},
   "outputs": [
    {
     "name": "stdout",
     "output_type": "stream",
     "text": [
      "two\n",
      "three\n"
     ]
    }
   ],
   "source": [
    "lst = [\"one\", \"two\", \"three\"]\n",
    "\n",
    "# Print a slice\n",
    "for word in lst[1:]:\n",
    "    print(word)"
   ]
  },
  {
   "cell_type": "code",
   "execution_count": 7,
   "metadata": {},
   "outputs": [
    {
     "name": "stdout",
     "output_type": "stream",
     "text": [
      "three\n"
     ]
    }
   ],
   "source": [
    "lst = [\"one\", \"two\", \"three\"]\n",
    "\n",
    "# Print a slice\n",
    "for word in lst[2:]:\n",
    "    print(word)"
   ]
  },
  {
   "cell_type": "code",
   "execution_count": null,
   "metadata": {},
   "outputs": [],
   "source": [
    "lst = [\"one\", \"two\", \"three\"]\n",
    "\n",
    "# Print a slice\n",
    "for word in lst[:2]:\n",
    "    print(word)"
   ]
  },
  {
   "cell_type": "markdown",
   "metadata": {},
   "source": [
    "# and indexing"
   ]
  },
  {
   "cell_type": "code",
   "execution_count": null,
   "metadata": {},
   "outputs": [],
   "source": [
    "lst = [\"one\", \"two\", \"three\"]\n",
    "\n",
    "# Print an element\n",
    "print(lst[0])\n",
    "print(lst[-1])"
   ]
  },
  {
   "cell_type": "markdown",
   "metadata": {},
   "source": [
    "# Filtering - traverse the list, and print matches"
   ]
  },
  {
   "cell_type": "code",
   "execution_count": null,
   "metadata": {},
   "outputs": [],
   "source": [
    "lst = [\"one\", \"two\", \"three\"]\n",
    "\n",
    "# Print those that match\n",
    "for word in lst:\n",
    "    if word[0] = 't':\n",
    "        print(word)\n"
   ]
  },
  {
   "cell_type": "code",
   "execution_count": null,
   "metadata": {},
   "outputs": [],
   "source": [
    "lst = [\"one\", \"two\", \"three\"]\n",
    "\n",
    "# Print those that match\n",
    "for word in lst:\n",
    "    if (word.find('o') > 0):\n",
    "        print(word)"
   ]
  },
  {
   "cell_type": "markdown",
   "metadata": {},
   "source": [
    "# We can change a list"
   ]
  },
  {
   "cell_type": "code",
   "execution_count": null,
   "metadata": {
    "collapsed": true
   },
   "outputs": [],
   "source": [
    "lst = [\"one\", \"two\", \"three\"]\n",
    "\n",
    "# Update the 3rd element\n",
    "lst[2] = \"four\"\n",
    "print(lst)"
   ]
  },
  {
   "cell_type": "markdown",
   "metadata": {},
   "source": [
    "# We can remove an element"
   ]
  },
  {
   "cell_type": "code",
   "execution_count": null,
   "metadata": {
    "collapsed": true
   },
   "outputs": [],
   "source": [
    "lst = [\"one\", \"two\", \"three\"]\n",
    "\n",
    "# Remove the second item\n",
    "item = lst.pop(1)\n",
    "print(item)\n",
    "print(lst)"
   ]
  },
  {
   "cell_type": "markdown",
   "metadata": {},
   "source": [
    "# Lists support a test for inclusion"
   ]
  },
  {
   "cell_type": "code",
   "execution_count": null,
   "metadata": {
    "collapsed": true
   },
   "outputs": [],
   "source": [
    "lst = [\"one\", \"two\", \"three\"]\n",
    "\n",
    "# Is it in the list?\n",
    "if ('one' in lst):\n",
    "    print(\"Found it!\")"
   ]
  },
  {
   "cell_type": "markdown",
   "metadata": {},
   "source": [
    "# We can create a new list by appending to the tail of an empty list\n",
    "\n",
    "# This idiom is often used to 'filter' a list"
   ]
  },
  {
   "cell_type": "code",
   "execution_count": null,
   "metadata": {},
   "outputs": [],
   "source": [
    "lst = ['ship', 'test', 'set', 'mast', 'leap']\n",
    "\n",
    "# Store our results here\n",
    "res = []\n",
    "\n",
    "# Check each word in the list\n",
    "for word in lst:\n",
    "    \n",
    "    # if it matches\n",
    "    if (len(word) = 4) and (word[-1] = 't'):\n",
    "        \n",
    "        # Add to our list\n",
    "        res.append(word)\n",
    "        \n",
    "print(res)"
   ]
  },
  {
   "cell_type": "markdown",
   "metadata": {},
   "source": [
    "# We will see a better way to do this using List Comprehensions"
   ]
  },
  {
   "cell_type": "markdown",
   "metadata": {},
   "source": [
    "# Lists support many useful functions"
   ]
  },
  {
   "cell_type": "code",
   "execution_count": null,
   "metadata": {},
   "outputs": [],
   "source": [
    "lst = [5, 90, 78, 45, 2]\n",
    "\n",
    "print(\"List:\\t\", lst)\n",
    "print(\"Length:\\t\", len(lst))\n",
    "print(\"Min:\\t\", min(lst))\n",
    "print(\"Max:\\t\", max(lst))\n",
    "print(\"Sum:\\t\", sum(lst))"
   ]
  },
  {
   "cell_type": "markdown",
   "metadata": {},
   "source": [
    "## These functions are designed to work on as many types as possible"
   ]
  },
  {
   "cell_type": "code",
   "execution_count": null,
   "metadata": {},
   "outputs": [],
   "source": [
    "lst = ['five', 'ninety', 'two']\n",
    "\n",
    "print(\"List:\\t\", lst)\n",
    "print(\"Length:\\t\", len(lst))\n",
    "print(\"Min:\\t\", min(lst))\n",
    "print(\"Max:\\t\", max(lst))\n",
    "print(\"Sum:\\t\", sum(lst))"
   ]
  },
  {
   "cell_type": "markdown",
   "metadata": {},
   "source": [
    "## The list() function turns a word into a list"
   ]
  },
  {
   "cell_type": "code",
   "execution_count": null,
   "metadata": {},
   "outputs": [],
   "source": [
    "word = \"sunny\"\n",
    "lst = list(word)\n",
    "\n",
    "print(lst)"
   ]
  },
  {
   "cell_type": "markdown",
   "metadata": {},
   "source": [
    "## We can return the favor, and turn a list into a string"
   ]
  },
  {
   "cell_type": "code",
   "execution_count": null,
   "metadata": {},
   "outputs": [],
   "source": [
    "lst = ['s', 'u', 'n', 'n', 'y']\n",
    "\n",
    "\n",
    "res = ''.join(lst)\n",
    "print(res)\n",
    "\n",
    "res = '_'.join(lst)\n",
    "print(res)"
   ]
  },
  {
   "cell_type": "markdown",
   "metadata": {},
   "source": [
    "### Leo Rosten wrote a book about an imigrant, Hyman Kaplan, in New York.\n",
    "\n",
    "### Hyman would come to class each night and write his name in a special way:\n",
    "\n",
    "https://en.wikipedia.org/wiki/Hyman_Kaplan"
   ]
  },
  {
   "cell_type": "code",
   "execution_count": null,
   "metadata": {},
   "outputs": [],
   "source": [
    "lst = list(\"HYMAN KAPLAN\")\n",
    "\n",
    "print('*'.join(lst))"
   ]
  },
  {
   "cell_type": "markdown",
   "metadata": {},
   "source": [
    "## This isn't quite right.  Can we fix it?"
   ]
  },
  {
   "cell_type": "code",
   "execution_count": null,
   "metadata": {},
   "outputs": [],
   "source": [
    "name = \"HYMAN KAPLAN\"\n",
    "\n",
    "splt = name.split()\n",
    "print(splt)          # See what we have"
   ]
  },
  {
   "cell_type": "code",
   "execution_count": null,
   "metadata": {},
   "outputs": [],
   "source": [
    "name = \"HYMAN KAPLAN\"\n",
    "splt = name.split()\n",
    "\n",
    "res = []\n",
    "for word in splt:\n",
    "    lst = list(word)\n",
    "    res.append('*'.join(lst))\n",
    "\n",
    "print(' '.join(res))"
   ]
  },
  {
   "cell_type": "markdown",
   "metadata": {},
   "source": [
    "# While Loops"
   ]
  },
  {
   "cell_type": "markdown",
   "metadata": {},
   "source": [
    "## While loops are used when it is hard to predict when something will happen"
   ]
  },
  {
   "cell_type": "code",
   "execution_count": null,
   "metadata": {},
   "outputs": [],
   "source": [
    "i = 10           # Initialize\n",
    "while i > 0:     # Test\n",
    "    print(i)     # Action\n",
    "    i = i - 1    # Update\n",
    "\n",
    "print('Blastoff!')"
   ]
  },
  {
   "cell_type": "markdown",
   "metadata": {},
   "source": [
    "## For loops make the initialization, test, and update steps much simpler, and harder to miss"
   ]
  },
  {
   "cell_type": "code",
   "execution_count": null,
   "metadata": {},
   "outputs": [],
   "source": [
    "                    # Initialize\n",
    "for i in range(10, 0, -1): # Test\n",
    "                    # Update\n",
    "\n",
    "   print(i)    # Action\n",
    "\n",
    "print('Blastoff!')"
   ]
  },
  {
   "cell_type": "markdown",
   "metadata": {},
   "source": [
    "## Sample use of while and lists: our start on an Octal Dump program od.py"
   ]
  },
  {
   "cell_type": "code",
   "execution_count": null,
   "metadata": {},
   "outputs": [],
   "source": [
    "def display(ch):\n",
    "    if ch.isalpha():\n",
    "        return ch + ' '\n",
    "    else:\n",
    "        return str(ord(ch))"
   ]
  },
  {
   "cell_type": "code",
   "execution_count": null,
   "metadata": {},
   "outputs": [],
   "source": [
    "print(display('a'))"
   ]
  },
  {
   "cell_type": "code",
   "execution_count": null,
   "metadata": {},
   "outputs": [],
   "source": [
    "print(display('3'))"
   ]
  },
  {
   "cell_type": "code",
   "execution_count": null,
   "metadata": {},
   "outputs": [],
   "source": [
    "print(display('\\n'))"
   ]
  },
  {
   "cell_type": "markdown",
   "metadata": {},
   "source": [
    "## Use this to illuminate a file"
   ]
  },
  {
   "cell_type": "code",
   "execution_count": null,
   "metadata": {},
   "outputs": [],
   "source": [
    "! od -c on.txt"
   ]
  },
  {
   "cell_type": "code",
   "execution_count": null,
   "metadata": {},
   "outputs": [],
   "source": [
    "! od -c on.dos"
   ]
  },
  {
   "cell_type": "code",
   "execution_count": null,
   "metadata": {},
   "outputs": [],
   "source": [
    "with open('on.txt', 'r') as f:\n",
    "\n",
    "    # Read the whole file\n",
    "    text = f.read()\n",
    "\n",
    "    while (len(text) > 0):\n",
    "        # Get the next 16 characters\n",
    "        line = text[:16]\n",
    "        text = text[16:]\n",
    "\n",
    "        # Build a list of the representations\n",
    "        lst = []\n",
    "        for ch in line:\n",
    "            lst.append(display(ch))\n",
    "\n",
    "        # Paste the elements together with some spacing\n",
    "        s = '  '\n",
    "        print(s.join(lst))"
   ]
  },
  {
   "cell_type": "markdown",
   "metadata": {},
   "source": [
    "## This is a start.  We could use isprint() instead: but we need to be smarter about whitespace"
   ]
  },
  {
   "cell_type": "code",
   "execution_count": null,
   "metadata": {
    "collapsed": true
   },
   "outputs": [],
   "source": [
    "# Return a string represnting the character\n",
    "# Most of the strings have length 2: the final set may not\n",
    "def display(ch):\n",
    "    # Deal with the whitespace first:\n",
    "    # printable, but needs special processing\n",
    "    if (ch == ' '):\n",
    "        return '  '\n",
    "    elif (ch == '\\t'):\n",
    "        return '\\\\t'\n",
    "    elif (ch == '\\n'):\n",
    "        return '\\\\n'\n",
    "    elif (ch == '\\r'):\n",
    "        return '\\\\r'\n",
    "    elif ch.isprintable():\n",
    "        return ch + ' '\n",
    "    else:\n",
    "        return str(ord(ch))"
   ]
  },
  {
   "cell_type": "code",
   "execution_count": null,
   "metadata": {},
   "outputs": [],
   "source": [
    "print(display('\\n'))"
   ]
  },
  {
   "cell_type": "code",
   "execution_count": null,
   "metadata": {},
   "outputs": [],
   "source": [
    "with open('on.txt', 'r') as f:\n",
    "    \n",
    "    # Read the whole file\n",
    "    text = f.read()\n",
    "\n",
    "    while (len(text) > 0):\n",
    "        # Get the next 16 characters\n",
    "        line = text[:16]\n",
    "        text = text[16:]\n",
    "\n",
    "        # Build a list of the representations\n",
    "        lst = []\n",
    "        for ch in line:\n",
    "            lst.append(display(ch))\n",
    "\n",
    "        # Paste the elements together with some spacing\n",
    "        s = '  '\n",
    "        print(s.join(lst))"
   ]
  },
  {
   "cell_type": "markdown",
   "metadata": {},
   "source": [
    "# Downey example: copy a file, and remove comments"
   ]
  },
  {
   "cell_type": "code",
   "execution_count": null,
   "metadata": {
    "collapsed": true
   },
   "outputs": [],
   "source": [
    "# Take lines from old file and write to new\n",
    "# Don't copy lines that start with '#'\n",
    "def filterFile(oldFile, newFile):\n",
    "\n",
    "    with open(oldFile, 'r') as old:\n",
    "        with open(newFile, 'w') as new:  # 'w' vs 'r'\n",
    "\n",
    "            # For each line of the old file\n",
    "            for text in old:\n",
    "\n",
    "                # If it isn't a comment, copy it\n",
    "                if text[0] != '#':\n",
    "                    new.write(text)\n",
    "                                        \n",
    "filterFile('od.py', 'newFile.py')"
   ]
  },
  {
   "cell_type": "code",
   "execution_count": null,
   "metadata": {},
   "outputs": [],
   "source": [
    "! more newFile.py"
   ]
  },
  {
   "cell_type": "markdown",
   "metadata": {},
   "source": [
    "## Only deals with comments that start in col 0"
   ]
  },
  {
   "cell_type": "markdown",
   "metadata": {},
   "source": [
    "# Exceptions"
   ]
  },
  {
   "cell_type": "code",
   "execution_count": null,
   "metadata": {},
   "outputs": [],
   "source": [
    "with open('file.txt', 'r') as words:\n",
    "    for line in words:\n",
    "        line = line.strip()\n",
    "        print(line)\n",
    "        if (len(line) == 4) and (line[-1] == 't'):\n",
    "            print(line)"
   ]
  },
  {
   "cell_type": "markdown",
   "metadata": {},
   "source": [
    "## We can catch exceptions and deal with them"
   ]
  },
  {
   "cell_type": "code",
   "execution_count": null,
   "metadata": {},
   "outputs": [],
   "source": [
    "try:\n",
    "    with open('file.txt', 'r') as words:\n",
    "        for line in words:\n",
    "            line = line.strip()\n",
    "            if (len(line) == 4) and (line[-1] == 't'):\n",
    "                print(line)\n",
    "except:\n",
    "    print('Could not open the file')"
   ]
  },
  {
   "cell_type": "markdown",
   "metadata": {},
   "source": [
    "## You may wish to deal with different exceptions different ways"
   ]
  },
  {
   "cell_type": "code",
   "execution_count": null,
   "metadata": {},
   "outputs": [],
   "source": [
    "try:\n",
    "    with open('file.txt', 'r') as words:\n",
    "        for line in words:\n",
    "            line = line.strip()\n",
    "            if (len(line) == 4) and (line[-1] == 't'):\n",
    "                print(line)\n",
    "except FileNotFoundError:\n",
    "    print('File was not found')\n",
    "except:\n",
    "    print('Could not open the file')"
   ]
  },
  {
   "cell_type": "markdown",
   "metadata": {},
   "source": [
    "## Let's return to our problem of trying to read an integer"
   ]
  },
  {
   "cell_type": "code",
   "execution_count": null,
   "metadata": {},
   "outputs": [],
   "source": [
    "try:\n",
    "    x = int(3.2)\n",
    "    print(x)\n",
    "    y = int('three')\n",
    "    print(y)\n",
    "except ValueError:\n",
    "    print(\"Could not convert to integer\")"
   ]
  },
  {
   "cell_type": "markdown",
   "metadata": {},
   "source": [
    "# Recursion redux: alternative to Unix find command"
   ]
  },
  {
   "cell_type": "code",
   "execution_count": null,
   "metadata": {
    "collapsed": true
   },
   "outputs": [],
   "source": [
    "# For DOS systems\n",
    "\n",
    "! tree /F"
   ]
  },
  {
   "cell_type": "code",
   "execution_count": null,
   "metadata": {
    "scrolled": false
   },
   "outputs": [],
   "source": [
    "# For UNIX systems\n",
    "\n",
    "! find ..     # Unix Command"
   ]
  },
  {
   "cell_type": "markdown",
   "metadata": {},
   "source": [
    "# Directory operations"
   ]
  },
  {
   "cell_type": "code",
   "execution_count": null,
   "metadata": {},
   "outputs": [],
   "source": [
    "import os\n",
    "\n",
    "# . is the current working directory (CWD)\n",
    "dirname = '.'\n",
    "\n",
    "for name in os.listdir(dirname):\n",
    "    \n",
    "    print(name)"
   ]
  },
  {
   "cell_type": "markdown",
   "metadata": {},
   "source": [
    "## Want to paste together directory name and file name \n",
    "## Unix names are dir/file\n",
    "## DOS names are dir\\file\n",
    "## Python provides a method join() to do the right thing"
   ]
  },
  {
   "cell_type": "code",
   "execution_count": null,
   "metadata": {},
   "outputs": [],
   "source": [
    "import os\n",
    "\n",
    "# .. is the directory above us\n",
    "dirname = '..'\n",
    "\n",
    "for name in os.listdir(dirname):\n",
    "    \n",
    "    path = os.path.join(dirname, name)  # Do the right thing\n",
    "    \n",
    "    # Tell user which is which\n",
    "    if os.path.isfile(path):\n",
    "        print('File', path)\n",
    "    else:\n",
    "        print('Directory', path)"
   ]
  },
  {
   "cell_type": "markdown",
   "metadata": {},
   "source": [
    "## We can build a path name\n",
    "## We know which files are directories\n",
    "## We would like to peek into the directories as well"
   ]
  },
  {
   "cell_type": "code",
   "execution_count": null,
   "metadata": {},
   "outputs": [],
   "source": [
    "import os\n",
    "\n",
    "# Perform a recursive traverse of directories\n",
    "def walk(dirname):\n",
    "\n",
    "    # Walk over the files in this directory\n",
    "    for name in os.listdir(dirname):\n",
    "\n",
    "        # Construct a full path\n",
    "        path = os.path.join(dirname, name)\n",
    "\n",
    "        # print filenames, and traverse directories\n",
    "        if os.path.isfile(path):\n",
    "            print(path)\n",
    "        else:\n",
    "            walk(path)\n",
    "\n",
    "            \n",
    "# .. is the directory above us           \n",
    "walk('..')"
   ]
  },
  {
   "cell_type": "markdown",
   "metadata": {},
   "source": [
    "# Wrap this up as a program"
   ]
  },
  {
   "cell_type": "code",
   "execution_count": null,
   "metadata": {
    "collapsed": true
   },
   "outputs": [],
   "source": [
    "# walk.py\n",
    "#\n",
    "# List all files below a point in the file system\n",
    "#\n",
    "# Usage:\n",
    "#    python walk.py path\n",
    "#\n",
    "# Based on Downey's Think Python, Chapter 14.4\n",
    "\n",
    "import os\n",
    "import sys\n",
    "\n",
    "# Perform a recursive traverse of directories\n",
    "def walk(dirname):\n",
    "\n",
    "    # Walk over the files in this directory\n",
    "    for name in os.listdir(dirname):\n",
    "\n",
    "        # Construct a full path\n",
    "        path = os.path.join(dirname, name)\n",
    "\n",
    "        # print filenames, and traverse directories\n",
    "        if os.path.isfile(path):\n",
    "            print(path)\n",
    "        else:\n",
    "            walk(path)\n",
    "\n",
    "\n",
    "# Was there anything on the command line?\n",
    "if len(sys.argv) != 2:\n",
    "    print(\"Usage: python walk.py <path>\")\n",
    "else:\n",
    "    walk(sys.argv[1])"
   ]
  },
  {
   "cell_type": "markdown",
   "metadata": {},
   "source": [
    "# Which?\n",
    "## Another useful Unix command is 'which'"
   ]
  },
  {
   "cell_type": "code",
   "execution_count": null,
   "metadata": {},
   "outputs": [],
   "source": [
    "! which python"
   ]
  },
  {
   "cell_type": "code",
   "execution_count": null,
   "metadata": {},
   "outputs": [],
   "source": [
    "# which.py\n",
    "#\n",
    "# Where is a command defined? \n",
    "# Usage:\n",
    "#      % python which.py command \n",
    "#\n",
    "# Jeff Parker, 2018\n",
    "\n",
    "import os\n",
    "\n",
    "# Is the command in this directory?\n",
    "def traverse(dir, target):\n",
    "    try:\n",
    "        # Loop over all files in this directory\n",
    "        for w in os.listdir(dir):\n",
    "            # Is it a match?\n",
    "            if (target == w):\n",
    "                return os.path.join(dir, w)\n",
    "    except:\n",
    "        return None\n",
    "\n",
    "    return None\n",
    "\n",
    "traverse('.', 'od.py')"
   ]
  },
  {
   "cell_type": "markdown",
   "metadata": {},
   "source": [
    "## Good start.  But we need to look other places"
   ]
  },
  {
   "cell_type": "code",
   "execution_count": null,
   "metadata": {},
   "outputs": [],
   "source": [
    "import os\n",
    "\n",
    "res = os.environ[\"PATH\"]\n",
    "path = res.split(':')\n",
    "\n",
    "# Look at each element\n",
    "for w in path:\n",
    "    print(w)"
   ]
  },
  {
   "cell_type": "code",
   "execution_count": null,
   "metadata": {
    "collapsed": true
   },
   "outputs": [],
   "source": [
    "# which.py\n",
    "#\n",
    "# Where is a command defined? \n",
    "# Usage:\n",
    "#      % python which.py command \n",
    "#\n",
    "# Jeff Parker, 2018\n",
    "\n",
    "import sys\n",
    "import os\n",
    "\n",
    "# Is the command in this directory?\n",
    "def traverse(dir, target):\n",
    "    try:\n",
    "        # Loop over all files in this directory\n",
    "        for w in os.listdir(dir):\n",
    "            # Is it a match?\n",
    "            if (target == w):\n",
    "                return os.path.join(dir, w)\n",
    "    except:\n",
    "        return None\n",
    "\n",
    "    return None\n",
    "\n",
    "# Get the system path, and traverse each element in turn\n",
    "def which(target):\n",
    "    res = os.environ[\"PATH\"]\n",
    "    path = res.split(':')\n",
    "    # Look at each element\n",
    "    for w in path:\n",
    "        # Is the target there?\n",
    "        res = traverse(w, target)\n",
    "        if (res):\n",
    "            return res\n",
    "\n",
    "    return \"Could not find \" + target\n",
    "\n",
    "if (len(sys.argv) == 1):\n",
    "    print(\"Usage: python which.py <command>\")\n",
    "else:\n",
    "    print(which(sys.argv[1]))"
   ]
  }
 ],
 "metadata": {
  "kernelspec": {
   "display_name": "Python 3",
   "language": "python",
   "name": "python3"
  },
  "language_info": {
   "codemirror_mode": {
    "name": "ipython",
    "version": 3
   },
   "file_extension": ".py",
   "mimetype": "text/x-python",
   "name": "python",
   "nbconvert_exporter": "python",
   "pygments_lexer": "ipython3",
   "version": "3.8.3"
  }
 },
 "nbformat": 4,
 "nbformat_minor": 1
}
