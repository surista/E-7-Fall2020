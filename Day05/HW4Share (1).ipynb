{
 "cells": [
  {
   "cell_type": "markdown",
   "metadata": {},
   "source": [
    "# HW 4 Share\n",
    "\n",
    "These are problems I am happy to discuss in Section or on Piazza\n",
    "\n",
    "Some are easy, while some are harder than problems we assign.\n",
    "\n",
    "The first problem assembles items into a list to return, and then prints the list.  You will need that in HW #4"
   ]
  },
  {
   "cell_type": "markdown",
   "metadata": {},
   "source": [
    "## 1) Odd Numbers\n",
    "\n",
    "Take a list of numbers, and return a list of odd numbers\n",
    "\n",
    "We start with an empty list\n",
    "\n",
    "```python\n",
    "    # Create an empty list\n",
    "    result = []\n",
    "```\n",
    "\n",
    "When we have something to add, we append() (add it to the end)\n",
    "\n",
    "```python\n",
    "        if num % 2:\n",
    "            result.append(num\n",
    "```\n",
    "\n",
    "When we are done, we return the list\n",
    "\n",
    "```python\n",
    "    # Return the new list of odd numbers\n",
    "    return result\n",
    "```\n",
    "\n",
    "The caller takes the result, and prints all the items in the list, using a for loop.  Notice\n",
    "\n",
    "\n",
    "```python\n",
    "    lst = odd_numbers([1, 2, 3, 4, 5, 6])\n",
    "    \n",
    "    for item in lst:\n",
    "        print(item)\n",
    "```\n",
    "\n",
    "There is a much clumsier way to do this, shown below.  See how ugly it is compared to the Pythonic version above.  \n",
    "\n",
    "```python\n",
    "    lst = odd_numbers([1, 2, 3, 4, 5, 6])\n",
    "    \n",
    "    for i in range(len(lst)):\n",
    "        print(lst[i])\n",
    "```\n",
    "\n",
    "*Pythonic - See the discussion here: https://blog.startifact.com/posts/older/what-is-pythonic.html *"
   ]
  },
  {
   "cell_type": "code",
   "execution_count": null,
   "metadata": {},
   "outputs": [],
   "source": [
    "def odd_numbers(lst):\n",
    "    \"Take a list of numbers, and return a list of odd numbers\"\n",
    "    \n",
    "    # Create an empty list\n",
    "    result = []\n",
    "    \n",
    "    # For each number in the input list\n",
    "    for num in lst:\n",
    "        # If the number is odd...\n",
    "        if num % 2:\n",
    "            # ... add it to the results\n",
    "            result.append(num)\n",
    "    \n",
    "    # Return the new list of odd numbers\n",
    "    return result\n",
    "\n",
    "lst = odd_numbers([1, 2, 3, 4, 5, 6])\n",
    "    \n",
    "for item in lst:\n",
    "    print(item)"
   ]
  },
  {
   "cell_type": "code",
   "execution_count": null,
   "metadata": {},
   "outputs": [],
   "source": [
    "\n",
    "def test_odd_numbers():\n",
    "    assert [] == odd_numbers([2, 4, 6, 8, 10, 12])\n",
    "    assert [1, 3, 5] == odd_numbers([1, 2, 3, 4, 5, 6])\n",
    "    \n",
    "    print('Success!')\n",
    "    \n",
    "test_odd_numbers()"
   ]
  },
  {
   "cell_type": "markdown",
   "metadata": {},
   "source": [
    "## 2) Upper Case\n",
    "\n",
    "Take a string and return a string holding the upper case letters."
   ]
  },
  {
   "cell_type": "code",
   "execution_count": null,
   "metadata": {},
   "outputs": [],
   "source": [
    "def find_upper_case(word):\n",
    "    res = ''\n",
    "    for ch in word:\n",
    "        if ch.isalpha() and ch.isupper():\n",
    "            res = res + ch\n",
    "            \n",
    "    return res"
   ]
  },
  {
   "cell_type": "code",
   "execution_count": null,
   "metadata": {},
   "outputs": [],
   "source": [
    "def test_upper_case():\n",
    "    assert 'IDE'     == find_upper_case('Integrated Development Environment')\n",
    "    assert 'ACRONYM' == find_upper_case('A Contrived Reduction Of Nouns Yielding Mnemonics')\n",
    "    \n",
    "    print('Success')\n",
    "    \n",
    "test_upper_case()"
   ]
  },
  {
   "cell_type": "markdown",
   "metadata": {},
   "source": [
    "## 3) First duplicate\n",
    "Given a string, return the first recurring character that appears in a double letter, or None if there is no recurring character.\n",
    "\n",
    "Given the string \"acabbac\", return \"b\". Given the string \"abcdef\", return None."
   ]
  },
  {
   "cell_type": "code",
   "execution_count": null,
   "metadata": {},
   "outputs": [],
   "source": [
    "def find_double(word):\n",
    "    for i in range(len(word) - 1):\n",
    "        if word[i] == word[i+1]:\n",
    "            return word[i]\n",
    "    return None"
   ]
  },
  {
   "cell_type": "code",
   "execution_count": null,
   "metadata": {},
   "outputs": [],
   "source": [
    "def test_double():\n",
    "    assert 'b' == find_double('acabbac')\n",
    "    assert None == find_double('abcdef')\n",
    "    assert 'a' == find_double('baadd')\n",
    "    assert None == find_double('ababacec')\n",
    "    \n",
    "    print('Success')\n",
    "    \n",
    "test_double()"
   ]
  },
  {
   "cell_type": "markdown",
   "metadata": {},
   "source": [
    "## 4) Double Trouble\n",
    "Find all words in Downey's words.txt with double letters."
   ]
  },
  {
   "cell_type": "code",
   "execution_count": null,
   "metadata": {},
   "outputs": [],
   "source": [
    "# find_mmath from HW #4\n",
    "\n",
    "def find_match(func, filename):\n",
    "    \"Returns a list of all lines matching the condition that function func() checks.\"\n",
    "    \n",
    "    result = []\n",
    "    \n",
    "    # open the file\n",
    "    with open(filename, 'r') as f:\n",
    "\n",
    "        # For each word in the file\n",
    "        for word in f:\n",
    "\n",
    "            # Remove cruft\n",
    "            word = word.strip()\n",
    "\n",
    "            # If it meets the condition\n",
    "            if func(word):\n",
    "                result.append(word)\n",
    "          \n",
    "    return result"
   ]
  },
  {
   "cell_type": "code",
   "execution_count": null,
   "metadata": {},
   "outputs": [],
   "source": [
    "# Your copy of words.txt is probably not in this spot\n",
    "\n",
    "lst = find_match(find_double, '../../Programs/words.txt')\n",
    "print(len(lst), lst)"
   ]
  },
  {
   "cell_type": "markdown",
   "metadata": {},
   "source": [
    "## 5) Slim \n",
    "\n",
    "Take a List and remove duplicates"
   ]
  },
  {
   "cell_type": "code",
   "execution_count": 13,
   "metadata": {},
   "outputs": [],
   "source": [
    "def slim(lst):\n",
    "    res = []\n",
    "    for item in lst:\n",
    "        if not item in res:\n",
    "            res.append(item)\n",
    "            \n",
    "    return res"
   ]
  },
  {
   "cell_type": "code",
   "execution_count": 14,
   "metadata": {},
   "outputs": [
    {
     "name": "stdout",
     "output_type": "stream",
     "text": [
      "Success\n"
     ]
    }
   ],
   "source": [
    "def test_slim():\n",
    "    assert [1] == slim([1, 1, 1])\n",
    "    assert [1, 2] == slim([1, 2, 1, 2])\n",
    "    assert [1, 2, 3] == slim([1, 2, 1, 2, 3, 2, 2, 1, 3])\n",
    "    assert ['pig', 'cow'] == slim(['pig', 'cow', 'cow', 'pig', 'cow'])\n",
    "    \n",
    "    print('Success')\n",
    "    \n",
    "test_slim()"
   ]
  },
  {
   "cell_type": "markdown",
   "metadata": {},
   "source": [
    "## 6) Shortest Representatives\n",
    "Given a string, return the shortest substring containing all the characters in the word. For example, given the string \"abbaacaab\", you should return \"baac\".\n",
    "If there are two minimal substrings, you can return either one. 'caab' would also be valid above."
   ]
  },
  {
   "cell_type": "code",
   "execution_count": 23,
   "metadata": {},
   "outputs": [
    {
     "name": "stdout",
     "output_type": "stream",
     "text": [
      "baac\n",
      "bac\n"
     ]
    }
   ],
   "source": [
    "## This solution uses sorted(), which we have not discussed in class by Lecture 4\n",
    "\n",
    "def shortest_rep(s):\n",
    "    \"\"\"Find a slice of s that holds all letters seen in s\n",
    "       We transform strings into unique representatives, with one copy of each letter\"\"\"\n",
    "    \n",
    "    s = s.lower()\n",
    "    # list(s)              - a list of the elements in stirng s\n",
    "    # slim(list(s))        - the unique letters in s\n",
    "    # sorted(slim(lst(s))) - a unique representation of the set of letters in s\n",
    "    letters = sorted(slim(list(s)))\n",
    "    \n",
    "    # Try slices of increasing size\n",
    "    for ln in range(len(letters), len(s)):\n",
    "        \n",
    "        # Range over all slices of that length\n",
    "        for i in range(len(s) - ln + 1):\n",
    "            \n",
    "            # Compare the current slice to our goal\n",
    "            if sorted(slim(list(set(s[i:i+ln])))) == letters:\n",
    "                return s[i:i+ln]\n",
    "            \n",
    "    return s\n",
    "\n",
    "print(shortest_rep(\"abbAaCaab\"))\n",
    "print(shortest_rep(\"abbAaCaaabac\"))"
   ]
  },
  {
   "cell_type": "code",
   "execution_count": null,
   "metadata": {},
   "outputs": [],
   "source": []
  }
 ],
 "metadata": {
  "kernelspec": {
   "display_name": "Python 3",
   "language": "python",
   "name": "python3"
  },
  "language_info": {
   "codemirror_mode": {
    "name": "ipython",
    "version": 3
   },
   "file_extension": ".py",
   "mimetype": "text/x-python",
   "name": "python",
   "nbconvert_exporter": "python",
   "pygments_lexer": "ipython3",
   "version": "3.8.1"
  }
 },
 "nbformat": 4,
 "nbformat_minor": 4
}
