{
 "cells": [
  {
   "cell_type": "markdown",
   "metadata": {},
   "source": [
    "# Introduction to Programming with Python\n",
    "# Day 5 Notebook - Lists and Exceptions\n",
    "# Fall 2019 - (c) Jeff Parker"
   ]
  },
  {
   "cell_type": "markdown",
   "metadata": {},
   "source": [
    "# Homework"
   ]
  },
  {
   "cell_type": "markdown",
   "metadata": {},
   "source": [
    "# is_vowel() Unit Tests"
   ]
  },
  {
   "cell_type": "code",
   "execution_count": null,
   "metadata": {},
   "outputs": [],
   "source": [
    "def test_is_vowel():\n",
    "    \"Test of routine\"\n",
    "    \n",
    "    for ch in 'aeiouAEIOU':\n",
    "        assert(is_vowel(ch)) \n",
    "        \n",
    "    letters = 'bcdfghjklmnpqrstvwxyz'\n",
    "    for ch in letters:\n",
    "        assert(not is_vowel(ch)) \n",
    "\n",
    "    for ch in letters.upper():\n",
    "        assert(not is_vowel(ch))  \n",
    "    \n",
    "    print(\"Passed the test\")"
   ]
  },
  {
   "cell_type": "markdown",
   "metadata": {},
   "source": [
    "## Student submission"
   ]
  },
  {
   "cell_type": "code",
   "execution_count": null,
   "metadata": {},
   "outputs": [],
   "source": [
    "def is_vowel(ch):\n",
    "    if ch == 'a' or 'e' or 'i' or 'o' or 'u':\n",
    "        return True\n",
    "    else:\n",
    "        return False"
   ]
  },
  {
   "cell_type": "code",
   "execution_count": null,
   "metadata": {},
   "outputs": [],
   "source": [
    "print(is_vowel('a'))"
   ]
  },
  {
   "cell_type": "code",
   "execution_count": null,
   "metadata": {},
   "outputs": [],
   "source": [
    "print(is_vowel('b'))\n",
    "print(is_vowel('c'))\n",
    "print(is_vowel('d'))\n",
    "print(is_vowel('e'))"
   ]
  },
  {
   "cell_type": "markdown",
   "metadata": {},
   "source": [
    "## What is going on?"
   ]
  },
  {
   "cell_type": "code",
   "execution_count": null,
   "metadata": {},
   "outputs": [],
   "source": [
    "if False or 'e':\n",
    "    print(True)"
   ]
  },
  {
   "cell_type": "code",
   "execution_count": null,
   "metadata": {},
   "outputs": [],
   "source": [
    "if 'e':\n",
    "    print(True)"
   ]
  },
  {
   "cell_type": "code",
   "execution_count": null,
   "metadata": {},
   "outputs": [],
   "source": [
    "print('e')"
   ]
  },
  {
   "cell_type": "code",
   "execution_count": null,
   "metadata": {},
   "outputs": [],
   "source": [
    "print('')"
   ]
  },
  {
   "cell_type": "code",
   "execution_count": null,
   "metadata": {},
   "outputs": [],
   "source": [
    "if '':\n",
    "    print(True)\n",
    "else:\n",
    "    print(False)"
   ]
  },
  {
   "cell_type": "markdown",
   "metadata": {},
   "source": [
    "## An empty string is False\n",
    "## A non-empty string is True"
   ]
  },
  {
   "cell_type": "markdown",
   "metadata": {},
   "source": [
    "# My Solution"
   ]
  },
  {
   "cell_type": "code",
   "execution_count": null,
   "metadata": {},
   "outputs": [],
   "source": [
    "def is_vowel(ch: str) -> bool:\n",
    "    \"Is ch a vowel?\"\n",
    "    \n",
    "    assert(len(ch) == 1)\n",
    "    \n",
    "    for vowel in 'aeiouAEIOU':\n",
    "        if ch == vowel:\n",
    "            return True\n",
    "        \n",
    "    return False\n",
    "\n",
    "\n",
    "test_is_vowel()"
   ]
  },
  {
   "cell_type": "markdown",
   "metadata": {},
   "source": [
    "# Idioms\n",
    "## This uses an Idiom I call Find First\n",
    "## This looks for the first match"
   ]
  },
  {
   "cell_type": "markdown",
   "metadata": {},
   "source": [
    "# Has all vowels Unit Tests"
   ]
  },
  {
   "cell_type": "code",
   "execution_count": null,
   "metadata": {},
   "outputs": [],
   "source": [
    "def test_has_all_vowels():\n",
    "    \"Test has_all_vowels\"\n",
    "    \n",
    "    assert(has_all_vowels('vexatious'))\n",
    "    assert(has_all_vowels('VEXATIOUS'))\n",
    "\n",
    "    # Now remove one vowel at a time\n",
    "    # Each test case should return False\n",
    "    assert(not has_all_vowels('vxatious'))\n",
    "    assert(not has_all_vowels('vextious'))\n",
    "    assert(not has_all_vowels('vexatous'))\n",
    "    assert(not has_all_vowels('vexatius'))\n",
    "    assert(not has_all_vowels('vexatios'))\n",
    "\n",
    "    return 'Pass'"
   ]
  },
  {
   "cell_type": "markdown",
   "metadata": {},
   "source": [
    "## Student submission"
   ]
  },
  {
   "cell_type": "code",
   "execution_count": null,
   "metadata": {},
   "outputs": [],
   "source": [
    "# Does word have all the vowels: aeiou?\n",
    "# has_all_vowels takes one argument as string and return boolean\n",
    "# returns True if string has all vowels, else returns False\n",
    "\n",
    "def has_all_vowels(word):\n",
    "    return word.upper().find('A')!= -1 and word.upper().find('E')!=-1 and word.upper().find('I') !=-1 and word.upper().find('O') !=-1 and word.upper().find('U') !=-1\n",
    "\n",
    "# 234567890123456789012345678901234567890123456789012345678901234567890123456789\n",
    "print(test_has_all_vowels())"
   ]
  },
  {
   "cell_type": "markdown",
   "metadata": {},
   "source": [
    "## Issues with PEP8 - running over 79 cols\n",
    "## This version runs the same tests, but in a loop\n",
    "### Folds the 5 tests into one line:"
   ]
  },
  {
   "cell_type": "code",
   "execution_count": null,
   "metadata": {},
   "outputs": [],
   "source": [
    "def has_all_vowels(word):\n",
    "    \"Does word have all the vowels: aeiou?\"\n",
    "    \n",
    "    # first step is to convert all letters into lower case\n",
    "    word = word.lower()\n",
    "    # this loop checks if any of the vowels has an index of -1, which means it is absent.\n",
    "    for vowel in 'aeiou':\n",
    "        if word.find(vowel) == -1:\n",
    "            return False\n",
    "    # if all vowels are found, the program exits the loop, and output is given as True.\n",
    "    return True\n",
    "\n",
    "print(test_has_all_vowels())"
   ]
  },
  {
   "cell_type": "markdown",
   "metadata": {},
   "source": [
    "## Rewrite"
   ]
  },
  {
   "cell_type": "code",
   "execution_count": null,
   "metadata": {},
   "outputs": [],
   "source": [
    "def has_all_vowels(word):\n",
    "    \"Does word have all the vowels: aeiou?\"\n",
    "    \n",
    "    # Convert to lower case\n",
    "    word = word.lower()\n",
    "    \n",
    "    # Check each vowel   \n",
    "    for vowel in 'aeiou':\n",
    "        \n",
    "        # Is the vowel in the word?\n",
    "        if word.find(vowel) == -1:\n",
    "            return False\n",
    "        \n",
    "    # We found them all\n",
    "    return True\n",
    "\n",
    "print(test_has_all_vowels())"
   ]
  },
  {
   "cell_type": "markdown",
   "metadata": {},
   "source": [
    "# Find First\n",
    "## We look for the first missing vowel\n",
    "## If we don't find one, they are all there"
   ]
  },
  {
   "cell_type": "markdown",
   "metadata": {},
   "source": [
    "# Rewrite using strings inclusion testing"
   ]
  },
  {
   "cell_type": "code",
   "execution_count": null,
   "metadata": {},
   "outputs": [],
   "source": [
    "def has_all_vowels(word):\n",
    "    \"Does word have all the vowels?\"\n",
    "    \n",
    "    word = word.lower()\n",
    "    \n",
    "    # Check each vowel\n",
    "    for vowel in 'aeiou':\n",
    "        if not vowel in word:   # <<<<<<<<< Strings allow testing for inclusion\n",
    "            return False\n",
    "    \n",
    "    return True\n",
    "\n",
    "print(has_all_vowels('aeou'))"
   ]
  },
  {
   "cell_type": "code",
   "execution_count": null,
   "metadata": {},
   "outputs": [],
   "source": [
    "def has_all_vowels(word):\n",
    "    \"Does word have all the vowels?\"\n",
    "    \n",
    "    word = word.lower()\n",
    "    \n",
    "    # Check each vowel\n",
    "    for ch in 'aeiou':\n",
    "        if ch not in word:   # <<<<<<<<<<<< Prefered syntax\n",
    "            return False\n",
    "    \n",
    "    return True\n",
    "\n",
    "print(has_all_vowels('aeou'))"
   ]
  },
  {
   "cell_type": "markdown",
   "metadata": {},
   "source": [
    "# Is all vowels Unit Tests"
   ]
  },
  {
   "cell_type": "code",
   "execution_count": null,
   "metadata": {},
   "outputs": [],
   "source": [
    "def test_is_all_vowels():\n",
    "    \"Test is_all_vowels\"\n",
    "    \n",
    "    assert(is_all_vowels('eau'))\n",
    "    assert(is_all_vowels('Aie'))\n",
    "    assert(is_all_vowels('AeIoU'))\n",
    "\n",
    "    assert(not is_all_vowels('kaie'))\n",
    "    assert(not is_all_vowels('akie'))\n",
    "    assert(not is_all_vowels('aike'))\n",
    "    assert(not is_all_vowels('aiek'))\n",
    "\n",
    "    return 'Pass!'"
   ]
  },
  {
   "cell_type": "markdown",
   "metadata": {},
   "source": [
    "# Idiom: Find first\n",
    "## Search for the first character that is not a vowel"
   ]
  },
  {
   "cell_type": "code",
   "execution_count": null,
   "metadata": {},
   "outputs": [],
   "source": [
    "# Is every character in word a vowel?\n",
    "def is_all_vowels(word):\n",
    "    \"Is every character in word a vowel?\"\n",
    "\n",
    "    for ch in word:              # loop through all the characters in the word\n",
    "        if not is_vowel(ch):     # check if each one is not a vowel\n",
    "            return False\n",
    "    return True\n",
    "\n",
    "\n",
    "print(test_is_all_vowels())"
   ]
  },
  {
   "cell_type": "markdown",
   "metadata": {},
   "source": [
    "# Student submission: Recursive search"
   ]
  },
  {
   "cell_type": "code",
   "execution_count": null,
   "metadata": {},
   "outputs": [],
   "source": [
    "def is_all_vowels(word):\n",
    "    \"Is every character in word a vowel?\"\n",
    "    \n",
    "    # Empty string is all vowels\n",
    "    if len(word) == 0:\n",
    "        return True\n",
    "    \n",
    "    # return False if first character is not a vowel\n",
    "    if not is_vowel(word[0]):\n",
    "        return False\n",
    "    \n",
    "    return is_all_vowels(word[1:])\n",
    "\n",
    "\n",
    "print(test_is_all_vowels())"
   ]
  },
  {
   "cell_type": "markdown",
   "metadata": {},
   "source": [
    "## I encourage you to play with the things we introduce\n",
    "## Recursion is new: experiment with it\n",
    "## However, this recursive call can be unwound into a loop"
   ]
  },
  {
   "cell_type": "markdown",
   "metadata": {},
   "source": [
    "# Is Palindrome? Unit Tests"
   ]
  },
  {
   "cell_type": "code",
   "execution_count": null,
   "metadata": {},
   "outputs": [],
   "source": [
    "def test_is_palindrome():\n",
    "    \"Test is_palindrome\"\n",
    "    \n",
    "    assert(is_palindrome('A'))\n",
    "    assert(is_palindrome('Radar'))\n",
    "    assert(is_palindrome('radar'))\n",
    "    assert(is_palindrome('Ada'))\n",
    "    assert(is_palindrome('madaM'))\n",
    "\n",
    "    assert(not is_palindrome('adar'))\n",
    "    assert(not is_palindrome('loop'))\n",
    "    assert(not is_palindrome('leal'))\n",
    "\n",
    "    return('Pass!')"
   ]
  },
  {
   "cell_type": "markdown",
   "metadata": {},
   "source": [
    "## Student submission"
   ]
  },
  {
   "cell_type": "code",
   "execution_count": null,
   "metadata": {},
   "outputs": [],
   "source": [
    "def is_palindrome(word):\n",
    "    for i in range(len(word)//2):                     # loop through first half of the word\n",
    "        if not word.upper()[i] == word.upper()[-1-i]: # compare ith letter with its complementary letter from the right\n",
    "            return False\n",
    "    return True\n",
    "    pass\n",
    "\n",
    "\n",
    "print(test_is_palindrome())"
   ]
  },
  {
   "cell_type": "markdown",
   "metadata": {},
   "source": [
    "# Idiom: Find First mismatch"
   ]
  },
  {
   "cell_type": "markdown",
   "metadata": {},
   "source": [
    "## Rewrite"
   ]
  },
  {
   "cell_type": "code",
   "execution_count": null,
   "metadata": {},
   "outputs": [],
   "source": [
    "## Rewrite: Call upper() only once, remove pass at end of function\n",
    "def is_palindrome(word):\n",
    "    word = word.upper()\n",
    "    \n",
    "    for i in range(len(word)//2):                     # loop through first half of the word\n",
    "        if not word[i] == word[-1-i]: # compare ith letter with its complementary letter from the right\n",
    "            return False\n",
    "    return True\n",
    "\n",
    "\n",
    "print(test_is_palindrome())\n"
   ]
  },
  {
   "cell_type": "markdown",
   "metadata": {},
   "source": [
    "# Student's Recursive solution"
   ]
  },
  {
   "cell_type": "code",
   "execution_count": null,
   "metadata": {},
   "outputs": [],
   "source": [
    "# is_palindrome takes a string and returns boolean\n",
    "# \n",
    "# is_palindrome checks first and last characters,the recurses\n",
    "#        RADAR  <---- match first and last\n",
    "#         ADA   <---- match next , good so far\n",
    "#          D    <-----success ! Palindrome ! reached end of string without any mismatch\n",
    "\n",
    "def is_palindrome(word):\n",
    "    \n",
    "    word = word.upper()       # ignore case\n",
    "        \n",
    "    if len(word) < 2:         # Single letter words are also palindromes\n",
    "        return True\n",
    "    \n",
    "    if word[0] != word[-1]:   # Do first and last chars match?\n",
    "        return False\n",
    "\n",
    "    # drop first and last characters, check remainder\n",
    "    return is_palindrome(word[1:-1])\n",
    "\n",
    "print(test_is_palindrome())"
   ]
  },
  {
   "cell_type": "markdown",
   "metadata": {},
   "source": [
    "## My solution"
   ]
  },
  {
   "cell_type": "code",
   "execution_count": null,
   "metadata": {},
   "outputs": [],
   "source": [
    "def is_palindrome(word):\n",
    "    \"Is this word a palindrome?\"\n",
    "    \n",
    "    word = word.lower()\n",
    "    return word == word[::-1]\n",
    "\n",
    "print(test_is_palindrome())"
   ]
  },
  {
   "cell_type": "markdown",
   "metadata": {},
   "source": [
    "# Crossword Puzzle"
   ]
  },
  {
   "cell_type": "code",
   "execution_count": null,
   "metadata": {},
   "outputs": [],
   "source": [
    "def is_match(word):\n",
    "    \"Does the word match?\"\n",
    "    word = word.lower()\n",
    "    if len(word) == 5 and word[0] == 'a' and word[-1] =='t':\n",
    "        return word\n",
    "\n",
    "print(is_match('aloft'))"
   ]
  },
  {
   "cell_type": "markdown",
   "metadata": {},
   "source": [
    "## Test some more"
   ]
  },
  {
   "cell_type": "code",
   "execution_count": null,
   "metadata": {},
   "outputs": [],
   "source": [
    "print(is_match('aft'))\n",
    "print(is_match('abeam'))\n",
    "print(is_match('blast'))\n",
    "print(is_match('Aloft'))"
   ]
  },
  {
   "cell_type": "markdown",
   "metadata": {},
   "source": [
    "# Look for matches in the file"
   ]
  },
  {
   "cell_type": "code",
   "execution_count": null,
   "metadata": {},
   "outputs": [],
   "source": [
    "def print_match(path, func):\n",
    "    \"Run through file looking for matches\"\n",
    "\n",
    "    with open(path, 'r') as words_list:\n",
    "        \n",
    "        for word in words_list:\n",
    "            word = word.strip()\n",
    "            if func(word):\n",
    "                print(word)\n",
    "    \n",
    "print_match('../words.txt', is_match)"
   ]
  },
  {
   "cell_type": "markdown",
   "metadata": {},
   "source": [
    "## Why does that work?"
   ]
  },
  {
   "cell_type": "code",
   "execution_count": null,
   "metadata": {},
   "outputs": [],
   "source": [
    "print_match('../words.txt', is_palindrome)"
   ]
  },
  {
   "cell_type": "markdown",
   "metadata": {},
   "source": [
    "# This idiom is called 'filtering'\n",
    "## Look at a sequence, and keep every one that passes filter\n",
    "## *My daughter uses a NoBro filter*"
   ]
  },
  {
   "cell_type": "markdown",
   "metadata": {},
   "source": [
    "## Counting Bases"
   ]
  },
  {
   "cell_type": "code",
   "execution_count": null,
   "metadata": {},
   "outputs": [],
   "source": [
    "# How frequently does each character in text appear?\n",
    "def countChars(target: str, text: str) -> int:\n",
    "    \"Count the bases in a string\"\n",
    "    count = 0\n",
    "\n",
    "    # Go over each letter in the sequence\n",
    "    for ch in text:\n",
    "        if ch == target:\n",
    "            count = count + 1\n",
    "\n",
    "    return count\n",
    "\n",
    "\n",
    "# Open the file\n",
    "# with open('/course/data/ecoli.fasta', 'r') as f:\n",
    "with open('../../data/ecoli.fasta', 'r') as f:\n",
    "     first = True  # Is this the first line?\n",
    "     text = \"\"\n",
    "     for line in f:\n",
    "          if not first:\n",
    "               text = text + line.strip()\n",
    "          first = False\n",
    "\n",
    "     # Convert to Upper Case\n",
    "     text = text.upper()\n",
    "                                                    \n",
    "     for ch in 'ACGT':\n",
    "         print(ch, countChars(ch, text))"
   ]
  },
  {
   "cell_type": "markdown",
   "metadata": {},
   "source": [
    "## This uses only what we discussed in lecture\n",
    "## Line 20 turns out to be slow in Python\n",
    "## *How many times do we perform it?*"
   ]
  },
  {
   "cell_type": "code",
   "execution_count": null,
   "metadata": {},
   "outputs": [],
   "source": [
    "! wc ../../data/EColi.fasta"
   ]
  },
  {
   "cell_type": "markdown",
   "metadata": {},
   "source": [
    "## Faster to say"
   ]
  },
  {
   "cell_type": "code",
   "execution_count": null,
   "metadata": {},
   "outputs": [],
   "source": [
    "with open('../../data/ecoli.fasta', 'r') as f:\n",
    "    \n",
    "    text = f.readline()     # Read the first line\n",
    "        \n",
    "    text = f.read()         # Read the rest\n",
    "\n",
    "     # Convert to Upper Case\n",
    "    text = text.upper()\n",
    "                                                    \n",
    "    for ch in 'ACGT':\n",
    "         print(ch, countChars(ch, text))\n",
    "            "
   ]
  },
  {
   "cell_type": "markdown",
   "metadata": {},
   "source": [
    "# %=%=%=%=%=%=%=%=%=%=%=%=%=%=%=%=%=%="
   ]
  },
  {
   "cell_type": "markdown",
   "metadata": {},
   "source": [
    "# Lists: used to store items\n",
    "## Often homogenous, but need not be\n",
    "## Mutable collection that we can index"
   ]
  },
  {
   "cell_type": "code",
   "execution_count": null,
   "metadata": {},
   "outputs": [],
   "source": [
    "res = []\n",
    "res.append('one')\n",
    "\n",
    "print(res)"
   ]
  },
  {
   "cell_type": "code",
   "execution_count": null,
   "metadata": {},
   "outputs": [],
   "source": [
    "res.append('two')\n",
    "\n",
    "print(res)"
   ]
  },
  {
   "cell_type": "markdown",
   "metadata": {},
   "source": [
    "# We can iterate across a list"
   ]
  },
  {
   "cell_type": "code",
   "execution_count": null,
   "metadata": {},
   "outputs": [],
   "source": [
    "lst = [1, 2, 3, 'cat']   # hetrogenous\n",
    "\n",
    "# Print the contents\n",
    "for item in lst:\n",
    "    print(item)  \n",
    "    \n",
    "print(lst)"
   ]
  },
  {
   "cell_type": "code",
   "execution_count": null,
   "metadata": {},
   "outputs": [],
   "source": [
    "lst = [\"one\", \"two\", \"three\"]\n",
    "\n",
    "# Print the contents\n",
    "for word in lst:\n",
    "    print(word)"
   ]
  },
  {
   "cell_type": "markdown",
   "metadata": {},
   "source": [
    "# We can find the length"
   ]
  },
  {
   "cell_type": "code",
   "execution_count": null,
   "metadata": {},
   "outputs": [],
   "source": [
    "lst = [1, 2, 3, 'cat']    \n",
    "\n",
    "len(lst)"
   ]
  },
  {
   "cell_type": "markdown",
   "metadata": {},
   "source": [
    "# We can use slicing"
   ]
  },
  {
   "cell_type": "code",
   "execution_count": null,
   "metadata": {},
   "outputs": [],
   "source": [
    "lst = [\"one\", \"two\", \"three\"]\n",
    "\n",
    "# Print a slice\n",
    "for word in lst[1:]:\n",
    "    print(word)"
   ]
  },
  {
   "cell_type": "code",
   "execution_count": null,
   "metadata": {},
   "outputs": [],
   "source": [
    "lst = [\"one\", \"two\", \"three\"]\n",
    "\n",
    "# Print a slice\n",
    "for word in lst[2:]:\n",
    "    print(word)"
   ]
  },
  {
   "cell_type": "code",
   "execution_count": null,
   "metadata": {},
   "outputs": [],
   "source": [
    "lst = [\"one\", \"two\", \"three\"]\n",
    "\n",
    "# Print a slice\n",
    "for word in lst[:2]:\n",
    "    print(word)"
   ]
  },
  {
   "cell_type": "markdown",
   "metadata": {},
   "source": [
    "# And indexing"
   ]
  },
  {
   "cell_type": "code",
   "execution_count": null,
   "metadata": {},
   "outputs": [],
   "source": [
    "lst = [\"one\", \"two\", \"three\"]\n",
    "\n",
    "# Print an element\n",
    "print(lst[0])"
   ]
  },
  {
   "cell_type": "code",
   "execution_count": null,
   "metadata": {},
   "outputs": [],
   "source": [
    "print(lst[-1])"
   ]
  },
  {
   "cell_type": "markdown",
   "metadata": {},
   "source": [
    "# Filtering - traverse the list, and print matches"
   ]
  },
  {
   "cell_type": "code",
   "execution_count": null,
   "metadata": {},
   "outputs": [],
   "source": [
    "lst = [\"one\", \"two\", \"three\"]\n",
    "\n",
    "# Print those that match\n",
    "for word in lst:\n",
    "    if word[0] = 't':\n",
    "        print(word)"
   ]
  },
  {
   "cell_type": "markdown",
   "metadata": {},
   "source": [
    "## Fix it"
   ]
  },
  {
   "cell_type": "code",
   "execution_count": null,
   "metadata": {},
   "outputs": [],
   "source": [
    "lst = [\"one\", \"two\", \"three\"]\n",
    "\n",
    "# Print those that match\n",
    "for word in lst:\n",
    "    if word[0] == 't':\n",
    "        print(word)"
   ]
  },
  {
   "cell_type": "code",
   "execution_count": null,
   "metadata": {},
   "outputs": [],
   "source": [
    "lst = [\"one\", \"two\", \"three\"]\n",
    "\n",
    "# Print those that match\n",
    "for word in lst:\n",
    "    if (word.find('o') > 0):\n",
    "        print(word)"
   ]
  },
  {
   "cell_type": "markdown",
   "metadata": {},
   "source": [
    "## What kind of error is that?"
   ]
  },
  {
   "cell_type": "code",
   "execution_count": null,
   "metadata": {},
   "outputs": [],
   "source": [
    "lst = [\"one\", \"two\", \"three\"]\n",
    "\n",
    "# Print those that match\n",
    "for word in lst:\n",
    "    if (word.find('o') > -1):\n",
    "        print(word)"
   ]
  },
  {
   "cell_type": "markdown",
   "metadata": {},
   "source": [
    "# We can change a list element"
   ]
  },
  {
   "cell_type": "code",
   "execution_count": null,
   "metadata": {},
   "outputs": [],
   "source": [
    "lst = [\"one\", \"two\", \"three\"]\n",
    "\n",
    "# Update the 3rd element\n",
    "lst[2] = \"four\"\n",
    "print(lst)"
   ]
  },
  {
   "cell_type": "markdown",
   "metadata": {},
   "source": [
    "# We can remove an element"
   ]
  },
  {
   "cell_type": "code",
   "execution_count": null,
   "metadata": {},
   "outputs": [],
   "source": [
    "lst = [\"one\", \"two\", \"three\"]\n",
    "\n",
    "# Remove the second item\n",
    "print(lst)\n",
    "item = lst.pop(1)\n",
    "print(item)\n",
    "print(lst)"
   ]
  },
  {
   "cell_type": "markdown",
   "metadata": {},
   "source": [
    "# Lists support a test for inclusion"
   ]
  },
  {
   "cell_type": "code",
   "execution_count": null,
   "metadata": {},
   "outputs": [],
   "source": [
    "lst = [\"one\", \"two\", \"three\"]\n",
    "\n",
    "# Is it in the list?\n",
    "if ('one' in lst):\n",
    "    print(\"Found it!\")"
   ]
  },
  {
   "cell_type": "markdown",
   "metadata": {},
   "source": [
    "# Appending to a list"
   ]
  },
  {
   "cell_type": "code",
   "execution_count": null,
   "metadata": {},
   "outputs": [],
   "source": [
    "res = []\n",
    "print(res)"
   ]
  },
  {
   "cell_type": "code",
   "execution_count": null,
   "metadata": {},
   "outputs": [],
   "source": [
    "res.append('Monday')\n",
    "print(res)"
   ]
  },
  {
   "cell_type": "code",
   "execution_count": null,
   "metadata": {},
   "outputs": [],
   "source": [
    "res.append('Tuesday')\n",
    "print(res)"
   ]
  },
  {
   "cell_type": "markdown",
   "metadata": {},
   "source": [
    "## What does append() return?"
   ]
  },
  {
   "cell_type": "code",
   "execution_count": null,
   "metadata": {},
   "outputs": [],
   "source": [
    "ret_val = res.append('Wednesday')\n",
    "print(ret_val)"
   ]
  },
  {
   "cell_type": "code",
   "execution_count": null,
   "metadata": {},
   "outputs": [],
   "source": [
    "print(res)"
   ]
  },
  {
   "cell_type": "markdown",
   "metadata": {},
   "source": [
    "# Filtering a list\n",
    "\n",
    "## We can create a new list by appending to the tail of an empty list\n",
    "## Items are in same relative order in the new list"
   ]
  },
  {
   "cell_type": "code",
   "execution_count": null,
   "metadata": {},
   "outputs": [],
   "source": [
    "lst = ['ship', 'test', 'set', 'mast', 'leap']\n",
    "\n",
    "# Store our results here\n",
    "res = []\n",
    "\n",
    "# Check each word in the list\n",
    "for word in lst:\n",
    "    \n",
    "    # if it matches\n",
    "    if (len(word) == 4) and (word[-1] == 't'):\n",
    "        \n",
    "        # Add to our list\n",
    "        res.append(word)\n",
    "        \n",
    "print(res)"
   ]
  },
  {
   "cell_type": "markdown",
   "metadata": {},
   "source": [
    "# We will see a better way to do this using List Comprehensions"
   ]
  },
  {
   "cell_type": "markdown",
   "metadata": {},
   "source": [
    "# Lists support many useful functions"
   ]
  },
  {
   "cell_type": "code",
   "execution_count": null,
   "metadata": {},
   "outputs": [],
   "source": [
    "lst = [5, 90, 78, 45, 2]\n",
    "\n",
    "print(\"List:\\t\", lst)\n",
    "print(\"Length:\\t\", len(lst))\n",
    "print(\"Min:\\t\", min(lst))\n",
    "print(\"Max:\\t\", max(lst))\n",
    "print(\"Sum:\\t\", sum(lst))"
   ]
  },
  {
   "cell_type": "markdown",
   "metadata": {},
   "source": [
    "## These functions are designed to work on as many types as possible"
   ]
  },
  {
   "cell_type": "code",
   "execution_count": null,
   "metadata": {},
   "outputs": [],
   "source": [
    "lst = ['five', 'ninety', 'two']\n",
    "\n",
    "print(\"List:\\t\", lst)\n",
    "print(\"Length:\\t\", len(lst))\n",
    "print(\"Min:\\t\", min(lst))\n",
    "print(\"Max:\\t\", max(lst))\n",
    "print(\"Sum:\\t\", sum(lst))"
   ]
  },
  {
   "cell_type": "markdown",
   "metadata": {},
   "source": [
    "## The list() function turns a word into a list"
   ]
  },
  {
   "cell_type": "code",
   "execution_count": null,
   "metadata": {},
   "outputs": [],
   "source": [
    "word = \"sunny\"\n",
    "lst = list(word)\n",
    "\n",
    "print(lst)"
   ]
  },
  {
   "cell_type": "markdown",
   "metadata": {},
   "source": [
    "## We can return the favor, and turn a list into a string"
   ]
  },
  {
   "cell_type": "code",
   "execution_count": null,
   "metadata": {},
   "outputs": [],
   "source": [
    "lst = ['s', 'u', 'n', 'n', 'y']\n",
    "\n",
    "\n",
    "res = ''.join(lst)\n",
    "print(res)"
   ]
  },
  {
   "cell_type": "code",
   "execution_count": null,
   "metadata": {},
   "outputs": [],
   "source": [
    "res = '_'.join(lst)\n",
    "print(res)"
   ]
  },
  {
   "cell_type": "markdown",
   "metadata": {},
   "source": [
    "### Leo Rosten wrote a book about an imigrant, Hyman Kaplan, in New York City.\n",
    "### *My introduction to adult education*\n",
    "### Each night, Hyman would write his name on the board in a special way:\n",
    "\n",
    "https://en.wikipedia.org/wiki/Hyman_Kaplan"
   ]
  },
  {
   "cell_type": "code",
   "execution_count": null,
   "metadata": {},
   "outputs": [],
   "source": [
    "# H*Y*M*A*N K*A*P*L*A*N\n",
    "\n",
    "lst = list(\"HYMAN KAPLAN\")\n",
    "\n",
    "print('*'.join(lst))"
   ]
  },
  {
   "cell_type": "markdown",
   "metadata": {},
   "source": [
    "## This isn't quite right.  Can we fix it?"
   ]
  },
  {
   "cell_type": "code",
   "execution_count": 1,
   "metadata": {},
   "outputs": [
    {
     "name": "stdout",
     "output_type": "stream",
     "text": [
      "['HYMAN', 'KAPLAN']\n"
     ]
    }
   ],
   "source": [
    "name = \"HYMAN KAPLAN\"\n",
    "\n",
    "splt = name.split()  # Split on blanks\n",
    "print(splt)          # See what we have"
   ]
  },
  {
   "cell_type": "code",
   "execution_count": 2,
   "metadata": {},
   "outputs": [
    {
     "name": "stdout",
     "output_type": "stream",
     "text": [
      "['H*Y*M*A*N', 'K*A*P*L*A*N']\n"
     ]
    }
   ],
   "source": [
    "name = \"HYMAN KAPLAN\"\n",
    "splt = name.split()\n",
    "\n",
    "res = []\n",
    "for word in splt:\n",
    "    res.append('*'.join(list(word)))\n",
    "    \n",
    "print(res)"
   ]
  },
  {
   "cell_type": "code",
   "execution_count": 3,
   "metadata": {},
   "outputs": [
    {
     "name": "stdout",
     "output_type": "stream",
     "text": [
      "H*Y*M*A*N K*A*P*L*A*N\n"
     ]
    }
   ],
   "source": [
    "print(' '.join(res))"
   ]
  },
  {
   "cell_type": "markdown",
   "metadata": {},
   "source": [
    "# While Loops"
   ]
  },
  {
   "cell_type": "markdown",
   "metadata": {},
   "source": [
    "## We use a while loop when it is hard to predict how many times we loop"
   ]
  },
  {
   "cell_type": "code",
   "execution_count": null,
   "metadata": {},
   "outputs": [],
   "source": [
    "i = 10           # Initialize\n",
    "while i > 0:     # Test\n",
    "    print(i)     # Action\n",
    "    i = i - 1    # Update\n",
    "\n",
    "print('Blastoff!')"
   ]
  },
  {
   "cell_type": "markdown",
   "metadata": {},
   "source": [
    "## For loops make the initialization, test, and update steps much simpler"
   ]
  },
  {
   "cell_type": "code",
   "execution_count": null,
   "metadata": {},
   "outputs": [],
   "source": [
    "                           # Initialize\n",
    "for i in range(10, 0, -1): # Test\n",
    "                           # Update\n",
    "\n",
    "    print(i)    # Action\n",
    "\n",
    "print('Blastoff!')"
   ]
  },
  {
   "cell_type": "markdown",
   "metadata": {},
   "source": [
    "## Sample use of while and lists: start of an Octal Dump program"
   ]
  },
  {
   "cell_type": "code",
   "execution_count": null,
   "metadata": {},
   "outputs": [],
   "source": [
    "def my_display(ch: str) -> str:\n",
    "    \"Return a string representing a character\"\n",
    "    if ch.isalpha():\n",
    "        return ch + ' '\n",
    "    else:\n",
    "        return str(ord(ch))"
   ]
  },
  {
   "cell_type": "code",
   "execution_count": null,
   "metadata": {},
   "outputs": [],
   "source": [
    "print(my_display('a'))"
   ]
  },
  {
   "cell_type": "code",
   "execution_count": null,
   "metadata": {},
   "outputs": [],
   "source": [
    "print(my_display('3'))"
   ]
  },
  {
   "cell_type": "code",
   "execution_count": null,
   "metadata": {},
   "outputs": [],
   "source": [
    "print(my_display('\\n'))\n",
    "print(my_display('\\t'))"
   ]
  },
  {
   "cell_type": "markdown",
   "metadata": {},
   "source": [
    "## Put this all together"
   ]
  },
  {
   "cell_type": "code",
   "execution_count": null,
   "metadata": {},
   "outputs": [],
   "source": [
    "! cat on.txt"
   ]
  },
  {
   "cell_type": "markdown",
   "metadata": {},
   "source": [
    "```python\n",
    "aa\n",
    "bb\n",
    "aie\n",
    "ou\n",
    "xyz\n",
    "```"
   ]
  },
  {
   "cell_type": "code",
   "execution_count": null,
   "metadata": {},
   "outputs": [],
   "source": [
    "with open('on.txt', 'r') as f:\n",
    "\n",
    "    # Read the whole file\n",
    "    text = f.read()\n",
    "\n",
    "    while (len(text) > 0):\n",
    "        # Get the next 16 characters\n",
    "        line = text[:16]\n",
    "        text = text[16:]\n",
    "\n",
    "        # Build a list of the representations\n",
    "        lst = []\n",
    "        for ch in line:\n",
    "            lst.append(my_display(ch))\n",
    "\n",
    "        # Paste the elements together with some spacing\n",
    "        print(' '.join(lst))"
   ]
  },
  {
   "cell_type": "markdown",
   "metadata": {},
   "source": [
    "## Use od to illuminate a file"
   ]
  },
  {
   "cell_type": "code",
   "execution_count": null,
   "metadata": {},
   "outputs": [],
   "source": [
    "! od -c on.txt"
   ]
  },
  {
   "cell_type": "markdown",
   "metadata": {},
   "source": [
    "```python\n",
    "0000000    a   a  \\n   b   b  \\n   a   i   e  \\n   o   u  \\n   x   y   z\n",
    "0000020   \\n                                                            \n",
    "0000021\n",
    "```\n",
    "## Often we would like to see \\n and \\t to understand a file"
   ]
  },
  {
   "cell_type": "code",
   "execution_count": null,
   "metadata": {},
   "outputs": [],
   "source": [
    "! od -c on.dos"
   ]
  },
  {
   "cell_type": "markdown",
   "metadata": {},
   "source": [
    "```python\n",
    "0000000    a   a  \\r  \\n   b   b  \\r  \\n   a   i   e  \\r  \\n   o   u  \\r\n",
    "0000020   \\n   x   y   z  \\r  \\n                                        \n",
    "0000026\n",
    "```"
   ]
  },
  {
   "cell_type": "code",
   "execution_count": null,
   "metadata": {},
   "outputs": [],
   "source": [
    "with open('on.txt', 'r') as f:\n",
    "\n",
    "    # Read the whole file\n",
    "    text = f.read()\n",
    "\n",
    "    while (len(text) > 0):\n",
    "        # Get the next 16 characters\n",
    "        line = text[:16]\n",
    "        text = text[16:]\n",
    "\n",
    "        # Build a list of the representations\n",
    "        lst = []\n",
    "        for ch in line:\n",
    "            lst.append(my_display(ch))\n",
    "\n",
    "        # Paste the elements together with some spacing\n",
    "        s = '  '\n",
    "        print(s.join(lst))"
   ]
  },
  {
   "cell_type": "markdown",
   "metadata": {},
   "source": [
    "# This is a start.  \n",
    "## We could use isprintable() instead of isalpha\n",
    "## We need to be smarter about whitespace"
   ]
  },
  {
   "cell_type": "code",
   "execution_count": null,
   "metadata": {},
   "outputs": [],
   "source": [
    "# Return a string represnting the character\n",
    "# Most of the strings have length 2: the final set may not\n",
    "def my_display(ch: str) -> str:\n",
    "    # Deal with the whitespace first:\n",
    "    # printable, but needs special processing\n",
    "    if (ch == ' '):\n",
    "        return '  '\n",
    "    elif (ch == '\\t'):\n",
    "        return '\\\\t'\n",
    "    elif (ch == '\\n'):\n",
    "        return '\\\\n'\n",
    "    elif (ch == '\\r'):\n",
    "        return '\\\\r'\n",
    "    elif ch.isprintable():\n",
    "        return ch + ' '\n",
    "    else:\n",
    "        return str(ord(ch))"
   ]
  },
  {
   "cell_type": "code",
   "execution_count": null,
   "metadata": {},
   "outputs": [],
   "source": [
    "print(my_display('\\n'))"
   ]
  },
  {
   "cell_type": "code",
   "execution_count": null,
   "metadata": {},
   "outputs": [],
   "source": [
    "with open('on.dos', 'r') as f:\n",
    "    \n",
    "    # Read the whole file\n",
    "    text = f.read()\n",
    "\n",
    "    while (len(text) > 0):\n",
    "        # Get the next 16 characters\n",
    "        line = text[:16]\n",
    "        text = text[16:]\n",
    "\n",
    "        # Build a list of the representations\n",
    "        lst = []\n",
    "        for ch in line:\n",
    "            lst.append(my_display(ch))\n",
    "\n",
    "        # Paste the elements together with some spacing\n",
    "        s = '  '\n",
    "        print(s.join(lst))"
   ]
  },
  {
   "cell_type": "markdown",
   "metadata": {},
   "source": [
    "```python\n",
    "a   a   \\n  b   b   \\n  a   i   e   \\n  o   u   \\n  x   y   z \n",
    "\\n\n",
    "```"
   ]
  },
  {
   "cell_type": "markdown",
   "metadata": {},
   "source": [
    "## What did we expect to see?"
   ]
  },
  {
   "cell_type": "code",
   "execution_count": null,
   "metadata": {},
   "outputs": [],
   "source": [
    "!od -c on.dos"
   ]
  },
  {
   "cell_type": "markdown",
   "metadata": {},
   "source": [
    "```python\n",
    "0000000    a   a  \\r  \\n   b   b  \\r  \\n   a   i   e  \\r  \\n   o   u  \\r\n",
    "0000020   \\n   x   y   z  \\r  \\n                                        \n",
    "0000026\n",
    "```"
   ]
  },
  {
   "cell_type": "markdown",
   "metadata": {},
   "source": [
    "# Notice that our version leaves out the \\r\n",
    "# Python cleans up DOS files for us.\n",
    "## *Reads \\r\\n as \\n*\n",
    "## To do this right, would need to open file as bytes, not characters"
   ]
  },
  {
   "cell_type": "markdown",
   "metadata": {},
   "source": [
    "# %=%=%=%=%=%=%=%=%=%=%=%=%=%=%=%=%=%="
   ]
  },
  {
   "cell_type": "markdown",
   "metadata": {},
   "source": [
    "# Exceptions\n",
    "\n",
    "### How we handle the unexpected\n",
    "\n",
    "### Like insurance: you fear it might happen, but don't know when"
   ]
  },
  {
   "cell_type": "code",
   "execution_count": null,
   "metadata": {},
   "outputs": [],
   "source": [
    "with open('file.txt', 'r') as words:\n",
    "    for line in words:\n",
    "        line = line.strip()\n",
    "        if (len(line) == 4) and (line[-1] == 't'):\n",
    "            print(line)"
   ]
  },
  {
   "cell_type": "markdown",
   "metadata": {},
   "source": [
    "## We can catch exceptions and deal with them: try/expect"
   ]
  },
  {
   "cell_type": "code",
   "execution_count": null,
   "metadata": {},
   "outputs": [],
   "source": [
    "try:\n",
    "    with open('file.txt', 'r') as words:\n",
    "        for line in words:\n",
    "            line = line.strip()\n",
    "            if (len(line) == 4) and (line[-1] == 't'):\n",
    "                print(line)\n",
    "except:\n",
    "    print('Could not open the file')"
   ]
  },
  {
   "cell_type": "markdown",
   "metadata": {},
   "source": [
    "## You may deal with different exceptions different ways"
   ]
  },
  {
   "cell_type": "code",
   "execution_count": null,
   "metadata": {},
   "outputs": [],
   "source": [
    "try:\n",
    "    with open('file.txt', 'r') as words:\n",
    "        for line in words:\n",
    "            line = line.strip()\n",
    "            if (len(line) == 4) and (line[-1] == 't'):\n",
    "                print(line)\n",
    "except FileNotFoundError:\n",
    "    print('File was not found')\n",
    "except:\n",
    "    print('Could not open the file')"
   ]
  },
  {
   "cell_type": "markdown",
   "metadata": {},
   "source": [
    "## Does it catch assertions?"
   ]
  },
  {
   "cell_type": "code",
   "execution_count": null,
   "metadata": {},
   "outputs": [],
   "source": [
    "try:\n",
    "    print('In')\n",
    "    assert(1 == 2)\n",
    "    print('Out')\n",
    "except:\n",
    "    print('Just Kidding!')  "
   ]
  },
  {
   "cell_type": "markdown",
   "metadata": {},
   "source": [
    "## Let's try to read an integer"
   ]
  },
  {
   "cell_type": "code",
   "execution_count": null,
   "metadata": {},
   "outputs": [],
   "source": [
    "x = int(3.2)\n",
    "print(x)\n",
    "y = int('123')\n",
    "print(y)"
   ]
  },
  {
   "cell_type": "code",
   "execution_count": null,
   "metadata": {},
   "outputs": [],
   "source": [
    "z = int('one')\n",
    "print(z)"
   ]
  },
  {
   "cell_type": "markdown",
   "metadata": {},
   "source": [
    "## Experience the error so you know what to look for\n",
    "\n",
    "```python\n",
    "    --------------------------------------------------------------\n",
    "    ValueError                                Traceback (most recent call last)\n",
    "    <ipython-input-21-f0b91c72226e> in <module>\n",
    "          3 y = int('123')\n",
    "          4 print(y)\n",
    "    ----> 5 z = int('one')\n",
    "          6 print(z)\n",
    "\n",
    "    ValueError: invalid literal for int() with base 10: 'one'\n",
    "```"
   ]
  },
  {
   "cell_type": "code",
   "execution_count": null,
   "metadata": {},
   "outputs": [],
   "source": [
    "try:\n",
    "    y = int('three')\n",
    "    print(y)\n",
    "except ValueError:\n",
    "    print(\"Could not convert value to integer\")"
   ]
  },
  {
   "cell_type": "markdown",
   "metadata": {},
   "source": [
    "# Throwing Exceptions\n",
    "\n",
    "## Sometimes things are so bad you just need to quit"
   ]
  },
  {
   "cell_type": "code",
   "execution_count": null,
   "metadata": {},
   "outputs": [],
   "source": [
    "def hamming_distance(s1, s2):\n",
    "    if len(s1) != len(s2):\n",
    "        raise ValueError('Strings should have the same length')\n",
    "        \n",
    "    # Do more work here...\n",
    "    return 0\n",
    "\n",
    "print(hamming_distance('acgt', 'gtc'))"
   ]
  },
  {
   "cell_type": "markdown",
   "metadata": {},
   "source": [
    "```python\n",
    "    ---------------------------------------------------------\n",
    "    ValueError                                Traceback (most recent call last)\n",
    "    <ipython-input-25-c609928c103b> in <module>\n",
    "          6     return 0\n",
    "          7 \n",
    "    ----> 8 print(hamming_distance('acgt', 'gtc'))\n",
    "\n",
    "    <ipython-input-25-c609928c103b> in hamming_distance(s1, s2)\n",
    "          1 def hamming_distance(s1, s2):\n",
    "          2     if len(s1) != len(s2):\n",
    "    ----> 3         raise ValueError('Strings should have the same length')\n",
    "          4 \n",
    "          5     # Do more work here...\n",
    "\n",
    "    ValueError: Strings should have the same length\n",
    "```"
   ]
  },
  {
   "cell_type": "markdown",
   "metadata": {},
   "source": [
    "# Recursion redux\n",
    "## Class experiment"
   ]
  },
  {
   "cell_type": "code",
   "execution_count": null,
   "metadata": {},
   "outputs": [],
   "source": [
    "debug = True\n",
    "\n",
    "def str_twist(s: str) -> str:\n",
    "    \"Split string into last character and the rest\"\n",
    "\n",
    "    if debug:\n",
    "        print(s)\n",
    "        \n",
    "    if (len(s) == 0):\n",
    "        return ''\n",
    "    else:\n",
    "        return s[-1] + str_twist(s[:-1])"
   ]
  },
  {
   "cell_type": "code",
   "execution_count": null,
   "metadata": {},
   "outputs": [],
   "source": [
    "print(str_twist('happy'))"
   ]
  },
  {
   "cell_type": "markdown",
   "metadata": {},
   "source": [
    "# Recursion redux\n",
    "## Alternative to Unix find command"
   ]
  },
  {
   "cell_type": "code",
   "execution_count": null,
   "metadata": {},
   "outputs": [],
   "source": [
    "# For DOS systems\n",
    "\n",
    "! dir /s"
   ]
  },
  {
   "cell_type": "code",
   "execution_count": null,
   "metadata": {
    "scrolled": false
   },
   "outputs": [],
   "source": [
    "# For UNIX systems\n",
    "\n",
    "! find /anaconda | more    # 'find' is a Unix Command\n",
    "                           # 'more' limits output to one screen at a time"
   ]
  },
  {
   "cell_type": "markdown",
   "metadata": {},
   "source": [
    "## I see\n",
    "```python\n",
    "/anaconda\n",
    "/anaconda/conda-meta\n",
    "/anaconda/conda-meta/odo-0.4.2-py35_0.json\n",
    "/anaconda/conda-meta/fastcache-1.0.2-py35_0.json\n",
    "/anaconda/conda-meta/locket-0.2.0-py35_0.json\n",
    "/anaconda/conda-meta/anaconda-client-1.4.0-py35_0.json\n",
    "/anaconda/conda-meta/jsonschema-2.4.0-py35_0.json\n",
    "/anaconda/conda-meta/chest-0.2.3-py35_0.json\n",
    "/anaconda/conda-meta/et_xmlfile-1.0.1-py35_0.json\n",
    "/anaconda/conda-meta/path.py-8.1.2-py35_1.json\n",
    "/anaconda/conda-meta/sockjs-tornado-1.0.1-py35_0.json\n",
    "/anaconda/conda-meta/appnope-0.1.0-py35_0.json\n",
    "/anaconda/conda-meta/patsy-0.4.1-py35_0.json\n",
    "/anaconda/conda-meta/xlsxwriter-0.8.4-py35_0.json\n",
    "/anaconda/conda-meta/docutils-0.12-py35_0.json\n",
    "/anaconda/conda-meta/libedit-3.1.20170329-hb402a30_2.json\n",
    "/anaconda/conda-meta/colorama-0.3.7-py35_0.json\n",
    "/anaconda/conda-meta/openpyxl-2.3.2-py35_0.json\n",
    "/anaconda/conda-meta/libcxx-4.0.1-h579ed51_0.json\n",
    "/anaconda/conda-meta/pygame_sdl2-6.99.6.739plus5-py35_0.json\n",
    "/anaconda/conda-meta/bottleneck-1.2.1-np113py35_0.json\n",
    "/anaconda/conda-meta/curl-7.45.0-0.json\n",
    "/anaconda/conda-meta/ipython-4.1.2-py35_1.json\n",
    "...\n",
    "```\n",
    "And so on"
   ]
  },
  {
   "cell_type": "markdown",
   "metadata": {},
   "source": [
    "# Directory operations"
   ]
  },
  {
   "cell_type": "code",
   "execution_count": null,
   "metadata": {},
   "outputs": [],
   "source": [
    "import os\n",
    "\n",
    "# . is the current working directory (CWD)\n",
    "dirname = '/etc'\n",
    "\n",
    "for name in os.listdir(dirname):\n",
    "    \n",
    "    print(name)"
   ]
  },
  {
   "cell_type": "markdown",
   "metadata": {},
   "source": [
    "### What I see\n",
    "```python\n",
    "    emond.d\n",
    "    periodic\n",
    "    manpaths\n",
    "    services~previous\n",
    "    dnsextd.conf\n",
    "    rc.common\n",
    "    csh.logout~orig\n",
    "    auto_master\n",
    "    php.ini.default-5.2-previous~orig\n",
    "    csh.login\n",
    "    mach_init.d\n",
    "    ...\n",
    "```"
   ]
  },
  {
   "cell_type": "markdown",
   "metadata": {},
   "source": [
    "## Want to paste together directory name and file name "
   ]
  },
  {
   "cell_type": "code",
   "execution_count": null,
   "metadata": {},
   "outputs": [],
   "source": [
    "import os\n",
    "\n",
    "dirname = '/etc'\n",
    "\n",
    "for name in os.listdir(dirname):\n",
    "    print(dirname + '/' + name)"
   ]
  },
  {
   "cell_type": "markdown",
   "metadata": {},
   "source": [
    "### What I see\n",
    "```python\n",
    "    /etc/emond.d\n",
    "    /etc/periodic\n",
    "    /etc/manpaths\n",
    "    /etc/services~previous\n",
    "    /etc/dnsextd.conf\n",
    "    /etc/rc.common\n",
    "```\n",
    "       "
   ]
  },
  {
   "cell_type": "markdown",
   "metadata": {},
   "source": [
    "## Unix names are dir/file\n",
    "## But DOS names are dir\\file\n",
    "## Python provides a method to do the right thing"
   ]
  },
  {
   "cell_type": "code",
   "execution_count": null,
   "metadata": {},
   "outputs": [],
   "source": [
    "import os\n",
    "\n",
    "# .. is the directory above us\n",
    "dirname = '..'   \n",
    "\n",
    "for name in os.listdir(dirname):\n",
    "    \n",
    "    path = os.path.join(dirname, name)  # Do the right thing\n",
    "    \n",
    "    # Tell user which is which\n",
    "    if os.path.isfile(path):\n",
    "        print('File', path)\n",
    "    else:\n",
    "        print('Directory', path)"
   ]
  },
  {
   "cell_type": "markdown",
   "metadata": {},
   "source": [
    "### What I see\n",
    "```python\n",
    "    Directory ../advanced\n",
    "    Directory ../assignment1\n",
    "    Directory ../AutoGrade\n",
    "    Directory ../day4\n",
    "    Directory ../assignment6\n",
    "    Directory ../day3\n",
    "    ...\n",
    "```\n",
    "### Someone on a DOS based system would see DOS path names"
   ]
  },
  {
   "cell_type": "markdown",
   "metadata": {},
   "source": [
    "## We can build a path name\n",
    "## We know which files are directories\n",
    "## We would like to peek into the directories as well"
   ]
  },
  {
   "cell_type": "code",
   "execution_count": null,
   "metadata": {},
   "outputs": [],
   "source": [
    "import os\n",
    "\n",
    "# Perform a recursive traverse of directories\n",
    "def walk(dirname: str):\n",
    "\n",
    "    # Walk over the files in this directory\n",
    "    for name in os.listdir(dirname):\n",
    "\n",
    "        # Construct a full path\n",
    "        path = os.path.join(dirname, name)\n",
    "\n",
    "        # print filenames, and traverse directories\n",
    "        if os.path.isfile(path):\n",
    "            print(path)\n",
    "        else:\n",
    "            walk(path)\n",
    "\n",
    "            \n",
    "# .. is the directory above us           \n",
    "walk('..')"
   ]
  },
  {
   "cell_type": "markdown",
   "metadata": {},
   "source": [
    "### I see\n",
    "\n",
    "```python\n",
    "    ../advanced/serialize/serialize.py\n",
    "    ../advanced/serialize/course.pickle\n",
    "    ../advanced/serialize/course.json\n",
    "    ../advanced/serialize/pretty-course.json\n",
    "    ../advanced/serialize/__pycache__/pickle.cpython-36.pyc\n",
    "    ../advanced/serialize/debug.py\n",
    "    ../advanced/serialize/load.py\n",
    "    ../assignment1/prog1.py\n",
    "    ...\n",
    "```"
   ]
  },
  {
   "cell_type": "markdown",
   "metadata": {},
   "source": [
    "# Wrap this up as a program"
   ]
  },
  {
   "cell_type": "code",
   "execution_count": null,
   "metadata": {},
   "outputs": [],
   "source": [
    "# walk.py\n",
    "#\n",
    "# List all files below a point in the file system\n",
    "#\n",
    "# Usage:\n",
    "#    python walk.py path\n",
    "#\n",
    "# Based on Downey's Think Python, Chapter 14.4\n",
    "\n",
    "import os\n",
    "import sys\n",
    "\n",
    "# Perform a recursive traverse of directories\n",
    "def walk(dirname: str):\n",
    "\n",
    "    # Walk over the files in this directory\n",
    "    for name in os.listdir(dirname):\n",
    "\n",
    "        # Construct a full path\n",
    "        path = os.path.join(dirname, name)\n",
    "\n",
    "        # print filenames, and traverse directories\n",
    "        if os.path.isfile(path):\n",
    "            print(path)\n",
    "        else:\n",
    "            walk(path)\n",
    "\n",
    "\n",
    "# Was there anything on the command line?\n",
    "if len(sys.argv) != 2:\n",
    "    print(\"Usage: python walk.py <path>\")\n",
    "else:\n",
    "    walk(sys.argv[1])"
   ]
  },
  {
   "cell_type": "markdown",
   "metadata": {},
   "source": [
    "# Which?\n",
    "## Another useful Unix command is 'which'"
   ]
  },
  {
   "cell_type": "code",
   "execution_count": null,
   "metadata": {},
   "outputs": [],
   "source": [
    "! which python"
   ]
  },
  {
   "cell_type": "markdown",
   "metadata": {},
   "source": [
    "```python\n",
    "    /Users/jparker/anaconda3/bin/python\n",
    "```"
   ]
  },
  {
   "cell_type": "code",
   "execution_count": null,
   "metadata": {},
   "outputs": [],
   "source": [
    "! python which.py mrclean.sh"
   ]
  },
  {
   "cell_type": "markdown",
   "metadata": {},
   "source": [
    "```python\n",
    "    /Users/jparker/bin/mrclean.sh\n",
    "```"
   ]
  },
  {
   "cell_type": "code",
   "execution_count": null,
   "metadata": {},
   "outputs": [],
   "source": [
    "! python which.py mrclean"
   ]
  },
  {
   "cell_type": "code",
   "execution_count": null,
   "metadata": {},
   "outputs": [],
   "source": [
    "! more /Users/jparker/bin/mrclean.sh"
   ]
  },
  {
   "cell_type": "markdown",
   "metadata": {},
   "source": [
    "Remove some temporary files\n",
    "```python\n",
    "#!/bin/bash\n",
    "rm *.aux\n",
    "rm *.log\n",
    "rm *.out\n",
    "rm *.synctex.gz\n",
    "```"
   ]
  },
  {
   "cell_type": "code",
   "execution_count": null,
   "metadata": {},
   "outputs": [],
   "source": [
    "# which0.py\n",
    "#\n",
    "# Where is a command defined? \n",
    "# Usage:\n",
    "#      % python which.py command \n",
    "#\n",
    "# Jeff Parker, 2018\n",
    "\n",
    "import os\n",
    "\n",
    "# Is the command in this directory?\n",
    "def traverse(dir: str, target: str):\n",
    "    try:\n",
    "        # Loop over all files in this directory\n",
    "        for w in os.listdir(dir):\n",
    "            # Is it a match?\n",
    "            if (target == w):\n",
    "                return os.path.join(dir, w)\n",
    "    except:\n",
    "        return None\n",
    "\n",
    "    return None\n",
    "\n",
    "traverse('.', 'mrclean.sh')"
   ]
  },
  {
   "cell_type": "markdown",
   "metadata": {},
   "source": [
    "## Good start.  But we need to look other places"
   ]
  },
  {
   "cell_type": "code",
   "execution_count": null,
   "metadata": {},
   "outputs": [],
   "source": [
    "import os\n",
    "\n",
    "res = os.environ[\"PATH\"]\n",
    "path = res.split(':')\n",
    "\n",
    "# Look at each element\n",
    "for w in path:\n",
    "    print(w)"
   ]
  },
  {
   "cell_type": "code",
   "execution_count": null,
   "metadata": {},
   "outputs": [],
   "source": [
    "# which.py\n",
    "#\n",
    "# Where is a command defined? \n",
    "# Usage:\n",
    "#      % python which.py command \n",
    "#\n",
    "# Jeff Parker, 2018\n",
    "\n",
    "import sys\n",
    "import os\n",
    "\n",
    "# Is the command in this directory?\n",
    "def traverse(dir: str, target: str):\n",
    "    try:\n",
    "        # Loop over all files in this directory\n",
    "        for w in os.listdir(dir):\n",
    "            # Is it a match?\n",
    "            if (target == w):\n",
    "                return os.path.join(dir, w)\n",
    "    except:\n",
    "        return None\n",
    "\n",
    "    return None\n",
    "\n",
    "# Get the system path, and traverse each element in turn\n",
    "def which(target):\n",
    "    res = os.environ[\"PATH\"]\n",
    "    path = res.split(':')\n",
    "    # Look at each element\n",
    "    for w in path:\n",
    "        # Is the target there?\n",
    "        res = traverse(w, target)\n",
    "        if (res):\n",
    "            return res\n",
    "\n",
    "    return \"Could not find \" + target\n",
    "\n",
    "if (len(sys.argv) == 1):\n",
    "    print(\"Usage: python which.py <command>\")\n",
    "else:\n",
    "    print(which(sys.argv[1]))"
   ]
  },
  {
   "cell_type": "code",
   "execution_count": null,
   "metadata": {},
   "outputs": [],
   "source": [
    "! python which.py mrclean.sh"
   ]
  },
  {
   "cell_type": "markdown",
   "metadata": {},
   "source": [
    "### I see\n",
    "\n",
    "```python\n",
    "    /Users/jparker/bin/mrclean.sh\n",
    "```"
   ]
  },
  {
   "cell_type": "markdown",
   "metadata": {},
   "source": [
    "# Find Libraries\n",
    "## Like which for Python LIbraries"
   ]
  },
  {
   "cell_type": "code",
   "execution_count": null,
   "metadata": {},
   "outputs": [],
   "source": [
    "import sys\n",
    "import os\n",
    "from typing import Any\n",
    "\n",
    "\n",
    "def traverse(dir: str, target: str) -> Any:\n",
    "    \"Is the command in this directory?\"\n",
    "    N = len(target)\n",
    "    result = []\n",
    "    try:\n",
    "        # Loop over all files in this directory\n",
    "        for w in os.listdir(dir):\n",
    "\n",
    "            # Is it a match?\n",
    "            if (target == w[:N]):\n",
    "                result.append(os.path.join(dir, w))\n",
    "    except IOError:\n",
    "        return None\n",
    "\n",
    "    return result\n",
    "\n",
    "def find_library(target: str) -> str:\n",
    "    \"Get Python's path, and check each element in turn\"\n",
    "\n",
    "    # Look at each element\n",
    "    for w in sys.path:\n",
    "        # Is the target there?\n",
    "        res = traverse(w, target)\n",
    "        if (res):\n",
    "            return res\n",
    "\n",
    "    return \"Could not find \" + target"
   ]
  },
  {
   "cell_type": "code",
   "execution_count": null,
   "metadata": {},
   "outputs": [],
   "source": [
    "find_library('turtle')"
   ]
  },
  {
   "cell_type": "markdown",
   "metadata": {},
   "source": [
    "# Common mistake\n",
    "## Create a file that occludes a library"
   ]
  },
  {
   "cell_type": "code",
   "execution_count": null,
   "metadata": {},
   "outputs": [],
   "source": [
    "## Unix command to create a file called turtle.decoy\n",
    "\n",
    "! touch turtle.decoy"
   ]
  },
  {
   "cell_type": "code",
   "execution_count": null,
   "metadata": {},
   "outputs": [],
   "source": [
    "! ls"
   ]
  },
  {
   "cell_type": "code",
   "execution_count": null,
   "metadata": {},
   "outputs": [],
   "source": [
    "find_library('turtle')"
   ]
  },
  {
   "cell_type": "markdown",
   "metadata": {},
   "source": [
    "## Be careful: you may be occluding a library!"
   ]
  },
  {
   "cell_type": "code",
   "execution_count": null,
   "metadata": {},
   "outputs": [],
   "source": [
    "! rm turtle.decoy"
   ]
  },
  {
   "cell_type": "code",
   "execution_count": null,
   "metadata": {},
   "outputs": [],
   "source": [
    "find_library('turtle')"
   ]
  },
  {
   "cell_type": "markdown",
   "metadata": {},
   "source": [
    "# Fizz Buzz"
   ]
  },
  {
   "cell_type": "code",
   "execution_count": null,
   "metadata": {},
   "outputs": [],
   "source": [
    "## Write a program that prints the numbers from 1 to 100. \n",
    "## For multiples of 3 print “Fizz” instead of the number,\n",
    "## For multiples of 5 print “Buzz”, \n",
    "## For numbers which are multiples of both 3 and 5 print “FizzBuzz”."
   ]
  },
  {
   "cell_type": "markdown",
   "metadata": {},
   "source": [
    "Here is what I want to see\n",
    "\n",
    "```python\n",
    "    1\n",
    "    2\n",
    "    Fizz\n",
    "    4\n",
    "    Buzz\n",
    "    Fizz\n",
    "    7\n",
    "    8\n",
    "    Fizz\n",
    "    Buzz\n",
    "    11\n",
    "    Fizz\n",
    "    13\n",
    "    14\n",
    "    FizzBuzz\n",
    "    16\n",
    "    ...\n",
    "```"
   ]
  },
  {
   "cell_type": "code",
   "execution_count": null,
   "metadata": {},
   "outputs": [],
   "source": [
    "for i in range(20):\n",
    "    print(i)"
   ]
  },
  {
   "cell_type": "code",
   "execution_count": null,
   "metadata": {},
   "outputs": [],
   "source": [
    "def fizzbuzz(i):\n",
    "    return str(i)"
   ]
  },
  {
   "cell_type": "code",
   "execution_count": null,
   "metadata": {},
   "outputs": [],
   "source": [
    "for i in range(1, 20):\n",
    "    print(fizzbuzz(i))"
   ]
  },
  {
   "cell_type": "markdown",
   "metadata": {},
   "source": [
    "# WTF\n",
    "## Take a look at where we decide what a line separator is"
   ]
  },
  {
   "cell_type": "code",
   "execution_count": null,
   "metadata": {},
   "outputs": [],
   "source": [
    "! python findLibrary.py os"
   ]
  },
  {
   "cell_type": "markdown",
   "metadata": {},
   "source": [
    "What I see\n",
    "\n",
    "```python\n",
    "/Users/jparker/anaconda3/lib/python3.7/os.py\n",
    "```"
   ]
  },
  {
   "cell_type": "code",
   "execution_count": null,
   "metadata": {},
   "outputs": [],
   "source": [
    "! more /Users/jparker/anaconda3/lib/python3.7/os.py"
   ]
  },
  {
   "cell_type": "markdown",
   "metadata": {},
   "source": [
    "```python\n",
    "\"\"\"OS routines for NT or Posix depending on what system we're on.\n",
    "\n",
    "This exports:\n",
    "  - all functions from posix or nt, e.g. unlink, stat, etc.\n",
    "  - os.path is either posixpath or ntpath\n",
    "  - os.name is either 'posix' or 'nt'\n",
    "  - os.curdir is a string representing the current directory (always '.')\n",
    "  - os.pardir is a string representing the parent directory (always '..')\n",
    "  - os.sep is the (or a most common) pathname separator ('/' or '\\\\')\n",
    "  - os.extsep is the extension separator (always '.')\n",
    "  - os.altsep is the alternate pathname separator (None or '/')\n",
    "  - os.pathsep is the component separator used in $PATH etc\n",
    "  - os.linesep is the line separator in text files ('\\r' or '\\n' or '\\r\\n')\n",
    "  - os.defpath is the default search path for executables\n",
    "  - os.devnull is the file path of the null device ('/dev/null', etc.)\n",
    "\n",
    "Programs that import and use 'os' stand a better chance of being\n",
    "portable between different platforms.  Of course, they must then\n",
    "only use functions that are defined by all platforms (e.g., unlink\n",
    "and opendir), and leave all pathname manipulation to os.path\n",
    "(e.g., split and join).\n",
    "\"\"\"\n",
    "```"
   ]
  },
  {
   "cell_type": "markdown",
   "metadata": {},
   "source": [
    "# About 70 lines down\n",
    "```python\n",
    "elif 'nt' in _names:\n",
    "    name = 'nt'\n",
    "    linesep = '\\r\\n'\n",
    "```"
   ]
  },
  {
   "cell_type": "markdown",
   "metadata": {},
   "source": [
    "# Reflection"
   ]
  },
  {
   "cell_type": "markdown",
   "metadata": {},
   "source": [
    "## The article below mentions three benefits of exception handling.\n",
    "\n",
    "## Restate the three points in your own words\n",
    "\n",
    "http://journals.ecs.soton.ac.uk/java/tutorial/java/exceptions/definition.html\n",
    "    \n",
    "## *The article discusses Java exceptions, but  benefits are the same* "
   ]
  }
 ],
 "metadata": {
  "kernelspec": {
   "display_name": "Python 3",
   "language": "python",
   "name": "python3"
  },
  "language_info": {
   "codemirror_mode": {
    "name": "ipython",
    "version": 3
   },
   "file_extension": ".py",
   "mimetype": "text/x-python",
   "name": "python",
   "nbconvert_exporter": "python",
   "pygments_lexer": "ipython3",
   "version": "3.8.1"
  }
 },
 "nbformat": 4,
 "nbformat_minor": 1
}
