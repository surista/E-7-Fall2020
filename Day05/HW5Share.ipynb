{
 "cells": [
  {
   "cell_type": "markdown",
   "metadata": {},
   "source": [
    "## HW 5 Share\n",
    "\n",
    "These are some problems I'd be happy to help you solve online, in office hours, or in Section\n",
    "\n",
    "We will see a number of filtering problems"
   ]
  },
  {
   "cell_type": "markdown",
   "metadata": {},
   "source": [
    "## 1) Odd Numbers\n",
    "\n",
    "Write a function that takes a list of integers, and returns the odd integers in the same order\n",
    "\n",
    "Given [2, 4, 3, 1, 6, 8, 7], you should return [3, 1, 7]"
   ]
  },
  {
   "cell_type": "markdown",
   "metadata": {},
   "source": [
    "## 2) Odd Length\n",
    "\n",
    "Take a list of strings, and return a list of the words of odd length."
   ]
  },
  {
   "cell_type": "markdown",
   "metadata": {},
   "source": [
    "## 3) Zero Crossings\n",
    "\n",
    "Given a sequence of numbers, return the position of each index where the numbers cross from negative to positive or back.  \n",
    "\n",
    "Given [1 2 -1 -3 -1 2 ...] you should return [2, 5 ...] \n",
    "\n",
    "For purposes of this problem, assume that zero is a positive number"
   ]
  },
  {
   "cell_type": "markdown",
   "metadata": {},
   "source": [
    "## 4) Remove Duplicates\n",
    "\n",
    "Given a list of items, produce a version of the items without consecutive duplicates.  \n",
    "\n",
    "Given [1, 1, 2, 3, 2, 3, 4, 4], you should return [1, 2, 3, 2, 3, 4]\n",
    "\n",
    "Given ['a', 'b', 'a', 'a', 'c', 'a', 'b', 'b'] you should return ['a', 'b', 'a', 'c', 'a', 'b']\n",
    "\n",
    "Given [1, 'a', 'a', 2, 2, 3.0] you should return [1, 'a', 2, 3.0]"
   ]
  },
  {
   "cell_type": "code",
   "execution_count": null,
   "metadata": {},
   "outputs": [],
   "source": [
    "def prune(lst):\n",
    "    pass"
   ]
  },
  {
   "cell_type": "markdown",
   "metadata": {},
   "source": [
    "### Unit Tests"
   ]
  },
  {
   "cell_type": "code",
   "execution_count": null,
   "metadata": {},
   "outputs": [],
   "source": [
    "def validate_prune():\n",
    "    assert prune([1, 1, 2, 3, 2, 3, 4, 4]) == [1, 2, 3, 2, 3, 4]   \n",
    "    assert prune(['a', 'b', 'a', 'a', 'c', 'a', 'b', 'b']) == ['a', 'b', 'a', 'c', 'a', 'b']\n",
    "    assert prune([1, 'a', 'a', 2, 2, 3.0]) == [1, 'a', 2, 3.0]\n",
    "    \n",
    "    print('Success!')\n",
    "    \n",
    "validate_prune()"
   ]
  },
  {
   "cell_type": "markdown",
   "metadata": {},
   "source": [
    "## 5) Shortest Representatives bis\n",
    "\n",
    "Given a string and a set of characters, return the shortest substring containing all the characters in the set.\n",
    "For example, given the string \"figehaeci\" and the set of characters {a, e, i}, you should return \"aeci\".\n",
    "\n",
    "If there are two minimal substrings, you can return either one. "
   ]
  },
  {
   "cell_type": "markdown",
   "metadata": {},
   "source": [
    "## 6) Histogram\n",
    "\n",
    "You are sked to draw a histogram consisting of rectangles of different heights. These heights are represented in an input list, such that [1, 3, 2, 5], which corresponds to the following diagram:\n",
    "\n",
    "```python\n",
    "      x\n",
    "      x\n",
    "  x   x\n",
    "  x x x\n",
    "x x x x\n",
    "```\n",
    "\n",
    "Use print statements to draw a histogram representing the numbers.  \n",
    "\n",
    "I found it helpful to think about drawing the background.  "
   ]
  },
  {
   "cell_type": "markdown",
   "metadata": {},
   "source": [
    "## 7) Histogram bis\n",
    "\n",
    "You are given a histogram represented with blanks and x's.  \n",
    "Return the list holding the hights of each bar.\n",
    "\n",
    "```python\n",
    "   x\n",
    "   x\n",
    " x x\n",
    " xxx\n",
    "xxxx\n",
    "```\n",
    "\n",
    "Given the diagram above, return [1, 3, 2, 5]"
   ]
  },
  {
   "cell_type": "markdown",
   "metadata": {},
   "source": [
    "## 8) Octal Dump and byte files\n",
    "\n",
    "One issue we had with our first attempt at Octal Dump is that Python hides /r\n",
    "\n",
    "Rather than opening as a text file, we can open the input file as a Byte file\n",
    "\n",
    "### Rather than open the file with mode 'r', open it with mode 'rb'\n",
    "\n",
    "```python\n",
    "    # Take the filename\n",
    "    with open(sys.argv[1], 'rb') as f:\n",
    "```\n",
    "\n",
    "When you read, you are reading bytes, which you will need to turn into characters.\n",
    "\n",
    "You can use the function chr() to convert a byte into a string.\n",
    "\n",
    "```python\n",
    "            for byte in line:\n",
    "                lst.append(chr(byte))\n",
    "```\n",
    "\n",
    "\n"
   ]
  },
  {
   "cell_type": "markdown",
   "metadata": {},
   "source": [
    "## 9) Strip Comments\n",
    "Downey provides a program to strip comments that use '#'\n",
    "\n",
    "```python\n",
    "# stripComments.py\n",
    "#\n",
    "# Remove the comments from a file\n",
    "# Usage:\n",
    "#      $ python stripComments.py old new\n",
    "\n",
    "import sys\n",
    "\n",
    "\n",
    "def filterFile(oldFile: str, newFile: str):\n",
    "    \"\"\"Take lines from old file and write to new:\n",
    "       Don't copy lines that start with '#'\"\"\"\n",
    "\n",
    "    with open(oldFile, 'r') as old:\n",
    "        with open(newFile, 'w') as new:\n",
    "\n",
    "            # For each line of the old file\n",
    "            for text in old:\n",
    "\n",
    "                # If it isn't a comment, copy to new file\n",
    "                if text[0] != '#':\n",
    "                    new.write(text)       \n",
    "```\n",
    "However, he only removes lines that begin with '#'.\n",
    "\n",
    "\n",
    "```python\n",
    "import sys\n",
    "\n",
    "\n",
    "def filterFile(oldFile: str, newFile: str):\n",
    "    \"\"\"Take lines from old file and write to new:\n",
    "       Don't copy lines that start with '#'\"\"\"\n",
    "\n",
    "    with open(oldFile, 'r') as old:\n",
    "        with open(newFile, 'w') as new:\n",
    "\n",
    "            # For each line of the old file\n",
    "            for text in old:\n",
    "\n",
    "                # If it isn't a comment, copy to new file\n",
    "                if text[0] != '#':\n",
    "                    new.write(text)\n",
    "```\n",
    "\n",
    "A better version would remove lines that begin with '#', but would also trim lines that have a '#' later in the string.\n",
    "Try running your program on itself: does it leave a legal program? Does it deal correctly with\n",
    "\n",
    "\n",
    "```python\n",
    "                if text[0] != '#':\n",
    "```\n",
    "\n",
    "Show the output of your program on Downey's stripComments.py"
   ]
  },
  {
   "cell_type": "code",
   "execution_count": null,
   "metadata": {},
   "outputs": [],
   "source": []
  }
 ],
 "metadata": {
  "kernelspec": {
   "display_name": "Python 3",
   "language": "python",
   "name": "python3"
  },
  "language_info": {
   "codemirror_mode": {
    "name": "ipython",
    "version": 3
   },
   "file_extension": ".py",
   "mimetype": "text/x-python",
   "name": "python",
   "nbconvert_exporter": "python",
   "pygments_lexer": "ipython3",
   "version": "3.8.1"
  }
 },
 "nbformat": 4,
 "nbformat_minor": 1
}
