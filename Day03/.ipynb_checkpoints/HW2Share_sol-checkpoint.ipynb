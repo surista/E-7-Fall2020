{
 "cells": [
  {
   "cell_type": "markdown",
   "metadata": {},
   "source": [
    "# HW 2 Share\n",
    "\n",
    "These are some problems I'd be happy to help you solve online, in office hours, or in Section\n",
    "\n",
    "Edited after Office Hours Thursday Sept 10, 2020"
   ]
  },
  {
   "cell_type": "markdown",
   "metadata": {},
   "source": [
    "## 1) I know you are but what am I?\n",
    "\n",
    "Define a childish Boolean function that negates it's input"
   ]
  },
  {
   "cell_type": "code",
   "execution_count": null,
   "metadata": {},
   "outputs": [],
   "source": [
    "def negation(p: bool) -> bool:\n",
    "    \"Whatever you aren't\"\n",
    "    return not p\n",
    "\n",
    "negation(False)"
   ]
  },
  {
   "cell_type": "code",
   "execution_count": null,
   "metadata": {},
   "outputs": [],
   "source": [
    "negation(True)"
   ]
  },
  {
   "cell_type": "markdown",
   "metadata": {},
   "source": [
    "## 2) Happy Talk\n",
    "\n",
    "When I am grumpy, my wife can cheer me up.\n",
    "\n",
    "When she is grumpy, I can keep things going\n",
    "\n",
    "When we are both grumpy, Look out!"
   ]
  },
  {
   "cell_type": "code",
   "execution_count": null,
   "metadata": {},
   "outputs": [],
   "source": [
    "def unhappy(grumpy1 : bool, grumpy2 : bool) -> bool:\n",
    "    \"Any chance for peace in the house?\"\n",
    "    return grumpy1 and grumpy2\n",
    "        \n",
    "unhappy(True, False)"
   ]
  },
  {
   "cell_type": "code",
   "execution_count": null,
   "metadata": {},
   "outputs": [],
   "source": [
    "unhappy(True, True)"
   ]
  },
  {
   "cell_type": "markdown",
   "metadata": {},
   "source": [
    "## 3) Even \n",
    "\n",
    "Is a number even or odd?\n",
    "\n",
    "Write a function that takes an integer and returns a boolean\n",
    "\n",
    "### Our first draft returns an integer\n",
    "#### We will modify this to return a Boolean"
   ]
  },
  {
   "cell_type": "code",
   "execution_count": null,
   "metadata": {},
   "outputs": [],
   "source": [
    "def even(num: int) -> int:\n",
    "    \"Is num even or odd?\"\n",
    "    return (num % 2)\n",
    "\n",
    "even(3)"
   ]
  },
  {
   "cell_type": "code",
   "execution_count": null,
   "metadata": {},
   "outputs": [],
   "source": [
    "even(2)"
   ]
  },
  {
   "cell_type": "markdown",
   "metadata": {},
   "source": [
    "## This version checks the remainder and decides if the number is even"
   ]
  },
  {
   "cell_type": "code",
   "execution_count": null,
   "metadata": {
    "scrolled": true
   },
   "outputs": [],
   "source": [
    "def even(num: int) -> int:\n",
    "    \"Is num even or odd?\"\n",
    "    return num % 2 == 0\n",
    "\n",
    "even(3)"
   ]
  },
  {
   "cell_type": "code",
   "execution_count": null,
   "metadata": {},
   "outputs": [],
   "source": [
    "even(4)"
   ]
  },
  {
   "cell_type": "markdown",
   "metadata": {},
   "source": [
    "## This version rewrites the check"
   ]
  },
  {
   "cell_type": "code",
   "execution_count": null,
   "metadata": {},
   "outputs": [],
   "source": [
    "def even(num: int) -> int:\n",
    "    \"Is num even or odd?\"\n",
    "    return not num % 2\n",
    "\n",
    "even(3)"
   ]
  },
  {
   "cell_type": "code",
   "execution_count": null,
   "metadata": {},
   "outputs": [],
   "source": [
    "even(6)"
   ]
  },
  {
   "cell_type": "markdown",
   "metadata": {},
   "source": [
    "## 4) Parker's prohibition\n",
    "\n",
    "Let's add two numbers"
   ]
  },
  {
   "cell_type": "code",
   "execution_count": null,
   "metadata": {},
   "outputs": [],
   "source": [
    "def sum(x, y):\n",
    "    \"Add two numbers\"\n",
    "    print(x + y)\n",
    "    \n",
    "retvalue = sum(2, 3)\n",
    "print(\"Return Value =\", retvalue)"
   ]
  },
  {
   "cell_type": "markdown",
   "metadata": {},
   "source": [
    "### Don't print - return!"
   ]
  },
  {
   "cell_type": "code",
   "execution_count": null,
   "metadata": {},
   "outputs": [],
   "source": [
    "def sum(x, y):\n",
    "    return x + y\n",
    "    \n",
    "retvalue = sum(2, 3)\n",
    "print(\"Return Value =\", retvalue)"
   ]
  },
  {
   "cell_type": "markdown",
   "metadata": {},
   "source": [
    "## 5) (Downey)\n",
    "\n",
    "In Python, a function is something you can assign to a variable or pass as an argument.  For example, do_twice(), shown below, is a function that takes a function object as an argument and  calls it twice\n",
    "\n",
    "Here’s an example that uses do_twice to call a function named print_spam() twice.  (Although print_spam() prints in the function, it includes 'print' in its name.)\n",
    "\n",
    "Add some text"
   ]
  },
  {
   "cell_type": "code",
   "execution_count": null,
   "metadata": {},
   "outputs": [],
   "source": [
    "def do_twice(f):\n",
    "    f()\n",
    "    f()\n",
    "\n",
    "def print_spam():\n",
    "    print('spam')\n",
    "    \n",
    "do_twice(print_spam)"
   ]
  },
  {
   "cell_type": "markdown",
   "metadata": {},
   "source": [
    "The function print_spam does not take a parameter: print_twice() does"
   ]
  },
  {
   "cell_type": "code",
   "execution_count": null,
   "metadata": {},
   "outputs": [],
   "source": [
    "# Print something twice\n",
    "def print_twice(s):\n",
    "    print(s)\n",
    "    print(s)\n",
    "\n",
    "print_twice('Wensleydale')"
   ]
  },
  {
   "cell_type": "markdown",
   "metadata": {},
   "source": [
    "Try the example above and make sure you understand it. Write some other function that you can run through do_twice()\n",
    "\n",
    "Consider print_twice(), which takes an argument.  \n",
    "\n",
    "Write a new function do_twice_version2() that takes two arguments, a function object and a value,  and calls the function twice, passing the value as an argument.\n",
    "\n",
    "What do you expect the sample call below to produce?"
   ]
  },
  {
   "cell_type": "code",
   "execution_count": null,
   "metadata": {},
   "outputs": [],
   "source": [
    "# Fill in a definition for this function\n",
    "def do_twice_version2(f, arg):\n",
    "    f(arg) \n",
    "    f(arg)\n",
    "\n",
    "# Test case\n",
    "do_twice_version2(print_twice, 'Gorgonzola')"
   ]
  },
  {
   "cell_type": "markdown",
   "metadata": {},
   "source": [
    "Define a new function, do_four(), that takes a function object and a value and calls the function four times, passing the value as a parameter.   There should be only two statements in the body of this function, not four.\n",
    "\n",
    "Hint: you can use some of the things you have been working on.  "
   ]
  },
  {
   "cell_type": "code",
   "execution_count": null,
   "metadata": {},
   "outputs": [],
   "source": [
    "# Fill in the function below with exactly two statements\n",
    "def do_four(f, arg):\n",
    "    do_twice_version2(f, arg)\n",
    "    do_twice_version2(f, arg)\n",
    "    \n",
    "# Test case\n",
    "do_four(print, 3)"
   ]
  },
  {
   "cell_type": "markdown",
   "metadata": {},
   "source": [
    "## 6) Explore\n",
    "\n",
    "We explore some functions that python offers to explore your environment.\n",
    "Make predictions about what each command does and what will be printed\n",
    "\n",
    "What does the final command do? "
   ]
  },
  {
   "cell_type": "code",
   "execution_count": null,
   "metadata": {},
   "outputs": [],
   "source": [
    "import platform\n",
    "\n",
    "print( type(platform))"
   ]
  },
  {
   "cell_type": "code",
   "execution_count": null,
   "metadata": {},
   "outputs": [],
   "source": [
    "# List what the module implements\n",
    "\n",
    "print( dir(platform))"
   ]
  },
  {
   "cell_type": "code",
   "execution_count": null,
   "metadata": {},
   "outputs": [],
   "source": [
    "# What version of Python are you running?\n",
    "\n",
    "print( platform.python_version)"
   ]
  },
  {
   "cell_type": "code",
   "execution_count": null,
   "metadata": {},
   "outputs": [],
   "source": [
    "print( type(platform.python_version))"
   ]
  },
  {
   "cell_type": "code",
   "execution_count": null,
   "metadata": {},
   "outputs": [],
   "source": [
    "# We 'call' the function\n",
    "\n",
    "print( platform.python_version() )"
   ]
  },
  {
   "cell_type": "code",
   "execution_count": null,
   "metadata": {},
   "outputs": [],
   "source": [
    "# What kind of 'machine' are you running on?\n",
    "\n",
    "print( platform.machine)"
   ]
  },
  {
   "cell_type": "code",
   "execution_count": null,
   "metadata": {},
   "outputs": [],
   "source": [
    "print( type(platform.machine)) "
   ]
  },
  {
   "cell_type": "code",
   "execution_count": null,
   "metadata": {},
   "outputs": [],
   "source": [
    "# We 'call' the function\n",
    "\n",
    "print( platform.machine() ) "
   ]
  },
  {
   "cell_type": "markdown",
   "metadata": {},
   "source": [
    "<div class=\"alert alert-block alert-info\">\n",
    "What does that output tell us?\n",
    "</div>"
   ]
  },
  {
   "cell_type": "code",
   "execution_count": null,
   "metadata": {},
   "outputs": [],
   "source": [
    "# Put your answer here:\n",
    "\n"
   ]
  },
  {
   "cell_type": "code",
   "execution_count": null,
   "metadata": {},
   "outputs": [],
   "source": [
    "import platform\n",
    "\n",
    "print( platform.os)"
   ]
  },
  {
   "cell_type": "code",
   "execution_count": null,
   "metadata": {},
   "outputs": [],
   "source": [
    "print( type(platform.os))"
   ]
  },
  {
   "cell_type": "code",
   "execution_count": null,
   "metadata": {},
   "outputs": [],
   "source": [
    "# We 'call' the function\n",
    "\n",
    "print( platform.os() )"
   ]
  },
  {
   "cell_type": "code",
   "execution_count": null,
   "metadata": {},
   "outputs": [],
   "source": [
    "print( dir(platform.os) )"
   ]
  },
  {
   "cell_type": "code",
   "execution_count": null,
   "metadata": {},
   "outputs": [],
   "source": [
    "# Call the function listdir()\n",
    "\n",
    "print( platform.os.listdir() )"
   ]
  },
  {
   "cell_type": "code",
   "execution_count": null,
   "metadata": {},
   "outputs": [],
   "source": [
    "! ls"
   ]
  },
  {
   "cell_type": "markdown",
   "metadata": {},
   "source": [
    "<div class=\"alert alert-block alert-info\">\n",
    "Answer these questions in the cell below\n",
    "    \n",
    "* What does the function listdir() do?\n",
    "\n",
    "* In your own words, what is a module?\n",
    "\n",
    "* In your own words, what is a function?\n",
    "</div>"
   ]
  },
  {
   "cell_type": "code",
   "execution_count": null,
   "metadata": {},
   "outputs": [],
   "source": []
  },
  {
   "cell_type": "markdown",
   "metadata": {},
   "source": [
    "### You check the documentation for platform.os here:\n",
    "\n",
    "```python\n",
    "    https://docs.python.org/3/library/os.html\n",
    "```"
   ]
  },
  {
   "cell_type": "markdown",
   "metadata": {},
   "source": [
    "## 7) Example\n",
    "\n",
    "Here is a Boolean Function that takes a word and lets you know if it begins with 'a'"
   ]
  },
  {
   "cell_type": "code",
   "execution_count": null,
   "metadata": {},
   "outputs": [],
   "source": [
    "def begins_with_A(word):\n",
    "    return 'a' == word.lower()[0]\n",
    "\n",
    "words = ['act', 'Axe', 'SPAM', 'Slugo']\n",
    "for word in words:\n",
    "    # print(word, '\\t', begins_with_A(word))\n",
    "    print(f\"{word}\\t {begins_with_A(word)}\")"
   ]
  },
  {
   "cell_type": "markdown",
   "metadata": {},
   "source": [
    "## 8) Match\n",
    "\n",
    "Write a Boolean function match() that takes a word and decides if a word begins and ends with the same letter.\n",
    "\n",
    "'pop' does: 'pope' does not.  \n",
    "\n",
    "*Hint: Look at the example above*"
   ]
  },
  {
   "cell_type": "code",
   "execution_count": null,
   "metadata": {},
   "outputs": [],
   "source": [
    "def match(word):\n",
    "    word = word.lower()\n",
    "    return word[0] == word[-1]\n",
    "\n",
    "words = ['act', 'toot', 'SPAMs', 'Slugo']\n",
    "for word in words:\n",
    "    # print(word, '\\t', begins_with_A(word))\n",
    "    print(f\"{word}\\t {match(word)}\")"
   ]
  },
  {
   "cell_type": "markdown",
   "metadata": {},
   "source": [
    "## 9) f-string formatting\n",
    "\n",
    "Python offers a new way to format strings.  Rather than pasting together like this:\n",
    "\n",
    "```python\n",
    "   print(word, '\\t', begins_with_A(word))\n",
    "```\n",
    "\n",
    "you can devise a formating string and work the parameters in\n",
    "\n",
    "```python\n",
    "   print( f\"{word} \\t{begins_with_A(word)}\")\n",
    "```\n",
    "\n",
    "Use f-strings to rewrite the display of the results in the example above"
   ]
  },
  {
   "cell_type": "markdown",
   "metadata": {},
   "source": [
    "## Using f-strings: a first step in the 12 Days song"
   ]
  },
  {
   "cell_type": "code",
   "execution_count": null,
   "metadata": {},
   "outputs": [],
   "source": [
    "def first_line(order):\n",
    "    return f\"On the {order} day of Christmas\\nMy true love gave to me\\n\"\n",
    "    \n",
    "print(first_line('second'))\n",
    "print(first_line('third'))"
   ]
  },
  {
   "cell_type": "markdown",
   "metadata": {},
   "source": [
    "## 10) Even length?\n",
    "\n",
    "Write a Boolean function even() which takes a word and decides if it has an even number of letters.\n",
    "\n",
    "'Pope' does: 'pop' does not.  "
   ]
  },
  {
   "cell_type": "code",
   "execution_count": null,
   "metadata": {},
   "outputs": [],
   "source": [
    "def even(word):\n",
    "    return not (len(word) % 2)\n",
    "\n",
    "words = ['act', 'Axe', 'SPAM', 'Slugo']\n",
    "for word in words:\n",
    "    # print(word, '\\t', begins_with_A(word))\n",
    "    print(f\"{word}\\t {even(word)}\")"
   ]
  },
  {
   "cell_type": "markdown",
   "metadata": {},
   "source": [
    "## 11) Python Version"
   ]
  },
  {
   "cell_type": "code",
   "execution_count": null,
   "metadata": {},
   "outputs": [],
   "source": [
    "import sys\n",
    "\n",
    "print(sys.version)"
   ]
  },
  {
   "cell_type": "code",
   "execution_count": null,
   "metadata": {},
   "outputs": [],
   "source": [
    "dir(sys)"
   ]
  },
  {
   "cell_type": "markdown",
   "metadata": {},
   "source": [
    "### One of the items is hexversion.  Let's see what it does"
   ]
  },
  {
   "cell_type": "code",
   "execution_count": null,
   "metadata": {},
   "outputs": [],
   "source": [
    "import sys\n",
    "\n",
    "print(sys.hexversion)"
   ]
  },
  {
   "cell_type": "markdown",
   "metadata": {},
   "source": [
    "## That was not very useful.  Check the documentation\n",
    "\n",
    "https://docs.python.org/3/library/sys.html\n",
    "    \n",
    "\"This is called hexversion since it only really looks meaningful when viewed as the result of passing it to the built-in hex() function.\"\n",
    "\n",
    "### OK: let's use hex() to convert the result"
   ]
  },
  {
   "cell_type": "code",
   "execution_count": null,
   "metadata": {},
   "outputs": [],
   "source": [
    "import sys\n",
    "\n",
    "print(hex(sys.hexversion))"
   ]
  },
  {
   "cell_type": "markdown",
   "metadata": {},
   "source": [
    "### Compare that with sys.version_info"
   ]
  },
  {
   "cell_type": "code",
   "execution_count": null,
   "metadata": {},
   "outputs": [],
   "source": [
    "import sys\n",
    "\n",
    "print(sys.version_info)\n",
    "print(hex(sys.hexversion))"
   ]
  },
  {
   "cell_type": "markdown",
   "metadata": {},
   "source": [
    "## 12) Python Prompt\n",
    "\n",
    "In interactive mode, Python has two prompts:\n",
    "\n",
    "    ps1 is >>>\n",
    "\n",
    "    ps2 is ...\n",
    "    \n",
    "Here is a sample from the console showing their value and showing these in action\n",
    "\n",
    "```python\n",
    "   $ python\n",
    "   >>> import sys\n",
    "   >>> sys.ps1\n",
    "   '>>> '\n",
    "   >>> sys.ps2\n",
    "'  ... '\n",
    "   >>> def example():\n",
    "   ... \n",
    "```\n",
    "\n",
    "We can change the prompt\n",
    "\n",
    "```python\n",
    "   >>> sys.ps1 = \"Hello, Sam! \"\n",
    "   Hello, Sam!\n",
    "```"
   ]
  },
  {
   "cell_type": "markdown",
   "metadata": {},
   "source": [
    "## ps1 and ps2 in Jupyter Notebook\n",
    "\n",
    "See what ps1 and ps2 are in your notebook"
   ]
  },
  {
   "cell_type": "code",
   "execution_count": null,
   "metadata": {},
   "outputs": [],
   "source": [
    "import sys\n",
    "\n",
    "print('ps1 =', sys.ps1)\n",
    "print('ps2 =', sys.ps2)"
   ]
  },
  {
   "cell_type": "markdown",
   "metadata": {},
   "source": [
    "## 13) A Partridge in a Pear Tree\n",
    "\n",
    "In Don Knuth's article about the Comlexity of Popular Song talks about KC and the Sunshine Band, but also \n",
    "mentions the Twelve Days of Christmas\n",
    "\n",
    "http://www.cs.bme.hu/~friedl/alg/knuth_song_complexity.pdf\n",
    "\n",
    "Write a Python fragment to print the first five days of the song.  Notice that the final line of the first verse is different from the final line of the other verses - it does not start with 'And'\n",
    "\n",
    "DRY - Don't Repeat Yourself!  Don't have two statements that print \"My true love gave to me\" or any other phrase - write a procedure to do the work, and call it!\n",
    "\n",
    "Hint: we solved some of this above\n",
    "\n",
    "```python\n",
    "On the first day of Christmas\n",
    "My true love gave to me:\n",
    "And a partridge in a Pear Tree\n",
    "\n",
    "On the second day of Christmas\n",
    "My true love gave to me:\n",
    "Two turtle Doves\n",
    "And a partridge in a Pear Tree\n",
    "\n",
    "On the third day of Christmas\n",
    "My true love gave to me:\n",
    "Three french Hens\n",
    "Two turtle Doves\n",
    "And a partridge in a Pear Tree\n",
    "\n",
    "On the fourth day of Christmas\n",
    "My true love gave to me:\n",
    "Four calling Birds\n",
    "Three french Hens\n",
    "Two turtle Doves\n",
    "And a partridge in a Pear Tree\n",
    "\n",
    "On the fifth day of Christmas\n",
    "My true love gave to me:\n",
    "Five golden rings\n",
    "Four calling Birds\n",
    "Three french Hens\n",
    "Two turtle Doves\n",
    "And a partridge in a Pear Tree\n",
    "```"
   ]
  },
  {
   "cell_type": "markdown",
   "metadata": {},
   "source": [
    "## 14) mypy\n",
    "\n",
    "We loaded mypy in Office Hours and used it to check that type hints were followed"
   ]
  },
  {
   "cell_type": "code",
   "execution_count": null,
   "metadata": {},
   "outputs": [],
   "source": [
    "! conda install mypy"
   ]
  },
  {
   "cell_type": "markdown",
   "metadata": {},
   "source": [
    "### What I see\n",
    "\n",
    "```python\n",
    "Collecting package metadata (current_repodata.json): done\n",
    "Solving environment: done\n",
    "\n",
    "## Package Plan ##\n",
    "\n",
    "  environment location: /Users/jparker/anaconda3\n",
    "\n",
    "  added / updated specs:\n",
    "    - mypy\n",
    "\n",
    "\n",
    "The following packages will be downloaded:\n",
    "\n",
    "    package                    |            build\n",
    "    ---------------------------|-----------------\n",
    "    ca-certificates-2020.7.22  |                0         124 KB\n",
    "    conda-4.8.4                |           py38_0         2.9 MB\n",
    "    mypy-0.782                 |             py_0         1.4 MB\n",
    "    mypy_extensions-0.4.3      |           py38_0           9 KB\n",
    "    typed-ast-1.4.1            |   py38h1de35cc_0         186 KB\n",
    "    ------------------------------------------------------------\n",
    "                                           Total:         4.5 MB\n",
    "\n",
    "The following NEW packages will be INSTALLED:\n",
    "\n",
    "  mypy               pkgs/main/noarch::mypy-0.782-py_0\n",
    "  mypy_extensions    pkgs/main/osx-64::mypy_extensions-0.4.3-py38_0\n",
    "  typed-ast          pkgs/main/osx-64::typed-ast-1.4.1-py38h1de35cc_0\n",
    "\n",
    "The following packages will be UPDATED:\n",
    "\n",
    "  ca-certificates                               2020.6.24-0 --> 2020.7.22-0\n",
    "  conda                                        4.8.3-py38_0 --> 4.8.4-py38_0\n",
    "\n",
    "\n",
    "Proceed ([y]/n)? \n",
    "```\n",
    "\n",
    "### You can decide if you want to install or not"
   ]
  },
  {
   "cell_type": "markdown",
   "metadata": {},
   "source": [
    "```python\n",
    "Proceed ([y]/n)? y\n",
    "\n",
    "\n",
    "Downloading and Extracting Packages\n",
    "ca-certificates-2020 | 124 KB    | ##################################### | 100% \n",
    "mypy_extensions-0.4. | 9 KB      | ##################################### | 100% \n",
    "typed-ast-1.4.1      | 186 KB    | ##################################### | 100% \n",
    "conda-4.8.4          | 2.9 MB    | ##################################### | 100% \n",
    "mypy-0.782           | 1.4 MB    | ##################################### | 100% \n",
    "Preparing transaction: done\n",
    "Verifying transaction: done\n",
    "Executing transaction: done\n",
    "(base) dcem78:turtleDemos jparker$ \n",
    "```"
   ]
  },
  {
   "cell_type": "markdown",
   "metadata": {},
   "source": [
    "### mypy in action\n",
    "\n",
    "I show the sample program below.  \n",
    "\n",
    "Python has no problem with the program, but mypy spots a case where I violate the type hints. "
   ]
  },
  {
   "cell_type": "code",
   "execution_count": null,
   "metadata": {},
   "outputs": [],
   "source": [
    "! more test.py\n",
    "! python test.py\n",
    "! mypy test.py"
   ]
  },
  {
   "cell_type": "markdown",
   "metadata": {},
   "source": [
    "### What I see.  My prompt is jparker$\n",
    "\n",
    "Look at the program\n",
    "\n",
    "```python\n",
    "jparker$ more test.py \n",
    "\n",
    "def double(x: str) -> str:\n",
    "    return x + x\n",
    "\n",
    "print(double('Sam'))\n",
    "print(double(2))\n",
    "```\n",
    "\n",
    "Run the program\n",
    "\n",
    "```python\n",
    "jparker$ python test.py \n",
    "SamSam\n",
    "4\n",
    "```\n",
    "\n",
    "Use mypy to check the program\n",
    "\n",
    "```python\n",
    "jparker$ mypy test.py \n",
    "test.py:5: error: Argument 1 to \"double\" has incompatible type \"int\"; expected \"str\"\n",
    "Found 1 error in 1 file (checked 1 source file)\n",
    "```                         "
   ]
  },
  {
   "cell_type": "markdown",
   "metadata": {},
   "source": [
    "### I said the function double() took strings, but called it with an integer"
   ]
  }
 ],
 "metadata": {
  "kernelspec": {
   "display_name": "Python 3",
   "language": "python",
   "name": "python3"
  },
  "language_info": {
   "codemirror_mode": {
    "name": "ipython",
    "version": 3
   },
   "file_extension": ".py",
   "mimetype": "text/x-python",
   "name": "python",
   "nbconvert_exporter": "python",
   "pygments_lexer": "ipython3",
   "version": "3.8.3"
  }
 },
 "nbformat": 4,
 "nbformat_minor": 1
}
