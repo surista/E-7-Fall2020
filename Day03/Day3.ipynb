{
 "cells": [
  {
   "cell_type": "markdown",
   "metadata": {},
   "source": [
    "# Introduction to Programming with Python\n",
    "## Day 3 Notebook: Loops\n",
    "## Fall 2019 (c) Jeff Parker"
   ]
  },
  {
   "cell_type": "markdown",
   "metadata": {},
   "source": [
    "## We will review the Homework \n",
    "## Loops in the Notebook\n",
    "## Run the Turtle programs on a website\n",
    "## Use PyCharm to debug a problem"
   ]
  },
  {
   "cell_type": "code",
   "execution_count": null,
   "metadata": {},
   "outputs": [],
   "source": []
  },
  {
   "cell_type": "markdown",
   "metadata": {},
   "source": [
    "# How to solve the homework\n",
    "## Don't wait until the last minute\n",
    "### These problems will require thought\n",
    "## Take each problem bit by bit"
   ]
  },
  {
   "cell_type": "markdown",
   "metadata": {},
   "source": [
    "# Homework Review"
   ]
  },
  {
   "cell_type": "markdown",
   "metadata": {},
   "source": [
    "# Greeting"
   ]
  },
  {
   "cell_type": "code",
   "execution_count": null,
   "metadata": {},
   "outputs": [],
   "source": [
    "def greeting(name):        #define greeting() function\n",
    "    return 'Hello, ' + name + '!'     #return a value to greeting() function\n",
    "\n",
    "\n",
    "print(greeting('Sam'))                #call function and print it"
   ]
  },
  {
   "cell_type": "code",
   "execution_count": null,
   "metadata": {},
   "outputs": [],
   "source": [
    "help(greeting)"
   ]
  },
  {
   "cell_type": "markdown",
   "metadata": {},
   "source": [
    "## What I see\n",
    "```python\n",
    "Help on function greeting in module __main__:\n",
    "\n",
    "greeting(name)\n",
    "```"
   ]
  },
  {
   "cell_type": "markdown",
   "metadata": {},
   "source": [
    "## What happens when we add Type Hints"
   ]
  },
  {
   "cell_type": "code",
   "execution_count": null,
   "metadata": {},
   "outputs": [],
   "source": [
    "def greeting(name: str)-> str:        #define greeting() function\n",
    "    return 'Hello, ' + name + '!'     #return a value to greeting() function"
   ]
  },
  {
   "cell_type": "code",
   "execution_count": null,
   "metadata": {},
   "outputs": [],
   "source": [
    "help(greeting)"
   ]
  },
  {
   "cell_type": "markdown",
   "metadata": {},
   "source": [
    "## What I see\n",
    "```python\n",
    "Help on function greeting in module __main__:\n",
    "\n",
    "greeting(name: str) -> str\n",
    "```"
   ]
  },
  {
   "cell_type": "markdown",
   "metadata": {},
   "source": [
    "## Now add a string describing the function\n",
    "### This is called a \"Doc string\" or Document string "
   ]
  },
  {
   "cell_type": "code",
   "execution_count": null,
   "metadata": {},
   "outputs": [],
   "source": [
    "def greeting(name: str)-> str:        \n",
    "    \"Return a greeting to 'name'\"\n",
    "    return 'Hello, ' + name + '!'      "
   ]
  },
  {
   "cell_type": "code",
   "execution_count": null,
   "metadata": {},
   "outputs": [],
   "source": [
    "help(greeting)"
   ]
  },
  {
   "cell_type": "markdown",
   "metadata": {},
   "source": [
    "## What I see\n",
    "```python\n",
    "Help on function greeting in module __main__:\n",
    "\n",
    "greeting(name: str) -> str\n",
    "    Return a greeting to 'name'\n",
    "```"
   ]
  },
  {
   "cell_type": "code",
   "execution_count": null,
   "metadata": {},
   "outputs": [],
   "source": [
    "dir(greeting)"
   ]
  },
  {
   "cell_type": "markdown",
   "metadata": {},
   "source": [
    "## What I see\n",
    "```python\n",
    "['__annotations__',\n",
    " '__call__',\n",
    " '__class__',\n",
    " '__closure__',\n",
    " '__code__',\n",
    " '__defaults__',\n",
    " '__delattr__',\n",
    " '__dict__',\n",
    " '__dir__',\n",
    " '__doc__',\n",
    " ...\n",
    "```\n",
    "## Look at the __doc__"
   ]
  },
  {
   "cell_type": "code",
   "execution_count": null,
   "metadata": {},
   "outputs": [],
   "source": [
    "greeting.__doc__"
   ]
  },
  {
   "cell_type": "markdown",
   "metadata": {},
   "source": [
    "## We call _ underbar, and __ double underbar.\n",
    "## We call this \"Double underbar doc\" or simply \"Dunder doc\""
   ]
  },
  {
   "cell_type": "markdown",
   "metadata": {},
   "source": [
    "# Metathesis"
   ]
  },
  {
   "cell_type": "code",
   "execution_count": null,
   "metadata": {},
   "outputs": [],
   "source": [
    "# Dean's solution\n",
    "def metathesis(word1: str, word2: str) -> str:\n",
    "    let1 = word1[0:2]\n",
    "    let2 = word2[0:2]\n",
    "    nword1 = word1.replace(word1[0:2], let2)\n",
    "    nword2 = word2.replace(word2[0:2], let1)\n",
    "    answer = nword1 + ' ' + nword2\n",
    "    return answer\n",
    "\n",
    "# should print 'cag dot'\n",
    "print(metathesis('dog', 'cat'))"
   ]
  },
  {
   "cell_type": "markdown",
   "metadata": {},
   "source": [
    "# Another solution"
   ]
  },
  {
   "cell_type": "code",
   "execution_count": null,
   "metadata": {},
   "outputs": [],
   "source": [
    "def metathesis(word1: str, word2: str) -> str:\n",
    "    pass\n",
    "\n",
    "def metathesis (word1: str, word2: str) -> str:\n",
    "    return (word2[0:2] + word1[2:])+ \" \" + (word1[0:2] + word2[2:])\n",
    "\n",
    "# should print 'cag dot'\n",
    "print(metathesis('dog', 'cat'))"
   ]
  },
  {
   "cell_type": "markdown",
   "metadata": {},
   "source": [
    "## What happens to the first definition?"
   ]
  },
  {
   "cell_type": "markdown",
   "metadata": {},
   "source": [
    "## What could go wrong?"
   ]
  },
  {
   "cell_type": "code",
   "execution_count": null,
   "metadata": {},
   "outputs": [],
   "source": [
    "word = '?'\n",
    "print(word[0:2])\n",
    "print(word[2:])"
   ]
  },
  {
   "cell_type": "code",
   "execution_count": null,
   "metadata": {},
   "outputs": [],
   "source": [
    "print(word[0], word[1])"
   ]
  },
  {
   "cell_type": "code",
   "execution_count": null,
   "metadata": {},
   "outputs": [],
   "source": [
    "metathesis('o', 't')"
   ]
  },
  {
   "cell_type": "markdown",
   "metadata": {},
   "source": [
    "## *Slice is forgiving*"
   ]
  },
  {
   "cell_type": "markdown",
   "metadata": {},
   "source": [
    "## Justify"
   ]
  },
  {
   "cell_type": "code",
   "execution_count": null,
   "metadata": {},
   "outputs": [],
   "source": [
    "# A student's solution\n",
    "#\n",
    "def right_justify(s):\n",
    "    print(' '*65 + s)\n",
    "\n",
    "# A ruler to help you check your results\n",
    "ruler = '0123456789' * 7\n",
    "print(ruler)\n",
    "\n",
    "print(right_justify('monty'))"
   ]
  },
  {
   "cell_type": "markdown",
   "metadata": {},
   "source": [
    "## What do you think of the solution above?"
   ]
  },
  {
   "cell_type": "code",
   "execution_count": null,
   "metadata": {},
   "outputs": [],
   "source": [
    "print(ruler)\n",
    "\n",
    "# Test your routine on my example\n",
    "print(right_justify('monty'))\n",
    "\n",
    "# Add your test cases below - replace my strings with more interesting test cases\n",
    "print(right_justify('one'))\n",
    "print(right_justify('two'))\n",
    "print(right_justify('three'))"
   ]
  },
  {
   "cell_type": "markdown",
   "metadata": {},
   "source": [
    "## Problems with this solution\n",
    "### 1) Does not /return/ a string\n",
    "### 2) Does not produce output of length 70\n",
    "### 3) Prints inside a function\n",
    "## There are clues in the Unit Tests - what about that None?"
   ]
  },
  {
   "cell_type": "markdown",
   "metadata": {},
   "source": [
    "## What about this solution?\n",
    "\n",
    "### What problem is (s)he addressing in the last line?\n",
    "### How can we test it?"
   ]
  },
  {
   "cell_type": "code",
   "execution_count": null,
   "metadata": {},
   "outputs": [],
   "source": [
    "# Fill in your function definition below\n",
    "# right_justify('monty') should return a string of length 70, ending with monty\n",
    "# returns: '                                                                 monty'\n",
    "def right_justify(s):\n",
    "    return ' '*(70-len(s)) + s"
   ]
  },
  {
   "cell_type": "markdown",
   "metadata": {},
   "source": [
    "## What is this one testing?"
   ]
  },
  {
   "cell_type": "code",
   "execution_count": null,
   "metadata": {},
   "outputs": [],
   "source": [
    "print(ruler)\n",
    "print(right_justify('one     '))"
   ]
  },
  {
   "cell_type": "markdown",
   "metadata": {},
   "source": [
    "## Can we break that?"
   ]
  },
  {
   "cell_type": "code",
   "execution_count": null,
   "metadata": {},
   "outputs": [],
   "source": [
    "print(ruler)\n",
    "print(right_justify('The\\t\\t\\tEnd'), '<-')\n",
    "print(right_justify('The\\nEnd'), '<-')"
   ]
  },
  {
   "cell_type": "markdown",
   "metadata": {},
   "source": [
    "# You passed all the tests\n",
    "## Did you solve all the problems?"
   ]
  },
  {
   "cell_type": "markdown",
   "metadata": {},
   "source": [
    "# Small Grid"
   ]
  },
  {
   "cell_type": "code",
   "execution_count": null,
   "metadata": {},
   "outputs": [],
   "source": [
    "# Write your solution to 3A below\n",
    "str1 = \"+----\"*2+\"+\" # the first line without the newline sign\n",
    "str2 = \"|    \"*2+\"|\\n\" # the second line with the newline sign\n",
    "str3 = (str1+\"\\n\"+str2*4)*2+str1 # the whole 2 by 2 box\n",
    "print(str3)"
   ]
  },
  {
   "cell_type": "markdown",
   "metadata": {},
   "source": [
    "## What is wrong with that solution?\n",
    "\"A) Write a function that draws a 2 x 2 grid like the image in problem 3.2"
   ]
  },
  {
   "cell_type": "markdown",
   "metadata": {},
   "source": [
    "## What about this solution?"
   ]
  },
  {
   "cell_type": "code",
   "execution_count": null,
   "metadata": {},
   "outputs": [],
   "source": [
    "# Write your solution to 3A below\n",
    "def print_small_grid(): #Draw a 2x2 square, columns and lines separated\n",
    "    f1()\n",
    "    f2()\n",
    "    f1()\n",
    "    f2()\n",
    "    f1()\n",
    "\n",
    "def f1(): #This function will print the columns for the 2x2\n",
    "    print('+----+----+') \n",
    "\n",
    "def f2(): #This function will print the lines for the 2x2\n",
    "    print(\"|    |    |\")\n",
    "    print(\"|    |    |\")\n",
    "    print(\"|    |    |\")\n",
    "    print(\"|    |    |\")\n",
    "    \n",
    "print_small_grid()"
   ]
  },
  {
   "cell_type": "markdown",
   "metadata": {},
   "source": [
    "# Good decomposition into components\n",
    "## However, he is printing in a functions called f1() and f2()\n",
    "## a) Poor name for functions - don't describe what they do\n",
    "## b) Names don't include 'print'"
   ]
  },
  {
   "cell_type": "markdown",
   "metadata": {},
   "source": [
    "# New Solution"
   ]
  },
  {
   "cell_type": "code",
   "execution_count": null,
   "metadata": {},
   "outputs": [],
   "source": [
    "def create_line(height):\n",
    "\theaders = create_headline(height)\n",
    "\n",
    "\tmidlines = create_midlines(height)\n",
    "\n",
    "\tentire_line = headers + (midlines*(height**2))\n",
    "\n",
    "\treturn entire_line\n",
    "\n",
    "def create_headline(height):\n",
    "\tbase_line = '+' + ('-' * (height**2))\n",
    "\tfull_line = base_line * height + '+\\n'\n",
    "\treturn full_line \n",
    "\n",
    "def create_midlines(height):\n",
    "\tbase_line = '|' + (' ' * (height**2))\n",
    "\tfull_line = base_line * height + '|\\n'\n",
    "\treturn full_line\n",
    "\n",
    "def print_grid(height):\n",
    "\tprint(height*create_line(height), end='')\n",
    "\tprint(create_headline(height))\n",
    "    \n",
    "print_grid(2)\n",
    "print_grid(4)"
   ]
  },
  {
   "cell_type": "markdown",
   "metadata": {},
   "source": [
    "## A nice solution\n",
    "## But no comments!\n",
    "### Not clear why the boxes have different sizes, but other students did something similar\n",
    "## *Where is the box size defined?*"
   ]
  },
  {
   "cell_type": "markdown",
   "metadata": {},
   "source": [
    "## My Solution: To solve this problem\n",
    "### Write a function for one bit\n",
    "### Test the function\n",
    "### Fix it until it works\n",
    "### Repeat for the next portion"
   ]
  },
  {
   "cell_type": "code",
   "execution_count": null,
   "metadata": {},
   "outputs": [],
   "source": [
    "# Build an edge\n",
    "#\n",
    "# +---+---+---+---+\n",
    "def build_edge(num_cols: int) ->str:\n",
    "    \"Return a string like this +---+---+---+\"\n",
    "    \n",
    "    # unit is ----+\n",
    "    unit = '-' * 4 + '+'\n",
    "    \n",
    "    # result = + ---+ ---+ ---+ ---+ \n",
    "    result = '+' + num_cols * unit + \"\\n\"\n",
    "    return result"
   ]
  },
  {
   "cell_type": "code",
   "execution_count": null,
   "metadata": {},
   "outputs": [],
   "source": [
    "help(build_edge)"
   ]
  },
  {
   "cell_type": "code",
   "execution_count": null,
   "metadata": {},
   "outputs": [],
   "source": [
    "print(build_edge(2))"
   ]
  },
  {
   "cell_type": "code",
   "execution_count": null,
   "metadata": {},
   "outputs": [],
   "source": [
    "print(build_edge(4))"
   ]
  },
  {
   "cell_type": "code",
   "execution_count": null,
   "metadata": {},
   "outputs": [],
   "source": [
    "# Build a row\n",
    "#\n",
    "# |    |    |   |    |\n",
    "def build_row(num_cols: int) -> str:\n",
    "    \"Return a string like this |    |    |    |\"   \n",
    "    \n",
    "    # unit =      | \n",
    "    unit = ' ' * 4 + '|'\n",
    "    \n",
    "    # result = + ---+ ---+ ---+ ---+ \n",
    "    result = '|' + num_cols * unit + \"\\n\"\n",
    "    return result"
   ]
  },
  {
   "cell_type": "code",
   "execution_count": null,
   "metadata": {},
   "outputs": [],
   "source": [
    "help(build_row)"
   ]
  },
  {
   "cell_type": "code",
   "execution_count": null,
   "metadata": {},
   "outputs": [],
   "source": [
    "print(build_row(2))"
   ]
  },
  {
   "cell_type": "code",
   "execution_count": null,
   "metadata": {},
   "outputs": [],
   "source": [
    "print(build_edge(4))\n",
    "print(build_row(4))"
   ]
  },
  {
   "cell_type": "markdown",
   "metadata": {},
   "source": [
    "### Notice gap between edge and row"
   ]
  },
  {
   "cell_type": "code",
   "execution_count": null,
   "metadata": {},
   "outputs": [],
   "source": [
    "print(build_edge(4) + build_row(4))"
   ]
  },
  {
   "cell_type": "markdown",
   "metadata": {},
   "source": [
    "## Why test build_edge and build_row together?\n",
    "## We can tell if they match or not\n",
    "## Notice that build_row and build_edge have the same pattern\n",
    "### We could devise a single function that produces both\n",
    "## Paste together 4 rows and an edge"
   ]
  },
  {
   "cell_type": "code",
   "execution_count": null,
   "metadata": {},
   "outputs": [],
   "source": [
    "# Return\n",
    "# |   |   |   |   |\n",
    "# |   |   |   |   |\n",
    "# |   |   |   |   |\n",
    "# +---+---+---+---+\n",
    "def block(num_cols: int) -> str:\n",
    "    \"Return a string one block high\"\n",
    "    \n",
    "    # unit = |   |   |   |   |\n",
    "    unit = build_row(num_cols)\n",
    "    \n",
    "    # tail = +---+---+---+---+\n",
    "    tail = build_edge(num_cols)\n",
    "    \n",
    "    # Slap them together\n",
    "    result = 4*unit + tail\n",
    "    return result\n",
    "\n",
    "print(block(4))"
   ]
  },
  {
   "cell_type": "code",
   "execution_count": null,
   "metadata": {},
   "outputs": [],
   "source": [
    "print(block(2))"
   ]
  },
  {
   "cell_type": "markdown",
   "metadata": {},
   "source": [
    "### Almost done"
   ]
  },
  {
   "cell_type": "code",
   "execution_count": null,
   "metadata": {},
   "outputs": [],
   "source": [
    "# Use the components above to return a grid\n",
    "def grid(num_cols: int) -> str:\n",
    "    \"Return a string representing a square grid of size num_cols\"\n",
    "    head = build_edge(num_cols)\n",
    "    \n",
    "    unit = block(num_cols)\n",
    "    result = head + num_cols * unit\n",
    "    return result\n",
    "\n",
    "# I need to call print on the string that grid returns\n",
    "print(grid(2))\n",
    "print(grid(4))"
   ]
  },
  {
   "cell_type": "markdown",
   "metadata": {},
   "source": [
    "# Recap\n",
    "## What made this possible?\n",
    "## *Returning rather than printing allowed us to stitch the strings together*"
   ]
  },
  {
   "cell_type": "markdown",
   "metadata": {},
   "source": [
    "# Why use functions here?\n",
    "\n",
    "### Clearly a function is useful if we do something often\n",
    "### In this case, we only called each function once\n",
    "### We used multiplication to get the copies, not multiple calls\n",
    "### \n",
    "## Functions reduced the cognitive load\n",
    "### I only had to worry about one thing at a time\n",
    "### If beam() didn’t match spacer(), could fix them"
   ]
  },
  {
   "cell_type": "markdown",
   "metadata": {},
   "source": [
    "# Problems with this solution?\n",
    "## Magic numbers\n",
    "### 4 appears twice\n",
    "\n",
    "## https://en.wikipedia.org/wiki/Magic_number_(programming)\n",
    "\n",
    "## See \"Unnamed numerical constants\""
   ]
  },
  {
   "cell_type": "code",
   "execution_count": null,
   "metadata": {},
   "outputs": [],
   "source": [
    "# Build an edge\n",
    "#\n",
    "# +---+---+---+---+\n",
    "def build_edge(num_cols: int) ->str:\n",
    "    \"Return a string like this +---+---+---+\"\n",
    "    \n",
    "    # unit is ----+\n",
    "    unit = '-' * 4 + '+'                # <<<<<<<<<<<<<<<<<<<<<<<\n",
    "    \n",
    "    # result = + ---+ ---+ ---+ ---+ \n",
    "    result = '+' + num_cols * unit + \"\\n\"\n",
    "    return result"
   ]
  },
  {
   "cell_type": "markdown",
   "metadata": {},
   "source": [
    "## Fix: Replace the 4s with new constant 'edgeLength'\n",
    "### Convention is to put Contstants in ALL_CAPS\n",
    "### Some languages protect constants: Python does not\n",
    "#### Just another global variable"
   ]
  },
  {
   "cell_type": "code",
   "execution_count": null,
   "metadata": {},
   "outputs": [],
   "source": [
    "EDGE_LENGTH = 4                           # <<<<<<<<<<<<<<<<<<<<<<<\n",
    "\n",
    "# Build an edge\n",
    "#\n",
    "# +---+---+---+---+\n",
    "def build_edge(num_cols: int) ->str:\n",
    "    \"Return a string like this +---+---+---+\"\n",
    "    \n",
    "    # unit is ----+\n",
    "    unit = '-' * EDGE_LENGTH + '+'    # <<<<<<<<<<<<<<<<<<<<<<<\n",
    "    \n",
    "    # ..."
   ]
  },
  {
   "cell_type": "markdown",
   "metadata": {},
   "source": [
    "# Platform"
   ]
  },
  {
   "cell_type": "code",
   "execution_count": null,
   "metadata": {},
   "outputs": [],
   "source": [
    "import platform\n",
    "\n",
    "print(platform.system())"
   ]
  },
  {
   "cell_type": "markdown",
   "metadata": {},
   "source": [
    "### What does Ed run on?"
   ]
  },
  {
   "cell_type": "markdown",
   "metadata": {},
   "source": [
    "# Turtle Graphics"
   ]
  },
  {
   "cell_type": "code",
   "execution_count": null,
   "metadata": {},
   "outputs": [],
   "source": [
    "import turtle\n",
    "\n",
    "bob = turtle.Turtle()    # Create a turtle Object\n",
    "print(bob)\n",
    "\n",
    "bob.fd(100)              # fd() - Move forward\n",
    "bob.lt(90)               # lt() - Left Turn 90 degrees\n",
    "bob.fd(100)"
   ]
  },
  {
   "cell_type": "markdown",
   "metadata": {},
   "source": [
    "# Stop the SBOD - \n",
    "## https://www.urbandictionary.com/define.php?term=SBOD"
   ]
  },
  {
   "cell_type": "code",
   "execution_count": null,
   "metadata": {},
   "outputs": [],
   "source": [
    "import turtle\n",
    "\n",
    "bob = turtle.Turtle()    # Create a turtle Object\n",
    "print(bob)\n",
    "\n",
    "bob.fd(100)              # fd() - Move forward\n",
    "bob.lt(90)               # lt() - Left Turn 90 degrees\n",
    "bob.fd(100)\n",
    "\n",
    "turtle.mainloop()        # Stop SBOD\n",
    "exit()"
   ]
  },
  {
   "cell_type": "code",
   "execution_count": null,
   "metadata": {},
   "outputs": [],
   "source": [
    "import turtle\n",
    "\n",
    "bob = turtle.Turtle()    # Create a turtle Object\n",
    "\n",
    "for i in range(4):       # for i in [0, 1, 2, 3]\n",
    "    bob.fd(100)          # fd() - Move forward\n",
    "    bob.lt(90)           # lt() - Left Turn 90 degrees\n",
    "\n",
    "turtle.mainloop()        # Stop SBOD\n",
    "exit()"
   ]
  },
  {
   "cell_type": "markdown",
   "metadata": {},
   "source": [
    "# For loop\n",
    "## When you're having more than one"
   ]
  },
  {
   "cell_type": "code",
   "execution_count": null,
   "metadata": {},
   "outputs": [],
   "source": [
    "for i in range(4): \n",
    "    print(i)"
   ]
  },
  {
   "cell_type": "markdown",
   "metadata": {},
   "source": [
    "## Components\n",
    "- for - Keyword\n",
    "- i - Loop variable\n",
    "- range(4) - yields 0, 1, 2, 3\n",
    "- : - start of block\n",
    "- print(i) - Block to repeat"
   ]
  },
  {
   "cell_type": "markdown",
   "metadata": {},
   "source": [
    "## Bart's helper"
   ]
  },
  {
   "cell_type": "code",
   "execution_count": null,
   "metadata": {},
   "outputs": [],
   "source": [
    "for i in range(100):\n",
    "    print(\"I will not print inside a function\")"
   ]
  },
  {
   "cell_type": "markdown",
   "metadata": {},
   "source": [
    "# Can we iterate over a string?"
   ]
  },
  {
   "cell_type": "code",
   "execution_count": null,
   "metadata": {},
   "outputs": [],
   "source": [
    "s = 'frog'\n",
    "\n",
    "for i in range(len(s)):\n",
    "    print(s[i])"
   ]
  },
  {
   "cell_type": "markdown",
   "metadata": {},
   "source": [
    "# But this is more Pythonic\n",
    "### Better because it is simpler"
   ]
  },
  {
   "cell_type": "code",
   "execution_count": null,
   "metadata": {},
   "outputs": [],
   "source": [
    "s = 'frog'\n",
    "\n",
    "for ch in s:       # More Pythonic loop\n",
    "    print(ch)"
   ]
  },
  {
   "cell_type": "markdown",
   "metadata": {},
   "source": [
    "## Loop variable ch takes on each character in turn\n",
    "### We don't need len(), range(), and indexing\n",
    "### We can loop over many Python data structures this way"
   ]
  },
  {
   "cell_type": "markdown",
   "metadata": {},
   "source": [
    "# Iterate over a slice"
   ]
  },
  {
   "cell_type": "code",
   "execution_count": null,
   "metadata": {},
   "outputs": [],
   "source": [
    "s = \"small red dog\"\n",
    "\n",
    "for ch in s[6:9]:\n",
    "    print(ch)"
   ]
  },
  {
   "cell_type": "code",
   "execution_count": null,
   "metadata": {},
   "outputs": [],
   "source": [
    "s = \"small\"\n",
    "\n",
    "for ch in s[::2]:\n",
    "    print(ch)"
   ]
  },
  {
   "cell_type": "code",
   "execution_count": null,
   "metadata": {},
   "outputs": [],
   "source": [
    "s = \"small\"\n",
    "\n",
    "for ch in s[::-2]:\n",
    "    print(ch)"
   ]
  },
  {
   "cell_type": "markdown",
   "metadata": {},
   "source": [
    "# Can we iterate over a list?"
   ]
  },
  {
   "cell_type": "code",
   "execution_count": null,
   "metadata": {},
   "outputs": [],
   "source": [
    "for i in [3, 10, 5, 16, 8, 4, 2, 1]:\n",
    "    print(i)"
   ]
  },
  {
   "cell_type": "code",
   "execution_count": null,
   "metadata": {},
   "outputs": [],
   "source": [
    "lst = [\"one\", \"two\", \"three\"]\n",
    "\n",
    "for word in lst:\n",
    "    print(word)"
   ]
  },
  {
   "cell_type": "markdown",
   "metadata": {},
   "source": [
    "### Python can iterate over many different things"
   ]
  },
  {
   "cell_type": "markdown",
   "metadata": {},
   "source": [
    "## Slice of a list: familiar syntax"
   ]
  },
  {
   "cell_type": "code",
   "execution_count": null,
   "metadata": {},
   "outputs": [],
   "source": [
    "lst = [\"one\", \"two\", \"three\"]\n",
    "\n",
    "for word in lst[1:]:\n",
    "    print(word)"
   ]
  },
  {
   "cell_type": "code",
   "execution_count": null,
   "metadata": {},
   "outputs": [],
   "source": [
    "lst = [\"one\", \"two\", \"three\"]\n",
    "\n",
    "for word in lst[2:]:\n",
    "    print(word)"
   ]
  },
  {
   "cell_type": "markdown",
   "metadata": {},
   "source": [
    "# Return to task: For loops with a Turtle"
   ]
  },
  {
   "cell_type": "code",
   "execution_count": null,
   "metadata": {},
   "outputs": [],
   "source": [
    "import turtle\n",
    "\n",
    "bob = turtle.Turtle()\n",
    "\n",
    "for i in range(45): \n",
    "    bob.fd(100)\n",
    "    bob.lt(88)\n",
    "    \n",
    "turtle.mainloop() \n",
    "exit()"
   ]
  },
  {
   "cell_type": "markdown",
   "metadata": {},
   "source": [
    "# Let's write a function for drawing with Turtle"
   ]
  },
  {
   "cell_type": "code",
   "execution_count": null,
   "metadata": {},
   "outputs": [],
   "source": [
    "import turtle\n",
    "\n",
    "def square():\n",
    "    \"\"\"Use the Turtle to draw a Square\"\"\"\n",
    "    for i in range(4): \n",
    "        bob.fd(100)\n",
    "        bob.lt(90)\n",
    "\n",
    "bob = turtle.Turtle()\n",
    "\n",
    "square()\n",
    "turtle.mainloop() \n",
    "exit()"
   ]
  },
  {
   "cell_type": "markdown",
   "metadata": {},
   "source": [
    "## We should call square() twice..."
   ]
  },
  {
   "cell_type": "code",
   "execution_count": null,
   "metadata": {},
   "outputs": [],
   "source": [
    "square()\n",
    "bob.fd(200)\n",
    "square()\n",
    "\n",
    "turtle.mainloop() \n",
    "exit()"
   ]
  },
  {
   "cell_type": "markdown",
   "metadata": {},
   "source": [
    "# What parameters should square take?"
   ]
  },
  {
   "cell_type": "code",
   "execution_count": null,
   "metadata": {},
   "outputs": [],
   "source": [
    "def square():\n",
    "    for i in range(4): \n",
    "        bob.fd(100)\n",
    "        bob.lt(90)"
   ]
  },
  {
   "cell_type": "markdown",
   "metadata": {},
   "source": [
    "# Add Parameter for Size?"
   ]
  },
  {
   "cell_type": "code",
   "execution_count": null,
   "metadata": {},
   "outputs": [],
   "source": [
    "import turtle\n",
    "\n",
    "def square(edge: int):        # Parameter list\n",
    "    \"\"\"Use the Turtle to draw a Square of size edge\"\"\"   \n",
    "    for i in range(4): \n",
    "        bob.fd(edge)\n",
    "        bob.lt(90)\n",
    "       \n",
    "    \n",
    "bob = turtle.Turtle()\n",
    "\n",
    "square(100)              # Argument is 100\n",
    "bob.fd(200)\n",
    "square(50)               # Argument is  50\n",
    "\n",
    "turtle.mainloop() \n",
    "exit()"
   ]
  },
  {
   "cell_type": "markdown",
   "metadata": {},
   "source": [
    "# Add Parameter for Turtle and Size?"
   ]
  },
  {
   "cell_type": "code",
   "execution_count": null,
   "metadata": {},
   "outputs": [],
   "source": [
    "import turtle\n",
    "\n",
    "def square(t, edge):        # Parameter list\n",
    "    \"\"\"Use the Turtle t to draw a Square of size edge\"\"\"   \n",
    "    for i in range(4): \n",
    "        t.fd(edge)\n",
    "        t.lt(90)\n",
    "       \n",
    "    \n",
    "bob = turtle.Turtle()\n",
    "\n",
    "square(bob, 100)              # Arguments are bob and 100\n",
    "bob.fd(200)\n",
    "square(bob, 50)               # Arguments are bob and  50\n",
    "\n",
    "turtle.mainloop() \n",
    "exit()"
   ]
  },
  {
   "cell_type": "markdown",
   "metadata": {},
   "source": [
    "# Polygon: takes turtle, number of edges, and edge length"
   ]
  },
  {
   "cell_type": "code",
   "execution_count": null,
   "metadata": {},
   "outputs": [],
   "source": [
    "import turtle\n",
    "\n",
    "def polygon(t, n, edge):\n",
    "    \"\"\"Use the Turtle t to draw a polygon with n sides of size edge\"\"\"   \n",
    "    angle = 360 / n\n",
    "    for i in range(n):\n",
    "        t.fd(edge)\n",
    "        t.lt(angle)\n",
    "        \n",
    "        \n",
    "bob = turtle.Turtle()\n",
    "\n",
    "polygon(bob, 5, 100)              # Arguments are bob, 5, and 100\n",
    "bob.fd(200)\n",
    "polygon(bob, 7, 50)               # Arguments are bob, 7, and  50\n",
    "\n",
    "turtle.mainloop() \n",
    "exit()"
   ]
  },
  {
   "cell_type": "markdown",
   "metadata": {},
   "source": [
    "# What else does Turtle Library provide?"
   ]
  },
  {
   "cell_type": "code",
   "execution_count": null,
   "metadata": {},
   "outputs": [],
   "source": [
    "import turtle\n",
    "\n",
    "dir(turtle)"
   ]
  },
  {
   "cell_type": "markdown",
   "metadata": {},
   "source": [
    "## Methods we know, such as fd() and lt()\n",
    "## Other methods we might want to investigate\n",
    "## Note the 'Dunder' or 'Double Under' methods\n",
    "## (underbar underbar name underbar underbar) methods"
   ]
  },
  {
   "cell_type": "markdown",
   "metadata": {},
   "source": [
    "# What can you hope to learn in this class?\n",
    "## If you don’t know how to program\n",
    "## What can you learn in this class?\n",
    "### Syntax of Python\n",
    "### Semantics of Python\n",
    "### How to express yourself in any language\n",
    "### How to pick good test cases\n",
    "### How to find your own darn bugs"
   ]
  },
  {
   "cell_type": "markdown",
   "metadata": {},
   "source": [
    "# Tips on solving Homework (reprise)\n",
    "## Don't wait until the last minute\n",
    "### These problems will require thought\n",
    "## Take them bit by bit"
   ]
  },
  {
   "cell_type": "code",
   "execution_count": null,
   "metadata": {},
   "outputs": [],
   "source": []
  },
  {
   "cell_type": "markdown",
   "metadata": {},
   "source": [
    "## We assume you are here to learn to program\n",
    "## We have tried to pick problems: \n",
    "### That are simple enough to do\n",
    "### That address common problems\n",
    "## Many of these problems are classic\n",
    "### *Googling a solution will not teach you how to solve problems yourself*"
   ]
  },
  {
   "cell_type": "markdown",
   "metadata": {},
   "source": [
    "# Reflection\n",
    "\n",
    "## Go to this page: http://www.fractalcurves.com  \n",
    "\n",
    "Scroll down to the \"Videos about Fractal Curves\" section at the bottom of the page.  Some of these videos are quite long: others are pretty short.  Some of them are 404.  \n",
    "\n",
    "Watch one or more of these and tell me a bit about what you saw.  "
   ]
  },
  {
   "cell_type": "markdown",
   "metadata": {},
   "source": [
    "# Wow!  That's Fantastic!\n",
    "## Byte code disassembly"
   ]
  },
  {
   "cell_type": "code",
   "execution_count": null,
   "metadata": {},
   "outputs": [],
   "source": [
    "# https://docs.python.org/3.7/library/dis.html\n",
    "\n",
    "import dis\n",
    "\n",
    "def greet(name:str) -> str:\n",
    "    return \"Hello,\" + name\n",
    "\n",
    "# Disassemble the function greet\n",
    "dis.dis(greet)"
   ]
  },
  {
   "cell_type": "code",
   "execution_count": null,
   "metadata": {},
   "outputs": [],
   "source": [
    "import dis\n",
    "\n",
    "def greet(name:str) -> str:\n",
    "    print(\"Hello,\" + name)\n",
    "\n",
    "# Disassemble the function greet\n",
    "dis.dis(greet)"
   ]
  }
 ],
 "metadata": {
  "kernelspec": {
   "display_name": "Python 3",
   "language": "python",
   "name": "python3"
  },
  "language_info": {
   "codemirror_mode": {
    "name": "ipython",
    "version": 3
   },
   "file_extension": ".py",
   "mimetype": "text/x-python",
   "name": "python",
   "nbconvert_exporter": "python",
   "pygments_lexer": "ipython3",
   "version": "3.7.3"
  }
 },
 "nbformat": 4,
 "nbformat_minor": 2
}
