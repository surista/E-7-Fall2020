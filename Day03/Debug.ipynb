{
 "cells": [
  {
   "cell_type": "markdown",
   "metadata": {},
   "source": [
    "# Debugging programs"
   ]
  },
  {
   "cell_type": "markdown",
   "metadata": {},
   "source": [
    "## Problem: flakey Binary Search\n",
    "#### https://yongdanielliang.github.io/animation/web/BinarySearchNew.html"
   ]
  },
  {
   "cell_type": "markdown",
   "metadata": {},
   "source": [
    "## Here is a buggy version of Binary Search"
   ]
  },
  {
   "cell_type": "code",
   "execution_count": null,
   "metadata": {},
   "outputs": [],
   "source": [
    "def binary_search(list_of_numbers: list, number: int) -> int:\n",
    "    \"\"\"Return position of number in list_of_numbers\"\"\"\n",
    "\n",
    "    # Set boundaries\n",
    "    low = 0 \n",
    "    high = len(list_of_numbers) - 1\n",
    "\n",
    "    # Check subarray\n",
    "    while (low <= high):\n",
    "        mid = (low + high) // 2\n",
    "        if number == list_of_numbers[mid]:\n",
    "            return mid\n",
    "        elif number < list_of_numbers[mid]:\n",
    "            high = mid\n",
    "        else:\n",
    "            low = mid + 1\n",
    "\n",
    "    # Not found\n",
    "    return -1"
   ]
  },
  {
   "cell_type": "markdown",
   "metadata": {},
   "source": [
    "## Test on a short array"
   ]
  },
  {
   "cell_type": "code",
   "execution_count": null,
   "metadata": {},
   "outputs": [],
   "source": [
    "print(binary_search([6], 6))"
   ]
  },
  {
   "cell_type": "markdown",
   "metadata": {},
   "source": [
    "## *That is, we found the 6 in position 0 of the list*"
   ]
  },
  {
   "cell_type": "markdown",
   "metadata": {},
   "source": [
    "## Pull togther a series of tests"
   ]
  },
  {
   "cell_type": "code",
   "execution_count": null,
   "metadata": {},
   "outputs": [],
   "source": [
    "print(binary_search([6], 6))\n",
    "\n",
    "print(binary_search([1, 3, 4, 6, 8, 9, 11], 6))\n",
    "\n",
    "print(binary_search([1, 3, 4, 6, 8, 9, 11], 1))\n",
    "\n",
    "print(binary_search([1, 3, 4, 6, 8, 9, 11], 11))\n",
    "\n",
    "print(binary_search([1, 3, 5, 8, 13, 21, 34, 55, 89, 144, 233, 377, 634],\n",
    "                          144))\n",
    "\n",
    "print(binary_search([1, 3, 5, 8, 13, 21, 34, 55, 89, 144, 233, 377], 21))"
   ]
  },
  {
   "cell_type": "markdown",
   "metadata": {},
   "source": [
    "## These tested something - is it working?\n",
    "## I need to check the results against a list\n",
    "## It is simpler to automate using assertions "
   ]
  },
  {
   "cell_type": "code",
   "execution_count": null,
   "metadata": {},
   "outputs": [],
   "source": [
    "# I expect to find 6 in position 3 of the list [1, 3, 4, 6...]\n",
    "\n",
    "assert(binary_search([1, 3, 4, 6, 8, 9, 11], 6) == 3)"
   ]
  },
  {
   "cell_type": "code",
   "execution_count": null,
   "metadata": {},
   "outputs": [],
   "source": [
    "assert(binary_search([6], 6) == 0)\n",
    "\n",
    "assert(binary_search([1, 3, 4, 6, 8, 9, 11], 6) == 3)\n",
    "\n",
    "assert(binary_search([1, 3, 4, 6, 8, 9, 11], 1) == 0)\n",
    "\n",
    "assert(binary_search([1, 3, 4, 6, 8, 9, 11], 11) == 6)\n",
    "\n",
    "assert(binary_search([1, 3, 5, 8, 13, 21, 34, 55, 89, 144, 233, 377, 634],\n",
    "                          144) == 9)\n",
    "\n",
    "assert(binary_search([1, 3, 5, 8, 13, 21, 34, 55, 89, 144, 233, 377], 21) ==\n",
    "            5)\n",
    "\n",
    "print('Done!')"
   ]
  },
  {
   "cell_type": "markdown",
   "metadata": {},
   "source": [
    "## Add a test for a missing element"
   ]
  },
  {
   "cell_type": "code",
   "execution_count": null,
   "metadata": {},
   "outputs": [],
   "source": [
    "print(binary_search([1, 3, 4, 6, 8, 9, 11], 7))\n",
    "assert(binary_search([1, 3, 4, 6, 8, 9, 11], 7) == -1)\n",
    "\n",
    "print('Done!')"
   ]
  },
  {
   "cell_type": "markdown",
   "metadata": {},
   "source": [
    "## The * in [ * ] says Python is still running\n",
    "## Stop the kernel \n",
    "## Traceback here is not very helpful\n",
    "## Try another"
   ]
  },
  {
   "cell_type": "code",
   "execution_count": null,
   "metadata": {},
   "outputs": [],
   "source": [
    "print(binary_search([1, 3, 4, 6, 8, 9, 11], 0))\n",
    "assert(binary_search([1, 3, 4, 6, 8, 9, 11], 0) == -1)\n",
    "\n",
    "print('Done!')"
   ]
  },
  {
   "cell_type": "markdown",
   "metadata": {},
   "source": [
    "## What is going on?  \n",
    "### We need to debug the problem\n",
    "### What is the level of exception reporting in the notebook?\n",
    "### Choices are Plain, Context, or Verbose"
   ]
  },
  {
   "cell_type": "code",
   "execution_count": null,
   "metadata": {},
   "outputs": [],
   "source": [
    "%xmode    "
   ]
  },
  {
   "cell_type": "markdown",
   "metadata": {},
   "source": [
    "## Mine is already verbose, but if yours isn't, set it to verbose"
   ]
  },
  {
   "cell_type": "code",
   "execution_count": null,
   "metadata": {},
   "outputs": [],
   "source": [
    "%xmode Verbose"
   ]
  },
  {
   "cell_type": "markdown",
   "metadata": {},
   "source": [
    "## To Debug, we can use print statements or the symbolic debugger"
   ]
  },
  {
   "cell_type": "markdown",
   "metadata": {},
   "source": [
    "## We 'instrument' the function\n",
    "### That is, we Print some information\n",
    "### *Key is printing just enough information*\n",
    "### Enough to show the problem\n",
    "### Not enough to obscure things"
   ]
  },
  {
   "cell_type": "code",
   "execution_count": null,
   "metadata": {},
   "outputs": [],
   "source": [
    "def binary_search(list_of_numbers: list, number: int) -> int:\n",
    "    \"\"\"Return position of number in list_of_numbers\"\"\"\n",
    "\n",
    "    print(\"\\nBinary Search\", list_of_numbers, number)    # <<<<<<<<<<<<<<\n",
    "\n",
    "    # Set boundaries\n",
    "    low, high = 0, len(list_of_numbers) - 1\n",
    "\n",
    "    # Check subarray\n",
    "    while (low <= high):\n",
    "        print(\"\\tLow, High\", low, high)                  # <<<<<<<<<<<<<<\n",
    "        mid = (low + high) // 2\n",
    "        if number == list_of_numbers[mid]:\n",
    "            return mid\n",
    "        elif number < list_of_numbers[mid]:\n",
    "            high = mid\n",
    "        else:\n",
    "            low = mid + 1\n",
    "\n",
    "    # Not found\n",
    "    return -1"
   ]
  },
  {
   "cell_type": "markdown",
   "metadata": {},
   "source": [
    "## Use the test case we know causes bug to happen"
   ]
  },
  {
   "cell_type": "code",
   "execution_count": null,
   "metadata": {},
   "outputs": [],
   "source": [
    "binary_search([1, 3, 4, 6, 8, 9, 11], 7)"
   ]
  },
  {
   "cell_type": "markdown",
   "metadata": {},
   "source": [
    "## Interpret the evidence - what is happening?\n",
    "## Cannot fix the problem until we understand it"
   ]
  }
 ],
 "metadata": {
  "kernelspec": {
   "display_name": "Python 3",
   "language": "python",
   "name": "python3"
  },
  "language_info": {
   "codemirror_mode": {
    "name": "ipython",
    "version": 3
   },
   "file_extension": ".py",
   "mimetype": "text/x-python",
   "name": "python",
   "nbconvert_exporter": "python",
   "pygments_lexer": "ipython3",
   "version": "3.7.3"
  }
 },
 "nbformat": 4,
 "nbformat_minor": 2
}
