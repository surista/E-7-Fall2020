{
 "cells": [
  {
   "cell_type": "markdown",
   "metadata": {},
   "source": [
    "# Homework 11\n",
    "## Due Nov 16th, 2020\n",
    "\n",
    "## Fill in your name"
   ]
  },
  {
   "cell_type": "code",
   "execution_count": 1,
   "metadata": {},
   "outputs": [],
   "source": [
    "first_name = \"Scott\"\n",
    "last_name = \"Urista\"\n",
    "\n",
    "assert(len(first_name) != 0)\n",
    "assert(len(last_name)  != 0)"
   ]
  },
  {
   "cell_type": "markdown",
   "metadata": {},
   "source": [
    "## 1) Sudoku\n",
    "\n",
    "In a Sudoku puzzle, the player tries to fill a square with a \n",
    "number from 1 to 9.  The number must not already appear in the same row,\n",
    "column, or 3x3 square.\n",
    "\n",
    "You are given 3 lists, holding the values already seen in a\n",
    "row, column, and square.  Produce a list of the legal remaining\n",
    "values.  \n",
    "\n",
    "Your solution should use one or more List Comprehensions for full credit."
   ]
  },
  {
   "cell_type": "code",
   "execution_count": 2,
   "metadata": {},
   "outputs": [],
   "source": [
    "def legal_values(row, col, square):\n",
    "    full_moves=[1,2,3,4,5,6,7,8,9]\n",
    "    full_list = row + col + square\n",
    "    return [item for item in full_moves if item not in full_list]"
   ]
  },
  {
   "cell_type": "markdown",
   "metadata": {},
   "source": [
    "## Unit tests for Sudoku"
   ]
  },
  {
   "cell_type": "code",
   "execution_count": 3,
   "metadata": {},
   "outputs": [
    {
     "name": "stdout",
     "output_type": "stream",
     "text": [
      "Pass!\n"
     ]
    }
   ],
   "source": [
    "def test_sudoku():\n",
    "    assert(legal_values([1], [4], [7]) == [2, 3, 5, 6, 8, 9])\n",
    "    assert(legal_values([1, 2, 3], [4, 5, 6], [7, 8, 9]) == [])\n",
    "    assert(legal_values([1, 2, 3], [1, 2, 3], [7, 8, 9]) == [4, 5, 6])\n",
    "    assert(legal_values([1, 3, 5], [1, 4, 8], [7, 8, 9]) == [2, 6])\n",
    "    assert(legal_values([1, 3, 5, 7, 9], [2, 4, 6, 8], [7, 9]) == [])\n",
    "    assert(legal_values([1, 5, 7, 9], [2, 4, 8], [7, 9]) == [3, 6])\n",
    "    print('Pass!')\n",
    "    \n",
    "test_sudoku()"
   ]
  },
  {
   "cell_type": "markdown",
   "metadata": {},
   "source": [
    "## 2) Graph Global Mile records\n",
    "\n",
    "Take a look at the data here: you can harvest it from the web, or use a CSV file we'll provide.  \n",
    "\n",
    "https://github.com/KarenWest/FundamentalsOfDataAnalysisInLanguageR/blob/master/WorldRecords.csv\n",
    "\n",
    "We haven't discussed many of the points below: you will need to explore the documentation on your own. \n",
    "\n",
    "https://matplotlib.org/3.2.1/contents.html\n",
    "    \n",
    "The CSV file has many records. \n",
    "Plot the world records for the mile.  Let X be the year and Y be the time in seconds.  \n",
    "\n",
    "Map the Mens and Womens records on the same graph in different colors.\n",
    "\n",
    "Since records for men and women were set in different years, you won't be able to use plot().  Use a scatter plot instead.\n",
    "\n",
    "Make sure your X and Y values are numbers, rather than the strings in the table.  \n",
    "Include labels for the X and Y axis, and a legend telling us what the colors mean.\n",
    "\n",
    "Include a horizontal line at y = 240: the 4 minute barrier has been a touchstone and a benchmark for years.    \n",
    "\n",
    "You will want the Y axis to include 0 so that we can judge the times relative to the time it takes to run a mile, but you don't want to include the origin: you don't want to go back to 0 AD.  We don't have good records until the 20th century.  \n",
    "\n",
    "### Hint: here are some matplotlib calls to investigate\n",
    "\n",
    "```python\n",
    "    plt.scatter()     # Be sure to investigate the optional parameters\n",
    "    plt.legend()\n",
    "    plt.xlabel()\n",
    "    plt.ylabel()\n",
    "    plt.ylim()\n",
    "```"
   ]
  },
  {
   "cell_type": "code",
   "execution_count": null,
   "metadata": {},
   "outputs": [],
   "source": []
  },
  {
   "cell_type": "markdown",
   "metadata": {},
   "source": [
    "## 3) People\n",
    "\n",
    "We define a class Person which describes a citizen with a name.\n",
    "Students and Employees are subclasses of Persons.\n",
    "\n",
    "You will need to redefine, or override, methods for the subclasses to make the tests below pass.\n",
    "\n",
    "We have made a start defining a Student, but have done nothing for Employee.  Read the Unit Tests to see what you will need to add or change.  "
   ]
  },
  {
   "cell_type": "code",
   "execution_count": null,
   "metadata": {},
   "outputs": [],
   "source": [
    "\n",
    "class Person:\n",
    "\n",
    "    def __init__(self, first, last):\n",
    "        self.firstname = first\n",
    "        self.lastname = last\n",
    "\n",
    "    def __str__(self):\n",
    "        return self.firstname + \" \" + self.lastname\n",
    "\n",
    "    def __eq__(self, other):\n",
    "        return (self.firstname == other.firstname) \\\n",
    "            and (self.lastname == other.lastname)\n",
    "\n",
    "    def is_employed(self):\n",
    "        return False\n",
    "\n",
    "\n",
    "class Student(Person):\n",
    "    \"Person who is a student\"\n",
    "\n",
    "    def __init__(self, first, last, school, id):\n",
    "        # Call Superclass to set common information\n",
    "        super().__init__(first, last)\n",
    "        self.school = school\n",
    "        self.id = id\n",
    "\n",
    "    def __str__(self):\n",
    "        # Call Superclass to dispaly common information\n",
    "        return super().__str__() + \", \" + str(self.id) + ' at ' + self.school\n",
    "\n",
    "    def __eq__(self, other):\n",
    "        return super().__eq__(other) and (self.id == other.id) and (self.school == other.school)\n",
    "\n",
    "class Employee(Person):\n",
    "    \"Person who is employed\"\n",
    "    def __init__(self, first, last, company, id):\n",
    "        pass"
   ]
  },
  {
   "cell_type": "markdown",
   "metadata": {},
   "source": [
    "## Unit Tests for Person"
   ]
  },
  {
   "cell_type": "code",
   "execution_count": null,
   "metadata": {},
   "outputs": [],
   "source": [
    "def test_person():\n",
    "    \n",
    "    # People\n",
    "    man1 = Person(\"Homer\", \"Simpson\")\n",
    "    man2 = Person(\"homer\", \"simpson\")\n",
    "    assert man1 == man2\n",
    "    assert not man1.is_employed()\n",
    "    assert man1.__str__() == 'Homer Simpson'\n",
    "    assert man2.__str__() == 'Homer Simpson'\n",
    "    \n",
    "    # Students\n",
    "    woman1 = Student(\"Marge\", \"Simpson\", 'Simmons', 107)\n",
    "    woman2 = Student(\"Marge\", \"Simpson\", 'Wheelock', 153)\n",
    "    assert woman1.__str__() == \"Marge Simpson, 107 at Simmons\"\n",
    "    assert woman2.__str__() == \"Marge Simpson, 153 at Wheelock\"\n",
    "    assert not woman1 == woman2\n",
    "\n",
    "    # Employees\n",
    "    moe1 = Employee(\"Moe\", \"Szyslak\", 'Tavern', 153)\n",
    "    assert moe1.__str__() == \"Moe Szyslak, 153 at Tavern\"\n",
    "    assert not moe1 == woman2\n",
    "\n",
    "    moe = Employee(\"Moe\", \"Szyslak\", 'Tavern', 153)\n",
    "    assert moe.__str__() == \"Moe Szyslak, 153 at Tavern\"\n",
    "    assert not moe == woman2\n",
    "\n",
    "    waylon = Employee(\"Waylon\", \"Smithers\", \"Springfield Power\", 2)\n",
    "    assert not moe == waylon\n",
    "   \n",
    "    # Cross Check\n",
    "    moe2 = Student(\"Moe\", \"Szyslak\", 'BC', 153)\n",
    "    assert moe2.__str__() == \"Moe Szyslak, 153 at BC\"\n",
    "    assert not moe == moe2\n",
    "    assert not moe2 == moe\n",
    "\n",
    "    print(\"Pass\")\n",
    "    \n",
    "test_person()"
   ]
  },
  {
   "cell_type": "markdown",
   "metadata": {},
   "source": [
    "## 4) Anagram\n",
    "\n",
    "Each word in words.txt belongs to a set of words that are anagrams. Some sets have a single elment - no word is an anagram for 'aa'. Some words have a single anagram (veins and vines). Some words have many anagrams. We are looking for the largest set of anagrams.  Take a filename and return a list of the sets of anagrams, sorted by size.  The unit tests look for the largest sets.    \n",
    "\n",
    "Your function should return a list of tuples: each tuple holds the length of the set, and then a list of members, such as\n",
    "\n",
    "```python\n",
    "[ (3,['anergias','angaries','arginase']), (3,['amain','amnia','anima']), (3,['alien','aline','anile']) ...]\n",
    "```\n",
    "\n",
    "For the file shorterwords.txt, which holds 5K words, these are the three largest sets of anagrams.    \n",
    "\n",
    "There are two challenges to this problem: finding the right answer, and finding the right answer quickly.  We will give extra credit if you can find the sets for words.txt in under 2 seconds.  It takes my solution a fraction of a second on an 8 year old laptop.  \n",
    "\n",
    "\n",
    "We provide Unit Tests to call your function three times: once to examine a file 5K items shorter.txt, once for 10K items, short.txt, and once to examine the full list, words.txt. You only need to define find_anagrams once, in the first cell. \n",
    "\n",
    "```python\n",
    "from typing import List\n",
    "\n",
    "def find_anagrams(path: str) -> List:\n",
    "    \"Find the largest set of anagrams, return as sorted list\"\n",
    "    pass\n",
    "```\n",
    "\n",
    "### *A dictionary would help: but what mapping should it represent?*\n",
    "\n",
    "## Your solution"
   ]
  },
  {
   "cell_type": "code",
   "execution_count": null,
   "metadata": {},
   "outputs": [],
   "source": [
    "from typing import List\n",
    "\n",
    "def find_anagrams(path: str) -> List:\n",
    "    \"Find the largest sets of anagrams.  Return a list of all sets, sorted by size\"\n",
    "    pass"
   ]
  },
  {
   "cell_type": "markdown",
   "metadata": {},
   "source": [
    "## Search the file of 5K words\n",
    "\n",
    "```python\n",
    "    lst = find_anagrams('shorter.txt')\n",
    "    for anagrams in lst[:3]:\n",
    "        print(anagrams)\n",
    "```\n",
    "Should yield, in some order\n",
    "\n",
    "```python\n",
    "CPU times: user 2 µs, sys: 0 ns, total: 2 µs\n",
    "Wall time: 4.05 µs\n",
    "(3, ['anergias', 'angaries', 'arginase'])\n",
    "(3, ['amain', 'amnia', 'anima'])\n",
    "(3, ['alien', 'aline', 'anile'])\n",
    "```"
   ]
  },
  {
   "cell_type": "code",
   "execution_count": null,
   "metadata": {},
   "outputs": [],
   "source": [
    "%time\n",
    "lst = find_anagrams('shorter.txt')\n",
    "for anagrams in lst[:3]:\n",
    "    print(anagrams)"
   ]
  },
  {
   "cell_type": "markdown",
   "metadata": {},
   "source": [
    "## Unit test on set of 10K Words\n",
    "\n",
    "You will need a copy of the 10K word file, short.txt.\n",
    "\n",
    "The test below should show the 6 largest sets of anagrams\n",
    "\n",
    "The first line of my output is\n",
    "\n",
    "```python\n",
    "CPU times: user 2 µs, sys: 1e+03 ns, total: 3 µs\n",
    "Wall time: 5.01 µs\n",
    "(6, ['abets', 'baste', 'bates', 'beast', 'beats', 'betas'])\n",
    "...\n",
    "```"
   ]
  },
  {
   "cell_type": "code",
   "execution_count": null,
   "metadata": {},
   "outputs": [],
   "source": [
    "%time\n",
    "lst = find_anagrams('short.txt')\n",
    "for anagrams in lst[:6]:\n",
    "    print(anagrams)"
   ]
  },
  {
   "cell_type": "markdown",
   "metadata": {},
   "source": [
    "## Extra credit: find the top 5 sets in words.txt in less than 2 seconds\n",
    "\n",
    "You will need to process words.txt, the file of 114K words.\n",
    "\n",
    "The call '%time' will report how long your run took.  \n",
    "\n",
    "My output starts like this:\n",
    "\n",
    "```pytho\n",
    "CPU times: user 2 µs, sys: 1e+03 ns, total: 3 µs\n",
    "Wall time: 4.77 µs\n",
    "(11, [...\n",
    "(11, [...\n",
    "(10, [...\n",
    "```"
   ]
  },
  {
   "cell_type": "code",
   "execution_count": null,
   "metadata": {},
   "outputs": [],
   "source": [
    "%time\n",
    "lst = find_anagrams('words.txt')\n",
    "for anagrams in lst[:5]:\n",
    "    print(anagrams)"
   ]
  },
  {
   "cell_type": "markdown",
   "metadata": {},
   "source": [
    "## Post Mortem\n",
    "\n",
    "How long did it take you to solve this problem set?\n",
    "\n",
    "Did anything confuse you or cause difficulty?"
   ]
  },
  {
   "cell_type": "code",
   "execution_count": null,
   "metadata": {},
   "outputs": [],
   "source": [
    "# Your thoughts\n"
   ]
  }
 ],
 "metadata": {
  "kernelspec": {
   "display_name": "Python 3",
   "language": "python",
   "name": "python3"
  },
  "language_info": {
   "codemirror_mode": {
    "name": "ipython",
    "version": 3
   },
   "file_extension": ".py",
   "mimetype": "text/x-python",
   "name": "python",
   "nbconvert_exporter": "python",
   "pygments_lexer": "ipython3",
   "version": "3.8.3"
  }
 },
 "nbformat": 4,
 "nbformat_minor": 1
}
