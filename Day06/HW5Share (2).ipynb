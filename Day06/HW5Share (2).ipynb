{
 "cells": [
  {
   "cell_type": "markdown",
   "metadata": {},
   "source": [
    "## HW 5 Share Soutions\n",
    "\n",
    "These are some problems I'd be happy to help you solve online, in office hours, or in Section\n",
    "\n",
    "We will see a number of filtering problems"
   ]
  },
  {
   "cell_type": "markdown",
   "metadata": {},
   "source": [
    "## 1) Odd Numbers\n",
    "\n",
    "Write a function that takes a list of integers, and returns the odd integers in the same order\n",
    "\n",
    "Given [2, 4, 3, 1, 6, 8, 7], you should return [3, 1, 7]"
   ]
  },
  {
   "cell_type": "code",
   "execution_count": 1,
   "metadata": {},
   "outputs": [
    {
     "name": "stdout",
     "output_type": "stream",
     "text": [
      "3\n",
      "1\n",
      "7\n"
     ]
    }
   ],
   "source": [
    "def odd_numbers(lst):\n",
    "    \"Take a list of numbers, and return a list of odd numbers\"\n",
    "    \n",
    "    # Create an empty list\n",
    "    result = []\n",
    "    \n",
    "    # For each number in the input list\n",
    "    for num in lst:\n",
    "        # If the number is odd...\n",
    "        if num % 2:\n",
    "            # ... add it to the results\n",
    "            result.append(num)\n",
    "    \n",
    "    # Return the new list of odd numbers\n",
    "    return result\n",
    "\n",
    "lst = odd_numbers([2, 4, 3, 1, 6, 8, 7])\n",
    "    \n",
    "for item in lst:\n",
    "    print(item)"
   ]
  },
  {
   "cell_type": "markdown",
   "metadata": {},
   "source": [
    "## 2) Odd Length\n",
    "\n",
    "Take a list of strings, and return a list of the words of odd length."
   ]
  },
  {
   "cell_type": "code",
   "execution_count": 2,
   "metadata": {},
   "outputs": [
    {
     "name": "stdout",
     "output_type": "stream",
     "text": [
      "She\n",
      "sells\n",
      "sea\n",
      "the\n",
      "sea\n",
      "shore\n"
     ]
    }
   ],
   "source": [
    "def odd_words(lst):\n",
    "    \"Take a list of numbers, and return a list of odd numbers\"\n",
    "    \n",
    "    # Create an empty list\n",
    "    result = []\n",
    "    \n",
    "    # For each word in the input list\n",
    "    for word in lst:\n",
    "        # If the number is odd...\n",
    "        if len(word) % 2:\n",
    "            # ... add it to the results\n",
    "            result.append(word)\n",
    "    \n",
    "    # Return the new list of odd numbers\n",
    "    return result\n",
    "\n",
    "s = \"She sells sea shells by the sea shore\"\n",
    "lst = odd_words(s.split())\n",
    "    \n",
    "for item in lst:\n",
    "    print(item)"
   ]
  },
  {
   "cell_type": "markdown",
   "metadata": {},
   "source": [
    "## 3) Zero Crossings\n",
    "\n",
    "Given a sequence of numbers, return the position of each index where the numbers cross from negative to positive or back.  \n",
    "\n",
    "Given [1, 2, -1, -3, -1, 2 ...] you should return [2, 5 ...] \n",
    "\n",
    "For purposes of this problem, assume that zero is a positive number\n",
    "\n",
    "```python\n",
    "    def zero_crossings(list: List[int]) -> List[int]:\n",
    "```"
   ]
  },
  {
   "cell_type": "code",
   "execution_count": 4,
   "metadata": {},
   "outputs": [
    {
     "name": "stdout",
     "output_type": "stream",
     "text": [
      "[2, 5]\n"
     ]
    }
   ],
   "source": [
    "def zero_crossings(lst):\n",
    "    res = []\n",
    "    sign = (lst[0] >= 0)\n",
    "    for i in range(1, len(lst)):\n",
    "        current_sign = (lst[i] >= 0)\n",
    "        if sign != current_sign:\n",
    "            sign = current_sign\n",
    "            res.append(i)\n",
    "            \n",
    "    return res\n",
    "\n",
    "print(zero_crossings([1, 2, -1, -3, -1, 2]))"
   ]
  },
  {
   "cell_type": "markdown",
   "metadata": {},
   "source": [
    "## 4) Remove Duplicates\n",
    "\n",
    "Given a list of items, produce a version of the items without consecutive duplicates.  \n",
    "\n",
    "Given [1, 1, 2, 3, 2, 3, 4, 4], you should return [1, 2, 3, 2, 3, 4]\n",
    "\n",
    "Given ['a', 'b', 'a', 'a', 'c', 'a', 'b', 'b'] you should return ['a', 'b', 'a', 'c', 'a', 'b']\n",
    "\n",
    "Given [1, 'a', 'a', 2, 2, 3.0] you should return [1, 'a', 2, 3.0]"
   ]
  },
  {
   "cell_type": "code",
   "execution_count": null,
   "metadata": {},
   "outputs": [],
   "source": [
    "def prune(lst):\n",
    "    first = True\n",
    "    result = []\n",
    "    for item in lst:\n",
    "        if first:\n",
    "            first = False\n",
    "            result.append(item)\n",
    "        else:\n",
    "            if not item == prev:\n",
    "                result.append(item)\n",
    "        prev = item\n",
    "        \n",
    "    return result"
   ]
  },
  {
   "cell_type": "markdown",
   "metadata": {},
   "source": [
    "### Unit Tests"
   ]
  },
  {
   "cell_type": "code",
   "execution_count": null,
   "metadata": {},
   "outputs": [],
   "source": [
    "def validate_prune():\n",
    "    assert prune([1, 1, 2, 3, 2, 3, 4, 4]) == [1, 2, 3, 2, 3, 4]   \n",
    "    assert prune(['a', 'b', 'a', 'a', 'c', 'a', 'b', 'b']) == ['a', 'b', 'a', 'c', 'a', 'b']\n",
    "    assert prune([1, 'a', 'a', 2, 2, 3.0]) == [1, 'a', 2, 3.0]\n",
    "    \n",
    "    print('Success!')\n",
    "    \n",
    "validate_prune()"
   ]
  },
  {
   "cell_type": "markdown",
   "metadata": {},
   "source": [
    "## 5) Shortest Representatives bis\n",
    "\n",
    "Given a string and a set of characters, return the shortest substring containing all the characters in the set.\n",
    "For example, given the string \"figehaeci\" and the set of characters {a, e, i}, you should return \"aeci\".\n",
    "\n",
    "If there are two minimal substrings, you can return either one. "
   ]
  },
  {
   "cell_type": "markdown",
   "metadata": {},
   "source": [
    "### We solved this last week"
   ]
  },
  {
   "cell_type": "markdown",
   "metadata": {},
   "source": [
    "## 6) Histogram\n",
    "\n",
    "You are sked to draw a histogram consisting of rectangles of different heights. These heights are represented in an input list, such that [1, 3, 2, 5], which corresponds to the following diagram:\n",
    "\n",
    "```python\n",
    "      x\n",
    "      x\n",
    "  x   x\n",
    "  x x x\n",
    "x x x x\n",
    "```\n",
    "\n",
    "Use print statements to draw a histogram representing the numbers.  \n",
    "\n",
    "I found it helpful to think about drawing the background.  "
   ]
  },
  {
   "cell_type": "code",
   "execution_count": 19,
   "metadata": {},
   "outputs": [
    {
     "name": "stdout",
     "output_type": "stream",
     "text": [
      "      X\n",
      "      X\n",
      "  X   X\n",
      "  X X X\n",
      "X X X X\n"
     ]
    }
   ],
   "source": [
    "def draw_histogram(lst):    \n",
    "    histogram = []\n",
    "    for i in range(max(lst), 0, -1):\n",
    "        res = []\n",
    "        for val in lst:\n",
    "            if val >= i:\n",
    "                res.append('X')\n",
    "            else:\n",
    "                res.append(' ')\n",
    "        histogram.append(' '.join(res))\n",
    "        \n",
    "    return histogram\n",
    "\n",
    "\n",
    "for line in draw_histogram([1, 3, 2, 5]):\n",
    "    print(line)"
   ]
  },
  {
   "cell_type": "markdown",
   "metadata": {},
   "source": [
    "## 7) Histogram bis\n",
    "\n",
    "You are given a histogram represented with blanks and x's.  \n",
    "Return the list holding the hights of each bar.\n",
    "\n",
    "```python\n",
    "   x\n",
    "   x\n",
    " x x\n",
    " xxx\n",
    "xxxx\n",
    "```\n",
    "\n",
    "Given the diagram above, return [1, 3, 2, 5]"
   ]
  },
  {
   "cell_type": "code",
   "execution_count": 28,
   "metadata": {},
   "outputs": [
    {
     "name": "stdout",
     "output_type": "stream",
     "text": [
      "[1, 3, 2, 4]\n"
     ]
    }
   ],
   "source": [
    "def histogram_2_list(s):\n",
    "    # Get the slices of the histogram\n",
    "    layers = s.split('\\n')\n",
    "    \n",
    "    # How high is the highest bar?\n",
    "    mx = len(layers)\n",
    "    \n",
    "    # How many slots?\n",
    "    width = len(layers[0])\n",
    "    res = [-1]*width\n",
    "\n",
    "    # For each slice\n",
    "    for i in range(mx-1, 0, -1):\n",
    "        lyr = layers[mx - i]\n",
    "        \n",
    "        # See if we have a new bar\n",
    "        for j in range(width):\n",
    "            if (res[j] < 0) and (lyr[j] == 'x'):\n",
    "                res[j] = i\n",
    "    \n",
    "    return res\n",
    "    \n",
    "print(histogram_2_list('   x\\n   x\\n x x\\n xxx\\nxxxx'))"
   ]
  },
  {
   "cell_type": "markdown",
   "metadata": {},
   "source": [
    "## 8) Octal Dump and byte files\n",
    "\n",
    "One issue we had with our first attempt at Octal Dump is that Python hides /r\n",
    "\n",
    "Rather than opening as a text file, we can open the input file as a Byte file\n",
    "\n",
    "### Rather than open the file with mode 'r', open it with mode 'rb'\n",
    "\n",
    "```python\n",
    "    # Take the filename\n",
    "    with open(sys.argv[1], 'rb') as f:\n",
    "```\n",
    "\n",
    "When you read, you are reading bytes, which you will need to turn into characters.\n",
    "\n",
    "You can use the function chr() to convert a byte into a string.\n",
    "\n",
    "```python\n",
    "            for byte in line:\n",
    "                lst.append(chr(byte))\n",
    "```\n",
    "\n",
    "\n"
   ]
  },
  {
   "cell_type": "code",
   "execution_count": 29,
   "metadata": {},
   "outputs": [
    {
     "data": {
      "text/plain": [
       "'\\\\n '"
      ]
     },
     "execution_count": 29,
     "metadata": {},
     "output_type": "execute_result"
    }
   ],
   "source": [
    "def display(ch: str) -> str:\n",
    "    \"Return a string representing the character\"\n",
    "\n",
    "    # Deal with the whitespace first:\n",
    "    if (ch == ' '):\n",
    "        return '   '\n",
    "    elif (ch == '\\t'):\n",
    "        return '\\\\t '\n",
    "    elif (ch == '\\n'):\n",
    "        return '\\\\n '\n",
    "    elif (ch == '\\r'):\n",
    "        return '\\\\r '\n",
    "    elif ch.isprintable():\n",
    "        return ch + ' '\n",
    "    else:\n",
    "        return str(ord(ch))\n",
    "    \n",
    "display('\\n')"
   ]
  },
  {
   "cell_type": "code",
   "execution_count": 30,
   "metadata": {},
   "outputs": [
    {
     "name": "stdout",
     "output_type": "stream",
     "text": [
      "a  a  \\r  \\n  b  b  \\r  \\n  a  i  e  \\r  \\n  o  u  \\r \n",
      "\\n  x  y  z  \\r  \\n \n"
     ]
    }
   ],
   "source": [
    "def print_file(filename):\n",
    "    # Take the filename\n",
    "    with open(filename, 'rb') as f:\n",
    "\n",
    "        # Read the whole file\n",
    "        text = f.read()\n",
    "\n",
    "        while (len(text) > 0):\n",
    "            # Get the next 16 characters\n",
    "            line = text[:16]\n",
    "            text = text[16:]\n",
    "\n",
    "            # Build a list of the representations\n",
    "            lst = []\n",
    "            for byte in line:\n",
    "                lst.append(display(chr(byte)))\n",
    "\n",
    "            # Paste the elements together and print\n",
    "            print(' '.join(lst))\n",
    "\n",
    "print_file('../../Programs/day5/on.dos')"
   ]
  },
  {
   "cell_type": "markdown",
   "metadata": {},
   "source": [
    "### What I see\n",
    "\n",
    "```python\n",
    "    a  a  \\r  \\n  b  b  \\r  \\n  a  i  e  \\r  \\n  o  u  \\r \n",
    "    \\n  x  y  z  \\r  \\n \n",
    "```"
   ]
  },
  {
   "cell_type": "code",
   "execution_count": 39,
   "metadata": {},
   "outputs": [
    {
     "name": "stdout",
     "output_type": "stream",
     "text": [
      "0000000    a   a  \\r  \\n   b   b  \\r  \\n   a   i   e  \\r  \\n   o   u  \\r\r\n",
      "0000020   \\n   x   y   z  \\r  \\n                                        \r\n",
      "0000026\r\n"
     ]
    }
   ],
   "source": [
    "! od -c ../../Programs/day5/on.dos"
   ]
  },
  {
   "cell_type": "markdown",
   "metadata": {},
   "source": [
    "### What I see\n",
    "\n",
    "```python\n",
    "0000000    a   a  \\r  \\n   b   b  \\r  \\n   a   i   e  \\r  \\n   o   u  \\r\n",
    "0000020   \\n   x   y   z  \\r  \\n                                        \n",
    "0000026\n",
    "```"
   ]
  },
  {
   "cell_type": "markdown",
   "metadata": {},
   "source": [
    "## 9) Strip Comments\n",
    "Downey provides a program to strip comments that use '#'\n",
    "\n",
    "```python\n",
    "# stripComments.py\n",
    "#\n",
    "# Remove the comments from a file\n",
    "# Usage:\n",
    "#      $ python stripComments.py old new\n",
    "\n",
    "import sys\n",
    "\n",
    "\n",
    "def filterFile(oldFile: str, newFile: str):\n",
    "    \"\"\"Take lines from old file and write to new:\n",
    "       Don't copy lines that start with '#'\"\"\"\n",
    "\n",
    "    with open(oldFile, 'r') as old:\n",
    "        with open(newFile, 'w') as new:\n",
    "\n",
    "            # For each line of the old file\n",
    "            for text in old:\n",
    "\n",
    "                # If it isn't a comment, copy to new file\n",
    "                if text[0] != '#':\n",
    "                    new.write(text)       \n",
    "```\n",
    "However, he only removes lines that begin with '#'.\n",
    "\n",
    "\n",
    "```python\n",
    "import sys\n",
    "\n",
    "\n",
    "def filterFile(oldFile: str, newFile: str):\n",
    "    \"\"\"Take lines from old file and write to new:\n",
    "       Don't copy lines that start with '#'\"\"\"\n",
    "\n",
    "    with open(oldFile, 'r') as old:\n",
    "        with open(newFile, 'w') as new:\n",
    "\n",
    "            # For each line of the old file\n",
    "            for text in old:\n",
    "\n",
    "                # If it isn't a comment, copy to new file\n",
    "                if text[0] != '#':\n",
    "                    new.write(text)\n",
    "```\n",
    "\n",
    "A better version would remove lines that begin with '#', but would also trim lines that have a '#' later in the string.\n",
    "Try running your program on itself: does it leave a legal program? Does it deal correctly with\n",
    "\n",
    "\n",
    "```python\n",
    "                if text[0] != '#':\n",
    "```\n",
    "\n",
    "Show the output of your program on Downey's stripComments.py"
   ]
  },
  {
   "cell_type": "code",
   "execution_count": 49,
   "metadata": {},
   "outputs": [
    {
     "name": "stdout",
     "output_type": "stream",
     "text": [
      "\n",
      "import os\n",
      "import sys\n",
      "\n",
      "\n",
      "def walk(dirname: str):\n",
      "    \"Perform a recursive traverse of directories\"\n",
      "\n",
      "    \n",
      "    for name in os.listdir(dirname):\n",
      "\n",
      "        \n",
      "        path = os.path.join(dirname, name)\n",
      "\n",
      "        \n",
      "        if os.path.isfile(path):\n",
      "            print(path)\n",
      "        else:\n",
      "            walk(path)\n",
      "\n",
      "\n",
      "if len(sys.argv) != 2:\n",
      "    print(\"Usage: python walk.py <path>\")\n",
      "else:\n",
      "    walk(sys.argv[1])\n",
      "\n"
     ]
    }
   ],
   "source": [
    "def filter_file(oldFile: str):\n",
    "    \"\"\"Take lines from old file and write to new:\n",
    "       Don't copy lines that start with '#'\"\"\"\n",
    "\n",
    "    with open(oldFile, 'r') as old:\n",
    "\n",
    "        # For each line of the old file\n",
    "        for text in old:\n",
    "            text = text[:-1]\n",
    "            \n",
    "            # print(text)\n",
    "            # If it isn't a comment, copy to new file\n",
    "            if not text:\n",
    "                print()\n",
    "            elif text[0] != '#': \n",
    "                # We will write something\n",
    "                # This does not deal correctly with\n",
    "                #        if text[0] != '#':\n",
    "                if (pos := text.find('#')) >= 0:\n",
    "                    print(text[:pos])\n",
    "                else:\n",
    "                    print(text)\n",
    "                    \n",
    "        print()\n",
    "\n",
    "filter_file('../../Programs/day5/walk.py')"
   ]
  },
  {
   "cell_type": "markdown",
   "metadata": {},
   "source": [
    "### What I see\n",
    "\n",
    "```python\n",
    "    import os\n",
    "    import sys\n",
    "\n",
    "\n",
    "    def walk(dirname: str):\n",
    "        \"Perform a recursive traverse of directories\"\n",
    "\n",
    "\n",
    "        for name in os.listdir(dirname):\n",
    "\n",
    "\n",
    "            path = os.path.join(dirname, name)\n",
    "\n",
    "\n",
    "            if os.path.isfile(path):\n",
    "                print(path)\n",
    "            else:\n",
    "                walk(path)\n",
    "\n",
    "\n",
    "    if len(sys.argv) != 2:\n",
    "        print(\"Usage: python walk.py <path>\")\n",
    "    else:\n",
    "        walk(sys.argv[1])\n",
    "```"
   ]
  },
  {
   "cell_type": "code",
   "execution_count": 51,
   "metadata": {},
   "outputs": [
    {
     "name": "stdout",
     "output_type": "stream",
     "text": [
      "# walk.py\r\n",
      "#\r\n",
      "# List all files below a point in the file system\r\n",
      "#\r\n",
      "# Usage:\r\n",
      "#    python walk.py <path>\r\n",
      "#\r\n",
      "# Based on Downey's Think Python, Chapter 14.4\r\n",
      "\r\n",
      "import os\r\n",
      "import sys\r\n",
      "\r\n",
      "\r\n",
      "def walk(dirname: str):\r\n",
      "    \"Perform a recursive traverse of directories\"\r\n",
      "\r\n",
      "    # Walk over the files in this directory\r\n",
      "    for name in os.listdir(dirname):\r\n",
      "\r\n",
      "        # Construct a full path\r\n",
      "        path = os.path.join(dirname, name)\r\n",
      "\r\n",
      "        # print filenames, and traverse directories\r\n",
      "        if os.path.isfile(path):\r\n",
      "            print(path)\r\n",
      "        else:\r\n",
      "            walk(path)\r\n",
      "\r\n",
      "\r\n",
      "# Was there anything on the command line?\r\n",
      "if len(sys.argv) != 2:\r\n",
      "    print(\"Usage: python walk.py <path>\")\r\n",
      "else:\r\n",
      "    walk(sys.argv[1])\r\n"
     ]
    }
   ],
   "source": [
    "! cat '../../Programs/day5/walk.py'"
   ]
  },
  {
   "cell_type": "markdown",
   "metadata": {},
   "source": [
    " ### What I see\n",
    "    \n",
    "```python\n",
    "    # walk.py\n",
    "    #\n",
    "    # List all files below a point in the file system\n",
    "    #\n",
    "    # Usage:\n",
    "    #    python walk.py <path>\n",
    "    #\n",
    "    # Based on Downey's Think Python, Chapter 14.4\n",
    "\n",
    "    import os\n",
    "    import sys\n",
    "\n",
    "\n",
    "    def walk(dirname: str):\n",
    "        \"Perform a recursive traverse of directories\"\n",
    "\n",
    "        # Walk over the files in this directory\n",
    "        for name in os.listdir(dirname):\n",
    "\n",
    "            # Construct a full path\n",
    "            path = os.path.join(dirname, name)\n",
    "\n",
    "            # print filenames, and traverse directories\n",
    "            if os.path.isfile(path):\n",
    "                print(path)\n",
    "            else:\n",
    "                walk(path)\n",
    "\n",
    "\n",
    "    # Was there anything on the command line?\n",
    "    if len(sys.argv) != 2:\n",
    "        print(\"Usage: python walk.py <path>\")\n",
    "    else:\n",
    "        walk(sys.argv[1])     \n",
    "```"
   ]
  },
  {
   "cell_type": "code",
   "execution_count": null,
   "metadata": {},
   "outputs": [],
   "source": []
  }
 ],
 "metadata": {
  "kernelspec": {
   "display_name": "Python 3",
   "language": "python",
   "name": "python3"
  },
  "language_info": {
   "codemirror_mode": {
    "name": "ipython",
    "version": 3
   },
   "file_extension": ".py",
   "mimetype": "text/x-python",
   "name": "python",
   "nbconvert_exporter": "python",
   "pygments_lexer": "ipython3",
   "version": "3.8.1"
  }
 },
 "nbformat": 4,
 "nbformat_minor": 1
}
