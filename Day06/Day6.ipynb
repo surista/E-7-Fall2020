{
 "cells": [
  {
   "cell_type": "markdown",
   "metadata": {},
   "source": [
    "# Introduction to Programming with Python\n",
    "# Day 6 Notebook -  Dictionaries, Sets, and CSV Files\n",
    "# FALL 2019 - (c) Jeff Parker"
   ]
  },
  {
   "cell_type": "markdown",
   "metadata": {},
   "source": [
    "# Review Homework"
   ]
  },
  {
   "cell_type": "markdown",
   "metadata": {},
   "source": [
    "# Evens"
   ]
  },
  {
   "cell_type": "code",
   "execution_count": null,
   "metadata": {},
   "outputs": [],
   "source": [
    "from typing import List\n",
    "\n",
    "def evens(lst: List[int]) -> List[int]:\n",
    "    \"Return the even elements, in order\"\n",
    "    list_length = len(lst)\n",
    "    t=[]\n",
    "    for i in range(list_length):\n",
    "        if(lst[i]%2 ==0):\n",
    "            t.append(lst[i])\n",
    "        else:\n",
    "            pass\n",
    "            \n",
    "    return t\n",
    "    print(list_length)   "
   ]
  },
  {
   "cell_type": "markdown",
   "metadata": {},
   "source": [
    "## Rewrite"
   ]
  },
  {
   "cell_type": "code",
   "execution_count": null,
   "metadata": {},
   "outputs": [],
   "source": [
    "    for i in range(list_length):\n",
    "        if(lst[i]%2 ==0):\n",
    "            t.append(lst[i])\n",
    "        else:\n",
    "            pass"
   ]
  },
  {
   "cell_type": "code",
   "execution_count": null,
   "metadata": {},
   "outputs": [],
   "source": [
    "    for val in lst:\n",
    "        if val % 2 == 0:\n",
    "            t.append(res)"
   ]
  },
  {
   "cell_type": "markdown",
   "metadata": {},
   "source": [
    "# This is the Filter Idiom"
   ]
  },
  {
   "cell_type": "code",
   "execution_count": null,
   "metadata": {},
   "outputs": [],
   "source": [
    "from typing import List\n",
    "\n",
    "def evens(lst: List[int]) -> List[int]:\n",
    "    \"Return the even elements, in order\"\n",
    "    res = []\n",
    "    for val in lst:\n",
    "        if not val % 2:\n",
    "            res.append(val)   \n",
    "            \n",
    "    return res"
   ]
  },
  {
   "cell_type": "markdown",
   "metadata": {},
   "source": [
    "## *We can solve this with List Comprehensions, but not yet*"
   ]
  },
  {
   "cell_type": "markdown",
   "metadata": {},
   "source": [
    "# In order"
   ]
  },
  {
   "cell_type": "code",
   "execution_count": null,
   "metadata": {},
   "outputs": [],
   "source": [
    "def inorder(lst):\n",
    "    if sorted(lst):\n",
    "        return True\n",
    "    elif len(lst) <= 1:\n",
    "        return True\n",
    "    else:\n",
    "        return False"
   ]
  },
  {
   "cell_type": "markdown",
   "metadata": {},
   "source": [
    "## Test case"
   ]
  },
  {
   "cell_type": "code",
   "execution_count": null,
   "metadata": {},
   "outputs": [],
   "source": [
    "def test_inorder():\n",
    "    assert(inorder([1, 4, 9, 13]) == True)\n",
    "    assert(inorder([1]) == True)\n",
    "    assert(inorder([]) == True)\n",
    "    assert(inorder([3, 1, 4]) == False)\n",
    "    assert(inorder([3, 2, 1]) == False)\n",
    "    assert(inorder(['one', 'ten', 'three', 'two']) == True)\n",
    "\n",
    "    return 'Pass'"
   ]
  },
  {
   "cell_type": "code",
   "execution_count": null,
   "metadata": {},
   "outputs": [],
   "source": [
    "test_inorder()"
   ]
  },
  {
   "cell_type": "code",
   "execution_count": null,
   "metadata": {},
   "outputs": [],
   "source": [
    "lst1 = [3, 1, 2]\n",
    "lst2 = sorted(lst1)\n",
    "print(lst2) "
   ]
  },
  {
   "cell_type": "code",
   "execution_count": null,
   "metadata": {},
   "outputs": [],
   "source": [
    "print(lst1)"
   ]
  },
  {
   "cell_type": "code",
   "execution_count": null,
   "metadata": {},
   "outputs": [],
   "source": [
    "lst1 = [3, 2, 1]\n",
    "lst2 = lst1.sort()\n",
    "\n",
    "print(lst1)"
   ]
  },
  {
   "cell_type": "code",
   "execution_count": null,
   "metadata": {},
   "outputs": [],
   "source": [
    "print(lst2)"
   ]
  },
  {
   "cell_type": "markdown",
   "metadata": {},
   "source": [
    "# Sort() vs Sorted()\n",
    "## Sorted() returns a sorted list, but does not change the original\n",
    "## Sort() changes the original list, returns nothing\n",
    "## https://docs.python.org/3/howto/sorting.html"
   ]
  },
  {
   "cell_type": "markdown",
   "metadata": {},
   "source": [
    "## New attempt"
   ]
  },
  {
   "cell_type": "code",
   "execution_count": null,
   "metadata": {},
   "outputs": [],
   "source": [
    "# To compare the value of the list,\n",
    "# First of all, I separated the condition which has not the element to compare the value --> while len(lst) <= 1\n",
    "# Second, I defined the range to compare --> for n in range(0, len(lst), 1):\n",
    "# Third, I defined the way to compare --> if lst[n+1] >= lst[n]:\n",
    "\n",
    "def inorder(lst):\n",
    "    while len(lst) <= 1:\n",
    "        return True\n",
    "    for n in range(0, len(lst), 1):\n",
    "            if lst[n+1] >= lst[n]:\n",
    "                return True\n",
    "            else:\n",
    "                return False\n",
    "            \n",
    "test_inorder()"
   ]
  },
  {
   "cell_type": "markdown",
   "metadata": {},
   "source": [
    "## I could see the code was wrong, but my test cases didn't catch it\n",
    "## Add a new test case"
   ]
  },
  {
   "cell_type": "code",
   "execution_count": null,
   "metadata": {},
   "outputs": [],
   "source": [
    "def test_inorder():\n",
    "    assert(inorder([1, 4, 9, 13]) == True)\n",
    "    assert(inorder([1]) == True)\n",
    "    assert(inorder([]) == True)\n",
    "    assert(inorder([3, 1, 4]) == False)\n",
    "    assert(inorder([3, 2, 1]) == False)\n",
    "    assert(inorder(['one', 'ten', 'three', 'two']) == True)\n",
    "\n",
    "    assert(inorder([1, 4, 9, 13, 12]) == False)          # New test\n",
    "\n",
    "    return 'Pass'\n",
    "\n",
    "test_inorder()"
   ]
  },
  {
   "cell_type": "markdown",
   "metadata": {},
   "source": [
    "## The method only compared the first two items\n",
    "## Early Exit"
   ]
  },
  {
   "cell_type": "code",
   "execution_count": null,
   "metadata": {},
   "outputs": [],
   "source": [
    "    for n in range(0, len(lst), 1):\n",
    "        if lst[n+1] >= lst[n]:\n",
    "            return True\n",
    "        else:\n",
    "            return False"
   ]
  },
  {
   "cell_type": "markdown",
   "metadata": {},
   "source": [
    "## Rewrite: Attempt 1\n",
    "### Devise a test case"
   ]
  },
  {
   "cell_type": "code",
   "execution_count": null,
   "metadata": {},
   "outputs": [],
   "source": [
    "def inorder(lst):\n",
    "    if len(lst) <= 1:\n",
    "        return True\n",
    "    \n",
    "    for n in range(0, len(lst), 1):\n",
    "        if lst[n+1] < lst[n]:\n",
    "            return False\n",
    "        \n",
    "    return True\n",
    "\n"
   ]
  },
  {
   "cell_type": "markdown",
   "metadata": {},
   "source": [
    "## Fencepost errors\n",
    "## |=====|=====|=====|=====|=====|\n",
    "### If I have 15 feet of fence, with 3 foot spans, how many fenceposts?"
   ]
  },
  {
   "cell_type": "markdown",
   "metadata": {},
   "source": [
    "## Rewrite - my solution: Find First pair out of order"
   ]
  },
  {
   "cell_type": "code",
   "execution_count": null,
   "metadata": {},
   "outputs": [],
   "source": [
    "def inorder(lst: List) -> bool:\n",
    "    \"Is this list in order?\"\n",
    "    \n",
    "    # Compare all adjacent pairs\n",
    "    for i in range(len(lst) - 1):   # Don't go too far\n",
    "        \n",
    "        # Is the pair in order?\n",
    "        if lst[i] >= lst[i + 1]:\n",
    "            return False\n",
    "    \n",
    "    return True\n",
    "\n",
    "test_inorder()"
   ]
  },
  {
   "cell_type": "markdown",
   "metadata": {},
   "source": [
    "# List is not a good name for a Variable\n",
    "## Don't use str or string or Dict"
   ]
  },
  {
   "cell_type": "markdown",
   "metadata": {},
   "source": [
    "# Solve inorder with sorting"
   ]
  },
  {
   "cell_type": "code",
   "execution_count": null,
   "metadata": {},
   "outputs": [],
   "source": [
    "def inorder(lst):\n",
    "    \"Is this list in order?\"\n",
    "    \n",
    "    # Compare with sorted list  \n",
    "    return sorted(lst) == lst\n",
    "\n",
    "test_inorder()"
   ]
  },
  {
   "cell_type": "markdown",
   "metadata": {},
   "source": [
    "# Unique"
   ]
  },
  {
   "cell_type": "code",
   "execution_count": null,
   "metadata": {},
   "outputs": [],
   "source": [
    "def unique(lst1: List) -> List:\n",
    "    lst2 = []\n",
    "    for num in range(len(lst1) - 1):   # checking through the range\n",
    "        if lst1[num] != lst1[num + 1]: # checking for duplicates\n",
    "            lst2.append(lst1[num])     # adding not duplicates to new list\n",
    "          \n",
    "    return(lst2)\n",
    "\n",
    "\n",
    "lst = [1, 1, 2, 2, 1, 3, 3, 3, 3, 2, 1, 1]\n",
    "print(lst)\n",
    "print(unique(lst))\n",
    "print()"
   ]
  },
  {
   "cell_type": "code",
   "execution_count": null,
   "metadata": {},
   "outputs": [],
   "source": [
    "lst = [1, 1, 2, 2, 1, 3, 3, 3, 3]\n",
    "print(lst)\n",
    "print(unique(lst))"
   ]
  },
  {
   "cell_type": "markdown",
   "metadata": {},
   "source": [
    "## Do you have a conjecture?  What would you like to try?"
   ]
  },
  {
   "cell_type": "code",
   "execution_count": null,
   "metadata": {},
   "outputs": [],
   "source": [
    "lst = [ ]\n",
    "print(lst)\n",
    "print(unique(lst))"
   ]
  },
  {
   "cell_type": "markdown",
   "metadata": {},
   "source": [
    "# My solution"
   ]
  },
  {
   "cell_type": "code",
   "execution_count": null,
   "metadata": {},
   "outputs": [],
   "source": [
    "def unique(lst: List) -> List:\n",
    "    \"Trim duplicates from list\"\n",
    "\n",
    "    if not lst:\n",
    "        return []\n",
    "\n",
    "    result = [lst[0]]\n",
    "    lst.pop(0)\n",
    "\n",
    "    for item in lst:\n",
    "        if item != result[-1]:\n",
    "            result.append(item)\n",
    "\n",
    "    return result\n",
    "\n",
    "lst = [1, 1, 2, 2, 1, 3, 3, 3, 3, 2, 1, 1]\n",
    "print(unique(lst))"
   ]
  },
  {
   "cell_type": "markdown",
   "metadata": {},
   "source": [
    "# Sum of Two"
   ]
  },
  {
   "cell_type": "code",
   "execution_count": null,
   "metadata": {},
   "outputs": [],
   "source": [
    "# Takes a list and a number and checks if there are two numbers(k) in this list that sum up to (k) \n",
    "def sum_of_two(k, lst):  \n",
    "    for i in range(len(lst)):    \n",
    "        for j in range(i + 1, len(lst)):  \n",
    "            if lst[i] + lst[j] == k:\n",
    "                return True\n",
    "            \n",
    "    return False"
   ]
  },
  {
   "cell_type": "markdown",
   "metadata": {},
   "source": [
    "## Test cases"
   ]
  },
  {
   "cell_type": "code",
   "execution_count": null,
   "metadata": {},
   "outputs": [],
   "source": [
    "def test_sum_of_two():\n",
    "    assert(sum_of_two(0, []) == False)\n",
    "    assert(sum_of_two(3, [3]) == False) \n",
    "    assert(sum_of_two(3, [1, 2]) == True) \n",
    "    assert(sum_of_two(17, [10, 15, 3, 7]) == True)\n",
    "    assert(sum_of_two(17, [10, 15, 4, 8]) == False) \n",
    "    assert(sum_of_two(4, [2, 2]) == True)\n",
    "\n",
    "    assert(sum_of_two(4, [2]) == False) \n",
    "    assert(sum_of_two(4, [1, 1, 1, 1]) == False) \n",
    "    assert(sum_of_two(4, [1, 2]) == False) \n",
    "    assert(sum_of_two(4, [0, 4]) == True)\n",
    "    assert(sum_of_two(17, [1, 15, 3, 4, 5, 6, 7, 2]) == True)\n",
    "\n",
    "    return 'Pass'"
   ]
  },
  {
   "cell_type": "code",
   "execution_count": null,
   "metadata": {},
   "outputs": [],
   "source": [
    "test_sum_of_two()"
   ]
  },
  {
   "cell_type": "markdown",
   "metadata": {},
   "source": [
    "## Another approach"
   ]
  },
  {
   "cell_type": "code",
   "execution_count": null,
   "metadata": {},
   "outputs": [],
   "source": [
    "def sum_of_two(k, lst):\n",
    "    # if the list has one or less item then returns False\n",
    "    if len(lst) <= 1:\n",
    "        return False\n",
    "    # if the list has two items then check if the sum of the list equals the target number\n",
    "    elif len(lst) == 2:\n",
    "        if sum(lst) == k:\n",
    "            return True\n",
    "        return False\n",
    "    # if the list has more than two items, target minus lst[i] as temporary number. If the temporary is\n",
    "    # bigger than 0 and not equals to target divided by 2 and in the lst, then it is True.\n",
    "    elif len(lst) > 2:\n",
    "        for i in range(len(lst)-1):\n",
    "            temp = k - lst[i]\n",
    "            if temp >= 0 and temp != k/2 and temp in lst:\n",
    "                return True\n",
    "        return False\n",
    "    \n",
    "\n",
    "test_sum_of_two()"
   ]
  },
  {
   "cell_type": "markdown",
   "metadata": {},
   "source": [
    "## Rewrite"
   ]
  },
  {
   "cell_type": "code",
   "execution_count": null,
   "metadata": {},
   "outputs": [],
   "source": [
    "# Is k the sum of two elements in the list?\n",
    "#\n",
    "def sum_of_two(k, lst):\n",
    "    # if the list has one or less item then returns False\n",
    "    if len(lst) <= 1:\n",
    "        return False\n",
    "\n",
    "    # if the list has two items then check if the sum of the list equals the target number\n",
    "    if len(lst) == 2:\n",
    "        return sum(lst) == k\n",
    "\n",
    "    # if the list has more than two items, target minus lst[i] as temporary number. If the temporary is\n",
    "    # bigger than 0 and not equals to target divided by 2 and in the lst, then it is True.\n",
    "    for i in range(len(lst)-1):\n",
    "        temp = k - lst[i]\n",
    "        if temp >= 0 and temp != k/2 and temp in lst:\n",
    "            return True\n",
    "        \n",
    "    return False\n",
    "\n",
    "test_sum_of_two()"
   ]
  },
  {
   "cell_type": "markdown",
   "metadata": {},
   "source": [
    "## Try to avoid taking O(N^2) steps"
   ]
  },
  {
   "cell_type": "code",
   "execution_count": null,
   "metadata": {},
   "outputs": [],
   "source": [
    "def sum_of_two(k, lst):\n",
    "    # go through each item in the list\n",
    "    for _ in lst:\n",
    "        cur = lst.pop(0)   # remove the first item from the list\n",
    "        num_to_find = k - cur   # determine the other value that will sum to k\n",
    "        if num_to_find in lst:   # check if that value exists in rest of the list\n",
    "            return True\n",
    "        lst.append(cur)   # add the number that was popped back onto the list\n",
    "        \n",
    "    return False\n",
    "        \n",
    "test_sum_of_two()"
   ]
  },
  {
   "cell_type": "markdown",
   "metadata": {},
   "source": [
    "## Dangerous to manipulate list during traverse\n",
    "## https://tinyurl.com/y45tkcvw"
   ]
  },
  {
   "cell_type": "code",
   "execution_count": null,
   "metadata": {},
   "outputs": [],
   "source": [
    "lst = ['a', 'b', 'c']\n",
    "for ch in lst:\n",
    "    print(ch)\n",
    "    lst.remove(ch)"
   ]
  },
  {
   "cell_type": "code",
   "execution_count": null,
   "metadata": {},
   "outputs": [],
   "source": [
    "# What is left?\n",
    "print(lst)"
   ]
  },
  {
   "cell_type": "markdown",
   "metadata": {},
   "source": [
    "## We can apply the same idea without changing the list"
   ]
  },
  {
   "cell_type": "code",
   "execution_count": null,
   "metadata": {},
   "outputs": [],
   "source": [
    "# Is k the sum of two elements in the list?\n",
    "def sum_of_two(k, lst):\n",
    "    \n",
    "    # Look at each element in the list\n",
    "    for item in lst:\n",
    "    \n",
    "        # Is there a complementary element?\n",
    "        if (k - item) in lst: \n",
    "            return True\n",
    "    \n",
    "    return False\n",
    "\n",
    "test_sum_of_two()"
   ]
  },
  {
   "cell_type": "markdown",
   "metadata": {},
   "source": [
    "## Returns True when list holds k/2"
   ]
  },
  {
   "cell_type": "code",
   "execution_count": null,
   "metadata": {},
   "outputs": [],
   "source": [
    "# Is k the sum of two elements in the list?\n",
    "def sum_of_two(k, lst):\n",
    "    \n",
    "    cpy = lst[:]\n",
    "    while cpy:\n",
    "        item = cpy.pop()\n",
    "        if (k - item) in cpy:\n",
    "            return True\n",
    "    \n",
    "    return False\n",
    "\n",
    "test_sum_of_two()"
   ]
  },
  {
   "cell_type": "markdown",
   "metadata": {},
   "source": [
    "# Test for Membership\n",
    "## This depends on being able to test if k - item is a member"
   ]
  },
  {
   "cell_type": "markdown",
   "metadata": {},
   "source": [
    "# Find Reversals\n",
    "## Also depends on tests of membership"
   ]
  },
  {
   "cell_type": "markdown",
   "metadata": {},
   "source": [
    "## Unit Tests"
   ]
  },
  {
   "cell_type": "code",
   "execution_count": null,
   "metadata": {},
   "outputs": [],
   "source": [
    "def test_find_reversals():\n",
    "    assert(find_reversals(['art', 'Rat', 'Radar', 'scam', 'tar', 'vista']) == ['rat'])\n",
    "    assert(find_reversals(['art', 'Rat', 'Radars', 'scam', 'tartars', 'vista']) == [])\n",
    "\n",
    "    return 'Pass'"
   ]
  },
  {
   "cell_type": "markdown",
   "metadata": {},
   "source": [
    "## Submission"
   ]
  },
  {
   "cell_type": "code",
   "execution_count": null,
   "metadata": {},
   "outputs": [],
   "source": [
    "def find_reversals(lst):\n",
    "    s = []  # create an empty list s\n",
    "    for word in lst:\n",
    "        word = word.lower()  # make them into lower case\n",
    "        if word[::-1] in lst:  # if the reversed version of a word in the list as well then append it into s and remove the reversed one\n",
    "            s.append(word)\n",
    "            lst.remove(word[::-1])\n",
    "    return s\n",
    "\n",
    "print(find_reversals(['rat', 'b', 'radar', 'tar']))"
   ]
  },
  {
   "cell_type": "markdown",
   "metadata": {},
   "source": [
    "# Danger Will Robinson!\n",
    "## Don't modify a list you are traversing!\n",
    "##  https://goo.gl/images/msJqw6\n",
    "## Predict what this will do"
   ]
  },
  {
   "cell_type": "code",
   "execution_count": null,
   "metadata": {},
   "outputs": [],
   "source": [
    "lst = ['a', 'b', 'c']\n",
    "for ch in lst:\n",
    "    print(ch)\n",
    "    lst.remove(ch)\n",
    "\n",
    "print('Done')\n",
    "print(lst)"
   ]
  },
  {
   "cell_type": "markdown",
   "metadata": {},
   "source": [
    "# New submission"
   ]
  },
  {
   "cell_type": "code",
   "execution_count": null,
   "metadata": {},
   "outputs": [],
   "source": [
    "from typing import List\n",
    "\n",
    "#empty lists to use later\n",
    "new_list=[]\n",
    "\n",
    "\n",
    "def find_reversals(words: List[str]) -> List[str]:\n",
    "    \"Look for reversals in a list\"\n",
    "    \n",
    "    for word in words:\n",
    "        \"for loop to go through each element of the list in order\"\n",
    "        \n",
    "        word = word.lower()\n",
    "        # convert word to all lowercase characters\n",
    "        \n",
    "        if word == word[::-1]:\n",
    "            \"to check if word is a pallindrome, pass if it is.\"\n",
    "            pass\n",
    "        \n",
    "        elif word in new_list:\n",
    "            \"to check if the word is already in the new list\"\n",
    "            \"to avoid duplication in new_list\"\n",
    "            pass\n",
    "        \n",
    "        else:\n",
    "            \"if not duplicate and not pallindrome, then check for reverse\"\n",
    "            if word[::-1] in new_list:\n",
    "                \"if reverse already in new_list, then pass it\"\n",
    "                pass\n",
    "            \n",
    "            elif word[::-1] in words:\n",
    "                \"if reverse not in new_list, but in original list, then add word to new_list\"\n",
    "                new_list.append(word)\n",
    "            else:\n",
    "                pass\n",
    "                \n",
    "                \n",
    "    return (new_list)\n",
    "\n",
    "print(find_reversals(['art', 'rat', 'radar', 'scam', 'tar', 'vista']))\n",
    "# print(find_reversals(['abut', 'ados', 'agas', 'am', 'ma', 'saga', 'tuba']))"
   ]
  },
  {
   "cell_type": "markdown",
   "metadata": {},
   "source": [
    "## Rewrite - there is only one branch where anything happens"
   ]
  },
  {
   "cell_type": "code",
   "execution_count": null,
   "metadata": {},
   "outputs": [],
   "source": [
    "from typing import List\n",
    "\n",
    "#empty lists to use later\n",
    "new_list=[]\n",
    "\n",
    "\n",
    "def find_reversals(words: List[str]) -> List[str]:\n",
    "    \"Look for reversals in a list\"\n",
    "    \n",
    "    for word in words:\n",
    "        word = word.lower()\n",
    "        \n",
    "        if word != word[::-1] and word not in new_list:\n",
    "            if not word[::-1] in new_list and word[::-1] in words:\n",
    "                new_list.append(word)\n",
    "                \n",
    "    return (new_list)\n",
    "\n",
    "print(find_reversals(['art', 'rat', 'Radar', 'scam', 'tar', 'vista']))\n",
    "print(find_reversals(['abut', 'ados', 'agas', 'am', 'ma', 'saga', 'tuba']))"
   ]
  },
  {
   "cell_type": "markdown",
   "metadata": {},
   "source": [
    "## Fix"
   ]
  },
  {
   "cell_type": "code",
   "execution_count": null,
   "metadata": {},
   "outputs": [],
   "source": [
    "from typing import List\n",
    "\n",
    "def find_reversals(words: List[str]) -> List[str]:\n",
    "    \"Look for reversals in a list\"\n",
    "    \n",
    "    new_list=[]     # Move this\n",
    "\n",
    "    for word in words:\n",
    "        word = word.lower()\n",
    "        \n",
    "        if word != word[::-1] and word not in new_list:\n",
    "            if not word[::-1] in new_list and word[::-1] in words:\n",
    "                new_list.append(word)\n",
    "                \n",
    "    return (new_list)\n",
    "\n",
    "print(find_reversals(['art', 'rat', 'Radar', 'scam', 'tar', 'vista']))\n",
    "print(find_reversals(['abut', 'ados', 'agas', 'am', 'ma', 'saga', 'tuba']))\n",
    "test_find_reversals()"
   ]
  },
  {
   "cell_type": "markdown",
   "metadata": {},
   "source": [
    "# New Submission"
   ]
  },
  {
   "cell_type": "code",
   "execution_count": null,
   "metadata": {},
   "outputs": [],
   "source": [
    "from typing import List\n",
    "\n",
    "def find_reversals(lst: List[str]) -> List[str]:\n",
    "    #build list based on conditions\n",
    "    reportlist = []\n",
    "    if len(lst)>=1:\n",
    "        #for loop to iterate list\n",
    "        for word in wordlist:\n",
    "            word = word.lower()\n",
    "            reverse_word = word.lower()[::-1]\n",
    "            #if word and its reverse isn't in list, add to list\n",
    "            if word != reverse_word in wordlist:\n",
    "                reportlist.append(word)\n",
    "    else:                \n",
    "        return reportlist\n",
    "\n",
    "wordlist = ['art', 'Rat', 'radar', 'scam', 'tar', 'vista']\n",
    "print(find_reversals(wordlist))"
   ]
  },
  {
   "cell_type": "markdown",
   "metadata": {},
   "source": [
    "# Left Align The Happy Path\n",
    "## Problem: while we check for errors, code is moving to right\n",
    "## Move the exceptions to the top, and left align the happy path"
   ]
  },
  {
   "cell_type": "code",
   "execution_count": null,
   "metadata": {},
   "outputs": [],
   "source": [
    "from typing import List\n",
    "\n",
    "def find_reversals(lst: List[str]) -> List[str]:\n",
    "    \"Look for reversals in a list\"\n",
    "    \n",
    "    if len(lst) < 2:\n",
    "        return []\n",
    "    \n",
    "    reportlist = []\n",
    "    for word in wordlist:\n",
    "        word = word.lower()\n",
    "        reverse_word = word.lower()[::-1]\n",
    "        \n",
    "        #if word and its reverse isn't in list, add to list\n",
    "        if word != reverse_word in wordlist:\n",
    "            reportlist.append(word)\n",
    "\n",
    "\n",
    "wordlist = ['art', 'Rat', 'radar', 'scam', 'tar', 'vista']\n",
    "print(find_reversals(wordlist))"
   ]
  },
  {
   "cell_type": "markdown",
   "metadata": {},
   "source": [
    "## This still has problems on line 15"
   ]
  },
  {
   "cell_type": "markdown",
   "metadata": {},
   "source": [
    "## Rewrite"
   ]
  },
  {
   "cell_type": "code",
   "execution_count": null,
   "metadata": {},
   "outputs": [],
   "source": [
    "from typing import List\n",
    "\n",
    "def find_reversals(words: List[str]) -> List[str]:\n",
    "    \"Look for reversals in a list\" \n",
    "    \n",
    "    # Initialize results\n",
    "    results = []\n",
    "\n",
    "    # Look for reversals\n",
    "    for word in words:\n",
    "        word = word.lower()\n",
    "        rev = word[::-1]\n",
    "        if (word < rev) and (rev in words) and (word not in results):\n",
    "            results.append(word)\n",
    "\n",
    "    # Return with results\n",
    "    return results\n",
    "\n",
    "print(find_reversals(['rat', 'b', 'radar', 'tar']))\n",
    "print(find_reversals(['art', 'rat', 'Radar', 'scam', 'tar', 'vista']))\n",
    "print(find_reversals(['abut', 'ados', 'agas', 'am', 'ma', 'saga', 'tuba']))\n",
    "test_find_reversals()"
   ]
  },
  {
   "cell_type": "markdown",
   "metadata": {},
   "source": [
    "# Try this for our file of words, words.txt"
   ]
  },
  {
   "cell_type": "markdown",
   "metadata": {},
   "source": [
    "## Absolute and Relative Paths\n",
    "### Where am I keeping my copy of the word list?"
   ]
  },
  {
   "cell_type": "code",
   "execution_count": null,
   "metadata": {},
   "outputs": [],
   "source": [
    "! ls ..  "
   ]
  },
  {
   "cell_type": "markdown",
   "metadata": {},
   "source": [
    "## I keep it in the directory above my current working directory"
   ]
  },
  {
   "cell_type": "code",
   "execution_count": null,
   "metadata": {},
   "outputs": [],
   "source": [
    "! pwd"
   ]
  },
  {
   "cell_type": "markdown",
   "metadata": {},
   "source": [
    "```python\n",
    "/Users/jparker/Documents/courses/Python/Programs/day6\n",
    "```"
   ]
  },
  {
   "cell_type": "markdown",
   "metadata": {},
   "source": [
    "## Proper names for that file include\n",
    "\n",
    "### ../words.txt\n",
    "#### A *Relative* path - relative to my current working directory\n",
    "### Other relative paths subdir/file or ../../otherdirectory/stillmore/file\n",
    "\n",
    "### /Users/jparker/Documents/courses/Python/Programs/words.txt\n",
    "#### An *Absolute* path - one I can use from any working directory"
   ]
  },
  {
   "cell_type": "markdown",
   "metadata": {},
   "source": [
    "## My solution for final problem using Lists"
   ]
  },
  {
   "cell_type": "code",
   "execution_count": 1,
   "metadata": {},
   "outputs": [
    {
     "name": "stdout",
     "output_type": "stream",
     "text": [
      "113809\n",
      "397\n",
      "abut\n",
      "ad\n",
      "ados\n",
      "agar\n",
      "agas\n",
      "agenes\n",
      "ah\n",
      "aider\n",
      "airts\n",
      "ajar\n",
      "alif\n",
      "am\n",
      "amen\n",
      "amis\n",
      "an\n",
      "anger\n",
      "animal\n",
      "animes\n",
      "anon\n",
      "ante\n",
      "are\n",
      "ares\n",
      "aril\n",
      "arris\n",
      "arum\n",
      "at\n",
      "ate\n",
      "ates\n",
      "auks\n",
      "avid\n",
      "avo\n",
      "ay\n",
      "bad\n",
      "bag\n",
      "bal\n",
      "bals\n",
      "ban\n",
      "bard\n",
      "bas\n",
      "bat\n",
      "bats\n",
      "bed\n",
      "ben\n",
      "bid\n",
      "big\n",
      "bin\n",
      "bins\n",
      "bird\n",
      "bis\n",
      "bog\n",
      "bos\n",
      "bots\n",
      "bows\n",
      "brad\n",
      "brag\n",
      "bud\n",
      "bun\n",
      "buns\n",
      "bur\n",
      "burd\n",
      "burg\n",
      "bus\n",
      "but\n",
      "buts\n",
      "cam\n",
      "cap\n",
      "cares\n",
      "cod\n",
      "cram\n",
      "cud\n",
      "dag\n",
      "dah\n",
      "dahs\n",
      "dam\n",
      "dap\n",
      "dart\n",
      "daw\n",
      "debut\n",
      "decal\n",
      "dedal\n",
      "deem\n",
      "deep\n",
      "deeps\n",
      "deer\n",
      "dees\n",
      "defer\n",
      "degami\n",
      "deifier\n",
      "deil\n",
      "deke\n",
      "del\n",
      "delf\n",
      "deliver\n",
      "dels\n",
      "demit\n",
      "denier\n",
      "denies\n",
      "denim\n",
      "dens\n",
      "depot\n",
      "depots\n",
      "derat\n",
      "derats\n",
      "dessert\n",
      "desserts\n",
      "devas\n",
      "devil\n",
      "dew\n",
      "dewans\n",
      "dexes\n",
      "dial\n",
      "dialer\n",
      "diaper\n",
      "dig\n",
      "dim\n",
      "dinar\n",
      "diols\n",
      "dirts\n",
      "do\n",
      "dog\n",
      "dom\n",
      "don\n",
      "doom\n",
      "door\n",
      "dor\n",
      "dormin\n",
      "dorp\n",
      "dos\n",
      "dot\n",
      "drail\n",
      "draw\n",
      "drawer\n",
      "draws\n",
      "dray\n",
      "dual\n",
      "ducs\n",
      "duel\n",
      "duo\n",
      "dup\n",
      "dups\n",
      "eat\n",
      "edile\n",
      "edit\n",
      "eel\n",
      "eh\n",
      "elides\n",
      "em\n",
      "emes\n",
      "emir\n",
      "emit\n",
      "emits\n",
      "enol\n",
      "er\n",
      "ergo\n",
      "eros\n",
      "ervil\n",
      "etas\n",
      "even\n",
      "evil\n",
      "eviler\n",
      "fer\n",
      "fires\n",
      "flog\n",
      "flow\n",
      "fool\n",
      "gal\n",
      "gals\n",
      "gam\n",
      "gan\n",
      "gar\n",
      "gas\n",
      "gat\n",
      "gats\n",
      "gel\n",
      "gelder\n",
      "get\n",
      "gip\n",
      "girt\n",
      "gnar\n",
      "gnat\n",
      "gnats\n",
      "gnaws\n",
      "gnus\n",
      "got\n",
      "gul\n",
      "gulp\n",
      "guls\n",
      "gum\n",
      "gums\n",
      "guns\n",
      "gut\n",
      "habus\n",
      "hahs\n",
      "hales\n",
      "hap\n",
      "hay\n",
      "hey\n",
      "ho\n",
      "hoop\n",
      "hop\n",
      "is\n",
      "it\n",
      "jar\n",
      "kay\n",
      "keel\n",
      "keels\n",
      "keep\n",
      "keets\n",
      "kips\n",
      "knaps\n",
      "knar\n",
      "knits\n",
      "lager\n",
      "lair\n",
      "lap\n",
      "lares\n",
      "larum\n",
      "las\n",
      "leer\n",
      "lees\n",
      "leets\n",
      "leper\n",
      "lever\n",
      "levins\n",
      "liar\n",
      "lin\n",
      "lion\n",
      "lit\n",
      "lobo\n",
      "loom\n",
      "loons\n",
      "loop\n",
      "loops\n",
      "loot\n",
      "looter\n",
      "loots\n",
      "lop\n",
      "lotos\n",
      "macs\n",
      "maes\n",
      "map\n",
      "mar\n",
      "marcs\n",
      "mart\n",
      "mat\n",
      "maws\n",
      "may\n",
      "meet\n",
      "meter\n",
      "mho\n",
      "mils\n",
      "mir\n",
      "mis\n",
      "mon\n",
      "moor\n",
      "moot\n",
      "mot\n",
      "mures\n",
      "mus\n",
      "muts\n",
      "namer\n",
      "nap\n",
      "naps\n",
      "neep\n",
      "net\n",
      "neves\n",
      "new\n",
      "nip\n",
      "nips\n",
      "nit\n",
      "no\n",
      "nolos\n",
      "nos\n",
      "not\n",
      "notes\n",
      "now\n",
      "nu\n",
      "nus\n",
      "nut\n",
      "nuts\n",
      "oat\n",
      "oohs\n",
      "oot\n",
      "os\n",
      "ow\n",
      "pacer\n",
      "pals\n",
      "pans\n",
      "par\n",
      "part\n",
      "parts\n",
      "pas\n",
      "pat\n",
      "paw\n",
      "paws\n",
      "pay\n",
      "peels\n",
      "pees\n",
      "per\n",
      "pets\n",
      "pins\n",
      "pis\n",
      "pit\n",
      "pols\n",
      "pools\n",
      "poons\n",
      "port\n",
      "ports\n",
      "pot\n",
      "pots\n",
      "pow\n",
      "pows\n",
      "prat\n",
      "pupils\n",
      "puris\n",
      "pus\n",
      "put\n",
      "raps\n",
      "rat\n",
      "rats\n",
      "raw\n",
      "ray\n",
      "rebus\n",
      "rebut\n",
      "recaps\n",
      "redes\n",
      "redips\n",
      "redraw\n",
      "redrawer\n",
      "rees\n",
      "reflet\n",
      "reflow\n",
      "reknit\n",
      "reknits\n",
      "relit\n",
      "remeet\n",
      "remit\n",
      "rennet\n",
      "repins\n",
      "res\n",
      "rot\n",
      "sallets\n",
      "saps\n",
      "sat\n",
      "saw\n",
      "scares\n",
      "secret\n",
      "seeks\n",
      "selahs\n",
      "sirs\n",
      "sit\n",
      "six\n",
      "skeets\n",
      "skips\n",
      "sleeps\n",
      "sleets\n",
      "slit\n",
      "sloops\n",
      "smart\n",
      "smuts\n",
      "snaps\n",
      "snaw\n",
      "snaws\n",
      "snips\n",
      "snit\n",
      "snoops\n",
      "snoot\n",
      "snot\n",
      "snow\n",
      "sow\n",
      "spat\n",
      "spay\n",
      "spirt\n",
      "spirts\n",
      "spit\n",
      "sports\n",
      "spot\n",
      "spots\n",
      "sprat\n",
      "sprits\n",
      "staw\n",
      "stew\n",
      "stow\n",
      "stows\n",
      "straw\n",
      "strow\n",
      "struts\n",
      "swat\n",
      "sway\n",
      "swot\n",
      "tav\n",
      "taw\n",
      "tew\n",
      "tort\n",
      "tow\n",
      "trow\n",
      "way\n"
     ]
    }
   ],
   "source": [
    "from typing import List\n",
    "\n",
    "def find_reversals(words: List[str]) -> List[str]:\n",
    "    \"Look for reversals in a list\" \n",
    "\n",
    "    # Initialize results\n",
    "    results = []\n",
    "\n",
    "    # Look for reversals\n",
    "    for word in words:\n",
    "        rev = word[::-1]\n",
    "        if (word < rev) and (rev in words) and not (rev in results):\n",
    "            results.append(word)\n",
    "\n",
    "    # Return with results\n",
    "    return results\n",
    "\n",
    "\n",
    "def read_file(filename):\n",
    "    res = []\n",
    "    with open(filename, 'r') as words:\n",
    "        for word in words:\n",
    "            res.append(word.lower().strip())\n",
    "\n",
    "    return res\n",
    "\n",
    "try:\n",
    "    lst  = read_file('../words.txt')\n",
    "    print(len(lst))\n",
    "    revs = find_reversals(lst)\n",
    "\n",
    "except FileNotFoundError:\n",
    "    print(\"Could not find\", filename)\n",
    "except:\n",
    "    print(\"Could not open\", filename)\n",
    "\n",
    "print(len(revs))\n",
    "\n",
    "for word in revs:\n",
    "    print(word)"
   ]
  },
  {
   "cell_type": "markdown",
   "metadata": {},
   "source": [
    "# Who knows where the time goes?\n",
    "## https://www.youtube.com/watch?v=5oBMDcLf6WA"
   ]
  },
  {
   "cell_type": "code",
   "execution_count": 2,
   "metadata": {},
   "outputs": [
    {
     "name": "stdout",
     "output_type": "stream",
     "text": [
      "113809\n",
      "         401 function calls in 78.746 seconds\n",
      "\n",
      "   Ordered by: standard name\n",
      "\n",
      "   ncalls  tottime  percall  cumtime  percall filename:lineno(function)\n",
      "        1   78.745   78.745   78.745   78.745 <ipython-input-1-32a4c5c9a190>:3(find_reversals)\n",
      "        1    0.000    0.000   78.746   78.746 <string>:1(<module>)\n",
      "        1    0.000    0.000   78.746   78.746 {built-in method builtins.exec}\n",
      "      397    0.000    0.000    0.000    0.000 {method 'append' of 'list' objects}\n",
      "        1    0.000    0.000    0.000    0.000 {method 'disable' of '_lsprof.Profiler' objects}\n",
      "\n",
      "\n",
      "397\n",
      "abut\n",
      "ad\n",
      "ados\n",
      "agar\n",
      "agas\n",
      "agenes\n",
      "ah\n",
      "aider\n",
      "airts\n",
      "ajar\n"
     ]
    }
   ],
   "source": [
    "import cProfile\n",
    "\n",
    "try:\n",
    "    lst  = read_file('../words.txt')\n",
    "    print(len(lst))\n",
    "\n",
    "    cProfile.run('revs = find_reversals(lst)')\n",
    "\n",
    "except FileNotFoundError:\n",
    "    print(\"Could not find\", filename)\n",
    "except:\n",
    "    print(\"Could not open\", filename)\n",
    "\n",
    "print(len(revs))\n",
    "\n",
    "for word in revs[:10]:\n",
    "    print(word)"
   ]
  },
  {
   "cell_type": "markdown",
   "metadata": {},
   "source": [
    "```python\n",
    "113809\n",
    "         401 function calls in 99.224 seconds\n",
    "\n",
    "   Ordered by: standard name\n",
    "\n",
    "   ncalls  tottime  percall  cumtime  percall filename:lineno(function)\n",
    "        1   99.223   99.223   99.224   99.224 <ipython-input-31-32a4c5c9a190>:3(find_reversals)\n",
    "        1    0.001    0.001   99.224   99.224 <string>:1(<module>)\n",
    "        1    0.000    0.000   99.224   99.224 {built-in method builtins.exec}\n",
    "      397    0.000    0.000    0.000    0.000 {method 'append' of 'list' objects}\n",
    "        1    0.000    0.000    0.000    0.000 {method 'disable' of '_lsprof.Profiler' objects}\n",
    "```"
   ]
  },
  {
   "cell_type": "markdown",
   "metadata": {},
   "source": [
    "### To recap, almost all the time is spent in find_reversals"
   ]
  },
  {
   "cell_type": "markdown",
   "metadata": {},
   "source": [
    "# Timing a command\n",
    "## Windows users can try this\n",
    "\n",
    "```python\n",
    "echo %time%\n",
    "python reversals.py words.txt\n",
    "echo %time%\n",
    "```\n",
    "### and subtract"
   ]
  },
  {
   "cell_type": "markdown",
   "metadata": {},
   "source": [
    "## Using the Unix time command to time operations"
   ]
  },
  {
   "cell_type": "code",
   "execution_count": 3,
   "metadata": {},
   "outputs": [
    {
     "name": "stdout",
     "output_type": "stream",
     "text": [
      "python: can't open file '../assignment5/reversals.py': [Errno 2] No such file or directory\r\n",
      "\r\n",
      "real\t0m0.014s\r\n",
      "user\t0m0.007s\r\n",
      "sys\t0m0.007s\r\n"
     ]
    }
   ],
   "source": [
    "! time python ../assignment5/reversals.py ../words.txt "
   ]
  },
  {
   "cell_type": "markdown",
   "metadata": {},
   "source": [
    "## % time python reversals.py ../words.txt \n",
    "\n",
    "- real\t1m30.509s\n",
    "- user\t1m30.109s\n",
    "- sys\t0m0.108s\n",
    "\n",
    "## % time python reversalsShortlist.py ../words.txt \n",
    "\n",
    "- real\t1m22.061s\n",
    "- user\t1m20.024s\n",
    "- sys\t0m0.141s\n",
    "\n",
    "\n",
    "## % time python reversalDict.py ../words.txt \n",
    "\n",
    "- real\t0m0.143s\n",
    "- user\t0m0.129s\n",
    "- sys\t0m0.012s"
   ]
  },
  {
   "cell_type": "markdown",
   "metadata": {},
   "source": [
    "# Dictionaries\n",
    "## Mapping between *keys* and *values*\n",
    "### How many times have we seen 'aa'?"
   ]
  },
  {
   "cell_type": "code",
   "execution_count": 4,
   "metadata": {},
   "outputs": [
    {
     "name": "stdout",
     "output_type": "stream",
     "text": [
      "{'aa': 1}\n"
     ]
    }
   ],
   "source": [
    "words = {}\n",
    "words['aa'] = 1\n",
    "print(words)"
   ]
  },
  {
   "cell_type": "markdown",
   "metadata": {},
   "source": [
    "## Can test if a key is in the dictionary"
   ]
  },
  {
   "cell_type": "code",
   "execution_count": 5,
   "metadata": {},
   "outputs": [
    {
     "name": "stdout",
     "output_type": "stream",
     "text": [
      "Found it\n",
      "1\n",
      "aa\n"
     ]
    }
   ],
   "source": [
    "if ('aa' in words):\n",
    "    print(\"Found it\")\n",
    "    print(words['aa'])\n",
    "    \n",
    "for word in words:\n",
    "    print(word)"
   ]
  },
  {
   "cell_type": "markdown",
   "metadata": {},
   "source": [
    "## New Example"
   ]
  },
  {
   "cell_type": "code",
   "execution_count": 6,
   "metadata": {},
   "outputs": [
    {
     "name": "stdout",
     "output_type": "stream",
     "text": [
      "{}\n",
      "{'one': 'uno'}\n"
     ]
    }
   ],
   "source": [
    "eng2sp = dict()\n",
    "print(eng2sp)\n",
    "eng2sp['one'] = 'uno'\n",
    "print(eng2sp)"
   ]
  },
  {
   "cell_type": "markdown",
   "metadata": {},
   "source": [
    "## Can initialize with multiple entries"
   ]
  },
  {
   "cell_type": "code",
   "execution_count": 7,
   "metadata": {},
   "outputs": [
    {
     "name": "stdout",
     "output_type": "stream",
     "text": [
      "{'one': 'uno', 'two': 'dos', 'three': 'tres'}\n"
     ]
    }
   ],
   "source": [
    "eng2sp = {'one': 'uno', 'two' : 'dos', 'three': 'tres'}\n",
    "print(eng2sp)"
   ]
  },
  {
   "cell_type": "markdown",
   "metadata": {},
   "source": [
    "### What will happen?"
   ]
  },
  {
   "cell_type": "code",
   "execution_count": 8,
   "metadata": {},
   "outputs": [
    {
     "name": "stdout",
     "output_type": "stream",
     "text": [
      "dos\n"
     ]
    },
    {
     "ename": "KeyError",
     "evalue": "'four'",
     "output_type": "error",
     "traceback": [
      "\u001b[0;31m---------------------------------------------------------------------------\u001b[0m",
      "\u001b[0;31mKeyError\u001b[0m                                  Traceback (most recent call last)",
      "\u001b[0;32m<ipython-input-8-23894468f5e4>\u001b[0m in \u001b[0;36m<module>\u001b[0;34m\u001b[0m\n\u001b[1;32m      1\u001b[0m \u001b[0mprint\u001b[0m\u001b[0;34m(\u001b[0m\u001b[0meng2sp\u001b[0m\u001b[0;34m[\u001b[0m\u001b[0;34m'two'\u001b[0m\u001b[0;34m]\u001b[0m\u001b[0;34m)\u001b[0m\u001b[0;34m\u001b[0m\u001b[0;34m\u001b[0m\u001b[0m\n\u001b[0;32m----> 2\u001b[0;31m \u001b[0mprint\u001b[0m\u001b[0;34m(\u001b[0m\u001b[0meng2sp\u001b[0m\u001b[0;34m[\u001b[0m\u001b[0;34m'four'\u001b[0m\u001b[0;34m]\u001b[0m\u001b[0;34m)\u001b[0m\u001b[0;34m\u001b[0m\u001b[0;34m\u001b[0m\u001b[0m\n\u001b[0m",
      "\u001b[0;31mKeyError\u001b[0m: 'four'"
     ]
    }
   ],
   "source": [
    "print(eng2sp['two'])\n",
    "print(eng2sp['four'])"
   ]
  },
  {
   "cell_type": "code",
   "execution_count": 9,
   "metadata": {},
   "outputs": [
    {
     "data": {
      "text/plain": [
       "3"
      ]
     },
     "execution_count": 9,
     "metadata": {},
     "output_type": "execute_result"
    }
   ],
   "source": [
    "len(eng2sp)"
   ]
  },
  {
   "cell_type": "markdown",
   "metadata": {},
   "source": [
    "## Can test if key is in dictionary"
   ]
  },
  {
   "cell_type": "code",
   "execution_count": 10,
   "metadata": {},
   "outputs": [
    {
     "data": {
      "text/plain": [
       "True"
      ]
     },
     "execution_count": 10,
     "metadata": {},
     "output_type": "execute_result"
    }
   ],
   "source": [
    "'one' in eng2sp"
   ]
  },
  {
   "cell_type": "markdown",
   "metadata": {},
   "source": [
    "## Not optimized to test for values"
   ]
  },
  {
   "cell_type": "code",
   "execution_count": 11,
   "metadata": {},
   "outputs": [
    {
     "data": {
      "text/plain": [
       "False"
      ]
     },
     "execution_count": 11,
     "metadata": {},
     "output_type": "execute_result"
    }
   ],
   "source": [
    "'uno' in eng2sp"
   ]
  },
  {
   "cell_type": "code",
   "execution_count": 12,
   "metadata": {},
   "outputs": [
    {
     "data": {
      "text/plain": [
       "True"
      ]
     },
     "execution_count": 12,
     "metadata": {},
     "output_type": "execute_result"
    }
   ],
   "source": [
    "'uno' in eng2sp.values()"
   ]
  },
  {
   "cell_type": "markdown",
   "metadata": {},
   "source": [
    "## Pretty Print"
   ]
  },
  {
   "cell_type": "code",
   "execution_count": 13,
   "metadata": {},
   "outputs": [
    {
     "name": "stdout",
     "output_type": "stream",
     "text": [
      "{'one': 'uno', 'two': 'dos', 'three': 'tres'}\n"
     ]
    }
   ],
   "source": [
    "print(eng2sp)"
   ]
  },
  {
   "cell_type": "code",
   "execution_count": 14,
   "metadata": {},
   "outputs": [
    {
     "name": "stdout",
     "output_type": "stream",
     "text": [
      "one uno\n",
      "two dos\n",
      "three tres\n"
     ]
    }
   ],
   "source": [
    "def printDict(d: dict):\n",
    "    for w in d:\n",
    "        print(w, d[w])\n",
    "\n",
    "printDict(eng2sp)"
   ]
  },
  {
   "cell_type": "markdown",
   "metadata": {},
   "source": [
    "## Value can be a list"
   ]
  },
  {
   "cell_type": "code",
   "execution_count": 15,
   "metadata": {},
   "outputs": [
    {
     "name": "stdout",
     "output_type": "stream",
     "text": [
      "{'one': [1, 2, 3]}\n"
     ]
    }
   ],
   "source": [
    "d = {}\n",
    "d['one'] = [1, 2, 3]\n",
    "print(d)"
   ]
  },
  {
   "cell_type": "markdown",
   "metadata": {},
   "source": [
    "## Try using list as key"
   ]
  },
  {
   "cell_type": "code",
   "execution_count": 16,
   "metadata": {},
   "outputs": [
    {
     "ename": "TypeError",
     "evalue": "unhashable type: 'list'",
     "output_type": "error",
     "traceback": [
      "\u001b[0;31m---------------------------------------------------------------------------\u001b[0m",
      "\u001b[0;31mTypeError\u001b[0m                                 Traceback (most recent call last)",
      "\u001b[0;32m<ipython-input-16-bc8330708c64>\u001b[0m in \u001b[0;36m<module>\u001b[0;34m\u001b[0m\n\u001b[1;32m      1\u001b[0m \u001b[0mlst\u001b[0m \u001b[0;34m=\u001b[0m \u001b[0;34m[\u001b[0m\u001b[0;36m4\u001b[0m\u001b[0;34m,\u001b[0m \u001b[0;36m5\u001b[0m\u001b[0;34m,\u001b[0m \u001b[0;36m6\u001b[0m\u001b[0;34m]\u001b[0m\u001b[0;34m\u001b[0m\u001b[0;34m\u001b[0m\u001b[0m\n\u001b[0;32m----> 2\u001b[0;31m \u001b[0md\u001b[0m\u001b[0;34m[\u001b[0m\u001b[0mlst\u001b[0m\u001b[0;34m]\u001b[0m \u001b[0;34m=\u001b[0m \u001b[0;34m'two'\u001b[0m\u001b[0;34m\u001b[0m\u001b[0;34m\u001b[0m\u001b[0m\n\u001b[0m",
      "\u001b[0;31mTypeError\u001b[0m: unhashable type: 'list'"
     ]
    }
   ],
   "source": [
    "lst = [4, 5, 6]\n",
    "d[lst] = 'two'"
   ]
  },
  {
   "cell_type": "markdown",
   "metadata": {},
   "source": [
    "# Application"
   ]
  },
  {
   "cell_type": "code",
   "execution_count": 17,
   "metadata": {},
   "outputs": [
    {
     "name": "stdout",
     "output_type": "stream",
     "text": [
      "{'A': 1, 'l': 2, ' ': 1, 'a': 2, 'b': 1, 'o': 1, 'r': 1, 'd': 1, '!': 1}\n"
     ]
    }
   ],
   "source": [
    "def countChars(text: str) -> dict:\n",
    "    counts = {}\n",
    "\n",
    "    for ch in text:\n",
    "        if (ch in counts):      # LBYL\n",
    "            counts[ch] = counts[ch] + 1\n",
    "        else:\n",
    "            counts[ch] = 1\n",
    "    return counts\n",
    "\n",
    "print(countChars('All aboard!'))"
   ]
  },
  {
   "cell_type": "markdown",
   "metadata": {},
   "source": [
    "# Return to the problem of finding reversals"
   ]
  },
  {
   "cell_type": "code",
   "execution_count": 19,
   "metadata": {},
   "outputs": [
    {
     "name": "stdout",
     "output_type": "stream",
     "text": [
      "113809\n",
      "397\n",
      "abut tuba\n",
      "ad da\n",
      "ados soda\n",
      "agar raga\n",
      "agas saga\n",
      "agenes senega\n",
      "ah ha\n",
      "aider redia\n",
      "airts stria\n",
      "ajar raja\n"
     ]
    }
   ],
   "source": [
    "# reversalDict.py \n",
    "#\n",
    "# Look for reversals in a file of words using a dictionary to store words\n",
    "# Usage:\n",
    "#      % python reversalDict.py words.txt\n",
    "#\n",
    "# Jeff Parker, July, 2018\n",
    "\n",
    "# Look for reversals in a dict\n",
    "def find_reversals(words: str) -> list:\n",
    "\n",
    "    # Initialize results\n",
    "    results = []\n",
    "\n",
    "    # Look for reversals\n",
    "    for word in words:\n",
    "        rev = word[::-1]\n",
    "        if (rev > word):\n",
    "            if (rev in words):\n",
    "                results.append(word)\n",
    "\n",
    "    # Return with results\n",
    "    return sorted(results)\n",
    "\n",
    "# Create a dictionary with all the words \n",
    "def read_dict(filename):\n",
    "    res = {}\n",
    "    with open(filename, 'r') as words:\n",
    "        for word in words:\n",
    "            word = word.lower().strip()\n",
    "            res[word] = None\n",
    "            \n",
    "    return res\n",
    "\n",
    "# Try to read the file\n",
    "try:\n",
    "    d  = read_dict('../words.txt')\n",
    "    \n",
    "    # A little error checking \n",
    "    print(len(d))\n",
    "\n",
    "    revs = find_reversals(d)\n",
    "    \n",
    "    # How many did we find?\n",
    "    print(len(revs))\n",
    "\n",
    "    # Display the first 10\n",
    "    for word in revs[:10]:\n",
    "        print(word, word[::-1])\n",
    "\n",
    "except FileNotFoundError:\n",
    "    print(\"Could not find\", 'words.txt')\n",
    "except:\n",
    "    print(\"Could not open\", 'words.txt')"
   ]
  },
  {
   "cell_type": "markdown",
   "metadata": {},
   "source": [
    "## Lesson: We made very small changes\n",
    "### Replaced list with a dictionary\n",
    "### Changes are shown in Lecture Notes\n",
    "## Program ran much faster - well under a second\n",
    "## The right data structure can make a huge difference"
   ]
  },
  {
   "cell_type": "markdown",
   "metadata": {},
   "source": [
    "# How do we implement Dictionaries?\n",
    "## Hashing - look at Lecture Notes"
   ]
  },
  {
   "cell_type": "markdown",
   "metadata": {},
   "source": [
    "# Homework: Matching Parentheses"
   ]
  },
  {
   "cell_type": "markdown",
   "metadata": {},
   "source": [
    "## You will be asked to match parens: "
   ]
  },
  {
   "cell_type": "code",
   "execution_count": null,
   "metadata": {},
   "outputs": [],
   "source": [
    "#  is_valid_parens('{()[{}]}') should return True\n",
    "#  is_valid_parens('{()[{}}')  should return False\n",
    "#\n",
    "#\n",
    "def is_valid_parens(s: str) -> bool:\n",
    "    pass"
   ]
  },
  {
   "cell_type": "markdown",
   "metadata": {},
   "source": [
    "## Use a Stack"
   ]
  },
  {
   "cell_type": "code",
   "execution_count": null,
   "metadata": {},
   "outputs": [],
   "source": [
    "# Walk through example '{()[{}]}'\n",
    "stack = []\n",
    "s = '{()[{}]}'\n",
    "\n",
    "ch = '{'\n",
    "stack.append(ch)    # Push\n",
    "ch = '('\n",
    "stack.append(ch)    # Push\n",
    "print(stack)\n",
    "\n",
    "ch = ')'\n",
    "item = stack.pop()   # Remove the last thing we pushed\n",
    "print(stack)\n",
    "\n",
    "# Are item and ch a pair? \n",
    "# If so, continue\n",
    "# If not, we don't have a match - return False\n",
    "\n",
    "# Continue processing the string s "
   ]
  },
  {
   "cell_type": "markdown",
   "metadata": {},
   "source": [
    "## What can go wrong?\n",
    "### 1) I see a closing paren, and it isn't matched by open paren on stack\n",
    "### 2) I try to pop(), and there is nothing left on stack\n",
    "### 3) When the string is done, there are still open parens on the stack"
   ]
  },
  {
   "cell_type": "markdown",
   "metadata": {},
   "source": [
    "## How to guard against popping empty stack?  LBYL, EAFP"
   ]
  },
  {
   "cell_type": "markdown",
   "metadata": {},
   "source": [
    "# An example of a runtime error: Dictionary update"
   ]
  },
  {
   "cell_type": "code",
   "execution_count": null,
   "metadata": {},
   "outputs": [],
   "source": [
    "d = {}\n",
    "print(d)\n",
    "\n",
    "# Danger, Will Robinson!\n",
    "d['a'] = d['a'] + 1\n",
    "print(d)"
   ]
  },
  {
   "cell_type": "markdown",
   "metadata": {},
   "source": [
    "# LBYL Dictionary update\n",
    "## Look Before You Leap"
   ]
  },
  {
   "cell_type": "code",
   "execution_count": null,
   "metadata": {},
   "outputs": [],
   "source": [
    "d = {}\n",
    "\n",
    "# Increment count using Look Before You Leap (LBYL)\n",
    "# Avoids causing KeyError\n",
    "def record(ch, counts):\n",
    "    if (ch in counts):\n",
    "        counts[ch] = counts[ch] + 1\n",
    "    else:\n",
    "        counts[ch] = 1\n",
    "        \n",
    "print(d)\n",
    "record('a', d)\n",
    "print(d)"
   ]
  },
  {
   "cell_type": "markdown",
   "metadata": {},
   "source": [
    "# EAFP 1: Use exceptions for Dictionary update\n",
    "## Easier to Ask Forgiveness than Permission"
   ]
  },
  {
   "cell_type": "code",
   "execution_count": null,
   "metadata": {},
   "outputs": [],
   "source": [
    "d = {}\n",
    "\n",
    "# EAFP Easier to Ask Forgiveness than Permission\n",
    "def record(ch, counts):\n",
    "    try:\n",
    "        counts[ch] = counts[ch] + 1\n",
    "    except KeyError:\n",
    "        print(\"\\tOh dear!\")   # This violates Parker's Prohibition for effect\n",
    "        counts[ch] = 1\n",
    "\n",
    "   \n",
    "print(d)\n",
    "record('a', d)\n",
    "print(d)"
   ]
  },
  {
   "cell_type": "markdown",
   "metadata": {},
   "source": [
    "# EFAP 2: Use defaultdict"
   ]
  },
  {
   "cell_type": "code",
   "execution_count": null,
   "metadata": {},
   "outputs": [],
   "source": [
    "from collections import defaultdict\n",
    "\n",
    "d = defaultdict(int)           # Can create other types of defaultdict\n",
    "\n",
    "# Default Dict takes care of initializing to default value\n",
    "def record(ch, counts):\n",
    "    counts[ch] = counts[ch] + 1\n",
    " \n",
    "print(d)\n",
    "record('a', d)\n",
    "print(d)"
   ]
  },
  {
   "cell_type": "markdown",
   "metadata": {},
   "source": [
    "# Guessing Game\n",
    "## Introduces Random Numbers and user input"
   ]
  },
  {
   "cell_type": "code",
   "execution_count": null,
   "metadata": {},
   "outputs": [],
   "source": [
    "import random\n",
    "\n",
    "# Initialize random number generator\n",
    "random.seed()\n",
    "\n",
    "# Pick a number between 0 and 100\n",
    "secret = random.randint(1, 99)\n",
    "\n",
    "print(\"Guess my number between 0 and 100!\")\n",
    "\n",
    "count    = 0\n",
    "response = 0\n",
    "\n",
    "while (response != secret):\n",
    "\n",
    "    # Get a number from the user\n",
    "    response = int(input('Guess a number!'))\n",
    "\n",
    "    count = count + 1\n",
    "\n",
    "    # Respond to the user\n",
    "    if (response < secret):\n",
    "        print(\"Too low! Guess again!\")\n",
    "    elif (response > secret):\n",
    "        print(\"Too high! Guess again!\")\n",
    "    else:\n",
    "        print(\"Lucky guess!\")\n",
    "\n",
    "print(\"It took\", count, \"guesses\")"
   ]
  },
  {
   "cell_type": "markdown",
   "metadata": {},
   "source": [
    "# Scope\n",
    "## What happens when we change something in a function?"
   ]
  },
  {
   "cell_type": "code",
   "execution_count": null,
   "metadata": {},
   "outputs": [],
   "source": [
    "i = 1\n",
    "\n",
    "def test(i, s, lst):\n",
    "    print('\\t', i, s, lst)\n",
    "    i = i + 1\n",
    "    s = s[1:]\n",
    "    lst.pop()\n",
    "    print('\\t', i, s, lst)\n",
    "    \n",
    " \n",
    "# Initialize\n",
    "i = 1\n",
    "s = 'hello'\n",
    "lst = ['a', 'b', 'c']\n",
    "print(i, s, lst)\n",
    "\n",
    "# Call the function\n",
    "test(i, s, lst)\n",
    "\n",
    "# See what we have now\n",
    "print(i, s, lst)"
   ]
  },
  {
   "cell_type": "markdown",
   "metadata": {},
   "source": [
    "## In Python, we pass parameters by reference\n",
    "## If your object is immutable, no harm can be done\n",
    "## Lists are mutable\n",
    "## *Moral: be careful with a list*"
   ]
  },
  {
   "cell_type": "markdown",
   "metadata": {},
   "source": [
    "# Deep Copy - Please look at figures in Lecture Notes"
   ]
  },
  {
   "cell_type": "code",
   "execution_count": null,
   "metadata": {},
   "outputs": [],
   "source": [
    "a = [1, 2, 3]\n",
    "print('a =', a)\n",
    "\n",
    "b = a\n",
    "print('b =', b)\n",
    "print()\n",
    "\n",
    "b.pop()\n",
    "print('a =', a)\n",
    "print('b =', b)"
   ]
  },
  {
   "cell_type": "code",
   "execution_count": null,
   "metadata": {},
   "outputs": [],
   "source": [
    "a == b"
   ]
  },
  {
   "cell_type": "code",
   "execution_count": null,
   "metadata": {},
   "outputs": [],
   "source": [
    "a is b"
   ]
  },
  {
   "cell_type": "markdown",
   "metadata": {},
   "source": [
    "## Make a copy of list a"
   ]
  },
  {
   "cell_type": "code",
   "execution_count": null,
   "metadata": {},
   "outputs": [],
   "source": [
    "a = [1, 2, 3]\n",
    "print('a =', a)\n",
    "\n",
    "b = a[:]         # Make a copy of a\n",
    "print('b =', b)\n",
    "print()\n",
    "\n",
    "print(\"a == b\", a == b)\n",
    "print(\"a is b\", a is b)\n",
    "print()\n",
    "\n",
    "b.pop()\n",
    "print('a =', a)\n",
    "print('b =', b)\n",
    "print()\n",
    "\n",
    "print(\"a == b\", a == b)"
   ]
  },
  {
   "cell_type": "markdown",
   "metadata": {},
   "source": [
    "## What about nested lists?"
   ]
  },
  {
   "cell_type": "code",
   "execution_count": null,
   "metadata": {},
   "outputs": [],
   "source": [
    "a = [1, [2, 3]]\n",
    "print('a =', a)\n",
    "b = a[:]         # Make a copy of a\n",
    "print('b =', b)\n",
    "print()\n",
    "\n",
    "print(\"a == b\", a == b)\n",
    "print(\"a is b\", a is b)\n",
    "print()\n",
    "\n",
    "b.pop()\n",
    "print('a =', a)\n",
    "print('b =', b)"
   ]
  },
  {
   "cell_type": "markdown",
   "metadata": {},
   "source": [
    "## Now modify the nested list"
   ]
  },
  {
   "cell_type": "code",
   "execution_count": null,
   "metadata": {},
   "outputs": [],
   "source": [
    "a = [1, [2, 3]]\n",
    "print('a =', a)\n",
    "b = a[:]         # Make a copy of a\n",
    "print('b =', b)\n",
    "print()\n",
    "\n",
    "print(\"a == b\", a == b)\n",
    "print(\"a is b\", a is b)\n",
    "print()\n",
    "\n",
    "b[1].pop()\n",
    "print('a =', a)\n",
    "print('b =', b)"
   ]
  },
  {
   "cell_type": "markdown",
   "metadata": {},
   "source": [
    "# What?!@!"
   ]
  },
  {
   "cell_type": "code",
   "execution_count": null,
   "metadata": {},
   "outputs": [],
   "source": [
    "a = [1, [2, 3]]\n",
    "print('a =', a)\n",
    "b = a[:]         # Make a copy of a\n",
    "print('b =', b)\n",
    "print()\n",
    "\n",
    "print('*****************')\n",
    "print(\"a[1] == b[1]\", a[1] == b[1])\n",
    "print(\"a[1] is b[1]\", a[1] is b[1])\n",
    "print('*****************')\n",
    "print()\n",
    "\n",
    "b[1].pop()\n",
    "print('a =', a)\n",
    "print('b =', b)"
   ]
  },
  {
   "cell_type": "markdown",
   "metadata": {},
   "source": [
    "## Try it again"
   ]
  },
  {
   "cell_type": "code",
   "execution_count": null,
   "metadata": {},
   "outputs": [],
   "source": [
    "a = [1, 'a', 'b', 'c', [2, 3]]\n",
    "print('a =', a)\n",
    "b = a[:]         # Make a copy of a\n",
    "print('b =', b)\n",
    "print()\n",
    "\n",
    "print(\"a[-1] == b[-1]\", a[-1] == b[-1])\n",
    "print(\"a[-1] is b[-1]\", a[-1] is b[-1])\n",
    "print()\n",
    "\n",
    "b[-1].pop()\n",
    "print('a =', a)\n",
    "print('b =', b)"
   ]
  },
  {
   "cell_type": "markdown",
   "metadata": {},
   "source": [
    "# Deep copy"
   ]
  },
  {
   "cell_type": "code",
   "execution_count": null,
   "metadata": {},
   "outputs": [],
   "source": [
    "import copy\n",
    "\n",
    "a = [1, 'a', 'b', 'c', [2, 3]]\n",
    "print('a =', a)\n",
    "b = copy.deepcopy(a)\n",
    "print('b =', b)\n",
    "print()\n",
    "\n",
    "print(\"a[-1] == b[-1]\", a[-1] == b[-1])\n",
    "print(\"a[-1] is b[-1]\", a[-1] is b[-1])\n",
    "print()\n",
    "\n",
    "b[-1].pop()\n",
    "print('a =', a)\n",
    "print('b =', b)"
   ]
  },
  {
   "cell_type": "markdown",
   "metadata": {},
   "source": [
    "## It isn't enough to make a copy\n",
    "## Sometimes you need a deep copy"
   ]
  },
  {
   "cell_type": "markdown",
   "metadata": {},
   "source": [
    "# Sets"
   ]
  },
  {
   "cell_type": "markdown",
   "metadata": {},
   "source": [
    "##  Unordered, mutable collection of unique and immutable objects.\n",
    "\n",
    "## Unique = no duplicate elements\n",
    "## Immutable = no mutable elements (e.g., no lists)"
   ]
  },
  {
   "cell_type": "code",
   "execution_count": null,
   "metadata": {},
   "outputs": [],
   "source": [
    "s = set()\n",
    "print(s)"
   ]
  },
  {
   "cell_type": "code",
   "execution_count": null,
   "metadata": {},
   "outputs": [],
   "source": [
    "s = {'Alpha', 'Beta', 'Alpha'}\n",
    "print(type(s))\n",
    "print(s)"
   ]
  },
  {
   "cell_type": "code",
   "execution_count": null,
   "metadata": {},
   "outputs": [],
   "source": [
    "s = set('She sells sea shells')\n",
    "print(s)"
   ]
  },
  {
   "cell_type": "code",
   "execution_count": null,
   "metadata": {},
   "outputs": [],
   "source": [
    "t = (1, 2, 3, 1)\n",
    "print(t)\n",
    "print(type(t))"
   ]
  },
  {
   "cell_type": "code",
   "execution_count": null,
   "metadata": {},
   "outputs": [],
   "source": [
    "t = (1, 2, 3, 1)\n",
    "s = set(t)\n",
    "print(s)"
   ]
  },
  {
   "cell_type": "code",
   "execution_count": null,
   "metadata": {},
   "outputs": [],
   "source": [
    "s = set([1, 2, 3], [4, 5, 6])\n",
    "print(s)"
   ]
  },
  {
   "cell_type": "code",
   "execution_count": null,
   "metadata": {},
   "outputs": [],
   "source": [
    "s = set([1, 2, 3])\n",
    "print(s)"
   ]
  },
  {
   "cell_type": "code",
   "execution_count": null,
   "metadata": {},
   "outputs": [],
   "source": [
    "s = set()\n",
    "s.add('a')\n",
    "print(s)\n",
    "s.add('b')\n",
    "print(s)"
   ]
  },
  {
   "cell_type": "code",
   "execution_count": null,
   "metadata": {},
   "outputs": [],
   "source": [
    "s = frozenset(s)\n",
    "print(s)"
   ]
  },
  {
   "cell_type": "code",
   "execution_count": null,
   "metadata": {},
   "outputs": [],
   "source": [
    "s.add('c')"
   ]
  },
  {
   "cell_type": "code",
   "execution_count": null,
   "metadata": {},
   "outputs": [],
   "source": [
    "hash('adam')"
   ]
  },
  {
   "cell_type": "code",
   "execution_count": null,
   "metadata": {},
   "outputs": [],
   "source": [
    "hash(set('adam'))"
   ]
  },
  {
   "cell_type": "code",
   "execution_count": null,
   "metadata": {},
   "outputs": [],
   "source": [
    "hash(frozenset('adam'))"
   ]
  },
  {
   "cell_type": "markdown",
   "metadata": {
    "collapsed": true
   },
   "source": [
    "# Excel Files\n",
    "## Banklist.csv - Failed Banks in Comma Separated Value form"
   ]
  },
  {
   "cell_type": "code",
   "execution_count": null,
   "metadata": {},
   "outputs": [],
   "source": [
    "! head banklist.csv  # Look at the first few lines of the Comma separated Value file banklist"
   ]
  },
  {
   "cell_type": "markdown",
   "metadata": {},
   "source": [
    "```python\n",
    "Bank Name,City,ST,CERT,Acquiring Institution,Closing Date,Updated Date\n",
    "Fayette County Bank,Saint Elmo,IL,1802,\"United Fidelity Bank, fsb\",26-May-17,26-Jul-17\n",
    "\"Guaranty Bank, (d/b/a BestBank in Georgia & Michigan) \",Milwaukee,WI,30003,First-Citizens Bank & Trust Company,5-May-17,26-Jul-17\n",
    "First NBC Bank,New Orleans,LA,58302,Whitney Bank,28-Apr-17,26-Jul-17\n",
    "Proficio Bank,Cottonwood Heights,UT,35495,Cache Valley Bank,3-Mar-17,18-May-17\n",
    "Seaway Bank and Trust Company,Chicago,IL,19328,State Bank of Texas,27-Jan-17,18-May-17\n",
    "Harvest Community Bank,Pennsville,NJ,34951,First-Citizens Bank & Trust Company,13-Jan-17,18-May-17\n",
    "Allied Bank,Mulberry,AR,91,Today's Bank,23-Sep-16,17-Nov-16\n",
    "The Woodbury Banking Company,Woodbury,GA,11297,United Bank,19-Aug-16,1-Jun-17\n",
    "First CornerStone Bank,King of Prussia,PA,35312,First-Citizens Bank & Trust Company,6-May-16,6-Sep-16\n",
    "```"
   ]
  },
  {
   "cell_type": "code",
   "execution_count": null,
   "metadata": {},
   "outputs": [],
   "source": [
    "f = open('banklist.csv', 'rt')\n",
    "try:\n",
    "    d = { }\n",
    "    for row in f:  # Get a line\n",
    "        row = row.split(',') \n",
    "        state = row[2]  # Get state\n",
    "        if (not state in d): # LBYL\n",
    "            d[state] = 1\n",
    "        else:\n",
    "            d[state] = 1 + d[state]\n",
    "except:\n",
    "    print(\"Musta goofed up somewhere!\")\n",
    "                        \n",
    "print(len(d))"
   ]
  },
  {
   "cell_type": "markdown",
   "metadata": {},
   "source": [
    "## What?!@#$\n",
    "### How can we have 81 states?"
   ]
  },
  {
   "cell_type": "code",
   "execution_count": null,
   "metadata": {},
   "outputs": [],
   "source": [
    "print(d)"
   ]
  },
  {
   "cell_type": "markdown",
   "metadata": {},
   "source": [
    "## Quick check - Let's look at some of those odd states"
   ]
  },
  {
   "cell_type": "code",
   "execution_count": null,
   "metadata": {},
   "outputs": [],
   "source": [
    "f = open('banklist.csv', 'rt')\n",
    "try:\n",
    "    d = { }\n",
    "    for row in f:  # Get a line\n",
    "        row = row.split(',') \n",
    "        state = row[2]  # Get state\n",
    "        \n",
    "        # Do we have any odd states?\n",
    "        if (len(state) != 2):         \n",
    "            print(row)\n",
    "            \n",
    "            \n",
    "        if (not state in d): # LBYL\n",
    "            d[state] = 1\n",
    "        else:\n",
    "            d[state] = 1 + d[state]\n",
    "except:\n",
    "    print(\"Musta goofed up somewhere!\")\n",
    "                        \n",
    "print(len(d))"
   ]
  },
  {
   "cell_type": "markdown",
   "metadata": {},
   "source": [
    "## What are we dealing with?"
   ]
  },
  {
   "cell_type": "code",
   "execution_count": null,
   "metadata": {},
   "outputs": [],
   "source": [
    "# What is going on with the Guaranty Bank of Milwaukee?\n",
    "! grep 'Guaranty Bank' banklist.csv"
   ]
  },
  {
   "cell_type": "markdown",
   "metadata": {},
   "source": [
    "```python\n",
    "\"Guaranty Bank, (d/b/a BestBank in Georgia & Michigan) \",Milwaukee,WI,30003,First-Citizens Bank & Trust Company,5-May-17,26-Jul-17\n",
    "...\n",
    "```"
   ]
  },
  {
   "cell_type": "markdown",
   "metadata": {},
   "source": [
    "# Look at Addresses example"
   ]
  },
  {
   "cell_type": "code",
   "execution_count": null,
   "metadata": {},
   "outputs": [],
   "source": [
    "!more Addresses.csv"
   ]
  },
  {
   "cell_type": "code",
   "execution_count": null,
   "metadata": {},
   "outputs": [],
   "source": [
    "!od -c Addresses.csv"
   ]
  },
  {
   "cell_type": "markdown",
   "metadata": {},
   "source": [
    "```python\n",
    "0000000  357 273 277   N   u   m   b   e   r   ,   N   a   m   e   ,   A\n",
    "0000020    d   d   r   e   s   s  \\r  \\n   1   ,   \"   P   a   r   k   e\n",
    "0000040    r   ,       J   e   f   f   \"   ,   1   2   3       M   a   i\n",
    "0000060    n       S   t   r   e   e   t  \\r  \\n   2   ,   \"   G   a   t\n",
    "0000100    e   s   ,       B   i   l   l   \"   ,   \"   4   5   6       M\n",
    "0000120    S       B   l   v   r   d   ,       R   e   d   m   o   n   d\n",
    "0000140    ,       W   a   s   h   i   n   g   t   o   n   \"  \\r  \\n   3\n",
    "0000160    ,   \"   J   o   k   e   r   ,       T   h   e   \"   ,        \n",
    "0000176\n",
    "```"
   ]
  },
  {
   "cell_type": "markdown",
   "metadata": {},
   "source": [
    "## For those without Unix Octal Dump - try our od.py"
   ]
  },
  {
   "cell_type": "code",
   "execution_count": null,
   "metadata": {},
   "outputs": [],
   "source": [
    "!python od.py Addresses.csv"
   ]
  },
  {
   "cell_type": "markdown",
   "metadata": {},
   "source": [
    "```python\n",
    "65279 N  u  m  b  e  r  ,  N  a  m  e  ,  A  d  d \n",
    "r  e  s  s  \\n  1  ,  \"  P  a  r  k  e  r  ,     \n",
    "J  e  f  f  \"  ,  1  2  3      M  a  i  n      S \n",
    "t  r  e  e  t  \\n  2  ,  \"  G  a  t  e  s  ,     \n",
    "B  i  l  l  \"  ,  \"  4  5  6      M  S      B  l \n",
    "v  r  d  ,      R  e  d  m  o  n  d  ,      W  a \n",
    "s  h  i  n  g  t  o  n  \"  \\n  3  ,  \"  J  o  k \n",
    "e  r  ,      T  h  e  \"  , \n",
    "```"
   ]
  },
  {
   "cell_type": "code",
   "execution_count": null,
   "metadata": {},
   "outputs": [],
   "source": [
    "!od -x Addresses.csv"
   ]
  },
  {
   "cell_type": "markdown",
   "metadata": {},
   "source": [
    "```python\n",
    "0000000      bbef    4ebf    6d75    6562    2c72    614e    656d    412c\n",
    "0000020      6464    6572    7373    0a0d    2c31    5022    7261    656b\n",
    "0000040      2c72    4a20    6665    2266    312c    3332    4d20    6961\n",
    "0000060      206e    7453    6572    7465    0a0d    2c32    4722    7461\n",
    "0000100      7365    202c    6942    6c6c    2c22    3422    3635    4d20\n",
    "0000120      2053    6c42    7276    2c64    5220    6465    6f6d    646e\n",
    "0000140      202c    6157    6873    6e69    7467    6e6f    0d22    330a\n",
    "0000160      222c    6f4a    656b    2c72    5420    6568    2c22        \n",
    "0000176\n",
    "```"
   ]
  },
  {
   "cell_type": "markdown",
   "metadata": {},
   "source": [
    "# Alternative: CSV Module"
   ]
  },
  {
   "cell_type": "code",
   "execution_count": null,
   "metadata": {},
   "outputs": [],
   "source": [
    "import csv   # Comma Separated Values\n",
    "import sys   # Read command line\n",
    "\n",
    "f = open('banklist.csv', 'rt')\n",
    "try:\n",
    "    d = { }\n",
    "    reader = csv.reader(f)\n",
    "    for row in reader:\n",
    "        state = row[2]\n",
    "        if (len(state) != 2):\n",
    "            print(row)\n",
    "        if (not state in d): # LBYL\n",
    "            d[state] = 1\n",
    "        else:\n",
    "            d[state] = 1 + d[state]\n",
    "except:\n",
    "    print(\"Musta goofed up somewhere!\")\n",
    "                        \n",
    "print(len(d))"
   ]
  },
  {
   "cell_type": "code",
   "execution_count": null,
   "metadata": {},
   "outputs": [],
   "source": [
    "print(max(d))"
   ]
  },
  {
   "cell_type": "code",
   "execution_count": null,
   "metadata": {},
   "outputs": [],
   "source": [
    "print(d[WY])"
   ]
  },
  {
   "cell_type": "code",
   "execution_count": null,
   "metadata": {},
   "outputs": [],
   "source": [
    "print(d['WY'])"
   ]
  },
  {
   "cell_type": "markdown",
   "metadata": {},
   "source": [
    "## Wyoming doesn't have the most failures: it is the last alphabetically"
   ]
  },
  {
   "cell_type": "code",
   "execution_count": null,
   "metadata": {},
   "outputs": [],
   "source": [
    "mx = 0\n",
    "st = ''\n",
    "for state in d:\n",
    "    if d[state] > mx:\n",
    "        mx = d[state]\n",
    "        st  = state\n",
    "        \n",
    "print(mx, st)"
   ]
  },
  {
   "cell_type": "code",
   "execution_count": null,
   "metadata": {},
   "outputs": [],
   "source": [
    "lst = []\n",
    "for state in d:\n",
    "    lst.append([d[state], state])\n",
    "    \n",
    "print(sorted(lst))"
   ]
  },
  {
   "cell_type": "code",
   "execution_count": null,
   "metadata": {},
   "outputs": [],
   "source": [
    "lst = []\n",
    "for state in d:\n",
    "    lst.append([d[state], state])\n",
    "    \n",
    "print(sorted(lst, reverse=True))"
   ]
  },
  {
   "cell_type": "markdown",
   "metadata": {},
   "source": [
    "## Note that one of the states is 'ST'\n",
    "### We are treating the first line as valid input"
   ]
  },
  {
   "cell_type": "code",
   "execution_count": null,
   "metadata": {},
   "outputs": [],
   "source": [
    "# Iterate over the dictionary and build a list with [count, state]\n",
    "res = [[d[state], state] for state in d]\n",
    "\n",
    "# Display the best states: those with lowest count\n",
    "res.sort()\n",
    "for pair in res[:10]:\n",
    "    print(pair)\n",
    "\n",
    "print()\n",
    "\n",
    "# Display the worst states\n",
    "res.sort(reverse=True)\n",
    "for pair in res[:10]:\n",
    "    print(pair)"
   ]
  },
  {
   "cell_type": "markdown",
   "metadata": {},
   "source": [
    "## We will read CSV files in a future homework"
   ]
  },
  {
   "cell_type": "markdown",
   "metadata": {},
   "source": [
    "# WTF\n",
    "# How does Python implement dictionaries?\n",
    "\n",
    "https://www.laurentluce.com/posts/python-dictionary-implementation/"
   ]
  },
  {
   "cell_type": "markdown",
   "metadata": {},
   "source": [
    "# Reflection - Is STEM overrated?\n",
    "## Read the following article and tell us what you think\n",
    "\n",
    "https://wapo.st/2BXArvo  "
   ]
  },
  {
   "cell_type": "code",
   "execution_count": null,
   "metadata": {},
   "outputs": [],
   "source": []
  }
 ],
 "metadata": {
  "kernelspec": {
   "display_name": "Python 3",
   "language": "python",
   "name": "python3"
  },
  "language_info": {
   "codemirror_mode": {
    "name": "ipython",
    "version": 3
   },
   "file_extension": ".py",
   "mimetype": "text/x-python",
   "name": "python",
   "nbconvert_exporter": "python",
   "pygments_lexer": "ipython3",
   "version": "3.8.3"
  }
 },
 "nbformat": 4,
 "nbformat_minor": 1
}
