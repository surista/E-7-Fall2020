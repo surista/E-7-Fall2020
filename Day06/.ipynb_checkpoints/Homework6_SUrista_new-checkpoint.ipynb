{
 "cells": [
  {
   "cell_type": "markdown",
   "metadata": {},
   "source": [
    "# Homework 6: Fall 2020\n",
    "## Fill in your name"
   ]
  },
  {
   "cell_type": "code",
   "execution_count": 48,
   "metadata": {},
   "outputs": [],
   "source": [
    "first_name = \"Scott\"\n",
    "last_name = \"Urista\"\n",
    "\n",
    "assert(len(first_name) != 0)\n",
    "assert(len(last_name)  != 0)"
   ]
  },
  {
   "cell_type": "markdown",
   "metadata": {},
   "source": [
    "## Problem 1: Mailman\n",
    "### Turn an e-mail address into a list of components\n",
    "\n",
    "We address letters and and e-mail backwards. When the post office gets a letter, they need to read from the bottom up to decide where to send it next\n",
    "\n",
    "```python\n",
    "    Stephen Dedalus\n",
    "    Class of Elements\n",
    "    Clongowes Wood College\n",
    "    Sallins\n",
    "    Country Kildare\n",
    "    Ireland\n",
    "```\n",
    "\n",
    "Internet addresses such as 'jparker@word.std.com' work the same way.  \n",
    "\n",
    "Write a function that takes a string holding an e-mail address and returns a list with two items: the username, followed by a list of the steps we will need to take to route the mail. In the case above, you would return\n",
    "\n",
    "```python\n",
    "    ['jparker', ['com', 'std', 'world']]\n",
    "```\n",
    "\n",
    "Hint: Use the string method split() twice.  "
   ]
  },
  {
   "cell_type": "code",
   "execution_count": 49,
   "metadata": {},
   "outputs": [],
   "source": [
    "# Takes a string and returns a list  \n",
    "def parse_email_address(s):\n",
    "    \"split a mail address into recipient and list of hops\"\n",
    "    split_email = s.split(\"@\")\n",
    "    steps_list = split_email[1].split(\".\")\n",
    "    split_email[1] = steps_list[::-1]  # need to reverse order!\n",
    "    \n",
    "    return split_email"
   ]
  },
  {
   "cell_type": "markdown",
   "metadata": {},
   "source": [
    "### Test cases for Mailman"
   ]
  },
  {
   "cell_type": "code",
   "execution_count": 50,
   "metadata": {},
   "outputs": [
    {
     "data": {
      "text/plain": [
       "'Pass'"
      ]
     },
     "execution_count": 50,
     "metadata": {},
     "output_type": "execute_result"
    }
   ],
   "source": [
    "def mailman_test():\n",
    "    assert(parse_email_address('jdp@world.std.com') == ['jdp', ['com', 'std', 'world']])\n",
    "    \n",
    "    return('Pass')\n",
    "\n",
    "mailman_test()"
   ]
  },
  {
   "cell_type": "markdown",
   "metadata": {},
   "source": [
    "## Problem 2: Parentheses\n",
    "### Decide if a string contains valid nested parentheses\n",
    "\n",
    "You are given a string consisting only of parentheses - (, ), {, }, [, and ]. Write a Boolean function is_valid_parens() that takes a string and decides if it consists of valid nested parenthesis.\n",
    "\n",
    "Hint: Your function should take open parentheses, such as '(',  and 'push it on a stack' and should take closing parentheses, and pop the stack and compare.  If the close parenthesis doesn't match the open parenthesis on top of the stack, the string is invalid.  If the stack is empty too soon, or is not empty when you finish the string, the string is invalid.  \n",
    "\n",
    "You can read about stacks here: \n",
    "\n",
    "https://en.wikipedia.org/wiki/Stack_(abstract_data_type)\n",
    "\n",
    "Implement your stack with a list, pushing and poping the final element.  "
   ]
  },
  {
   "cell_type": "code",
   "execution_count": 51,
   "metadata": {},
   "outputs": [],
   "source": [
    "# Takes a string, and returns a Boolean \n",
    "#  '{()[{}]}' is valid:    return True\n",
    "#  '{()[{}}' is not:       return False\n",
    "def is_valid_parens(s):\n",
    "    \"Is this a well-nested set of parentheses?\"\n",
    "    stack = []\n",
    "    parens_dict = {\"(\":\")\", \"[\":\"]\", \"{\":\"}\"}\n",
    "\n",
    "    for parens in s:\n",
    "        if parens in parens_dict:\n",
    "            stack.append(parens)\n",
    "        elif len(stack) == 0 or parens_dict[stack.pop()] != parens:\n",
    "            return False\n",
    "        \n",
    "    return len(stack) == 0"
   ]
  },
  {
   "cell_type": "markdown",
   "metadata": {},
   "source": [
    "### Test case for is_valid_parens()"
   ]
  },
  {
   "cell_type": "code",
   "execution_count": 52,
   "metadata": {},
   "outputs": [
    {
     "data": {
      "text/plain": [
       "'Pass'"
      ]
     },
     "execution_count": 52,
     "metadata": {},
     "output_type": "execute_result"
    }
   ],
   "source": [
    "def test_parens():\n",
    "    assert(is_valid_parens(\"\"))\n",
    "    assert(is_valid_parens(\"[]\"))\n",
    "    assert(is_valid_parens('{()[{}]}'))\n",
    "    assert(is_valid_parens(\"{}\"))\n",
    "    assert(is_valid_parens(\"{[]}\"))\n",
    "    assert(is_valid_parens(\"{}[]\"))\n",
    "    assert(is_valid_parens(\"([{}({}[])])\"))\n",
    "\n",
    "    assert not is_valid_parens('{()[{}}]'), 'Interlaced parentheses'\n",
    "    assert not is_valid_parens(\"[[\"), \"Unmatched opens\"\n",
    "    assert not is_valid_parens(\"}{\"), \"Unmatched close\"\n",
    "    assert not is_valid_parens(\"{]\"), \"Missmatched parentheses\"\n",
    "    assert not is_valid_parens(\"{[])\"), \"Missmatched parentheses\"\n",
    "    assert not is_valid_parens(\"{[)][]}\"), \"Missmatched parentheses\"\n",
    "    assert not is_valid_parens(\"([{])\"), \"Missmatched parentheses\"\n",
    "    assert not is_valid_parens(\"[({]})\"), \"Missmatched parentheses\"\n",
    "    \n",
    "    return 'Pass'\n",
    "\n",
    "test_parens()"
   ]
  },
  {
   "cell_type": "markdown",
   "metadata": {},
   "source": [
    "## Problem 3: Solitary\n",
    "\n",
    "While this is a classic program that has several elegant solutions, the solutions are too easy to find.  I have decided to replace the problem with the following:\n",
    "\n",
    "## Problem 3: Secret code\n",
    "\n",
    "We can devise a secret code that maps 'one' to 'two'.  We send 'o' to 't', 'n' to 'w' and 'e' to 'o'.\n",
    "\n",
    "We cannot find any code that sends 'two' to 'three', as the words have different length.\n",
    "\n",
    "We cannot find a code that sends 'foo' to 'bar', as we would need 'o' to represent 'a' and 'r'.\n",
    "\n",
    "Likewise we cannot send 'four' to 'aaaa', as there would be no way to map the letters back.\n",
    "\n",
    "Write a Boolean function secret_code() that decides if we can find a code that sends one word to another and back again.\n",
    "\n",
    "```python\n",
    "    def secret_code(word1: str, word2: str) -> bool:\n",
    "```"
   ]
  },
  {
   "cell_type": "code",
   "execution_count": 53,
   "metadata": {},
   "outputs": [],
   "source": [
    "def secret_code(word1: str, word2: str) -> bool:\n",
    "    # Can we map word1 to word2?\n",
    "    \n",
    "    if len(word1) != len(word2):\n",
    "        return False\n",
    "    \n",
    "    # create dictionary from word1 and word2\n",
    "    # dictionary keys must be unique \n",
    "    # set() creates sequence of unique elements\n",
    "    # if characters are repeated in either word1 or word2,\n",
    "    # set(values) length will differ from the original word(s)\n",
    "    \n",
    "    secret_dict = dict(zip(word1, word2))\n",
    "    vals = secret_dict.values()\n",
    "    if len(set(vals)) != len(word1):\n",
    "        return False\n",
    "\n",
    "    return True\n",
    "\n"
   ]
  },
  {
   "cell_type": "markdown",
   "metadata": {},
   "source": [
    "### Unit Test cases for secret_code()"
   ]
  },
  {
   "cell_type": "code",
   "execution_count": 54,
   "metadata": {},
   "outputs": [
    {
     "name": "stdout",
     "output_type": "stream",
     "text": [
      "Success!\n"
     ]
    }
   ],
   "source": [
    "def test_secret():\n",
    "    assert secret_code('one', 'two'), \"Can map\"\n",
    "    assert not secret_code('one', 'four'), \"Different lengths\"\n",
    "    assert not secret_code('one', 'aaa'), \"No way back\"\n",
    "      \n",
    "    print('Success!')\n",
    "    \n",
    "test_secret()"
   ]
  },
  {
   "cell_type": "markdown",
   "metadata": {},
   "source": [
    "## Problem 4: Find Large Files\n",
    "\n",
    "Write a function that takes a directory and a size in bytes, \n",
    "and returns a list of files in the directory or below that \n",
    "are larger than the size.  \n",
    "\n",
    "*For example, you can use this function to look for files larger than 1 Meg below your Home directory.*\n",
    "\n",
    "You will find a Python function that gives you the size of a file in the os.path library: \n",
    "\n",
    "https://pymotw.com/3/os.path/"
   ]
  },
  {
   "cell_type": "code",
   "execution_count": 55,
   "metadata": {},
   "outputs": [
    {
     "data": {
      "text/plain": [
       "{'pywiki.txt': 46990,\n",
       " 'pytext.txt': 49208,\n",
       " 'probems_day_6.py': 2608,\n",
       " 'Lecture05FourUp.pdf': 11229428,\n",
       " 'banklist.csv': 46156,\n",
       " 'harvardedu.txt': 44547,\n",
       " 'Lecture04.pdf': 14939568,\n",
       " 'piazza.txt': 60325,\n",
       " 'words.txt': 1130523,\n",
       " 'save_url.py': 837,\n",
       " 'secret_code.py': 1205,\n",
       " 'game.py': 720,\n",
       " 'homework_copyright.py': 701,\n",
       " 'Lecture06.pdf': 16452709,\n",
       " 'FailedBanks.py': 1669}"
      ]
     },
     "execution_count": 55,
     "metadata": {},
     "output_type": "execute_result"
    }
   ],
   "source": [
    "import os\n",
    "\n",
    "def find_large_files(dirname, filesize):\n",
    "    \"Return a list of large files below this point\"\n",
    "    large_files_list = []\n",
    "    files = next(os.walk(dirname))[2]\n",
    "    for file in files:\n",
    "        if os.stat(dirname+\"/\"+file).st_size > filesize:\n",
    "            large_files_list.append(file)\n",
    "     \n",
    "    return large_files_list\n",
    "\n",
    "\n",
    "def find_large_files_dict(dirname, filesize):\n",
    "    \"Same program as above, but dictionary to store file name/size\"\n",
    "    large_files_dict = {}\n",
    "    files = next(os.walk(dirname))[2]\n",
    "    for file in files:\n",
    "        if os.stat(dirname+\"/\"+file).st_size > filesize:\n",
    "            large_files_dict[file]=os.stat(dirname+\"/\"+file).st_size\n",
    "    \n",
    "    return large_files_dict\n",
    "\n",
    "\n",
    "#show files (i.e., filter size to 'zero')\n",
    "find_large_files_dict(\"..\", 0)"
   ]
  },
  {
   "cell_type": "markdown",
   "metadata": {},
   "source": [
    "### Show your program in action\n",
    "Give the parameters and show the results for your program\n",
    "\n",
    "I looked for files larger than a Megabyte found below the directory one step up.   "
   ]
  },
  {
   "cell_type": "code",
   "execution_count": 56,
   "metadata": {},
   "outputs": [
    {
     "name": "stdout",
     "output_type": "stream",
     "text": [
      "4\n",
      "Lecture05FourUp.pdf\n",
      "Lecture04.pdf\n",
      "words.txt\n",
      "Lecture06.pdf\n"
     ]
    }
   ],
   "source": [
    "lst = find_large_files('..', 1048576)\n",
    "print(len(lst))\n",
    "\n",
    "for path in lst:\n",
    "    print(path)"
   ]
  },
  {
   "cell_type": "markdown",
   "metadata": {},
   "source": [
    "## Problem 5:\n",
    "\n",
    "The following stand-alone program takes a url from the command line, reads the contents of a webpage, and prints it.\n",
    " \n",
    "Modify the program to take a filename as a second parameter and save the contents of the webpage in a text file.  \n",
    "\n",
    "```python\n",
    "    python save_url.py 'http://www.python.org/' pythonpage.txt\n",
    "```\n",
    "\n",
    "would save the contents of the webpage in the text file pythonpage.txt.  \n",
    "\n",
    "You may want to review the mycopy.py program from day 4 which takes two \n",
    "parameters and copies the contents of the first file to the second.  \n",
    "\n",
    "Use this and an editor to find the copyright notice on the following websites.\n",
    "\n",
    "```python\n",
    "    website = 'http://www.python.org/'\n",
    "    website = 'https://www.extension.harvard.edu'\n",
    "    website = 'http://en.wikipedia.org/wiki/Python'\n",
    "    \n",
    "    website = Your piazza link: mine looks something like this: \n",
    "            https://piazza.com/class/myxlplyxmyxlplyx?cid=194\n",
    "```\n",
    "You will need to remove the last bit from your piazza link that specifies the cid:  '?cid=194'.  In my case, this would leave https://piazza.com/class/myxlplyxmyxlplyx\n",
    "\n",
    "This problem gives you a chance to examine webpages, and shows how \n",
    "different website creators deal with a common problem, presenting a copyright.\n",
    "You will see that writing a program to extract the copyright from different websites would be difficult.  \n",
    "\n",
    "For example, here is the copyright notice for the New York Times, https://www.nytimes.com.  I have introduced whitespace to help visualize the element.  \n",
    "\n",
    "```python\n",
    "<li data-testid=\"copyright\">\n",
    "    <a class=\"css-jq1cx6\" href=\"https://help.nytimes.com/hc/en-us/articles/115014792127-Copyright-notice\">©     \n",
    "        <span>2020</span> \n",
    "        <span>The New York Times Company</span>\n",
    "    </a>\n",
    "</li>\n",
    "```\n",
    "\n",
    "One alternative way to view the source for a website is through your browser.\n",
    "For example, in Chrome you can use View/Developer/View Source"
   ]
  },
  {
   "cell_type": "code",
   "execution_count": 57,
   "metadata": {},
   "outputs": [
    {
     "name": "stdout",
     "output_type": "stream",
     "text": [
      "Usage: python read_url.py <website>\n"
     ]
    }
   ],
   "source": [
    "# read_url.py\n",
    "#\n",
    "# Jeff Parker\n",
    "#\n",
    "# Usage:\n",
    "#     python read_url.py <website>\n",
    "\n",
    "import urllib.request\n",
    "import sys\n",
    "\n",
    "\n",
    "def fetch_contents(website):\n",
    "    \"Return the contents of this webpage as a list of lines\"\n",
    "    try:\n",
    "        res = []\n",
    "\n",
    "        with urllib.request.urlopen(website) as f:\n",
    "            text = f.read().decode('utf-8')\n",
    "\n",
    "            # Break the page into lines\n",
    "            text = text.split('\\n')\n",
    "            for line in text:\n",
    "                res.append(line)\n",
    "    \n",
    "        return res\n",
    "\n",
    "    except urllib.error.URLError as e:\n",
    "        print(e.reason)\n",
    "        return []\n",
    "\n",
    "if (len(sys.argv) != 2):\n",
    "    print(f\"Usage: python read_url.py <website>\")\n",
    "else:\n",
    "    lst = fetch_contents(sys.argv[1])\n",
    "\n",
    "    # Now display the contents\n",
    "    for line in lst:\n",
    "        print(line)"
   ]
  },
  {
   "cell_type": "markdown",
   "metadata": {},
   "source": [
    "## Include your program below"
   ]
  },
  {
   "cell_type": "code",
   "execution_count": 41,
   "metadata": {},
   "outputs": [],
   "source": [
    "# save_url.py\n",
    "# S. Urista / 8 Oct 2020\n",
    "# Usage:\n",
    "# python save_url.py <website url> <textfile>\n",
    "\n",
    "import urllib.request\n",
    "import sys\n",
    "\n",
    "def fetch_contents(website, filename):\n",
    "    \"Saves the contents of a webpage to a file\"\n",
    "    try:\n",
    "        res = []\n",
    "\n",
    "        with urllib.request.urlopen(website) as f:\n",
    "            text = f.read().decode('utf-8')\n",
    "            \n",
    "        # Break the page into lines\n",
    "        text = text.split('\\n')\n",
    "        for line in text:\n",
    "            res.append(line)\n",
    "            \n",
    "        # print contents to file\n",
    "        with open(filename, 'w') as f:\n",
    "            for line in text:\n",
    "                print(line, file=f)\n",
    "    \n",
    "        return res\n",
    " \n",
    "    except urllib.error.URLError as e:\n",
    "        print(e.reason)\n",
    "        return []\n",
    "\n",
    "if (len(sys.argv) != 3):\n",
    "    print(f\"Usage: python read_url.py <website> <filename>\")\n",
    "else:\n",
    "    fetch_contents(sys.argv[1], sys.argv[2])"
   ]
  },
  {
   "cell_type": "markdown",
   "metadata": {},
   "source": [
    "### Show the webpage elements holding the copyright information for each website"
   ]
  },
  {
   "cell_type": "code",
   "execution_count": null,
   "metadata": {},
   "outputs": [],
   "source": [
    "### Copyright notice for 'http://www.python.org/'\n",
    "<div class=\"copyright\">\n",
    "    <p><small>\n",
    "        <span class=\"pre\">Copyright &copy;2001-2020.</span>\n",
    "            &nbsp;<span class=\"pre\"><a href=\"/psf-landing/\">Python Software Foundation</a></span>\n",
    "            &nbsp;<span class=\"pre\"><a href=\"/about/legal/\">Legal Statements</a></span>\n",
    "            &nbsp;<span class=\"pre\"><a href=\"/privacy/\">Privacy Policy</a></span>\n",
    "            &nbsp;<span class=\"pre\"><a href=\"/psf/sponsorship/sponsors/#heroku\">Powered by Heroku</a></span>\n",
    "    </small></p>\n",
    "</div>"
   ]
  },
  {
   "cell_type": "code",
   "execution_count": null,
   "metadata": {},
   "outputs": [],
   "source": [
    "### Copyright notice for 'https://www.extension.harvard.edu'\n",
    "<div class=\"pane-content longform\">\n",
    "    <p>Copyright &copy;2020 President and Fellows of Harvard College</p>\n",
    "</div>"
   ]
  },
  {
   "cell_type": "code",
   "execution_count": null,
   "metadata": {},
   "outputs": [],
   "source": [
    "### Copyright notice for 'http://en.wikipedia.org/wiki/Python'\n",
    "\n",
    "<ul id=\"footer-info\" >\n",
    "<li id=\"footer-info-lastmod\"> This page was last edited on 17 September 2020, at 13:08\n",
    "<span class=\"anonymous-show\">&#160;(UTC)</span>.</li>\n",
    "<li id=\"footer-info-copyright\">Text is available under the \n",
    "<a rel=\"license\" \n",
    "href=\"//en.wikipedia.org/wiki/Wikipedia:Text_of_Creative_Commons_Attribution-ShareAlike_3.0_Unported_License\">\n",
    "Creative Commons Attribution-ShareAlike License</a>\n",
    "<a rel=\"license\" href=\"//creativecommons.org/licenses/by-sa/3.0/\" style=\"display:none;\"></a>;\n",
    "additional terms may apply.  By using this site, you agree to the \n",
    "<a href=\"//foundation.wikimedia.org/wiki/Terms_of_Use\">Terms of Use</a> and \n",
    "<a href=\"//foundation.wikimedia.org/wiki/Privacy_policy\">Privacy Policy</a>\n",
    "Wikipedia® is a registered trademark of the \n",
    "<a href=\"//www.wikimediafoundation.org/\">Wikimedia Foundation, Inc.</a>, a non-profit organization.</li>\n",
    "</ul>"
   ]
  },
  {
   "cell_type": "code",
   "execution_count": null,
   "metadata": {},
   "outputs": [],
   "source": [
    "### Copyright notice for Piazza\n",
    "<ul>\n",
    "<li><a class=\"log_click\" data-log-click=\"footer_legal_privacy\" href=\"/legal/privacy\">Privacy Policy</a></li>\n",
    "<li><a class=\"log_click\" data-log-click=\"footer_legal_copyright\" href=\"/legal/copyright\">Copyright Policy</a></li>\n",
    "<li><a class=\"log_click\" data-log-click=\"footer_legal_terms\" href=\"/legal/terms\">Terms of Service</a></li>\n",
    "<li><a class=\"log_click\" data-log-click=\"footer_legal_ferpa\" href=\"/legal/ferpa\">FERPA Compliance</a></li>\n",
    "</ul>"
   ]
  },
  {
   "cell_type": "markdown",
   "metadata": {},
   "source": [
    "# Post Mortem"
   ]
  },
  {
   "cell_type": "markdown",
   "metadata": {},
   "source": [
    "How long did it take you to solve this problem set?\n",
    "\n",
    "Did anything confuse you or cause difficulty?"
   ]
  },
  {
   "cell_type": "code",
   "execution_count": 43,
   "metadata": {},
   "outputs": [],
   "source": [
    "# Enter your thoughts\n",
    "# Had a bit of fun with the new problem 3 and quite like my approach of using set().\n",
    "\n",
    "# I tweaked prob 4 (show large files) so that you could see the files in question and confirm that the filter \n",
    "# was working as expected.\n",
    "\n",
    "# The hints to problem 2 (parentheses) and having prob 5 already mostly done for us \n",
    "# made this feel easier than I had expected?"
   ]
  }
 ],
 "metadata": {
  "kernelspec": {
   "display_name": "Python 3",
   "language": "python",
   "name": "python3"
  },
  "language_info": {
   "codemirror_mode": {
    "name": "ipython",
    "version": 3
   },
   "file_extension": ".py",
   "mimetype": "text/x-python",
   "name": "python",
   "nbconvert_exporter": "python",
   "pygments_lexer": "ipython3",
   "version": "3.8.3"
  }
 },
 "nbformat": 4,
 "nbformat_minor": 1
}
