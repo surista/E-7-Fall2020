{
 "cells": [
  {
   "cell_type": "markdown",
   "metadata": {},
   "source": [
    "# Homework 6: Fall 2020\n",
    "## Fill in your name"
   ]
  },
  {
   "cell_type": "code",
   "execution_count": null,
   "metadata": {},
   "outputs": [],
   "source": [
    "first_name = \"Scott\"\n",
    "last_name = \"Urista\"\n",
    "\n",
    "assert(len(first_name) != 0)\n",
    "assert(len(last_name)  != 0)"
   ]
  },
  {
   "cell_type": "markdown",
   "metadata": {},
   "source": [
    "## Problem 1: Mailman\n",
    "### Turn an e-mail address into a list of components\n",
    "\n",
    "We address letters and and e-mail backwards. When the post office gets a letter, they need to read from the bottom up to decide where to send it next\n",
    "\n",
    "```python\n",
    "    Stephen Dedalus\n",
    "    Class of Elements\n",
    "    Clongowes Wood College\n",
    "    Sallins\n",
    "    Country Kildare\n",
    "    Ireland\n",
    "```\n",
    "\n",
    "Internet addresses such as 'jparker@word.std.com' work the same way.  \n",
    "\n",
    "Write a function that takes a string holding an e-mail address and returns a list with two items: the username, followed by a list of the steps we will need to take to route the mail. In the case above, you would return\n",
    "\n",
    "```python\n",
    "    ['jparker', ['com', 'std', 'world']]\n",
    "```\n",
    "\n",
    "Hint: Use the string method split() twice.  "
   ]
  },
  {
   "cell_type": "code",
   "execution_count": 3,
   "metadata": {},
   "outputs": [],
   "source": [
    "# Takes a string and returns a list  \n",
    "def parse_email_address(s):\n",
    "    \"split a mail address into recipient and list of hops\"\n",
    "    split_email = s.split(\"@\")\n",
    "    steps_list = split_email[1].split(\".\")\n",
    "    split_email[1] = steps_list[::-1]  # need to reverse order!\n",
    "    \n",
    "    return split_email"
   ]
  },
  {
   "cell_type": "markdown",
   "metadata": {},
   "source": [
    "### Test cases for Mailman"
   ]
  },
  {
   "cell_type": "code",
   "execution_count": 4,
   "metadata": {},
   "outputs": [
    {
     "data": {
      "text/plain": [
       "'Pass'"
      ]
     },
     "execution_count": 4,
     "metadata": {},
     "output_type": "execute_result"
    }
   ],
   "source": [
    "def mailman_test():\n",
    "    assert(parse_email_address('jdp@world.std.com') == ['jdp', ['com', 'std', 'world']])\n",
    "    \n",
    "    return('Pass')\n",
    "\n",
    "mailman_test()"
   ]
  },
  {
   "cell_type": "markdown",
   "metadata": {},
   "source": [
    "## Problem 2: Parentheses\n",
    "### Decide if a string contains valid nested parentheses\n",
    "\n",
    "You are given a string consisting only of parentheses - (, ), {, }, [, and ]. Write a Boolean function is_valid_parens() that takes a string and decides if it consists of valid nested parenthesis.\n",
    "\n",
    "Hint: Your function should take open parentheses, such as '(',  and 'push it on a stack' and should take closing parentheses, and pop the stack and compare.  If the close parenthesis doesn't match the open parenthesis on top of the stack, the string is invalid.  If the stack is empty too soon, or is not empty when you finish the string, the string is invalid.  \n",
    "\n",
    "You can read about stacks here: \n",
    "\n",
    "https://en.wikipedia.org/wiki/Stack_(abstract_data_type)\n",
    "\n",
    "Implement your stack with a list, pushing and poping the final element.  "
   ]
  },
  {
   "cell_type": "code",
   "execution_count": 5,
   "metadata": {},
   "outputs": [],
   "source": [
    "# Takes a string, and returns a Boolean \n",
    "#  '{()[{}]}' is valid:    return True\n",
    "#  '{()[{}}' is not:       return False\n",
    "def is_valid_parens(s):\n",
    "    \"Is this a well-nested set of parentheses?\"\n",
    "    stack = []\n",
    "    parens_dict = {\"(\":\")\", \"[\":\"]\", \"{\":\"}\"}\n",
    "\n",
    "    for parens in s:\n",
    "        if parens in parens_dict:\n",
    "            stack.append(parens)\n",
    "        elif len(stack) == 0 or parens_dict[stack.pop()] != parens:\n",
    "            return False\n",
    "        \n",
    "    return len(stack) == 0"
   ]
  },
  {
   "cell_type": "markdown",
   "metadata": {},
   "source": [
    "### Test case for is_valid_parens()"
   ]
  },
  {
   "cell_type": "code",
   "execution_count": 18,
   "metadata": {},
   "outputs": [
    {
     "data": {
      "text/plain": [
       "'Pass'"
      ]
     },
     "execution_count": 18,
     "metadata": {},
     "output_type": "execute_result"
    }
   ],
   "source": [
    "def test_parens():\n",
    "    assert(is_valid_parens(\"\"))\n",
    "    assert(is_valid_parens(\"[]\"))\n",
    "    assert(is_valid_parens('{()[{}]}'))\n",
    "    assert(is_valid_parens(\"{}\"))\n",
    "    assert(is_valid_parens(\"{[]}\"))\n",
    "    assert(is_valid_parens(\"{}[]\"))\n",
    "    assert(is_valid_parens(\"([{}({}[])])\"))\n",
    "\n",
    "    assert not is_valid_parens('{()[{}}]'), 'Interlaced parentheses'\n",
    "    assert not is_valid_parens(\"[[\"), \"Unmatched opens\"\n",
    "    assert not is_valid_parens(\"}{\"), \"Unmatched close\"\n",
    "    assert not is_valid_parens(\"{]\"), \"Missmatched parentheses\"\n",
    "    assert not is_valid_parens(\"{[])\"), \"Missmatched parentheses\"\n",
    "    assert not is_valid_parens(\"{[)][]}\"), \"Missmatched parentheses\"\n",
    "    assert not is_valid_parens(\"([{])\"), \"Missmatched parentheses\"\n",
    "    assert not is_valid_parens(\"[({]})\"), \"Missmatched parentheses\"\n",
    "    \n",
    "    return 'Pass'\n",
    "\n",
    "test_parens()"
   ]
  },
  {
   "cell_type": "markdown",
   "metadata": {},
   "source": [
    "## Problem 3: Solitary Words\n",
    "\n",
    "A word is *solitary* if no letter appears more than once.\n",
    "\n",
    "Thus 'once' is solitary.  'Solitary' is solitary.  'Pop' is not solitary, as there are two p's.  \n",
    "\n",
    "Write a function that takes a string and returns a Boolean telling us if the string is solitary.  \n",
    "\n",
    "\n",
    "```python\n",
    "    def solitary(word: str) -> bool:\n",
    "```\n",
    "\n",
    "### Hint:\n",
    "Review Downey's discussion of Dictionary as a Collection of Counters.\n",
    "\n",
    "### Hint:\n",
    "You can also use a Set to keep track of the letters in a word\n",
    "\n",
    "### Hint:\n",
    "You can solve this without Sets or Dictionaries.  Please don't.  This is the only problem on this set that uses these new ideas."
   ]
  },
  {
   "cell_type": "code",
   "execution_count": 19,
   "metadata": {},
   "outputs": [],
   "source": [
    "def solitary(word):\n",
    "    \"\"\"Take a string, and decide if any letter appears twice\"\"\"\n",
    "    solitary_dict = {}\n",
    "    for char in word:\n",
    "        if char.lower() in solitary_dict:\n",
    "            return False\n",
    "        else:\n",
    "            solitary_dict[char.lower()] = 1\n",
    "\n",
    "    return True"
   ]
  },
  {
   "cell_type": "markdown",
   "metadata": {},
   "source": [
    "### Unit Test cases for solitary()"
   ]
  },
  {
   "cell_type": "code",
   "execution_count": 20,
   "metadata": {},
   "outputs": [
    {
     "name": "stdout",
     "output_type": "stream",
     "text": [
      "Success!\n"
     ]
    }
   ],
   "source": [
    "def test_solitary():\n",
    "    assert solitary('abcd')\n",
    "    assert not solitary('aa'), \"Two a's\"\n",
    "    assert solitary('solitary')\n",
    "    assert not solitary('Pop'), \"Two p's\"\n",
    "    assert not solitary(\"eleven\"), \"Three e's\"\n",
    "    assert solitary(\"subdermatoglyphic\")\n",
    "      \n",
    "    print('Success!')\n",
    "    \n",
    "test_solitary()"
   ]
  },
  {
   "cell_type": "markdown",
   "metadata": {},
   "source": [
    "## Problem 4: Find Large Files\n",
    "\n",
    "Write a function that takes a directory and a size in bytes, \n",
    "and returns a list of files in the directory or below that \n",
    "are larger than the size.  \n",
    "\n",
    "*For example, you can use this function to look for files larger than 1 Meg below your Home directory.*\n",
    "\n",
    "You will find a Python function that gives you the size of a file in the os.path library: \n",
    "\n",
    "https://pymotw.com/3/os.path/"
   ]
  },
  {
   "cell_type": "code",
   "execution_count": 45,
   "metadata": {},
   "outputs": [
    {
     "name": "stdout",
     "output_type": "stream",
     "text": [
      "G:\\My Study Courses\\Harvard Extension\\CSCI E-7\\Day06\n",
      "['.idea', '.ipynb_checkpoints', 'banklist.csv', 'Day6.ipynb', 'FailedBanks.py', 'game.py', 'Homework6_SUrista.ipynb', 'Lecture06.pdf', 'probems_day_6.py', 'words.txt']\n"
     ]
    }
   ],
   "source": [
    "import os\n",
    "\n",
    "cwd = os.getcwd()\n",
    "print(cwd)\n",
    "print(os.listdir(cwd))\n",
    "\n",
    "def find_large_files(dirname, filesize):\n",
    "    \"Return a list of large files below this point\"\n",
    "    results = []\n",
    "    for roots, dirs, files in os.walk(dirname):\n",
    "        for file in files:\n",
    "            size = os.path.getsize(file)\n",
    "            if size > filesize:\n",
    "                results.append(file)\n",
    "    return results"
   ]
  },
  {
   "cell_type": "markdown",
   "metadata": {},
   "source": [
    "### Show your program in action\n",
    "Give the parameters and show the results for your program\n",
    "\n",
    "I looked for files larger than a Megabyte found below the directory one step up.   "
   ]
  },
  {
   "cell_type": "code",
   "execution_count": 43,
   "metadata": {},
   "outputs": [
    {
     "ename": "FileNotFoundError",
     "evalue": "[WinError 2] The system cannot find the file specified: 'assignment10_drop_char.py'",
     "output_type": "error",
     "traceback": [
      "\u001b[1;31m---------------------------------------------------------------------------\u001b[0m",
      "\u001b[1;31mFileNotFoundError\u001b[0m                         Traceback (most recent call last)",
      "\u001b[1;32m<ipython-input-43-3800916b23ad>\u001b[0m in \u001b[0;36m<module>\u001b[1;34m\u001b[0m\n\u001b[1;32m----> 1\u001b[1;33m \u001b[0mlst\u001b[0m \u001b[1;33m=\u001b[0m \u001b[0mfind_large_files\u001b[0m\u001b[1;33m(\u001b[0m\u001b[1;34m'..'\u001b[0m\u001b[1;33m,\u001b[0m \u001b[1;36m1048576\u001b[0m\u001b[1;33m)\u001b[0m\u001b[1;33m\u001b[0m\u001b[1;33m\u001b[0m\u001b[0m\n\u001b[0m\u001b[0;32m      2\u001b[0m \u001b[0mprint\u001b[0m\u001b[1;33m(\u001b[0m\u001b[0mlen\u001b[0m\u001b[1;33m(\u001b[0m\u001b[0mlst\u001b[0m\u001b[1;33m)\u001b[0m\u001b[1;33m)\u001b[0m\u001b[1;33m\u001b[0m\u001b[1;33m\u001b[0m\u001b[0m\n\u001b[0;32m      3\u001b[0m \u001b[1;33m\u001b[0m\u001b[0m\n\u001b[0;32m      4\u001b[0m \u001b[1;32mfor\u001b[0m \u001b[0mpath\u001b[0m \u001b[1;32min\u001b[0m \u001b[0mlst\u001b[0m\u001b[1;33m:\u001b[0m\u001b[1;33m\u001b[0m\u001b[1;33m\u001b[0m\u001b[0m\n\u001b[0;32m      5\u001b[0m     \u001b[0mprint\u001b[0m\u001b[1;33m(\u001b[0m\u001b[0mpath\u001b[0m\u001b[1;33m)\u001b[0m\u001b[1;33m\u001b[0m\u001b[1;33m\u001b[0m\u001b[0m\n",
      "\u001b[1;32m<ipython-input-42-110f453007e7>\u001b[0m in \u001b[0;36mfind_large_files\u001b[1;34m(dirname, filesize)\u001b[0m\n\u001b[0;32m      9\u001b[0m     \u001b[1;32mfor\u001b[0m \u001b[0mroots\u001b[0m\u001b[1;33m,\u001b[0m \u001b[0mdirs\u001b[0m\u001b[1;33m,\u001b[0m \u001b[0mfiles\u001b[0m \u001b[1;32min\u001b[0m \u001b[0mos\u001b[0m\u001b[1;33m.\u001b[0m\u001b[0mwalk\u001b[0m\u001b[1;33m(\u001b[0m\u001b[0mdirname\u001b[0m\u001b[1;33m)\u001b[0m\u001b[1;33m:\u001b[0m\u001b[1;33m\u001b[0m\u001b[1;33m\u001b[0m\u001b[0m\n\u001b[0;32m     10\u001b[0m         \u001b[1;32mfor\u001b[0m \u001b[0mfile\u001b[0m \u001b[1;32min\u001b[0m \u001b[0mfiles\u001b[0m\u001b[1;33m:\u001b[0m\u001b[1;33m\u001b[0m\u001b[1;33m\u001b[0m\u001b[0m\n\u001b[1;32m---> 11\u001b[1;33m             \u001b[0msize\u001b[0m \u001b[1;33m=\u001b[0m \u001b[0mos\u001b[0m\u001b[1;33m.\u001b[0m\u001b[0mpath\u001b[0m\u001b[1;33m.\u001b[0m\u001b[0mgetsize\u001b[0m\u001b[1;33m(\u001b[0m\u001b[0mfile\u001b[0m\u001b[1;33m)\u001b[0m\u001b[1;33m\u001b[0m\u001b[1;33m\u001b[0m\u001b[0m\n\u001b[0m\u001b[0;32m     12\u001b[0m             \u001b[1;32mif\u001b[0m \u001b[0msize\u001b[0m \u001b[1;33m>\u001b[0m \u001b[0mfilesize\u001b[0m\u001b[1;33m:\u001b[0m\u001b[1;33m\u001b[0m\u001b[1;33m\u001b[0m\u001b[0m\n\u001b[0;32m     13\u001b[0m                 \u001b[0mresults\u001b[0m\u001b[1;33m.\u001b[0m\u001b[0mappend\u001b[0m\u001b[1;33m(\u001b[0m\u001b[0mfile\u001b[0m\u001b[1;33m)\u001b[0m\u001b[1;33m\u001b[0m\u001b[1;33m\u001b[0m\u001b[0m\n",
      "\u001b[1;32mc:\\program files\\python38\\lib\\genericpath.py\u001b[0m in \u001b[0;36mgetsize\u001b[1;34m(filename)\u001b[0m\n\u001b[0;32m     48\u001b[0m \u001b[1;32mdef\u001b[0m \u001b[0mgetsize\u001b[0m\u001b[1;33m(\u001b[0m\u001b[0mfilename\u001b[0m\u001b[1;33m)\u001b[0m\u001b[1;33m:\u001b[0m\u001b[1;33m\u001b[0m\u001b[1;33m\u001b[0m\u001b[0m\n\u001b[0;32m     49\u001b[0m     \u001b[1;34m\"\"\"Return the size of a file, reported by os.stat().\"\"\"\u001b[0m\u001b[1;33m\u001b[0m\u001b[1;33m\u001b[0m\u001b[0m\n\u001b[1;32m---> 50\u001b[1;33m     \u001b[1;32mreturn\u001b[0m \u001b[0mos\u001b[0m\u001b[1;33m.\u001b[0m\u001b[0mstat\u001b[0m\u001b[1;33m(\u001b[0m\u001b[0mfilename\u001b[0m\u001b[1;33m)\u001b[0m\u001b[1;33m.\u001b[0m\u001b[0mst_size\u001b[0m\u001b[1;33m\u001b[0m\u001b[1;33m\u001b[0m\u001b[0m\n\u001b[0m\u001b[0;32m     51\u001b[0m \u001b[1;33m\u001b[0m\u001b[0m\n\u001b[0;32m     52\u001b[0m \u001b[1;33m\u001b[0m\u001b[0m\n",
      "\u001b[1;31mFileNotFoundError\u001b[0m: [WinError 2] The system cannot find the file specified: 'assignment10_drop_char.py'"
     ]
    }
   ],
   "source": [
    "lst = find_large_files('..', 1048576)\n",
    "print(len(lst))\n",
    "\n",
    "for path in lst:\n",
    "    print(path)"
   ]
  },
  {
   "cell_type": "markdown",
   "metadata": {},
   "source": [
    "## Problem 5:\n",
    "\n",
    "The following stand-alone program takes a url from the command line, reads the contents of a webpage, and prints it.\n",
    " \n",
    "Modify the program to take a filename as a second parameter and save the contents of the webpage in a text file.  \n",
    "\n",
    "```python\n",
    "    python save_url.py 'http://www.python.org/' pythonpage.txt\n",
    "```\n",
    "\n",
    "would save the contents of the webpage in the text file pythonpage.txt.  \n",
    "\n",
    "You may want to review the mycopy.py program from day 4 which takes two \n",
    "parameters and copies the contents of the first file to the second.  \n",
    "\n",
    "Use this and an editor to find the copyright notice on the following websites.\n",
    "\n",
    "```python\n",
    "    website = 'http://www.python.org/'\n",
    "    website = 'https://www.extension.harvard.edu'\n",
    "    website = 'http://en.wikipedia.org/wiki/Python'\n",
    "    \n",
    "    website = Your piazza link: mine looks something like this: \n",
    "            https://piazza.com/class/myxlplyxmyxlplyx?cid=194\n",
    "```\n",
    "You will need to remove the last bit from your piazza link that specifies the cid:  '?cid=194'.  In my case, this would leave https://piazza.com/class/myxlplyxmyxlplyx\n",
    "\n",
    "This problem gives you a chance to examine webpages, and shows how \n",
    "different website creators deal with a common problem, presenting a copyright.\n",
    "You will see that writing a program to extract the copyright from different websites would be difficult.  \n",
    "\n",
    "One alternative way to view the source for a website is through your browser.\n",
    "For example, in Chrome you can use View/Developer/View Source"
   ]
  },
  {
   "cell_type": "code",
   "execution_count": null,
   "metadata": {},
   "outputs": [],
   "source": [
    "# read_url.py\n",
    "#\n",
    "# Jeff Parker\n",
    "#\n",
    "# Usage:\n",
    "#     python read_url.py <website>\n",
    "\n",
    "import urllib.request\n",
    "import sys\n",
    "\n",
    "\n",
    "def fetch_contents(website):\n",
    "    \"Return the contents of this webpage as a list of lines\"\n",
    "    try:\n",
    "        res = []\n",
    "\n",
    "        with urllib.request.urlopen(website) as f:\n",
    "            text = f.read().decode('utf-8')\n",
    "\n",
    "            # Break the page into lines\n",
    "            text = text.split('\\n')\n",
    "            for line in text:\n",
    "                res.append(line)\n",
    "    \n",
    "        return res\n",
    "\n",
    "    except urllib.error.URLError as e:\n",
    "        print(e.reason)\n",
    "        return []\n",
    "\n",
    "if (len(sys.argv) != 2):\n",
    "    print(f\"Usage: python read_url.py <website>\")\n",
    "else:\n",
    "    lst = fetch_contents(sys.argv[1])\n",
    "\n",
    "    # Now display the contents\n",
    "    for line in lst:\n",
    "        print(line)"
   ]
  },
  {
   "cell_type": "markdown",
   "metadata": {},
   "source": [
    "## Include your program below"
   ]
  },
  {
   "cell_type": "code",
   "execution_count": null,
   "metadata": {},
   "outputs": [],
   "source": [
    "# save_url.py\n",
    "#\n",
    "# Usage:\n",
    "#     python save_url.py <website> <textfile>\n",
    "\n",
    "import urllib.request\n",
    "import sys\n"
   ]
  },
  {
   "cell_type": "markdown",
   "metadata": {},
   "source": [
    "### Show the webpage elements holding the copyright information for each website"
   ]
  },
  {
   "cell_type": "code",
   "execution_count": null,
   "metadata": {},
   "outputs": [],
   "source": [
    "### Copyright notice for 'http://www.python.org/'\n"
   ]
  },
  {
   "cell_type": "code",
   "execution_count": null,
   "metadata": {},
   "outputs": [],
   "source": [
    "### Copyright notice for 'https://www.extension.harvard.edu'\n"
   ]
  },
  {
   "cell_type": "code",
   "execution_count": null,
   "metadata": {},
   "outputs": [],
   "source": [
    "### Copyright notice for 'http://en.wikipedia.org/wiki/Python'\n"
   ]
  },
  {
   "cell_type": "code",
   "execution_count": null,
   "metadata": {},
   "outputs": [],
   "source": [
    "### Copyright notice for Piazza\n"
   ]
  },
  {
   "cell_type": "markdown",
   "metadata": {},
   "source": [
    "# Post Mortem"
   ]
  },
  {
   "cell_type": "markdown",
   "metadata": {},
   "source": [
    "How long did it take you to solve this problem set?\n",
    "\n",
    "Did anything confuse you or cause difficulty?"
   ]
  },
  {
   "cell_type": "code",
   "execution_count": null,
   "metadata": {},
   "outputs": [],
   "source": [
    "# Enter your thoughts\n"
   ]
  }
 ],
 "metadata": {
  "kernelspec": {
   "display_name": "Python 3",
   "language": "python",
   "name": "python3"
  },
  "language_info": {
   "codemirror_mode": {
    "name": "ipython",
    "version": 3
   },
   "file_extension": ".py",
   "mimetype": "text/x-python",
   "name": "python",
   "nbconvert_exporter": "python",
   "pygments_lexer": "ipython3",
   "version": "3.8.5"
  }
 },
 "nbformat": 4,
 "nbformat_minor": 1
}
