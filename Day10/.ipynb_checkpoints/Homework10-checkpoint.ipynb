{
 "cells": [
  {
   "cell_type": "markdown",
   "metadata": {},
   "source": [
    "# Homework 10\n",
    "\n",
    "## Due Nov 9th, 2020"
   ]
  },
  {
   "cell_type": "markdown",
   "metadata": {},
   "source": [
    "## Fill in your name"
   ]
  },
  {
   "cell_type": "code",
   "execution_count": 5,
   "metadata": {},
   "outputs": [
    {
     "name": "stdout",
     "output_type": "stream",
     "text": [
      "Scott Urista\n"
     ]
    }
   ],
   "source": [
    "first_name = \"Scott\"\n",
    "last_name = \"Urista\"\n",
    "\n",
    "assert(len(first_name) != 0)\n",
    "assert(len(last_name)  != 0)\n",
    "print(first_name, last_name)"
   ]
  },
  {
   "cell_type": "markdown",
   "metadata": {},
   "source": [
    "# Problem 1: Word Lengths\n",
    "We are interested in the distribution of word lengths in English words.\n",
    "\n",
    "Write a function wordLengths() that takes a path to a list of words\n",
    "and returns a list with tuples holding the number of words of each word length.\n",
    "\n",
    "Sort your list by length of word.  \n",
    "\n",
    "#### Here are my partial results: words.txt holds 85 words of length 2, 908 words of length 3, and 3 words of length 21.   \n",
    "\n",
    "```python\n",
    "[(2, 85), (3, 908), ... (21, 3)]\n",
    "```"
   ]
  },
  {
   "cell_type": "code",
   "execution_count": 9,
   "metadata": {},
   "outputs": [],
   "source": [
    "def wordLengths(filepath):\n",
    "    \"\"\"returns list of tuples with number of words of each word length\"\"\"\n",
    "    \n",
    "    sol = {}\n",
    "    \n",
    "    try:\n",
    "        with open(filepath, 'r') as f:\n",
    "            raw_list = [word.strip() for word in f]\n",
    "\n",
    "    except FileNotFoundError:\n",
    "        print(\"Houson, we have a problem, could not find file {filepath}\")\n",
    "\n",
    "    # create dictionary for counting\n",
    "    for word in raw_list:\n",
    "        if len(word) not in sol:\n",
    "            sol[len(word)] = 1\n",
    "        else:\n",
    "            sol[len(word)] += 1\n",
    "\n",
    "    return sorted(sol.items())"
   ]
  },
  {
   "cell_type": "markdown",
   "metadata": {},
   "source": [
    "## Test cases for wordLengths"
   ]
  },
  {
   "cell_type": "code",
   "execution_count": 10,
   "metadata": {},
   "outputs": [
    {
     "name": "stdout",
     "output_type": "stream",
     "text": [
      "[(2, 85), (3, 908), (4, 3686), (5, 8258), (6, 14374), (7, 21727), (8, 26447), (9, 16658), (10, 9199), (11, 5296), (12, 3166), (13, 1960), (14, 1023), (15, 557), (16, 261), (17, 132), (18, 48), (19, 16), (20, 5), (21, 3)]\n",
      "(2, 85)\n",
      "\n",
      "Success!\n"
     ]
    }
   ],
   "source": [
    "## Change this XXXX\n",
    "filepath = 'words.txt'\n",
    "\n",
    "def test_wordLengths(filepath):\n",
    "    lst = wordLengths(filepath)\n",
    "    print(lst)\n",
    "    \n",
    "    print(lst[0])\n",
    "    assert lst[0] == (2, 85)\n",
    "    assert lst[1] == (3, 908)\n",
    "    assert lst[5] == (7, 21727)\n",
    "    assert lst[-1] == (21, 3)\n",
    "    \n",
    "    print('\\nSuccess!')\n",
    "\n",
    "test_wordLengths(filepath)"
   ]
  },
  {
   "cell_type": "markdown",
   "metadata": {},
   "source": [
    "# Problem 2: Draw a histogram of the word lengths\n",
    "\n",
    "Use matplotlib to draw a histogram of the word lengths.  You may want to peek at the documentation\n",
    "\n",
    "https://matplotlib.org/3.1.1/gallery/statistics/hist.html\n",
    "\n",
    "or at this tutorial\n",
    "\n",
    "https://datatofish.com/plot-histogram-python/\n",
    "\n",
    "Does the histogram lineup with your results from problem 1?"
   ]
  },
  {
   "cell_type": "code",
   "execution_count": 11,
   "metadata": {},
   "outputs": [],
   "source": [
    "import matplotlib.pyplot as plt\n",
    " \n",
    "def plot_histogram(filepath):\n",
    "    \"create a histogram of wordLengths\"\n",
    "    x,y = zip(*wordLengths(filepath))\n",
    "    plt.bar(x,y, color='g')\n",
    "    plt.show()"
   ]
  },
  {
   "cell_type": "markdown",
   "metadata": {},
   "source": [
    "### Unit test of Plot Histogram"
   ]
  },
  {
   "cell_type": "code",
   "execution_count": 13,
   "metadata": {},
   "outputs": [
    {
     "data": {
      "image/png": "[encoded data removed]",
      "text/plain": [
       "<Figure size 432x288 with 1 Axes>"
      ]
     },
     "metadata": {
      "needs_background": "light"
     },
     "output_type": "display_data"
    }
   ],
   "source": [
    "## Change this path to point at your copy of words.txt\n",
    "plot_histogram('words.txt')"
   ]
  },
  {
   "cell_type": "markdown",
   "metadata": {},
   "source": [
    "# Problem 3: Anagrams\n",
    "\n",
    "Two words are anagrams if you can rearange the letters of the first to get the second.\n",
    "\n",
    "Our old friends 'abut' and 'tuba' are anagrams, but so are 'abets' and 'beats'.  \n",
    "\n",
    "However, 'hash' and 'sash', though they are the same length and made up of the same letters, are not anagrams.  "
   ]
  },
  {
   "cell_type": "code",
   "execution_count": 14,
   "metadata": {},
   "outputs": [],
   "source": [
    "def are_anagrams(word1, word2):\n",
    "    # Are the two words anagrams?\n",
    "\n",
    "    # must be same length\n",
    "    if len(word1) != len(word2):\n",
    "        return False\n",
    "    \n",
    "    # can't be the same word\n",
    "    if word1 == word2:\n",
    "        return False\n",
    "\n",
    "    #sort each string alphabetically and compare\n",
    "    return sorted(word1.lower()) == sorted(word2.lower())"
   ]
  },
  {
   "cell_type": "markdown",
   "metadata": {},
   "source": [
    "## Unit Tests"
   ]
  },
  {
   "cell_type": "code",
   "execution_count": 15,
   "metadata": {},
   "outputs": [
    {
     "name": "stdout",
     "output_type": "stream",
     "text": [
      "Success!\n"
     ]
    }
   ],
   "source": [
    "def test_anagrams():\n",
    "    assert(are_anagrams('abets', 'beats'))\n",
    "    assert(are_anagrams('hash', 'shah'))\n",
    "    assert(are_anagrams('Hash', 'Shah'))\n",
    "    \n",
    "    assert(not are_anagrams('hash', 'sash'))\n",
    "    assert not are_anagrams(\"zombies\", \"pants\")\n",
    "    assert are_anagrams('streams', 'masters')\n",
    "    assert are_anagrams('inlets', 'listen')\n",
    "    \n",
    "    return('Success!')\n",
    "\n",
    "print(test_anagrams())"
   ]
  },
  {
   "cell_type": "markdown",
   "metadata": {},
   "source": [
    "# Problem 4: Space Jam\n",
    "\n",
    "### Can Beautiful soup parse an ancient artifact?  We'll see!"
   ]
  },
  {
   "cell_type": "code",
   "execution_count": 16,
   "metadata": {},
   "outputs": [],
   "source": [
    "import requests\n",
    "from bs4 import BeautifulSoup"
   ]
  },
  {
   "cell_type": "markdown",
   "metadata": {},
   "source": [
    "## If you haven't already installed Beautiful Soup, you will need to run\n",
    "\n",
    "```python\n",
    "    pip install bs4\n",
    "```"
   ]
  },
  {
   "cell_type": "code",
   "execution_count": 17,
   "metadata": {},
   "outputs": [
    {
     "name": "stdout",
     "output_type": "stream",
     "text": [
      "Requirement already satisfied: bs4 in /home/suristalnx/anaconda3/lib/python3.8/site-packages (0.0.1)\r\n",
      "Requirement already satisfied: beautifulsoup4 in /home/suristalnx/anaconda3/lib/python3.8/site-packages (from bs4) (4.9.1)\r\n",
      "Requirement already satisfied: soupsieve>1.2 in /home/suristalnx/anaconda3/lib/python3.8/site-packages (from beautifulsoup4->bs4) (2.0.1)\r\n"
     ]
    }
   ],
   "source": [
    "## Run this if you haven't installed Beautiful Soup\n",
    "\n",
    "! pip install bs4"
   ]
  },
  {
   "cell_type": "markdown",
   "metadata": {},
   "source": [
    "## 4.1 Display https://spacejam.com/\n",
    "### Using the space jam URL to request the web page.  Pretty-print the entire page"
   ]
  },
  {
   "cell_type": "code",
   "execution_count": 18,
   "metadata": {},
   "outputs": [
    {
     "name": "stdout",
     "output_type": "stream",
     "text": [
      "<html>\n",
      " <!-- Copyright 1996 Warner Bros. Online -->\n",
      " <!-- Badda Bing, Badda Boom -->\n",
      " <head>\n",
      "  <title>\n",
      "   Space Jam\n",
      "  </title>\n",
      "  <style type=\"text/css\">\n",
      "   .footer-links {\r\n",
      "    margin: 5px;\r\n",
      "  }\n",
      "  </style>\n",
      " </head>\n",
      " <body alink=\"#ff4c4c\" background=\"img/bg_stars.gif\" bgcolor=\"#000000\" link=\"#ff4c4c\" text=\"#ff0000\" vlink=\"#ff4c4c\">\n",
      "  <center>\n",
      "   <!--**************Ads - Don't Touch!*************************************-->\n",
      "   <center>\n",
      "    <nobr>\n",
      "     <table border=\"0\" cellpadding=\"0\" cellspacing=\"0\" height=\"60\" width=\"488\">\n",
      "      <tr>\n",
      "       <td align=\"center\">\n",
      "        <!--#include virtual=\"html.ng/site=spacejam&type=movie&home=no&size=234&page.allowcompete=no\"-->\n",
      "       </td>\n",
      "       <td align=\"center\" width=\"20\">\n",
      "       </td>\n",
      "       <td align=\"center\">\n",
      "        <!--#include virtual=\"html.ng/site=spacejam&type=movie&home=no&size=234\"-->\n",
      "       </td>\n",
      "      </tr>\n",
      "     </table>\n",
      "    </nobr>\n",
      "   </center>\n",
      "   <!--*******************************************************************-->\n",
      "   <br/>\n",
      "   <table border=\"0\" width=\"500\">\n",
      "    <tr>\n",
      "     <td align=\"left\">\n",
      "      <!-- <a href=\"video/\"><img src=\"img/fast.gif\" width=50 height=11 border=0 align=absmiddle alt=\"fast\"><img src=\"img/fastbreak.gif\" align=absmiddle width=40 height=40 alt=\"Fast Break\" border=0><img src=\"img/break.gif\" width=50 height=11 border=0 align=absmiddle alt=\"fast\"></a> -->\n",
      "     </td>\n",
      "     <td align=\"right\">\n",
      "     </td>\n",
      "    </tr>\n",
      "   </table>\n",
      "   <br/>\n",
      "   <br/>\n",
      "   <table border=\"0\" width=\"500\">\n",
      "    <tr>\n",
      "     <td align=\"right\" colspan=\"5\" valign=\"top\">\n",
      "     </td>\n",
      "    </tr>\n",
      "    <tr>\n",
      "     <td align=\"right\" colspan=\"2\" valign=\"middle\">\n",
      "      <br/>\n",
      "      <br/>\n",
      "      <br/>\n",
      "      <a href=\"cmp/pressbox/pressboxframes.html\">\n",
      "       <img alt=\"Press Box Shuttle\" border=\"0\" height=\"56\" src=\"img/p-pressbox.gif\" width=\"131\"/>\n",
      "      </a>\n",
      "     </td>\n",
      "     <td align=\"center\" valign=\"middle\">\n",
      "      <a href=\"cmp/jamcentral/jamcentralframes.html\">\n",
      "       <img alt=\"Jam Central\" border=\"0\" height=\"67\" src=\"img/p-jamcentral.gif\" width=\"55\"/>\n",
      "      </a>\n",
      "     </td>\n",
      "     <td align=\"center\" valign=\"top\">\n",
      "      <a href=\"cmp/bball/bballframes.html\">\n",
      "       <img alt=\"Planet B-Ball\" border=\"0\" height=\"62\" src=\"img/p-bball.gif\" width=\"62\"/>\n",
      "      </a>\n",
      "     </td>\n",
      "     <td align=\"center\" valign=\"bottom\">\n",
      "      <br/>\n",
      "      <br/>\n",
      "      <a href=\"cmp/tunes/tunesframes.html\">\n",
      "       <img alt=\"Lunar Tunes\" border=\"0\" height=\"77\" src=\"img/p-lunartunes.gif\" width=\"95\"/>\n",
      "      </a>\n",
      "     </td>\n",
      "    </tr>\n",
      "    <tr>\n",
      "     <td align=\"middle\" valign=\"top\">\n",
      "      <br/>\n",
      "      <br/>\n",
      "      <a href=\"cmp/lineup/lineupframes.html\">\n",
      "       <img alt=\"The Lineup\" border=\"0\" height=\"52\" src=\"img/p-lineup.gif\" width=\"63\"/>\n",
      "      </a>\n",
      "     </td>\n",
      "     <td align=\"right\" colspan=\"3\" rowspan=\"2\" valign=\"middle\">\n",
      "      <img alt=\"Space Jam\" border=\"0\" height=\"165\" src=\"img/p-jamlogo.gif\" width=\"272\"/>\n",
      "     </td>\n",
      "     <td align=\"right\" valign=\"bottom\">\n",
      "      <a href=\"cmp/jump/jumpframes.html\">\n",
      "       <img alt=\"Jump Station\" border=\"0\" height=\"52\" src=\"img/p-jump.gif\" width=\"58\"/>\n",
      "      </a>\n",
      "     </td>\n",
      "    </tr>\n",
      "    <tr>\n",
      "     <td align=\"center\" valign=\"bottom\">\n",
      "      <a href=\"cmp/junior/juniorframes.html\">\n",
      "       <img alt=\"Junior Jam\" border=\"0\" height=\"57\" src=\"img/p-junior.gif\" width=\"49\"/>\n",
      "      </a>\n",
      "     </td>\n",
      "     <td align=\"center\" rowspan=\"2\" valign=\"top\">\n",
      "      <br/>\n",
      "      <br/>\n",
      "      <a href=\"https://www.wbshop.com/\" target=\"_blank\">\n",
      "       <img alt=\"Warner Studio Store\" border=\"0\" height=\"72\" src=\"img/p-studiostore.gif\" width=\"94\"/>\n",
      "      </a>\n",
      "     </td>\n",
      "    </tr>\n",
      "    <tr>\n",
      "     <td>\n",
      "     </td>\n",
      "     <td align=\"center\" valign=\"top\">\n",
      "      <a href=\"cmp/souvenirs/souvenirsframes.html\">\n",
      "       <img alt=\"Stellar Souvenirs\" border=\"0\" height=\"83\" src=\"img/p-souvenirs.gif\" width=\"83\"/>\n",
      "      </a>\n",
      "     </td>\n",
      "     <td align=\"center\" valign=\"bottom\">\n",
      "      <br/>\n",
      "      <br/>\n",
      "      <br/>\n",
      "      <br/>\n",
      "      <a href=\"cmp/sitemap.html\">\n",
      "       <img alt=\"Site Map\" border=\"0\" height=\"67\" src=\"img/p-sitemap.gif\" width=\"104\"/>\n",
      "      </a>\n",
      "     </td>\n",
      "     <td align=\"center\" valign=\"middle\">\n",
      "      <a href=\"cmp/behind/behindframes.html\">\n",
      "       <img alt=\"Behind the Jam\" border=\"0\" height=\"63\" src=\"img/p-behind.gif\" width=\"67\"/>\n",
      "      </a>\n",
      "     </td>\n",
      "    </tr>\n",
      "   </table>\n",
      "   <br/>\n",
      "   <br/>\n",
      "   <br/>\n",
      "   <!--**************Ads - Don't Touch!************************************-->\n",
      "   <center>\n",
      "    <nobr>\n",
      "     <table border=\"0\" cellpadding=\"5\" cellspacing=\"0\">\n",
      "      <tr>\n",
      "       <td align=\"center\" colspan=\"3\">\n",
      "        <!--#include virtual=\"/html.ng/site=spacejam&spacedesc=button.top\" -->\n",
      "       </td>\n",
      "      </tr>\n",
      "      <tr>\n",
      "       <td align=\"center\">\n",
      "        <!--#include virtual=\"/html.ng/site=spacejam&spacedesc=button.left\" -->\n",
      "       </td>\n",
      "       <td align=\"center\" width=\"10\">\n",
      "       </td>\n",
      "       <td align=\"center\">\n",
      "        <!--#include virtual=\"/html.ng/site=spacejam&spacedesc=button.right\" -->\n",
      "       </td>\n",
      "      </tr>\n",
      "     </table>\n",
      "    </nobr>\n",
      "   </center>\n",
      "   <!--*******************************************************************-->\n",
      "   <!--**************Ads - Don't Touch!************************************-->\n",
      "   <center>\n",
      "    <nobr>\n",
      "     <table border=\"0\" cellpadding=\"5\" cellspacing=\"0\">\n",
      "      <tr>\n",
      "       <td>\n",
      "        <!--#include virtual=\"html.ng/site=spacejam&spacedesc=spacejam.video\" -->\n",
      "       </td>\n",
      "       <td>\n",
      "        <!--#include virtual=\"html.ng/site=spacejam&spacedesc=spacejam.soundtrack\" -->\n",
      "       </td>\n",
      "      </tr>\n",
      "     </table>\n",
      "    </nobr>\n",
      "   </center>\n",
      "   <!--*******************************************************************-->\n",
      "   <br/>\n",
      "   <br/>\n",
      "   <font class=\"footer-links\" size=\"-1\">\n",
      "    <a href=\"https://policies.warnerbros.com/privacy/\" target=\"_blank\">\n",
      "     Privacy Policy\n",
      "    </a>\n",
      "   </font>\n",
      "   <font class=\"footer-links\" size=\"-1\">\n",
      "    <a class=\"optanon-toggle-display\" href=\"#\">\n",
      "     Cookie Settings\n",
      "    </a>\n",
      "   </font>\n",
      "   <font class=\"footer-links\" size=\"-1\">\n",
      "    <a href=\"http://policies.warnerbros.com/terms/en-us/\" target=\"_blank\">\n",
      "     Terms\n",
      "    </a>\n",
      "   </font>\n",
      "   <font class=\"footer-links\" size=\"-1\">\n",
      "    <a href=\"http://policies.warnerbros.com/terms/en-us/#accessibility\" target=\"_blank\">\n",
      "     Accessibility\n",
      "    </a>\n",
      "   </font>\n",
      "   <font class=\"footer-links\" size=\"-1\">\n",
      "    <a href=\"https://policies.warnerbros.com/privacy/en-us/#adchoices\" target=\"_blank\">\n",
      "     AdChoices\n",
      "    </a>\n",
      "   </font>\n",
      "   <br/>\n",
      "   <br/>\n",
      "   <font size=\"-1\">\n",
      "    SPACE JAM, characters, names, and all related\n",
      "    <br/>\n",
      "    indicia are trademarks of Warner Bros. © 1996\n",
      "   </font>\n",
      "   <br/>\n",
      "  </center>\n",
      "  <script type=\"text/javascript\">\n",
      "   //trackOmnitureScode( 'Space Jam - Home' );\n",
      "  </script>\n",
      "  <script src=\"https://policies.warnerbros.com/js/wbPolicyUpdatedNotice.js\">\n",
      "  </script>\n",
      "  <link href=\"css/wbPolicyUpdatedNoticeStyle.css\" rel=\"stylesheet\"/>\n",
      "  <!-- START OMNITURE -->\n",
      "  <!-- SiteCatalyst code version: H.15.1. \r\n",
      "\t\tCopyright 1997-2008 Omniture, Inc.\r\n",
      "\t\tMore info available at http://www.omniture.com -->\n",
      "  <script language=\"JavaScript\" src=\"https://cloud.wbpapps.com/omniture/s_code_theatrical.js\" type=\"text/javascript\">\n",
      "  </script>\n",
      "  <script language=\"JavaScript\" type=\"text/javascript\">\n",
      "   <!--\r\n",
      "\t\t/* You may give each page an identifying name, server, and channel on the next lines. */\r\n",
      "\t\ts.pageName=\"Space Jam\"\r\n",
      "\t\ts.channel=\"\"\r\n",
      "\t\ts.prop1=\"Space Jam.us\"\r\n",
      "\t\ts.prop2=\"\"\r\n",
      "\t\ts.prop3=\"Space Jam Movie Site Index\"\r\n",
      "\t\ts.prop4=\"\"\r\n",
      "\t\ts.prop5=\"\"\r\n",
      "\t\ts.prop6=\"\"\r\n",
      "\t\ts.prop7=\"\"\r\n",
      "\t\ts.prop8=\"\"\r\n",
      "\t\ts.events=\"\"\r\n",
      "\t\ts.products=\"\"\r\n",
      "\t\ts.eVar1=\"\"\r\n",
      "\t\ts.eVar2=\"\"\r\n",
      "\t\ts.eVar3=\"\"\r\n",
      "\t\ts.eVar4=\"\"\r\n",
      "\t\ts.eVar5=\"\"\r\n",
      "\t\t/************* DO NOT ALTER ANYTHING BELOW THIS LINE ! **************/\r\n",
      "\t\tvar s_code=s.t();if(s_code)document.write(s_code)//-->\n",
      "  </script>\n",
      "  <script language=\"JavaScript\" type=\"text/javascript\">\n",
      "   <!--\r\n",
      "\t\tif(navigator.appVersion.indexOf('MSIE')>=0)document.write(unescape('%3C')+'\\!-'+'-')\r\n",
      "\t\t//-->\n",
      "  </script>\n",
      "  <noscript>\n",
      "   <a href=\"http://www.omniture.com\" title=\"Web Analytics\">\n",
      "    <img alt=\"\" border=\"0\" height=\"1\" src=\"http://wbrostheatricalother.112.2O7.net/b/ss/wbrostheatricalother/1/H.15.1--NS/0?[AQB]&amp;cdp=3&amp;[AQE]\" width=\"1\"/>\n",
      "   </a>\n",
      "  </noscript>\n",
      "  <!--/DO NOT REMOVE/-->\n",
      "  <!-- End SiteCatalyst code version: H.15.1. -->\n",
      "  <!-- END  OMNITURE -->\n",
      " </body>\n",
      "</html>\n",
      "\n"
     ]
    }
   ],
   "source": [
    "import requests\n",
    "from bs4 import BeautifulSoup\n",
    "\n",
    "url = \"https://spacejam.com/\"\n",
    "html_content = requests.get(url).text\n",
    "soup = BeautifulSoup(html_content, 'html.parser')\n",
    "print(soup.prettify())\n"
   ]
  },
  {
   "cell_type": "markdown",
   "metadata": {},
   "source": [
    "## 4.2 Find all links in the page. Print out the number of links, and display each one"
   ]
  },
  {
   "cell_type": "code",
   "execution_count": 19,
   "metadata": {},
   "outputs": [
    {
     "name": "stdout",
     "output_type": "stream",
     "text": [
      "17\n",
      "<a href=\"cmp/pressbox/pressboxframes.html\"><img alt=\"Press Box Shuttle\" border=\"0\" height=\"56\" src=\"img/p-pressbox.gif\" width=\"131\"/></a>\n",
      "<a href=\"cmp/jamcentral/jamcentralframes.html\"><img alt=\"Jam Central\" border=\"0\" height=\"67\" src=\"img/p-jamcentral.gif\" width=\"55\"/></a>\n",
      "<a href=\"cmp/bball/bballframes.html\"><img alt=\"Planet B-Ball\" border=\"0\" height=\"62\" src=\"img/p-bball.gif\" width=\"62\"/></a>\n",
      "<a href=\"cmp/tunes/tunesframes.html\"><img alt=\"Lunar Tunes\" border=\"0\" height=\"77\" src=\"img/p-lunartunes.gif\" width=\"95\"/></a>\n",
      "<a href=\"cmp/lineup/lineupframes.html\"><img alt=\"The Lineup\" border=\"0\" height=\"52\" src=\"img/p-lineup.gif\" width=\"63\"/></a>\n",
      "<a href=\"cmp/jump/jumpframes.html\"><img alt=\"Jump Station\" border=\"0\" height=\"52\" src=\"img/p-jump.gif\" width=\"58\"/></a>\n",
      "<a href=\"cmp/junior/juniorframes.html\"><img alt=\"Junior Jam\" border=\"0\" height=\"57\" src=\"img/p-junior.gif\" width=\"49\"/></a>\n",
      "<a href=\"https://www.wbshop.com/\" target=\"_blank\"><img alt=\"Warner Studio Store\" border=\"0\" height=\"72\" src=\"img/p-studiostore.gif\" width=\"94\"/></a>\n",
      "<a href=\"cmp/souvenirs/souvenirsframes.html\"><img alt=\"Stellar Souvenirs\" border=\"0\" height=\"83\" src=\"img/p-souvenirs.gif\" width=\"83\"/></a>\n",
      "<a href=\"cmp/sitemap.html\"><img alt=\"Site Map\" border=\"0\" height=\"67\" src=\"img/p-sitemap.gif\" width=\"104\"/></a>\n",
      "<a href=\"cmp/behind/behindframes.html\"><img alt=\"Behind the Jam\" border=\"0\" height=\"63\" src=\"img/p-behind.gif\" width=\"67\"/></a>\n",
      "<a href=\"https://policies.warnerbros.com/privacy/\" target=\"_blank\">Privacy Policy</a>\n",
      "<a class=\"optanon-toggle-display\" href=\"#\">Cookie Settings</a>\n",
      "<a href=\"http://policies.warnerbros.com/terms/en-us/\" target=\"_blank\">Terms</a>\n",
      "<a href=\"http://policies.warnerbros.com/terms/en-us/#accessibility\" target=\"_blank\">Accessibility</a>\n",
      "<a href=\"https://policies.warnerbros.com/privacy/en-us/#adchoices\" target=\"_blank\">AdChoices</a>\n",
      "<a href=\"http://www.omniture.com\" title=\"Web Analytics\"><img alt=\"\" border=\"0\" height=\"1\" src=\"http://wbrostheatricalother.112.2O7.net/b/ss/wbrostheatricalother/1/H.15.1--NS/0?[AQB]&amp;cdp=3&amp;[AQE]\" width=\"1\"/></a>\n"
     ]
    }
   ],
   "source": [
    "url = \"https://spacejam.com/\"\n",
    "html_content = requests.get(url).text\n",
    "soup = BeautifulSoup(html_content, 'html.parser')\n",
    "all_links = [link for link in soup.find_all(\"a\")]\n",
    "print(len(all_links))\n",
    "for item in all_links:\n",
    "    print(item)\n"
   ]
  },
  {
   "cell_type": "markdown",
   "metadata": {},
   "source": [
    "## 4.3 Note that there are more links than planets on the page!   Look for missing links!  \n",
    "\n",
    "Loop through the links you already found, and look for the 'alt' attribute of each image\n",
    "\n",
    "Display any links without an 'alt' attribute\n",
    "\n",
    "Print the number of links with an 'alt' attribute\n",
    "\n",
    "### *The Links have images: the images associated with the planets have 'alt' attributes describing the planet*\n",
    "\n",
    "Here is a link with an image from the DCE site\n",
    "\n",
    "```python\n",
    "<a class=\"header__logo i-hes-logo\" href=\"/\" id=\"logo\" rel=\"home\" title=\"Home\">\n",
    "<noscript><img alt=\"Home\" class=\"header__logo-image\" src=\"https://www.extension.harvard.edu/sites/extension.harvard.edu/themes/extension/logo.png\"/></noscript>\n",
    "</a>top.jpg\"/>\n",
    "```\n",
    "The link (a for anchor) above includes an img, duplicated below\n",
    "\n",
    "```python\n",
    "<img alt=\"Home\" class=\"header__logo-image\" src=\"https://www.extension.harvard.edu/sites/extension.harvard.edu/themes/extension/logo.png\"/>\n",
    "```\n",
    "\n",
    "The image, logo.png, has an alt tag, to provide text describing the image.  The alt text here is 'Home'.  \n",
    "\n",
    "### Gather all img tags, then look for the 'alt' attribute for each image.  If it doesn't have alt text, display it.  "
   ]
  },
  {
   "cell_type": "code",
   "execution_count": 20,
   "metadata": {},
   "outputs": [
    {
     "name": "stdout",
     "output_type": "stream",
     "text": [
      "1\n",
      "<img alt=\"\" border=\"0\" height=\"1\" src=\"http://wbrostheatricalother.112.2O7.net/b/ss/wbrostheatricalother/1/H.15.1--NS/0?[AQB]&amp;cdp=3&amp;[AQE]\" width=\"1\"/>\n"
     ]
    }
   ],
   "source": [
    "url = \"https://spacejam.com/\"\n",
    "html_content = requests.get(url).text\n",
    "soup = BeautifulSoup(html_content, 'html.parser')\n",
    "img_no_alt = [link for link in soup.find_all(\"img\", alt=\"\")]\n",
    "print(len(img_no_alt))\n",
    "for item in img_no_alt:\n",
    "    print(item)"
   ]
  },
  {
   "cell_type": "markdown",
   "metadata": {},
   "source": [
    "## 4.4 Make a dictionary mapping 'alt' texts from the images to a URLs \n",
    "### If the href doesn't start with https, it is a partial url.  Append it to the base_url.\n",
    "\n",
    "Here are a couple of links from the page:\n",
    "\n",
    "```python\n",
    "<a href=\"https://policies.warnerbros.com/privacy/\" target=\"_blank\">Privacy Policy</a>\n",
    "<a href=\"cmp/behind/behindframes.html\"><img alt=\"Behind the Jam\" border=\"0\" height=\"63\" src=\"img/p-behind.gif\" width=\"67\"/></a>\n",
    "```\n",
    "\n",
    "The first link is a full URL: you can go to https://policies.warnerbros.com/privacy/ even today\n",
    "\n",
    "The second link, 'cmp/behind/behindframes.html' is not a valid URL.  You need to append it to the base URL, \n",
    "\n",
    "https://spacejam.com/\n",
    "\n",
    "This gives a full URL, https://spacejam.com/cmp/behind/behindframes.html, which is valid\n",
    "\n",
    "## Print the URL to the Jam Central planet.  "
   ]
  },
  {
   "cell_type": "code",
   "execution_count": 21,
   "metadata": {},
   "outputs": [],
   "source": [
    "url = \"https://spacejam.com/\"\n",
    "test = {}\n",
    "html_content = requests.get(url).text\n",
    "soup = BeautifulSoup(html_content, 'html.parser')\n",
    "all_links = [link for link in soup.find_all(\"img\")]\n"
   ]
  },
  {
   "cell_type": "markdown",
   "metadata": {},
   "source": [
    "# Post Mortem\n",
    "How long did it take you to solve this problem set?\n",
    "\n",
    "Did anything confuse you or cause difficulty?"
   ]
  },
  {
   "cell_type": "code",
   "execution_count": null,
   "metadata": {},
   "outputs": [],
   "source": [
    "## Enter your thoughts"
   ]
  }
 ],
 "metadata": {
  "kernelspec": {
   "display_name": "Python 3",
   "language": "python",
   "name": "python3"
  },
  "language_info": {
   "codemirror_mode": {
    "name": "ipython",
    "version": 3
   },
   "file_extension": ".py",
   "mimetype": "text/x-python",
   "name": "python",
   "nbconvert_exporter": "python",
   "pygments_lexer": "ipython3",
   "version": "3.8.3"
  }
 },
 "nbformat": 4,
 "nbformat_minor": 1
}
