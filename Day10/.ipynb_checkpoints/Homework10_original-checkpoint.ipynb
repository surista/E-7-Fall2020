{
 "cells": [
  {
   "cell_type": "markdown",
   "metadata": {},
   "source": [
    "# Homework 10\n",
    "\n",
    "## Due Nov 9th, 2020"
   ]
  },
  {
   "cell_type": "markdown",
   "metadata": {},
   "source": [
    "## Fill in your name"
   ]
  },
  {
   "cell_type": "code",
   "execution_count": null,
   "metadata": {},
   "outputs": [],
   "source": [
    "first_name = \"\"\n",
    "last_name = \"\"\n",
    "\n",
    "assert(len(first_name) != 0)\n",
    "assert(len(last_name)  != 0)\n",
    "print(first_name, last_name)"
   ]
  },
  {
   "cell_type": "markdown",
   "metadata": {},
   "source": [
    "# Problem 1: Word Lengths\n",
    "We are interested in the distribution of word lengths in English words.\n",
    "\n",
    "Write a function wordLengths() that takes a path to a list of words\n",
    "and returns a list with tuples holding the number of words of each word length.\n",
    "\n",
    "Sort your list by length of word.  \n",
    "\n",
    "#### Here are my partial results: words.txt holds 85 words of length 2, 908 words of length 3, and 3 words of length 21.   \n",
    "\n",
    "```python\n",
    "[(2, 85), (3, 908), ... (21, 3)]\n",
    "```"
   ]
  },
  {
   "cell_type": "code",
   "execution_count": null,
   "metadata": {},
   "outputs": [],
   "source": [
    " def wordLengths(filepath):\n",
    "    pass"
   ]
  },
  {
   "cell_type": "markdown",
   "metadata": {},
   "source": [
    "## Test cases for wordLengths"
   ]
  },
  {
   "cell_type": "code",
   "execution_count": null,
   "metadata": {},
   "outputs": [],
   "source": [
    "## Change this XXXX\n",
    "filepath = '../Programs/words.txt'\n",
    "\n",
    "def test_wordLengths(filepath):\n",
    "    lst = wordLengths(filepath)\n",
    "    print(lst)\n",
    "    \n",
    "    print(lst[0])\n",
    "    assert lst[0] == (2, 85)\n",
    "    assert lst[1] == (3, 908)\n",
    "    assert lst[5] == (7, 21727)\n",
    "    assert lst[-1] == (21, 3)\n",
    "    \n",
    "    print('\\nSuccess!')\n",
    "\n",
    "test_wordLengths(filepath)"
   ]
  },
  {
   "cell_type": "markdown",
   "metadata": {},
   "source": [
    "# Problem 2: Draw a histogram of the word lengths\n",
    "\n",
    "Use matplotlib to draw a histogram of the word lengths.  You may want to peek at the documentation\n",
    "\n",
    "https://matplotlib.org/3.1.1/gallery/statistics/hist.html\n",
    "\n",
    "or at this tutorial\n",
    "\n",
    "https://datatofish.com/plot-histogram-python/\n",
    "\n",
    "Does the histogram lineup with your results from problem 1?"
   ]
  },
  {
   "cell_type": "code",
   "execution_count": null,
   "metadata": {},
   "outputs": [],
   "source": [
    "def plot_histogram(filepath):\n",
    "    pass"
   ]
  },
  {
   "cell_type": "markdown",
   "metadata": {},
   "source": [
    "### Unit test of Plot Histogram"
   ]
  },
  {
   "cell_type": "code",
   "execution_count": null,
   "metadata": {},
   "outputs": [],
   "source": [
    "## Change this path to point at your copy of words.txt XXXX\n",
    "plot_histogram('../Programs/words.txt')"
   ]
  },
  {
   "cell_type": "markdown",
   "metadata": {},
   "source": [
    "# Problem 3: Anagrams\n",
    "\n",
    "Two words are anagrams if you can rearange the letters of the first to get the second.\n",
    "\n",
    "Our old friends 'abut' and 'tuba' are anagrams, but so are 'abets' and 'beats'.  \n",
    "\n",
    "However, 'hash' and 'sash', though they are the same length and made up of the same letters, are not anagrams.  "
   ]
  },
  {
   "cell_type": "code",
   "execution_count": null,
   "metadata": {},
   "outputs": [],
   "source": [
    "# Are the two words anagrams?\n",
    "def are_anagrams(word1, word2):\n",
    "    pass"
   ]
  },
  {
   "cell_type": "markdown",
   "metadata": {},
   "source": [
    "## Unit Tests"
   ]
  },
  {
   "cell_type": "code",
   "execution_count": null,
   "metadata": {},
   "outputs": [],
   "source": [
    "def test_anagrams():\n",
    "    assert(are_anagrams('abets', 'beats'))\n",
    "    assert(are_anagrams('hash', 'shah'))\n",
    "    assert(are_anagrams('Hash', 'Shah'))\n",
    "    \n",
    "    assert(not are_anagrams('hash', 'sash'))\n",
    "    assert not are_anagrams(\"zombies\", \"pants\")\n",
    "    assert are_anagrams('streams', 'masters')\n",
    "    assert are_anagrams('inlets', 'listen')\n",
    "    \n",
    "    return('Success!')\n",
    "\n",
    "print(test_anagrams())"
   ]
  },
  {
   "cell_type": "markdown",
   "metadata": {},
   "source": [
    "# Problem 4: Space Jam\n",
    "\n",
    "### Can Beautiful soup parse an ancient artifact?  We'll see!"
   ]
  },
  {
   "cell_type": "code",
   "execution_count": null,
   "metadata": {},
   "outputs": [],
   "source": [
    "import requests\n",
    "from bs4 import BeautifulSoup"
   ]
  },
  {
   "cell_type": "markdown",
   "metadata": {},
   "source": [
    "## If you haven't already installed Beautiful Soup, you will need to run\n",
    "\n",
    "```python\n",
    "    pip install bs4\n",
    "```"
   ]
  },
  {
   "cell_type": "code",
   "execution_count": null,
   "metadata": {},
   "outputs": [],
   "source": [
    "## Run this if you haven't installed Beautiful Soup\n",
    "\n",
    "! pip install bs4"
   ]
  },
  {
   "cell_type": "markdown",
   "metadata": {},
   "source": [
    "## 4.1 Display https://spacejam.com/\n",
    "### Using the space jam URL to request the web page.  Pretty-print the entire page"
   ]
  },
  {
   "cell_type": "code",
   "execution_count": null,
   "metadata": {},
   "outputs": [],
   "source": []
  },
  {
   "cell_type": "markdown",
   "metadata": {},
   "source": [
    "## 4.2 Find all links in the page. Print out the number of links, and display each one"
   ]
  },
  {
   "cell_type": "code",
   "execution_count": null,
   "metadata": {},
   "outputs": [],
   "source": []
  },
  {
   "cell_type": "markdown",
   "metadata": {},
   "source": [
    "## 4.3 Note that there are more links than planets on the page!   Look for missing links!  \n",
    "\n",
    "Loop through the links you already found, and look for the 'alt' attribute of each image\n",
    "\n",
    "Display any links without an 'alt' attribute\n",
    "\n",
    "Print the number of links with an 'alt' attribute\n",
    "\n",
    "### *The Links have images: the images associated with the planets have 'alt' attributes describing the planet*\n",
    "\n",
    "Here is a link with an image from the DCE site\n",
    "\n",
    "```python\n",
    "<a class=\"header__logo i-hes-logo\" href=\"/\" id=\"logo\" rel=\"home\" title=\"Home\">\n",
    "<noscript><img alt=\"Home\" class=\"header__logo-image\" src=\"https://www.extension.harvard.edu/sites/extension.harvard.edu/themes/extension/logo.png\"/></noscript>\n",
    "</a>top.jpg\"/>\n",
    "```\n",
    "The link (a for anchor) above includes an img, duplicated below\n",
    "\n",
    "```python\n",
    "<img alt=\"Home\" class=\"header__logo-image\" src=\"https://www.extension.harvard.edu/sites/extension.harvard.edu/themes/extension/logo.png\"/>\n",
    "```\n",
    "\n",
    "The image, logo.png, has an alt tag, to provide text describing the image.  The alt text here is 'Home'.  \n",
    "\n",
    "### Gather all img tags, then look for the 'alt' attribute for each image.  If it doesn't have alt text, display it.  "
   ]
  },
  {
   "cell_type": "code",
   "execution_count": null,
   "metadata": {},
   "outputs": [],
   "source": []
  },
  {
   "cell_type": "markdown",
   "metadata": {},
   "source": [
    "## 4.4 Make a dictionary mapping 'alt' texts from the images to a URLs \n",
    "### If the href doesn't start with https, it is a partial url.  Append it to the base_url.\n",
    "\n",
    "Here are a couple of links from the page:\n",
    "\n",
    "```python\n",
    "<a href=\"https://policies.warnerbros.com/privacy/\" target=\"_blank\">Privacy Policy</a>\n",
    "<a href=\"cmp/behind/behindframes.html\"><img alt=\"Behind the Jam\" border=\"0\" height=\"63\" src=\"img/p-behind.gif\" width=\"67\"/></a>\n",
    "```\n",
    "\n",
    "The first link is a full URL: you can go to https://policies.warnerbros.com/privacy/ even today\n",
    "\n",
    "The second link, 'cmp/behind/behindframes.html' is not a valid URL.  You need to append it to the base URL, \n",
    "\n",
    "https://spacejam.com/\n",
    "\n",
    "This gives a full URL, https://spacejam.com/cmp/behind/behindframes.html, which is valid\n",
    "\n",
    "## Print the URL to the Jam Central planet.  "
   ]
  },
  {
   "cell_type": "code",
   "execution_count": null,
   "metadata": {},
   "outputs": [],
   "source": []
  },
  {
   "cell_type": "markdown",
   "metadata": {},
   "source": [
    "# Post Mortem\n",
    "How long did it take you to solve this problem set?\n",
    "\n",
    "Did anything confuse you or cause difficulty?"
   ]
  },
  {
   "cell_type": "code",
   "execution_count": null,
   "metadata": {},
   "outputs": [],
   "source": [
    "## Enter your thoughts"
   ]
  }
 ],
 "metadata": {
  "kernelspec": {
   "display_name": "Python 3",
   "language": "python",
   "name": "python3"
  },
  "language_info": {
   "codemirror_mode": {
    "name": "ipython",
    "version": 3
   },
   "file_extension": ".py",
   "mimetype": "text/x-python",
   "name": "python",
   "nbconvert_exporter": "python",
   "pygments_lexer": "ipython3",
   "version": "3.8.3"
  }
 },
 "nbformat": 4,
 "nbformat_minor": 1
}
