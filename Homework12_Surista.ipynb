{
 "cells": [
  {
   "cell_type": "markdown",
   "metadata": {},
   "source": [
    "# Homework 12\n",
    "\n",
    "## Due 4PM Nov 30, 2020"
   ]
  },
  {
   "cell_type": "markdown",
   "metadata": {},
   "source": [
    "## Problem 1: Women's 800 Meter\n",
    "\n",
    "Which countries have done best at the Women's 800 Meter?\n",
    "\n",
    "Gather the data from the World Records CSV, use a Dictionary to count the records, and create a bar chart showing the relative number of records per country.  Sort the countries alphabetically, and make sure we can read the country names.  "
   ]
  },
  {
   "cell_type": "code",
   "execution_count": 1,
   "metadata": {},
   "outputs": [
    {
     "data": {
      "image/png": "[encoded data removed]",
      "text/plain": [
       "<Figure size 432x288 with 1 Axes>"
      ]
     },
     "metadata": {
      "needs_background": "light"
     },
     "output_type": "display_data"
    }
   ],
   "source": [
    "import pandas as pd\n",
    "import matplotlib.pyplot as plt\n",
    "filename = \"WorldRecords.csv\"\n",
    "\n",
    "# read in data\n",
    "df = pd.read_csv(filename)\n",
    "\n",
    "# filter to women's 800m\n",
    "df2 = df[(df['Event'] =='Womens 800m')]\n",
    "\n",
    "# create dict to count records\n",
    "nats = {}\n",
    "for index, row in df2.iterrows():\n",
    "    if row['Nationality'] not in nats:\n",
    "        nats[row['Nationality']] = 1\n",
    "    else:\n",
    "        nats[row['Nationality']] += 1\n",
    "\n",
    "# create & draw chart        \n",
    "nats = sorted(nats.items())\n",
    "x = [k[0] for k in nats]\n",
    "y = [k[1] for k in nats]\n",
    "\n",
    "plt.bar(x,y)\n",
    "plt.show()"
   ]
  },
  {
   "cell_type": "markdown",
   "metadata": {},
   "source": [
    "## Problem 2: Regular Expressions\n",
    "\n",
    "We have used Beautiful Soup to scrape a website.\n",
    "\n",
    "Let's see what we can do with just urlib and Regular Expressions\n",
    "\n",
    "Take the DCE website, and find all the links.  (Be sure to compare notes with Beautiful Soup)"
   ]
  },
  {
   "cell_type": "code",
   "execution_count": 71,
   "metadata": {},
   "outputs": [],
   "source": [
    "import urllib.request\n",
    "import string\n",
    "import re\n",
    "\n",
    "def find_links(url):\n",
    "    \"\"\"Returns the first URL and link txt on page\"\"\"\n",
    "\n",
    "    # read in url text\n",
    "    with urllib.request.urlopen(url) as f:\n",
    "        text = f.read().decode('utf-8')\n",
    "\n",
    "    re_links = re.findall('<a.*/a>', text)\n",
    "\n",
    "    return re_links"
   ]
  },
  {
   "cell_type": "markdown",
   "metadata": {},
   "source": [
    "## Unit Test"
   ]
  },
  {
   "cell_type": "code",
   "execution_count": 72,
   "metadata": {},
   "outputs": [],
   "source": [
    "website = 'https://www.extension.harvard.edu'"
   ]
  },
  {
   "cell_type": "code",
   "execution_count": 75,
   "metadata": {},
   "outputs": [
    {
     "name": "stdout",
     "output_type": "stream",
     "text": [
      "58\n",
      "<a href=\"#main-menu\" class=\"skip\">Jump to navigation</a>\n",
      "<a href=\"#main-content\" class=\"skip\">Skip to Main Content</a>\n",
      "<a class=\"topbar__link\" href=\"https://www.harvard.edu\">Harvard.edu</a>\n",
      "<a href=\"https://www.extension.harvard.edu\">Harvard Extension School</a>\n",
      "<a href=\"https://www.summer.harvard.edu\">Harvard Summer School</a>\n",
      "<a href=\"https://www.extension.harvard.edu/hilr\">Learning In Retirement</a>\n",
      "<a href=\"https://alumni.extension.harvard.edu/\">Extension Alumni Association</a>\n",
      "<a class=\"header__mobile-menu ir i-hamburger\" data-grunticon-embed href=\"\">Menu</a>\n",
      "<a href=\"/academics\">Academics</a>\n",
      "<a href=\"/registration-admissions\" title=\"Registration &amp; Admissions\">Registration &amp; Admissions</a>\n",
      "<a href=\"/resources-policies\">Resources &amp; Policies</a>\n",
      "<a href=\"https://blog.dce.harvard.edu/extension\" title=\"\">Blog</a>\n",
      "<a href=\"/request-information\" title=\"\">Get Info</a>\n",
      "<a href=\"/about-us\" title=\"\">About</a>\n",
      "<a href=\"/academic-calendar\" title=\"\">Calendar</a>\n",
      "<a href=\"/completing-your-degree\" title=\"\">For Degree Candidates</a>\n",
      "<a href=\"/academics/online-campus-courses\" title=\"Link to courses\">Courses</a>\n",
      "<a href=\"/faculty-directory\" title=\"\">Faculty Directory</a>\n",
      "<a href=\"https://www.extension.harvard.edu/login\" title=\"\">LOGIN</a>\n",
      "<a id=\"main-content\" tabindex=\"-1\"></a>\n",
      "<a href=https://www.extension.harvard.edu/covid-19-updates>latest COVID-19 news from Harvard Extension School</a>\n",
      "<a class=\"i-right-arrow\" href=\"/academics/graduate-certificates\">Graduate Certificates</a>\n",
      "<a class=\"i-right-arrow\" href=\"/academics/graduate-degrees\">Master&rsquo;s Degrees</a>\n",
      "<a class=\"i-right-arrow\" href=\"/academics/academic-gap-year\">Academic Gap Year</a>\n",
      "<a class=\"i-right-arrow\" href=\"/academics/bachelor-liberal-arts-degree\">Bachelor&rsquo;s Degree</a>\n",
      "<a class=\"i-right-arrow\" href=\"/academics/undergraduate-certificates\">Undergraduate Certificates</a>\n",
      "<a class=\"i-right-arrow\" href=\"/joint-undergraduate-graduate-program\">Joint Undergraduate &amp; Graduate Programs</a>\n",
      "<a class=\"i-right-arrow\" href=\"/course-catalog\">Course Catalog</a>\n",
      "<a class=\"i-right-arrow\" href=\"/course-catalog/courses?subjects=Medical%20Sciences\">Medical Sciences Courses</a>\n",
      "<a class=\"i-right-arrow\" href=\"/academics/premedical-program\">Premedical Program</a>\n",
      "<a class=\"i-right-arrow\" href=\"https://www.extension.harvard.edu/professional-development\">Noncredit Professional Development Programs</a>\n",
      "<a class=\"i-right-arrow\" href=\"https://www.extension.harvard.edu/hilr\">Learn about the program</a>\n",
      "<a class=\"button-link\" href=\"/about-us/why-hes\">Find out why</a>\n",
      "<a class=\"student-name h3\" href=\"/about-us/peter-thielen\">Peter Thielen</a>\n",
      "<a class=\"student-name h3\" href=\"/about-us/renee-m-greene\">Renee M. Greene</a>\n",
      "<a class=\"student-name h3\" href=\"/about-us/diane-smith\">Diane Smith</a>\n",
      "<a class=\"button btn-outline-primary\" href=\"/about-us/student-stories\">Meet Other Alumni &amp; Students <i class=\"far fa-long-arrow-alt-right\"></i></a>\n",
      "<a class=\"h3\" href=\"https://harvardmagazine.com/2020/10/calling-the-2020-election\" target=\"_blank\">Calling the 2020 Election</a>\n",
      "<a class=\"h3\" href=\"https://www.thecrimson.com/article/2020/9/18/extension-school-new-programs/\" target=\"_blank\">Harvard Extension School Unveils New Academic Gap Year, Undergraduate Certificate Programs</a>\n",
      "<a class=\"h3\" href=\"https://www.educationdive.com/news/how-colleges-with-hybrid-instruction-this-fall-can-support-online-students/582141/\" target=\"_blank\">How colleges with hybrid instruction this fall can support online students</a>\n",
      "<a class=\"h3\" href=\"/about-us/press-announcements/michael-fabiano-joins-haa-board-directors\" >Michael Fabiano Joins HAA Board of Directors</a>\n",
      "<a class=\"h3\" href=\"https://blog.dce.harvard.edu/extension/announcing-new-graduate-and-undergraduate-certificates-online-courses-for-2020-21\" target=\"_blank\">What&#039;s New for 2020-21</a>\n",
      "<a class=\"h3\" href=\"https://www.fas.harvard.edu/news/new-dean-division-continuing-education\" target=\"_blank\">New Dean of the Division of Continuing Education</a>\n",
      "<a class=\"button-link\" href=\"https://blog.dce.harvard.edu/extension/6-strategies-for-staying-productive-during-the-covid-19-crisis\">Read the blog post</a>\n",
      "<a class=\"button-link\" href=\"https://www.extension.harvard.edu/course-catalog\">Course Catalog</a>\n",
      "<a class=\"button-link\" href=\"https://www.extension.harvard.edu/professional-development/programs/building-organizational-cultures-framework-leaders-online\">Learn More</a>\n",
      "<a href=\"/contact-us\" title=\"\" class=\"menu__link\">Contact Us</a>\n",
      "<a href=\"/forms\" title=\"\" class=\"menu__link\">Forms</a>\n",
      "<a href=\"/website-archives\" title=\"\" class=\"menu__link\">Archives</a>\n",
      "<a href=\"https://twitter.com/HarvardEXT\" title=\"\" class=\"menu__link i-social-twitter\">Twitter</a>\n",
      "<a href=\"https://www.facebook.com/HarvardExtension\" title=\"\" class=\"menu__link i-social-facebook\">Facebook</a>\n",
      "<a href=\"https://www.youtube.com/user/HarvardExtension\" title=\"\" class=\"menu__link i-social-youtube\">YouTube</a>\n",
      "<a href=\"https://www.instagram.com/harvardextension/\" title=\"\" class=\"menu__link i-social-instagram\">Instagram</a>\n",
      "<a class=\"menu__link\" href=\"/privacy-policy\" title=\"\">Privacy</a>\n",
      "<a class=\"menu__link\" href=\"/resources-policies/accessibility-services-office-aso\" title=\"\">Accessibility</a>\n",
      "<a class=\"menu__link\" href=\"/resources-policies/resources/rights-regulations\" title=\"\">Rights &amp; Regulations</a>\n",
      "<a class=\"menu__link\" href=\"https://accessibility.huit.harvard.edu/digital-accessibility-policy\" title=\"\">Digital Accessibility Policy</a>\n",
      "<a class=\"menu__link ot-sdk-show-settings\" href=\"#\" title=\"\">Cookie Settings</a>\n"
     ]
    }
   ],
   "source": [
    "results1 = find_links(website)\n",
    "print(len(results))\n",
    "for link in results:\n",
    "    print(link)"
   ]
  },
  {
   "cell_type": "code",
   "execution_count": 74,
   "metadata": {},
   "outputs": [
    {
     "name": "stdout",
     "output_type": "stream",
     "text": [
      "link: <a class=\"skip\" href=\"#main-menu\">Jump to navigation</a>\n",
      "results: <a href=\"#main-menu\" class=\"skip\">Jump to navigation</a>\n",
      "Number of links: 62 \n",
      "\n",
      "<a class=\"skip\" href=\"#main-menu\">Jump to navigation</a>\n",
      "<a class=\"skip\" href=\"#main-content\">Skip to Main Content</a>\n",
      "<a class=\"topbar__logo i-harvard-logo ir\" href=\"https://dce.harvard.edu\" target=\"_blank\">\n",
      "        Harvard Division of Continuing Education\n",
      "      </a>\n",
      "<a class=\"topbar__link\" href=\"https://www.harvard.edu\">Harvard.edu</a>\n",
      "<a href=\"https://www.extension.harvard.edu\">Harvard Extension School</a>\n",
      "<a href=\"https://www.summer.harvard.edu\">Harvard Summer School</a>\n",
      "<a href=\"https://www.extension.harvard.edu/professional-development\">Professional Development</a>\n",
      "<a href=\"https://www.extension.harvard.edu/hilr\">Learning In Retirement</a>\n",
      "<a href=\"https://alumni.extension.harvard.edu/\">Extension Alumni Association</a>\n",
      "<a class=\"header__mobile-menu ir i-hamburger\" data-grunticon-embed=\"\" href=\"\">Menu</a>\n",
      "<a class=\"header__logo i-hes-logo\" href=\"/\" id=\"logo\" rel=\"home\" title=\"Home\">\n",
      "<noscript><img alt=\"Home\" class=\"header__logo-image\" src=\"https://www.extension.harvard.edu/sites/extension.harvard.edu/themes/extension/logo.png\"/></noscript>\n",
      "</a>\n",
      "<a class=\"header__site-link\" href=\"/\" rel=\"home\" title=\"Home\"><span>Harvard Extension School</span></a>\n",
      "<a href=\"/academics\">Academics</a>\n",
      "<a href=\"/registration-admissions\" title=\"Registration &amp; Admissions\">Registration &amp; Admissions</a>\n",
      "<a href=\"/resources-policies\">Resources &amp; Policies</a>\n",
      "<a href=\"https://blog.dce.harvard.edu/extension\" title=\"\">Blog</a>\n",
      "<a href=\"/request-information\" title=\"\">Get Info</a>\n",
      "<a href=\"/about-us\" title=\"\">About</a>\n",
      "<a href=\"/academic-calendar\" title=\"\">Calendar</a>\n",
      "<a href=\"/completing-your-degree\" title=\"\">For Degree Candidates</a>\n",
      "<a href=\"/academics/online-campus-courses\" title=\"Link to courses\">Courses</a>\n",
      "<a href=\"/faculty-directory\" title=\"\">Faculty Directory</a>\n",
      "<a href=\"https://www.extension.harvard.edu/login\" title=\"\">LOGIN</a>\n",
      "<a id=\"main-content\" tabindex=\"-1\"></a>\n",
      "<a href=\"https://www.extension.harvard.edu/covid-19-updates\">latest COVID-19 news from Harvard Extension School</a>\n",
      "<a class=\"i-right-arrow\" href=\"/academics/graduate-certificates\">Graduate Certificates</a>\n",
      "<a class=\"i-right-arrow\" href=\"/academics/graduate-degrees\">Master’s Degrees</a>\n",
      "<a class=\"i-right-arrow\" href=\"/academics/academic-gap-year\">Academic Gap Year</a>\n",
      "<a class=\"i-right-arrow\" href=\"/academics/bachelor-liberal-arts-degree\">Bachelor’s Degree</a>\n",
      "<a class=\"i-right-arrow\" href=\"/academics/undergraduate-certificates\">Undergraduate Certificates</a>\n",
      "<a class=\"i-right-arrow\" href=\"/joint-undergraduate-graduate-program\">Joint Undergraduate &amp; Graduate Programs</a>\n",
      "<a class=\"i-right-arrow\" href=\"/course-catalog\">Course Catalog</a>\n",
      "<a class=\"i-right-arrow\" href=\"/course-catalog/courses?subjects=Medical%20Sciences\">Medical Sciences Courses</a>\n",
      "<a class=\"i-right-arrow\" href=\"/academics/premedical-program\">Premedical Program</a>\n",
      "<a class=\"i-right-arrow\" href=\"https://www.extension.harvard.edu/professional-development\">Noncredit Professional Development Programs</a>\n",
      "<a class=\"i-right-arrow\" href=\"https://www.extension.harvard.edu/hilr\">Learn about the program</a>\n",
      "<a class=\"button-link\" href=\"/about-us/why-hes\">Find out why</a>\n",
      "<a class=\"student-name h3\" href=\"/about-us/peter-thielen\">Peter Thielen</a>\n",
      "<a class=\"student-name h3\" href=\"/about-us/renee-m-greene\">Renee M. Greene</a>\n",
      "<a class=\"student-name h3\" href=\"/about-us/diane-smith\">Diane Smith</a>\n",
      "<a class=\"button btn-outline-primary\" href=\"/about-us/student-stories\">Meet Other Alumni &amp; Students <i class=\"far fa-long-arrow-alt-right\"></i></a>\n",
      "<a class=\"h3\" href=\"https://harvardmagazine.com/2020/10/calling-the-2020-election\" target=\"_blank\">Calling the 2020 Election</a>\n",
      "<a class=\"h3\" href=\"https://www.thecrimson.com/article/2020/9/18/extension-school-new-programs/\" target=\"_blank\">Harvard Extension School Unveils New Academic Gap Year, Undergraduate Certificate Programs</a>\n",
      "<a class=\"h3\" href=\"https://www.educationdive.com/news/how-colleges-with-hybrid-instruction-this-fall-can-support-online-students/582141/\" target=\"_blank\">How colleges with hybrid instruction this fall can support online students</a>\n",
      "<a class=\"h3\" href=\"/about-us/press-announcements/michael-fabiano-joins-haa-board-directors\">Michael Fabiano Joins HAA Board of Directors</a>\n",
      "<a class=\"h3\" href=\"https://blog.dce.harvard.edu/extension/announcing-new-graduate-and-undergraduate-certificates-online-courses-for-2020-21\" target=\"_blank\">What's New for 2020-21</a>\n",
      "<a class=\"h3\" href=\"https://www.fas.harvard.edu/news/new-dean-division-continuing-education\" target=\"_blank\">New Dean of the Division of Continuing Education</a>\n",
      "<a class=\"button-link\" href=\"https://blog.dce.harvard.edu/extension/6-strategies-for-staying-productive-during-the-covid-19-crisis\">Read the blog post</a>\n",
      "<a class=\"button-link\" href=\"https://www.extension.harvard.edu/course-catalog\">Course Catalog</a>\n",
      "<a class=\"button-link\" href=\"https://www.extension.harvard.edu/professional-development/programs/building-organizational-cultures-framework-leaders-online\">Learn More</a>\n",
      "<a class=\"menu__link\" href=\"/contact-us\" title=\"\">Contact Us</a>\n",
      "<a class=\"menu__link\" href=\"/forms\" title=\"\">Forms</a>\n",
      "<a class=\"menu__link\" href=\"/website-archives\" title=\"\">Archives</a>\n",
      "<a class=\"menu__link i-social-twitter\" href=\"https://twitter.com/HarvardEXT\" title=\"\">Twitter</a>\n",
      "<a class=\"menu__link i-social-facebook\" href=\"https://www.facebook.com/HarvardExtension\" title=\"\">Facebook</a>\n",
      "<a class=\"menu__link i-social-youtube\" href=\"https://www.youtube.com/user/HarvardExtension\" title=\"\">YouTube</a>\n",
      "<a class=\"menu__link i-social-instagram\" href=\"https://www.instagram.com/harvardextension/\" title=\"\">Instagram</a>\n",
      "<a class=\"menu__link\" href=\"/privacy-policy\" title=\"\">Privacy</a>\n",
      "<a class=\"menu__link\" href=\"/resources-policies/accessibility-services-office-aso\" title=\"\">Accessibility</a>\n",
      "<a class=\"menu__link\" href=\"/resources-policies/resources/rights-regulations\" title=\"\">Rights &amp; Regulations</a>\n",
      "<a class=\"menu__link\" href=\"https://accessibility.huit.harvard.edu/digital-accessibility-policy\" title=\"\">Digital Accessibility Policy</a>\n",
      "<a class=\"menu__link ot-sdk-show-settings\" href=\"#\" title=\"\">Cookie Settings</a>\n"
     ]
    }
   ],
   "source": [
    "import requests\n",
    "from bs4 import BeautifulSoup\n",
    "\n",
    "\"prettify print the html of a given url\"\n",
    "\n",
    "url = \"https://www.extension.harvard.edu\"\n",
    "html_content = requests.get(url).text\n",
    "soup = BeautifulSoup(html_content, 'html.parser')\n",
    "pretty_soup = soup.prettify()\n",
    "\n",
    "links = soup.find_all(\"a\")\n",
    "\n",
    "print(\"link:\", links[0])\n",
    "print(\"results:\", results[0])\n",
    "\n",
    "print(\"Number of links:\",len(links),\"\\n\")\n",
    "for x in links:\n",
    "   print(x)\n"
   ]
  },
  {
   "cell_type": "code",
   "execution_count": 85,
   "metadata": {},
   "outputs": [
    {
     "name": "stdout",
     "output_type": "stream",
     "text": [
      "<a href=\"#main-menu\" class=\"skip\">Jump to navigation</a> \t <a class=\"skip\" href=\"#main-menu\">Jump to navigation</a>\n",
      "<a href=\"#main-content\" class=\"skip\">Skip to Main Content</a> \t <a class=\"skip\" href=\"#main-content\">Skip to Main Content</a>\n",
      "<a class=\"topbar__link\" href=\"https://www.harvard.edu\">Harvard.edu</a> \t <a class=\"topbar__logo i-harvard-logo ir\" href=\"https://dce.harvard.edu\" target=\"_blank\">\n",
      "        Harvard Division of Continuing Education\n",
      "      </a>\n",
      "<a href=\"https://www.extension.harvard.edu\">Harvard Extension School</a> \t <a class=\"topbar__link\" href=\"https://www.harvard.edu\">Harvard.edu</a>\n",
      "<a href=\"https://www.summer.harvard.edu\">Harvard Summer School</a> \t <a href=\"https://www.extension.harvard.edu\">Harvard Extension School</a>\n",
      "<a href=\"https://www.extension.harvard.edu/hilr\">Learning In Retirement</a> \t <a href=\"https://www.summer.harvard.edu\">Harvard Summer School</a>\n",
      "<a href=\"https://alumni.extension.harvard.edu/\">Extension Alumni Association</a> \t <a href=\"https://www.extension.harvard.edu/professional-development\">Professional Development</a>\n",
      "<a class=\"header__mobile-menu ir i-hamburger\" data-grunticon-embed href=\"\">Menu</a> \t <a href=\"https://www.extension.harvard.edu/hilr\">Learning In Retirement</a>\n",
      "<a href=\"/academics\">Academics</a> \t <a href=\"https://alumni.extension.harvard.edu/\">Extension Alumni Association</a>\n",
      "<a href=\"/registration-admissions\" title=\"Registration &amp; Admissions\">Registration &amp; Admissions</a> \t <a class=\"header__mobile-menu ir i-hamburger\" data-grunticon-embed=\"\" href=\"\">Menu</a>\n"
     ]
    }
   ],
   "source": [
    "for x in range(10):\n",
    "    print(results1[x],\"\\t\", links[x])"
   ]
  },
  {
   "cell_type": "markdown",
   "metadata": {},
   "source": [
    "## Compare your program with the results from Beautiful Soup\n",
    "\n",
    "Do you get the same number of links?  If not:\n",
    "\n",
    "1) How many do you miss?\n",
    "\n",
    "2) Can you explain why you miss them?\n",
    "\n",
    "3) Can you fix it?"
   ]
  },
  {
   "cell_type": "markdown",
   "metadata": {},
   "source": [
    "## Problem 3: File Name Generator\n",
    "\n",
    "Write a Generator that takes a directory, a file extension, and, optionally, a file size, and then yields a stream of tuples, (path, filename) so that path/filename is a legal path to a file that meets the conditions.\n",
    "\n",
    "Use os.walk(dir) to create a generator that gives all files and directories below dir.  Call this generator, and yield files (not directories) with the right extension and a file size greater than the given size.   \n",
    "\n",
    "We have three unit tests: demonstrate that you can walk recursivly through two or more directories, and that you can filter by file extension and filter by extension and by size. "
   ]
  },
  {
   "cell_type": "code",
   "execution_count": 3,
   "metadata": {},
   "outputs": [],
   "source": [
    "import os\n",
    "\n",
    "def find_files_gen(path, filename, filesize=0):\n",
    "    matches = []\n",
    "    for root,dir, files in os.walk(path):\n",
    "        for f in files:\n",
    "            path = os.path.join(root, f)\n",
    "            size = os.stat(path).st_size\n",
    "            if filename in f and size > filesize:\n",
    "                matches.append((root+\"/\"+f, size))\n",
    "    return matches"
   ]
  },
  {
   "cell_type": "markdown",
   "metadata": {},
   "source": [
    "## Unit Test"
   ]
  },
  {
   "cell_type": "code",
   "execution_count": 4,
   "metadata": {},
   "outputs": [
    {
     "name": "stdout",
     "output_type": "stream",
     "text": [
      "../E-7-Fall2020/Homework12_Surista.ipynb 52061\n",
      "../E-7-Fall2020/Day08/Day8.ipynb 43290\n",
      "../E-7-Fall2020/Day08/CopyBox.jpg 52884\n",
      "../E-7-Fall2020/Day08/.ipynb_checkpoints/Day8-checkpoint.ipynb 43290\n",
      "../E-7-Fall2020/Day07/Day7.ipynb 61025\n",
      "../E-7-Fall2020/Day11/Homework11_SUrista.ipynb 41789\n",
      "../E-7-Fall2020/Day11/.ipynb_checkpoints/Homework11-checkpoint.ipynb 41729\n",
      "../E-7-Fall2020/Day11/.ipynb_checkpoints/Homework11_original-checkpoint.ipynb 41848\n",
      "../E-7-Fall2020/Day11/.ipynb_checkpoints/Homework11_SUrista-checkpoint.ipynb 41789\n",
      "../E-7-Fall2020/Day11/.ipynb_checkpoints/Homework11SUrista-checkpoint.ipynb 43057\n",
      "../E-7-Fall2020/Day02/Day2.ipynb 40949\n",
      "../E-7-Fall2020/.ipynb_checkpoints/Homework12_Surista-checkpoint.ipynb 52061\n",
      "../E-7-Fall2020/Day06/pywiki.txt 46990\n",
      "../E-7-Fall2020/Day06/pytext.txt 49208\n",
      "../E-7-Fall2020/Day06/Day6.ipynb 73647\n",
      "../E-7-Fall2020/Day12/.ipynb_checkpoints/Homework12_Surista-checkpoint.ipynb 44408\n",
      "../E-7-Fall2020/Day10/Homework10_S_Urista.ipynb 43354\n",
      "../E-7-Fall2020/Day10/BeautifulSoup-Lena.ipynb 991090\n",
      "../E-7-Fall2020/Day10/Homework10.ipynb 42601\n",
      "../E-7-Fall2020/Day10/.ipynb_checkpoints/Homework10-checkpoint.ipynb 35055\n",
      "../E-7-Fall2020/Day10/.ipynb_checkpoints/Homework10 (4)-checkpoint.ipynb 43354\n",
      "../E-7-Fall2020/Day10/.ipynb_checkpoints/2016_US_County_Level_Presidential_Results-checkpoint.ipynb 98033\n",
      "../E-7-Fall2020/Day04/Day4 (1).ipynb 60195\n",
      "../E-7-Fall2020/Day04/.ipynb_checkpoints/Day4-checkpoint.ipynb 60057\n",
      "../E-7-Fall2020/Day04/.ipynb_checkpoints/Day4 (1)-checkpoint.ipynb 60195\n",
      "../E-7-Fall2020/Day09/Iterator (1).ipynb 52895\n",
      "../E-7-Fall2020/Day09/.ipynb_checkpoints/Day10-checkpoint.ipynb 46483\n",
      "../E-7-Fall2020/Day09/.ipynb_checkpoints/Iterator-checkpoint.ipynb 115049\n",
      "../E-7-Fall2020/Day05/Day5.ipynb 61784\n"
     ]
    }
   ],
   "source": [
    "# Show recursive search.  Make sure we can see at least two directories of files\n",
    "gen = find_files_gen('..', 'py',35000)\n",
    "\n",
    "for path, filename in gen:\n",
    "    print(path, filename)"
   ]
  },
  {
   "cell_type": "code",
   "execution_count": 5,
   "metadata": {},
   "outputs": [
    {
     "name": "stdout",
     "output_type": "stream",
     "text": [
      "./Homework12_Surista.ipynb 52061\n",
      "./Day08/Day8.ipynb 43290\n",
      "./Day08/Homework8FirstDraft.ipynb 17999\n",
      "./Day08/Homework8 (1).ipynb 22697\n",
      "./Day08/While.ipynb 34537\n",
      "./Day08/Homework8.ipynb 26136\n",
      "./Day08/.ipynb_checkpoints/Homework8 (1)-checkpoint.ipynb 22487\n",
      "./Day08/.ipynb_checkpoints/Homework8FirstDraft-checkpoint.ipynb 17999\n",
      "./Day08/.ipynb_checkpoints/Homework8-checkpoint.ipynb 22796\n",
      "./Day08/.ipynb_checkpoints/Day8-checkpoint.ipynb 43290\n",
      "./Day07/Homework7_SUrista.ipynb 10760\n",
      "./Day07/Day7.ipynb 61025\n",
      "./Day07/Solution6.ipynb 20232\n",
      "./Day07/.ipynb_checkpoints/Solution6-checkpoint.ipynb 20232\n",
      "./Day07/.ipynb_checkpoints/Homework7_SUrista-checkpoint.ipynb 10793\n",
      "./Day11/Homework11_SUrista.ipynb 41789\n",
      "./Day11/Homework11 _original.ipynb 13097\n",
      "./Day11/.ipynb_checkpoints/Homework11-checkpoint.ipynb 41729\n",
      "./Day11/.ipynb_checkpoints/Homework11_original-checkpoint.ipynb 41848\n",
      "./Day11/.ipynb_checkpoints/Homework11_SUrista-checkpoint.ipynb 41789\n",
      "./Day11/.ipynb_checkpoints/Homework11SUrista-checkpoint.ipynb 43057\n",
      "./Day02/HW2Share.ipynb 22538\n",
      "./Day02/Homework2.ipynb 24441\n",
      "./Day02/Day2.ipynb 40949\n",
      "./Day03/HW2Share_sol.ipynb 23218\n",
      "./Day03/Debug.ipynb 7336\n",
      "./Day03/Day3.ipynb 31883\n",
      "./Day03/HW3Share.ipynb 10480\n",
      "./Day03/.ipynb_checkpoints/HW2Share_sol-checkpoint.ipynb 23218\n",
      "./.ipynb_checkpoints/Homework12_Surista-checkpoint.ipynb 52061\n",
      "./Day06/Homework6.ipynb 27598\n",
      "./Day06/Day6.ipynb 73647\n",
      "./Day06/HW5Share (2).ipynb 20514\n",
      "./Day06/.ipynb_checkpoints/Homework6_SUrista-checkpoint.ipynb 19225\n",
      "./Day06/.ipynb_checkpoints/Homework6_SUrista_new-checkpoint.ipynb 20975\n",
      "./Day01/Homework1.ipynb 9905\n",
      "./Day01/E7 Day1.ipynb 22655\n",
      "./Day01/Homework_01.ipynb 5125\n",
      "./Day01/HW1Share_solutions.ipynb 11562\n",
      "./Day01/Day1.ipynb 21380\n",
      "./Day01/HW1Share.ipynb 10328\n",
      "./Day12/Pickle.ipynb 16084\n",
      "./Day12/Anagrams.ipynb 21513\n",
      "./Day12/Repeats.ipynb 22800\n",
      "./Day12/Homework12 (1).ipynb 28945\n",
      "./Day12/Homework12_original.ipynb 12630\n",
      "./Day12/.ipynb_checkpoints/Repeats-checkpoint.ipynb 16643\n",
      "./Day12/.ipynb_checkpoints/Homework12 (1)-checkpoint.ipynb 21636\n",
      "./Day12/.ipynb_checkpoints/Homework12_original-checkpoint.ipynb 12630\n",
      "./Day12/.ipynb_checkpoints/Homework12_Surista-checkpoint.ipynb 44408\n",
      "./Day10/Homework10_S_Urista.ipynb 43354\n",
      "./Day10/BeautifulSoup-Lena.ipynb 991090\n",
      "./Day10/Scipy Tutorial.ipynb 17707\n",
      "./Day10/Homework10_original.ipynb 9456\n",
      "./Day10/Homework10.ipynb 42601\n",
      "./Day10/.ipynb_checkpoints/Homework10-checkpoint.ipynb 35055\n",
      "./Day10/.ipynb_checkpoints/Homework10 (3)-checkpoint.ipynb 33663\n",
      "./Day10/.ipynb_checkpoints/Homework10 (4)-checkpoint.ipynb 43354\n",
      "./Day10/.ipynb_checkpoints/2016_US_County_Level_Presidential_Results-checkpoint.ipynb 98033\n",
      "./Day10/.ipynb_checkpoints/Homework10_original-checkpoint.ipynb 9456\n",
      "./Day04/PyCharmVEnv.ipynb 21384\n",
      "./Day04/Day4 (1).ipynb 60195\n",
      "./Day04/Homework4.ipynb 17509\n",
      "./Day04/HW4Share.ipynb 6726\n",
      "./Day04/.ipynb_checkpoints/Day4-checkpoint.ipynb 60057\n",
      "./Day04/.ipynb_checkpoints/Day4 (1)-checkpoint.ipynb 60195\n",
      "./Day09/Homework8Solutions.ipynb 23399\n",
      "./Day09/Iterator (1).ipynb 52895\n",
      "./Day09/Assignment_9.ipynb 30491\n",
      "./Day09/HW9Share.ipynb 3387\n",
      "./Day09/Assignment_9_original.ipynb 11816\n",
      "./Day09/.ipynb_checkpoints/Day10-checkpoint.ipynb 46483\n",
      "./Day09/.ipynb_checkpoints/HW9Share-checkpoint.ipynb 3387\n",
      "./Day09/.ipynb_checkpoints/SourceControl-checkpoint.ipynb 9923\n",
      "./Day09/.ipynb_checkpoints/Assignment_9 (1)-checkpoint.ipynb 11041\n",
      "./Day09/.ipynb_checkpoints/Homework8Solutions-checkpoint.ipynb 23399\n",
      "./Day09/.ipynb_checkpoints/Iterator-checkpoint.ipynb 115049\n",
      "./Day09/.ipynb_checkpoints/Assignment_9 (2)-checkpoint.ipynb 11816\n",
      "./Day09/.ipynb_checkpoints/Assignment_9-checkpoint.ipynb 30509\n",
      "./Day05/HW4Share (1).ipynb 9570\n",
      "./Day05/Day5.ipynb 61784\n",
      "./Day05/homework5.ipynb 20422\n",
      "./Day05/HW5Share.ipynb 7356\n",
      "./Day05/Solutions4 (1).ipynb 18639\n",
      "./Day05/.ipynb_checkpoints/Day5-checkpoint.ipynb 27723\n"
     ]
    }
   ],
   "source": [
    "# Show all notebooks in this directory\n",
    "gen = find_files_gen('.', '.ipynb')\n",
    "\n",
    "for path, filename in gen:\n",
    "    print(path, filename)"
   ]
  },
  {
   "cell_type": "code",
   "execution_count": 6,
   "metadata": {},
   "outputs": [
    {
     "name": "stdout",
     "output_type": "stream",
     "text": [
      "./Homework12_Surista.ipynb 52061\n",
      "./Day08/Day8.ipynb 43290\n",
      "./Day08/Homework8FirstDraft.ipynb 17999\n",
      "./Day08/Homework8 (1).ipynb 22697\n",
      "./Day08/While.ipynb 34537\n",
      "./Day08/Homework8.ipynb 26136\n",
      "./Day08/.ipynb_checkpoints/Homework8 (1)-checkpoint.ipynb 22487\n",
      "./Day08/.ipynb_checkpoints/Homework8FirstDraft-checkpoint.ipynb 17999\n",
      "./Day08/.ipynb_checkpoints/Homework8-checkpoint.ipynb 22796\n",
      "./Day08/.ipynb_checkpoints/Day8-checkpoint.ipynb 43290\n",
      "./Day07/Homework7_SUrista.ipynb 10760\n",
      "./Day07/Day7.ipynb 61025\n",
      "./Day07/Solution6.ipynb 20232\n",
      "./Day07/.ipynb_checkpoints/Solution6-checkpoint.ipynb 20232\n",
      "./Day07/.ipynb_checkpoints/Homework7_SUrista-checkpoint.ipynb 10793\n",
      "./Day11/Homework11_SUrista.ipynb 41789\n",
      "./Day11/Homework11 _original.ipynb 13097\n",
      "./Day11/.ipynb_checkpoints/Homework11-checkpoint.ipynb 41729\n",
      "./Day11/.ipynb_checkpoints/Homework11_original-checkpoint.ipynb 41848\n",
      "./Day11/.ipynb_checkpoints/Homework11_SUrista-checkpoint.ipynb 41789\n",
      "./Day11/.ipynb_checkpoints/Homework11SUrista-checkpoint.ipynb 43057\n",
      "./Day02/HW2Share.ipynb 22538\n",
      "./Day02/Homework2.ipynb 24441\n",
      "./Day02/Day2.ipynb 40949\n",
      "./Day03/HW2Share_sol.ipynb 23218\n",
      "./Day03/Debug.ipynb 7336\n",
      "./Day03/Day3.ipynb 31883\n",
      "./Day03/HW3Share.ipynb 10480\n",
      "./Day03/.ipynb_checkpoints/HW2Share_sol-checkpoint.ipynb 23218\n",
      "./.ipynb_checkpoints/Homework12_Surista-checkpoint.ipynb 52061\n",
      "./Day06/Homework6.ipynb 27598\n",
      "./Day06/Day6.ipynb 73647\n",
      "./Day06/HW5Share (2).ipynb 20514\n",
      "./Day06/.ipynb_checkpoints/Homework6_SUrista-checkpoint.ipynb 19225\n",
      "./Day06/.ipynb_checkpoints/Homework6_SUrista_new-checkpoint.ipynb 20975\n",
      "./Day01/Homework1.ipynb 9905\n",
      "./Day01/E7 Day1.ipynb 22655\n",
      "./Day01/Homework_01.ipynb 5125\n",
      "./Day01/HW1Share_solutions.ipynb 11562\n",
      "./Day01/Day1.ipynb 21380\n",
      "./Day01/HW1Share.ipynb 10328\n",
      "./Day12/Pickle.ipynb 16084\n",
      "./Day12/Anagrams.ipynb 21513\n",
      "./Day12/Repeats.ipynb 22800\n",
      "./Day12/Homework12 (1).ipynb 28945\n",
      "./Day12/Homework12_original.ipynb 12630\n",
      "./Day12/.ipynb_checkpoints/Repeats-checkpoint.ipynb 16643\n",
      "./Day12/.ipynb_checkpoints/Homework12 (1)-checkpoint.ipynb 21636\n",
      "./Day12/.ipynb_checkpoints/Homework12_original-checkpoint.ipynb 12630\n",
      "./Day12/.ipynb_checkpoints/Homework12_Surista-checkpoint.ipynb 44408\n",
      "./Day10/Homework10_S_Urista.ipynb 43354\n",
      "./Day10/BeautifulSoup-Lena.ipynb 991090\n",
      "./Day10/Scipy Tutorial.ipynb 17707\n",
      "./Day10/Homework10_original.ipynb 9456\n",
      "./Day10/Homework10.ipynb 42601\n",
      "./Day10/.ipynb_checkpoints/Homework10-checkpoint.ipynb 35055\n",
      "./Day10/.ipynb_checkpoints/Homework10 (3)-checkpoint.ipynb 33663\n",
      "./Day10/.ipynb_checkpoints/Homework10 (4)-checkpoint.ipynb 43354\n",
      "./Day10/.ipynb_checkpoints/2016_US_County_Level_Presidential_Results-checkpoint.ipynb 98033\n",
      "./Day10/.ipynb_checkpoints/Homework10_original-checkpoint.ipynb 9456\n",
      "./Day04/PyCharmVEnv.ipynb 21384\n",
      "./Day04/Day4 (1).ipynb 60195\n",
      "./Day04/Homework4.ipynb 17509\n",
      "./Day04/HW4Share.ipynb 6726\n",
      "./Day04/.ipynb_checkpoints/Day4-checkpoint.ipynb 60057\n",
      "./Day04/.ipynb_checkpoints/Day4 (1)-checkpoint.ipynb 60195\n",
      "./Day09/Homework8Solutions.ipynb 23399\n",
      "./Day09/Iterator (1).ipynb 52895\n",
      "./Day09/Assignment_9.ipynb 30491\n",
      "./Day09/HW9Share.ipynb 3387\n",
      "./Day09/Assignment_9_original.ipynb 11816\n",
      "./Day09/.ipynb_checkpoints/Day10-checkpoint.ipynb 46483\n",
      "./Day09/.ipynb_checkpoints/HW9Share-checkpoint.ipynb 3387\n",
      "./Day09/.ipynb_checkpoints/SourceControl-checkpoint.ipynb 9923\n",
      "./Day09/.ipynb_checkpoints/Assignment_9 (1)-checkpoint.ipynb 11041\n",
      "./Day09/.ipynb_checkpoints/Homework8Solutions-checkpoint.ipynb 23399\n",
      "./Day09/.ipynb_checkpoints/Iterator-checkpoint.ipynb 115049\n",
      "./Day09/.ipynb_checkpoints/Assignment_9 (2)-checkpoint.ipynb 11816\n",
      "./Day09/.ipynb_checkpoints/Assignment_9-checkpoint.ipynb 30509\n",
      "./Day05/HW4Share (1).ipynb 9570\n",
      "./Day05/Day5.ipynb 61784\n",
      "./Day05/homework5.ipynb 20422\n",
      "./Day05/HW5Share.ipynb 7356\n",
      "./Day05/Solutions4 (1).ipynb 18639\n",
      "./Day05/.ipynb_checkpoints/Day5-checkpoint.ipynb 27723\n"
     ]
    }
   ],
   "source": [
    "# Show all notebooks in this directory with at least 1K bytes\n",
    "gen = find_files_gen('.', '.ipynb', 1000)\n",
    "\n",
    "for path, filename in gen:\n",
    "    print(path, filename)"
   ]
  },
  {
   "cell_type": "markdown",
   "metadata": {},
   "source": [
    "## Problem 4: Sorting Employees\n",
    "\n",
    "We wish to take an unordered list of Employees, and get a list sorted by Company and Id.\n",
    "\n",
    "Everyone who works at 'Springfield Department of Motor Vehicles' should be in one group. \n",
    "Everyone who works at 'Springfield Nuclear Power' would be in another group, later in the list, \n",
    "and everyone who works from the Mafia would be in a group earlier in the list. \n",
    "Within each group, we want to see the low ID numbers before this high ones.\n",
    "\n",
    "For this problem, we do not want you to write a sorting program. You will use Python's sort.   \n",
    "You just need to define the magic method dunder lt(), less than, for the class Employee. \n",
    "\n",
    "Once you have defined dunder lt(), calling Python's sorted() on a list of Employees will return a sorted list.\n",
    "\n",
    "### Add to the cell below"
   ]
  },
  {
   "cell_type": "code",
   "execution_count": 10,
   "metadata": {},
   "outputs": [],
   "source": [
    "class Person:\n",
    "\n",
    "    def __init__(self, first, last):\n",
    "        self.firstname = first.capitalize()\n",
    "        self.lastname = last.capitalize()\n",
    "\n",
    "    def __str__(self):\n",
    "        return self.firstname + \" \" + self.lastname\n",
    "\n",
    "\n",
    "class Employee(Person):\n",
    "\n",
    "    def __init__(self, first, last, company, id):\n",
    "        # Call Superclass to set common information\n",
    "        super().__init__(first, last)\n",
    "        self.id = id\n",
    "        self.company = company\n",
    "\n",
    "    def __str__(self):\n",
    "        # Call Superclass to dispaly common information\n",
    "        return super().__str__() + \", \" + str(self.id) + ' at ' + self.company\n",
    "    \n",
    "    def __lt__(self, other):\n",
    "        \"Is self less than other?\"\n",
    "        \n",
    "        if not isinstance(other, Employee):\n",
    "            return False\n",
    "        return (self.company, self.id) < (other.company, other.id)"
   ]
  },
  {
   "cell_type": "markdown",
   "metadata": {},
   "source": [
    "## Unit Test"
   ]
  },
  {
   "cell_type": "code",
   "execution_count": 11,
   "metadata": {},
   "outputs": [
    {
     "name": "stdout",
     "output_type": "stream",
     "text": [
      "Homer Simpson, 1005 at Springfield Nuclear Power\n",
      "Barney Gumble, 1 at Plow King\n",
      "Clancy Wiggum, 1 at Police Department\n",
      "Edna Krabapple, 39 at Springfield Elementary School\n",
      "Seymour Skinner, 1 at Springfield Elementary School\n",
      "Charles Burns, 1 at Springfield Nuclear Power\n",
      "Waylon Smithers, 2 at Springfield Nuclear Power\n",
      "Patty Bouvier, 39 at Springfield Department of Motor Vehicles\n",
      "Selma Bouvier, 38 at Springfield Department of Motor Vehicles\n",
      "Robert Terwilliger, 31 at Channel 6\n",
      "Herschel Krustofsky, 2 at Channel 6\n",
      "Lois Pennycandy, 46 at Channel 6\n",
      "Johnny Cevasco, 2 at Mafia\n",
      "Fat Tony, 1 at Mafia\n",
      "Max Legman, 3 at Mafia\n",
      "Louie Walters, 4 at Mafia\n",
      "==========================\n",
      "Herschel Krustofsky, 2 at Channel 6\n",
      "Robert Terwilliger, 31 at Channel 6\n",
      "Lois Pennycandy, 46 at Channel 6\n",
      "Fat Tony, 1 at Mafia\n",
      "Johnny Cevasco, 2 at Mafia\n",
      "Max Legman, 3 at Mafia\n",
      "Louie Walters, 4 at Mafia\n",
      "Barney Gumble, 1 at Plow King\n",
      "Clancy Wiggum, 1 at Police Department\n",
      "Selma Bouvier, 38 at Springfield Department of Motor Vehicles\n",
      "Patty Bouvier, 39 at Springfield Department of Motor Vehicles\n",
      "Seymour Skinner, 1 at Springfield Elementary School\n",
      "Edna Krabapple, 39 at Springfield Elementary School\n",
      "Charles Burns, 1 at Springfield Nuclear Power\n",
      "Waylon Smithers, 2 at Springfield Nuclear Power\n",
      "Homer Simpson, 1005 at Springfield Nuclear Power\n",
      "\n",
      "\tSuccess!\n"
     ]
    }
   ],
   "source": [
    "lst = [\n",
    "    Employee('Homer', 'Simpson', 'Springfield Nuclear Power', 1005),\n",
    "    Employee('Barney', 'Gumble', 'Plow King', 1),\n",
    "    Employee('Clancy', 'Wiggum', 'Police Department', 1),\n",
    "    Employee('Edna', 'Krabapple', 'Springfield Elementary School', 39),\n",
    "    Employee('Seymour', 'Skinner', 'Springfield Elementary School', 1),\n",
    "    Employee('Charles', 'Burns', 'Springfield Nuclear Power', 1),\n",
    "    Employee('Waylon', 'Smithers', 'Springfield Nuclear Power', 2),\n",
    "    Employee('Patty', 'Bouvier', 'Springfield Department of Motor Vehicles', 39),\n",
    "    Employee('Selma', 'Bouvier', 'Springfield Department of Motor Vehicles', 38),\n",
    "    Employee('Robert', 'Terwilliger', 'Channel 6', 31),\n",
    "    Employee('Herschel', 'Krustofsky', 'Channel 6', 2),\n",
    "    Employee('Lois', 'Pennycandy', 'Channel 6', 46),\n",
    "    Employee('Johnny', 'Cevasco', 'Mafia', 2),\n",
    "    Employee('Fat', 'Tony', 'Mafia', 1),\n",
    "    Employee('Max', 'Legman', 'Mafia', 3 ),\n",
    "    Employee('Louie', 'Walters', 'Mafia', 4)\n",
    "    ]\n",
    "\n",
    "for emp in lst:\n",
    "    print(emp)\n",
    "    \n",
    "print('==========================')\n",
    "\n",
    "# Sort the people\n",
    "lst = sorted(lst)\n",
    "\n",
    "# Now check that the list is sorted\n",
    "for first, second in zip(lst[:-1], lst[1:]):\n",
    "    assert (first.company, first.id) < (second.company, second.id)\n",
    "\n",
    "for emp in lst:\n",
    "    print(emp)\n",
    "    \n",
    "print(\"\\n\\tSuccess!\")"
   ]
  },
  {
   "cell_type": "markdown",
   "metadata": {},
   "source": [
    "## Problem 5: Finding Repeats\n",
    "\n",
    "DNA has a great deal of structure.  DNA often contains repeats: this is a fascinating area that we are not going to explore.  Investigate 'transposons'.  \n",
    "    \n",
    "Write a program that finds the longest repeat in a sequence of DNA stored in a FASTA file.\n",
    "\n",
    "There will be a single string of DNA in the file. The first line has a description of the contents,\n",
    "while the remainder is a string of A, C, G, and T with line breaks.  Be sure to remove the line breaks.  \n",
    "\n",
    "Here is a sample run on pKLMF-FX.fasta\n",
    "\n",
    "```python\n",
    "10089\n",
    "(5535, 5541, 15)\n",
    "CACGGGCACGGGCAC\n",
    "CACGGGCACGGGCAC\n",
    "CPU times: user 191 ms, sys: 2.49 ms, total: 193 ms\n",
    "Wall time: 193 ms\n",
    "```"
   ]
  },
  {
   "cell_type": "code",
   "execution_count": 1,
   "metadata": {},
   "outputs": [],
   "source": [
    "# Read contents of fasta file with a single sequence\n",
    "# Skip the first line, and return a string holding the contents\n",
    "\n",
    "def read_fasta_file(filename: str) -> str:\n",
    "    with open(filename, 'r') as f:\n",
    "        temp = [line.strip() for line in f]\n",
    "        seq = ''.join(temp[1:])\n",
    "        \n",
    "    return seq"
   ]
  },
  {
   "cell_type": "code",
   "execution_count": 2,
   "metadata": {},
   "outputs": [],
   "source": [
    "# Take a string and look for the longest repeat\n",
    "# Return a tuple: (pos1, pos2, length) or None if there are no repeats\n",
    "#    pos1 != pos2 and text[pos1:pos1+length)] == text[pos2:pos2+length]\n",
    "from collections import defaultdict\n",
    "\n",
    "def longest_repeat(text):\n",
    "\n",
    "    d = defaultdict(list)\n",
    "    for i in range(len(text)):\n",
    "        for y in range(len(text)):\n",
    "            d[text[i:y]].append(i)\n",
    "    max = 0\n",
    "    sol = (0,0,0)\n",
    "    for item in d:\n",
    "        if len(item) > 1 and len(d[item]) > 1:\n",
    "            if len(item) > max:\n",
    "                max = len(item)\n",
    "                sol = (d[item][0], d[item][0]+max-1, len(item))\n",
    "\n",
    "    return sol"
   ]
  },
  {
   "cell_type": "markdown",
   "metadata": {},
   "source": [
    "## Unit tests"
   ]
  },
  {
   "cell_type": "code",
   "execution_count": null,
   "metadata": {},
   "outputs": [
    {
     "name": "stdout",
     "output_type": "stream",
     "text": [
      "9988\n"
     ]
    }
   ],
   "source": [
    "%%time\n",
    "filename = 'pKLMF-FX.fasta'\n",
    "\n",
    "text = read_fasta_file(filename)\n",
    "print(len(text))               \n",
    "assert len(text) == 9988\n",
    "\n",
    "tup = longest_repeat(text) \n",
    "\n",
    "print(tup)\n",
    "assert len(tup) == 3\n",
    "assert isinstance(tup, tuple)\n",
    "\n",
    "print(text[tup[0]:tup[0]+tup[2]])\n",
    "print(text[tup[1]:tup[1]+tup[2]])\n",
    "\n",
    "assert text[tup[0]:tup[0]+tup[2]] == text[tup[1]:tup[1]+tup[2]]"
   ]
  },
  {
   "cell_type": "code",
   "execution_count": 3,
   "metadata": {},
   "outputs": [
    {
     "name": "stdout",
     "output_type": "stream",
     "text": [
      "4245\n",
      "(2180, 2273, 94)\n",
      "AGCTCCTTCCGGTGGGCGCGGGGCATGACTATCGTCGCCGCACTTATGACTGTCTTCTTTATCATGCAACTCGTAGGACAGGTGCCGGCAGCGC\n",
      "CTCTGGGTCATTTTCGGCGAGGACCGCTTTCGCTGGAGCGCGACGATGATCGGCCTGTCGCTTGCGGTATTCGGAATCTTGCACGCCCTCGCTC\n"
     ]
    },
    {
     "ename": "AssertionError",
     "evalue": "",
     "output_type": "error",
     "traceback": [
      "\u001b[0;31m---------------------------------------------------------------------------\u001b[0m",
      "\u001b[0;31mAssertionError\u001b[0m                            Traceback (most recent call last)",
      "\u001b[0;32m<timed exec>\u001b[0m in \u001b[0;36m<module>\u001b[0;34m\u001b[0m\n",
      "\u001b[0;31mAssertionError\u001b[0m: "
     ]
    }
   ],
   "source": [
    "%%time\n",
    "filename = 'pACYC184.fasta'        # An EColi plasmid cloning vector\n",
    "\n",
    "# See https://www.snapgene.com/resources/plasmid-files/?set=basic_cloning_vectors&plasmid=pACYC184\n",
    "    \n",
    "\n",
    "text = read_fasta_file(filename)\n",
    "print(len(text))                   # DNA is 4289 Bytes long: remove first line and \\n\n",
    "assert len(text) == 4245 \n",
    "\n",
    "tup = longest_repeat(text) \n",
    "print(tup)\n",
    "assert len(tup) == 3\n",
    "assert isinstance(tup, tuple)\n",
    "\n",
    "print(text[tup[0]:tup[0]+tup[2]])\n",
    "print(text[tup[1]:tup[1]+tup[2]])\n",
    "\n",
    "assert tup[2] == 94\n",
    "assert text[tup[0]:tup[0]+tup[2]] == text[tup[1]:tup[1]+tup[2]]"
   ]
  },
  {
   "cell_type": "markdown",
   "metadata": {},
   "source": [
    "## Extra credit: Find the longest repeat in EColi"
   ]
  },
  {
   "cell_type": "code",
   "execution_count": null,
   "metadata": {},
   "outputs": [
    {
     "name": "stdout",
     "output_type": "stream",
     "text": [
      "4641652\n"
     ]
    }
   ],
   "source": [
    "%%time\n",
    "filename = 'ecoli.fasta'\n",
    "\n",
    "text = read_fasta_file(filename)\n",
    "print(len(text))\n",
    "assert len(text) == 4641652\n",
    "\n",
    "tup = longest_repeat(text)  \n",
    "print(tup)\n",
    "\n",
    "assert len(tup) == 3\n",
    "assert isinstance(tup, tuple)\n",
    "assert len(text) == 4641729 \n",
    "\n",
    "print(text[tup[0]:tup[0]+tup[2]])\n",
    "print(text[tup[1]:tup[1]+tup[2]])\n",
    "\n",
    "assert text[tup[0]:tup[0]+tup[2]] == text[tup[1]:tup[1]+tup[2]]"
   ]
  },
  {
   "cell_type": "code",
   "execution_count": null,
   "metadata": {},
   "outputs": [],
   "source": []
  }
 ],
 "metadata": {
  "kernelspec": {
   "display_name": "Python 3",
   "language": "python",
   "name": "python3"
  },
  "language_info": {
   "codemirror_mode": {
    "name": "ipython",
    "version": 3
   },
   "file_extension": ".py",
   "mimetype": "text/x-python",
   "name": "python",
   "nbconvert_exporter": "python",
   "pygments_lexer": "ipython3",
   "version": "3.8.3"
  }
 },
 "nbformat": 4,
 "nbformat_minor": 4
}
