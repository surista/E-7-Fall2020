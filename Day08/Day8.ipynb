{
 "cells": [
  {
   "cell_type": "markdown",
   "metadata": {},
   "source": [
    "# Introduction to Programming with Python\n",
    "# Day 8 Notebook -  Introduction to Objects\n",
    "# Fall 2019 - (c) Jeff Parker"
   ]
  },
  {
   "cell_type": "markdown",
   "metadata": {},
   "source": [
    "# Eval\n",
    "\n",
    "## One way to get objects into your program"
   ]
  },
  {
   "cell_type": "code",
   "execution_count": null,
   "metadata": {},
   "outputs": [],
   "source": [
    "s = '[10, 25, 37]'\n",
    "\n",
    "type(s)"
   ]
  },
  {
   "cell_type": "code",
   "execution_count": null,
   "metadata": {},
   "outputs": [],
   "source": [
    "p = eval(s)\n",
    "type(p)"
   ]
  },
  {
   "cell_type": "code",
   "execution_count": null,
   "metadata": {},
   "outputs": [],
   "source": [
    "p[1]"
   ]
  },
  {
   "cell_type": "markdown",
   "metadata": {},
   "source": [
    "## Dictionaries"
   ]
  },
  {
   "cell_type": "code",
   "execution_count": null,
   "metadata": {},
   "outputs": [],
   "source": [
    "s = \"{'one': 'uno'}\"\n",
    "print(type(s))\n",
    "\n",
    "p = eval(s)\n",
    "print(type(p))\n",
    "\n",
    "print(p['one'])"
   ]
  },
  {
   "cell_type": "markdown",
   "metadata": {},
   "source": [
    "## Tuples"
   ]
  },
  {
   "cell_type": "code",
   "execution_count": null,
   "metadata": {},
   "outputs": [],
   "source": [
    "s = \"(10, 9, 8)\"\n",
    "print(type(s))\n",
    "\n",
    "p = eval(s)\n",
    "print(type(p))\n",
    "\n",
    "print(p[2])"
   ]
  },
  {
   "cell_type": "markdown",
   "metadata": {},
   "source": [
    "## Run time evaluation"
   ]
  },
  {
   "cell_type": "code",
   "execution_count": null,
   "metadata": {},
   "outputs": [],
   "source": [
    "s = '[1 + 2, 3 + 4]'\n",
    "\n",
    "p = eval(s)\n",
    "print(p)"
   ]
  },
  {
   "cell_type": "markdown",
   "metadata": {},
   "source": [
    "## Note the dangers of eval()\n",
    "\n",
    "We are asking Python to run something: could hold malicious code\n",
    "    \n",
    "https://xkcd.com/327/"
   ]
  },
  {
   "cell_type": "markdown",
   "metadata": {},
   "source": [
    "# Objects\n",
    "## An object is intended to model something that exists in the world\n",
    "## Objects belong to classes, which specify attributes and behavior\n",
    "\n",
    "### Downey discusses Objects in Chapters 15-18\n",
    "### Also see https://docs.python.org/3/tutorial/classes.html"
   ]
  },
  {
   "cell_type": "markdown",
   "metadata": {},
   "source": [
    "# Motivation\n",
    "\n",
    "## OO Goals\n",
    "\n",
    "- Encapsulation: Split Interface from Implementation\n",
    "- You should be able to change how we implement a Dictionary\n",
    "    - If we preserve Interface, old programs still work\n",
    "- Protect the Implementation from poorly-written programs\n",
    "- Inherit functionality from superclass"
   ]
  },
  {
   "cell_type": "markdown",
   "metadata": {},
   "source": [
    "## What is OO Programing?\n",
    "\n",
    "- Everything is an object\n",
    "- It’s turtles all the way down\n",
    "- You don’t act on an object\n",
    "    - You ask the object to do something\n",
    "- Objects belong to classes\n",
    "- Classes define attributes and behavior "
   ]
  },
  {
   "cell_type": "code",
   "execution_count": null,
   "metadata": {},
   "outputs": [],
   "source": [
    "lst = [1, 2, 3]\n",
    "dir(lst)"
   ]
  },
  {
   "cell_type": "code",
   "execution_count": null,
   "metadata": {},
   "outputs": [],
   "source": [
    "lst.__dir__"
   ]
  },
  {
   "cell_type": "code",
   "execution_count": null,
   "metadata": {},
   "outputs": [],
   "source": [
    "lst.__dir__()"
   ]
  },
  {
   "cell_type": "code",
   "execution_count": null,
   "metadata": {},
   "outputs": [],
   "source": [
    "help(lst.__dir__)"
   ]
  },
  {
   "cell_type": "code",
   "execution_count": null,
   "metadata": {},
   "outputs": [],
   "source": [
    "help(lst.__str__)"
   ]
  },
  {
   "cell_type": "markdown",
   "metadata": {},
   "source": [
    "# Programmer Defined Types\n",
    "## Run through Downey's examples in Chapter 15\n",
    "## Define a class Point"
   ]
  },
  {
   "cell_type": "code",
   "execution_count": null,
   "metadata": {},
   "outputs": [],
   "source": [
    "class Point:\n",
    "    \"Represents a point in 2-D space\""
   ]
  },
  {
   "cell_type": "markdown",
   "metadata": {},
   "source": [
    "## What have we accomplished?"
   ]
  },
  {
   "cell_type": "code",
   "execution_count": null,
   "metadata": {},
   "outputs": [],
   "source": [
    "print(Point)\n",
    "print()\n",
    "print(dir(Point))"
   ]
  },
  {
   "cell_type": "code",
   "execution_count": null,
   "metadata": {},
   "outputs": [],
   "source": [
    "help(Point.__dir__)"
   ]
  },
  {
   "cell_type": "markdown",
   "metadata": {},
   "source": [
    "## Now create an instance of point\n",
    "### That is, create an object of type Point"
   ]
  },
  {
   "cell_type": "code",
   "execution_count": null,
   "metadata": {},
   "outputs": [],
   "source": [
    "p = Point()\n",
    "\n",
    "print(p)"
   ]
  },
  {
   "cell_type": "markdown",
   "metadata": {},
   "source": [
    "## Set some attributes in our point"
   ]
  },
  {
   "cell_type": "code",
   "execution_count": null,
   "metadata": {},
   "outputs": [],
   "source": [
    "p.x = 3.0\n",
    "p.y = 4.0\n",
    "\n",
    "print(p.x, p.y)"
   ]
  },
  {
   "cell_type": "markdown",
   "metadata": {},
   "source": [
    "# This is unusual.  \n",
    "## Most OO languages don't let you add attributes on the fly like this"
   ]
  },
  {
   "cell_type": "markdown",
   "metadata": {},
   "source": [
    "# Format a standard Point representation\n",
    "### We can use Downey's format statement"
   ]
  },
  {
   "cell_type": "code",
   "execution_count": null,
   "metadata": {},
   "outputs": [],
   "source": [
    "print('(%g, %g)' % (p.x, p.y))"
   ]
  },
  {
   "cell_type": "markdown",
   "metadata": {},
   "source": [
    "## Or we could use the form we have seen before"
   ]
  },
  {
   "cell_type": "code",
   "execution_count": null,
   "metadata": {},
   "outputs": [],
   "source": [
    "print(f'({p.x}, {p.y})')"
   ]
  },
  {
   "cell_type": "markdown",
   "metadata": {},
   "source": [
    "## Define a function to print points"
   ]
  },
  {
   "cell_type": "code",
   "execution_count": null,
   "metadata": {},
   "outputs": [],
   "source": [
    "def print_point(p):\n",
    "    print(f'({p.x}, {p.y})')\n",
    "    \n",
    "print_point(p)"
   ]
  },
  {
   "cell_type": "markdown",
   "metadata": {},
   "source": [
    "# Rectangles"
   ]
  },
  {
   "cell_type": "markdown",
   "metadata": {},
   "source": [
    "## We have a choice of representation\n",
    "### Upper Left corner and width and height\n",
    "### or Opposite corners"
   ]
  },
  {
   "cell_type": "markdown",
   "metadata": {},
   "source": [
    "## Which do we pick?\n",
    "### First involves less guesswork\n",
    "### In second case, we don't know relative positions \n",
    "#### Which is north?  Which is East?\n",
    "#### However, may be more natural for someone picking points"
   ]
  },
  {
   "cell_type": "code",
   "execution_count": null,
   "metadata": {},
   "outputs": [],
   "source": [
    "class Rectangle:\n",
    "    \"Represents rectangle: width, height, corner\""
   ]
  },
  {
   "cell_type": "code",
   "execution_count": null,
   "metadata": {},
   "outputs": [],
   "source": [
    "box = Rectangle()\n",
    "box.width = 100\n",
    "box.height = 200\n",
    "box.corner = Point()\n",
    "box.corner.x = 0.0\n",
    "box.corner.y = 0.0"
   ]
  },
  {
   "cell_type": "markdown",
   "metadata": {},
   "source": [
    "# Instances as Return Values"
   ]
  },
  {
   "cell_type": "code",
   "execution_count": null,
   "metadata": {},
   "outputs": [],
   "source": [
    "def find_center(rect):\n",
    "    p = Point()\n",
    "    p.x = rect.corner.x + rect.width/2\n",
    "    p.y = rect.corner.y + rect.height/2\n",
    "    return p\n",
    "    \n",
    "p = find_center(box)\n",
    "print_point(p)"
   ]
  },
  {
   "cell_type": "markdown",
   "metadata": {},
   "source": [
    "## Python Tutor can graph objects"
   ]
  },
  {
   "cell_type": "markdown",
   "metadata": {},
   "source": [
    "<img src=\"Box.jpg\">"
   ]
  },
  {
   "cell_type": "markdown",
   "metadata": {},
   "source": [
    "# Objects are mutable"
   ]
  },
  {
   "cell_type": "code",
   "execution_count": null,
   "metadata": {},
   "outputs": [],
   "source": [
    "# Let's change box\n",
    "\n",
    "box.width = box.width + 50\n",
    "box.height = box.height + 100\n",
    "\n",
    "print_point(find_center(box))"
   ]
  },
  {
   "cell_type": "markdown",
   "metadata": {},
   "source": [
    "# We can copy objects"
   ]
  },
  {
   "cell_type": "code",
   "execution_count": null,
   "metadata": {},
   "outputs": [],
   "source": [
    "p1 = Point()\n",
    "p1.x = 3.0\n",
    "p1.y = 4.0\n",
    "\n",
    "import copy\n",
    "p2 = copy.copy(p1)"
   ]
  },
  {
   "cell_type": "code",
   "execution_count": null,
   "metadata": {},
   "outputs": [],
   "source": [
    "p1 is p2"
   ]
  },
  {
   "cell_type": "code",
   "execution_count": null,
   "metadata": {},
   "outputs": [],
   "source": [
    "p1 == p2"
   ]
  },
  {
   "cell_type": "markdown",
   "metadata": {},
   "source": [
    "### They are really different instances, but identical\n",
    "### You could argue that they *should* be ==\n",
    "### We will learn how to 'override' the == operator using a magic method."
   ]
  },
  {
   "cell_type": "markdown",
   "metadata": {},
   "source": [
    "# Copy a rectangle"
   ]
  },
  {
   "cell_type": "code",
   "execution_count": null,
   "metadata": {},
   "outputs": [],
   "source": [
    "box2 = copy.copy(box)\n",
    "\n",
    "print_point(box2.corner)"
   ]
  },
  {
   "cell_type": "code",
   "execution_count": null,
   "metadata": {},
   "outputs": [],
   "source": [
    "box == box2"
   ]
  },
  {
   "cell_type": "markdown",
   "metadata": {},
   "source": [
    "## Different Rectangles that share a point"
   ]
  },
  {
   "cell_type": "markdown",
   "metadata": {},
   "source": [
    "<img src=\"CopyBox.jpg\">"
   ]
  },
  {
   "cell_type": "code",
   "execution_count": null,
   "metadata": {},
   "outputs": [],
   "source": [
    "box.corner == box2.corner"
   ]
  },
  {
   "cell_type": "code",
   "execution_count": null,
   "metadata": {},
   "outputs": [],
   "source": [
    "print(id(box), id(box2))\n",
    "\n",
    "id(box) == id(box2)"
   ]
  },
  {
   "cell_type": "code",
   "execution_count": null,
   "metadata": {},
   "outputs": [],
   "source": [
    "print(id(box.corner), id(box2.corner))\n",
    "\n",
    "id(box.corner) == id(box2.corner)"
   ]
  },
  {
   "cell_type": "markdown",
   "metadata": {},
   "source": [
    "# Deep Copy"
   ]
  },
  {
   "cell_type": "code",
   "execution_count": null,
   "metadata": {},
   "outputs": [],
   "source": [
    "box3 = copy.deepcopy(box)\n",
    "\n",
    "print(id(box), id(box3))\n",
    "print(id(box) == id(box3))"
   ]
  },
  {
   "cell_type": "markdown",
   "metadata": {},
   "source": [
    "## Are the corners different?"
   ]
  },
  {
   "cell_type": "code",
   "execution_count": null,
   "metadata": {},
   "outputs": [],
   "source": [
    "print(id(box.corner), id(box3.corner))\n",
    "\n",
    "id(box.corner) == id(box3.corner)"
   ]
  },
  {
   "cell_type": "markdown",
   "metadata": {},
   "source": [
    "# Chapter 16: Time after Time\n",
    "# Downey's first definition of time\n",
    "## Note that functions are not embedded in the Class block\n",
    "## Later we will use the Class block to define *methods*"
   ]
  },
  {
   "cell_type": "code",
   "execution_count": null,
   "metadata": {},
   "outputs": [],
   "source": [
    "# Think Python, by Allen B. Downey\n",
    "# time1.py\n",
    "#\n",
    "class Time(object):\n",
    "    \"\"\"Represents the time of day.\n",
    "       \n",
    "    attributes: hour, minute, second\n",
    "    \"\"\"\n",
    "    \n",
    "def print_time(t):\n",
    "    print('%.2d:%.2d:%.2d' % \n",
    "         (t.hour, t.minute, t.second))\n",
    "\n",
    "def is_after(t1, t2):\n",
    "    \"\"\"Returns True if t1 is after t2\"\"\"\n",
    "    return (t1.hour, t1.minute, t1.second) > (t2.hour, t2.minute, t2.second)\n",
    "\n",
    "def main():\n",
    "    noon_time        = Time()\n",
    "    noon_time.hour   = 12\n",
    "    noon_time.minute = 0\n",
    "    noon_time.second = 0\n",
    "\n",
    "    print('Starts at', end=\" \")   # Starts at ...\n",
    "    print_time(noon_time)         # ... 12:00:00\n",
    "    \n",
    "main()       "
   ]
  },
  {
   "cell_type": "markdown",
   "metadata": {},
   "source": [
    "## Class defines a blueprint for making Time objects"
   ]
  },
  {
   "cell_type": "markdown",
   "metadata": {},
   "source": [
    "### A time has three attributes: hour, minute, second"
   ]
  },
  {
   "cell_type": "code",
   "execution_count": null,
   "metadata": {},
   "outputs": [],
   "source": [
    "def print_time(t):\n",
    "    print('%.2d:%.2d:%.2d' % \n",
    "         (t.hour, t.minute, t.second))\n",
    "    \n",
    "\n",
    "noon_time        = Time()\n",
    "noon_time.hour   = 12\n",
    "noon_time.minute = 0\n",
    "noon_time.second = 0\n",
    "\n",
    "print_time(noon_time)         # ... 12:00:00"
   ]
  },
  {
   "cell_type": "markdown",
   "metadata": {},
   "source": [
    "## Where does it all go?"
   ]
  },
  {
   "cell_type": "code",
   "execution_count": null,
   "metadata": {},
   "outputs": [],
   "source": [
    "print(noon_time.__dict__)"
   ]
  },
  {
   "cell_type": "markdown",
   "metadata": {},
   "source": [
    "### Is this time valid?"
   ]
  },
  {
   "cell_type": "code",
   "execution_count": null,
   "metadata": {},
   "outputs": [],
   "source": [
    "def valid_time(time):\n",
    "    \"\"\"Checks whether a Time object satisfies the invariants.\"\"\"\n",
    "    if time.hour < 0 or time.minute < 0 or time.second < 0:\n",
    "        return False\n",
    "    if time.minute >= 60 or time.second >= 60:\n",
    "        return False\n",
    "    return True\n",
    "\n",
    "def main():\n",
    "    noon_time        = Time()\n",
    "    noon_time.hour   = 125\n",
    "    noon_time.minute = 0\n",
    "    noon_time.second = 0\n",
    "\n",
    "    print_time(noon_time)         # ... 12:00:00\n",
    "    if (valid_time(noon_time)):\n",
    "        print(\"Valid time\")\n",
    "        \n",
    "main()"
   ]
  },
  {
   "cell_type": "markdown",
   "metadata": {},
   "source": [
    "### Does not check that hours < 24"
   ]
  },
  {
   "cell_type": "markdown",
   "metadata": {},
   "source": [
    "## How can we compare times?\n",
    "\n",
    "If I have two times, which comes first?\n",
    "\n",
    "We will assume they happen in the same day"
   ]
  },
  {
   "cell_type": "code",
   "execution_count": null,
   "metadata": {},
   "outputs": [],
   "source": [
    "def is_after(t1, t2):\n",
    "    \"\"\"Returns True if t1 is after t2\"\"\"\n",
    "    if (t1.hour > t2.hour):\n",
    "        return True\n",
    "    \n",
    "    ## Can I compare minutes now?"
   ]
  },
  {
   "cell_type": "code",
   "execution_count": null,
   "metadata": {},
   "outputs": [],
   "source": [
    "def is_after(t1, t2):\n",
    "    \"\"\"Returns True if t1 is after t2\"\"\"\n",
    "    if (t1.hour > t2.hour):\n",
    "        return True\n",
    "    elif (t1.hour < t2.hour):\n",
    "        return False\n",
    "    else: \n",
    "        # Hours are the same. Check the minutes now\n",
    "        ..."
   ]
  },
  {
   "cell_type": "markdown",
   "metadata": {},
   "source": [
    "## Must be a better way..."
   ]
  },
  {
   "cell_type": "code",
   "execution_count": null,
   "metadata": {},
   "outputs": [],
   "source": [
    "def is_after(t1, t2):\n",
    "    \"\"\"Returns True if t1 is after t2\"\"\"\n",
    "    return (t1.hour, t1.minute, t1.second) > (t2.hour, t2.minute, t2.second)"
   ]
  },
  {
   "cell_type": "markdown",
   "metadata": {},
   "source": [
    "## Alternatives\n",
    "\n",
    "### We could convert time to seconds past midnight\n",
    "\n",
    "### Comparing times reduces to comparing two integers"
   ]
  },
  {
   "cell_type": "markdown",
   "metadata": {},
   "source": [
    "## One pleasure of Python is ease of creating objects"
   ]
  },
  {
   "cell_type": "code",
   "execution_count": null,
   "metadata": {},
   "outputs": [],
   "source": [
    "let   = [1, 2, 3]\n",
    "tup   = ('a', 'b')\n",
    "d     = {'soup': 2, 'nuts':0}"
   ]
  },
  {
   "cell_type": "markdown",
   "metadata": {},
   "source": [
    "## But what did we have to do for our time objects?"
   ]
  },
  {
   "cell_type": "code",
   "execution_count": null,
   "metadata": {},
   "outputs": [],
   "source": [
    "noon_time        = Time()\n",
    "noon_time.hour   = 12\n",
    "noon_time.minute = 0\n",
    "noon_time.second = 0"
   ]
  },
  {
   "cell_type": "markdown",
   "metadata": {},
   "source": [
    "## Another pleasure is printing them"
   ]
  },
  {
   "cell_type": "code",
   "execution_count": null,
   "metadata": {},
   "outputs": [],
   "source": [
    "print(lst, tup, d)    # Can mix types\n",
    "\n",
    "print_time(noon_time) # But we need a special function for time 1"
   ]
  },
  {
   "cell_type": "markdown",
   "metadata": {},
   "source": [
    "# Second Definition of Time\n",
    "## Dunder init and dunder str are defined in Class block\n",
    "### Note optional arguments to dunder init\n",
    "\n",
    "These are dunder methods - magic methods.\n",
    "\n",
    "We never call explicitly call dunder __init__ - it is called when we create a new instance\n",
    "\n",
    "We never explicitly call dunder __str__ - it is called by print\n",
    "\n",
    "https://docs.python.org/3/reference/datamodel.html"
   ]
  },
  {
   "cell_type": "code",
   "execution_count": null,
   "metadata": {},
   "outputs": [],
   "source": [
    "# Downey times2.py\n",
    "#\n",
    "# We just included two methods below to make a point\n",
    "# Downey defines a much fuller set, which we show below\n",
    "#\n",
    "class Time(object):\n",
    "    \n",
    "    def __init__(self, hour: int=0, minute: int=0, second: int=0):\n",
    "        self.hour = hour\n",
    "        self.minute = minute\n",
    "        self.second = second\n",
    "\n",
    "    def __str__(self):\n",
    "        return '%.2d:%.2d:%.2d' % (self.hour, self.minute, self.second)\n",
    "\n",
    "t = Time(5, 45, 32)\n",
    "print(\"The time is\", t, \"now\")  # Can mix with other types"
   ]
  },
  {
   "cell_type": "markdown",
   "metadata": {},
   "source": [
    "### Optional parameters to dunder init:"
   ]
  },
  {
   "cell_type": "code",
   "execution_count": null,
   "metadata": {},
   "outputs": [],
   "source": [
    "# def __init__(self, hour=0, minute=0, second=0):\n",
    "\n",
    "t = Time(5, 45, 32)\n",
    "print(t) \n",
    "\n",
    "t1 = Time(5, 45)  # Second = 0\n",
    "print(t1)\n",
    "t2 = Time(5)     # Minute and second = 0\n",
    "print(t2)\n",
    "t3 = Time()      # Hour, minute and second = 0\n",
    "print(t3)"
   ]
  },
  {
   "cell_type": "markdown",
   "metadata": {},
   "source": [
    "## Find Defining Class\n",
    "### Method Resolution Order (mro)"
   ]
  },
  {
   "cell_type": "code",
   "execution_count": null,
   "metadata": {},
   "outputs": [],
   "source": [
    "help(type(int).mro)"
   ]
  },
  {
   "cell_type": "code",
   "execution_count": null,
   "metadata": {},
   "outputs": [],
   "source": [
    "lst = [1, 2, 3]\n",
    "print(find_defining_class(lst, '__str__'))"
   ]
  },
  {
   "cell_type": "code",
   "execution_count": null,
   "metadata": {},
   "outputs": [],
   "source": [
    "def find_defining_class(obj, method_name=str):\n",
    "    \"\"\"Finds and returns the class object that will provide \n",
    "    the definition of method_name (as a string) if it is\n",
    "    invoked on obj.\n",
    "\n",
    "    obj: any python object\n",
    "    method_name: string method name\n",
    "    \"\"\"\n",
    "    for ty in type(obj).mro():\n",
    "        if method_name in ty.__dict__:\n",
    "            return ty\n",
    "    return None\n",
    "\n",
    "print(find_defining_class(t, '__str__'))"
   ]
  },
  {
   "cell_type": "markdown",
   "metadata": {},
   "source": [
    "## Create time given seconds since midnight"
   ]
  },
  {
   "cell_type": "code",
   "execution_count": null,
   "metadata": {},
   "outputs": [],
   "source": [
    "def int_to_time(seconds: int) -> Time:\n",
    "    \"\"\"Makes a new Time object.\n",
    "\n",
    "    seconds: int seconds since midnight.\n",
    "    \"\"\"\n",
    "    time = Time()\n",
    "    minutes, time.second = divmod(seconds, 60)\n",
    "    time.hour, time.minute = divmod(minutes, 60)\n",
    "    return time\n",
    "\n",
    "t = int_to_time(10000)\n",
    "print(t)"
   ]
  },
  {
   "cell_type": "markdown",
   "metadata": {
    "collapsed": true
   },
   "source": [
    "## And back from time to seconds"
   ]
  },
  {
   "cell_type": "code",
   "execution_count": null,
   "metadata": {},
   "outputs": [],
   "source": [
    "def time_to_int(time: Time) -> int:\n",
    "    \"\"\"Computes the number of seconds since midnight.\n",
    "\n",
    "    time: Time object.\n",
    "    \"\"\"\n",
    "    minutes = time.hour * 60 + time.minute\n",
    "    seconds = minutes * 60 + time.second\n",
    "    return seconds\n",
    "\n",
    "print(time_to_int(t))"
   ]
  },
  {
   "cell_type": "markdown",
   "metadata": {},
   "source": [
    "## We can add times\n",
    "### Convert to int, add the integers, and convert back to time"
   ]
  },
  {
   "cell_type": "code",
   "execution_count": null,
   "metadata": {},
   "outputs": [],
   "source": [
    "def add_times(t1: Time, t2: Time) -> Time:\n",
    "    \"\"\"Adds two time objects.\"\"\"\n",
    "    assert valid_time(t1) and valid_time(t2)\n",
    "    seconds = time_to_int(t1) + time_to_int(t2)\n",
    "    return int_to_time(seconds)"
   ]
  },
  {
   "cell_type": "markdown",
   "metadata": {},
   "source": [
    "## Before, we had functions"
   ]
  },
  {
   "cell_type": "code",
   "execution_count": null,
   "metadata": {},
   "outputs": [],
   "source": [
    "print_time(noon_time)\n",
    "end_time = add_times(noon_time, run_time)\n",
    "print_time(end_time)"
   ]
  },
  {
   "cell_type": "markdown",
   "metadata": {},
   "source": [
    "## Now we have methods "
   ]
  },
  {
   "cell_type": "code",
   "execution_count": null,
   "metadata": {},
   "outputs": [],
   "source": [
    "start = Time(9, 45, 00)\n",
    "start.print_time()\n",
    "\n",
    "end = start.increment(1337)\n",
    "end.print_time()"
   ]
  },
  {
   "cell_type": "markdown",
   "metadata": {},
   "source": [
    "## Downey's class Time2"
   ]
  },
  {
   "cell_type": "code",
   "execution_count": null,
   "metadata": {},
   "outputs": [],
   "source": [
    "\"\"\"\n",
    "Time2.py\n",
    "\n",
    "Copyright 2012 Allen B. Downey.\n",
    "\"\"\"\n",
    "\n",
    "class Time(object):\n",
    "    \"\"\"Represents the time of day.\n",
    "       \n",
    "    attributes: hour, minute, second\n",
    "    \"\"\"\n",
    "    def __init__(self, hour=0, minute=0, second=0):\n",
    "        self.hour = hour\n",
    "        self.minute = minute\n",
    "        self.second = second\n",
    "\n",
    "    def __str__(self):\n",
    "        return '%.2d:%.2d:%.2d' % (self.hour, self.minute, self.second)\n",
    "\n",
    "    def print_time(self):\n",
    "        print(str(self))\n",
    "\n",
    "    def time_to_int(self):\n",
    "        \"\"\"Computes the number of seconds since midnight.\"\"\"\n",
    "        minutes = self.hour * 60 + self.minute\n",
    "        seconds = minutes * 60 + self.second\n",
    "        return seconds\n",
    "\n",
    "    def is_after(self, other):\n",
    "        \"\"\"Returns True if t1 is after t2; false otherwise.\"\"\"\n",
    "        return self.time_to_int() > other.time_to_int()\n",
    "\n",
    "    def __add__(self, other):\n",
    "        \"\"\"Adds two Time objects or a Time object and a number.\n",
    "\n",
    "        other: Time object or number of seconds\n",
    "        \"\"\"\n",
    "        if isinstance(other, Time):\n",
    "            return self.add_time(other)\n",
    "        else:\n",
    "            return self.increment(other)\n",
    "\n",
    "    def __radd__(self, other):\n",
    "        \"\"\"Adds two Time objects or a Time object and a number.\"\"\"\n",
    "        return self.__add__(other)\n",
    "\n",
    "    def add_time(self, other):\n",
    "        \"\"\"Adds two time objects.\"\"\"\n",
    "        assert self.is_valid() and other.is_valid()\n",
    "        seconds = self.time_to_int() + other.time_to_int()\n",
    "        return int_to_time(seconds)\n",
    "\n",
    "    def increment(self, seconds):\n",
    "        \"\"\"Returns a new Time that is the sum of this time and seconds.\"\"\"\n",
    "        seconds += self.time_to_int()\n",
    "        return int_to_time(seconds)\n",
    "\n",
    "    def is_valid(self):\n",
    "        \"\"\"Checks whether a Time object satisfies the invariants.\"\"\"\n",
    "        if self.hour < 0 or self.minute < 0 or self.second < 0:\n",
    "            return False\n",
    "        if self.minute >= 60 or self.second >= 60:\n",
    "            return False\n",
    "        return True\n",
    "\n",
    "\n",
    "def int_to_time(seconds):\n",
    "    \"\"\"Makes a new Time object.\n",
    "\n",
    "    seconds: int seconds since midnight.\n",
    "    \"\"\"\n",
    "    minutes, second = divmod(seconds, 60)\n",
    "    hour, minute = divmod(minutes, 60)\n",
    "    time = Time(hour, minute, second)\n",
    "    return time"
   ]
  },
  {
   "cell_type": "markdown",
   "metadata": {},
   "source": [
    "## Check the attributes"
   ]
  },
  {
   "cell_type": "code",
   "execution_count": null,
   "metadata": {},
   "outputs": [],
   "source": [
    "t_one = Time(20, 35, 00)\n",
    "\n",
    "print(t_one.__dict__)"
   ]
  },
  {
   "cell_type": "markdown",
   "metadata": {},
   "source": [
    "## Time2 In Use"
   ]
  },
  {
   "cell_type": "code",
   "execution_count": null,
   "metadata": {},
   "outputs": [],
   "source": [
    "def main():\n",
    "    start = Time(9, 45, 00)\n",
    "    print(\"Start:\", start) \n",
    "\n",
    "    one = Time(20, 35, 00)\n",
    "    print(one)\n",
    "    two = Time(20, 40, 00)\n",
    "    print(two)\n",
    "    three = one + two\n",
    "    print(three)\n",
    "    print(one, \"+\", two, \"=\", one + two)\n",
    "\n",
    "    assert start.is_valid()\n",
    "\n",
    "    end = start.increment(1337)\n",
    "    print(\"End:\", end)\n",
    "\n",
    "    print('Is end after start?', end=\" \")\n",
    "    print(end.is_after(start))\n",
    "\n",
    "    print('Using __str__', end=\" \")\n",
    "    print(start, end)   \n",
    "\n",
    "    start = Time(9, 45)\n",
    "    duration = Time(1, 35)\n",
    "    print(start + duration)\n",
    "    print(start + 1337)\n",
    "    print(1337 + start)\n",
    "\n",
    "    print('Example of polymorphism')\n",
    "    t1 = Time(7, 43)\n",
    "    t2 = Time(7, 41)\n",
    "    t3 = Time(7, 37)\n",
    "    total = sum([t1, t2, t3])\n",
    "    print(total)\n",
    "\n",
    "\n",
    "# if __name__ == '__main__':\n",
    "main()"
   ]
  },
  {
   "cell_type": "markdown",
   "metadata": {},
   "source": [
    "## Compare times by converting to int"
   ]
  },
  {
   "cell_type": "code",
   "execution_count": null,
   "metadata": {},
   "outputs": [],
   "source": [
    "    def time_to_int(self):\n",
    "        \"\"\"Computes the number of seconds since midnight.\"\"\"\n",
    "        minutes = self.hour * 60 + self.minute\n",
    "        seconds = minutes * 60 + self.second\n",
    "        return seconds\n",
    "\n",
    "    def is_after(self, other):\n",
    "        \"\"\"Returns True if t1 is after t2; false otherwise.\"\"\"\n",
    "        return self.time_to_int() > other.time_to_int()"
   ]
  },
  {
   "cell_type": "markdown",
   "metadata": {},
   "source": [
    "## Adding times"
   ]
  },
  {
   "cell_type": "code",
   "execution_count": null,
   "metadata": {},
   "outputs": [],
   "source": [
    "def add_time(self, other):\n",
    "    \"\"\"Adds two time objects.\"\"\"\n",
    "    seconds = self.time_to_int() + other.time_to_int()\n",
    "    return int_to_time(seconds)\n",
    "\n",
    "def increment(self, seconds):\n",
    "    \"\"\"Returns a new Time = self + seconds.\"\"\"\n",
    "    seconds += self.time_to_int()\n",
    "    return int_to_time(seconds)"
   ]
  },
  {
   "cell_type": "markdown",
   "metadata": {},
   "source": [
    "## We have some more magic methods"
   ]
  },
  {
   "cell_type": "markdown",
   "metadata": {
    "collapsed": true
   },
   "source": [
    "### While we can call add_time(), we'd rather say t1 + t2"
   ]
  },
  {
   "cell_type": "code",
   "execution_count": null,
   "metadata": {},
   "outputs": [],
   "source": [
    "t_one = Time(20, 35, 0)\n",
    "print(t_one)\n",
    "t_two = Time(20, 40, 0)\n",
    "print(t_two)\n",
    "t_three = t_one + t_two\n",
    "print(t_three)\n",
    "print(t_one, \"+\", t_two, \"=\", t_one + t_two)"
   ]
  },
  {
   "cell_type": "markdown",
   "metadata": {},
   "source": [
    "## Type based dispatch: test type with isinstance()"
   ]
  },
  {
   "cell_type": "code",
   "execution_count": null,
   "metadata": {},
   "outputs": [],
   "source": [
    "    def __add__(self, other):\n",
    "        \"\"\"Adds two Time objects or a Time object and a number.\n",
    "\n",
    "        other: Time object or number of seconds\n",
    "        \"\"\"\n",
    "        if isinstance(other, Time):\n",
    "            return self.add_time(other)\n",
    "        else:\n",
    "            return self.increment(other)"
   ]
  },
  {
   "cell_type": "code",
   "execution_count": null,
   "metadata": {},
   "outputs": [],
   "source": [
    "start = Time(9, 45)\n",
    "duration = Time(1, 35)\n",
    "print(start + duration) # Add two times\n",
    "print(start + 1337)     # Add a time plus 1337 seconds"
   ]
  },
  {
   "cell_type": "markdown",
   "metadata": {},
   "source": [
    "## Polymorphism"
   ]
  },
  {
   "cell_type": "markdown",
   "metadata": {},
   "source": [
    "### We saw polymorphism before\n",
    "### len() finds length of strings, or lists, or dictionaries, or tuples, or ...\n",
    "### max() could find max of ints, or strings, or tuples, or "
   ]
  },
  {
   "cell_type": "code",
   "execution_count": null,
   "metadata": {},
   "outputs": [],
   "source": [
    "# Because we define __add__, we can use Python methods that only uses +, such as sum\n",
    "\n",
    "t1 = Time(7, 43)\n",
    "t2 = Time(7, 41)\n",
    "t3 = Time(7, 37)\n",
    "print(sum([t1, t2, t3]))"
   ]
  },
  {
   "cell_type": "markdown",
   "metadata": {},
   "source": [
    "## What if I cross my arguments?"
   ]
  },
  {
   "cell_type": "code",
   "execution_count": null,
   "metadata": {},
   "outputs": [],
   "source": [
    "    def __add__(self, other):\n",
    "        if isinstance(other, Time):\n",
    "            return self.add_time(other)\n",
    "        else:\n",
    "            return self.increment(other)\n",
    "\n",
    "\n",
    "print(1337 + start)  # What happens?"
   ]
  },
  {
   "cell_type": "markdown",
   "metadata": {},
   "source": [
    "## How does it know?\n",
    "\n",
    "This should dispatch to class int, the class for 1337, which doesn't know from time\n",
    "\n",
    "Put a breakpoint in radd"
   ]
  },
  {
   "cell_type": "code",
   "execution_count": null,
   "metadata": {},
   "outputs": [],
   "source": [
    "    # This looks just like __add__, but is used behind the scenes\n",
    "    # We look for a match for __add__(a, b) \n",
    "    # If not found, we look for match for __radd__(b, a)\n",
    "    #\n",
    "    def __radd__(self, other):\n",
    "        \"\"\"Adds two Time objects or \n",
    "           a Time object and a number.\"\"\"\n",
    "        return self.__add__(other)\n",
    "\n",
    "print(1337 + start) "
   ]
  },
  {
   "cell_type": "markdown",
   "metadata": {},
   "source": [
    "## Weaknesses in Python Object encapsulation"
   ]
  },
  {
   "cell_type": "code",
   "execution_count": null,
   "metadata": {},
   "outputs": [],
   "source": [
    "t = Time(1, 2, 3)\n",
    "print(t.__dict__)\n",
    "print()\n",
    "\n",
    "t.huor = 12     #### !!!\n",
    "t.minit = 5     #### !!!\n",
    "t.secondary = 3 #### !!!\n",
    "\n",
    "print(t.__dict__)"
   ]
  },
  {
   "cell_type": "markdown",
   "metadata": {},
   "source": [
    "## Use Introspection to print all the attributes"
   ]
  },
  {
   "cell_type": "code",
   "execution_count": null,
   "metadata": {},
   "outputs": [],
   "source": [
    "# Traverse the object's attributes\n",
    "def print_attributes(obj):\n",
    "    for attr in vars(obj):\n",
    "        print(attr, getattr(obj, attr))\n",
    "\n",
    "print_attributes(t)"
   ]
  },
  {
   "cell_type": "markdown",
   "metadata": {},
   "source": [
    "# Example of Inheritance"
   ]
  },
  {
   "cell_type": "markdown",
   "metadata": {},
   "source": [
    "## There are different kinds of exceptions.  \n",
    "## Read about how to handle them here:\n",
    "https://docs.python.org/3/tutorial/errors.html"
   ]
  },
  {
   "cell_type": "code",
   "execution_count": null,
   "metadata": {},
   "outputs": [],
   "source": [
    "import sys\n",
    "\n",
    "try:\n",
    "    f = open('myfile.txt')\n",
    "    s = f.readline()\n",
    "    i = int(s.strip())\n",
    "except OSError as err:\n",
    "    print(\"OS error: {0}\".format(err))\n",
    "except ValueError:\n",
    "    print(\"Could not convert data to an integer.\")\n",
    "except:\n",
    "    print(\"Unexpected error:\", sys.exc_info()[0])\n",
    "    raise"
   ]
  },
  {
   "cell_type": "markdown",
   "metadata": {},
   "source": [
    "### We handle the except clauses in the order they are written\n",
    "### We can group some exceptions together"
   ]
  },
  {
   "cell_type": "code",
   "execution_count": null,
   "metadata": {},
   "outputs": [],
   "source": [
    "# Run the following command at the command line\n",
    "# Notice how the tool produces bold text...\n",
    "# N\bNA\bAM\bME\bE\n",
    "\n",
    "! pydoc3 builtins"
   ]
  },
  {
   "cell_type": "markdown",
   "metadata": {},
   "source": [
    "<img src=\"exception_hierarchy.jpg\">"
   ]
  },
  {
   "cell_type": "markdown",
   "metadata": {},
   "source": [
    "## The Exceptions"
   ]
  },
  {
   "cell_type": "markdown",
   "metadata": {},
   "source": [
    "```python\n",
    "CLASSES\n",
    "    object\n",
    "        BaseException\n",
    "            Exception\n",
    "                ArithmeticError\n",
    "                    FloatingPointError\n",
    "                    OverflowError\n",
    "                    ZeroDivisionError\n",
    "                AssertionError\n",
    "                AttributeError\n",
    "                BufferError\n",
    "                EOFError\n",
    "                ImportError\n",
    "                LookupError\n",
    "                    IndexError\n",
    "                    KeyError\n",
    "                MemoryError\n",
    "                NameError\n",
    "                    UnboundLocalError\n",
    "                OSError\n",
    "                    BlockingIOError\n",
    "                    ChildProcessError\n",
    "                    ConnectionError\n",
    "                        BrokenPipeError\n",
    "                        ConnectionAbortedError\n",
    "                        ConnectionRefusedError\n",
    "                        ConnectionResetError\n",
    "                    FileExistsError\n",
    "                    FileNotFoundError\n",
    "                    InterruptedError\n",
    "                    IsADirectoryError\n",
    "                    NotADirectoryError\n",
    "                    PermissionError\n",
    "                    ProcessLookupError\n",
    "                    TimeoutError\n",
    "                ReferenceError\n",
    "                RuntimeError\n",
    "                    NotImplementedError\n",
    "                    RecursionError\n",
    "                StopAsyncIteration\n",
    "                StopIteration\n",
    "                SyntaxError\n",
    "                    IndentationError\n",
    "                        TabError\n",
    "                SystemError\n",
    "                TypeError\n",
    "                ValueError\n",
    "                    UnicodeError\n",
    "                        UnicodeDecodeError\n",
    "                        UnicodeEncodeError\n",
    "                        UnicodeTranslateError\n",
    "                Warning\n",
    "                    BytesWarning\n",
    "                    DeprecationWarning\n",
    "                    FutureWarning\n",
    "                    ImportWarning\n",
    "                    \n",
    "                    PendingDeprecationWarning\n",
    "                    ResourceWarning\n",
    "                    RuntimeWarning\n",
    "                    SyntaxWarning\n",
    "                    UnicodeWarning\n",
    "                    UserWarning\n",
    "            GeneratorExit\n",
    "            KeyboardInterrupt\n",
    "            SystemExit\n",
    "```"
   ]
  },
  {
   "cell_type": "markdown",
   "metadata": {},
   "source": [
    "## We can use this hierarchy.  \n",
    "### You can define your own set of exceptions, and group them in one spot\n",
    "```python\n",
    "Exception\n",
    "    ArithmeticError\n",
    "        FloatingPointError\n",
    "        OverflowError\n",
    "        ZeroDivisionError\n",
    "        ...\n",
    "    LookupError\n",
    "        IndexError\n",
    "        KeyError\n",
    "    MemoryError\n",
    "    ...\n",
    "```"
   ]
  },
  {
   "cell_type": "markdown",
   "metadata": {},
   "source": [
    "## How you can use different exception types to classify"
   ]
  },
  {
   "cell_type": "code",
   "execution_count": null,
   "metadata": {},
   "outputs": [],
   "source": [
    "# This is a zero division error\n",
    "try:\n",
    "    x = 1/0\n",
    "except LookupError:\n",
    "    print('LookupError')\n",
    "except IndexError:\n",
    "    print('IndexError')\n",
    "except ArithmeticError:\n",
    "    print('ArithmeticError')\n",
    "except ZeroDivisionError:\n",
    "    print('ZeroDivisionError')\n",
    "except:\n",
    "    print('Some other error')"
   ]
  },
  {
   "cell_type": "markdown",
   "metadata": {},
   "source": [
    "## In fact, this is a ZeroDivisionError \n",
    "### We asked in the wrong order"
   ]
  },
  {
   "cell_type": "code",
   "execution_count": null,
   "metadata": {},
   "outputs": [],
   "source": [
    "# This is a zero division error\n",
    "try:\n",
    "    x = 1/0\n",
    "except ZeroDivisionError:\n",
    "    print('ZeroDivisionError')\n",
    "except LookupError:\n",
    "    print('LookupError')\n",
    "except IndexError:\n",
    "    print('IndexError')\n",
    "except ArithmeticError:\n",
    "    print('ArithmeticError')\n",
    "except:\n",
    "    print('Some other error')"
   ]
  },
  {
   "cell_type": "markdown",
   "metadata": {},
   "source": [
    "## Index Error"
   ]
  },
  {
   "cell_type": "code",
   "execution_count": null,
   "metadata": {},
   "outputs": [],
   "source": [
    "# This is an index error\n",
    "lst = []\n",
    "try:\n",
    "    x = lst[0]\n",
    "except LookupError:\n",
    "    print('LookupError')\n",
    "except IndexError:\n",
    "    print('IndexError')\n",
    "except ArithmeticError:\n",
    "    print('ArithmeticError')\n",
    "except ZeroDivisionError:\n",
    "    print('ZeroDivisionError')\n",
    "except:\n",
    "    print('Some other error')"
   ]
  },
  {
   "cell_type": "markdown",
   "metadata": {},
   "source": [
    "## We have listed the more general case first\n",
    "## (LookupError before IndexError)\n",
    "## Not very useful.  Reorder"
   ]
  },
  {
   "cell_type": "code",
   "execution_count": null,
   "metadata": {},
   "outputs": [],
   "source": [
    "# This is an index error\n",
    "lst = []\n",
    "try:\n",
    "    x = lst[0]\n",
    "except IndexError:\n",
    "    print('IndexError')\n",
    "except LookupError:\n",
    "    print('LookupError')\n",
    "except ArithmeticError:\n",
    "    print('ArithmeticError')\n",
    "except ZeroDivisionError:\n",
    "    print('ZeroDivisionError')\n",
    "except:\n",
    "    print('Some other error')"
   ]
  },
  {
   "cell_type": "markdown",
   "metadata": {},
   "source": [
    "## Here is the method resolution order for IndexError"
   ]
  },
  {
   "cell_type": "markdown",
   "metadata": {},
   "source": [
    "```python\n",
    "    class IndexError(LookupError)\n",
    "     |  Sequence index out of range.\n",
    "     |  \n",
    "     |  Method resolution order:\n",
    "     |      IndexError\n",
    "     |      LookupError\n",
    "     |      Exception\n",
    "     |      BaseException\n",
    "     |      object\n",
    "     |  \n",
    "     |  Methods defined here:\n",
    "     |  \n",
    "     |  __init__(self, /, *args, **kwargs)\n",
    "     |      Initialize self.  See help(type(self)) for accurate signature.\n",
    "     |  \n",
    "     |  __new__(*args, **kwargs) from type\n",
    "     |      Create and return a new object.  See help(type) for accurate signature.\n",
    "     |  \n",
    "     |  ----------------------------------------------------------------------\n",
    "     |  Methods inherited from BaseException:\n",
    "     |  \n",
    "     |  __delattr__(self, name, /)\n",
    "     |      Implement delattr(self, name).\n",
    "     |  \n",
    "     |  __getattribute__(self, name, /)\n",
    "     |      Return getattr(self, name).\n",
    "```"
   ]
  },
  {
   "cell_type": "markdown",
   "metadata": {},
   "source": [
    "## Time2 in the Homework "
   ]
  },
  {
   "cell_type": "markdown",
   "metadata": {},
   "source": [
    "- Civilian display of time.  \n",
    "- 12:01 AM rather than  0:01:23\n",
    "- 12:00 PM rather than 12:00:00\n",
    "-  1:00 PM rather than 13:00:00\n",
    "- Make hours range between 0 and 23, however we construct a time        "
   ]
  }
 ],
 "metadata": {
  "kernelspec": {
   "display_name": "Python 3",
   "language": "python",
   "name": "python3"
  },
  "language_info": {
   "codemirror_mode": {
    "name": "ipython",
    "version": 3
   },
   "file_extension": ".py",
   "mimetype": "text/x-python",
   "name": "python",
   "nbconvert_exporter": "python",
   "pygments_lexer": "ipython3",
   "version": "3.8.1"
  }
 },
 "nbformat": 4,
 "nbformat_minor": 1
}
