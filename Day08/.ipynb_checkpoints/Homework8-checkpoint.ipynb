{
 "cells": [
  {
   "cell_type": "markdown",
   "metadata": {},
   "source": [
    "# Homework 8\n",
    "\n",
    "## Due October 26\n",
    "\n",
    "### Fill in your name"
   ]
  },
  {
   "cell_type": "code",
   "execution_count": null,
   "metadata": {},
   "outputs": [],
   "source": [
    "first_name = \"\"\n",
    "last_name = \"\"\n",
    "\n",
    "assert(len(first_name) != 0)\n",
    "assert(len(last_name)  != 0)"
   ]
  },
  {
   "cell_type": "markdown",
   "metadata": {},
   "source": [
    "## Problem 1: Odds and evens\n",
    "\n",
    "Write a function that uses a List Comprehensions to split a list of integers into two halves: the odds, followed by the evens.  Within each half, the numbers should appear in their original order.  "
   ]
  },
  {
   "cell_type": "code",
   "execution_count": null,
   "metadata": {},
   "outputs": [],
   "source": [
    "# Is a a sublist of b?\n",
    "def odds_n_evens(lst):\n",
    "    pass"
   ]
  },
  {
   "cell_type": "markdown",
   "metadata": {},
   "source": [
    "### Unit Tests"
   ]
  },
  {
   "cell_type": "code",
   "execution_count": null,
   "metadata": {},
   "outputs": [],
   "source": [
    "def test_odd_n_even():\n",
    "    assert odds_n_evens([1, 2, 3, 4]) == [1, 3, 2, 4]\n",
    "    assert odds_n_evens([4, 3, 2, 1]) == [3, 1, 4, 2]\n",
    "    assert odds_n_evens([]) == []\n",
    "    assert odds_n_evens([1, 3, 5, 7, 9]) == [1, 3, 5, 7, 9]\n",
    "    assert odds_n_evens([9, 7, 5, 3, 1]) == [9, 7, 5, 3, 1]\n",
    "    assert odds_n_evens([2, 4, 6, 8]) == [2, 4, 6, 8]\n",
    "    assert odds_n_evens([1, 2, 3, 4, 1, 2, 3, 4]) == [1, 3, 1, 3, 2, 4, 2, 4]\n",
    "        \n",
    "    print(\"Success!\")\n",
    "    \n",
    "print(test_odd_n_even())"
   ]
  },
  {
   "cell_type": "markdown",
   "metadata": {},
   "source": [
    "## Problem 2: DNA Complement\n",
    "\n",
    "In a DNA sequence, the symbols 'A' and 'T' are complements of each other, as are 'C' and 'G'.\n",
    "\n",
    "The complement of a DNA sequence is the string formed by \n",
    "reversing the sequence, and then taking the complement of each symbol \n",
    "\n",
    "Write a function that takes a string representing a DNA sequence, and returns the a string representing the complement.\n",
    "\n",
    "Hint: Use a Dictionary to map a symbol ('A') to its complement ('T')\n",
    "\n",
    "Hint: for full credit, use join() rather than string addition\n",
    "\n",
    "The type hint for this function would be\n",
    "\n",
    "```python\n",
    "    def dna_complement(text: str) -> str:\n",
    "```"
   ]
  },
  {
   "cell_type": "code",
   "execution_count": null,
   "metadata": {},
   "outputs": [],
   "source": [
    "def dna_complement(text):\n",
    "    \"\"\"Return the complement of string text\"\"\"\n",
    "    pass"
   ]
  },
  {
   "cell_type": "markdown",
   "metadata": {},
   "source": [
    "### Unit Tests"
   ]
  },
  {
   "cell_type": "code",
   "execution_count": null,
   "metadata": {},
   "outputs": [],
   "source": [
    "def test_complement():\n",
    "    assert(dna_complement('A') == 'T')\n",
    "    assert(dna_complement('a') == 'T')\n",
    "    assert(dna_complement('c') == 'G')\n",
    "    assert(dna_complement('CaT') == 'ATG')\n",
    "    assert(dna_complement('AAAACCCGGT') == 'ACCGGGTTTT')\n",
    "    assert dna_complement('AcgTTTcAgCCC') == 'GGGCTGAAACGT'\n",
    "\n",
    "    print(\"Success!\")\n",
    "    \n",
    "test_complement()    "
   ]
  },
  {
   "cell_type": "markdown",
   "metadata": {},
   "source": [
    "## Problem 3: Finding Links\n",
    "\n",
    "You can now fetch the contents of a webpage, and had a small taste of its contents\n",
    "\n",
    "While the copyright appears on almost every webpage, you may have figured out that\n",
    "there is little agreement on how it should appear.  It is a bit like musicians\n",
    "royalties today: everyone agrees it is important, but there are no standards,\n",
    "and the only goal seems to be to make it as small as possible.\n",
    "\n",
    "Links, however, are a different story.  They are a key element of the web, and\n",
    "well defined.  Here is the syntax for an 'anchor' (aka link)\n",
    "\n",
    "```python\n",
    "    <a href=\"url\">link text</a>\n",
    "```\n",
    "\n",
    "To locate a link on a webpage, we can search for the\n",
    "following three things in order:\n",
    "\n",
    "- First, look for the three character stirng '<a '\n",
    "- Next, look for the following to close to the first part '>':\n",
    "Those enclose the URL\n",
    "\n",
    "- Finally, look for three characters to close the element: '</a':\n",
    "which marks the end of the link text\n",
    "\n",
    "The anchor has two parts we are interested in: the URL, and the link text.  \n",
    "    \n",
    "Write a function that takes a URL and finds the first link on the page.\n",
    "Your function should return a tuple holding two strings: the \n",
    "URL and the link text.  "
   ]
  },
  {
   "cell_type": "code",
   "execution_count": null,
   "metadata": {},
   "outputs": [],
   "source": [
    "def find_first_link(url):\n",
    "    pass"
   ]
  },
  {
   "cell_type": "markdown",
   "metadata": {},
   "source": [
    "### Unit Tests"
   ]
  },
  {
   "cell_type": "code",
   "execution_count": null,
   "metadata": {},
   "outputs": [],
   "source": [
    "for url in ['http://www.python.org/', 'https://www.extension.harvard.edu', 'http://en.wikipedia.org/wiki/Python']:\n",
    "    print(f\"{url}\\n\\t{find_first_link(url)}\")\n",
    "\n",
    "print('Done')"
   ]
  },
  {
   "cell_type": "markdown",
   "metadata": {},
   "source": [
    "## Problem 4: Dates\n",
    "\n",
    "Fill in the defintion of the three method below for a class Date "
   ]
  },
  {
   "cell_type": "code",
   "execution_count": null,
   "metadata": {},
   "outputs": [],
   "source": [
    "class Date(object):\n",
    "    \"Represents a Calendar date\"\n",
    "    \n",
    "    def __init__(self, month=0, day=0, year=0):\n",
    "        \"Initialize\"\n",
    "        pass\n",
    "\n",
    "\n",
    "    def __str__(self):\n",
    "        \"Return a printable string representing the date: m/d/y\"\n",
    "        pass\n",
    "    \n",
    "\n",
    "    def before(self, other):\n",
    "        \"Is this date before that?\""
   ]
  },
  {
   "cell_type": "markdown",
   "metadata": {},
   "source": [
    "## Unit Tests"
   ]
  },
  {
   "cell_type": "code",
   "execution_count": null,
   "metadata": {},
   "outputs": [],
   "source": [
    "def test_dates():\n",
    "    t1 = Date(1, 2, 3)\n",
    "    assert t1.__str__() == '2/1/3'\n",
    "    t2 = Date(4, 5, 2)\n",
    "    assert t2.__str__() == '5/4/2'\n",
    "    \n",
    "    assert not t1.before(t1)\n",
    "    assert not t1.before(t2)\n",
    "    assert t2.before(t1)\n",
    " \n",
    "    t2 = Date(4, 1, 3)\n",
    "    assert t2.__str__() == '1/4/3'\n",
    "    \n",
    "    assert not t1.before(t1)\n",
    "    assert not t1.before(t2)\n",
    "\n",
    "    t1 = Date(2, 2, 3)\n",
    "    t2 = Date(1, 2, 3)\n",
    "    assert t2.__str__() == '2/1/3'\n",
    "    \n",
    "    assert not t1.before(t1)\n",
    "    assert not t1.before(t2)\n",
    "    assert t2.before(t1)\n",
    "\n",
    "    print(\"Success!\")\n",
    "    \n",
    "test_dates()"
   ]
  },
  {
   "cell_type": "markdown",
   "metadata": {},
   "source": [
    "## Problem 5: Time after Time\n",
    "\n",
    "You will not write a lot of code for this problem, but it is a realistic introduction to maintaining a piece of software.  Downey's program works, but we want to make two changes.  \n",
    "\n",
    "- Downey prints time as they do in the Army: 17:30:00 hours.  We want to print that as 5:30 PM.  \n",
    "- Downey lets you define the time 25:00:00 - we want to turn over at 23:59:59 to 00:00:00.  \n",
    "\n",
    "My advice is to spend more time thinking and tracing out the logic and less time editing.  \n",
    "\n",
    "Make a backup of the cell below, and make your changes \n",
    "\n",
    "We will want you to identify your changes, so sign everything you do # like this - jdp\n",
    "\n",
    "### Modify Downey's Time2.py file to make the following changes.\n",
    "\n",
    "A) Rewrite the dunder str method used to print the time.  It currently prints Time(17, 30, 0) as\n",
    "\n",
    "```python\n",
    "    17:30:00\n",
    "```            \n",
    "       \n",
    "Modify it to return \n",
    "\n",
    "```python\n",
    "    5:30 PM\n",
    "```   \n",
    "\n",
    "Hours are numbers between 1 and 12 inclusive, seconds are suppressed, and times end with AM or PM.  For purposes of this problem, midnight is AM, while noon is PM.  \n",
    "\n",
    "\n",
    "B) Time2.py currently allows you to create times with hours greater than 23.  Identify the routines that Downey provides that would have to change to keep hours less than 24.  \n",
    "\n",
    "C) Make the changes required to keep hours less than 24.  \n",
    "\n",
    "D) Include the tests you have used to verify your changes.\n",
    "\n",
    "Run the unit tests: all times should be within 24 hours\n",
    "\n",
    "### Make your changes in the cell below\n",
    "#### Be sure to make a backup and be sure to sign all your changes"
   ]
  },
  {
   "cell_type": "code",
   "execution_count": null,
   "metadata": {},
   "outputs": [],
   "source": [
    "\"\"\"\n",
    "  \n",
    "Code example from Think Python, by Allen B. Downey.\n",
    "Available from http://thinkpython.com\n",
    "\n",
    "Copyright 2012 Allen B. Downey.\n",
    "Distributed under the GNU General Public License at gnu.org/licenses/gpl.html.\n",
    "\n",
    "\"\"\"\n",
    "\n",
    "class Time(object):\n",
    "    \"\"\"Represents the time of day.\n",
    "\n",
    "    attributes: hour, minute, second\n",
    "    \"\"\"\n",
    "    def __init__(self, hour=0, minute=0, second=0):\n",
    "        self.hour = hour\n",
    "        self.minute = minute\n",
    "        self.second = second\n",
    "\n",
    "    # Modify this routine - jdp\n",
    "    def __str__(self):\n",
    "        return '%.2d:%.2d:%.2d' % (self.hour, self.minute, self.second)\n",
    "\n",
    "    def print_time(self):\n",
    "        print(str(self))\n",
    "\n",
    "    def time_to_int(self):\n",
    "        \"\"\"Computes the number of seconds since midnight.\"\"\"\n",
    "        minutes = self.hour * 60 + self.minute\n",
    "        seconds = minutes * 60 + self.second\n",
    "        return seconds\n",
    "\n",
    "    def is_after(self, other):\n",
    "        \"\"\"Returns True if t1 is after t2; false otherwise.\"\"\"\n",
    "        return self.time_to_int() > other.time_to_int()\n",
    "\n",
    "    def __add__(self, other):\n",
    "        \"\"\"Adds two Time objects or a Time object and a number.\n",
    "\n",
    "        other: Time object or number of seconds\n",
    "        \"\"\"\n",
    "        if isinstance(other, Time):\n",
    "            return self.add_time(other)\n",
    "        else:\n",
    "            return self.increment(other)\n",
    "\n",
    "    def __radd__(self, other):\n",
    "        \"\"\"Adds two Time objects or a Time object and a number.\"\"\"\n",
    "        return self.__add__(other)\n",
    "\n",
    "    def add_time(self, other):\n",
    "        \"\"\"Adds two time objects.\"\"\"\n",
    "        assert self.is_valid() and other.is_valid()\n",
    "        seconds = self.time_to_int() + other.time_to_int()\n",
    "        return int_to_time(seconds)\n",
    "\n",
    "    def increment(self, seconds):\n",
    "        \"\"\"Returns a new Time that is the sum of this time and seconds.\"\"\"\n",
    "        seconds += self.time_to_int()\n",
    "        return int_to_time(seconds)\n",
    "\n",
    "    def is_valid(self):\n",
    "        \"\"\"Checks whether a Time object satisfies the invariants.\"\"\"\n",
    "        if self.hour < 0 or self.minute < 0 or self.second < 0:\n",
    "            return False\n",
    "        if self.minute >= 60 or self.second >= 60:\n",
    "            return False\n",
    "        return True\n",
    "\n",
    "\n",
    "def int_to_time(seconds):\n",
    "    \"\"\"Makes a new Time object.\n",
    "\n",
    "    seconds: int seconds since midnight.\n",
    "    \"\"\"\n",
    "    minutes, second = divmod(seconds, 60)\n",
    "    hour, minute = divmod(minutes, 60)\n",
    "    time = Time(hour, minute, second)\n",
    "    return time"
   ]
  },
  {
   "cell_type": "code",
   "execution_count": null,
   "metadata": {},
   "outputs": [],
   "source": [
    "# Test some of the features of Class Time - jdp\n",
    "def main():    # jdp\n",
    "    start = Time(9, 45, 00)\n",
    "    start.print_time()\n",
    "\n",
    "    end = start.increment(1337)\n",
    "    end.print_time()\n",
    "\n",
    "    print('Is end after start?', end=\" \")\n",
    "    print(end.is_after(start))\n",
    "\n",
    "    # Testing __str__\n",
    "    print(f'Using __str__: {start} {end}')\n",
    "\n",
    "    # Testing addition\n",
    "    start = Time(9, 45)\n",
    "    duration = Time(1, 35)\n",
    "    print(start + duration)\n",
    "    print(start + 1337)\n",
    "    print(1337 + start)\n",
    "\n",
    "    print('Example of polymorphism')\n",
    "    t1 = Time(7, 43)\n",
    "    t2 = Time(7, 41)\n",
    "    t3 = Time(7, 37)\n",
    "    total = sum([t1, t2, t3])\n",
    "    print(total)\n",
    "\n",
    "    # A time that is invalid\n",
    "    t1 = Time(50)\n",
    "    print(t1)"
   ]
  },
  {
   "cell_type": "code",
   "execution_count": null,
   "metadata": {},
   "outputs": [],
   "source": [
    "main()"
   ]
  },
  {
   "cell_type": "markdown",
   "metadata": {},
   "source": [
    "## Your tests\n",
    "\n",
    "Put your tests in the cell below.  These might be assertions, or might be simple print statements\n",
    "\n",
    "You should have at least three tests"
   ]
  },
  {
   "cell_type": "code",
   "execution_count": null,
   "metadata": {},
   "outputs": [],
   "source": []
  },
  {
   "cell_type": "markdown",
   "metadata": {},
   "source": [
    "## List your changes\n",
    "\n",
    "List the changes you made in the cell below.  This is easy to do if you have signed all your edits.\n",
    "\n",
    "If you didn't sign, refer to your backup of the original and compare line by line or use a diff function\n",
    "\n",
    "If you didn't make a backup, download the assignment again and compare the original with your version"
   ]
  },
  {
   "cell_type": "code",
   "execution_count": null,
   "metadata": {},
   "outputs": [],
   "source": []
  },
  {
   "cell_type": "markdown",
   "metadata": {},
   "source": [
    "## Unit Test"
   ]
  },
  {
   "cell_type": "code",
   "execution_count": null,
   "metadata": {},
   "outputs": [],
   "source": [
    "def test_time():\n",
    "    # Test __str__()\n",
    "    print(Time(0, 0, 0))\n",
    "    print(Time(0, 1, 2))\n",
    "    print(Time(11, 30, 59))\n",
    "    print(Time(12, 0, 3))\n",
    "    print(Time(23, 2, 2))\n",
    "    print()\n",
    "\n",
    "    # Test changes to keep time within 24 hours\n",
    "    print(Time(25, 45, 00))\n",
    "    print(Time(20, 45, 00) + Time(20, 45, 00))\n",
    "    print(Time(23, 45, 00) + 72000)\n",
    "    print(72000 + Time(23, 45, 00))\n",
    "    print(Time(25, 45, 00).increment(72000))\n",
    "    print(int_to_time(180000))\n",
    "    \n",
    "test_time()"
   ]
  },
  {
   "cell_type": "code",
   "execution_count": null,
   "metadata": {},
   "outputs": [],
   "source": []
  }
 ],
 "metadata": {
  "kernelspec": {
   "display_name": "Python 3",
   "language": "python",
   "name": "python3"
  },
  "language_info": {
   "codemirror_mode": {
    "name": "ipython",
    "version": 3
   },
   "file_extension": ".py",
   "mimetype": "text/x-python",
   "name": "python",
   "nbconvert_exporter": "python",
   "pygments_lexer": "ipython3",
   "version": "3.8.3"
  }
 },
 "nbformat": 4,
 "nbformat_minor": 1
}
