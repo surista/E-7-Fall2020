{
 "cells": [
  {
   "cell_type": "markdown",
   "metadata": {},
   "source": [
    "# Premature optimization is the root of all evil \n",
    "### - Donald Knuth\n",
    "\n",
    "We look at a student solution that was able to solve the reverse problem rapidly"
   ]
  },
  {
   "cell_type": "code",
   "execution_count": null,
   "metadata": {},
   "outputs": [],
   "source": [
    "#I included this function here because it is going to be used for Problems 4 and 5.\n",
    "def is_palindrome(word):\n",
    "    \"Is the word a palindrome?\"\n",
    "    \n",
    "    if len(word) == 0 or len(word) == 1:\n",
    "        return True\n",
    "    cLowerCaseBegin = word[0].lower()    #change the first character to lowercase\n",
    "    cLowerCaseEnd = word[-1].lower()     #change the last character to lowercase\n",
    "    if cLowerCaseBegin == cLowerCaseEnd: #compare the first and last characters\n",
    "        return is_palindrome(word[1:-1]) #call again the function but remove the first and last characters\n",
    "    return False"
   ]
  },
  {
   "cell_type": "markdown",
   "metadata": {},
   "source": [
    "### What is going on here?\n",
    "\n",
    "```python\n",
    "    cLowerCaseBegin = word[0].lower() \n",
    "```\n",
    "\n",
    "This is an example of Hungarian Notation - the 'c' specifies that this is a character.  \n",
    "\n",
    "```python\n",
    "    bReverseFound = False   #This variable indicates that a reversal string has been found.\n",
    "```\n",
    "\n",
    "You can read more about Hungarian Notaton here:\n",
    "\n",
    "    https://en.wikipedia.org/wiki/Hungarian_notation\n",
    "    \n",
    "### Suggestions:\n",
    "\n",
    "1) A long comment is difficult to read: I'd suggest\n",
    "\n",
    "```python\n",
    "    bReverseFound = False   # Have we seen the reverse?\n",
    "```\n",
    "\n",
    "2) The space after the '#' greatly increased legibility"
   ]
  },
  {
   "cell_type": "markdown",
   "metadata": {},
   "source": [
    "### Left align the Happy Path\n",
    "\n",
    "**Before**\n",
    "\n",
    "```python\n",
    "    if cLowerCaseBegin == cLowerCaseEnd: #compare the first and last characters\n",
    "        return is_palindrome(word[1:-1]) #call again the function but remove the first and last characters\n",
    "    return False\n",
    "```\n",
    "\n",
    "If the comments don't fit, you must aquit!  Space, caps, and compression\n",
    "\n",
    "```python\n",
    "    if cLowerCaseBegin == cLowerCaseEnd: # Compare first, last\n",
    "        return is_palindrome(word[1:-1]) # Check remainder\n",
    "    return False\n",
    "```\n",
    "\n",
    "I find this easier to read:\n",
    "\n",
    "\n",
    "```python\n",
    "    if cLowerCaseBegin != cLowerCaseEnd: # compare first, last  \n",
    "        return False\n",
    "    \n",
    "    return is_palindrome(word[1:-1])  # check remainder\n",
    "```\n",
    "\n",
    "The \"Happy Path\" is now left aligned, rather than tucked in the if statement\n",
    "\n",
    "In production code, there are typically dozens of checks for degenerate conditions.  Here is a simple example with three\n",
    "\n",
    "**Before**\n",
    "\n",
    "```python\n",
    "    if len(lst) > 0:\n",
    "        if word.isapla():\n",
    "            if i >= 0:\n",
    "                 # Do the real work\n",
    "            else:\n",
    "                <error condition for i>\n",
    "                return None\n",
    "        else:\n",
    "            <error condition for word>\n",
    "            return None\n",
    "    else:\n",
    "        <Error condition for list>\n",
    "        return None\n",
    "```\n",
    "\n",
    "**After**\n",
    "```python\n",
    "    if len(lst) == 0:\n",
    "        <Error condition for list>\n",
    "        return None\n",
    "    \n",
    "    if not word.isapla():\n",
    "        <error condition for word>\n",
    "        return None\n",
    "    \n",
    "    if i < 0:\n",
    "        <error condition for i>\n",
    "        return None\n",
    "            \n",
    "    # Do the real work\n",
    "```\n",
    "\n",
    "### Rewrite is_palindrome"
   ]
  },
  {
   "cell_type": "code",
   "execution_count": null,
   "metadata": {},
   "outputs": [],
   "source": [
    "#I included this function here because it is going to be used for Problems 4 and 5.\n",
    "def is_palindrome(word):\n",
    "    \"Is the word a palindrome?\"\n",
    "    \n",
    "    if len(word) == 0 or len(word) == 1:\n",
    "        return True\n",
    "    cLowerCaseBegin = word[0].lower()    # first character\n",
    "    cLowerCaseEnd = word[-1].lower()     # last character \n",
    "    \n",
    "    if cLowerCaseBegin != cLowerCaseEnd: # compare first, last \n",
    "        return False    # jdp\n",
    "    \n",
    "    return is_palindrome(word[1:-1])     # check remainder"
   ]
  },
  {
   "cell_type": "markdown",
   "metadata": {},
   "source": [
    "### Binary Search - the key to the speedup"
   ]
  },
  {
   "cell_type": "code",
   "execution_count": null,
   "metadata": {},
   "outputs": [],
   "source": [
    "#I included this function because it will be used in the succeeding problem.\n",
    "\n",
    "def binary_search(list_of_words: list, word: str) -> int:\n",
    "    \"\"\"Takes a list of numbers and a target value\n",
    "       Returns the position of the target in the list\"\"\"\n",
    "\n",
    "    # Set boundaries\n",
    "    low = 0\n",
    "    high = len(list_of_words) - 1\n",
    "    \n",
    "    # Check subarray list_of_numbers from low to high\n",
    "    while (low <= high) and not(low == high):\n",
    "        mid = (low + high) // 2\n",
    "        if word == list_of_words[mid]:\n",
    "            # Found it!  Return index\n",
    "            return mid\n",
    "        elif word < list_of_words[mid]:\n",
    "            high = mid \n",
    "        else:\n",
    "            low = mid + 1\n",
    "\n",
    "    # Not found \n",
    "    return -1"
   ]
  },
  {
   "cell_type": "code",
   "execution_count": null,
   "metadata": {},
   "outputs": [],
   "source": [
    "### See line 10 above - What's up?\n",
    "### See line 16 above - bug discussed in class"
   ]
  },
  {
   "cell_type": "markdown",
   "metadata": {},
   "source": [
    "## We need a dataset to test Binary Search"
   ]
  },
  {
   "cell_type": "markdown",
   "metadata": {},
   "source": [
    "### Routine to read the words"
   ]
  },
  {
   "cell_type": "code",
   "execution_count": null,
   "metadata": {},
   "outputs": [],
   "source": [
    "def read_words(filename):\n",
    "    \"Return a list with the a representative of each pair of reversed element, such as abut and tuba\"\n",
    "    \n",
    "    try:\n",
    "        lst_to_traverse = []          #Initialize the list to traverse\n",
    "        \n",
    "        #Do some housekeeping by removing palindromes\n",
    "        with open(filename, 'r') as words:\n",
    "            for line in words:           \n",
    "                line = line.strip()         #remove the end of line character \n",
    "                if not is_palindrome(line):  #remove any palindrome and any duplicate\n",
    "                    lst_to_traverse.append(line.lower()) #add the word in the list \n",
    "    \n",
    "    except FileNotFoundError:       # Send an error if the file is not found.\n",
    "        print(f\"Error \",filename,\" is not found. Please check file.\")\n",
    "        return []\n",
    "        \n",
    "    print(\"Number of words in list \",len(lst_to_traverse))  \n",
    "    return lst_to_traverse"
   ]
  },
  {
   "cell_type": "markdown",
   "metadata": {},
   "source": [
    "### Test of Binary Search"
   ]
  },
  {
   "cell_type": "code",
   "execution_count": null,
   "metadata": {},
   "outputs": [],
   "source": [
    "def test_binary_search():\n",
    "    lst = read_words('../words.txt')\n",
    "    print(len(lst))\n",
    "    for word in lst:\n",
    "        if binary_search(lst, word) == -1:\n",
    "            print(f'Could not find {word}')\n",
    "        \n",
    "test_binary_search()"
   ]
  },
  {
   "cell_type": "markdown",
   "metadata": {},
   "source": [
    "### Where is zymurgy in the file words.txt?"
   ]
  },
  {
   "cell_type": "code",
   "execution_count": null,
   "metadata": {},
   "outputs": [],
   "source": [
    "# A Unix command to look at end of the file\n",
    "! tail ../words.txt"
   ]
  },
  {
   "cell_type": "markdown",
   "metadata": {},
   "source": [
    "I see\n",
    "```python\n",
    "    zymogene\n",
    "    zymogenes\n",
    "    zymogens\n",
    "    zymologies\n",
    "    zymology\n",
    "    zymoses\n",
    "    zymosis\n",
    "    zymotic\n",
    "    zymurgies\n",
    "    zymurgy\n",
    "```"
   ]
  },
  {
   "cell_type": "markdown",
   "metadata": {},
   "source": [
    "## We could not find the last element in the list\n",
    "\n",
    "This didn't bite us in this problem, but is a real bug"
   ]
  },
  {
   "cell_type": "markdown",
   "metadata": {},
   "source": [
    "### Two bugs\n",
    "\n",
    "```python\n",
    "    while (low <= high) and not(low == high):\n",
    "```\n",
    "\n",
    "Why phrase that this way?  Why not say\n",
    "\n",
    "```python\n",
    "    while (low < high):\n",
    "```\n",
    "\n",
    "This is a matter of software archeology.  This is from the buggy \n",
    "Binary Search I presented in lecutre.  My version read\n",
    "\n",
    "```python\n",
    "    while (low <= high):\n",
    "```\n",
    "\n",
    "but had an infinite loop.  The 'fix' means that we won't have an infinite loop, but it also means we won't find the last item.\n",
    "\n",
    "There is no reason to quit if low == high - we will get mid == low == high, and check it.  \n",
    "\n",
    "**Before**\n",
    "\n",
    "```python\n",
    "        mid = (low + high) // 2\n",
    "        if word == list_of_words[mid]:\n",
    "            # Found it!  Return index\n",
    "            return mid\n",
    "        elif word < list_of_words[mid]:\n",
    "            high = mid \n",
    "        else:\n",
    "            low = mid + 1\n",
    "```\n",
    "\n",
    "Notice the asymmetry between there lines\n",
    "\n",
    "```python\n",
    "            high = mid \n",
    "        else:\n",
    "            low = mid + 1\n",
    "```\n",
    "\n",
    "The point of Binary Search is to split a subarray into three parts:\n",
    "    \n",
    "mid - the part we will check\n",
    "\n",
    "front - the part before mid\n",
    "\n",
    "read - the part after mid\n",
    "\n",
    "\n",
    "```python\n",
    "    ^           ^          ^\n",
    "    |           |          |\n",
    "   low         mid        high\n",
    "\n",
    "```\n",
    "\n",
    "After checking, we want to update to eliminate mid from further search\n",
    "\n",
    "```python\n",
    "    ^           ^          ^\n",
    "    |           |          |\n",
    "   low         mid        high\n",
    "\n",
    "    ^          ^\n",
    "    |          |\n",
    "   low        high\n",
    "\n",
    "```\n",
    "\n",
    "Make a small change\n",
    "\n",
    "**After**\n",
    "\n",
    "```python\n",
    "        mid = (low + high) // 2\n",
    "        if word == list_of_words[mid]:\n",
    "            # Found it!  Return index\n",
    "            return mid\n",
    "        elif word < list_of_words[mid]:\n",
    "            high = mid - 1        # jdp - reduce subarray\n",
    "        else:\n",
    "            low = mid + 1\n",
    "```"
   ]
  },
  {
   "cell_type": "markdown",
   "metadata": {},
   "source": [
    "### Bottom line: there is a bug\n",
    "### it spends a bit more time, and misses one cases\n",
    "### But it was harmless in this problem"
   ]
  },
  {
   "cell_type": "markdown",
   "metadata": {},
   "source": [
    "## Fix bugs in Binary Search\n",
    "### And add two counters to track work done"
   ]
  },
  {
   "cell_type": "code",
   "execution_count": null,
   "metadata": {},
   "outputs": [],
   "source": [
    "# Two counters to see how hard we worked\n",
    "counter = 0    # How many times do we look at an item?\n",
    "calls   = 0    # How many times do we call the function?\n",
    "\n",
    "def binary_search(list_of_words: list, word: str) -> int:\n",
    "    \"\"\"Takes a list of numbers and a target value\n",
    "       Returns the position of the target in the list\"\"\"\n",
    "    global counter      # How many elements did we check?\n",
    "    global calls        # How many times did we call this routine?\n",
    "    calls = calls + 1\n",
    "   \n",
    "    # Set boundaries\n",
    "    low = 0\n",
    "    high = len(list_of_words) - 1\n",
    "    \n",
    "    # Check subarray list_of_numbers from low to high\n",
    "    while (low <= high):              # jdp\n",
    "        counter = counter + 1         # jdp\n",
    "        mid = (low + high) // 2\n",
    "        if word == list_of_words[mid]:\n",
    "            # Found it!  Return index\n",
    "            return mid\n",
    "        elif word < list_of_words[mid]:\n",
    "            high = mid - 1            # jdp\n",
    "        else:\n",
    "            low = mid + 1\n",
    "\n",
    "    # Not found \n",
    "    return -1\n",
    "\n",
    "def clear_counters():\n",
    "    \"Clear the counters\"\n",
    "    global counter\n",
    "    global calls  \n",
    "    \n",
    "    counter = 0\n",
    "    calls = 0"
   ]
  },
  {
   "cell_type": "markdown",
   "metadata": {},
   "source": [
    "### Call Test again"
   ]
  },
  {
   "cell_type": "code",
   "execution_count": null,
   "metadata": {},
   "outputs": [],
   "source": [
    "test_binary_search()"
   ]
  },
  {
   "cell_type": "markdown",
   "metadata": {},
   "source": [
    "### Student's Find Reversals\n",
    "\n",
    "In fact, he combined reading the file and looking for reverses\n",
    "\n",
    "Read File and find reversals\n",
    "\n",
    "This violates the \"noun verb\" rule for functions\n",
    "\n",
    "Read File\n",
    "\n",
    "Find Reversals\n"
   ]
  },
  {
   "cell_type": "code",
   "execution_count": null,
   "metadata": {},
   "outputs": [],
   "source": [
    "def find_reversals_in_file(filename):\n",
    "    \"Return a list with the a representative of each pair of reversed element, such as abut and tuba\"\n",
    "    \n",
    "    lst_to_traverse = read_words(filename)\n",
    "    return_lst = []               #Initialize the list to return\n",
    " \n",
    "    #Only check for reversal if there are two elements of the list\n",
    "    while len(lst_to_traverse) > 1:\n",
    "        word = lst_to_traverse[0]         #The first element is the one to be checked in the list.\n",
    "        sWord_in_Reverse = word[::-1]     #Reverse the word to be searched.\n",
    "\n",
    "        bEndOfList = False                #This variable indicates the end of the list has been reached.\n",
    "        bReverseFound = False             #This variable indicates that a reversal string has been found.\n",
    "\n",
    "        #If the word is already in the return list, remove it from the list.\n",
    "        #If the word in reverse is also in the return list, remove it from the \n",
    "        #list too. Removing the word makes the list smaller.\n",
    "        if word in return_lst or sWord_in_Reverse in return_lst:\n",
    "            bWordReturned = True\n",
    "            lst_to_traverse.pop(0)\n",
    "        else:\n",
    "            bWordReturned = False\n",
    "\n",
    "        #If the word in reverse is found, then include it in the return list.\n",
    "        #If it is not found and the end has been reached, exit out of the WHILE loop. \n",
    "        #Binary searched is used here to optimize searching for the word in reverse.\n",
    "        while not bReverseFound and not bEndOfList:  \n",
    "            if binary_search(lst_to_traverse,sWord_in_Reverse) != -1:\n",
    "                bReverseFound = True\n",
    "                return_lst.append(word.lower())\n",
    "            else:\n",
    "                bEndOfList = True\n",
    "                \n",
    "        #Removing the word makes the list smaller.\n",
    "        if len(lst_to_traverse) > 0:\n",
    "            lst_to_traverse.pop(0)\n",
    "        \n",
    "        #Removing the word in reverse makes the list smaller.\n",
    "        if bReverseFound:\n",
    "            lst_to_traverse.remove(sWord_in_Reverse)\n",
    "                            \n",
    "    return return_lst"
   ]
  },
  {
   "cell_type": "code",
   "execution_count": null,
   "metadata": {},
   "outputs": [],
   "source": [
    "def test_find_reversals():\n",
    "    !date\n",
    "    clear_counters()\n",
    "    lst = find_reversals_in_file('../words.txt')\n",
    "    print(f'Length of results: {len(lst)}')\n",
    "    print(f'Steps: {counter} Calls: {calls} Steps per call {counter/calls}')\n",
    "    clear_counters()       # Belt and suspenders\n",
    "    !date\n",
    "\n",
    "test_find_reversals()"
   ]
  },
  {
   "cell_type": "markdown",
   "metadata": {},
   "source": [
    "### What I see\n",
    "\n",
    "```python\n",
    "Sun Oct 18 13:34:18 MDT 2020\n",
    "Number of words in list  113718\n",
    "Length of results: 397\n",
    "Steps: 1721826 Calls: 113320 Steps per call 15.194369925873632\n",
    "Sun Oct 18 13:34:22 MDT 2020\n",
    "```"
   ]
  },
  {
   "cell_type": "markdown",
   "metadata": {},
   "source": [
    "### Overhead\n",
    "\n",
    "Let's focus on what we need for a while loop: initialization, updates, check\n",
    "\n",
    "```python\n",
    "    lst_to_traverse = read_words(filename)\n",
    " \n",
    "    #Only check for reversal if there are two elements of the list\n",
    "    while len(lst_to_traverse) > 1:\n",
    "        ...\n",
    "        if word in return_lst or sWord_in_Reverse in return_lst:\n",
    "            ...\n",
    "            lst_to_traverse.pop(0)\n",
    "                \n",
    "        if len(lst_to_traverse) > 0:\n",
    "            lst_to_traverse.pop(0)\n",
    "        \n",
    "        if bReverseFound:\n",
    "            lst_to_traverse.remove(sWord_in_Reverse)\n",
    "```\n",
    "\n",
    "### If we don't pop() someplace, the list wont get any shorter.\n",
    "\n",
    "### We suggest you use for loops, as there is less chance of error\n",
    "\n",
    "### I will argue that there is little lost in efficiency"
   ]
  },
  {
   "cell_type": "markdown",
   "metadata": {},
   "source": [
    "### What is going on here?\n",
    "\n",
    "```python\n",
    "    while not bReverseFound and not bEndOfList:  \n",
    "        if binary_search(lst_to_traverse,sWord_in_Reverse) != -1:\n",
    "            bReverseFound = True\n",
    "            return_lst.append(word.lower())\n",
    "        else:\n",
    "            bEndOfList = True\n",
    "```\n",
    "\n",
    "I have a loop: but either bReverseFound or bEndOfList will be set true\n",
    "    \n",
    "That is, I only run through the loop once.  \n",
    "\n",
    "I can remove the loop, and I can delete bEndOfList    "
   ]
  },
  {
   "cell_type": "markdown",
   "metadata": {},
   "source": [
    "### What is going on here?\n",
    "\n",
    "**Before**\n",
    "\n",
    "```python\n",
    "    while len(lst_to_traverse) > 1:\n",
    "        word = lst_to_traverse[0]         #The first element is the one to be checked in the list.\n",
    " \n",
    "        if word in return_lst or sWord_in_Reverse in return_lst:\n",
    "            lst_to_traverse.pop(0)\n",
    "\n",
    "        if len(lst_to_traverse) > 0:\n",
    "            lst_to_traverse.pop(0)\n",
    "```\n",
    "### *We are processing the first word.  When wouldn't we pop it?*\n",
    "\n",
    "### *Why would you have two pop()s and run the risk of missing a word?*\n",
    "\n",
    "**After**\n",
    "```python\n",
    "    while len(lst_to_traverse) > 1:\n",
    "        word = lst_to_traverse.pop(0) \n",
    "```\n"
   ]
  },
  {
   "cell_type": "markdown",
   "metadata": {},
   "source": [
    "### What is going on here?\n",
    "\n",
    "```python\n",
    "    if word in return_lst or sWord_in_Reverse in return_lst:\n",
    "        bWordReturned = True\n",
    "        lst_to_traverse.pop(0)\n",
    "    else:\n",
    "        bWordReturned = False\n",
    "```\n",
    "\n",
    "Well, don't process if it has already been handled!\n",
    "\n",
    "```python\n",
    "    if not (word in return_lst or sWord_in_Reverse in return_lst):\n",
    "        if binary_search(lst_to_traverse,sWord_in_Reverse) != -1:\n",
    "```"
   ]
  },
  {
   "cell_type": "markdown",
   "metadata": {},
   "source": [
    "### What is going on here?\n",
    "\n",
    "***Before**\n",
    "\n",
    "```python\n",
    "        while not bReverseFound and not bEndOfList:  \n",
    "            if binary_search(lst_to_traverse,sWord_in_Reverse) != -1:\n",
    "                bReverseFound = True\n",
    "        \n",
    "        #Removing the word in reverse makes the list smaller.\n",
    "        if bReverseFound:\n",
    "            lst_to_traverse.remove(sWord_in_Reverse)                        \n",
    "```\n",
    "\n",
    "Don't set a flag - remove it now!\n",
    "\n",
    "**After**\n",
    "\n",
    "```python\n",
    "        while not bReverseFound and not bEndOfList:  \n",
    "            if binary_search(lst_to_traverse,sWord_in_Reverse) != -1:\n",
    "                lst_to_traverse.remove(sWord_in_Reverse)                    \n",
    "```\n",
    "\n",
    "### Why throw away information?\n",
    "\n",
    "We have found the position of the reverse: rather than asking the general\n",
    "list remove() method to find it all over again, would be faster to call pop()\n",
    "\n",
    "\n",
    "**Before**\n",
    "```python\n",
    "    if binary_search(lst_to_traverse,sWord_in_Reverse) != -1:\n",
    "        ...\n",
    "\n",
    "        lst_to_traverse.remove(sWord_in_Reverse)\n",
    "```\n",
    "\n",
    "#### *remove() doesn't know where the word is: its needs the search whole list for it*\n",
    "\n",
    "**After**\n",
    "```python\n",
    "    pos = binary_search(lst_to_traverse,sWord_in_Reverse)\n",
    "        ...\n",
    "        lst_to_traverse.pop(pos)\n",
    "```\n",
    "\n",
    "\n",
    "This happens so rarely in oour problem that we won't see any change in the time."
   ]
  },
  {
   "cell_type": "markdown",
   "metadata": {},
   "source": [
    "## Rewrite"
   ]
  },
  {
   "cell_type": "code",
   "execution_count": null,
   "metadata": {},
   "outputs": [],
   "source": [
    "  def find_reversals_in_file(filename):\n",
    "    \"Return a list with the a representative of each pair of reversed element, such as abut and tuba\"\n",
    "    \n",
    "    lst_to_traverse = read_words(filename)\n",
    "    return_lst = []               # Initialize return value\n",
    " \n",
    "    # Check reversal if there are at least two elements\n",
    "    while len(lst_to_traverse) > 1:\n",
    "        word = lst_to_traverse.pop(0)   # Check first element of list\n",
    "        sWord_in_Reverse = word[::-1]   # Find its reverse\n",
    "\n",
    "        if not (word in return_lst or sWord_in_Reverse in return_lst):\n",
    "            pos = binary_search(lst_to_traverse,sWord_in_Reverse)\n",
    "            if  pos != -1:\n",
    "                return_lst.append(word.lower())\n",
    "                lst_to_traverse.pop(pos)\n",
    "                            \n",
    "    return return_lst"
   ]
  },
  {
   "cell_type": "code",
   "execution_count": null,
   "metadata": {},
   "outputs": [],
   "source": [
    "test_find_reversals()"
   ]
  },
  {
   "cell_type": "markdown",
   "metadata": {},
   "source": [
    "### What I see\n",
    "```python\n",
    "Sun Oct 18 14:02:08 MDT 2020\n",
    "Number of words in list  113718\n",
    "Length of results: 397\n",
    "Steps: 1721776 Calls: 113320 Steps per call 15.193928697493822\n",
    "Sun Oct 18 14:02:12 MDT 2020\n",
    "```\n",
    "\n",
    "#### Just as fast, and much easier to read and to maintain.\n",
    "\n",
    "#### Preserves all the improvements of the original"
   ]
  },
  {
   "cell_type": "code",
   "execution_count": null,
   "metadata": {
    "scrolled": false
   },
   "outputs": [],
   "source": [
    "lst[:10]"
   ]
  },
  {
   "cell_type": "markdown",
   "metadata": {},
   "source": [
    "## My Version: Rewrite routine to read words\n",
    "\n",
    "### Skipping palindromes makes original less general.\n",
    "\n",
    "There aren't enough plaindromes to make a perceptible difference\n",
    "\n",
    "### Rewrite the error message using the power of f-string formating\n",
    "\n",
    "**Before**\n",
    "```python\n",
    "    print(f\"Error \",filename,\" is not found. Please check file.\")\n",
    "```\n",
    "\n",
    "**After**\n",
    "```python\n",
    "    print(f\"Error: {filename} was not found.\") #    jdp - f-string\n",
    "```"
   ]
  },
  {
   "cell_type": "code",
   "execution_count": null,
   "metadata": {},
   "outputs": [],
   "source": [
    "def read_words(filename):\n",
    "    \"Return a list with contents of file\"\n",
    "    \n",
    "    try:\n",
    "        result = []\n",
    "        \n",
    "        with open(filename, 'r') as words:\n",
    "            for line in words:           \n",
    "                line = line.strip()\n",
    "                result.append(line.lower())\n",
    "    \n",
    "        return result              # Move inside clause\n",
    "    \n",
    "    except FileNotFoundError:       # print message if file not found - jdp\n",
    "        print(f\"Error: {filename} was not found.\") # jdp - f-string\n",
    "        return []"
   ]
  },
  {
   "cell_type": "markdown",
   "metadata": {},
   "source": [
    "## Search itself: version 1\n",
    "\n",
    "The first version uses a for loop and the Binary Search\n",
    "\n",
    "No attempt to remove elements: Binary Search is the only speedup\n",
    "\n",
    "### Avoid indexing when you can\n",
    "\n",
    "**Before**\n",
    "```python\n",
    "    for i in range(len(lst)):\n",
    "        word = lst[i]\n",
    "```\n",
    "\n",
    "**After**\n",
    "```python\n",
    "    for word in lst:\n",
    "```\n",
    "\n",
    "### Conditions\n",
    "\n",
    "```python\n",
    "        if rev != word and rev not in result and word not in result:\n",
    "\n",
    "```\n",
    "\n",
    "#### Not a palidrome\n",
    "\n",
    "```python\n",
    "        if rev != word ...\n",
    "\n",
    "```\n",
    "\n",
    "#### Haven't seen rev\n",
    "\n",
    "\n",
    "```python\n",
    "        if ... rev not in result ...\n",
    "\n",
    "```\n",
    "\n",
    "#### Haven't seen word\n",
    "\n",
    "\n",
    "```python\n",
    "        if ... word not in result:\n",
    "\n",
    "```\n"
   ]
  },
  {
   "cell_type": "code",
   "execution_count": null,
   "metadata": {},
   "outputs": [],
   "source": [
    "# Enter your function  here\n",
    "def find_reversals_in_file(filename):\n",
    "    \"Return a list with the a representative of each pair of reversed element\"\n",
    "    \n",
    "    lst = read_words(filename) \n",
    "    \n",
    "    result = []\n",
    "    \n",
    "    # For each word in the list\n",
    "    for word in lst:\n",
    "        \n",
    "        # Find the reverse\n",
    "        rev  = word[::-1]\n",
    "        \n",
    "        # If it isn't a palindrome, and we haven't seen it before\n",
    "        if rev != word and rev not in result and word not in result:\n",
    "            \n",
    "            # Look for the reverse in the list\n",
    "            if binary_search(lst, rev) != -1:\n",
    "                \n",
    "                # Found it: add word to our results\n",
    "                result.append(word)\n",
    "    return result"
   ]
  },
  {
   "cell_type": "code",
   "execution_count": null,
   "metadata": {},
   "outputs": [],
   "source": [
    "test_find_reversals()"
   ]
  },
  {
   "cell_type": "markdown",
   "metadata": {},
   "source": [
    "### What I see\n",
    "\n",
    "```python\n",
    "Sun Oct 18 14:06:53 MDT 2020\n",
    "Length of results: 397\n",
    "Steps: 1904573 Calls: 113321 Steps per call 16.806884866882573\n",
    "Sun Oct 18 14:06:55 MDT 2020\n",
    "```"
   ]
  },
  {
   "cell_type": "markdown",
   "metadata": {},
   "source": [
    "### The secret sauce is the Binary Search\n",
    "\n",
    "### The while loop casued undue complications"
   ]
  },
  {
   "cell_type": "markdown",
   "metadata": {},
   "source": [
    "### Premature optimization is the root of all evil -- Donald Knuth\n",
    "\n",
    "https://wiki.c2.com/?PrematureOptimization\n",
    "    \n",
    "\n",
    "In Donald Knuth's paper \"Structured Programming With Go To Statements\", \n",
    "he wrote: \"Programmers waste enormous amounts of time thinking about, or worrying about, the speed of noncritical parts of their programs, and these attempts at efficiency actually have a strong negative impact when debugging and maintenance are considered. We should forget about small efficiencies, say about 97% of the time: premature optimization is the root of all evil. Yet we should not pass up our opportunities in that critical 3%.\"\n"
   ]
  },
  {
   "cell_type": "markdown",
   "metadata": {},
   "source": [
    "### Small change: we only want to save half the words: 'abut', but not 'tuba'\n",
    "\n",
    "There is a quick check: the words are sorted, so test if word < rev\n",
    "\n",
    "**Before**\n",
    "```python\n",
    "    if rev != word and rev not in result and word not in result:\n",
    "```\n",
    "\n",
    "**After**\n",
    "```python\n",
    "    if word < rev:\n",
    "```\n",
    "\n",
    "We don't see the first word a second time, and this is a quck check that we don't have second word\n",
    "\n",
    "#### Note that this also filters palindromes\n",
    "\n",
    "### Version 2: This is a simple check that saves us half the lookups"
   ]
  },
  {
   "cell_type": "code",
   "execution_count": null,
   "metadata": {},
   "outputs": [],
   "source": [
    "# Enter your function  here\n",
    "def find_reversals_in_file(filename):\n",
    "    \"Return a list with the a representative of each pair of reversed element\"\n",
    "    \n",
    "    lst = read_words(filename) \n",
    "    \n",
    "    result = []\n",
    "    \n",
    "    # For each word in the list\n",
    "    for word in lst:\n",
    "        \n",
    "        # Find the reverse\n",
    "        rev  = word[::-1]\n",
    "        \n",
    "        # Representative will be smaller\n",
    "        if word < rev:\n",
    "            \n",
    "            # Look for the reverse in the list\n",
    "            if binary_search(lst, rev) != -1:\n",
    "                \n",
    "                # Found it: add word to our results\n",
    "                result.append(word)\n",
    "    return result"
   ]
  },
  {
   "cell_type": "code",
   "execution_count": null,
   "metadata": {},
   "outputs": [],
   "source": [
    "test_find_reversals()"
   ]
  },
  {
   "cell_type": "markdown",
   "metadata": {},
   "source": [
    "### What I see\n",
    "\n",
    "```python\n",
    "Sun Oct 18 14:18:22 MDT 2020\n",
    "Length of results: 397\n",
    "Steps: 1169218 Calls: 69357 Steps per call 16.857966751733784\n",
    "Sun Oct 18 14:18:22 MDT 2020\n",
    "```"
   ]
  },
  {
   "cell_type": "markdown",
   "metadata": {},
   "source": [
    "### The code is short enoough to fit in a List Comprehension"
   ]
  },
  {
   "cell_type": "code",
   "execution_count": null,
   "metadata": {},
   "outputs": [],
   "source": [
    "# Enter your function  here\n",
    "def find_reversals_in_file(filename):\n",
    "    \"Return a list with the a representative of each pair of reversed element\"\n",
    "    \n",
    "    lst = read_words(filename) \n",
    "    \n",
    "    return [word for word in lst if word < word[::-1] \n",
    "            and binary_search(lst, word[::-1]) != -1]"
   ]
  },
  {
   "cell_type": "code",
   "execution_count": null,
   "metadata": {},
   "outputs": [],
   "source": [
    "test_find_reversals()"
   ]
  },
  {
   "cell_type": "markdown",
   "metadata": {},
   "source": [
    "### What I see\n",
    "\n",
    "```python\n",
    "Sun Oct 18 14:18:33 MDT 2020\n",
    "Length of results: 397\n",
    "Steps: 1169218 Calls: 69357 Steps per call 16.857966751733784\n",
    "Sun Oct 18 14:18:34 MDT 2020\n",
    "```"
   ]
  },
  {
   "cell_type": "code",
   "execution_count": null,
   "metadata": {},
   "outputs": [],
   "source": [
    "lst[:10]"
   ]
  },
  {
   "cell_type": "markdown",
   "metadata": {},
   "source": [
    "### KISS, and for loops are simpler than while loops.  \n",
    "\n",
    "https://en.wikipedia.org/wiki/KISS_principle\n",
    "\n",
    "The for loop was simpler, and no slower.  In fact, Version 1 was two times faster.  \n",
    "\n",
    "A simple improvement made Version 2 four times faster.  \n",
    "\n",
    "Here are a couple of articles explaning why for loops and List Comprehsnions are faster than while loops.\n",
    "\n",
    "https://www.blog.duomly.com/loops-in-python-comparison-and-performance/\n",
    "\n",
    "https://stackoverflow.com/questions/869229/why-is-looping-over-range-in-python-faster-than-using-a-while-loop\n",
    "\n",
    "But that is not the argument we are making here.  \n",
    "\n",
    "We want you to use for loops, as you are more likely to have a bug with a while loop than with a for loop.  \n",
    "\n",
    "There is a place for While Loops - our Binary Search is a good example.  But KISS."
   ]
  },
  {
   "cell_type": "markdown",
   "metadata": {},
   "source": [
    "### Make it run, make it right, make it fast"
   ]
  }
 ],
 "metadata": {
  "kernelspec": {
   "display_name": "Python 3",
   "language": "python",
   "name": "python3"
  },
  "language_info": {
   "codemirror_mode": {
    "name": "ipython",
    "version": 3
   },
   "file_extension": ".py",
   "mimetype": "text/x-python",
   "name": "python",
   "nbconvert_exporter": "python",
   "pygments_lexer": "ipython3",
   "version": "3.8.1"
  }
 },
 "nbformat": 4,
 "nbformat_minor": 4
}
