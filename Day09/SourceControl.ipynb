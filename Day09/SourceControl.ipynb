{
 "cells": [
  {
   "cell_type": "markdown",
   "metadata": {},
   "source": [
    "# Introduction to Programming with Python\n",
    "# Source Control\n",
    "## Fall 2019, (c) Jeff Parker "
   ]
  },
  {
   "cell_type": "markdown",
   "metadata": {},
   "source": [
    "## CMU \"Software Measures and the Capability Maturity Model\" \n",
    "## Attempts to characterize the Maturity of a company\n",
    "\n",
    "Key requirement is the use of Source Control\n",
    "\n",
    "The ability to build today what you shipped last quarter\n",
    "\n",
    "Your current release is not ready, but you have a patch for an issue cricical to a key customer\n",
    "\n",
    "### There are alternatives, but a popular system today is GIT"
   ]
  },
  {
   "cell_type": "markdown",
   "metadata": {},
   "source": [
    "### https://git-scm.com/book/en/v2/Getting-Started-Installing-Git"
   ]
  },
  {
   "cell_type": "markdown",
   "metadata": {},
   "source": [
    "## Some sample commands"
   ]
  },
  {
   "cell_type": "code",
   "execution_count": null,
   "metadata": {},
   "outputs": [],
   "source": [
    "!git status ."
   ]
  },
  {
   "cell_type": "markdown",
   "metadata": {},
   "source": [
    "```python\n",
    "On branch master\n",
    "Changes not staged for commit:\n",
    "  (use \"git add <file>...\" to update what will be committed)\n",
    "  (use \"git checkout -- <file>...\" to discard changes in working directory)\n",
    "\n",
    "\tmodified:   SourceControl.ipynb\n",
    "\tmodified:   Unicode.ipynb\n",
    "\n",
    "Untracked files:\n",
    "  (use \"git add <file>...\" to include in what will be committed)\n",
    "\n",
    "\tc.txt\n",
    "\ttext.txt\n",
    "\n",
    "no changes added to commit (use \"git add\" and/or \"git commit -a\")\n",
    "```\n",
    "\n",
    "### This says that SourceControl.ipynb (the notebook we are looking at) has changed.  \n",
    "### Let's see what the differences are"
   ]
  },
  {
   "cell_type": "code",
   "execution_count": null,
   "metadata": {},
   "outputs": [],
   "source": [
    "!ls"
   ]
  },
  {
   "cell_type": "code",
   "execution_count": null,
   "metadata": {},
   "outputs": [],
   "source": [
    "!git diff SourceControl.ipynb"
   ]
  },
  {
   "cell_type": "markdown",
   "metadata": {},
   "source": [
    "```python\n",
    "diff --git a/Programs/Topics/SourceControl.ipynb b/Programs/Topics/SourceControl.ipynb\n",
    "index 9a3c625..5f5c5d2 100644\n",
    "--- a/Programs/Topics/SourceControl.ipynb\n",
    "+++ b/Programs/Topics/SourceControl.ipynb\n",
    "@@ -4,24 +4,24 @@\n",
    "    \"cell_type\": \"markdown\",\n",
    "    \"metadata\": {},\n",
    "    \"source\": [\n",
    "+    \"# Introduction to Programming with Python\\n\",\n",
    "     \"# Source Control\\n\",\n",
    "-    \"\\n\",\n",
    "-    \"### Nov 28\"\n",
    "+    \"## Fall 2019, (c) Jeff Parker \"\n",
    "    ]\n",
    "   },\n",
    "...\n",
    "```\n",
    "This says that I removed (-) a line with the date Nov 28, and added (+) the current heading.  There were many other changes.  "
   ]
  },
  {
   "cell_type": "code",
   "execution_count": null,
   "metadata": {},
   "outputs": [],
   "source": [
    "!git log -p Day12.ipynb"
   ]
  },
  {
   "cell_type": "markdown",
   "metadata": {},
   "source": [
    "log lists the checkins, and gives information about each\n",
    "\n",
    "```python\n",
    "commit ff6d6c60627f5a71120040f4d99d9c6cec905ae5  # The name of the saved files\n",
    "Author: Jeff Parker <jeff_parker@harvard.edu>    # The person who made the change\n",
    "Date:   Tue Nov 27 22:11:46 2018 -0500           # When this was checked in\n",
    "\n",
    "    Updates                                      # The checkin comment - not very helpful\n",
    "```\n"
   ]
  },
  {
   "cell_type": "markdown",
   "metadata": {
    "collapsed": true
   },
   "source": [
    "# Create a new git repository\n",
    "\n",
    "This is a sequence of typlical commands\n",
    "\n",
    "```python\n",
    "    cd ~             # Change to root directory\n",
    "\n",
    "    mkdir workspace  # Make a new directory\n",
    "\n",
    "    cd workspace     # Enter the directory\n",
    "\n",
    "    git init         # Create an empty GIT repository\n",
    "\n",
    "    git status .     # Check the status\n",
    "\n",
    "    vi one           # Edit a new file\n",
    "    \n",
    "        ... ## Add text to one\n",
    "    \n",
    "    git status .     # Check the status: one is not part of repository\n",
    "\n",
    "    git add one      # Add the file to the repository\n",
    "\n",
    "    git status .     # Check the status\n",
    "\n",
    "    git commit . -m 'Initial version'      # Save the current state of the file\n",
    "\n",
    "    git status .     # Check the status\n",
    "    \n",
    "    vi one           # Change the file\n",
    " \n",
    "        ...   ## Change text\n",
    "    \n",
    "    git status .     # Check the status\n",
    "\n",
    "    git diff one     # What has changed?\n",
    "\n",
    "    git commit . -m 'Updates'     # Commit the revised file\n",
    "\n",
    "    git status .     # Check the status\n",
    "    \n",
    "    git log          # Review the history of repository\n",
    "\n",
    "    git log one      # See the checkin comment for this file\n",
    "    \n",
    "    git log -p one   # See what changed in each checkin\n",
    "    \n",
    "    vi one           # Change the file\n",
    "    \n",
    "         .... Change the text\n",
    "        \n",
    "    git checkoug one # Restore to checked-in version\n",
    "```"
   ]
  },
  {
   "cell_type": "markdown",
   "metadata": {},
   "source": [
    "## Backup\n",
    "\n",
    "To backup your files, create another git repository - I always use the same directory name for the backup.\n",
    "\n",
    "I keep backups on thumb drives, and use that to synchronize directories on my home and office machines.  \n",
    "\n",
    "On a Mac, all discs are listed under Volumes\n",
    "\n",
    "My thumbdrive is called JeffParker in case I forget it in a computer somewhere.\n",
    "\n",
    "(I also have a file called \"If Found, return to\n",
    "\n",
    "```python\n",
    "    cd /Volumes/JeffParker/workspace    # Go to my workspace\n",
    "    \n",
    "    git pull ~/workspace/ .             # Pull all the updates from *there* to *here*\n",
    "```\n",
    "\n",
    "I try to keep different work areas seperate: have different GIT directories for each course, for my volunteer work, for my finances, etc.  "
   ]
  },
  {
   "cell_type": "markdown",
   "metadata": {},
   "source": [
    "## Lost Thumbdrives\n",
    "\n",
    "Do you have an ICE contact on your phone?\n",
    "\n",
    "Do you have your contact info on your thumbdrive?\n",
    "\n",
    "```python\n",
    "    cd /Volumes/JeffParker \n",
    "    more PleaseReturnTo.txt \n",
    "    \n",
    "        If found, please return to\n",
    "\n",
    "        Jeff Parker\n",
    "        jeff_parker@harvard.edu\n",
    "        (617) 998-8124\n",
    "```"
   ]
  },
  {
   "cell_type": "markdown",
   "metadata": {},
   "source": [
    "# Diff\n",
    "## Allows you to compare two version of a file"
   ]
  },
  {
   "cell_type": "code",
   "execution_count": null,
   "metadata": {},
   "outputs": [],
   "source": [
    "! diff ../assignment9/spellcheck2.py ../assignment9/spellcheck3.py"
   ]
  },
  {
   "cell_type": "markdown",
   "metadata": {},
   "source": [
    "```python\n",
    "    1c1\n",
    "    < # spellcheck2.py\n",
    "    ---\n",
    "    > # spellcheck3.py\n",
    "    3c3\n",
    "    < # Takes a dictionary and a word: suggests alternatives\n",
    "    ---\n",
    "    > # Takes a dictionary and a word: suggests alternativ\n",
    "    8d7\n",
    "    < #  Nov 2018: Rewrote core\n",
    "```\n",
    "\n",
    "Diff shows the differences between the two files.\n",
    "\n",
    "'<' is used to mark lines only in first\n",
    "\n",
    "'>' is used to make lines only in second"
   ]
  },
  {
   "cell_type": "code",
   "execution_count": null,
   "metadata": {},
   "outputs": [],
   "source": [
    "# Side by side with option -y\n",
    "\n",
    "! diff -y ../assignment9/spellcheck2.py ../assignment9/spellcheck3.py"
   ]
  },
  {
   "cell_type": "markdown",
   "metadata": {},
   "source": [
    "Results from side by side\n",
    "```python\n",
    "# spellcheck2.py                                           | # spellcheck3.py\n",
    "#\t\t\t\t\t\t\t\t\n",
    "# Takes a dictionary and a word: suggests alternatives     | # Takes a dictionary and a word: suggests alternativ\n",
    "#                                                          | #\n",
    "# Jeff Parker                                              | # Jeff Parker\n",
    "#                                                          | #\n",
    "#  Nov 2017                                                | #  Nov 2017\n",
    "#  Nov 2018: Rewrote core\t\t\t\t      \n",
    "```"
   ]
  },
  {
   "cell_type": "markdown",
   "metadata": {},
   "source": [
    "## Try BBEdit's file diff"
   ]
  },
  {
   "cell_type": "markdown",
   "metadata": {},
   "source": [
    "## GIT documentation\n",
    "\n",
    "- https://git-scm.com/about\n",
    "- https://www.learnenough.com/git-tutorial\n",
    "- https://guides.github.com/activities/hello-world/\n",
    "- http://www.vogella.com/tutorials/Git/article.html"
   ]
  }
 ],
 "metadata": {
  "kernelspec": {
   "display_name": "Python 3",
   "language": "python",
   "name": "python3"
  },
  "language_info": {
   "codemirror_mode": {
    "name": "ipython",
    "version": 3
   },
   "file_extension": ".py",
   "mimetype": "text/x-python",
   "name": "python",
   "nbconvert_exporter": "python",
   "pygments_lexer": "ipython3",
   "version": "3.7.3"
  }
 },
 "nbformat": 4,
 "nbformat_minor": 1
}
