{
 "cells": [
  {
   "cell_type": "markdown",
   "metadata": {},
   "source": [
    "# Introduction to Programming with Python\n",
    "# Day 9 Notebook -  Iterators and Generators\n",
    "# FALL 2019 - (c) Jeff Parker"
   ]
  },
  {
   "cell_type": "markdown",
   "metadata": {},
   "source": [
    "## Topics\n",
    "\n",
    "- Homework\n",
    "- cProfile and performance improvement\n",
    "- Command line iterators: _more_ and _pipelines_\n",
    "- Iterators\n",
    "- Generators\n",
    "- Generator Expressions\n",
    "- GIT?"
   ]
  },
  {
   "cell_type": "markdown",
   "metadata": {},
   "source": [
    "# Homework"
   ]
  },
  {
   "cell_type": "markdown",
   "metadata": {},
   "source": [
    "## Change Letter"
   ]
  },
  {
   "cell_type": "code",
   "execution_count": null,
   "metadata": {},
   "outputs": [],
   "source": [
    "def change_letter(word: str, pos: int, ch: str) -> str:\n",
    "    \"Change word[pos] to ch\"\n",
    "    return word[:pos] + ch + word[pos+1:]"
   ]
  },
  {
   "cell_type": "markdown",
   "metadata": {},
   "source": [
    "### Unit Tests"
   ]
  },
  {
   "cell_type": "code",
   "execution_count": null,
   "metadata": {},
   "outputs": [],
   "source": [
    "def test_change_letter():\n",
    "    assert(change_letter('cat', 0, 'b') == 'bat')\n",
    "    assert(change_letter('port', 3, 'c') == 'porc')\n",
    "    assert(change_letter('cast', 2, 'r') == 'cart')\n",
    "    \n",
    "    print('Pass')\n",
    "    \n",
    "test_change_letter()"
   ]
  },
  {
   "cell_type": "markdown",
   "metadata": {},
   "source": [
    "## One Step\n",
    "\n",
    "We look at one students efforts to solve the problem\n"
   ]
  },
  {
   "cell_type": "code",
   "execution_count": null,
   "metadata": {},
   "outputs": [],
   "source": [
    "# I think this is a horible function, a typical example of \"prototype and patch\" as opposed to \"designed development\".\n",
    "\n",
    "from typing import List\n",
    "\n",
    "def one_step(word: str) -> List[str]:\n",
    "    \"Return all lower case strings Hamming Distance 1 away\"\n",
    "    pass\n",
    "    abc=\"abcdefghijklmnopqrstuvwxyz\"\n",
    "    abc_plus_word=abc+word                          # Creates a \"word\": 26 first characters are the abc, last characters is the input word.\n",
    "    list_intermediate_output=[]                     # Creates an empty list that will contain duplicates, original word, and is unsorted.\n",
    "    list_final_output = []                          # Creates an empty list that will be the final output: no duplicates, no original, and sorted.\n",
    "    if len(word)==2:                                # Creates rules for words that are 2 character long.\n",
    "        for index in range(len(word)):              # Repeats following actions for the lenght of the word (as we are working with number of characters).\n",
    "            for round in range(len(abc)):           # Repeats following actions 26 times (length of the abc).\n",
    "                new_word=(abc_plus_word[round],abc_plus_word[(len(abc_plus_word)-len(word))+1])   # Creates new word \"Frankeinstein\".\n",
    "                new_word=\"\".join(new_word)                                                        \n",
    "                list_intermediate_output.append(new_word)                                         # Adds word frankeinstein to the intermediate list.\n",
    "                new_word=(abc_plus_word[(len(abc_plus_word)-len(word))],abc_plus_word[round])     # Switches the characters.\n",
    "                new_word=\"\".join(new_word)\n",
    "                list_intermediate_output.append(new_word)\n",
    "    if len(word)==3:                                                                              # Does the same as above, but for words with 3 characters.\n",
    "        for index in range(len(word)):\n",
    "            for round in range(len(abc)):\n",
    "                new_word=(abc_plus_word[round],abc_plus_word[(len(abc_plus_word)-len(word))+1],abc_plus_word[len(abc_plus_word)-len(word)+2])\n",
    "                new_word=\"\".join(new_word)\n",
    "                list_intermediate_output.append(new_word)                \n",
    "                new_word=(abc_plus_word[(len(abc_plus_word)-len(word))],abc_plus_word[round],abc_plus_word[len(abc_plus_word)-len(word)+2])\n",
    "                new_word=\"\".join(new_word)\n",
    "                list_intermediate_output.append(new_word)\n",
    "                new_word=(abc_plus_word[(len(abc_plus_word)-len(word))],abc_plus_word[len(abc_plus_word)-len(word)+1],abc_plus_word[round])\n",
    "                new_word=\"\".join(new_word)\n",
    "                list_intermediate_output.append(new_word)\n",
    "    for item in list_intermediate_output:                      # Iterates through the intermediate list.\n",
    "        if item != word:\n",
    "            list_final_output.append(item)                     # Adds items to the new, final list that are not the same as the original word.\n",
    "    list_final_output.sort()                                   # Sorts the final list in ABC order.\n",
    "    list_final_output = list(dict.fromkeys(list_final_output)) # Removes duplicates from the final list. \n",
    "    return(list_final_output)                                  # Returnes final list.\n",
    "    \n",
    "lst = one_step('MooN')\n",
    "print(lst)\n",
    "print(len(lst))"
   ]
  },
  {
   "cell_type": "markdown",
   "metadata": {},
   "source": [
    "### Treats 2 letter words and 3 letter words differently.  \n",
    "\n",
    "```python\n",
    "    if len(word)==2:                            # Creates rules for words that are 2 character long.\n",
    "        ... \n",
    "    if len(word)==3:                            # Does the same as above, but for words with 3 characters.\n",
    "```\n",
    "### No provision for other lengths.  My response to student:\n",
    "\n",
    "My question after reading the code was \"Does it handle arbitrary length strings?\"\n",
    "\n",
    "I would guess not.\n",
    "\n",
    "You have a clearer understanding of the problem at this point.  It is time to write the second version.  Put this version in a safe spot to ease your mind, and start with an empty slate and a brain full of all you have discovered about the problem.  \n",
    "\n",
    "jdp"
   ]
  },
  {
   "cell_type": "markdown",
   "metadata": {},
   "source": [
    "## *Translation: write two, and throw this one away*\n",
    "\n",
    "## Student response\n",
    "\n",
    "The student made multiple passes over this, and improved things greatly\n",
    "\n",
    "She learned a lot, and wound up with a much nicer solution"
   ]
  },
  {
   "cell_type": "markdown",
   "metadata": {},
   "source": [
    "## Second Draft is much better\n",
    "\n",
    "\"Below the improvements I made:\n",
    "\n",
    "length of the input word does not matter anymore: function can handle arbitrary length strings.\n",
    "\n",
    "\"abc[:100]\" is gone: I solved it with a simple for loop.\n",
    "\n",
    "no more dictionary: I solved it with an \"if\" function.\n",
    "\n",
    "no more many lists: I filter with an \"if\" function before adding something to a list."
   ]
  },
  {
   "cell_type": "code",
   "execution_count": null,
   "metadata": {},
   "outputs": [],
   "source": [
    "from typing import List\n",
    "\n",
    "def one_step(word: str) -> List[str]:\n",
    "    \"Return all lower case strings Hamming Distance 1 away\"\n",
    "    pass\n",
    "    abc=\"abcdefghijklmnopqrstuvwxyz\"         \n",
    "    list_intermediate=[]                           # Creates empty list that will include the original word, duplicates and won't be sorted.\n",
    "    list_final=[]                                  # Creates empty list that will include only the correct words and will be sorted.\n",
    "    i=0                                            # Creates variable to loop through correctly the word.\n",
    "    for i in range (len(word)):                    # Loops through the characters of the word. If word is 2 characters long, it will loop through twice.\n",
    "        for character in abc[:100]:                # Loops through all the characters in the ABC.\n",
    "            list_word=list(word)                   # Creates list for the characters of the string.\n",
    "            list_word[i]=abc[abc.index(character)] # Replaces the \"loop index\" of the word with the \"loop index\" of the ABC.\n",
    "            new_word = \"\".join(list_word)          # Returns list into string format.\n",
    "            list_intermediate.append(new_word)     # Adds all words into the intermediate list.\n",
    "        i=i+1\n",
    "    for item in list_intermediate:                 # Iterates through the intermediate list.\n",
    "        if item != word:\n",
    "            list_final.append(item)                # Adds items to the new, final list that are not the same as the original word.\n",
    "    list_final.sort()                              # Sorts the final list in ABC order.\n",
    "    list_final = list(dict.fromkeys(list_final))   # Removes duplicates from the final list. \n",
    "    return (list_final)\n",
    "\n",
    "lst = one_step('MooN')\n",
    "print(lst)\n",
    "print(len(lst))"
   ]
  },
  {
   "cell_type": "markdown",
   "metadata": {},
   "source": [
    "## Third Draft\n",
    "\n",
    "Better yet: see suggestions below"
   ]
  },
  {
   "cell_type": "markdown",
   "metadata": {},
   "source": [
    "### \"Function FRANKENSTEIN turned into Function FAIRY\n",
    "#### \"Function FRANKENSTEIN: 41 lines long. Works with input only 2 or 3 characters long.\n",
    "#### \"Function FAIRY: 16 lines long. Works with any length of string input.\""
   ]
  },
  {
   "cell_type": "code",
   "execution_count": null,
   "metadata": {},
   "outputs": [],
   "source": [
    "from typing import List\n",
    "\n",
    "def one_step(word: str) -> List[str]:\n",
    "    \"Return all lower case strings Hamming Distance 1 away\"\n",
    "    pass\n",
    "    abc=\"abcdefghijklmnopqrstuvwxyz\"         \n",
    "    list_final=[]                                  # Creates empty list that will include only the correct words and will be sorted.\n",
    "    i=0                                            # Creates variable to loop through correctly the word.\n",
    "    for i in range (len(word)):                    # Loops through the characters of the word. If word is 2 characters long, it will loop through twice.\n",
    "        for character in abc:                      # Loops through all the characters in the ABC.\n",
    "            list_word=list(word)                   # Changes word from string format into list format.\n",
    "            list_word[i]=abc[abc.index(character)] # Replaces the \"loop index\" of the word with the \"loop index\" of the ABC.\n",
    "            new_word = \"\".join(list_word)          # Returns list into string format.\n",
    "            if new_word != word:\n",
    "                if new_word not in list_final:\n",
    "                    list_final.append(new_word)    # Adds only words that are not the same as the original or are not duplicates.\n",
    "    i=i+1\n",
    "    list_final.sort()                              # Sorts the final list in ABC order.\n",
    "    return (list_final)\n",
    "    \n",
    "lst = one_step('MooN')\n",
    "print(lst)\n",
    "print(len(lst))"
   ]
  },
  {
   "cell_type": "markdown",
   "metadata": {},
   "source": [
    "## More Suggestions\n",
    "\n",
    "#### Start: pass and string constant\n",
    "```python\n",
    "def one_step(word: str) -> List[str]:\n",
    "    \"Return all lower case strings Hamming Distance 1 away\"\n",
    "    pass\n",
    "    abc=\"abcdefghijklmnopqrstuvwxyz\"         \n",
    "```\n",
    "\n",
    "The 'pass' on line 5 can go.  \n",
    "\n",
    "On line 6 you define something already known as the string constant string.ascii_lowercase\n",
    "\n",
    "```python\n",
    "import string \n",
    "def one_step(word: str) -> List[str]:\n",
    "    \"Return all lower case strings Hamming Distance 1 away\"\n",
    "    \n",
    "    abc = string.ascii_lowercase         \n",
    "```\n",
    "\n",
    "#### Lower Case\n",
    "\n",
    "We need to convert word to lower case\n",
    "\n",
    "```python\n",
    "import string \n",
    "def one_step(word: str) -> List[str]:\n",
    "    \"Return all lower case strings Hamming Distance 1 away\"\n",
    "    \n",
    "    word = word.lower()\n",
    "    abc = string.ascii_lowercase         \n",
    "```\n",
    "\n",
    "#### Building a list\n",
    "\n",
    "Line 11 can go after line 9 and save a bit of time.  \n",
    "````python\n",
    "    for i in range (len(word)):                    # Loops through the characters of the word. \n",
    "        for character in abc:                      # Loops through all the characters in the ABC.\n",
    "            list_word=list(word)                   # Changes word from string format into list format.\n",
    "```\n",
    "In the inner loop, we always change the string in the same place, so we can move line 11\n",
    "\n",
    "````python\n",
    "    for i in range (len(word)):                     \n",
    "        list_word=list(word)                       # Once per position in the word\n",
    "        for character in abc:                       \n",
    "```\n",
    "We create a list from the word once per position, not 26 times\n",
    "  \n",
    "#### Finding the character\n",
    "\n",
    "Look at right hand side of line 12.  \n",
    "\n",
    "```python\n",
    "            list_word[i]=abc[abc.index(character)] \n",
    "```\n",
    "No need to look up the position and then index: you have the answer in hand\n",
    "    \n",
    "```python\n",
    "            list_word[i] = character  \n",
    "```\n",
    "\n",
    "#### Testing for duplicates\n",
    "\n",
    "The test on line 15 isn't needed:\n",
    "\n",
    "```python\n",
    "            if new_word != word:\n",
    "                if new_word not in list_final:\n",
    "                    list_final.append(new_word)    \n",
    "```\n",
    "We are changing a different position, so we won't create a word we have already put in the list\n",
    "\n",
    "```python\n",
    "            if new_word != word:\n",
    "                list_final.append(new_word)   \n",
    "```\n",
    "\n",
    "#### Orphan variable\n",
    "\n",
    "Why do you compute i on lines 8 and 17?  \n",
    "```python\n",
    "    i=0                              # Creates variable to loop through correctly the word.\n",
    "    for i in range (len(word)):                    \n",
    "        ...\n",
    "    i=i+1\n",
    "```\n",
    "\n",
    "You don't seem to use it.  Delete it.   \n",
    "\n",
    "#### Simplify\n",
    "\n",
    "You can fold together the last two lines\n",
    "```python\n",
    "    list_final.sort()                              # Sorts the final list in ABC order.\n",
    "    return (list_final)\n",
    "```\n",
    "Just be sure to use sorted(), which returns a list, and not sort(), which returns None\n",
    "\n",
    "```python\n",
    "    return (sorted(list_final))\n",
    "```\n",
    "\n",
    "### Let's try it out - note edits to comments"
   ]
  },
  {
   "cell_type": "code",
   "execution_count": null,
   "metadata": {},
   "outputs": [],
   "source": [
    "from typing import List\n",
    "import string\n",
    "\n",
    "def one_step(word: str) -> List[str]:\n",
    "    \"Return all lower case strings Hamming Distance 1 away\"\n",
    "    abc = string.ascii_lowercase \n",
    "    word = word.lower()\n",
    "    list_final = []                                # Result\n",
    "    for i in range (len(word)):                    # Change each position\n",
    "        list_word=list(word)                       # Turn string into list\n",
    "        for ch in abc:                             # Try each letter\n",
    "            list_word[i] = ch                      # Replace the letter\n",
    "            new_word = \"\".join(list_word)          # Convert list to string \n",
    "            if new_word != word:\n",
    "                list_final.append(new_word)        # Adds only new strings \n",
    "                \n",
    "    return (sorted(list_final)) \n",
    "\n",
    "lst = one_step('MooN')\n",
    "print(lst)\n",
    "print(len(lst))"
   ]
  },
  {
   "cell_type": "markdown",
   "metadata": {},
   "source": [
    "## Another Student Solution"
   ]
  },
  {
   "cell_type": "code",
   "execution_count": null,
   "metadata": {},
   "outputs": [],
   "source": [
    "from typing import List\n",
    "\n",
    "def one_step(word: str) -> List[str]:\n",
    "    \"Return all lower case strings Hamming Distance 1 away\"\n",
    "    alph = list(\"abcdefghijklmnopqrstuvwxyz\") # define a list of alphabets\n",
    "    hamming = [] # create a new list to put the word outup \n",
    "    for tch in range (len(word)): #looping through the word\n",
    "        for ch in alph: # looping through the alphabet list\n",
    "            new_word = word[:tch] + ch + word[tch+1:] # creating the new word by replacing the desired character with each alphabet\n",
    "            if new_word == word: # only returning the 'new' words that is not identical to the original word\n",
    "                continue\n",
    "            else:\n",
    "                hamming.append(new_word)\n",
    "    return sorted(hamming) # sort the list\n",
    "\n",
    "lst = one_step('MooN')\n",
    "print(lst)\n",
    "print(len(lst))"
   ]
  },
  {
   "cell_type": "markdown",
   "metadata": {},
   "source": [
    "```python\n",
    "['MaoN', 'MboN', 'McoN', 'MdoN', 'MeoN', 'MfoN', 'MgoN', 'MhoN', 'MioN', 'MjoN', 'MkoN', 'MloN', 'MmoN', 'MnoN', 'MoaN', 'MobN', 'MocN', 'ModN', 'MoeN', 'MofN', 'MogN', 'MohN', 'MoiN', 'MojN', 'MokN', 'MolN', 'MomN', 'MonN', 'Mooa', 'Moob', 'Mooc', 'Mood', 'Mooe', 'Moof', 'Moog', 'Mooh', 'Mooi', 'Mooj', 'Mook', 'Mool', 'Moom', 'Moon', 'Mooo', 'Moop', 'Mooq', 'Moor', 'Moos', 'Moot', 'Moou', 'Moov', 'Moow', 'Moox', 'Mooy', 'Mooz', 'MopN', 'MoqN', 'MorN', 'MosN', 'MotN', 'MouN', 'MovN', 'MowN', 'MoxN', 'MoyN', 'MozN', 'MpoN', 'MqoN', 'MroN', 'MsoN', 'MtoN', 'MuoN', 'MvoN', 'MwoN', 'MxoN', 'MyoN', 'MzoN', 'aooN', 'booN', 'cooN', 'dooN', 'eooN', 'fooN', 'gooN', 'hooN', 'iooN', 'jooN', 'kooN', 'looN', 'mooN', 'nooN', 'oooN', 'pooN', 'qooN', 'rooN', 'sooN', 'tooN', 'uooN', 'vooN', 'wooN', 'xooN', 'yooN', 'zooN']\n",
    "102\n",
    "```\n",
    "\n",
    "# 102: Two too many!\n",
    "## By not taking lowercase(), we get duplicates mooN and Moon \n",
    "\n",
    "## This is confusing\n",
    "```python\n",
    "            if new_word == word:  \n",
    "                continue\n",
    "            else:\n",
    "                hamming.append(new_word)\n",
    "```\n",
    "### Better to say\n",
    "```python\n",
    "            if new_word != word:  \n",
    "                hamming.append(new_word)\n",
    "```\n",
    "\n"
   ]
  },
  {
   "cell_type": "markdown",
   "metadata": {},
   "source": [
    "## My solution"
   ]
  },
  {
   "cell_type": "code",
   "execution_count": null,
   "metadata": {},
   "outputs": [],
   "source": [
    "from typing import List\n",
    "import string\n",
    "\n",
    "def one_step(word: str) -> List[str]:\n",
    "    \"Return all lower case strings Hamming Distance 1 away\"\n",
    "    \n",
    "    result = []\n",
    "    word = word.lower()\n",
    "    \n",
    "    for pos in range(len(word)):\n",
    "        for ch in string.ascii_lowercase:\n",
    "            new_word = word[:pos] + ch + word[pos+1:]\n",
    "            if new_word != word:\n",
    "                result.append(new_word)\n",
    "                \n",
    "    return sorted(result)\n",
    "\n",
    "lst = one_step('MooN')\n",
    "print(lst)\n",
    "print(len(lst))"
   ]
  },
  {
   "cell_type": "markdown",
   "metadata": {},
   "source": [
    "### Unit Tests"
   ]
  },
  {
   "cell_type": "code",
   "execution_count": null,
   "metadata": {},
   "outputs": [],
   "source": [
    "def test_one_step():\n",
    "    assert(one_step('aa') == ['ab', 'ac', 'ad', 'ae', 'af', 'ag', 'ah', 'ai', 'aj', 'ak', 'al', 'am', 'an', 'ao', 'ap', 'aq', 'ar', 'as', 'at', 'au', 'av', 'aw', 'ax', 'ay', 'az', 'ba', 'ca', 'da', 'ea', 'fa', 'ga', 'ha', 'ia', 'ja', 'ka', 'la', 'ma', 'na', 'oa', 'pa', 'qa', 'ra', 'sa', 'ta', 'ua', 'va', 'wa', 'xa', 'ya', 'za'])\n",
    "    assert(one_step('cat') == ['aat', 'bat', 'caa', 'cab', 'cac', 'cad', 'cae', 'caf', 'cag', 'cah', 'cai', 'caj', 'cak', 'cal', 'cam', 'can', 'cao', 'cap', 'caq', 'car', 'cas', 'cau', 'cav', 'caw', 'cax', 'cay', 'caz', 'cbt', 'cct', 'cdt', 'cet', 'cft', 'cgt', 'cht', 'cit', 'cjt', 'ckt', 'clt', 'cmt', 'cnt', 'cot', 'cpt', 'cqt', 'crt', 'cst', 'ctt', 'cut', 'cvt', 'cwt', 'cxt', 'cyt', 'czt', 'dat', 'eat', 'fat', 'gat', 'hat', 'iat', 'jat', 'kat', 'lat', 'mat', 'nat', 'oat', 'pat', 'qat', 'rat', 'sat', 'tat', 'uat', 'vat', 'wat', 'xat', 'yat', 'zat'])\n",
    "    assert(one_step('dog') == ['aog', 'bog', 'cog', 'dag', 'dbg', 'dcg', 'ddg', 'deg', 'dfg', 'dgg', 'dhg', 'dig', 'djg', 'dkg', 'dlg', 'dmg', 'dng', 'doa', 'dob', 'doc', 'dod', 'doe', 'dof', 'doh', 'doi', 'doj', 'dok', 'dol', 'dom', 'don', 'doo', 'dop', 'doq', 'dor', 'dos', 'dot', 'dou', 'dov', 'dow', 'dox', 'doy', 'doz', 'dpg', 'dqg', 'drg', 'dsg', 'dtg', 'dug', 'dvg', 'dwg', 'dxg', 'dyg', 'dzg', 'eog', 'fog', 'gog', 'hog', 'iog', 'jog', 'kog', 'log', 'mog', 'nog', 'oog', 'pog', 'qog', 'rog', 'sog', 'tog', 'uog', 'vog', 'wog', 'xog', 'yog', 'zog'])\n",
    "\n",
    "    print('Pass')\n",
    "    \n",
    "test_one_step()"
   ]
  },
  {
   "cell_type": "markdown",
   "metadata": {},
   "source": [
    "# Lessons Learned\n",
    "\n",
    "What did you learn in the process of doing this?\n",
    "\n",
    "jdp\n",
    "\n",
    "\"Oh, I have many learnings from this experience. See below in a somewhat unorganized manner.\n",
    "\n",
    "\n",
    "## 1) Don't start to code immediately.\n",
    "\n",
    "Sometimes it is useful to read the question first, and - before touching any code -  solve it on a piece of paper: not necessarily by writing down code, but by thinking through the problem logically. Only once you have the most efficient logic crystalized is when you should start writing the code.\n",
    "\n",
    "So I guess proper technique should be: read problem -> define approach with wide strokes on a piece of paper -> sit down to code it.\n",
    "\n",
    "\n",
    "## 2) Don't assume constant input.\n",
    "\n",
    "Always design for inconsistent input, even if, for now, the only input is a double-digit string.\n",
    "\n",
    "\n",
    "## 3) Do ask for help\n",
    "\n",
    "You can learn a lot by asking for help from others. (Thank you, Jeff and Diane, I learned a TON from you today!!!) I imagine another way to do it would be is by trying to explain your code to someone, out loud, line-by-line.\n",
    "\n",
    "\n",
    "## 4) Do get away from your code\n",
    "\n",
    "If you get stuck, get away from the code. Your brain will work on it in the background and next time you look at it, the mistakes will be obvious.\n",
    "\n",
    "\n",
    "## 5) Do use print statements while debugging\n",
    "\n",
    "Print statements after (almost) every line of the code can help understand what is going wrong. \n",
    "\n",
    "\n",
    "## 6) Do laugh at your own bad codes\n",
    "\n",
    "Function Frankenstein is my friend, not my enemy. And this line of code still cracks me up hahah:\n",
    "\n",
    "```python\n",
    "list_word[i] = abc[abc.index(character)]\n",
    "```"
   ]
  },
  {
   "cell_type": "markdown",
   "metadata": {},
   "source": [
    "# More testimony from the Amen Corner\n",
    "\n",
    "\"I have rewritten without using the replace and my function now works.  Leaving the computer and doing some further reading helped me create an alternative approach.\n",
    "\n",
    "\"I still iterate through the two strings I have (the word and the alphabet).  I build a list of the strings that are created with a hamming distance of 1 and then cast into a Set (no duplicates) and remove the original word from the list.  I then return the sorted list of results.\n",
    "\n",
    "\"Using the DEBUG feature of PyCharm really helped in identifying where the replace was running into 'issues' with adjacent duplicate characters.\n",
    "\n",
    "\"I now expect that the same approach can be used for the one_step_words() function."
   ]
  },
  {
   "cell_type": "markdown",
   "metadata": {},
   "source": [
    "# One Step Words\n",
    "\n",
    "### We have a choice: \n",
    "### 1) Use One Step, and filter that list for words in dictionary\n",
    "### 2) Filter the dictionary, looking for words hamming distance 1 away\n",
    "\n",
    "## Student Solution"
   ]
  },
  {
   "cell_type": "code",
   "execution_count": null,
   "metadata": {},
   "outputs": [],
   "source": [
    "def one_step_words(word: str):\n",
    "    \"Return all words Hamming Distance 1 from word\"\n",
    "    \n",
    "    with open('../words.txt', 'r') as f:\n",
    "        myfile = f.read().replace('\\n', '')\n",
    "    alphabet = \"abcdefghijklmnopqrstuvwxyz\"\n",
    "    dictionary_hams = []\n",
    "    hammertime = []\n",
    "    for i in word:\n",
    "        for count,ele in enumerate(word,0):\n",
    "            for letter in alphabet:\n",
    "                if letter != i:\n",
    "                    changed = change_letter(word, count, letter)\n",
    "                    if changed not in hammertime and changed != word:\n",
    "                        hammertime.append(changed)\n",
    "    for words in hammertime:\n",
    "        if words in myfile:\n",
    "            dictionary_hams.append(words)\n",
    "    return sorted(dictionary_hams)\n",
    "\n",
    "def change_letter(word: str, pos: int, ch: str) -> str:\n",
    "    \"Change the letter in position 'pos' to 'ch'\"\n",
    "    s = list(word)\n",
    "    s[pos] = ch\n",
    "    changed = \"\".join(s)\n",
    "    return changed\n",
    "\n",
    "test = one_step_words('moon')\n",
    "print(test)\n",
    "print(len(test))"
   ]
  },
  {
   "cell_type": "markdown",
   "metadata": {},
   "source": [
    "## Where do the extra words, like mson, come from?"
   ]
  },
  {
   "cell_type": "markdown",
   "metadata": {},
   "source": [
    "## Think about\n",
    "```python\n",
    "    with open('../words.txt', 'r') as f:\n",
    "        myfile = f.read().replace('\\n', '')\n",
    "        \n",
    "    ...\n",
    "        if words in myfile:\n",
    "            dictionary_hams.append(words)\n",
    "```\n",
    "### Let's see what's there"
   ]
  },
  {
   "cell_type": "code",
   "execution_count": null,
   "metadata": {},
   "outputs": [],
   "source": [
    "def one_step_words(word: str):\n",
    "    \"Return all words Hamming Distance 1 from word\"\n",
    "    \n",
    "    with open('../words.txt', 'r') as f:\n",
    "        myfile = f.read().replace('\\n', '')\n",
    "            \n",
    "    # What did we find?\n",
    "    print(myfile[:50])\n",
    "    \n",
    "one_step_words('MooN')"
   ]
  },
  {
   "cell_type": "markdown",
   "metadata": {},
   "source": [
    "## I was sure I'd found the bug\n",
    "## This is a bug, but not one caught by my test case"
   ]
  },
  {
   "cell_type": "markdown",
   "metadata": {},
   "source": [
    "```python\n",
    "    for words in hammertime:\n",
    "        if words in myfile:\n",
    "            dictionary_hams.append(words)\n",
    "```"
   ]
  },
  {
   "cell_type": "code",
   "execution_count": null,
   "metadata": {},
   "outputs": [],
   "source": [
    "!grep mbon ../words.txt"
   ]
  },
  {
   "cell_type": "markdown",
   "metadata": {},
   "source": [
    "```python\n",
    "ambones\n",
    "trombone\n",
    "trombones\n",
    "trombonist\n",
    "trombonists\n",
    "umbonal\n",
    "umbonate\n",
    "umbones\n",
    "umbonic\n",
    "```\n",
    "\n",
    "## Jamming the words together is a bug, but it isn't visible in this test case\n",
    "## This bug is allowing a match with a word fragment: mbon is in tro-mbon-e\n",
    "### How many ways can we fix this?\n",
    "#### Run over dictionary words looking for items in one_step()\n",
    "#### Compare whole words, rather than looking for a substring"
   ]
  },
  {
   "cell_type": "markdown",
   "metadata": {},
   "source": [
    "## How legible is the program?\n",
    "\n",
    "```python\n",
    "    dictionary_hams = []\n",
    "    hammertime = []\n",
    "```"
   ]
  },
  {
   "cell_type": "markdown",
   "metadata": {},
   "source": [
    "## Another Student submission"
   ]
  },
  {
   "cell_type": "code",
   "execution_count": null,
   "metadata": {},
   "outputs": [],
   "source": [
    "#one_step_word.py\n",
    "#\n",
    "#usage: matches words which are 1 hamming distance away from a source word\n",
    "\n",
    "word =['wax']\n",
    "\n",
    "from typing import List\n",
    "\n",
    "def one_step_words(word: str) -> List[str]:\n",
    "    \"Return all words Hamming Distance 1 from word\"\n",
    "    lst = []\n",
    "    finallst = []\n",
    "    counter = 0\n",
    "    comma = ''\n",
    "    origword = []\n",
    "    with open( 'words.txt' , 'r') as wordsread:           #opens our file for reading\n",
    "        for line in wordsread:                     #print line in file \n",
    "            entry = line.strip('\\n').lower()\n",
    "            \n",
    "        for letter in range(counter,len(word)):\n",
    "            to_switch = word[0 + counter:counter + 1]\n",
    "            for letternested in 'abcdefghijklmnopqrstuvwxyz':            \n",
    "                mod_word = word.replace(to_switch, letternested)\n",
    "                mod_word2 = ''\n",
    "                if len(word) == 2:\n",
    "                    mod_word = (word[0] + letternested)\n",
    "                    mod_word2 = (letternested + word[1])\n",
    "                if mod_word not in lst:\n",
    "                    lst.append(mod_word)\n",
    "                if mod_word2 not in lst:\n",
    "                    lst.append(mod_word2)\n",
    "                if letternested == 'z':\n",
    "                    counter += 1\n",
    "        list(lst)\n",
    "        lst = sorted(lst)\n",
    "        if origword in lst:\n",
    "            lst.remove(origword)\n",
    "        if comma in lst:\n",
    "            lst.remove(comma)\n",
    "        for entry in lst:\n",
    "            finallst.append(entry)\n",
    "        print(finallst)    # the list of distance <--------------see this is longer\n",
    "        for item in finallst:\n",
    "            if item != entry: # <-------------------------------------- I filter some bt not enough extra words in there \n",
    "                finallst.remove(item)\n",
    "        print(finallst)\n",
    "        return finallst    \n",
    "\n",
    "    one_step_words(word)"
   ]
  },
  {
   "cell_type": "markdown",
   "metadata": {},
   "source": [
    "# Code Smells\n",
    "\n",
    "This is a widely used term.  See https://blog.codinghorror.com/code-smells/ and  https://sourcemaking.com/refactoring/smells \n",
    "\n",
    "Some things that smell bad to me\n",
    "\n",
    "## Inappropriate names\n",
    "\n",
    "```python\n",
    "    comma = ''\n",
    "```\n",
    "Why comma?  This should be called blank\n",
    "\n",
    "```python\n",
    "    counter = 0\n",
    "    ...\n",
    "        for letter in range(counter,len(word)):\n",
    "```\n",
    "Why are we calling an integer letter?\n",
    "\n",
    "What is counter doing here?  Why isn't this just\n",
    "\n",
    "```python\n",
    "        for pos in range(len(word)):\n",
    "```\n",
    "### letternested\n",
    "\n",
    "```python\n",
    "            for letternested in 'abcdefghijklmnopqrstuvwxyz':            \n",
    "```\n",
    "Why letternested?  Why isn't this\n",
    "```python\n",
    "            for ch in string.ascii_lowercase:            \n",
    "```\n",
    "\n",
    "## Missing functionality\n",
    "\n",
    "```python\n",
    "    with open( 'words.txt' , 'r') as wordsread:    # opens our file for reading\n",
    "        for line in wordsread:                     # print line in file \n",
    "            entry = line.strip('\\n').lower()\n",
    "            \n",
    "```\n",
    "Where are we keeping these entries?\n",
    "\n",
    "Why is that comment lying to us?\n",
    "\n",
    "## Suspicious code\n",
    "\n",
    "```python\n",
    "            to_switch = word[0 + counter:counter + 1]\n",
    "            for letternested in 'abcdefghijklmnopqrstuvwxyz':            \n",
    "                mod_word = word.replace(to_switch, letternested)\n",
    "```\n",
    "What happens when you have a double letter?   We will replace both at once\n",
    "\n",
    "\n",
    "```python\n",
    "                mod_word2 = ''\n",
    "                if len(word) == 2:\n",
    "                    mod_word = (word[0] + letternested)\n",
    "                    mod_word2 = (letternested + word[1])\n",
    "                if mod_word not in lst:\n",
    "                    lst.append(mod_word)\n",
    "                if mod_word2 not in lst:\n",
    "                    lst.append(mod_word2)\n",
    "```\n",
    "What function is mod_word2 performing?  Double duty for double letters?  What if a letter appears three times?\n",
    "\n",
    "## Replace what?\n",
    "\n",
    "```python\n",
    "                mod_word = word.replace(word[pos], ch)\n",
    "```\n",
    "What happens when there are two or more instances of the letter you are trying to replace?"
   ]
  },
  {
   "cell_type": "markdown",
   "metadata": {},
   "source": [
    "# My Solution"
   ]
  },
  {
   "cell_type": "code",
   "execution_count": null,
   "metadata": {},
   "outputs": [],
   "source": [
    "from typing import List\n",
    "import cProfile\n",
    "\n",
    "def hamming_distance(str1: str, str2: str) -> int:\n",
    "    \"Return the number of differences\"\n",
    "    assert(len(str1) == len(str2))\n",
    "    return sum([ch1 != ch2 for ch1, ch2 in zip(str1, str2)])\n",
    "\n",
    "def one_step_words(word: str) -> List[str]:\n",
    "    \"Return all words Hamming Distance 1 from word\"\n",
    "    word = word.lower()\n",
    "    word_list = []\n",
    "    with open('../words.txt') as words:\n",
    "        for w in words:\n",
    "            w = w.lower().strip()\n",
    "            if len(w) == len(word):\n",
    "                if hamming_distance(word, w) == 1:\n",
    "                    word_list.append(w)\n",
    "                \n",
    "    return word_list\n",
    "\n",
    "cProfile.run('lst = one_step_words(\"moon\")')\n",
    "print(lst)\n",
    "print(len(lst))"
   ]
  },
  {
   "cell_type": "markdown",
   "metadata": {},
   "source": [
    "## Let's instrument the routine, and try to improve it\n",
    "## Shachi was interested in cProfile - let's followup\n",
    "# Rules for Performance Tuning\n",
    "# Make it run, make it right, make it fast.  "
   ]
  },
  {
   "cell_type": "markdown",
   "metadata": {},
   "source": [
    "```python\n",
    "         473974 function calls in 0.116 seconds\n",
    "\n",
    "   Ordered by: standard name\n",
    "\n",
    "   ncalls  tottime  percall  cumtime  percall filename:lineno(function)\n",
    "     3686    0.003    0.000    0.006    0.000 <ipython-input-84-4e9853cce366>:4(hamming_distance)\n",
    "     3686    0.001    0.000    0.001    0.000 <ipython-input-84-4e9853cce366>:7(<listcomp>)\n",
    "        1    0.072    0.072    0.116    0.116 <ipython-input-84-4e9853cce366>:9(one_step_words)\n",
    "        1    0.000    0.000    0.116    0.116 <string>:1(<module>)\n",
    "        1    0.000    0.000    0.000    0.000 _bootlocale.py:33(getpreferredencoding)\n",
    "        1    0.000    0.000    0.000    0.000 codecs.py:260(__init__)\n",
    "        1    0.000    0.000    0.000    0.000 codecs.py:309(__init__)\n",
    "      140    0.001    0.000    0.001    0.000 codecs.py:319(decode)\n",
    "      140    0.000    0.000    0.000    0.000 {built-in method _codecs.utf_8_decode}\n",
    "        1    0.000    0.000    0.000    0.000 {built-in method _locale.nl_langinfo}\n",
    "        1    0.000    0.000    0.116    0.116 {built-in method builtins.exec}\n",
    "   234990    0.014    0.000    0.014    0.000 {built-in method builtins.len}\n",
    "     3686    0.001    0.000    0.001    0.000 {built-in method builtins.sum}\n",
    "        1    0.000    0.000    0.000    0.000 {built-in method io.open}\n",
    "       18    0.000    0.000    0.000    0.000 {method 'append' of 'list' objects}\n",
    "        1    0.000    0.000    0.000    0.000 {method 'disable' of '_lsprof.Profiler' objects}\n",
    "   113810    0.011    0.000    0.011    0.000 {method 'lower' of 'str' objects}\n",
    "   113809    0.012    0.000    0.012    0.000 {method 'strip' of 'str' objects}\n",
    "\n",
    "\n",
    "['boon', 'coon', 'goon', 'loon', 'moan', 'mood', 'mool', 'moor', 'moos', 'moot', 'morn', 'mown', 'muon', 'noon', 'poon', 'soon', 'toon', 'zoon']\n",
    "18\n",
    "```"
   ]
  },
  {
   "cell_type": "markdown",
   "metadata": {},
   "source": [
    "## Most common call is to len. \n",
    "```python\n",
    "        1    0.000    0.000    0.116    0.116 {built-in method builtins.exec}\n",
    "   234990    0.014    0.000    0.014    0.000 {built-in method builtins.len}\n",
    "     3686    0.001    0.000    0.001    0.000 {built-in method builtins.sum}\n",
    "```\n",
    "### We can eliminate one call in main\n",
    "### Don't need safety belt in this Hamming\n",
    "#### We are only called to compare strings of the same length\n",
    "\n",
    "```python\n",
    "def hamming_distance(str1: str, str2: str) -> int:\n",
    "    \"Return the number of differences\"\n",
    "    assert(len(str1) == len(str2))\n",
    "    return sum([ch1 != ch2 for ch1, ch2 in zip(str1, str2)])\n",
    "```\n"
   ]
  },
  {
   "cell_type": "code",
   "execution_count": null,
   "metadata": {
    "scrolled": true
   },
   "outputs": [],
   "source": [
    "from typing import List\n",
    "import cProfile\n",
    "\n",
    "def hamming_distance(str1: str, str2: str) -> int:\n",
    "    \"Return the number of differences\"\n",
    "    return sum([ch1 != ch2 for ch1, ch2 in zip(str1, str2)])\n",
    "\n",
    "def one_step_words(word: str) -> List[str]:\n",
    "    \"Return all words Hamming Distance 1 from word\"\n",
    "    word = word.lower()\n",
    "    word_list = []\n",
    "    ln = len(word)\n",
    "    with open('../words.txt') as words:\n",
    "        for w in words:\n",
    "            w = w.lower().strip()\n",
    "            if len(w) == ln:\n",
    "                if hamming_distance(word, w) == 1:\n",
    "                    word_list.append(w)\n",
    "                \n",
    "    return word_list\n",
    "\n",
    "cProfile.run('lst = one_step_words(\"moon\")')\n",
    "print(lst)\n",
    "print(len(lst))"
   ]
  },
  {
   "cell_type": "markdown",
   "metadata": {},
   "source": [
    "```python\n",
    "         352794 function calls in 0.097 seconds\n",
    "\n",
    "   Ordered by: standard name\n",
    "\n",
    "   ncalls  tottime  percall  cumtime  percall filename:lineno(function)\n",
    "     3686    0.002    0.000    0.005    0.000 <ipython-input-85-12c55c98fcc5>:4(hamming_distance)\n",
    "     3686    0.002    0.000    0.002    0.000 <ipython-input-85-12c55c98fcc5>:6(<listcomp>)\n",
    "        1    0.060    0.060    0.097    0.097 <ipython-input-85-12c55c98fcc5>:8(one_step_words)\n",
    "        1    0.000    0.000    0.097    0.097 <string>:1(<module>)\n",
    "        1    0.000    0.000    0.000    0.000 _bootlocale.py:33(getpreferredencoding)\n",
    "        1    0.000    0.000    0.000    0.000 codecs.py:260(__init__)\n",
    "        1    0.000    0.000    0.000    0.000 codecs.py:309(__init__)\n",
    "      140    0.001    0.000    0.001    0.000 codecs.py:319(decode)\n",
    "      140    0.001    0.000    0.001    0.000 {built-in method _codecs.utf_8_decode}\n",
    "        1    0.000    0.000    0.000    0.000 {built-in method _locale.nl_langinfo}\n",
    "        1    0.000    0.000    0.097    0.097 {built-in method builtins.exec}\n",
    "   113810    0.007    0.000    0.007    0.000 {built-in method builtins.len}\n",
    "     3686    0.001    0.000    0.001    0.000 {built-in method builtins.sum}\n",
    "        1    0.000    0.000    0.000    0.000 {built-in method io.open}\n",
    "       18    0.000    0.000    0.000    0.000 {method 'append' of 'list' objects}\n",
    "        1    0.000    0.000    0.000    0.000 {method 'disable' of '_lsprof.Profiler' objects}\n",
    "   113810    0.011    0.000    0.011    0.000 {method 'lower' of 'str' objects}\n",
    "   113809    0.013    0.000    0.013    0.000 {method 'strip' of 'str' objects}\n",
    "\n",
    "\n",
    "['boon', 'coon', 'goon', 'loon', 'moan', 'mood', 'mool', 'moor', 'moos', 'moot', 'morn', 'mown', 'muon', 'noon', 'poon', 'soon', 'toon', 'zoon']\n",
    "18\n",
    "```"
   ]
  },
  {
   "cell_type": "markdown",
   "metadata": {},
   "source": [
    "## Next targets are strip() and lower()\n",
    "\n",
    "```python\n",
    "   113810    0.011    0.000    0.011    0.000 {method 'lower' of 'str' objects}\n",
    "   113809    0.013    0.000    0.013    0.000 {method 'strip' of 'str' objects}\n",
    "```\n",
    "### Words in the dictionary are already lower case\n",
    "### strip() is general: we just need to drop the last character\n",
    "### Test length before stripping last character"
   ]
  },
  {
   "cell_type": "code",
   "execution_count": null,
   "metadata": {},
   "outputs": [],
   "source": [
    "from typing import List\n",
    "import cProfile\n",
    "\n",
    "def hamming_distance(str1: str, str2: str) -> int:\n",
    "    \"Return the number of differences\"\n",
    "    return sum([ch1 != ch2 for ch1, ch2 in zip(str1, str2)])\n",
    "\n",
    "def one_step_words(word: str) -> List[str]:\n",
    "    \"Return all words Hamming Distance 1 from word\"\n",
    "    word = word.lower()\n",
    "    word_list = []\n",
    "    ln = len(word) + 1\n",
    "    with open('../words.txt') as words:\n",
    "        for w in words:\n",
    "            if len(w) == ln:\n",
    "                w = w[:-1]\n",
    "                if hamming_distance(word, w) == 1:\n",
    "                    word_list.append(w)\n",
    "                \n",
    "    return word_list\n",
    "\n",
    "cProfile.run('lst = one_step_words(\"MooN\")')\n",
    "print(lst)\n",
    "print(len(lst))"
   ]
  },
  {
   "cell_type": "markdown",
   "metadata": {},
   "source": [
    "```python\n",
    "        125176 function calls in 0.040 seconds\n",
    "\n",
    "   Ordered by: standard name\n",
    "\n",
    "   ncalls  tottime  percall  cumtime  percall filename:lineno(function)\n",
    "     3686    0.002    0.000    0.005    0.000 <ipython-input-129-c44fcf151fe0>:4(hamming_distance)\n",
    "     3686    0.002    0.000    0.002    0.000 <ipython-input-129-c44fcf151fe0>:6(<listcomp>)\n",
    "        1    0.027    0.027    0.040    0.040 <ipython-input-129-c44fcf151fe0>:8(one_step_words)\n",
    "        1    0.000    0.000    0.040    0.040 <string>:1(<module>)\n",
    "        1    0.000    0.000    0.000    0.000 _bootlocale.py:33(getpreferredencoding)\n",
    "        1    0.000    0.000    0.000    0.000 codecs.py:260(__init__)\n",
    "        1    0.000    0.000    0.000    0.000 codecs.py:309(__init__)\n",
    "      140    0.000    0.000    0.002    0.000 codecs.py:319(decode)\n",
    "      140    0.001    0.000    0.001    0.000 {built-in method _codecs.utf_8_decode}\n",
    "        1    0.000    0.000    0.000    0.000 {built-in method _locale.nl_langinfo}\n",
    "        1    0.000    0.000    0.040    0.040 {built-in method builtins.exec}\n",
    "   113810    0.007    0.000    0.007    0.000 {built-in method builtins.len}\n",
    "     3686    0.001    0.000    0.001    0.000 {built-in method builtins.sum}\n",
    "        1    0.000    0.000    0.000    0.000 {built-in method io.open}\n",
    "       18    0.000    0.000    0.000    0.000 {method 'append' of 'list' objects}\n",
    "        1    0.000    0.000    0.000    0.000 {method 'disable' of '_lsprof.Profiler' objects}\n",
    "        1    0.000    0.000    0.000    0.000 {method 'lower' of 'str' objects}\n",
    "\n",
    "\n",
    "['boon', 'coon', 'goon', 'loon', 'moan', 'mood', 'mool', 'moor', 'moos', 'moot', 'morn', 'mown', 'muon', 'noon', 'poon', 'soon', 'toon', 'zoon']\n",
    "18\n",
    "```"
   ]
  },
  {
   "cell_type": "markdown",
   "metadata": {},
   "source": [
    "# What about a different approach?\n",
    "## Try algorithm 1\n",
    "## Generate all possible strings with one_step()\n",
    "## Run through the list of words and see if we have any matches"
   ]
  },
  {
   "cell_type": "code",
   "execution_count": null,
   "metadata": {},
   "outputs": [],
   "source": [
    "from typing import List\n",
    "import cProfile\n",
    "\n",
    "def one_step(word: str) -> List[str]:\n",
    "    \"Return all lower case strings Hamming Distance 1 away\"\n",
    "    result = []\n",
    "    for pos in range(len(word)):\n",
    "        for ch in string.ascii_lowercase:\n",
    "            new_word = word[:pos] + ch + word[pos+1:]\n",
    "            if new_word != word:\n",
    "                result.append(new_word)\n",
    "                \n",
    "    return sorted(result)\n",
    "\n",
    "def one_step_words(word: str) -> List[str]:\n",
    "    \"Return all words Hamming Distance 1 from word\"\n",
    "    \n",
    "    word = word.lower()\n",
    "    candidates = one_step(word)\n",
    "    \n",
    "    ln = len(word)   \n",
    "    word_list = []\n",
    "    \n",
    "    with open('../words.txt') as words:\n",
    "        for w in words:\n",
    "            w = w[:-1]                     # Trim\n",
    "            if len(w) == ln:\n",
    "                if w in candidates:        # Have I seen this?\n",
    "                    word_list.append(w)\n",
    "                \n",
    "    return word_list\n",
    "\n",
    "cProfile.run('lst = one_step_words(\"MooN\")')\n",
    "print(lst)\n",
    "print(len(lst))"
   ]
  },
  {
   "cell_type": "markdown",
   "metadata": {},
   "source": [
    "```python\n",
    "         114221 function calls in 0.053 seconds\n",
    "\n",
    "   Ordered by: standard name\n",
    "\n",
    "   ncalls  tottime  percall  cumtime  percall filename:lineno(function)\n",
    "        1    0.045    0.045    0.053    0.053 <ipython-input-92-716991771ff6>:15(one_step_words)\n",
    "        1    0.000    0.000    0.000    0.000 <ipython-input-92-716991771ff6>:4(one_step)\n",
    "        1    0.000    0.000    0.053    0.053 <string>:1(<module>)\n",
    "        1    0.000    0.000    0.000    0.000 _bootlocale.py:33(getpreferredencoding)\n",
    "        1    0.000    0.000    0.000    0.000 codecs.py:260(__init__)\n",
    "        1    0.000    0.000    0.000    0.000 codecs.py:309(__init__)\n",
    "      140    0.000    0.000    0.001    0.000 codecs.py:319(decode)\n",
    "      140    0.001    0.000    0.001    0.000 {built-in method _codecs.utf_8_decode}\n",
    "        1    0.000    0.000    0.000    0.000 {built-in method _locale.nl_langinfo}\n",
    "        1    0.000    0.000    0.053    0.053 {built-in method builtins.exec}\n",
    "   113811    0.007    0.000    0.007    0.000 {built-in method builtins.len}\n",
    "        1    0.000    0.000    0.000    0.000 {built-in method builtins.sorted}\n",
    "        1    0.000    0.000    0.000    0.000 {built-in method io.open}\n",
    "      118    0.000    0.000    0.000    0.000 {method 'append' of 'list' objects}\n",
    "        1    0.000    0.000    0.000    0.000 {method 'disable' of '_lsprof.Profiler' objects}\n",
    "        1    0.000    0.000    0.000    0.000 {method 'lower' of 'str' objects}\n",
    "\n",
    "\n",
    "['boon', 'coon', 'goon', 'loon', 'moan', 'mood', 'mool', 'moor', 'moos', 'moot', 'morn', 'mown', 'muon', 'noon', 'poon', 'soon', 'toon', 'zoon']\n",
    "18\n",
    "```"
   ]
  },
  {
   "cell_type": "markdown",
   "metadata": {},
   "source": [
    "# What if we used a dictionary to hold one_step() candidates?"
   ]
  },
  {
   "cell_type": "markdown",
   "metadata": {},
   "source": [
    "# What if we only strip words of the right length?"
   ]
  },
  {
   "cell_type": "code",
   "execution_count": null,
   "metadata": {},
   "outputs": [],
   "source": [
    "from typing import Dict\n",
    "import cProfile\n",
    "\n",
    "def one_step(word: str) -> Dict:\n",
    "    \"Return all lower case strings Hamming Distance 1 away\"\n",
    "    result = {}\n",
    "    for pos in range(len(word)):\n",
    "        for ch in string.ascii_lowercase:\n",
    "            new_word = word[:pos] + ch + word[pos+1:]\n",
    "            if new_word != word:\n",
    "                result[new_word] = None\n",
    "                \n",
    "    return result\n",
    "\n",
    "def one_step_words(word: str) -> List[str]:\n",
    "    \"Return all words Hamming Distance 1 from word\"\n",
    "    \n",
    "    word = word.lower()\n",
    "    candidates = one_step(word)\n",
    "    \n",
    "    ln = len(word) + 1                      # length of Word\\n\n",
    "    word_list = []\n",
    "    \n",
    "    with open('../words.txt') as words:\n",
    "        for w in words:\n",
    "            if len(w) == ln:\n",
    "                w = w[:-1]                  # Trim the candidate\n",
    "                if w in candidates:         # Have I seen this?\n",
    "                    word_list.append(w)\n",
    "                \n",
    "    return word_list\n",
    "\n",
    "cProfile.run('lst = one_step_words(\"MooN\")')\n",
    "print(lst)\n",
    "print(len(lst))"
   ]
  },
  {
   "cell_type": "markdown",
   "metadata": {},
   "source": [
    "```python\n",
    " 114120 function calls in 0.036 seconds\n",
    "\n",
    "   Ordered by: standard name\n",
    "\n",
    "   ncalls  tottime  percall  cumtime  percall filename:lineno(function)\n",
    "        1    0.028    0.028    0.036    0.036 <ipython-input-127-cc3768fdfd20>:15(one_step_words)\n",
    "        1    0.000    0.000    0.000    0.000 <ipython-input-127-cc3768fdfd20>:4(one_step)\n",
    "        1    0.000    0.000    0.036    0.036 <string>:1(<module>)\n",
    "        1    0.000    0.000    0.000    0.000 _bootlocale.py:33(getpreferredencoding)\n",
    "        1    0.000    0.000    0.000    0.000 codecs.py:260(__init__)\n",
    "        1    0.000    0.000    0.000    0.000 codecs.py:309(__init__)\n",
    "      140    0.000    0.000    0.001    0.000 codecs.py:319(decode)\n",
    "      140    0.001    0.000    0.001    0.000 {built-in method _codecs.utf_8_decode}\n",
    "        1    0.000    0.000    0.000    0.000 {built-in method _locale.nl_langinfo}\n",
    "        1    0.000    0.000    0.036    0.036 {built-in method builtins.exec}\n",
    "   113811    0.006    0.000    0.006    0.000 {built-in method builtins.len}\n",
    "        1    0.000    0.000    0.000    0.000 {built-in method io.open}\n",
    "       18    0.000    0.000    0.000    0.000 {method 'append' of 'list' objects}\n",
    "        1    0.000    0.000    0.000    0.000 {method 'disable' of '_lsprof.Profiler' objects}\n",
    "        1    0.000    0.000    0.000    0.000 {method 'lower' of 'str' objects}\n",
    "\n",
    "\n",
    "['boon', 'coon', 'goon', 'loon', 'moan', 'mood', 'mool', 'moor', 'moos', 'moot', 'morn', 'mown', 'muon', 'noon', 'poon', 'soon', 'toon', 'zoon']\n",
    "18\n",
    "```"
   ]
  },
  {
   "cell_type": "markdown",
   "metadata": {},
   "source": [
    "# We are looking for the intersection of two sets\n",
    "## The problem you solved in Compare Lists\n",
    "## Should we iterate over words in one_step or words in words.txt?\n",
    "## What if we stored words.txt in a dictionary and iterated over one_step?\n",
    "### Only need to keep the words of the right length\n",
    "#### Do we pass in len(word) or len(word) + 1?  Judgement call.  This version doesn't fiddle with the value."
   ]
  },
  {
   "cell_type": "code",
   "execution_count": null,
   "metadata": {},
   "outputs": [],
   "source": [
    "from typing import Dict, List\n",
    "import string\n",
    "import cProfile\n",
    "\n",
    "def one_step(word: str, d: Dict) -> List:\n",
    "    \"Return all lower case strings Hamming Distance 1 away\"\n",
    "    result = []\n",
    "    for pos in range(len(word)):\n",
    "        for ch in string.ascii_lowercase:\n",
    "            new_word = word[:pos] + ch + word[pos+1:]\n",
    "            if new_word != word and new_word in d:\n",
    "                result.append(new_word)\n",
    "                \n",
    "    return result\n",
    "\n",
    "def find_words(filename: str, ln: int) -> Dict:\n",
    "    \"Return a dictionary of words of length ln - 1\"\n",
    "    d = {}\n",
    "    with open('../words.txt') as words:\n",
    "        for w in words:\n",
    "            if len(w) == ln:\n",
    "                w = w[:-1]                  # Trim\n",
    "                d[w] = None\n",
    "                \n",
    "    return d\n",
    "\n",
    "def one_step_words(word: str) -> List[str]:\n",
    "    \"Return all words Hamming Distance 1 from word\"\n",
    "    \n",
    "    word = word.lower()\n",
    "    d = find_words('../words.txt', len(word) + 1)\n",
    "    return one_step(word, d)\n",
    "\n",
    "\n",
    "cProfile.run('lst = one_step_words(\"MooN\")')\n",
    "print(lst)\n",
    "print(len(lst))"
   ]
  },
  {
   "cell_type": "markdown",
   "metadata": {},
   "source": [
    "```python\n",
    "         114121 function calls in 0.035 seconds\n",
    "\n",
    "   Ordered by: standard name\n",
    "\n",
    "   ncalls  tottime  percall  cumtime  percall filename:lineno(function)\n",
    "        1    0.026    0.026    0.034    0.034 <ipython-input-18-3b63fac229bf>:16(find_words)\n",
    "        1    0.000    0.000    0.034    0.034 <ipython-input-18-3b63fac229bf>:26(one_step_words)\n",
    "        1    0.000    0.000    0.000    0.000 <ipython-input-18-3b63fac229bf>:5(one_step)\n",
    "        1    0.000    0.000    0.034    0.034 <string>:1(<module>)\n",
    "        1    0.000    0.000    0.000    0.000 _bootlocale.py:33(getpreferredencoding)\n",
    "        1    0.000    0.000    0.000    0.000 codecs.py:260(__init__)\n",
    "        1    0.000    0.000    0.000    0.000 codecs.py:309(__init__)\n",
    "      140    0.000    0.000    0.001    0.000 codecs.py:319(decode)\n",
    "      140    0.001    0.000    0.001    0.000 {built-in method _codecs.utf_8_decode}\n",
    "        1    0.000    0.000    0.000    0.000 {built-in method _locale.nl_langinfo}\n",
    "        1    0.000    0.000    0.035    0.035 {built-in method builtins.exec}\n",
    "   113811    0.006    0.000    0.006    0.000 {built-in method builtins.len}\n",
    "        1    0.000    0.000    0.000    0.000 {built-in method io.open}\n",
    "       18    0.000    0.000    0.000    0.000 {method 'append' of 'list' objects}\n",
    "        1    0.000    0.000    0.000    0.000 {method 'disable' of '_lsprof.Profiler' objects}\n",
    "        1    0.000    0.000    0.000    0.000 {method 'lower' of 'str' objects}\n",
    "\n",
    "\n",
    "['boon', 'coon', 'goon', 'loon', 'noon', 'poon', 'soon', 'toon', 'zoon', 'muon', 'moan', 'morn', 'mown', 'mood', 'mool', 'moor', 'moos', 'moot']\n",
    "18\n",
    "```"
   ]
  },
  {
   "cell_type": "markdown",
   "metadata": {},
   "source": [
    "## Summary\n",
    "### With a bit of leg work, we looked at alternatives, and cut time by over a third\n",
    "### We have reached a point of diminishing returns: may need new attack\n",
    "\n",
    "We did all tests with a single test case (MooN) - in practice, we would take representative sets, or examples with worst case, or most common case.  \n",
    "\n",
    "### What do you want to minimize?\n",
    "#### Maximum delay?  (Worst case)\n",
    "#### Throughput?  (Average delay)\n",
    "#### Most common case?"
   ]
  },
  {
   "cell_type": "markdown",
   "metadata": {},
   "source": [
    "### Unit Tests"
   ]
  },
  {
   "cell_type": "code",
   "execution_count": null,
   "metadata": {},
   "outputs": [],
   "source": [
    "def test_one_step_words():\n",
    "    assert(one_step_words('cat') == ['bat', 'cab', 'cad', 'cam', 'can', 'cap', 'car', 'caw', 'cay', 'cot', 'cut', 'eat', 'fat', 'gat', 'hat', 'kat', 'lat', 'mat', 'oat', 'pat', 'rat', 'sat', 'tat', 'vat', 'wat'])\n",
    "    assert(one_step_words('tall') == ['ball', 'call', 'fall', 'gall', 'hall', 'lall', 'mall', 'pall', 'sall', 'tael', 'tail', 'tala', 'talc', 'tale', 'tali', 'talk', 'tell', 'till', 'toll', 'wall'])\n",
    "    assert(one_step_words('wax') == ['fax', 'lax', 'pax', 'rax', 'sax', 'tax', 'wab', 'wad', 'wae', 'wag', 'wan', 'wap', 'war', 'was', 'wat', 'waw', 'way', 'zax'])\n",
    "    \n",
    "    print('Pass')\n",
    "    \n",
    "test_one_step_words()"
   ]
  },
  {
   "cell_type": "markdown",
   "metadata": {},
   "source": [
    "## Compare Lists"
   ]
  },
  {
   "cell_type": "code",
   "execution_count": null,
   "metadata": {},
   "outputs": [],
   "source": [
    "from typing import List\n",
    "\n",
    "def compare_lists(s1: str, s2: str) -> List:\n",
    "    \"What items are on both lists?\"\n",
    "    l1 = eval(s1)\n",
    "    l2 = eval(s2)\n",
    "    return sorted([item for item in l1 if item in l2])"
   ]
  },
  {
   "cell_type": "markdown",
   "metadata": {},
   "source": [
    "### Unit Tests"
   ]
  },
  {
   "cell_type": "code",
   "execution_count": null,
   "metadata": {},
   "outputs": [],
   "source": [
    "def test_compare():\n",
    "    assert(compare_lists('[1, 3, 2]', '[3, 2, 1]') == [1, 2, 3])\n",
    "    assert(compare_lists('[\"one\", \"two\", \"three\"]', \"[3, 'one', 1]\") == ['one'])\n",
    "    assert(compare_lists('[5 + 2, 3 + 6, 2 + 1]', \"[7, 6, 3]\") == [3, 7])\n",
    "\n",
    "    print(\"Pass\")\n",
    "\n",
    "test_compare()"
   ]
  },
  {
   "cell_type": "markdown",
   "metadata": {},
   "source": [
    "### Anastasia's question  "
   ]
  },
  {
   "cell_type": "code",
   "execution_count": null,
   "metadata": {},
   "outputs": [],
   "source": [
    "compare_lists('[1, 1, 1]', '[3, 2, 1]')"
   ]
  },
  {
   "cell_type": "code",
   "execution_count": null,
   "metadata": {},
   "outputs": [],
   "source": [
    "compare_lists('[3, 2, 1]', '[1, 1, 1]')"
   ]
  },
  {
   "cell_type": "markdown",
   "metadata": {},
   "source": [
    "## To make it symetric - three approaches \n",
    "### More even handed algorithm\n",
    "### Only add each value once\n",
    "### Turn inputs into sets - only need to touch first one\n",
    "```python\n",
    "    l1 = set(eval(s1))\n",
    "```"
   ]
  },
  {
   "cell_type": "code",
   "execution_count": null,
   "metadata": {},
   "outputs": [],
   "source": [
    "from typing import List\n",
    "\n",
    "def compare_lists(s1: str, s2: str) -> List:\n",
    "    \"What items are on both lists?\"\n",
    "    l1 = set(eval(s1))     #####\n",
    "    l2 = eval(s2)\n",
    "    return sorted([item for item in l1 if item in l2])"
   ]
  },
  {
   "cell_type": "code",
   "execution_count": null,
   "metadata": {},
   "outputs": [],
   "source": [
    "test_compare()"
   ]
  },
  {
   "cell_type": "code",
   "execution_count": null,
   "metadata": {},
   "outputs": [],
   "source": [
    "compare_lists('[1, 1, 1]', '[3, 2, 1]')"
   ]
  },
  {
   "cell_type": "code",
   "execution_count": null,
   "metadata": {},
   "outputs": [],
   "source": [
    "compare_lists('[3, 2, 1]', '[1, 1, 1]')"
   ]
  },
  {
   "cell_type": "markdown",
   "metadata": {},
   "source": [
    "# Time After Time\n",
    "\n",
    "See the discussion in the Lecture notes of how we got here\n",
    "\n",
    "### Differences"
   ]
  },
  {
   "cell_type": "code",
   "execution_count": null,
   "metadata": {},
   "outputs": [],
   "source": [
    "### Line 17\n",
    "        self.hour = hour % 24\n",
    "        self.minute = minute % 60\n",
    "        self.second = second % 60\n",
    "\n",
    "### Line 21\n",
    "    def __str__(self):\n",
    "        # AM or PM? - jdp\n",
    "        lst = ['AM', 'PM']\n",
    "        period = lst[self.hour // 12]\n",
    "        \n",
    "        # Civilian time - jdp\n",
    "        adjusted_hour = self.hour % 12\n",
    "        if (adjusted_hour == 0):\n",
    "            adjusted_hour = 12\n",
    "        return '%d:%.2d %s' % (adjusted_hour, self.minute, period)"
   ]
  },
  {
   "cell_type": "markdown",
   "metadata": {},
   "source": [
    "# Whole class"
   ]
  },
  {
   "cell_type": "code",
   "execution_count": null,
   "metadata": {},
   "outputs": [],
   "source": [
    "\"\"\"\n",
    "\n",
    "Code example from Think Python, by Allen B. Downey.\n",
    "Available from http://thinkpython.com\n",
    "\n",
    "Copyright 2012 Allen B. Downey.\n",
    "Distributed under the GNU General Public License at gnu.org/licenses/gpl.html.\n",
    "\n",
    "\"\"\"\n",
    "\n",
    "class Time(object):\n",
    "    \"\"\"Represents the time of day.\n",
    "       \n",
    "    attributes: hour, minute, second\n",
    "    \"\"\"\n",
    "    def __init__(self, hour=0, minute=0, second=0):\n",
    "        self.hour = hour % 24\n",
    "        self.minute = minute % 60\n",
    "        self.second = second % 60\n",
    "\n",
    "    def __str__(self):\n",
    "        # AM or PM? - jdp\n",
    "        lst = ['AM', 'PM']\n",
    "        period = lst[self.hour // 12]\n",
    "        \n",
    "        # Civilian time - jdp\n",
    "        adjusted_hour = self.hour % 12\n",
    "        if (adjusted_hour == 0):\n",
    "            adjusted_hour = 12\n",
    "        return '%d:%.2d %s' % (adjusted_hour, self.minute, period)\n",
    "\n",
    "    def print_time(self):\n",
    "        print(str(self))\n",
    "\n",
    "    def time_to_int(self):\n",
    "        \"\"\"Computes the number of seconds since midnight.\"\"\"\n",
    "        minutes = self.hour * 60 + self.minute\n",
    "        seconds = minutes * 60 + self.second\n",
    "        return seconds\n",
    "\n",
    "    def is_after(self, other):\n",
    "        \"\"\"Returns True if t1 is after t2; false otherwise.\"\"\"\n",
    "        return self.time_to_int() > other.time_to_int()\n",
    "\n",
    "    def __add__(self, other):\n",
    "        \"\"\"Adds two Time objects or a Time object and a number.\n",
    "\n",
    "        other: Time object or number of seconds\n",
    "        \"\"\"\n",
    "        if isinstance(other, Time):\n",
    "            return self.add_time(other)\n",
    "        else:\n",
    "            return self.increment(other)\n",
    "\n",
    "    def __radd__(self, other):\n",
    "        \"\"\"Adds two Time objects or a Time object and a number.\"\"\"\n",
    "        return self.__add__(other)\n",
    "\n",
    "    def add_time(self, other):\n",
    "        \"\"\"Adds two time objects.\"\"\"\n",
    "        assert self.is_valid() and other.is_valid()\n",
    "        seconds = self.time_to_int() + other.time_to_int()\n",
    "        return int_to_time(seconds)\n",
    "\n",
    "    def increment(self, seconds):\n",
    "        \"\"\"Returns a new Time that is the sum of this time and seconds.\"\"\"\n",
    "        seconds += self.time_to_int()\n",
    "        return int_to_time(seconds)\n",
    "\n",
    "    def is_valid(self):\n",
    "        \"\"\"Checks whether a Time object satisfies the invariants.\"\"\"\n",
    "        if self.hour < 0 or self.minute < 0 or self.second < 0:\n",
    "            return False\n",
    "        if self.minute >= 60 or self.second >= 60:\n",
    "            return False\n",
    "        return True\n",
    "\n",
    "\n",
    "def int_to_time(seconds):\n",
    "    \"\"\"Makes a new Time object.\n",
    "\n",
    "    seconds: int seconds since midnight.\n",
    "    \"\"\"\n",
    "    minutes, second = divmod(seconds, 60)\n",
    "    hour, minute = divmod(minutes, 60)\n",
    "    time = Time(hour, minute, second)\n",
    "    return time"
   ]
  },
  {
   "cell_type": "markdown",
   "metadata": {},
   "source": [
    "## Test of =="
   ]
  },
  {
   "cell_type": "code",
   "execution_count": null,
   "metadata": {},
   "outputs": [],
   "source": [
    "t1 = Time(1,2, 3)\n",
    "t2 = Time(25, 2, 3)\n",
    "print(t1)\n",
    "print(t2)\n",
    "\n",
    "t1 == t2"
   ]
  },
  {
   "cell_type": "markdown",
   "metadata": {},
   "source": [
    "## Now add this Magic Method"
   ]
  },
  {
   "cell_type": "code",
   "execution_count": null,
   "metadata": {},
   "outputs": [],
   "source": [
    "    def __eq__(self, other):\n",
    "        \"Are two times the same?\"\n",
    "        return (self.hour == other.hour and self.minute == other.minute and self.second == other.second)"
   ]
  },
  {
   "cell_type": "code",
   "execution_count": null,
   "metadata": {},
   "outputs": [],
   "source": [
    "\"\"\"\n",
    "\n",
    "Code example from Think Python, by Allen B. Downey.\n",
    "Available from http://thinkpython.com\n",
    "\n",
    "Copyright 2012 Allen B. Downey.\n",
    "Distributed under the GNU General Public License at gnu.org/licenses/gpl.html.\n",
    "\n",
    "\"\"\"\n",
    "\n",
    "class Time(object):\n",
    "    \"\"\"Represents the time of day.\n",
    "       \n",
    "    attributes: hour, minute, second\n",
    "    \"\"\"\n",
    "    def __init__(self, hour=0, minute=0, second=0):\n",
    "        self.hour = hour % 24\n",
    "        self.minute = minute % 60\n",
    "        self.second = second % 60\n",
    "\n",
    "    def __str__(self):\n",
    "        # AM or PM? - jdp\n",
    "        lst = ['AM', 'PM']\n",
    "        period = lst[self.hour // 12]\n",
    "        \n",
    "        # Civilian time - jdp\n",
    "        adjusted_hour = self.hour % 12\n",
    "        if (adjusted_hour == 0):\n",
    "            adjusted_hour = 12\n",
    "        return '%d:%.2d %s' % (adjusted_hour, self.minute, period)\n",
    "\n",
    "    def print_time(self):\n",
    "        print(str(self))\n",
    "\n",
    "    def time_to_int(self):\n",
    "        \"\"\"Computes the number of seconds since midnight.\"\"\"\n",
    "        minutes = self.hour * 60 + self.minute\n",
    "        seconds = minutes * 60 + self.second\n",
    "        return seconds\n",
    "\n",
    "    def is_after(self, other):\n",
    "        \"\"\"Returns True if t1 is after t2; false otherwise.\"\"\"\n",
    "        return self.time_to_int() > other.time_to_int()\n",
    "\n",
    "    def __add__(self, other):\n",
    "        \"\"\"Adds two Time objects or a Time object and a number.\n",
    "\n",
    "        other: Time object or number of seconds\n",
    "        \"\"\"\n",
    "        if isinstance(other, Time):\n",
    "            return self.add_time(other)\n",
    "        else:\n",
    "            return self.increment(other)\n",
    "\n",
    "    def __radd__(self, other):\n",
    "        \"\"\"Adds two Time objects or a Time object and a number.\"\"\"\n",
    "        return self.__add__(other)\n",
    "\n",
    "    def add_time(self, other):\n",
    "        \"\"\"Adds two time objects.\"\"\"\n",
    "        assert self.is_valid() and other.is_valid()\n",
    "        seconds = self.time_to_int() + other.time_to_int()\n",
    "        return int_to_time(seconds)\n",
    "\n",
    "    def increment(self, seconds):\n",
    "        \"\"\"Returns a new Time that is the sum of this time and seconds.\"\"\"\n",
    "        seconds += self.time_to_int()\n",
    "        return int_to_time(seconds)\n",
    "\n",
    "    def is_valid(self):\n",
    "        \"\"\"Checks whether a Time object satisfies the invariants.\"\"\"\n",
    "        if self.hour < 0 or self.minute < 0 or self.second < 0:\n",
    "            return False\n",
    "        if self.minute >= 60 or self.second >= 60:\n",
    "            return False\n",
    "        return True\n",
    "    \n",
    "    def __eq__(self, other):\n",
    "        \"Are two times the same?\"\n",
    "        return (self.hour == other.hour and self.minute == other.minute and self.second == other.second)\n",
    "\n",
    "\n",
    "def int_to_time(seconds):\n",
    "    \"\"\"Makes a new Time object.\n",
    "\n",
    "    seconds: int seconds since midnight.\n",
    "    \"\"\"\n",
    "    minutes, second = divmod(seconds, 60)\n",
    "    hour, minute = divmod(minutes, 60)\n",
    "    time = Time(hour, minute, second)\n",
    "    return time"
   ]
  },
  {
   "cell_type": "code",
   "execution_count": null,
   "metadata": {},
   "outputs": [],
   "source": [
    "t1 = Time(1,2, 3)\n",
    "t2 = Time(25, 2, 3)\n",
    "print(t1)\n",
    "print(t2)\n",
    "\n",
    "t1 == t2"
   ]
  },
  {
   "cell_type": "markdown",
   "metadata": {},
   "source": [
    "## Are they the same object?"
   ]
  },
  {
   "cell_type": "code",
   "execution_count": null,
   "metadata": {},
   "outputs": [],
   "source": [
    "t1 is t2"
   ]
  },
  {
   "cell_type": "markdown",
   "metadata": {},
   "source": [
    "## This does more than check the display values"
   ]
  },
  {
   "cell_type": "code",
   "execution_count": null,
   "metadata": {},
   "outputs": [],
   "source": [
    "t1 = Time(1, 2, 3)\n",
    "t2 = Time(1, 2, 4) \n",
    "print(t1)\n",
    "print(t2)\n",
    "\n",
    "t1 == t2"
   ]
  },
  {
   "cell_type": "markdown",
   "metadata": {},
   "source": [
    "# Lazy Evaluation\n",
    "\n",
    "My Mom always had more advice.  \n",
    "\n",
    "It was not a fixed list of remarks, but a stream of new comments."
   ]
  },
  {
   "cell_type": "code",
   "execution_count": null,
   "metadata": {},
   "outputs": [],
   "source": [
    "# At Unix command line\n",
    "%more ../words.txt"
   ]
  },
  {
   "cell_type": "markdown",
   "metadata": {},
   "source": [
    "## Pipelines\n",
    "\n",
    "We can run several independant commands at the same time, and link them with pipelines. \n",
    "\n",
    "Let's filter the dictionary for 4 letter words using grep (Global Regular Expression Print)\n",
    "\n",
    "\\^ matches the start of a line\n",
    "\n",
    "\\$ matches the end of a line"
   ]
  },
  {
   "cell_type": "code",
   "execution_count": null,
   "metadata": {},
   "outputs": [],
   "source": [
    "# At Unix command line\n",
    "! grep ^.....$ ../words.txt"
   ]
  },
  {
   "cell_type": "markdown",
   "metadata": {},
   "source": [
    "```python\n",
    "albs\n",
    "alec\n",
    "alee\n",
    "...\n",
    "zori\n",
    "zyme\n",
    "```"
   ]
  },
  {
   "cell_type": "markdown",
   "metadata": {},
   "source": [
    "## Let's look for words ending in t"
   ]
  },
  {
   "cell_type": "code",
   "execution_count": null,
   "metadata": {},
   "outputs": [],
   "source": [
    "! grep ^.....$ ../words.txt | grep t.$"
   ]
  },
  {
   "cell_type": "markdown",
   "metadata": {},
   "source": [
    "```python\n",
    "abet\n",
    "abut\n",
    "...\n",
    "yett\n",
    "yurt\n",
    "zest\n",
    "```"
   ]
  },
  {
   "cell_type": "markdown",
   "metadata": {},
   "source": [
    "## Let's count the number of 4 letter words ending in t with Word Count (wc)"
   ]
  },
  {
   "cell_type": "code",
   "execution_count": null,
   "metadata": {},
   "outputs": [],
   "source": [
    "! grep ^.....$ ../words.txt | grep t.$ | wc"
   ]
  },
  {
   "cell_type": "markdown",
   "metadata": {},
   "source": [
    "```python\n",
    "    316     316    1896\n",
    "```"
   ]
  },
  {
   "cell_type": "markdown",
   "metadata": {},
   "source": [
    "## List the running processes\n",
    "\n",
    "ps -ax\n",
    "\n",
    "### Send the output to a file, processes.txt\n",
    "\n",
    "tee processes.txt\n",
    "\n",
    "### And show me the output one screen at a time\n",
    "\n",
    "more"
   ]
  },
  {
   "cell_type": "code",
   "execution_count": null,
   "metadata": {},
   "outputs": [],
   "source": [
    "! ps -ax | tee processes.txt | more"
   ]
  },
  {
   "cell_type": "markdown",
   "metadata": {},
   "source": [
    "I might see something like this\n",
    "\n",
    "```python\n",
    "  PID TTY           TIME CMD\n",
    "    1 ??         1:30.56 /sbin/launchd\n",
    "   64 ??         0:01.97 /usr/sbin/syslogd\n",
    "   65 ??         0:01.25 /usr/libexec/UserEventAgent (System)\n",
    "   67 ??         0:15.75 /Library/Application Support/Malwarebytes/MBAM/Engine.bundle/Contents/PlugIns/RTProtectionDaemon.app/Contents/MacOS/RTProtectionDaemon -i 0AECD85D-2403-493F-9E73-1F06D326F25E.pkg\n",
    "   69 ??         0:01.04 /System/Library/PrivateFrameworks/Uninstall.framework/Resources/uninstalld\n",
    "   70 ??         0:10.55 /usr/libexec/kextd\n",
    "   71 ??         0:11.17 /System/Library/Frameworks/CoreServices.framework/Versions/A/Frameworks/FSEvents.framework/Versions/A/Support/fseventsd\n",
    "   73 ??         0:01.77 /System/Library/PrivateFrameworks/MediaRemote.framework/Support/mediaremoted\n",
    "   75 ??         0:01.92 /Library/KeyAccess/KeyAccess.app/Contents/SharedSupport/karl.app/Contents/MacOS/karl -c\n",
    "   77 ??         0:00.27 /System/Library/CoreServices/appleeventsd --server\n",
    "   78 ??         0:04.67 /usr/sbin/systemstats --daemon\n",
    "   80 ??         0:02.97 /usr/libexec/configd\n",
    "   81 ??         0:06.70 /System/Library/CoreServices/powerd.bundle/powerd\n",
    "   82 ??         0:20.93 /Library/Application Support/Fitbit Connect/galileod\n",
    "   85 ??         0:18.01 /usr/libexec/logd\n",
    "   86 ??         0:00.01 /usr/libexec/keybagd -t 15\n",
    ":\n",
    "```"
   ]
  },
  {
   "cell_type": "markdown",
   "metadata": {},
   "source": [
    "## Now filter for processes running notebooks"
   ]
  },
  {
   "cell_type": "code",
   "execution_count": null,
   "metadata": {},
   "outputs": [],
   "source": [
    "!  ps -ax | grep notebook"
   ]
  },
  {
   "cell_type": "markdown",
   "metadata": {},
   "source": [
    "```python\n",
    " 1790 ttys001    0:34.19 /Users/jparker/anaconda3/bin/python /Users/jparker/anaconda3/bin/jupyter-notebook\n",
    " 3171 ttys002    0:00.01 /bin/sh -c   ps -ax | grep notebook\n",
    " 3173 ttys002    0:00.00 grep notebook\n",
    "```"
   ]
  },
  {
   "cell_type": "markdown",
   "metadata": {},
   "source": [
    "### The processes run enough to fill the pipeline\n",
    "\n",
    "### When you say _% more words.txt_ you may not read the whole file"
   ]
  },
  {
   "cell_type": "markdown",
   "metadata": {},
   "source": [
    "## Look for program with \"point\" in the name\n",
    "\n",
    "Here is an Unix command I use many times a day when looking for a file \n",
    "\n",
    "List the files below this point\n",
    "```python\n",
    "find .\n",
    "```\n",
    "\n",
    "Now let's filter that for files with 'point' in the name using grep (Global Regular Expression Print)"
   ]
  },
  {
   "cell_type": "code",
   "execution_count": null,
   "metadata": {},
   "outputs": [],
   "source": [
    "!find .. | grep -i point"
   ]
  },
  {
   "cell_type": "markdown",
   "metadata": {},
   "source": [
    "```python\n",
    "../day4/.ipynb_checkpoints\n",
    "../day4/.ipynb_checkpoints/Day4-checkpoint.ipynb\n",
    "../assignment6/.ipynb_checkpoints\n",
    "../assignment6/.ipynb_checkpoints/Solution6-checkpoint.ipynb\n",
    "../assignment6/.ipynb_checkpoints/Assignment6-checkpoint.ipynb\n",
    "../day3/.ipynb_checkpoints\n",
    "../day3/.ipynb_checkpoints/Debug-checkpoint.ipynb\n",
    "../day3/.ipynb_checkpoints/Untitled-checkpoint.ipynb\n",
    "../day3/.ipynb_checkpoints/Week3Section-checkpoint.ipynb\n",
    "../day3/.ipynb_checkpoints/Day3-checkpoint.ipynb\n",
    "...\n",
    "```"
   ]
  },
  {
   "cell_type": "markdown",
   "metadata": {},
   "source": [
    "## Filter out 'checkpoint'"
   ]
  },
  {
   "cell_type": "code",
   "execution_count": null,
   "metadata": {},
   "outputs": [],
   "source": [
    "!find .. | grep -i point | grep -v checkpoint"
   ]
  },
  {
   "cell_type": "markdown",
   "metadata": {},
   "source": [
    "```python\n",
    "../ThinkPython/Point1_soln.py\n",
    "../ThinkPython/Point1.py\n",
    "../day8/Point2.py\n",
    "../day8/Point1.py\n",
    "../pymotw/PyMOTW-3-1.0/source/math/math_distance_2_points.py\n",
    "../ClassicCSProblems/Chapter6/data_point.py\n",
    "```"
   ]
  },
  {
   "cell_type": "markdown",
   "metadata": {},
   "source": [
    "# Iterators"
   ]
  },
  {
   "cell_type": "markdown",
   "metadata": {},
   "source": [
    "We have been able to use a for loop on\n",
    "\n",
    "- range()\n",
    "- strings\n",
    "- lists\n",
    "- dictionaries\n",
    "\n",
    "How is this possible?  How can expect the same behavior from these different types?"
   ]
  },
  {
   "cell_type": "code",
   "execution_count": null,
   "metadata": {},
   "outputs": [],
   "source": [
    "for i in range(10):\n",
    "    print(i)"
   ]
  },
  {
   "cell_type": "markdown",
   "metadata": {},
   "source": [
    "## Let's see if we can iterate over range(10)"
   ]
  },
  {
   "cell_type": "code",
   "execution_count": null,
   "metadata": {},
   "outputs": [],
   "source": [
    "it = range(10)\n",
    "while True:\n",
    "    print(next(it))"
   ]
  },
  {
   "cell_type": "markdown",
   "metadata": {},
   "source": [
    "```python\n",
    "TypeError                                 Traceback (most recent call last)\n",
    "<ipython-input-19-16891c1754ae> in <module>\n",
    "      1 it = range(10)\n",
    "      2 while True:\n",
    "----> 3     print(next(it))\n",
    "\n",
    "TypeError: 'range' object is not an iterator\n",
    "```"
   ]
  },
  {
   "cell_type": "markdown",
   "metadata": {},
   "source": [
    "## Iterable and Iterators\n",
    "\n",
    "### range() is not an Iterator, but it can produce one.\n",
    "\n",
    "### All Iterators are Iterable.  All Iterables can return an Iterator, even if they aren't ones themselves.\n",
    "\n",
    "#### An iterable is an object that implements \\_\\_iter\\_\\_(),  which is expected to return an iterator object.\n",
    "\n",
    "#### An iterator is an object that implements \\_\\_next\\_\\_(),  which is expected to return the next element of the iterable object. \n",
    "\n",
    "#### An iterator raises a StopIteration exception when no more elements are available.\n",
    "\n",
    "Trey Hunner on Iterators and Iterables\n",
    "\n",
    "https://treyhunner.com/2018/06/how-to-make-an-iterator-in-python/"
   ]
  },
  {
   "cell_type": "code",
   "execution_count": null,
   "metadata": {},
   "outputs": [],
   "source": [
    "it = iter(range(10))\n",
    "\n",
    "while True:\n",
    "    print(next(it))"
   ]
  },
  {
   "cell_type": "markdown",
   "metadata": {},
   "source": [
    "## Catch the exception"
   ]
  },
  {
   "cell_type": "code",
   "execution_count": null,
   "metadata": {},
   "outputs": [],
   "source": [
    "it = iter(range(10))\n",
    "\n",
    "while True:\n",
    "    try:\n",
    "        print(next(it))\n",
    "    except StopIteration:\n",
    "        break"
   ]
  },
  {
   "cell_type": "code",
   "execution_count": null,
   "metadata": {},
   "outputs": [],
   "source": [
    "it = iter('Hello, World')\n",
    "while True:\n",
    "    try:\n",
    "        print(next(it))\n",
    "    except StopIteration:\n",
    "        break"
   ]
  },
  {
   "cell_type": "markdown",
   "metadata": {},
   "source": [
    "# Hamming Distance Solution \n",
    "## Remember our zip() iterator"
   ]
  },
  {
   "cell_type": "code",
   "execution_count": null,
   "metadata": {},
   "outputs": [],
   "source": [
    "# Return the number of differences \n",
    "def hamming_distance(str1, str2):\n",
    "    # check to make sure the strings are the same length\n",
    "    if len(str1) != len(str2):\n",
    "        raise ValueError(\"the strings have different lengths\")\n",
    "    \n",
    "    count = 0\n",
    "    \n",
    "    return len([1 for ch1, ch2 in zip(str1.lower(), str2.lower())\n",
    "         if ch1 != ch2])\n",
    "\n",
    "hamming_distance('dog', 'cat')"
   ]
  },
  {
   "cell_type": "code",
   "execution_count": null,
   "metadata": {},
   "outputs": [],
   "source": [
    "nums = [1, 2, 3]\n",
    "lets = ['a', 'b', 'c']\n",
    "z = zip(nums, lets)\n",
    "print(z) "
   ]
  },
  {
   "cell_type": "code",
   "execution_count": null,
   "metadata": {},
   "outputs": [],
   "source": [
    "for p in z:\n",
    "    print(p)"
   ]
  },
  {
   "cell_type": "markdown",
   "metadata": {},
   "source": [
    "## zip() returns an iterator"
   ]
  },
  {
   "cell_type": "code",
   "execution_count": null,
   "metadata": {},
   "outputs": [],
   "source": [
    "from collections import itereator\n",
    "\n",
    "z = zip(nums, lets)\n",
    "print(type(z))\n",
    "isinstance(z, iterator)"
   ]
  },
  {
   "cell_type": "code",
   "execution_count": null,
   "metadata": {},
   "outputs": [],
   "source": [
    "while True:\n",
    "    try:\n",
    "        print(next(z))\n",
    "    except StopIteration:\n",
    "        break"
   ]
  },
  {
   "cell_type": "markdown",
   "metadata": {},
   "source": [
    "## Read more here:\n",
    "\n",
    "https://docs.python.org/3/library/stdtypes.html#iterator-types"
   ]
  },
  {
   "cell_type": "markdown",
   "metadata": {},
   "source": [
    "# Interface vs Subclasses\n",
    "## Key notion - these are not all subclasses of Iterator\n",
    "## They are classes that implement an interface:\n",
    "## Iterables must implement \\_\\_iter\\_\\_()\n",
    "## and Iterators must implement \\_\\_next\\_\\_()\n"
   ]
  },
  {
   "cell_type": "markdown",
   "metadata": {},
   "source": [
    "# Let's define our own Iterator"
   ]
  },
  {
   "cell_type": "code",
   "execution_count": null,
   "metadata": {},
   "outputs": [],
   "source": [
    "class MyCounter:\n",
    "    '''iterator that yields integers in sequence'''\n",
    "    \n",
    "    def __init__(self, limit: int):\n",
    "        \"Initialize limits to a counter\"\n",
    "        self.limit = limit\n",
    "        self.count = 1\n",
    "    \n",
    "    def __iter__(self):\n",
    "        \"We are both Iterable and Iterator\"\n",
    "        return self\n",
    "\n",
    "    def __next__(self):\n",
    "        \"Return the next value of the counter\"\n",
    "        val = self.count\n",
    "        if val > self.limit:\n",
    "            raise StopIteration\n",
    "        self.count = self.count + 1\n",
    "        return val"
   ]
  },
  {
   "cell_type": "markdown",
   "metadata": {},
   "source": [
    "## Try out our new class"
   ]
  },
  {
   "cell_type": "code",
   "execution_count": null,
   "metadata": {},
   "outputs": [],
   "source": [
    "sequence = MyCounter(10)   # Create a new MyCounter object\n",
    "print(sequence)\n",
    "print(type(sequence))    # Object is of class MyCounter\n",
    "print(sequence.__class__)\n",
    "print(sequence.__doc__)"
   ]
  },
  {
   "cell_type": "markdown",
   "metadata": {},
   "source": [
    "## In action"
   ]
  },
  {
   "cell_type": "code",
   "execution_count": null,
   "metadata": {},
   "outputs": [],
   "source": [
    "c = MyCounter(5)\n",
    "for i in range(5):\n",
    "    print(next(c))\n",
    "    \n",
    "print(next(c))"
   ]
  },
  {
   "cell_type": "markdown",
   "metadata": {},
   "source": [
    "## Or we can step through with a for loop"
   ]
  },
  {
   "cell_type": "code",
   "execution_count": null,
   "metadata": {},
   "outputs": [],
   "source": [
    "for i in MyCounter(4):\n",
    "    print(next(sequence))"
   ]
  },
  {
   "cell_type": "code",
   "execution_count": null,
   "metadata": {},
   "outputs": [],
   "source": [
    "print(next(sequence))"
   ]
  },
  {
   "cell_type": "markdown",
   "metadata": {},
   "source": [
    "## Watch the sequence in the debugger\n",
    "\n",
    "Put breakpoints in key spots and watch it chug through"
   ]
  },
  {
   "cell_type": "markdown",
   "metadata": {},
   "source": [
    "## Another example: range()"
   ]
  },
  {
   "cell_type": "code",
   "execution_count": null,
   "metadata": {},
   "outputs": [],
   "source": [
    "r = range(3)\n",
    "print(r)\n",
    "print(type(r))"
   ]
  },
  {
   "cell_type": "code",
   "execution_count": null,
   "metadata": {},
   "outputs": [],
   "source": [
    "print(next(r))"
   ]
  },
  {
   "cell_type": "code",
   "execution_count": null,
   "metadata": {},
   "outputs": [],
   "source": [
    "# range() is not an iterator\n",
    "# \n",
    "# But it can make you one\n",
    "#\n",
    "r = range(3)\n",
    "\n",
    "it = iter(r)\n",
    "print(it)\n",
    "print(type(it))"
   ]
  },
  {
   "cell_type": "code",
   "execution_count": null,
   "metadata": {},
   "outputs": [],
   "source": [
    "print(next(it))"
   ]
  },
  {
   "cell_type": "code",
   "execution_count": null,
   "metadata": {},
   "outputs": [],
   "source": [
    "print(next(it))"
   ]
  },
  {
   "cell_type": "code",
   "execution_count": null,
   "metadata": {},
   "outputs": [],
   "source": [
    "print(next(it))"
   ]
  },
  {
   "cell_type": "code",
   "execution_count": null,
   "metadata": {},
   "outputs": [],
   "source": [
    "print(next(it))"
   ]
  },
  {
   "cell_type": "markdown",
   "metadata": {},
   "source": [
    "## What about strings?"
   ]
  },
  {
   "cell_type": "code",
   "execution_count": null,
   "metadata": {},
   "outputs": [],
   "source": [
    "s = 'Hi!'\n",
    "it = iter(s)\n",
    "print(it)\n",
    "print(type(it))"
   ]
  },
  {
   "cell_type": "code",
   "execution_count": null,
   "metadata": {},
   "outputs": [],
   "source": [
    "print(next(it))"
   ]
  },
  {
   "cell_type": "code",
   "execution_count": null,
   "metadata": {},
   "outputs": [],
   "source": [
    "print(next(it))"
   ]
  },
  {
   "cell_type": "code",
   "execution_count": null,
   "metadata": {},
   "outputs": [],
   "source": [
    "print(next(it))"
   ]
  },
  {
   "cell_type": "code",
   "execution_count": null,
   "metadata": {},
   "outputs": [],
   "source": [
    "print(next(it))"
   ]
  },
  {
   "cell_type": "markdown",
   "metadata": {},
   "source": [
    "# Directory Iterator with scandir()\n",
    "## This is a generator: we'll see more of those"
   ]
  },
  {
   "cell_type": "code",
   "execution_count": null,
   "metadata": {},
   "outputs": [],
   "source": [
    "import os\n",
    "\n",
    "it = os.scandir('.')\n",
    "\n",
    "while True:\n",
    "    try:\n",
    "        print(next(it))\n",
    "    except StopIteration:\n",
    "        break"
   ]
  },
  {
   "cell_type": "markdown",
   "metadata": {},
   "source": [
    "```python\n",
    "<DirEntry 'listComprehension.py'>\n",
    "<DirEntry 'frequency.py'>\n",
    "<DirEntry 'listReverse.py'>\n",
    "<DirEntry 'fibIterator.py'>\n",
    "...\n",
    "```"
   ]
  },
  {
   "cell_type": "markdown",
   "metadata": {},
   "source": [
    "## We don't need to do this by hand: can use for-loop"
   ]
  },
  {
   "cell_type": "code",
   "execution_count": null,
   "metadata": {},
   "outputs": [],
   "source": [
    "# Rewrite and go up one level\n",
    "import os\n",
    "\n",
    "for entry in os.scandir('.'):\n",
    "    print(entry) \n",
    "    \n",
    "# Note the hidden files: .DS_Store, .ipynb_checkpoints"
   ]
  },
  {
   "cell_type": "markdown",
   "metadata": {},
   "source": [
    "```python\n",
    "<DirEntry 'listComprehension.py'>\n",
    "<DirEntry 'frequency.py'>\n",
    "<DirEntry 'listReverse.py'>\n",
    "<DirEntry 'fibIterator.py'>\n",
    "...\n",
    "```"
   ]
  },
  {
   "cell_type": "markdown",
   "metadata": {},
   "source": [
    "## Fibonacci Sequence: often used as example of recursion\n",
    "\n",
    "## I think it is a terrible recursive example.  \n",
    "- Mathematical\n",
    "- Wasteful - inefficient\n",
    "- There are many better ways to write it\n",
    "\n",
    "### Here it is as an iterator.  Note the dependence on tuples\n",
    "### This implementation is efficient"
   ]
  },
  {
   "cell_type": "code",
   "execution_count": null,
   "metadata": {},
   "outputs": [],
   "source": [
    "# Generate Fibonacci numbers upto a limit\n",
    "class Fib:\n",
    "    '''iterator that yields numbers in the Fibonacci sequence'''\n",
    "\n",
    "    # Initialize the limits\n",
    "    def __init__(self, limit: int):\n",
    "        self.limit = limit\n",
    "\n",
    "    # Create an iterable\n",
    "    def __iter__(self):\n",
    "        self.a = 0\n",
    "        self.b = 1\n",
    "        return self\n",
    "\n",
    "    # Produce the next element of the sequence\n",
    "    def __next__(self):\n",
    "        fib = self.a\n",
    "        if fib > self.limit:\n",
    "            raise StopIteration\n",
    "        self.a, self.b = self.b, self.a + self.b\n",
    "        return fib"
   ]
  },
  {
   "cell_type": "code",
   "execution_count": null,
   "metadata": {},
   "outputs": [],
   "source": [
    "fib = Fib(100)\n",
    "print(fib)\n",
    "print(type(fib))\n",
    "print(fib.__class__)\n",
    "print(fib.__doc__)"
   ]
  },
  {
   "cell_type": "code",
   "execution_count": null,
   "metadata": {},
   "outputs": [],
   "source": [
    "for n in fib:\n",
    "    print(n, end=' ')"
   ]
  },
  {
   "cell_type": "markdown",
   "metadata": {},
   "source": [
    "## What else can we test?"
   ]
  },
  {
   "cell_type": "code",
   "execution_count": null,
   "metadata": {},
   "outputs": [],
   "source": [
    "it = iter('Hello, world!')\n",
    "\n",
    "print(type(it))"
   ]
  },
  {
   "cell_type": "code",
   "execution_count": null,
   "metadata": {},
   "outputs": [],
   "source": [
    "isinstance(it, iterator)"
   ]
  },
  {
   "cell_type": "markdown",
   "metadata": {},
   "source": [
    "## Ok, that didn't work"
   ]
  },
  {
   "cell_type": "code",
   "execution_count": null,
   "metadata": {},
   "outputs": [],
   "source": [
    "import collections\n",
    "\n",
    "isinstance(it, collections.Iterable)"
   ]
  },
  {
   "cell_type": "code",
   "execution_count": null,
   "metadata": {},
   "outputs": [],
   "source": [
    "hasattr(it, '__iter__')"
   ]
  },
  {
   "cell_type": "markdown",
   "metadata": {},
   "source": [
    "# Generator\n",
    "\n",
    "Another way to create an iterator is to build a generator.  \n",
    "A generator is a function that _yields_ a result when asked.  \n",
    "The next time we call it, it picks up after the last yield\n",
    "\n",
    "We start with Cab Calloway\n",
    "\n",
    "https://www.youtube.com/watch?v=jDK7sRLn-3E"
   ]
  },
  {
   "cell_type": "code",
   "execution_count": 1,
   "metadata": {},
   "outputs": [],
   "source": [
    "def Hi_de_ho_man() -> str:\n",
    "    '''Chorus from Cab Calloways Hi De Ho Man'''\n",
    "    yield 'Hi-de hi-de hi-de-hi'\n",
    "    yield '\\t(Hi-de hi-de hi-de-hi)'\n",
    "    yield 'Hey-de hey-de hey-de hey'\n",
    "    yield '\\t(Hey-de hey-de hey-de hey)'\n",
    "    yield 'He-de he-de he-de he'\n",
    "    yield '\\t(He-de he-de he-de he)'\n",
    "    yield 'Hi-de hi-de hi-de-hi'\n",
    "    yield '\\t(Hi-de hi-de hi-de-hi)'"
   ]
  },
  {
   "cell_type": "markdown",
   "metadata": {},
   "source": [
    "## Now use our new generator"
   ]
  },
  {
   "cell_type": "code",
   "execution_count": 2,
   "metadata": {},
   "outputs": [
    {
     "name": "stdout",
     "output_type": "stream",
     "text": [
      "<generator object Hi_de_ho_man at 0x7fb8cc4219e0>\n",
      "<class 'generator'>\n"
     ]
    }
   ],
   "source": [
    "Cab = Hi_de_ho_man()\n",
    "print(Cab)\n",
    "print(type(Cab))"
   ]
  },
  {
   "cell_type": "code",
   "execution_count": 3,
   "metadata": {},
   "outputs": [
    {
     "name": "stdout",
     "output_type": "stream",
     "text": [
      "<class 'generator'>\n",
      "None\n",
      "True\n"
     ]
    }
   ],
   "source": [
    "print(Cab.__class__)\n",
    "print(Cab.__doc__)\n",
    "print(hasattr(Cab, '__iter__'))"
   ]
  },
  {
   "cell_type": "code",
   "execution_count": 4,
   "metadata": {},
   "outputs": [
    {
     "name": "stdout",
     "output_type": "stream",
     "text": [
      "Hi-de hi-de hi-de-hi\n",
      "\t(Hi-de hi-de hi-de-hi)\n",
      "Hey-de hey-de hey-de hey\n",
      "\t(Hey-de hey-de hey-de hey)\n",
      "He-de he-de he-de he\n",
      "\t(He-de he-de he-de he)\n",
      "Hi-de hi-de hi-de-hi\n",
      "\t(Hi-de hi-de hi-de-hi)\n"
     ]
    }
   ],
   "source": [
    "for s in Cab:\n",
    "    print(s)"
   ]
  },
  {
   "cell_type": "markdown",
   "metadata": {},
   "source": [
    "## And try it by hand"
   ]
  },
  {
   "cell_type": "code",
   "execution_count": 5,
   "metadata": {},
   "outputs": [
    {
     "name": "stdout",
     "output_type": "stream",
     "text": [
      "Hi-de hi-de hi-de-hi\n"
     ]
    }
   ],
   "source": [
    "Cab = Hi_de_ho_man()\n",
    "\n",
    "print(next(Cab))"
   ]
  },
  {
   "cell_type": "code",
   "execution_count": 6,
   "metadata": {},
   "outputs": [
    {
     "name": "stdout",
     "output_type": "stream",
     "text": [
      "\t(Hi-de hi-de hi-de-hi)\n"
     ]
    }
   ],
   "source": [
    "print(next(Cab))"
   ]
  },
  {
   "cell_type": "code",
   "execution_count": 7,
   "metadata": {},
   "outputs": [
    {
     "name": "stdout",
     "output_type": "stream",
     "text": [
      "Hey-de hey-de hey-de hey\n"
     ]
    }
   ],
   "source": [
    "print(next(Cab))"
   ]
  },
  {
   "cell_type": "code",
   "execution_count": 8,
   "metadata": {},
   "outputs": [
    {
     "name": "stdout",
     "output_type": "stream",
     "text": [
      "\t(Hey-de hey-de hey-de hey)\n"
     ]
    }
   ],
   "source": [
    "print(next(Cab))"
   ]
  },
  {
   "cell_type": "code",
   "execution_count": 9,
   "metadata": {},
   "outputs": [
    {
     "name": "stdout",
     "output_type": "stream",
     "text": [
      "He-de he-de he-de he\n"
     ]
    }
   ],
   "source": [
    "print(next(Cab))"
   ]
  },
  {
   "cell_type": "code",
   "execution_count": 10,
   "metadata": {},
   "outputs": [
    {
     "name": "stdout",
     "output_type": "stream",
     "text": [
      "\t(He-de he-de he-de he)\n"
     ]
    }
   ],
   "source": [
    "print(next(Cab))"
   ]
  },
  {
   "cell_type": "code",
   "execution_count": 11,
   "metadata": {},
   "outputs": [
    {
     "name": "stdout",
     "output_type": "stream",
     "text": [
      "Hi-de hi-de hi-de-hi\n"
     ]
    }
   ],
   "source": [
    "print(next(Cab))"
   ]
  },
  {
   "cell_type": "code",
   "execution_count": 12,
   "metadata": {},
   "outputs": [
    {
     "name": "stdout",
     "output_type": "stream",
     "text": [
      "\t(Hi-de hi-de hi-de-hi)\n"
     ]
    }
   ],
   "source": [
    "print(next(Cab))"
   ]
  },
  {
   "cell_type": "markdown",
   "metadata": {},
   "source": [
    "## Who was that masked man?"
   ]
  },
  {
   "cell_type": "code",
   "execution_count": 13,
   "metadata": {},
   "outputs": [
    {
     "ename": "NameError",
     "evalue": "name 'it' is not defined",
     "output_type": "error",
     "traceback": [
      "\u001b[0;31m---------------------------------------------------------------------------\u001b[0m",
      "\u001b[0;31mNameError\u001b[0m                                 Traceback (most recent call last)",
      "\u001b[0;32m<ipython-input-13-bb0744ab6df8>\u001b[0m in \u001b[0;36m<module>\u001b[0;34m\u001b[0m\n\u001b[1;32m      3\u001b[0m \u001b[0mCab\u001b[0m \u001b[0;34m=\u001b[0m \u001b[0mHi_de_ho_man\u001b[0m\u001b[0;34m(\u001b[0m\u001b[0;34m)\u001b[0m\u001b[0;34m\u001b[0m\u001b[0;34m\u001b[0m\u001b[0m\n\u001b[1;32m      4\u001b[0m \u001b[0;34m\u001b[0m\u001b[0m\n\u001b[0;32m----> 5\u001b[0;31m \u001b[0mprint\u001b[0m\u001b[0;34m(\u001b[0m\u001b[0misinstance\u001b[0m\u001b[0;34m(\u001b[0m\u001b[0mit\u001b[0m\u001b[0;34m,\u001b[0m \u001b[0mcollections\u001b[0m\u001b[0;34m.\u001b[0m\u001b[0mIterable\u001b[0m\u001b[0;34m)\u001b[0m\u001b[0;34m)\u001b[0m\u001b[0;34m\u001b[0m\u001b[0;34m\u001b[0m\u001b[0m\n\u001b[0m\u001b[1;32m      6\u001b[0m \u001b[0;34m\u001b[0m\u001b[0m\n\u001b[1;32m      7\u001b[0m \u001b[0mprint\u001b[0m\u001b[0;34m(\u001b[0m\u001b[0mhasattr\u001b[0m\u001b[0;34m(\u001b[0m\u001b[0mCab\u001b[0m\u001b[0;34m,\u001b[0m \u001b[0;34m'__iter__'\u001b[0m\u001b[0;34m)\u001b[0m\u001b[0;34m)\u001b[0m\u001b[0;34m\u001b[0m\u001b[0;34m\u001b[0m\u001b[0m\n",
      "\u001b[0;31mNameError\u001b[0m: name 'it' is not defined"
     ]
    }
   ],
   "source": [
    "import collections\n",
    "\n",
    "Cab = Hi_de_ho_man()\n",
    "\n",
    "print(isinstance(it, collections.Iterable))\n",
    "\n",
    "print(hasattr(Cab, '__iter__'))"
   ]
  },
  {
   "cell_type": "markdown",
   "metadata": {},
   "source": [
    "### Let's write a simple counter, and wrap the yield in a loop"
   ]
  },
  {
   "cell_type": "code",
   "execution_count": 14,
   "metadata": {},
   "outputs": [],
   "source": [
    "def genCounter(limit: int):\n",
    "    count = 1\n",
    "    while True:\n",
    "        yield count\n",
    "        count = count + 1\n",
    "        if (count > limit):\n",
    "            break"
   ]
  },
  {
   "cell_type": "code",
   "execution_count": 15,
   "metadata": {},
   "outputs": [
    {
     "name": "stdout",
     "output_type": "stream",
     "text": [
      "1, 2, 3, 4, 5, 6, 7, 8, 9, 10, "
     ]
    }
   ],
   "source": [
    "for i in genCounter(10):\n",
    "    print(i, end=', ')"
   ]
  },
  {
   "cell_type": "code",
   "execution_count": 16,
   "metadata": {},
   "outputs": [],
   "source": [
    "g = genCounter(5)"
   ]
  },
  {
   "cell_type": "code",
   "execution_count": 17,
   "metadata": {},
   "outputs": [
    {
     "name": "stdout",
     "output_type": "stream",
     "text": [
      "1\n"
     ]
    }
   ],
   "source": [
    "print(next(g))"
   ]
  },
  {
   "cell_type": "code",
   "execution_count": 18,
   "metadata": {},
   "outputs": [
    {
     "name": "stdout",
     "output_type": "stream",
     "text": [
      "True\n",
      "True\n"
     ]
    },
    {
     "name": "stderr",
     "output_type": "stream",
     "text": [
      "<ipython-input-18-1593befd2de1>:5: DeprecationWarning: Using or importing the ABCs from 'collections' instead of from 'collections.abc' is deprecated since Python 3.3, and in 3.9 it will stop working\n",
      "  print(isinstance(g, collections.Iterable))\n"
     ]
    }
   ],
   "source": [
    "import collections\n",
    "\n",
    "g = genCounter(5)\n",
    "\n",
    "print(isinstance(g, collections.Iterable))\n",
    "\n",
    "print(hasattr(g, '__iter__'))"
   ]
  },
  {
   "cell_type": "markdown",
   "metadata": {},
   "source": [
    "## Generator Advantages\n",
    "\n",
    "- Generators are simpler to write than an iterator\n",
    "- Less memory than building a list\n",
    "- Lazy evaluation - only work when we need a new value\n",
    "- Natural fit for pipelines"
   ]
  },
  {
   "cell_type": "markdown",
   "metadata": {},
   "source": [
    "# Filter the scandir generator: before  "
   ]
  },
  {
   "cell_type": "code",
   "execution_count": 19,
   "metadata": {},
   "outputs": [
    {
     "name": "stdout",
     "output_type": "stream",
     "text": [
      "<DirEntry '.git'>\n",
      "<DirEntry 'Day08'>\n",
      "<DirEntry '.idea'>\n",
      "<DirEntry 'Day07'>\n",
      "<DirEntry 'Day02'>\n",
      "<DirEntry 'Day03'>\n",
      "<DirEntry 'Day06'>\n",
      "<DirEntry 'Day01'>\n",
      "<DirEntry 'README.md'>\n",
      "<DirEntry 'Day04'>\n",
      "<DirEntry 'Day09'>\n",
      "<DirEntry 'Day05'>\n"
     ]
    }
   ],
   "source": [
    "import os\n",
    "\n",
    "for entry in os.scandir('..'):\n",
    "    print(entry) "
   ]
  },
  {
   "cell_type": "code",
   "execution_count": 20,
   "metadata": {},
   "outputs": [
    {
     "name": "stdout",
     "output_type": "stream",
     "text": [
      "Day08\n",
      "Day07\n",
      "Day02\n",
      "Day03\n",
      "Day06\n",
      "Day01\n",
      "Day04\n",
      "Day09\n",
      "Day05\n"
     ]
    }
   ],
   "source": [
    "def subdirs(path):\n",
    "    \"\"\"Yield directory names not starting with '.' under given path.\"\"\"\n",
    "    for entry in os.scandir(path):\n",
    "        if not entry.name.startswith('.') and entry.is_dir():\n",
    "            yield entry.name\n",
    "            \n",
    "it = subdirs('..')\n",
    "for name in it:\n",
    "    print(name)"
   ]
  },
  {
   "cell_type": "markdown",
   "metadata": {},
   "source": [
    "### In section 7.3, Downey discusses the Collatz sequence\n",
    "\n",
    "You will be asked to write a Collatz generator.\n",
    "Here is the sequence, generated by an iterator\n",
    "\n",
    "https://xkcd.com/710/"
   ]
  },
  {
   "cell_type": "code",
   "execution_count": 21,
   "metadata": {},
   "outputs": [],
   "source": [
    "class Collatz:\n",
    "    '''Iterator that yields the next number in the Collatz sequence'''\n",
    "\n",
    "    # Initialize the starting point\n",
    "    def __init__(self, start: int):\n",
    "        self.val  = start\n",
    "        self.done = False    # Used to stop iteration\n",
    "\n",
    "    # Return an iterator\n",
    "    def __iter__(self):\n",
    "        return self\n",
    "\n",
    "    # Produce the next element of the sequence\n",
    "    def __next__(self) -> int:\n",
    "        \n",
    "        # Stick a fork in it - are we done?\n",
    "        if self.done:\n",
    "            raise StopIteration\n",
    "            \n",
    "        res = self.val      # Return the next value\n",
    "        \n",
    "        # Compute the next value\n",
    "        if (self.val % 2) == 0:\n",
    "            self.val = self.val // 2\n",
    "        else:\n",
    "            self.val = self.val * 3 + 1\n",
    "            \n",
    "        # Is this the last time?\n",
    "        self.done = (res == 1)\n",
    "        \n",
    "        return res"
   ]
  },
  {
   "cell_type": "markdown",
   "metadata": {},
   "source": [
    "## *We return the starting point at the start and 1 at the end, and then raise StopIteration.*\n",
    "# *Your generator must do the same*"
   ]
  },
  {
   "cell_type": "code",
   "execution_count": 22,
   "metadata": {},
   "outputs": [
    {
     "name": "stdout",
     "output_type": "stream",
     "text": [
      "<__main__.Collatz object at 0x7fb8cc3d23a0>\n",
      "<class '__main__.Collatz'>\n",
      "<class '__main__.Collatz'>\n",
      "Iterator that yields the next number in the Collatz sequence\n",
      "True\n"
     ]
    }
   ],
   "source": [
    "import collections\n",
    "\n",
    "seq = Collatz(11)\n",
    "print(seq)\n",
    "print(type(seq))\n",
    "print(seq.__class__)\n",
    "print(seq.__doc__)\n",
    "print(isinstance(seq, collections.Iterable))"
   ]
  },
  {
   "cell_type": "code",
   "execution_count": 23,
   "metadata": {},
   "outputs": [
    {
     "name": "stdout",
     "output_type": "stream",
     "text": [
      "True\n"
     ]
    }
   ],
   "source": [
    "print(hasattr(seq, '__iter__'))"
   ]
  },
  {
   "cell_type": "code",
   "execution_count": 24,
   "metadata": {},
   "outputs": [
    {
     "name": "stdout",
     "output_type": "stream",
     "text": [
      "11\n",
      "34\n",
      "17\n",
      "52\n",
      "26\n",
      "13\n",
      "40\n",
      "20\n",
      "10\n",
      "5\n",
      "16\n",
      "8\n",
      "4\n",
      "2\n",
      "1\n"
     ]
    }
   ],
   "source": [
    "for i in seq:\n",
    "    print(i)"
   ]
  },
  {
   "cell_type": "markdown",
   "metadata": {},
   "source": [
    "## Try this by hand: call the function next()"
   ]
  },
  {
   "cell_type": "code",
   "execution_count": 25,
   "metadata": {},
   "outputs": [
    {
     "name": "stdout",
     "output_type": "stream",
     "text": [
      "43\n",
      "130\n",
      "65\n",
      "196\n",
      "98\n",
      "49\n",
      "148\n",
      "74\n",
      "37\n",
      "112\n",
      "56\n",
      "28\n",
      "14\n",
      "7\n",
      "22\n",
      "11\n",
      "34\n",
      "17\n",
      "52\n",
      "26\n",
      "13\n",
      "40\n",
      "20\n",
      "10\n",
      "5\n",
      "16\n",
      "8\n",
      "4\n",
      "2\n",
      "1\n"
     ]
    },
    {
     "ename": "StopIteration",
     "evalue": "",
     "output_type": "error",
     "traceback": [
      "\u001b[0;31m---------------------------------------------------------------------------\u001b[0m",
      "\u001b[0;31mStopIteration\u001b[0m                             Traceback (most recent call last)",
      "\u001b[0;32m<ipython-input-25-feafd413c169>\u001b[0m in \u001b[0;36m<module>\u001b[0;34m\u001b[0m\n\u001b[1;32m      2\u001b[0m \u001b[0;34m\u001b[0m\u001b[0m\n\u001b[1;32m      3\u001b[0m \u001b[0;32mwhile\u001b[0m \u001b[0;32mTrue\u001b[0m\u001b[0;34m:\u001b[0m\u001b[0;34m\u001b[0m\u001b[0;34m\u001b[0m\u001b[0m\n\u001b[0;32m----> 4\u001b[0;31m     \u001b[0mprint\u001b[0m\u001b[0;34m(\u001b[0m\u001b[0mnext\u001b[0m\u001b[0;34m(\u001b[0m\u001b[0mseq\u001b[0m\u001b[0;34m)\u001b[0m\u001b[0;34m)\u001b[0m\u001b[0;34m\u001b[0m\u001b[0;34m\u001b[0m\u001b[0m\n\u001b[0m",
      "\u001b[0;32m<ipython-input-21-e8521817c233>\u001b[0m in \u001b[0;36m__next__\u001b[0;34m(self)\u001b[0m\n\u001b[1;32m     16\u001b[0m         \u001b[0;31m# Stick a fork in it - are we done?\u001b[0m\u001b[0;34m\u001b[0m\u001b[0;34m\u001b[0m\u001b[0;34m\u001b[0m\u001b[0m\n\u001b[1;32m     17\u001b[0m         \u001b[0;32mif\u001b[0m \u001b[0mself\u001b[0m\u001b[0;34m.\u001b[0m\u001b[0mdone\u001b[0m\u001b[0;34m:\u001b[0m\u001b[0;34m\u001b[0m\u001b[0;34m\u001b[0m\u001b[0m\n\u001b[0;32m---> 18\u001b[0;31m             \u001b[0;32mraise\u001b[0m \u001b[0mStopIteration\u001b[0m\u001b[0;34m\u001b[0m\u001b[0;34m\u001b[0m\u001b[0m\n\u001b[0m\u001b[1;32m     19\u001b[0m \u001b[0;34m\u001b[0m\u001b[0m\n\u001b[1;32m     20\u001b[0m         \u001b[0mres\u001b[0m \u001b[0;34m=\u001b[0m \u001b[0mself\u001b[0m\u001b[0;34m.\u001b[0m\u001b[0mval\u001b[0m      \u001b[0;31m# Return the next value\u001b[0m\u001b[0;34m\u001b[0m\u001b[0;34m\u001b[0m\u001b[0m\n",
      "\u001b[0;31mStopIteration\u001b[0m: "
     ]
    }
   ],
   "source": [
    "seq = Collatz(43)\n",
    " \n",
    "while True:\n",
    "    print(next(seq))"
   ]
  },
  {
   "cell_type": "markdown",
   "metadata": {},
   "source": [
    "## Catch the exception"
   ]
  },
  {
   "cell_type": "code",
   "execution_count": 26,
   "metadata": {},
   "outputs": [
    {
     "name": "stdout",
     "output_type": "stream",
     "text": [
      "43\n",
      "130\n",
      "65\n",
      "196\n",
      "98\n",
      "49\n",
      "148\n",
      "74\n",
      "37\n",
      "112\n",
      "56\n",
      "28\n",
      "14\n",
      "7\n",
      "22\n",
      "11\n",
      "34\n",
      "17\n",
      "52\n",
      "26\n",
      "13\n",
      "40\n",
      "20\n",
      "10\n",
      "5\n",
      "16\n",
      "8\n",
      "4\n",
      "2\n",
      "1\n"
     ]
    }
   ],
   "source": [
    "seq = Collatz(43)\n",
    " \n",
    "while True:\n",
    "    try:\n",
    "        print(next(seq))\n",
    "    except StopIteration:\n",
    "        break"
   ]
  },
  {
   "cell_type": "markdown",
   "metadata": {},
   "source": [
    "## Or just use a for loop"
   ]
  },
  {
   "cell_type": "code",
   "execution_count": 27,
   "metadata": {},
   "outputs": [
    {
     "name": "stdout",
     "output_type": "stream",
     "text": [
      "43\n",
      "130\n",
      "65\n",
      "196\n",
      "98\n",
      "49\n",
      "148\n",
      "74\n",
      "37\n",
      "112\n",
      "56\n",
      "28\n",
      "14\n",
      "7\n",
      "22\n",
      "11\n",
      "34\n",
      "17\n",
      "52\n",
      "26\n",
      "13\n",
      "40\n",
      "20\n",
      "10\n",
      "5\n",
      "16\n",
      "8\n",
      "4\n",
      "2\n",
      "1\n"
     ]
    }
   ],
   "source": [
    "seq = Collatz(43)\n",
    " \n",
    "for i in seq:\n",
    "    print(i) "
   ]
  },
  {
   "cell_type": "markdown",
   "metadata": {},
   "source": [
    "## We can use enumrate on iterables"
   ]
  },
  {
   "cell_type": "code",
   "execution_count": 28,
   "metadata": {},
   "outputs": [
    {
     "name": "stdout",
     "output_type": "stream",
     "text": [
      "  0 43\n",
      "  1 130\n",
      "  2 65\n",
      "  3 196\n",
      "  4 98\n",
      "  5 49\n",
      "  6 148\n",
      "  7 74\n",
      "  8 37\n",
      "  9 112\n",
      " 10 56\n",
      " 11 28\n",
      " 12 14\n",
      " 13 7\n",
      " 14 22\n",
      " 15 11\n",
      " 16 34\n",
      " 17 17\n",
      " 18 52\n",
      " 19 26\n",
      " 20 13\n",
      " 21 40\n",
      " 22 20\n",
      " 23 10\n",
      " 24 5\n",
      " 25 16\n",
      " 26 8\n",
      " 27 4\n",
      " 28 2\n",
      " 29 1\n"
     ]
    }
   ],
   "source": [
    "seq = Collatz(43)\n",
    " \n",
    "for pos, val in enumerate(seq):\n",
    "    print('%3d %d' % (pos, val))"
   ]
  },
  {
   "cell_type": "markdown",
   "metadata": {},
   "source": [
    "## Here is a generator that gives us the next month"
   ]
  },
  {
   "cell_type": "code",
   "execution_count": 29,
   "metadata": {},
   "outputs": [],
   "source": [
    "# Month generator\n",
    "# Takes a starting month\n",
    "# Yields following months\n",
    "#\n",
    "def months(m: int) -> int:\n",
    "    '''Generator for the next month''' \n",
    "    while (True):\n",
    "        m = (m % 12) + 1\n",
    "        yield m"
   ]
  },
  {
   "cell_type": "markdown",
   "metadata": {},
   "source": [
    "## In use"
   ]
  },
  {
   "cell_type": "code",
   "execution_count": 30,
   "metadata": {},
   "outputs": [
    {
     "name": "stdout",
     "output_type": "stream",
     "text": [
      "<generator object months at 0x7fb8cc37c970>\n",
      "<class 'generator'>\n",
      "<class 'generator'>\n",
      "None\n",
      "True\n",
      "True\n",
      "\n",
      "8\n",
      "9\n",
      "10\n",
      "11\n",
      "12\n",
      "1\n",
      "2\n",
      "3\n",
      "4\n",
      "5\n",
      "6\n",
      "7\n",
      "8\n",
      "9\n",
      "10\n",
      "11\n",
      "12\n",
      "1\n",
      "2\n",
      "3\n"
     ]
    }
   ],
   "source": [
    "import collections\n",
    "\n",
    "gen = months(7)\n",
    "\n",
    "print(gen)\n",
    "print(type(gen))\n",
    "print(gen.__class__)\n",
    "print(gen.__doc__)\n",
    "print(isinstance(gen, collections.Iterable))\n",
    "print(hasattr(gen, '__iter__'))\n",
    "print()\n",
    "\n",
    "# Get the next 20 months\n",
    "for i in range(20):\n",
    "    print(next(gen))"
   ]
  },
  {
   "cell_type": "markdown",
   "metadata": {},
   "source": [
    "# What will happen here?"
   ]
  },
  {
   "cell_type": "code",
   "execution_count": null,
   "metadata": {},
   "outputs": [],
   "source": [
    "gen = months(7)\n",
    "\n",
    "for i in gen:\n",
    "    print(i)"
   ]
  },
  {
   "cell_type": "markdown",
   "metadata": {},
   "source": [
    "## You will be asked to write a generator that returns /names/ of the months"
   ]
  },
  {
   "cell_type": "markdown",
   "metadata": {},
   "source": [
    "## We can iterate over the lines in a file"
   ]
  },
  {
   "cell_type": "code",
   "execution_count": null,
   "metadata": {},
   "outputs": [],
   "source": [
    "import csv\n",
    " \n",
    "def next_please(filename: str) -> str:\n",
    "    with open(filename, newline='') as File:  \n",
    "        reader = csv.reader(File)\n",
    "        for row in reader:\n",
    "            yield row\n",
    "        \n",
    "gen = next_please('listComp.py')\n",
    "print(type(gen))\n",
    "print(hasattr(gen, '__iter__'))\n",
    "\n",
    "for i in range(10):\n",
    "    print(next(gen))"
   ]
  },
  {
   "cell_type": "code",
   "execution_count": null,
   "metadata": {},
   "outputs": [],
   "source": [
    "for i in range(10):\n",
    "    print(next(gen))"
   ]
  },
  {
   "cell_type": "code",
   "execution_count": null,
   "metadata": {},
   "outputs": [],
   "source": [
    "print(type(gen))"
   ]
  },
  {
   "cell_type": "markdown",
   "metadata": {},
   "source": [
    "## Generator Expressions\n",
    "\n",
    "## A compact way to create a generator\n",
    "\n",
    "## Reminder: List Comprehension"
   ]
  },
  {
   "cell_type": "code",
   "execution_count": null,
   "metadata": {},
   "outputs": [],
   "source": [
    "# Is a list an iterable?\n",
    "import collections\n",
    "\n",
    "lst = [x for x in range(10)]\n",
    "\n",
    "print(lst)\n",
    "print(type(lst))\n",
    "print(lst.__class__)\n",
    "print(lst.__doc__)\n",
    "print()\n",
    "\n",
    "# Can we iterate over a list\n",
    "for i in range(20):\n",
    "    print(next(lst))"
   ]
  },
  {
   "cell_type": "code",
   "execution_count": null,
   "metadata": {},
   "outputs": [],
   "source": [
    "print(isinstance(lst, collections.Iterable))"
   ]
  },
  {
   "cell_type": "markdown",
   "metadata": {},
   "source": [
    "## A list is Iterable, but not itself an iterator"
   ]
  },
  {
   "cell_type": "code",
   "execution_count": null,
   "metadata": {},
   "outputs": [],
   "source": [
    "it = iter(lst)\n",
    "\n",
    "for i in it:\n",
    "    print(i)"
   ]
  },
  {
   "cell_type": "markdown",
   "metadata": {},
   "source": [
    "# We can create a generator expression"
   ]
  },
  {
   "cell_type": "code",
   "execution_count": null,
   "metadata": {},
   "outputs": [],
   "source": [
    "# Rather than a list, create a generator\n",
    "import collections\n",
    "\n",
    "gen = (x for x in range(10))\n",
    "\n",
    "print(gen)\n",
    "print(type(gen))\n",
    "print(gen.__class__)\n",
    "print(gen.__doc__)\n",
    "print(isinstance(gen, collections.Iterable))\n",
    "print(hasattr(gen, '__iter__'))\n",
    "print()\n",
    "\n",
    "# Can we iterate over a generator expression?\n",
    "for i in gen:\n",
    "    print(i)"
   ]
  },
  {
   "cell_type": "markdown",
   "metadata": {},
   "source": [
    "## In use"
   ]
  },
  {
   "cell_type": "code",
   "execution_count": null,
   "metadata": {},
   "outputs": [],
   "source": [
    "gen = (x for x in range(10))\n",
    "\n",
    "while True:\n",
    "    try:\n",
    "        print(next(gen))\n",
    "    except StopIteration:\n",
    "        break"
   ]
  },
  {
   "cell_type": "markdown",
   "metadata": {},
   "source": [
    "## We can fold into utility functions like sum()"
   ]
  },
  {
   "cell_type": "code",
   "execution_count": null,
   "metadata": {},
   "outputs": [],
   "source": [
    "# Add up the first 100 numbers\n",
    "# See https://tinyurl.com/y9foxus9\n",
    "#\n",
    "g = (x for x in range(101))  \n",
    "\n",
    "print(sum(g))"
   ]
  },
  {
   "cell_type": "markdown",
   "metadata": {},
   "source": [
    "## Return to our example of Pythagorean Triples"
   ]
  },
  {
   "cell_type": "code",
   "execution_count": null,
   "metadata": {},
   "outputs": [],
   "source": [
    "pyt = ((x, y, z) \n",
    "           for z in range(30) \n",
    "               for y in range(1, z) \n",
    "                   for x in range(1, y) \n",
    "                       if x*x + y*y == z*z)\n",
    "\n",
    "for t in pyt:\n",
    "    print(t)"
   ]
  },
  {
   "cell_type": "markdown",
   "metadata": {},
   "source": [
    "# Sorting\n",
    "## Sorting out Sorting\n",
    "https://www.youtube.com/watch?v=gv0JUEqaAXo"
   ]
  },
  {
   "cell_type": "markdown",
   "metadata": {},
   "source": [
    "# Wow! That's Fantastic - Memory Usage"
   ]
  },
  {
   "cell_type": "markdown",
   "metadata": {},
   "source": [
    "## Compare memory usage in generators and list comprehensions"
   ]
  },
  {
   "cell_type": "code",
   "execution_count": null,
   "metadata": {},
   "outputs": [],
   "source": [
    "# generator.py\n",
    "#\n",
    "# Compare memory usage of list comprehensions and generators\n",
    "#\n",
    "# Usage:\n",
    "#     Install memory profiler library\n",
    "#         % conda install memory_profiler\n",
    "#\n",
    "#     Run the program with command line option\n",
    "#         % python -m memory_profiler generator.py\n",
    "#     See sample output below\n",
    "\n",
    "limit = 10000             # Number of squares to generate\n",
    "\n",
    "@profile                # Keyword for memory profiler\n",
    "def test(limit: int):\n",
    "    squares = (num ** 2 for num in range(limit))\n",
    "\n",
    "    for val in squares:\n",
    "        print(val)\n",
    "\n",
    "    squares = [num ** 2 for num in range(limit)]\n",
    "\n",
    "    for val in squares:\n",
    "        print(val)\n",
    "\n",
    "test(limit)"
   ]
  },
  {
   "cell_type": "markdown",
   "metadata": {},
   "source": [
    "## To run, must install the memory_profiler library\n",
    "\n",
    "### % conda install memory_profiler"
   ]
  },
  {
   "cell_type": "code",
   "execution_count": null,
   "metadata": {},
   "outputs": [],
   "source": [
    "% conda install memory_profiler\n",
    "... much later ...\n",
    "\n",
    "% python -m memory_profiler generator.py\n",
    "\n",
    "... spits out thousands of squares ...\n",
    "\n",
    "Filename: generator.py\n",
    "\n",
    "Line #    Mem usage    Increment   Line Contents\n",
    "================================================\n",
    "    15   27.469 MiB    0.000 MiB   @profile\t\t# Keyword for memory profiler\n",
    "    16                             def test(limit):\n",
    "    17   27.473 MiB    0.004 MiB       squares = (num ** 2 for num in range(limit))\n",
    "    18                             \n",
    "    19   27.473 MiB    0.000 MiB       for val in squares:\n",
    "    20   27.473 MiB    0.000 MiB           print(val)\n",
    "    21                             \n",
    "    22   27.527 MiB    0.055 MiB       squares = [num ** 2 for num in range(limit)]\n",
    "    23                             \n",
    "    24   27.527 MiB    0.000 MiB       for val in squares:\n",
    "    25   27.527 MiB    0.000 MiB           print(val)\n"
   ]
  },
  {
   "cell_type": "markdown",
   "metadata": {},
   "source": [
    "## The list takes far more memory than the generator"
   ]
  },
  {
   "cell_type": "markdown",
   "metadata": {},
   "source": [
    "## How much memory does a Dictionary use?"
   ]
  },
  {
   "cell_type": "code",
   "execution_count": null,
   "metadata": {},
   "outputs": [],
   "source": [
    "Line #    Mem usage    Increment   Line Contents\n",
    "================================================\n",
    "    18   27.820 MiB    0.000 MiB   @profile\n",
    "    19                             def build_dict(fin):\n",
    "    20   27.820 MiB    0.000 MiB       words = {}\n",
    "    21\n",
    "    22                                 # Take each line, strip \\n, add to dictionary\n",
    "    23   42.719 MiB   14.898 MiB       for word in fin:\n",
    "    24   42.719 MiB    0.000 MiB           word = word.strip()\n",
    "    25\n",
    "    26                                     # Dictionary as a Set idiom\n",
    "    27                                     # Add to our set of words\n",
    "    28   42.719 MiB    0.000 MiB           words[word] = None\n",
    "    29\n",
    "    30   42.719 MiB    0.000 MiB       return words\n",
    "\n",
    "\n",
    "Filename: doublesMemory.py\n",
    "\n",
    "Line #    Mem usage    Increment   Line Contents\n",
    "================================================\n",
    "    36   42.910 MiB    0.000 MiB   @profile\n",
    "    37                             def find_doubles(word):\n",
    "    38   42.910 MiB    0.000 MiB       doubles = []\n",
    "    39   42.910 MiB    0.000 MiB       for pos in range(len(word) - 1):\n",
    "    40   42.910 MiB    0.000 MiB           if word[pos] == word[pos+1]:\n",
    "    41   42.910 MiB    0.000 MiB               doubles.append(pos)\n",
    "    42\n",
    "    43   42.910 MiB    0.000 MiB       return doubles\n",
    "\n",
    "Filename: doublesMemory.py\n",
    "\n",
    "Line #    Mem usage    Increment   Line Contents\n",
    "================================================\n",
    "    48   42.719 MiB    0.000 MiB   @profile\n",
    "    49                             def build_list(d):\n",
    "    50   42.719 MiB    0.000 MiB       res = []\n",
    "    51\n",
    "    52                                 # Take each word in the dictionary, and see if we can find a pair\n",
    "    53   42.910 MiB    0.191 MiB       for word in d:\n",
    "    54   42.910 MiB    0.000 MiB           positions = find_doubles(word)\n",
    "    55   42.910 MiB    0.000 MiB           for pos in positions:\n",
    "    56   42.910 MiB    0.000 MiB               cand = word[:pos] + word[pos+2:]\n",
    "    57   42.910 MiB    0.000 MiB               if (cand in d):\n",
    "    58   42.910 MiB    0.000 MiB                   res.append([word, cand])\n",
    "    59\n",
    "    60   42.910 MiB    0.000 MiB       return res\n",
    "\n",
    "Filename: doublesMemory.py\n",
    "\n",
    "Line #    Mem usage    Increment   Line Contents\n",
    "================================================\n",
    "    65   27.820 MiB    0.000 MiB   @profile\n",
    "    66                             def find_pairs(fin):\n",
    "    67                                 # Build a dictionary of all words\n",
    "    68   42.719 MiB   14.898 MiB       d = build_dict(fin)\n",
    "    69\n",
    "    70                                 # Filter for words that appear again when we strip a pair of double letters\n",
    "    71   42.910 MiB    0.191 MiB       lst = build_list(d)\n",
    "    72\n",
    "    73                                 # Sort the list\n",
    "    74   42.910 MiB    0.000 MiB       lst.sort()\n",
    "    75\n",
    "    76   42.910 MiB    0.000 MiB       return lst"
   ]
  },
  {
   "cell_type": "markdown",
   "metadata": {},
   "source": [
    "## Another way to generate sizes"
   ]
  },
  {
   "cell_type": "code",
   "execution_count": null,
   "metadata": {},
   "outputs": [],
   "source": [
    "# generator2.py\n",
    "# \n",
    "# Compare memory usage of list comprehensions and generators\n",
    "#\n",
    "# Usage:\n",
    "#      % python generator2.py\n",
    "\n",
    "import sys\n",
    "\n",
    "limit = 10000              # Number of squares to generate\n",
    "\n",
    "\n",
    "def test(limit: int):\n",
    "    # Generator\n",
    "    squares = (num ** 2 for num in range(limit))\n",
    "    print(\"Size of generator\", sys.getsizeof(squares)) ####\n",
    "\n",
    "    sum = 0\n",
    "    for val in squares:\n",
    "        sum = sum + val\n",
    "    print(sum)\n",
    "\n",
    "    # List comprehension\n",
    "    squares = [num ** 2 for num in range(limit)]\n",
    "    print(\"Size of List\", sys.getsizeof(squares)) ####\n",
    "\n",
    "    sum = 0\n",
    "    for val in squares:\n",
    "        sum = sum + val\n",
    "    print(sum)"
   ]
  },
  {
   "cell_type": "markdown",
   "metadata": {},
   "source": [
    "## Sample output"
   ]
  },
  {
   "cell_type": "code",
   "execution_count": null,
   "metadata": {},
   "outputs": [],
   "source": [
    "! python generator2.py "
   ]
  },
  {
   "cell_type": "markdown",
   "metadata": {},
   "source": [
    "```python\n",
    "Size of generator\t 120\n",
    "333283335000\n",
    "Size of List\t\t 87624\n",
    "333283335000\n",
    "```"
   ]
  }
 ],
 "metadata": {
  "kernelspec": {
   "display_name": "Python 3",
   "language": "python",
   "name": "python3"
  },
  "language_info": {
   "codemirror_mode": {
    "name": "ipython",
    "version": 3
   },
   "file_extension": ".py",
   "mimetype": "text/x-python",
   "name": "python",
   "nbconvert_exporter": "python",
   "pygments_lexer": "ipython3",
   "version": "3.8.3"
  }
 },
 "nbformat": 4,
 "nbformat_minor": 1
}
