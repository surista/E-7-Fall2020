{
 "cells": [
  {
   "cell_type": "markdown",
   "metadata": {},
   "source": [
    "# Introduction to Programming with Python\n",
    "# Day 9 Notebook -  Iterators and Generators\n",
    "# FALL 2019 - (c) Jeff Parker"
   ]
  },
  {
   "cell_type": "markdown",
   "metadata": {},
   "source": [
    "## Topics\n",
    "\n",
    "- Homework\n",
    "- cProfile and performance improvement\n",
    "- Command line iterators: _more_ and _pipelines_\n",
    "- Iterators\n",
    "- Generators\n",
    "- Generator Expressions\n",
    "- GIT?"
   ]
  },
  {
   "cell_type": "markdown",
   "metadata": {},
   "source": [
    "# Homework"
   ]
  },
  {
   "cell_type": "markdown",
   "metadata": {},
   "source": [
    "## *Translation: write two, and throw this one away*\n",
    "\n",
    "## Student response\n",
    "\n",
    "The student made multiple passes over this, and improved things greatly\n",
    "\n",
    "She learned a lot, and wound up with a much nicer solution"
   ]
  },
  {
   "cell_type": "markdown",
   "metadata": {},
   "source": [
    "## Second Draft is much better\n",
    "\n",
    "\"Below the improvements I made:\n",
    "\n",
    "length of the input word does not matter anymore: function can handle arbitrary length strings.\n",
    "\n",
    "\"abc[:100]\" is gone: I solved it with a simple for loop.\n",
    "\n",
    "no more dictionary: I solved it with an \"if\" function.\n",
    "\n",
    "no more many lists: I filter with an \"if\" function before adding something to a list."
   ]
  },
  {
   "cell_type": "markdown",
   "metadata": {},
   "source": [
    "## Third Draft\n",
    "\n",
    "Better yet: see suggestions below"
   ]
  },
  {
   "cell_type": "markdown",
   "metadata": {},
   "source": [
    "### \"Function FRANKENSTEIN turned into Function FAIRY\n",
    "#### \"Function FRANKENSTEIN: 41 lines long. Works with input only 2 or 3 characters long.\n",
    "#### \"Function FAIRY: 16 lines long. Works with any length of string input.\""
   ]
  },
  {
   "cell_type": "markdown",
   "metadata": {},
   "source": [
    "# Lessons Learned\n",
    "\n",
    "What did you learn in the process of doing this?\n",
    "\n",
    "jdp\n",
    "\n",
    "\"Oh, I have many learnings from this experience. See below in a somewhat unorganized manner.\n",
    "\n",
    "\n",
    "## 1) Don't start to code immediately.\n",
    "\n",
    "Sometimes it is useful to read the question first, and - before touching any code -  solve it on a piece of paper: not necessarily by writing down code, but by thinking through the problem logically. Only once you have the most efficient logic crystalized is when you should start writing the code.\n",
    "\n",
    "So I guess proper technique should be: read problem -> define approach with wide strokes on a piece of paper -> sit down to code it.\n",
    "\n",
    "\n",
    "## 2) Don't assume constant input.\n",
    "\n",
    "Always design for inconsistent input, even if, for now, the only input is a double-digit string.\n",
    "\n",
    "\n",
    "## 3) Do ask for help\n",
    "\n",
    "You can learn a lot by asking for help from others. (Thank you, Jeff and Diane, I learned a TON from you today!!!) I imagine another way to do it would be is by trying to explain your code to someone, out loud, line-by-line.\n",
    "\n",
    "\n",
    "## 4) Do get away from your code\n",
    "\n",
    "If you get stuck, get away from the code. Your brain will work on it in the background and next time you look at it, the mistakes will be obvious.\n",
    "\n",
    "\n",
    "## 5) Do use print statements while debugging\n",
    "\n",
    "Print statements after (almost) every line of the code can help understand what is going wrong. \n",
    "\n",
    "\n",
    "## 6) Do laugh at your own bad codes\n",
    "\n",
    "Function Frankenstein is my friend, not my enemy. And this line of code still cracks me up hahah:\n",
    "\n",
    "```python\n",
    "list_word[i] = abc[abc.index(character)]\n",
    "```"
   ]
  },
  {
   "cell_type": "markdown",
   "metadata": {},
   "source": [
    "# More testimony from the Amen Corner\n",
    "\n",
    "\"I have rewritten without using the replace and my function now works.  Leaving the computer and doing some further reading helped me create an alternative approach.\n",
    "\n",
    "\"I still iterate through the two strings I have (the word and the alphabet).  I build a list of the strings that are created with a hamming distance of 1 and then cast into a Set (no duplicates) and remove the original word from the list.  I then return the sorted list of results.\n",
    "\n",
    "\"Using the DEBUG feature of PyCharm really helped in identifying where the replace was running into 'issues' with adjacent duplicate characters.\n",
    "\n",
    "\"I now expect that the same approach can be used for the one_step_words() function."
   ]
  },
  {
   "cell_type": "markdown",
   "metadata": {},
   "source": [
    "# Code Smells\n",
    "\n",
    "This is a widely used term.  See https://blog.codinghorror.com/code-smells/ and  https://sourcemaking.com/refactoring/smells \n",
    "\n",
    "Some things that smell bad to me\n",
    "\n",
    "## Inappropriate names\n",
    "\n",
    "```python\n",
    "    comma = ''\n",
    "```\n",
    "Why comma?  This should be called blank\n",
    "\n",
    "```python\n",
    "    counter = 0\n",
    "    ...\n",
    "        for letter in range(counter,len(word)):\n",
    "```\n",
    "Why are we calling an integer letter?\n",
    "\n",
    "What is counter doing here?  Why isn't this just\n",
    "\n",
    "```python\n",
    "        for pos in range(len(word)):\n",
    "```\n",
    "### letternested\n",
    "\n",
    "```python\n",
    "            for letternested in 'abcdefghijklmnopqrstuvwxyz':            \n",
    "```\n",
    "Why letternested?  Why isn't this\n",
    "```python\n",
    "            for ch in string.ascii_lowercase:            \n",
    "```\n",
    "\n",
    "## Missing functionality\n",
    "\n",
    "```python\n",
    "    with open( 'words.txt' , 'r') as wordsread:    # opens our file for reading\n",
    "        for line in wordsread:                     # print line in file \n",
    "            entry = line.strip('\\n').lower()\n",
    "            \n",
    "```\n",
    "Where are we keeping these entries?\n",
    "\n",
    "Why is that comment lying to us?\n",
    "\n",
    "## Suspicious code\n",
    "\n",
    "```python\n",
    "            to_switch = word[0 + counter:counter + 1]\n",
    "            for letternested in 'abcdefghijklmnopqrstuvwxyz':            \n",
    "                mod_word = word.replace(to_switch, letternested)\n",
    "```\n",
    "What happens when you have a double letter?   We will replace both at once\n",
    "\n",
    "\n",
    "```python\n",
    "                mod_word2 = ''\n",
    "                if len(word) == 2:\n",
    "                    mod_word = (word[0] + letternested)\n",
    "                    mod_word2 = (letternested + word[1])\n",
    "                if mod_word not in lst:\n",
    "                    lst.append(mod_word)\n",
    "                if mod_word2 not in lst:\n",
    "                    lst.append(mod_word2)\n",
    "```\n",
    "What function is mod_word2 performing?  Double duty for double letters?  What if a letter appears three times?\n",
    "\n",
    "## Replace what?\n",
    "\n",
    "```python\n",
    "                mod_word = word.replace(word[pos], ch)\n",
    "```\n",
    "What happens when there are two or more instances of the letter you are trying to replace?"
   ]
  },
  {
   "cell_type": "markdown",
   "metadata": {},
   "source": [
    "## Let's instrument the routine, and try to improve it\n",
    "## Shachi was interested in cProfile - let's followup\n",
    "# Rules for Performance Tuning\n",
    "# Make it run, make it right, make it fast.  "
   ]
  },
  {
   "cell_type": "markdown",
   "metadata": {},
   "source": [
    "# Time After Time\n",
    "\n",
    "See the discussion in the Lecture notes of how we got here\n",
    "\n",
    "### Differences"
   ]
  },
  {
   "cell_type": "markdown",
   "metadata": {},
   "source": [
    "# Lazy Evaluation\n",
    "\n",
    "My Mom always had more advice.  \n",
    "\n",
    "It was not a fixed list of remarks, but a stream of new comments."
   ]
  },
  {
   "cell_type": "code",
   "execution_count": null,
   "metadata": {},
   "outputs": [],
   "source": [
    "# At Unix command line\n",
    "! more ../words.txt"
   ]
  },
  {
   "cell_type": "markdown",
   "metadata": {},
   "source": [
    "## Pipelines\n",
    "\n",
    "We can run several independant commands at the same time, and link them with pipelines. \n",
    "\n",
    "Let's filter the dictionary for 4 letter words using grep (Global Regular Expression Print)\n",
    "\n",
    "\\^ matches the start of a line\n",
    "\n",
    "\\$ matches the end of a line"
   ]
  },
  {
   "cell_type": "code",
   "execution_count": null,
   "metadata": {},
   "outputs": [],
   "source": [
    "# At Unix command line\n",
    "! grep ^.....$ ../words.txt"
   ]
  },
  {
   "cell_type": "markdown",
   "metadata": {},
   "source": [
    "```python\n",
    "albs\n",
    "alec\n",
    "alee\n",
    "...\n",
    "zori\n",
    "zyme\n",
    "```"
   ]
  },
  {
   "cell_type": "markdown",
   "metadata": {},
   "source": [
    "## Let's look for words ending in t"
   ]
  },
  {
   "cell_type": "code",
   "execution_count": null,
   "metadata": {},
   "outputs": [],
   "source": [
    "! grep ^.....$ ../words.txt | grep t.$"
   ]
  },
  {
   "cell_type": "markdown",
   "metadata": {},
   "source": [
    "```python\n",
    "abet\n",
    "abut\n",
    "...\n",
    "yett\n",
    "yurt\n",
    "zest\n",
    "```"
   ]
  },
  {
   "cell_type": "markdown",
   "metadata": {},
   "source": [
    "## Let's count the number of 4 letter words ending in t with Word Count (wc)"
   ]
  },
  {
   "cell_type": "code",
   "execution_count": null,
   "metadata": {},
   "outputs": [],
   "source": [
    "! grep ^.....$ ../words.txt | grep t.$ | wc"
   ]
  },
  {
   "cell_type": "markdown",
   "metadata": {},
   "source": [
    "```python\n",
    "    316     316    1896\n",
    "```"
   ]
  },
  {
   "cell_type": "markdown",
   "metadata": {},
   "source": [
    "## List the running processes\n",
    "\n",
    "ps -ax\n",
    "\n",
    "### Send the output to a file, processes.txt\n",
    "\n",
    "tee processes.txt\n",
    "\n",
    "### And show me the output one screen at a time\n",
    "\n",
    "more"
   ]
  },
  {
   "cell_type": "code",
   "execution_count": null,
   "metadata": {},
   "outputs": [],
   "source": [
    "! ps -ax | tee processes.txt | more"
   ]
  },
  {
   "cell_type": "markdown",
   "metadata": {},
   "source": [
    "I might see something like this\n",
    "\n",
    "```python\n",
    "  PID TTY           TIME CMD\n",
    "    1 ??         1:30.56 /sbin/launchd\n",
    "   64 ??         0:01.97 /usr/sbin/syslogd\n",
    "   65 ??         0:01.25 /usr/libexec/UserEventAgent (System)\n",
    "   67 ??         0:15.75 /Library/Application Support/Malwarebytes/MBAM/Engine.bundle/Contents/PlugIns/RTProtectionDaemon.app/Contents/MacOS/RTProtectionDaemon -i 0AECD85D-2403-493F-9E73-1F06D326F25E.pkg\n",
    "   69 ??         0:01.04 /System/Library/PrivateFrameworks/Uninstall.framework/Resources/uninstalld\n",
    "   70 ??         0:10.55 /usr/libexec/kextd\n",
    "   71 ??         0:11.17 /System/Library/Frameworks/CoreServices.framework/Versions/A/Frameworks/FSEvents.framework/Versions/A/Support/fseventsd\n",
    "   73 ??         0:01.77 /System/Library/PrivateFrameworks/MediaRemote.framework/Support/mediaremoted\n",
    "   75 ??         0:01.92 /Library/KeyAccess/KeyAccess.app/Contents/SharedSupport/karl.app/Contents/MacOS/karl -c\n",
    "   77 ??         0:00.27 /System/Library/CoreServices/appleeventsd --server\n",
    "   78 ??         0:04.67 /usr/sbin/systemstats --daemon\n",
    "   80 ??         0:02.97 /usr/libexec/configd\n",
    "   81 ??         0:06.70 /System/Library/CoreServices/powerd.bundle/powerd\n",
    "   82 ??         0:20.93 /Library/Application Support/Fitbit Connect/galileod\n",
    "   85 ??         0:18.01 /usr/libexec/logd\n",
    "   86 ??         0:00.01 /usr/libexec/keybagd -t 15\n",
    ":\n",
    "```"
   ]
  },
  {
   "cell_type": "markdown",
   "metadata": {},
   "source": [
    "## Now filter for processes running notebooks"
   ]
  },
  {
   "cell_type": "code",
   "execution_count": null,
   "metadata": {},
   "outputs": [],
   "source": [
    "!  ps -ax | grep notebook"
   ]
  },
  {
   "cell_type": "markdown",
   "metadata": {},
   "source": [
    "```python\n",
    " 1790 ttys001    0:34.19 /Users/jparker/anaconda3/bin/python /Users/jparker/anaconda3/bin/jupyter-notebook\n",
    " 3171 ttys002    0:00.01 /bin/sh -c   ps -ax | grep notebook\n",
    " 3173 ttys002    0:00.00 grep notebook\n",
    "```"
   ]
  },
  {
   "cell_type": "markdown",
   "metadata": {},
   "source": [
    "### The processes run enough to fill the pipeline\n",
    "\n",
    "### When you say _% more words.txt_ you may not read the whole file"
   ]
  },
  {
   "cell_type": "markdown",
   "metadata": {},
   "source": [
    "## Look for program with \"point\" in the name\n",
    "\n",
    "Here is an Unix command I use many times a day when looking for a file \n",
    "\n",
    "List the files below this point\n",
    "```python\n",
    "find .\n",
    "```\n",
    "\n",
    "Now let's filter that for files with 'point' in the name using grep (Global Regular Expression Print)"
   ]
  },
  {
   "cell_type": "code",
   "execution_count": null,
   "metadata": {},
   "outputs": [],
   "source": [
    "!find .. | grep -i point"
   ]
  },
  {
   "cell_type": "markdown",
   "metadata": {},
   "source": [
    "```python\n",
    "../day4/.ipynb_checkpoints\n",
    "../day4/.ipynb_checkpoints/Day4-checkpoint.ipynb\n",
    "../assignment6/.ipynb_checkpoints\n",
    "../assignment6/.ipynb_checkpoints/Solution6-checkpoint.ipynb\n",
    "../assignment6/.ipynb_checkpoints/Assignment6-checkpoint.ipynb\n",
    "../day3/.ipynb_checkpoints\n",
    "../day3/.ipynb_checkpoints/Debug-checkpoint.ipynb\n",
    "../day3/.ipynb_checkpoints/Untitled-checkpoint.ipynb\n",
    "../day3/.ipynb_checkpoints/Week3Section-checkpoint.ipynb\n",
    "../day3/.ipynb_checkpoints/Day3-checkpoint.ipynb\n",
    "...\n",
    "```"
   ]
  },
  {
   "cell_type": "markdown",
   "metadata": {},
   "source": [
    "## Filter out 'checkpoint'"
   ]
  },
  {
   "cell_type": "code",
   "execution_count": null,
   "metadata": {},
   "outputs": [],
   "source": [
    "!find .. | grep -i point | grep -v checkpoint"
   ]
  },
  {
   "cell_type": "markdown",
   "metadata": {},
   "source": [
    "```python\n",
    "../ThinkPython/Point1_soln.py\n",
    "../ThinkPython/Point1.py\n",
    "../day8/Point2.py\n",
    "../day8/Point1.py\n",
    "../pymotw/PyMOTW-3-1.0/source/math/math_distance_2_points.py\n",
    "../ClassicCSProblems/Chapter6/data_point.py\n",
    "```"
   ]
  },
  {
   "cell_type": "markdown",
   "metadata": {},
   "source": [
    "# Iterators"
   ]
  },
  {
   "cell_type": "markdown",
   "metadata": {},
   "source": [
    "We have been able to use a for loop on\n",
    "\n",
    "- range()\n",
    "- strings\n",
    "- lists\n",
    "- dictionaries\n",
    "\n",
    "How is this possible?  How can expect the same behavior from these different types?"
   ]
  },
  {
   "cell_type": "code",
   "execution_count": null,
   "metadata": {},
   "outputs": [],
   "source": [
    "for i in range(10):\n",
    "    print(i)"
   ]
  },
  {
   "cell_type": "markdown",
   "metadata": {},
   "source": [
    "## Let's see if we can iterate over range(10)"
   ]
  },
  {
   "cell_type": "code",
   "execution_count": null,
   "metadata": {},
   "outputs": [],
   "source": [
    "it = range(10)\n",
    "while True:\n",
    "    print(next(it))"
   ]
  },
  {
   "cell_type": "markdown",
   "metadata": {},
   "source": [
    "```python\n",
    "TypeError                                 Traceback (most recent call last)\n",
    "<ipython-input-19-16891c1754ae> in <module>\n",
    "      1 it = range(10)\n",
    "      2 while True:\n",
    "----> 3     print(next(it))\n",
    "\n",
    "TypeError: 'range' object is not an iterator\n",
    "```"
   ]
  },
  {
   "cell_type": "markdown",
   "metadata": {},
   "source": [
    "## Iterable and Iterators\n",
    "\n",
    "### range() is not an Iterator, but it can produce one.\n",
    "\n",
    "### All Iterators are Iterable.  All Iterables can return an Iterator, even if they aren't ones themselves.\n",
    "\n",
    "#### An iterable is an object that implements \\_\\_iter\\_\\_(),  which is expected to return an iterator object.\n",
    "\n",
    "#### An iterator is an object that implements \\_\\_next\\_\\_(),  which is expected to return the next element of the iterable object. \n",
    "\n",
    "#### An iterator raises a StopIteration exception when no more elements are available.\n",
    "\n",
    "Trey Hunner on Iterators and Iterables\n",
    "\n",
    "https://treyhunner.com/2018/06/how-to-make-an-iterator-in-python/"
   ]
  },
  {
   "cell_type": "code",
   "execution_count": null,
   "metadata": {},
   "outputs": [],
   "source": [
    "it = iter(range(10))\n",
    "\n",
    "while True:\n",
    "    print(next(it))"
   ]
  },
  {
   "cell_type": "markdown",
   "metadata": {},
   "source": [
    "## Catch the exception"
   ]
  },
  {
   "cell_type": "code",
   "execution_count": null,
   "metadata": {},
   "outputs": [],
   "source": [
    "it = iter(range(10))\n",
    "\n",
    "while True:\n",
    "    try:\n",
    "        print(next(it))\n",
    "    except StopIteration:\n",
    "        break"
   ]
  },
  {
   "cell_type": "code",
   "execution_count": null,
   "metadata": {},
   "outputs": [],
   "source": [
    "it = iter('Hello, World')\n",
    "while True:\n",
    "    try:\n",
    "        print(next(it))\n",
    "    except StopIteration:\n",
    "        break"
   ]
  },
  {
   "cell_type": "markdown",
   "metadata": {},
   "source": [
    "# Hamming Distance Solution \n",
    "## Remember our zip() iterator"
   ]
  },
  {
   "cell_type": "code",
   "execution_count": null,
   "metadata": {},
   "outputs": [],
   "source": [
    "# Return the number of differences \n",
    "def hamming_distance(str1, str2):\n",
    "    # check to make sure the strings are the same length\n",
    "    if len(str1) != len(str2):\n",
    "        raise ValueError(\"the strings have different lengths\")\n",
    "    \n",
    "    count = 0\n",
    "    \n",
    "    return len([1 for ch1, ch2 in zip(str1.lower(), str2.lower())\n",
    "         if ch1 != ch2])\n",
    "\n",
    "hamming_distance('dog', 'cat')"
   ]
  },
  {
   "cell_type": "code",
   "execution_count": null,
   "metadata": {},
   "outputs": [],
   "source": [
    "nums = [1, 2, 3]\n",
    "lets = ['a', 'b', 'c']\n",
    "z = zip(nums, lets)\n",
    "print(z) "
   ]
  },
  {
   "cell_type": "code",
   "execution_count": null,
   "metadata": {},
   "outputs": [],
   "source": [
    "for p in z:\n",
    "    print(p)"
   ]
  },
  {
   "cell_type": "markdown",
   "metadata": {},
   "source": [
    "## zip() returns an iterator"
   ]
  },
  {
   "cell_type": "code",
   "execution_count": null,
   "metadata": {},
   "outputs": [],
   "source": [
    "from collections import itereator\n",
    "\n",
    "z = zip(nums, lets)\n",
    "print(type(z))\n",
    "isinstance(z, iterator)"
   ]
  },
  {
   "cell_type": "code",
   "execution_count": null,
   "metadata": {},
   "outputs": [],
   "source": [
    "while True:\n",
    "    try:\n",
    "        print(next(z))\n",
    "    except StopIteration:\n",
    "        break"
   ]
  },
  {
   "cell_type": "markdown",
   "metadata": {},
   "source": [
    "## Read more here:\n",
    "\n",
    "https://docs.python.org/3/library/stdtypes.html#iterator-types"
   ]
  },
  {
   "cell_type": "markdown",
   "metadata": {},
   "source": [
    "# Interface vs Subclasses\n",
    "## Key notion - these are not all subclasses of Iterator\n",
    "## They are classes that implement an interface:\n",
    "## Iterables must implement \\_\\_iter\\_\\_()\n",
    "## and Iterators must implement \\_\\_next\\_\\_()\n"
   ]
  },
  {
   "cell_type": "markdown",
   "metadata": {},
   "source": [
    "# Let's define our own Iterator"
   ]
  },
  {
   "cell_type": "code",
   "execution_count": null,
   "metadata": {},
   "outputs": [],
   "source": [
    "class MyCounter:\n",
    "    '''iterator that yields integers in sequence'''\n",
    "    \n",
    "    def __init__(self, limit: int):\n",
    "        \"Initialize limits to a counter\"\n",
    "        self.limit = limit\n",
    "        self.count = 1\n",
    "    \n",
    "    def __iter__(self):\n",
    "        \"We are both Iterable and Iterator\"\n",
    "        return self\n",
    "\n",
    "    def __next__(self):\n",
    "        \"Return the next value of the counter\"\n",
    "        val = self.count\n",
    "        if val > self.limit:\n",
    "            raise StopIteration\n",
    "        self.count = self.count + 1\n",
    "        return val"
   ]
  },
  {
   "cell_type": "markdown",
   "metadata": {},
   "source": [
    "## Try out our new class"
   ]
  },
  {
   "cell_type": "code",
   "execution_count": null,
   "metadata": {},
   "outputs": [],
   "source": [
    "sequence = MyCounter(10)   # Create a new MyCounter object\n",
    "print(sequence)\n",
    "print(type(sequence))    # Object is of class MyCounter\n",
    "print(sequence.__class__)\n",
    "print(sequence.__doc__)"
   ]
  },
  {
   "cell_type": "markdown",
   "metadata": {},
   "source": [
    "## In action"
   ]
  },
  {
   "cell_type": "code",
   "execution_count": null,
   "metadata": {},
   "outputs": [],
   "source": [
    "c = MyCounter(5)\n",
    "for i in range(5):\n",
    "    print(next(c))\n",
    "    \n",
    "print(next(c))"
   ]
  },
  {
   "cell_type": "markdown",
   "metadata": {},
   "source": [
    "## Or we can step through with a for loop"
   ]
  },
  {
   "cell_type": "code",
   "execution_count": null,
   "metadata": {},
   "outputs": [],
   "source": [
    "for i in MyCounter(4):\n",
    "    print(next(sequence))"
   ]
  },
  {
   "cell_type": "code",
   "execution_count": null,
   "metadata": {},
   "outputs": [],
   "source": [
    "print(next(sequence))"
   ]
  },
  {
   "cell_type": "markdown",
   "metadata": {},
   "source": [
    "## Watch the sequence in the debugger\n",
    "\n",
    "Put breakpoints in key spots and watch it chug through"
   ]
  },
  {
   "cell_type": "markdown",
   "metadata": {},
   "source": [
    "## Another example: range()"
   ]
  },
  {
   "cell_type": "code",
   "execution_count": null,
   "metadata": {},
   "outputs": [],
   "source": [
    "r = range(3)\n",
    "print(r)\n",
    "print(type(r))"
   ]
  },
  {
   "cell_type": "code",
   "execution_count": null,
   "metadata": {},
   "outputs": [],
   "source": [
    "print(next(r))"
   ]
  },
  {
   "cell_type": "code",
   "execution_count": null,
   "metadata": {},
   "outputs": [],
   "source": [
    "# range() is not an iterator\n",
    "# \n",
    "# But it can make you one\n",
    "#\n",
    "r = range(3)\n",
    "\n",
    "it = iter(r)\n",
    "print(it)\n",
    "print(type(it))"
   ]
  },
  {
   "cell_type": "code",
   "execution_count": null,
   "metadata": {},
   "outputs": [],
   "source": [
    "print(next(it))"
   ]
  },
  {
   "cell_type": "code",
   "execution_count": null,
   "metadata": {},
   "outputs": [],
   "source": [
    "print(next(it))"
   ]
  },
  {
   "cell_type": "code",
   "execution_count": null,
   "metadata": {},
   "outputs": [],
   "source": [
    "print(next(it))"
   ]
  },
  {
   "cell_type": "code",
   "execution_count": null,
   "metadata": {},
   "outputs": [],
   "source": [
    "print(next(it))"
   ]
  },
  {
   "cell_type": "markdown",
   "metadata": {},
   "source": [
    "## What about strings?"
   ]
  },
  {
   "cell_type": "code",
   "execution_count": null,
   "metadata": {},
   "outputs": [],
   "source": [
    "s = 'Hi!'\n",
    "it = iter(s)\n",
    "print(it)\n",
    "print(type(it))"
   ]
  },
  {
   "cell_type": "code",
   "execution_count": null,
   "metadata": {},
   "outputs": [],
   "source": [
    "print(next(it))"
   ]
  },
  {
   "cell_type": "code",
   "execution_count": null,
   "metadata": {},
   "outputs": [],
   "source": [
    "print(next(it))"
   ]
  },
  {
   "cell_type": "code",
   "execution_count": null,
   "metadata": {},
   "outputs": [],
   "source": [
    "print(next(it))"
   ]
  },
  {
   "cell_type": "code",
   "execution_count": null,
   "metadata": {},
   "outputs": [],
   "source": [
    "print(next(it))"
   ]
  },
  {
   "cell_type": "markdown",
   "metadata": {},
   "source": [
    "# Directory Iterator with scandir()\n",
    "## This is a generator: we'll see more of those"
   ]
  },
  {
   "cell_type": "code",
   "execution_count": null,
   "metadata": {},
   "outputs": [],
   "source": [
    "import os\n",
    "\n",
    "it = os.scandir('.')\n",
    "\n",
    "while True:\n",
    "    try:\n",
    "        print(next(it))\n",
    "    except StopIteration:\n",
    "        break"
   ]
  },
  {
   "cell_type": "markdown",
   "metadata": {},
   "source": [
    "```python\n",
    "<DirEntry 'listComprehension.py'>\n",
    "<DirEntry 'frequency.py'>\n",
    "<DirEntry 'listReverse.py'>\n",
    "<DirEntry 'fibIterator.py'>\n",
    "...\n",
    "```"
   ]
  },
  {
   "cell_type": "markdown",
   "metadata": {},
   "source": [
    "## We don't need to do this by hand: can use for-loop"
   ]
  },
  {
   "cell_type": "code",
   "execution_count": null,
   "metadata": {},
   "outputs": [],
   "source": [
    "# Rewrite and go up one level\n",
    "import os\n",
    "\n",
    "for entry in os.scandir('.'):\n",
    "    print(entry) \n",
    "    \n",
    "# Note the hidden files: .DS_Store, .ipynb_checkpoints"
   ]
  },
  {
   "cell_type": "markdown",
   "metadata": {},
   "source": [
    "```python\n",
    "<DirEntry 'listComprehension.py'>\n",
    "<DirEntry 'frequency.py'>\n",
    "<DirEntry 'listReverse.py'>\n",
    "<DirEntry 'fibIterator.py'>\n",
    "...\n",
    "```"
   ]
  },
  {
   "cell_type": "markdown",
   "metadata": {},
   "source": [
    "## Fibonacci Sequence: often used as example of recursion\n",
    "\n",
    "## I think it is a terrible recursive example.  \n",
    "- Mathematical\n",
    "- Wasteful - inefficient\n",
    "- There are many better ways to write it\n",
    "\n",
    "### Here it is as an iterator.  Note the dependence on tuples\n",
    "### This implementation is efficient"
   ]
  },
  {
   "cell_type": "code",
   "execution_count": null,
   "metadata": {},
   "outputs": [],
   "source": [
    "# Generate Fibonacci numbers upto a limit\n",
    "class Fib:\n",
    "    '''iterator that yields numbers in the Fibonacci sequence'''\n",
    "\n",
    "    # Initialize the limits\n",
    "    def __init__(self, limit: int):\n",
    "        self.limit = limit\n",
    "\n",
    "    # Create an iterable\n",
    "    def __iter__(self):\n",
    "        self.a = 0\n",
    "        self.b = 1\n",
    "        return self\n",
    "\n",
    "    # Produce the next element of the sequence\n",
    "    def __next__(self):\n",
    "        fib = self.a\n",
    "        if fib > self.limit:\n",
    "            raise StopIteration\n",
    "        self.a, self.b = self.b, self.a + self.b\n",
    "        return fib"
   ]
  },
  {
   "cell_type": "code",
   "execution_count": null,
   "metadata": {},
   "outputs": [],
   "source": [
    "fib = Fib(100)\n",
    "print(fib)\n",
    "print(type(fib))\n",
    "print(fib.__class__)\n",
    "print(fib.__doc__)"
   ]
  },
  {
   "cell_type": "code",
   "execution_count": null,
   "metadata": {},
   "outputs": [],
   "source": [
    "for n in fib:\n",
    "    print(n, end=' ')"
   ]
  },
  {
   "cell_type": "markdown",
   "metadata": {},
   "source": [
    "## What else can we test?"
   ]
  },
  {
   "cell_type": "code",
   "execution_count": null,
   "metadata": {},
   "outputs": [],
   "source": [
    "it = iter('Hello, world!')\n",
    "\n",
    "print(type(it))"
   ]
  },
  {
   "cell_type": "code",
   "execution_count": null,
   "metadata": {},
   "outputs": [],
   "source": [
    "isinstance(it, iterator)"
   ]
  },
  {
   "cell_type": "markdown",
   "metadata": {},
   "source": [
    "## Ok, that didn't work"
   ]
  },
  {
   "cell_type": "code",
   "execution_count": null,
   "metadata": {},
   "outputs": [],
   "source": [
    "import collections\n",
    "\n",
    "isinstance(it, collections.Iterable)"
   ]
  },
  {
   "cell_type": "code",
   "execution_count": null,
   "metadata": {},
   "outputs": [],
   "source": [
    "hasattr(it, '__iter__')"
   ]
  },
  {
   "cell_type": "markdown",
   "metadata": {},
   "source": [
    "# Generator\n",
    "\n",
    "Another way to create an iterator is to build a generator.  \n",
    "A generator is a function that _yields_ a result when asked.  \n",
    "The next time we call it, it picks up after the last yield\n",
    "\n",
    "We start with Cab Calloway\n",
    "\n",
    "https://www.youtube.com/watch?v=jDK7sRLn-3E"
   ]
  },
  {
   "cell_type": "code",
   "execution_count": null,
   "metadata": {},
   "outputs": [],
   "source": [
    "def Hi_de_ho_man() -> str:\n",
    "    '''Chorus from Cab Calloways Hi De Ho Man'''\n",
    "    yield 'Hi-de hi-de hi-de-hi'\n",
    "    yield '\\t(Hi-de hi-de hi-de-hi)'\n",
    "    yield 'Hey-de hey-de hey-de hey'\n",
    "    yield '\\t(Hey-de hey-de hey-de hey)'\n",
    "    yield 'He-de he-de he-de he'\n",
    "    yield '\\t(He-de he-de he-de he)'\n",
    "    yield 'Hi-de hi-de hi-de-hi'\n",
    "    yield '\\t(Hi-de hi-de hi-de-hi)'"
   ]
  },
  {
   "cell_type": "markdown",
   "metadata": {},
   "source": [
    "## Now use our new generator"
   ]
  },
  {
   "cell_type": "code",
   "execution_count": null,
   "metadata": {},
   "outputs": [],
   "source": [
    "Cab = Hi_de_ho_man()\n",
    "print(Cab)\n",
    "print(type(Cab))"
   ]
  },
  {
   "cell_type": "code",
   "execution_count": null,
   "metadata": {},
   "outputs": [],
   "source": [
    "print(Cab.__class__)\n",
    "print(Cab.__doc__)\n",
    "print(hasattr(Cab, '__iter__'))"
   ]
  },
  {
   "cell_type": "code",
   "execution_count": null,
   "metadata": {},
   "outputs": [],
   "source": [
    "for s in Cab:\n",
    "    print(s)"
   ]
  },
  {
   "cell_type": "markdown",
   "metadata": {},
   "source": [
    "## And try it by hand"
   ]
  },
  {
   "cell_type": "code",
   "execution_count": null,
   "metadata": {},
   "outputs": [],
   "source": [
    "Cab = Hi_de_ho_man()\n",
    "\n",
    "print(next(Cab))"
   ]
  },
  {
   "cell_type": "code",
   "execution_count": null,
   "metadata": {},
   "outputs": [],
   "source": [
    "print(next(Cab))"
   ]
  },
  {
   "cell_type": "code",
   "execution_count": null,
   "metadata": {},
   "outputs": [],
   "source": [
    "print(next(Cab))"
   ]
  },
  {
   "cell_type": "code",
   "execution_count": null,
   "metadata": {},
   "outputs": [],
   "source": [
    "print(next(Cab))"
   ]
  },
  {
   "cell_type": "code",
   "execution_count": null,
   "metadata": {},
   "outputs": [],
   "source": [
    "print(next(Cab))"
   ]
  },
  {
   "cell_type": "code",
   "execution_count": null,
   "metadata": {},
   "outputs": [],
   "source": [
    "print(next(Cab))"
   ]
  },
  {
   "cell_type": "code",
   "execution_count": null,
   "metadata": {},
   "outputs": [],
   "source": [
    "print(next(Cab))"
   ]
  },
  {
   "cell_type": "code",
   "execution_count": null,
   "metadata": {},
   "outputs": [],
   "source": [
    "print(next(Cab))"
   ]
  },
  {
   "cell_type": "markdown",
   "metadata": {},
   "source": [
    "## Who was that masked man?"
   ]
  },
  {
   "cell_type": "code",
   "execution_count": null,
   "metadata": {},
   "outputs": [],
   "source": [
    "import collections\n",
    "\n",
    "Cab = Hi_de_ho_man()\n",
    "\n",
    "print(isinstance(it, collections.Iterable))\n",
    "\n",
    "print(hasattr(Cab, '__iter__'))"
   ]
  },
  {
   "cell_type": "markdown",
   "metadata": {},
   "source": [
    "### Let's write a simple counter, and wrap the yield in a loop"
   ]
  },
  {
   "cell_type": "code",
   "execution_count": null,
   "metadata": {},
   "outputs": [],
   "source": [
    "def genCounter(limit: int):\n",
    "    count = 1\n",
    "    while True:\n",
    "        yield count\n",
    "        count = count + 1\n",
    "        if (count > limit):\n",
    "            break"
   ]
  },
  {
   "cell_type": "code",
   "execution_count": null,
   "metadata": {},
   "outputs": [],
   "source": [
    "for i in genCounter(10):\n",
    "    print(i, end=', ')"
   ]
  },
  {
   "cell_type": "code",
   "execution_count": null,
   "metadata": {},
   "outputs": [],
   "source": [
    "g = genCounter(5)"
   ]
  },
  {
   "cell_type": "code",
   "execution_count": null,
   "metadata": {},
   "outputs": [],
   "source": [
    "print(next(g))"
   ]
  },
  {
   "cell_type": "code",
   "execution_count": null,
   "metadata": {},
   "outputs": [],
   "source": [
    "import collections\n",
    "\n",
    "g = genCounter(5)\n",
    "\n",
    "print(isinstance(g, collections.Iterable))\n",
    "\n",
    "print(hasattr(g, '__iter__'))"
   ]
  },
  {
   "cell_type": "markdown",
   "metadata": {},
   "source": [
    "## Generator Advantages\n",
    "\n",
    "- Generators are simpler to write than an iterator\n",
    "- Less memory than building a list\n",
    "- Lazy evaluation - only work when we need a new value\n",
    "- Natural fit for pipelines"
   ]
  },
  {
   "cell_type": "markdown",
   "metadata": {},
   "source": [
    "# Filter the scandir generator: before  "
   ]
  },
  {
   "cell_type": "code",
   "execution_count": null,
   "metadata": {},
   "outputs": [],
   "source": [
    "import os\n",
    "\n",
    "for entry in os.scandir('..'):\n",
    "    print(entry) "
   ]
  },
  {
   "cell_type": "code",
   "execution_count": null,
   "metadata": {},
   "outputs": [],
   "source": [
    "def subdirs(path):\n",
    "    \"\"\"Yield directory names not starting with '.' under given path.\"\"\"\n",
    "    for entry in os.scandir(path):\n",
    "        if not entry.name.startswith('.') and entry.is_dir():\n",
    "            yield entry.name\n",
    "            \n",
    "it = subdirs('..')\n",
    "for name in it:\n",
    "    print(name)"
   ]
  },
  {
   "cell_type": "markdown",
   "metadata": {},
   "source": [
    "### In section 7.3, Downey discusses the Collatz sequence\n",
    "\n",
    "You will be asked to write a Collatz generator.\n",
    "Here is the sequence, generated by an iterator\n",
    "\n",
    "https://xkcd.com/710/"
   ]
  },
  {
   "cell_type": "code",
   "execution_count": null,
   "metadata": {},
   "outputs": [],
   "source": [
    "class Collatz:\n",
    "    '''Iterator that yields the next number in the Collatz sequence'''\n",
    "\n",
    "    # Initialize the starting point\n",
    "    def __init__(self, start: int):\n",
    "        self.val  = start\n",
    "        self.done = False    # Used to stop iteration\n",
    "\n",
    "    # Return an iterator\n",
    "    def __iter__(self):\n",
    "        return self\n",
    "\n",
    "    # Produce the next element of the sequence\n",
    "    def __next__(self) -> int:\n",
    "        \n",
    "        # Stick a fork in it - are we done?\n",
    "        if self.done:\n",
    "            raise StopIteration\n",
    "            \n",
    "        res = self.val      # Return the next value\n",
    "        \n",
    "        # Compute the next value\n",
    "        if (self.val % 2) == 0:\n",
    "            self.val = self.val // 2\n",
    "        else:\n",
    "            self.val = self.val * 3 + 1\n",
    "            \n",
    "        # Is this the last time?\n",
    "        self.done = (res == 1)\n",
    "        \n",
    "        return res"
   ]
  },
  {
   "cell_type": "markdown",
   "metadata": {},
   "source": [
    "## *We return the starting point at the start and 1 at the end, and then raise StopIteration.*\n",
    "# *Your generator must do the same*"
   ]
  },
  {
   "cell_type": "code",
   "execution_count": null,
   "metadata": {},
   "outputs": [],
   "source": [
    "import collections\n",
    "\n",
    "seq = Collatz(11)\n",
    "print(seq)\n",
    "print(type(seq))\n",
    "print(seq.__class__)\n",
    "print(seq.__doc__)\n",
    "print(isinstance(seq, collections.Iterable))"
   ]
  },
  {
   "cell_type": "code",
   "execution_count": null,
   "metadata": {},
   "outputs": [],
   "source": [
    "print(hasattr(seq, '__iter__'))"
   ]
  },
  {
   "cell_type": "code",
   "execution_count": null,
   "metadata": {},
   "outputs": [],
   "source": [
    "for i in seq:\n",
    "    print(i)"
   ]
  },
  {
   "cell_type": "markdown",
   "metadata": {},
   "source": [
    "## Try this by hand: call the function next()"
   ]
  },
  {
   "cell_type": "code",
   "execution_count": null,
   "metadata": {},
   "outputs": [],
   "source": [
    "seq = Collatz(43)\n",
    " \n",
    "while True:\n",
    "    print(next(seq))"
   ]
  },
  {
   "cell_type": "markdown",
   "metadata": {},
   "source": [
    "## Catch the exception"
   ]
  },
  {
   "cell_type": "code",
   "execution_count": null,
   "metadata": {},
   "outputs": [],
   "source": [
    "seq = Collatz(43)\n",
    " \n",
    "while True:\n",
    "    try:\n",
    "        print(next(seq))\n",
    "    except StopIteration:\n",
    "        break"
   ]
  },
  {
   "cell_type": "markdown",
   "metadata": {},
   "source": [
    "## Or just use a for loop"
   ]
  },
  {
   "cell_type": "code",
   "execution_count": null,
   "metadata": {},
   "outputs": [],
   "source": [
    "seq = Collatz(43)\n",
    " \n",
    "for i in seq:\n",
    "    print(i) "
   ]
  },
  {
   "cell_type": "markdown",
   "metadata": {},
   "source": [
    "## We can use enumrate on iterables"
   ]
  },
  {
   "cell_type": "code",
   "execution_count": null,
   "metadata": {},
   "outputs": [],
   "source": [
    "seq = Collatz(43)\n",
    " \n",
    "for pos, val in enumerate(seq):\n",
    "    print('%3d %d' % (pos, val))"
   ]
  },
  {
   "cell_type": "markdown",
   "metadata": {},
   "source": [
    "## Here is a generator that gives us the next month"
   ]
  },
  {
   "cell_type": "code",
   "execution_count": null,
   "metadata": {},
   "outputs": [],
   "source": [
    "# Month generator\n",
    "# Takes a starting month\n",
    "# Yields following months\n",
    "#\n",
    "def months(m: int) -> int:\n",
    "    '''Generator for the next month''' \n",
    "    while (True):\n",
    "        m = (m % 12) + 1\n",
    "        yield m"
   ]
  },
  {
   "cell_type": "markdown",
   "metadata": {},
   "source": [
    "## In use"
   ]
  },
  {
   "cell_type": "code",
   "execution_count": null,
   "metadata": {},
   "outputs": [],
   "source": [
    "import collections\n",
    "\n",
    "gen = months(7)\n",
    "\n",
    "print(gen)\n",
    "print(type(gen))\n",
    "print(gen.__class__)\n",
    "print(gen.__doc__)\n",
    "print(isinstance(gen, collections.Iterable))\n",
    "print(hasattr(gen, '__iter__'))\n",
    "print()\n",
    "\n",
    "# Get the next 20 months\n",
    "for i in range(20):\n",
    "    print(next(gen))"
   ]
  },
  {
   "cell_type": "markdown",
   "metadata": {},
   "source": [
    "# What will happen here?"
   ]
  },
  {
   "cell_type": "code",
   "execution_count": null,
   "metadata": {},
   "outputs": [],
   "source": [
    "gen = months(7)\n",
    "\n",
    "for i in gen:\n",
    "    print(i)"
   ]
  },
  {
   "cell_type": "markdown",
   "metadata": {},
   "source": [
    "## You will be asked to write a generator that returns /names/ of the months"
   ]
  },
  {
   "cell_type": "markdown",
   "metadata": {},
   "source": [
    "## We can iterate over the lines in a file"
   ]
  },
  {
   "cell_type": "code",
   "execution_count": null,
   "metadata": {},
   "outputs": [],
   "source": [
    "import csv\n",
    " \n",
    "def next_please(filename: str) -> str:\n",
    "    with open(filename, newline='') as File:  \n",
    "        reader = csv.reader(File)\n",
    "        for row in reader:\n",
    "            yield row\n",
    "        \n",
    "gen = next_please('listComp.py')\n",
    "print(type(gen))\n",
    "print(hasattr(gen, '__iter__'))\n",
    "\n",
    "for i in range(10):\n",
    "    print(next(gen))"
   ]
  },
  {
   "cell_type": "code",
   "execution_count": null,
   "metadata": {},
   "outputs": [],
   "source": [
    "for i in range(10):\n",
    "    print(next(gen))"
   ]
  },
  {
   "cell_type": "code",
   "execution_count": null,
   "metadata": {},
   "outputs": [],
   "source": [
    "print(type(gen))"
   ]
  },
  {
   "cell_type": "markdown",
   "metadata": {},
   "source": [
    "## Generator Expressions\n",
    "\n",
    "## A compact way to create a generator\n",
    "\n",
    "## Reminder: List Comprehension"
   ]
  },
  {
   "cell_type": "code",
   "execution_count": null,
   "metadata": {},
   "outputs": [],
   "source": [
    "# Is a list an iterable?\n",
    "import collections\n",
    "\n",
    "lst = [x for x in range(10)]\n",
    "\n",
    "print(lst)\n",
    "print(type(lst))\n",
    "print(lst.__class__)\n",
    "print(lst.__doc__)\n",
    "print()\n",
    "\n",
    "# Can we iterate over a list\n",
    "for i in range(20):\n",
    "    print(next(lst))"
   ]
  },
  {
   "cell_type": "code",
   "execution_count": null,
   "metadata": {},
   "outputs": [],
   "source": [
    "print(isinstance(lst, collections.Iterable))"
   ]
  },
  {
   "cell_type": "markdown",
   "metadata": {},
   "source": [
    "## A list is Iterable, but not itself an iterator"
   ]
  },
  {
   "cell_type": "code",
   "execution_count": null,
   "metadata": {},
   "outputs": [],
   "source": [
    "it = iter(lst)\n",
    "\n",
    "for i in it:\n",
    "    print(i)"
   ]
  },
  {
   "cell_type": "markdown",
   "metadata": {},
   "source": [
    "# We can create a generator expression"
   ]
  },
  {
   "cell_type": "code",
   "execution_count": null,
   "metadata": {},
   "outputs": [],
   "source": [
    "# Rather than a list, create a generator\n",
    "import collections\n",
    "\n",
    "gen = (x for x in range(10))\n",
    "\n",
    "print(gen)\n",
    "print(type(gen))\n",
    "print(gen.__class__)\n",
    "print(gen.__doc__)\n",
    "print(isinstance(gen, collections.Iterable))\n",
    "print(hasattr(gen, '__iter__'))\n",
    "print()\n",
    "\n",
    "# Can we iterate over a generator expression?\n",
    "for i in gen:\n",
    "    print(i)"
   ]
  },
  {
   "cell_type": "markdown",
   "metadata": {},
   "source": [
    "## In use"
   ]
  },
  {
   "cell_type": "code",
   "execution_count": null,
   "metadata": {},
   "outputs": [],
   "source": [
    "gen = (x for x in range(10))\n",
    "\n",
    "while True:\n",
    "    try:\n",
    "        print(next(gen))\n",
    "    except StopIteration:\n",
    "        break"
   ]
  },
  {
   "cell_type": "markdown",
   "metadata": {},
   "source": [
    "## We can fold into utility functions like sum()"
   ]
  },
  {
   "cell_type": "code",
   "execution_count": null,
   "metadata": {},
   "outputs": [],
   "source": [
    "# Add up the first 100 numbers\n",
    "# See https://tinyurl.com/y9foxus9\n",
    "#\n",
    "g = (x for x in range(101))  \n",
    "\n",
    "print(sum(g))"
   ]
  },
  {
   "cell_type": "markdown",
   "metadata": {},
   "source": [
    "## Return to our example of Pythagorean Triples"
   ]
  },
  {
   "cell_type": "code",
   "execution_count": null,
   "metadata": {},
   "outputs": [],
   "source": [
    "pyt = ((x, y, z) \n",
    "           for z in range(30) \n",
    "               for y in range(1, z) \n",
    "                   for x in range(1, y) \n",
    "                       if x*x + y*y == z*z)\n",
    "\n",
    "for t in pyt:\n",
    "    print(t)"
   ]
  },
  {
   "cell_type": "markdown",
   "metadata": {},
   "source": [
    "# Sorting\n",
    "## Sorting out Sorting\n",
    "https://www.youtube.com/watch?v=gv0JUEqaAXo"
   ]
  },
  {
   "cell_type": "markdown",
   "metadata": {},
   "source": [
    "# Wow! That's Fantastic - Memory Usage"
   ]
  },
  {
   "cell_type": "markdown",
   "metadata": {},
   "source": [
    "## Compare memory usage in generators and list comprehensions"
   ]
  },
  {
   "cell_type": "code",
   "execution_count": null,
   "metadata": {},
   "outputs": [],
   "source": [
    "# generator.py\n",
    "#\n",
    "# Compare memory usage of list comprehensions and generators\n",
    "#\n",
    "# Usage:\n",
    "#     Install memory profiler library\n",
    "#         % conda install memory_profiler\n",
    "#\n",
    "#     Run the program with command line option\n",
    "#         % python -m memory_profiler generator.py\n",
    "#     See sample output below\n",
    "\n",
    "limit = 10000             # Number of squares to generate\n",
    "\n",
    "@profile                # Keyword for memory profiler\n",
    "def test(limit: int):\n",
    "    squares = (num ** 2 for num in range(limit))\n",
    "\n",
    "    for val in squares:\n",
    "        print(val)\n",
    "\n",
    "    squares = [num ** 2 for num in range(limit)]\n",
    "\n",
    "    for val in squares:\n",
    "        print(val)\n",
    "\n",
    "test(limit)"
   ]
  },
  {
   "cell_type": "markdown",
   "metadata": {},
   "source": [
    "## To run, must install the memory_profiler library\n",
    "\n",
    "### % conda install memory_profiler"
   ]
  },
  {
   "cell_type": "code",
   "execution_count": null,
   "metadata": {},
   "outputs": [],
   "source": [
    "% conda install memory_profiler\n",
    "... much later ...\n",
    "\n",
    "% python -m memory_profiler generator.py\n",
    "\n",
    "... spits out thousands of squares ...\n",
    "\n",
    "Filename: generator.py\n",
    "\n",
    "Line #    Mem usage    Increment   Line Contents\n",
    "================================================\n",
    "    15   27.469 MiB    0.000 MiB   @profile\t\t# Keyword for memory profiler\n",
    "    16                             def test(limit):\n",
    "    17   27.473 MiB    0.004 MiB       squares = (num ** 2 for num in range(limit))\n",
    "    18                             \n",
    "    19   27.473 MiB    0.000 MiB       for val in squares:\n",
    "    20   27.473 MiB    0.000 MiB           print(val)\n",
    "    21                             \n",
    "    22   27.527 MiB    0.055 MiB       squares = [num ** 2 for num in range(limit)]\n",
    "    23                             \n",
    "    24   27.527 MiB    0.000 MiB       for val in squares:\n",
    "    25   27.527 MiB    0.000 MiB           print(val)\n"
   ]
  },
  {
   "cell_type": "markdown",
   "metadata": {},
   "source": [
    "## The list takes far more memory than the generator"
   ]
  },
  {
   "cell_type": "markdown",
   "metadata": {},
   "source": [
    "## How much memory does a Dictionary use?"
   ]
  },
  {
   "cell_type": "code",
   "execution_count": null,
   "metadata": {},
   "outputs": [],
   "source": [
    "Line #    Mem usage    Increment   Line Contents\n",
    "================================================\n",
    "    18   27.820 MiB    0.000 MiB   @profile\n",
    "    19                             def build_dict(fin):\n",
    "    20   27.820 MiB    0.000 MiB       words = {}\n",
    "    21\n",
    "    22                                 # Take each line, strip \\n, add to dictionary\n",
    "    23   42.719 MiB   14.898 MiB       for word in fin:\n",
    "    24   42.719 MiB    0.000 MiB           word = word.strip()\n",
    "    25\n",
    "    26                                     # Dictionary as a Set idiom\n",
    "    27                                     # Add to our set of words\n",
    "    28   42.719 MiB    0.000 MiB           words[word] = None\n",
    "    29\n",
    "    30   42.719 MiB    0.000 MiB       return words\n",
    "\n",
    "\n",
    "Filename: doublesMemory.py\n",
    "\n",
    "Line #    Mem usage    Increment   Line Contents\n",
    "================================================\n",
    "    36   42.910 MiB    0.000 MiB   @profile\n",
    "    37                             def find_doubles(word):\n",
    "    38   42.910 MiB    0.000 MiB       doubles = []\n",
    "    39   42.910 MiB    0.000 MiB       for pos in range(len(word) - 1):\n",
    "    40   42.910 MiB    0.000 MiB           if word[pos] == word[pos+1]:\n",
    "    41   42.910 MiB    0.000 MiB               doubles.append(pos)\n",
    "    42\n",
    "    43   42.910 MiB    0.000 MiB       return doubles\n",
    "\n",
    "Filename: doublesMemory.py\n",
    "\n",
    "Line #    Mem usage    Increment   Line Contents\n",
    "================================================\n",
    "    48   42.719 MiB    0.000 MiB   @profile\n",
    "    49                             def build_list(d):\n",
    "    50   42.719 MiB    0.000 MiB       res = []\n",
    "    51\n",
    "    52                                 # Take each word in the dictionary, and see if we can find a pair\n",
    "    53   42.910 MiB    0.191 MiB       for word in d:\n",
    "    54   42.910 MiB    0.000 MiB           positions = find_doubles(word)\n",
    "    55   42.910 MiB    0.000 MiB           for pos in positions:\n",
    "    56   42.910 MiB    0.000 MiB               cand = word[:pos] + word[pos+2:]\n",
    "    57   42.910 MiB    0.000 MiB               if (cand in d):\n",
    "    58   42.910 MiB    0.000 MiB                   res.append([word, cand])\n",
    "    59\n",
    "    60   42.910 MiB    0.000 MiB       return res\n",
    "\n",
    "Filename: doublesMemory.py\n",
    "\n",
    "Line #    Mem usage    Increment   Line Contents\n",
    "================================================\n",
    "    65   27.820 MiB    0.000 MiB   @profile\n",
    "    66                             def find_pairs(fin):\n",
    "    67                                 # Build a dictionary of all words\n",
    "    68   42.719 MiB   14.898 MiB       d = build_dict(fin)\n",
    "    69\n",
    "    70                                 # Filter for words that appear again when we strip a pair of double letters\n",
    "    71   42.910 MiB    0.191 MiB       lst = build_list(d)\n",
    "    72\n",
    "    73                                 # Sort the list\n",
    "    74   42.910 MiB    0.000 MiB       lst.sort()\n",
    "    75\n",
    "    76   42.910 MiB    0.000 MiB       return lst"
   ]
  },
  {
   "cell_type": "markdown",
   "metadata": {},
   "source": [
    "## Another way to generate sizes"
   ]
  },
  {
   "cell_type": "code",
   "execution_count": null,
   "metadata": {},
   "outputs": [],
   "source": [
    "# generator2.py\n",
    "# \n",
    "# Compare memory usage of list comprehensions and generators\n",
    "#\n",
    "# Usage:\n",
    "#      % python generator2.py\n",
    "\n",
    "import sys\n",
    "\n",
    "limit = 10000              # Number of squares to generate\n",
    "\n",
    "\n",
    "def test(limit: int):\n",
    "    # Generator\n",
    "    squares = (num ** 2 for num in range(limit))\n",
    "    print(\"Size of generator\", sys.getsizeof(squares)) ####\n",
    "\n",
    "    sum = 0\n",
    "    for val in squares:\n",
    "        sum = sum + val\n",
    "    print(sum)\n",
    "\n",
    "    # List comprehension\n",
    "    squares = [num ** 2 for num in range(limit)]\n",
    "    print(\"Size of List\", sys.getsizeof(squares)) ####\n",
    "\n",
    "    sum = 0\n",
    "    for val in squares:\n",
    "        sum = sum + val\n",
    "    print(sum)"
   ]
  },
  {
   "cell_type": "markdown",
   "metadata": {},
   "source": [
    "## Sample output"
   ]
  },
  {
   "cell_type": "code",
   "execution_count": null,
   "metadata": {},
   "outputs": [],
   "source": [
    "! python generator2.py "
   ]
  },
  {
   "cell_type": "markdown",
   "metadata": {},
   "source": [
    "```python\n",
    "Size of generator\t 120\n",
    "333283335000\n",
    "Size of List\t\t 87624\n",
    "333283335000\n",
    "```"
   ]
  }
 ],
 "metadata": {
  "kernelspec": {
   "display_name": "Python 3",
   "language": "python",
   "name": "python3"
  },
  "language_info": {
   "codemirror_mode": {
    "name": "ipython",
    "version": 3
   },
   "file_extension": ".py",
   "mimetype": "text/x-python",
   "name": "python",
   "nbconvert_exporter": "python",
   "pygments_lexer": "ipython3",
   "version": "3.8.1"
  }
 },
 "nbformat": 4,
 "nbformat_minor": 1
}
