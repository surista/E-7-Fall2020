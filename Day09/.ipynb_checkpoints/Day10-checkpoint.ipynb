{
 "cells": [
  {
   "cell_type": "markdown",
   "metadata": {},
   "source": [
    "# Introduction to Programming with Python\n",
    "# Day 10 Notebook -  Inheritance\n",
    "# Fall 2019 - (c) Jeff Parker "
   ]
  },
  {
   "cell_type": "markdown",
   "metadata": {},
   "source": [
    "# 1) Point\n",
    "\n",
    "Modify class Point defined below to provide working versions of __str__() and __eq__().\n",
    "\n",
    "Edit the class so that two Points with the same x and y are the same, and so that points are printed as tuples.\n",
    "\n",
    "## Printing\n",
    "\n",
    "```python\n",
    "one = Point(3, 4)\n",
    "print(one)\n",
    "```\n",
    "### Should produce:\n",
    "```python\n",
    "(3, 4)\n",
    "```\n",
    "\n",
    "## Double Equals\n",
    "\n",
    "```python\n",
    "one = Point(3, 4)\n",
    "two = Point(3, 4)\n",
    "print(one == two)\n",
    "```\n",
    "### Should produce:\n",
    "```python\n",
    "True\n",
    "```"
   ]
  },
  {
   "cell_type": "markdown",
   "metadata": {},
   "source": [
    "## Unit Test for Point"
   ]
  },
  {
   "cell_type": "code",
   "execution_count": null,
   "metadata": {},
   "outputs": [],
   "source": [
    "p = Point(3, 4)\n",
    "assert(p.__str__() == '(3, 4)')\n",
    "\n",
    "q = Point(3, 4)\n",
    "assert(p == q)\n",
    "\n",
    "print('Pass')"
   ]
  },
  {
   "cell_type": "markdown",
   "metadata": {},
   "source": [
    "# 2) Collatz sequence\n",
    "\n",
    "The Collatz sequence, also know as the Hailstone sequence, is a sequence of numbers.\n",
    "\n",
    "If the current number is n, the next number is n / 2 if n is even, and 3n + 1 if n is odd. \n",
    "\n",
    "It has not been shown that there isn't a sequence which never repeats.  \n",
    "All known sequences end by repeating 4, 2, 1, 4, 2, 1, ...   \n",
    "\n",
    "Write a generator collatz(n) that starts at n and generates the rest of the sequence down to 1.  \n",
    "Your generator should raise a StopIteration exception after yielding 1.  "
   ]
  },
  {
   "cell_type": "markdown",
   "metadata": {},
   "source": [
    "## Unit Tests"
   ]
  },
  {
   "cell_type": "code",
   "execution_count": null,
   "metadata": {},
   "outputs": [],
   "source": [
    "g = collatz(4)\n",
    "lst = [n for n in g]\n",
    "assert(lst == [4, 2, 1])\n",
    "print(\"Pass\")"
   ]
  },
  {
   "cell_type": "code",
   "execution_count": null,
   "metadata": {},
   "outputs": [],
   "source": [
    "g = collatz(11)\n",
    "lst = [n for n in g]\n",
    "assert(lst == [11, 34, 17, 52, 26, 13, 40, 20, 10, 5, 16, 8, 4, 2, 1])\n",
    "print(\"Pass\")"
   ]
  },
  {
   "cell_type": "code",
   "execution_count": null,
   "metadata": {},
   "outputs": [],
   "source": [
    "g = collatz(29)\n",
    "lst = [n for n in g]\n",
    "assert(lst == [29, 88, 44, 22, 11, 34, 17, 52, 26, 13, 40, 20, 10, 5, 16, 8, 4, 2, 1])\n",
    "print(\"Pass\")"
   ]
  },
  {
   "cell_type": "markdown",
   "metadata": {},
   "source": [
    "# 3) Next Month\n",
    "\n",
    "Write a generator that will return a sequence of month names.  Thus\n",
    "\n",
    "    it = next_month('October')\n",
    "    \n",
    "creates a generator that generates the strings 'November', 'December', 'January' and so on.  \n",
    "If the caller supplies an illegal month name, your function should raise a ValueError exception.  "
   ]
  },
  {
   "cell_type": "markdown",
   "metadata": {},
   "source": [
    "## The Amen Corner\n",
    "\n",
    "I've been struggling a lot with this one too (among all the others). Here are a few things that helped me get through it:\n",
    "\n",
    "Don't yield until you have everything working/ printing the way you need. \n",
    "This is kind of step 3\n",
    "\n",
    "Don't worry about raising an error until you have everything working/ printing.  \n",
    "This is kind of step 4\n",
    "\n",
    "To get your program to work/ print, think about how you would solve the problem in real life (or in other aspects of real life). \n",
    "This is kind of step 2\n",
    "\n",
    "When you count numbers, how do you loop to count again? \n",
    "How does music loop?\n",
    "\n",
    "What logical/ arithmatical mechanics are being used? \n",
    "\n",
    "Think about everything, and I mean EVERYTHING, you do as a series of sorted steps. That's basically algorithmic thinking. \n",
    "\n",
    "I've found it most frustrating trying to make someone else's (incorrect/ incomplete) code to work for me. \n",
    "\n",
    "Wiping out all bugs (starting over with a clean slate) can help clear your mind and misguided logic. \n",
    "\n",
    "Hang in there. I definitely feel your pain, but I think it's all a part of the process. I thought there was no hope for me in the beginning, and while I still struggle at every step, the process is becoming manageable. And I have no problem walking away from an incomplete problem if I tried my best. But I make sure I review all unfinished problems carefully with the answer provided the following week to understand the gaps and steps. \n",
    "\n",
    "Good luck!  "
   ]
  },
  {
   "cell_type": "markdown",
   "metadata": {},
   "source": [
    "## What is wrong with this?"
   ]
  },
  {
   "cell_type": "markdown",
   "metadata": {},
   "source": [
    "```python\n",
    "For example, why do I have to do:\n",
    "\n",
    "gend = next_month('december')\n",
    "lst = [next(gend) for i in range(15)]\n",
    "\n",
    "instead of being able to do:\n",
    "\n",
    "lst = [next(next_month('december')) for i in range(15)]\n",
    "```"
   ]
  },
  {
   "cell_type": "markdown",
   "metadata": {},
   "source": [
    "## Let's try it"
   ]
  },
  {
   "cell_type": "code",
   "execution_count": null,
   "metadata": {},
   "outputs": [],
   "source": [
    "[ next(next_month('december')) for i in range(5) ]"
   ]
  },
  {
   "cell_type": "markdown",
   "metadata": {},
   "source": [
    "## Can we make this work?"
   ]
  },
  {
   "cell_type": "code",
   "execution_count": null,
   "metadata": {},
   "outputs": [],
   "source": [
    "gen = next_month('December')\n",
    "\n",
    "[ next(gen) for i in range(5) ]"
   ]
  },
  {
   "cell_type": "markdown",
   "metadata": {},
   "source": [
    "## Unit Tests"
   ]
  },
  {
   "cell_type": "code",
   "execution_count": null,
   "metadata": {},
   "outputs": [],
   "source": [
    "gen = next_month('October')\n",
    "lst = [next(gen) for i in range(15)]\n",
    "assert(lst == ['November', 'December', 'January', 'February', 'March', 'April', 'May', 'June', 'July', 'August', 'September', 'October', 'November', 'December', 'January'])\n",
    "print('Pass')"
   ]
  },
  {
   "cell_type": "markdown",
   "metadata": {},
   "source": [
    "## January..."
   ]
  },
  {
   "cell_type": "code",
   "execution_count": null,
   "metadata": {},
   "outputs": [],
   "source": [
    "gen = next_month('january')\n",
    "print('Pass')"
   ]
  },
  {
   "cell_type": "code",
   "execution_count": null,
   "metadata": {},
   "outputs": [],
   "source": [
    "lst = [next(gen) for i in range(5)]\n",
    "print(lst)\n",
    "print('Pass')"
   ]
  },
  {
   "cell_type": "markdown",
   "metadata": {},
   "source": [
    "## Need to deal with non-standard version\n"
   ]
  },
  {
   "cell_type": "code",
   "execution_count": null,
   "metadata": {},
   "outputs": [],
   "source": [
    "gen = next_month('january')\n",
    "lst = [next(gen) for i in range(5)]\n",
    "print(lst)\n",
    "print('Pass')"
   ]
  },
  {
   "cell_type": "markdown",
   "metadata": {},
   "source": [
    "### The following should raise a ValueError with text explaining the problem"
   ]
  },
  {
   "cell_type": "code",
   "execution_count": null,
   "metadata": {},
   "outputs": [],
   "source": [
    "gen = next_month('Thermador')\n",
    "\n",
    "m = next(gen)"
   ]
  },
  {
   "cell_type": "markdown",
   "metadata": {},
   "source": [
    "## Produces\n",
    "```python\n",
    "ValueError: Month Thermador unknown\n",
    "```"
   ]
  },
  {
   "cell_type": "markdown",
   "metadata": {},
   "source": [
    "# 4) Phone Numbers\n",
    "\n",
    "Modify the class below that takes a string and returns an object holding a valid NANP phone number. \n",
    "You will need to fill in the three methods listed, but underfined, below: \\_\\_str\\_\\_(), area_code(), and normalize().   \n",
    "\n",
    "The \"North American Numbering Plan\" (NANP) is a telephone numbering system used by many countries in \n",
    "North America. All NANP-countries share the same international country code: `1`.\n",
    "\n",
    "NANP numbers are ten-digit numbers consisting of a three-digit area code and a seven-digit local number. \n",
    "The first three digits of the local number are the \"exchange code\", \n",
    "and the four-digit number which follows is the \"subscriber number\".\n",
    "\n",
    "The format is usually represented as (NXX)-NXX-XXXX where `N` is any digit from \n",
    "2 through 9 and `X` is any digit from 0 through 9.\n",
    "\n",
    "Your task is to clean up differently formatted telephone numbers by removing \n",
    "punctuation, such as '(', '-', and the like, and removing and the country code (1) if present.  \n",
    "\n",
    "Start by stripping non-digits, and then see if the digits match the pattern.\n",
    "If you are asked to create a phone number that does not meet the pattern above, \n",
    "you should throw a ValueError with a string explaining the problem: \n",
    "too many or too few digits, or the wrong digits.  \n",
    "\n",
    "For example, the strings below \n",
    "\n",
    "+1 (617) 495-4024\n",
    "\n",
    "617-495-4024\n",
    "\n",
    "1 617 495 4024\n",
    "\n",
    "617.495.4024\n",
    "\n",
    "should all produce an object that is printed as (617) 495-4024\n",
    "\n",
    "### ValueErrors\n",
    "\n",
    "Each of the following strings should produce a ValueError exception.  \n",
    "\n",
    "+1 (617) 495-40247 has too many digits\n",
    "\n",
    "(617) 495-402 has too few digits\n",
    "\n",
    "+2 (617) 495-4024 has the wrong country code\n",
    "\n",
    "(017) 495-4024 has an illegal area code\n",
    "\n",
    "(617) 195-4024 has an illegal exchange code"
   ]
  },
  {
   "cell_type": "markdown",
   "metadata": {},
   "source": [
    "## Digit avoid\n",
    "```python\n",
    "    for digit in raw:          # iterates over raw  \n",
    "        if digit not in avoid:\n",
    "            number = number + digit\n",
    "```\n",
    "## Rather than say what shouldn't be there\n",
    "## Often simpler to pick the things that should be there\n",
    "\n",
    "```python\n",
    "[d for d in raw if d.isdigit()]\n",
    "```"
   ]
  },
  {
   "cell_type": "markdown",
   "metadata": {},
   "source": [
    "## Unit test this fails\n",
    "```python\n",
    "p = Phone('(017) 495-4024')\n",
    "```"
   ]
  },
  {
   "cell_type": "markdown",
   "metadata": {},
   "source": [
    "## Sometimes you're the windshield"
   ]
  },
  {
   "cell_type": "markdown",
   "metadata": {},
   "source": [
    "## Unit Tests for Phone Number"
   ]
  },
  {
   "cell_type": "code",
   "execution_count": null,
   "metadata": {},
   "outputs": [],
   "source": [
    "def test_valid():\n",
    "    p = Phone('+1 (617) 495-4024')\n",
    "    assert(p.__str__() == '(617) 495-4024')\n",
    "\n",
    "    p = Phone('617-495-4024')\n",
    "    assert(p.__str__() == '(617) 495-4024')\n",
    "\n",
    "    p = Phone('1 617 495 4024')\n",
    "    assert(p.__str__() == '(617) 495-4024')\n",
    "\n",
    "    p = Phone('617.495.4024')\n",
    "    assert(p.__str__() == '(617) 495-4024')\n",
    "    assert(p.area_code() == '617')\n",
    "    \n",
    "\n",
    "    p = Phone('+1 (508) 495  4024')\n",
    "    assert(p.__str__() == '(508) 495-4024')\n",
    "\n",
    "    p = Phone('508 - 495 - 4024')\n",
    "    assert(p.__str__() == '(508) 495-4024')\n",
    "\n",
    "    p = Phone('1 508 (495) [4024]')\n",
    "    assert(p.__str__() == '(508) 495-4024')\n",
    "\n",
    "    p = Phone('508!495?4024')\n",
    "    assert(p.__str__() == '(508) 495-4024')\n",
    "    assert(p.area_code() == '508')\n",
    "\n",
    "    \n",
    "    print(\"Pass\")\n",
    "    \n",
    "test_valid()"
   ]
  },
  {
   "cell_type": "markdown",
   "metadata": {},
   "source": [
    "## Unit Tests for invalid numbers - each should raise a ValueError"
   ]
  },
  {
   "cell_type": "code",
   "execution_count": null,
   "metadata": {},
   "outputs": [],
   "source": [
    "p = Phone('+1 (617) 495-40247')"
   ]
  },
  {
   "cell_type": "code",
   "execution_count": null,
   "metadata": {},
   "outputs": [],
   "source": [
    "p = Phone('(617) 495-402')"
   ]
  },
  {
   "cell_type": "code",
   "execution_count": null,
   "metadata": {},
   "outputs": [],
   "source": [
    "p = Phone('+2 (617) 495-4024')"
   ]
  },
  {
   "cell_type": "code",
   "execution_count": null,
   "metadata": {},
   "outputs": [],
   "source": [
    "p = Phone('(017) 495-4024')"
   ]
  },
  {
   "cell_type": "code",
   "execution_count": null,
   "metadata": {},
   "outputs": [],
   "source": [
    "p = Phone('(617) 195-4024')"
   ]
  },
  {
   "cell_type": "markdown",
   "metadata": {},
   "source": [
    "# People\n",
    "\n",
    "Person is a class that defines a citizen with a name.\n",
    "Students and Employees are subclasses of Persons."
   ]
  },
  {
   "cell_type": "code",
   "execution_count": null,
   "metadata": {},
   "outputs": [],
   "source": [
    "class Person:\n",
    "\n",
    "    def __init__(self, first, last):\n",
    "        self.firstname = first\n",
    "        self.lastname = last\n",
    "\n",
    "    def __str__(self):\n",
    "        return self.firstname + \" \" + self.lastname\n",
    "\n",
    "    def is_employed(self):\n",
    "        return False"
   ]
  },
  {
   "cell_type": "code",
   "execution_count": null,
   "metadata": {},
   "outputs": [],
   "source": [
    "man = Person(\"Homer\", \"Simpson\")\n",
    "print(man)"
   ]
  },
  {
   "cell_type": "markdown",
   "metadata": {},
   "source": [
    "## Is Homer employed?"
   ]
  },
  {
   "cell_type": "code",
   "execution_count": null,
   "metadata": {},
   "outputs": [],
   "source": [
    "man.is_employed()"
   ]
  },
  {
   "cell_type": "code",
   "execution_count": null,
   "metadata": {},
   "outputs": [],
   "source": [
    "clone = Person(\"Homer\", \"Simpson\")\n",
    "print(man)"
   ]
  },
  {
   "cell_type": "code",
   "execution_count": null,
   "metadata": {},
   "outputs": [],
   "source": [
    "man == clone"
   ]
  },
  {
   "cell_type": "markdown",
   "metadata": {},
   "source": [
    "## Define \\_\\_eq\\_\\_()"
   ]
  },
  {
   "cell_type": "code",
   "execution_count": null,
   "metadata": {},
   "outputs": [],
   "source": [
    "class Person:\n",
    "\n",
    "    def __init__(self, first, last):\n",
    "        self.firstname = first\n",
    "        self.lastname = last\n",
    "\n",
    "    def __str__(self):\n",
    "        return self.firstname + \" \" + self.lastname\n",
    "\n",
    "    def __eq__(self, other):\n",
    "        return (self.firstname == other.firstname) \\\n",
    "            and (self.lastname == other.lastname)\n",
    "\n",
    "    def is_employed(self):\n",
    "        return False"
   ]
  },
  {
   "cell_type": "code",
   "execution_count": null,
   "metadata": {},
   "outputs": [],
   "source": [
    "man == clone"
   ]
  },
  {
   "cell_type": "markdown",
   "metadata": {},
   "source": [
    "## Redefine man and clone"
   ]
  },
  {
   "cell_type": "code",
   "execution_count": null,
   "metadata": {},
   "outputs": [],
   "source": [
    "man = Person(\"Homer\", \"Simpson\")\n",
    "print(man)\n",
    "clone = Person(\"Homer\", \"Simpson\")\n",
    "print(clone)"
   ]
  },
  {
   "cell_type": "code",
   "execution_count": null,
   "metadata": {},
   "outputs": [],
   "source": [
    "man == clone"
   ]
  },
  {
   "cell_type": "code",
   "execution_count": null,
   "metadata": {},
   "outputs": [],
   "source": [
    "clone = Person(\"homer\", \"Simpson\")\n",
    "print(clone)\n",
    "man == clone"
   ]
  },
  {
   "cell_type": "markdown",
   "metadata": {},
   "source": [
    "## What can we do?\n",
    "\n",
    "Need to make this return True\n",
    "\n",
    "Could store everything as lowercase\n",
    "\n",
    "What happens when we need to print?\n",
    "\n",
    "Store in canonical form - capitalize()"
   ]
  },
  {
   "cell_type": "markdown",
   "metadata": {},
   "source": [
    "# We can subclass Person"
   ]
  },
  {
   "cell_type": "code",
   "execution_count": null,
   "metadata": {},
   "outputs": [],
   "source": [
    "class Student(Person):\n",
    "    \"Person who is a student\"\n",
    "\n",
    "    def __init__(self, first, last, school, id):\n",
    "        # Call Superclass to set common information\n",
    "        super().__init__(first, last)\n",
    "        self.school = school\n",
    "        self.id = id\n",
    "\n",
    "    def __str__(self):\n",
    "        # Call Superclass to dispaly common information\n",
    "        return super().__str__() + \", \" + str(self.id) + ' at ' + self.school"
   ]
  },
  {
   "cell_type": "code",
   "execution_count": null,
   "metadata": {},
   "outputs": [],
   "source": [
    "woman = Student(\"Lisa\", \"Simpson\", \"MIT\", 1007) \n",
    "print(woman)"
   ]
  },
  {
   "cell_type": "code",
   "execution_count": null,
   "metadata": {},
   "outputs": [],
   "source": [
    "woman2 = Student(\"Lisa\", \"Simpson\", \"Simmons\", 507) \n",
    "print(woman2)"
   ]
  },
  {
   "cell_type": "code",
   "execution_count": null,
   "metadata": {},
   "outputs": [],
   "source": [
    "woman == woman2"
   ]
  },
  {
   "cell_type": "markdown",
   "metadata": {},
   "source": [
    "## Need to override equals"
   ]
  },
  {
   "cell_type": "code",
   "execution_count": null,
   "metadata": {},
   "outputs": [],
   "source": [
    "class Student(Person):\n",
    "    \"Person who is a student\"\n",
    "\n",
    "    def __init__(self, first, last, school, id):\n",
    "        # Call Superclass to set common information\n",
    "        super().__init__(first, last)\n",
    "        self.school = school\n",
    "        self.id = id\n",
    "\n",
    "    def __str__(self):\n",
    "        # Call Superclass to dispaly common information\n",
    "        return super().__str__() + \", \" + str(self.id) + ' at ' + self.school\n",
    "\n",
    "    def __eq__(self, other):\n",
    "        return super().__eq__(other) and (self.school == other.school) \\\n",
    "            and (self.id == other.id)"
   ]
  },
  {
   "cell_type": "code",
   "execution_count": null,
   "metadata": {},
   "outputs": [],
   "source": [
    "woman = Student(\"Lisa\", \"Simpson\", \"MIT\", 1007) \n",
    "print(woman)"
   ]
  },
  {
   "cell_type": "code",
   "execution_count": null,
   "metadata": {},
   "outputs": [],
   "source": [
    "woman2 = Student(\"Lisa\", \"Simpson\", \"Simmons\", 507) \n",
    "print(woman2)"
   ]
  },
  {
   "cell_type": "code",
   "execution_count": null,
   "metadata": {},
   "outputs": [],
   "source": [
    "woman == woman2"
   ]
  },
  {
   "cell_type": "markdown",
   "metadata": {},
   "source": [
    "## Employee\n"
   ]
  },
  {
   "cell_type": "code",
   "execution_count": null,
   "metadata": {},
   "outputs": [],
   "source": [
    "class Employee(Person):\n",
    "    \"Person who is employed\"\n",
    "    def __init__(self, first, last, company, id):\n",
    "        pass"
   ]
  },
  {
   "cell_type": "code",
   "execution_count": null,
   "metadata": {},
   "outputs": [],
   "source": [
    "moe = Employee(\"Moe\", \"Szyslak\", 'Tavern', 153)\n",
    "print(moe)"
   ]
  },
  {
   "cell_type": "markdown",
   "metadata": {},
   "source": [
    "```python\n",
    "AttributeError: 'Employee' object has no attribute 'firstname'\n",
    "```\n",
    "\n",
    "### We need to call the super class, as before"
   ]
  },
  {
   "cell_type": "code",
   "execution_count": null,
   "metadata": {},
   "outputs": [],
   "source": [
    "class Employee(Person):\n",
    "    \"Person who is employed\"\n",
    "    def __init__(self, first, last, company, id):\n",
    "        # Call Superclass to set common information\n",
    "        super().__init__(first, last)"
   ]
  },
  {
   "cell_type": "code",
   "execution_count": null,
   "metadata": {},
   "outputs": [],
   "source": [
    "moe = Employee(\"Moe\", \"Szyslak\", 'Tavern', 153)\n",
    "print(moe)"
   ]
  },
  {
   "cell_type": "code",
   "execution_count": null,
   "metadata": {},
   "outputs": [],
   "source": [
    "def find_defining_class(obj, meth_name):\n",
    "    for ty in type(obj).mro():\n",
    "        if meth_name in ty.__dict__:\n",
    "            return ty\n",
    "\n",
    "print(find_defining_class(moe, \"__str__\"))"
   ]
  },
  {
   "cell_type": "markdown",
   "metadata": {},
   "source": [
    "## You need to print id and company - override \\_\\_str\\_\\_()"
   ]
  },
  {
   "cell_type": "markdown",
   "metadata": {},
   "source": [
    "## What happens when I compare two classes?"
   ]
  },
  {
   "cell_type": "code",
   "execution_count": null,
   "metadata": {},
   "outputs": [],
   "source": [
    "woman == moe"
   ]
  },
  {
   "cell_type": "markdown",
   "metadata": {},
   "source": [
    "## Of course!  Their names are different!"
   ]
  },
  {
   "cell_type": "code",
   "execution_count": null,
   "metadata": {},
   "outputs": [],
   "source": [
    "moe2 = Student(\"Moe\", \"Szyslak\", 'BC', 153)\n",
    "print(moe)\n",
    "print(moe2)"
   ]
  },
  {
   "cell_type": "code",
   "execution_count": null,
   "metadata": {},
   "outputs": [],
   "source": [
    "moe == moe2"
   ]
  },
  {
   "cell_type": "code",
   "execution_count": null,
   "metadata": {},
   "outputs": [],
   "source": [
    "moe2 == moe"
   ]
  },
  {
   "cell_type": "markdown",
   "metadata": {},
   "source": [
    "## We need type based dispatch\n",
    "### Remember how we handled '+' in Time\n",
    "```python\n",
    "    def __add__(self, other):\n",
    "        \"\"\"Adds two Time objects or a Time object and a number.\n",
    "\n",
    "        other: Time object or number of seconds\n",
    "        \"\"\"\n",
    "        if isinstance(other, Time):\n",
    "            return self.add_time(other)\n",
    "        else:\n",
    "            return self.increment(other)\n",
    "```"
   ]
  },
  {
   "cell_type": "markdown",
   "metadata": {},
   "source": [
    "### Can a student be equal to an employee?\n",
    "### Can an employee be equal to a student?"
   ]
  },
  {
   "cell_type": "markdown",
   "metadata": {},
   "source": [
    "## Unit Tests for Person"
   ]
  },
  {
   "cell_type": "code",
   "execution_count": null,
   "metadata": {},
   "outputs": [],
   "source": [
    "def test_person():\n",
    "    # People\n",
    "    man1 = Person(\"Homer\", \"Simpson\")\n",
    "    man2 = Person(\"homer\", \"simpson\")\n",
    "    assert man1 == man2\n",
    "    assert not man1.is_employed()\n",
    "    assert man1.__str__() == 'Homer Simpson'\n",
    "    assert man2.__str__() == 'Homer Simpson'\n",
    "    \n",
    "    # Students\n",
    "    woman1 = Student(\"Marge\", \"Simpson\", 'Simmons', 107)\n",
    "    woman2 = Student(\"Marge\", \"Simpson\", 'Wheelock', 153)\n",
    "    assert woman1.__str__() == \"Marge Simpson, 107 at Simmons\"\n",
    "    assert woman2.__str__() == \"Marge Simpson, 153 at Wheelock\"\n",
    "    assert not woman1 == woman2\n",
    "\n",
    "    # Employees\n",
    "    moe1 = Employee(\"Moe\", \"Szyslak\", 'Tavern', 153)\n",
    "    assert moe1.__str__() == \"Moe Szyslak, 153 at Tavern\"\n",
    "    assert not moe1 == woman2\n",
    "\n",
    "    moe = Employee(\"Moe\", \"Szyslak\", 'Tavern', 153)\n",
    "    assert moe.__str__() == \"Moe Szyslak, 153 at Tavern\"\n",
    "    assert not moe == woman2\n",
    "\n",
    "    waylon = Employee(\"Waylon\", \"Smithers\", \"Springfield Power\", 2)\n",
    "    assert not moe == waylon\n",
    "   \n",
    "    # Cross Check\n",
    "    moe2 = Student(\"Moe\", \"Szyslak\", 'BC', 153)\n",
    "    assert moe2.__str__() == \"Moe Szyslak, 153 at BC\"\n",
    "    assert not moe == moe2\n",
    "    assert not moe2 == moe\n",
    "\n",
    "    print(\"Pass\")\n",
    "    \n",
    "test_person()"
   ]
  },
  {
   "cell_type": "markdown",
   "metadata": {
    "collapsed": true
   },
   "source": [
    "# Class Attributes and Methods"
   ]
  },
  {
   "cell_type": "code",
   "execution_count": null,
   "metadata": {},
   "outputs": [],
   "source": [
    "class Person:\n",
    "    count = 0               # Class attribute\n",
    "    \n",
    "    def __init__(self, first, last):\n",
    "        self.firstname = first\n",
    "        self.lastname = last\n",
    "        Person.count += 1     #########\n",
    "\n",
    "    def __str__(self):\n",
    "        return self.firstname + \" \" + self.lastname\n",
    "\n",
    "    def __eq__(self, other):\n",
    "        return (self.firstname == other.firstname) \\\n",
    "            and (self.lastname == other.lastname)\n",
    "\n",
    "    def is_employed(self):\n",
    "        return False\n",
    "\n",
    "    @classmethod             ###########\n",
    "    def population(cls):\n",
    "        return cls.count"
   ]
  },
  {
   "cell_type": "code",
   "execution_count": null,
   "metadata": {},
   "outputs": [],
   "source": [
    "for i in range(10):\n",
    "    man  = Person(\"Homer\", \"Simpson\")"
   ]
  },
  {
   "cell_type": "code",
   "execution_count": null,
   "metadata": {},
   "outputs": [],
   "source": [
    "    print(Person.population())"
   ]
  },
  {
   "cell_type": "code",
   "execution_count": null,
   "metadata": {},
   "outputs": [],
   "source": [
    "print(man.__dict__)"
   ]
  },
  {
   "cell_type": "code",
   "execution_count": null,
   "metadata": {},
   "outputs": [],
   "source": [
    "print(Person.__dict__)"
   ]
  },
  {
   "cell_type": "code",
   "execution_count": null,
   "metadata": {},
   "outputs": [],
   "source": [
    "print(Person.__dict__['count'])"
   ]
  },
  {
   "cell_type": "markdown",
   "metadata": {},
   "source": [
    "# Paint and Inversion of Control\n",
    "```python\n",
    "            tdemo_paint.py\n",
    "\n",
    "A simple  event-driven paint program\n",
    "\n",
    "- left mouse button moves turtle\n",
    "- middle mouse button changes color\n",
    "- right mouse button toogles betweem pen up\n",
    "(no line drawn when the turtle moves) and\n",
    "pen down (line is drawn). If pen up follows\n",
    "at least two pen-down moves, the polygon that\n",
    "includes the starting point is filled.\n",
    " -------------------------------------------\n",
    " Play around by clicking into the canvas\n",
    " using all three mouse buttons.\n",
    " -------------------------------------------\n",
    "          To exit press STOP button\n",
    " -------------------------------------------\n",
    "```"
   ]
  },
  {
   "cell_type": "code",
   "execution_count": null,
   "metadata": {},
   "outputs": [],
   "source": [
    "from turtle import *\n",
    "\n",
    "\n",
    "def switchupdown(x=0, y=0):\n",
    "    if pen()[\"pendown\"]:\n",
    "        end_fill()\n",
    "        up()\n",
    "    else:\n",
    "        down()\n",
    "        begin_fill()\n",
    "\n",
    "\n",
    "def changecolor(x=0, y=0):\n",
    "    global colors\n",
    "\n",
    "    # Rotate the list\n",
    "    colors = colors[1:]+colors[:1]\n",
    "\n",
    "    # Set a new color\n",
    "    color(colors[0])\n",
    "\n",
    "\n",
    "def main():\n",
    "    # Initialize the pen\n",
    "    global colors\n",
    "    shape(\"circle\")\n",
    "    resizemode(\"user\")\n",
    "    shapesize(2)\n",
    "    width(3)\n",
    "\n",
    "    # Set the colors\n",
    "    colors = [\"red\", \"green\", \"blue\", \"yellow\"]\n",
    "    color(colors[0])\n",
    "\n",
    "    switchupdown()\n",
    "\n",
    "    # Set the callbacks for the three buttons\n",
    "    onscreenclick(goto, 1)\n",
    "    onscreenclick(changecolor, 2)\n",
    "    onscreenclick(switchupdown, 3)\n",
    "    return \"EVENTLOOP\"\n",
    "\n",
    "\n",
    "msg = main()\n",
    "print(msg)\n",
    "mainloop()"
   ]
  },
  {
   "cell_type": "markdown",
   "metadata": {},
   "source": [
    "## Add some primitive tracking\n",
    "## Using Debugger is much more powerful"
   ]
  },
  {
   "cell_type": "code",
   "execution_count": null,
   "metadata": {},
   "outputs": [],
   "source": [
    "from turtle import *\n",
    "\n",
    "\n",
    "def switchupdown(x=0, y=0):\n",
    "    print(\"Switch Pen\")    \n",
    "    if pen()[\"pendown\"]:\n",
    "        end_fill()\n",
    "        up()\n",
    "    else:\n",
    "        down()\n",
    "        begin_fill()\n",
    "\n",
    "\n",
    "def changecolor(x=0, y=0):\n",
    "    global colors\n",
    "\n",
    "    print(\"Change Color\")\n",
    "    # Rotate the list\n",
    "    colors = colors[1:]+colors[:1]\n",
    "\n",
    "    # Set a new color\n",
    "    color(colors[0])\n",
    "\n",
    "\n",
    "def main():\n",
    "    # Initialize the pen\n",
    "    global colors\n",
    "    shape(\"circle\")\n",
    "    resizemode(\"user\")\n",
    "    shapesize(2)\n",
    "    width(3)\n",
    "\n",
    "    # Set the colors\n",
    "    colors = [\"red\", \"green\", \"blue\", \"yellow\"]\n",
    "    color(colors[0])\n",
    "\n",
    "    switchupdown()\n",
    "\n",
    "    # Set the callbacks for the three buttons\n",
    "    onscreenclick(goto, 1)\n",
    "    onscreenclick(changecolor, 2)\n",
    "    onscreenclick(switchupdown, 3)\n",
    "    return \"EVENTLOOP\"\n",
    "\n",
    "\n",
    "msg = main()\n",
    "print(msg)\n",
    "mainloop()"
   ]
  },
  {
   "cell_type": "markdown",
   "metadata": {},
   "source": [
    "## But where is the logic for goto?\n",
    "\n",
    "https://docs.python.org/3.7/library/turtle.html\n",
    "\n",
    "or see line 1743 of anaconda3/lib/python3.7/turtle.py"
   ]
  },
  {
   "cell_type": "markdown",
   "metadata": {
    "collapsed": true
   },
   "source": [
    "# Card\n",
    "\n",
    "https://xkcd.com/2217/"
   ]
  },
  {
   "cell_type": "code",
   "execution_count": null,
   "metadata": {},
   "outputs": [],
   "source": [
    "import random\n",
    "\n",
    "\n",
    "class Card(object):\n",
    "    \"\"\"Represents a standard playing card.\n",
    "    \n",
    "    Attributes:\n",
    "      suit: integer 0-3\n",
    "      rank: integer 1-13\n",
    "    \"\"\"\n",
    "\n",
    "    suit_names = [\"Clubs\", \"Diamonds\", \"Hearts\", \"Spades\"]\n",
    "    rank_names = [None, \"Ace\", \"2\", \"3\", \"4\", \"5\", \"6\", \"7\", \n",
    "              \"8\", \"9\", \"10\", \"Jack\", \"Queen\", \"King\"]\n",
    "\n",
    "    def __init__(self, suit=0, rank=2):\n",
    "        self.suit = suit\n",
    "        self.rank = rank\n",
    "\n",
    "    def __str__(self):\n",
    "        \"\"\"Returns a human-readable string representation.\"\"\"\n",
    "        return '%s of %s' % (Card.rank_names[self.rank],\n",
    "                             Card.suit_names[self.suit])\n",
    "\n",
    "    def __cmp__(self, other):\n",
    "        \"\"\"Compares this card to other, first by suit, then rank.\n",
    "\n",
    "        Returns a positive number if this > other; negative if other > this;\n",
    "        and 0 if they are equivalent.\n",
    "        \"\"\"\n",
    "        t1 = self.suit, self.rank\n",
    "        t2 = other.suit, other.rank\n",
    "        return cmp(t1, t2)\n",
    "\n",
    "c = Card(1,2)\n",
    "print(c)"
   ]
  },
  {
   "cell_type": "code",
   "execution_count": null,
   "metadata": {},
   "outputs": [],
   "source": [
    "print(c.suit)"
   ]
  },
  {
   "cell_type": "code",
   "execution_count": null,
   "metadata": {},
   "outputs": [],
   "source": [
    "print(c.__dict__)"
   ]
  },
  {
   "cell_type": "code",
   "execution_count": null,
   "metadata": {},
   "outputs": [],
   "source": [
    "print(Card.__dict__)"
   ]
  },
  {
   "cell_type": "code",
   "execution_count": null,
   "metadata": {},
   "outputs": [],
   "source": [
    "print(Card.__dict__['suit_names'])"
   ]
  },
  {
   "cell_type": "markdown",
   "metadata": {},
   "source": [
    "# Deck"
   ]
  },
  {
   "cell_type": "code",
   "execution_count": null,
   "metadata": {},
   "outputs": [],
   "source": [
    "class Deck(object):\n",
    "    \"\"\"Represents a deck of cards.\n",
    "\n",
    "    Attributes:\n",
    "      cards: list of Card objects.\n",
    "    \"\"\"\n",
    "    \n",
    "    def __init__(self):\n",
    "        self.cards = []\n",
    "        for suit in range(4):\n",
    "            for rank in range(1, 14):\n",
    "                card = Card(suit, rank)\n",
    "                self.cards.append(card)\n",
    "\n",
    "    def __str__(self):\n",
    "        res = []\n",
    "        for card in self.cards:\n",
    "            res.append(str(card))\n",
    "        return '\\n'.join(res)\n",
    "\n",
    "    def add_card(self, card):\n",
    "        \"\"\"Adds a card to the deck.\"\"\"\n",
    "        self.cards.append(card)\n",
    "\n",
    "    def remove_card(self, card):\n",
    "        \"\"\"Removes a card from the deck.\"\"\"\n",
    "        self.cards.remove(card)\n",
    "\n",
    "    def pop_card(self, i=-1):\n",
    "        \"\"\"Removes and returns a card from the deck.\n",
    "\n",
    "        i: index of the card to pop; by default, pops the last card.\n",
    "        \"\"\"\n",
    "        return self.cards.pop(i)\n",
    "\n",
    "    def shuffle(self):\n",
    "        \"\"\"Shuffles the cards in this deck.\"\"\"\n",
    "        random.shuffle(self.cards)\n",
    "\n",
    "    def sort(self):\n",
    "        \"\"\"Sorts the cards in ascending order.\"\"\"\n",
    "        self.cards.sort()\n",
    "\n",
    "    def move_cards(self, hand, num):\n",
    "        \"\"\"Moves the given number of cards from the deck into the Hand.\n",
    "\n",
    "        hand: destination Hand object\n",
    "        num: integer number of cards to move\n",
    "        \"\"\"\n",
    "        for i in range(num):\n",
    "            hand.add_card(self.pop_card())"
   ]
  },
  {
   "cell_type": "code",
   "execution_count": null,
   "metadata": {},
   "outputs": [],
   "source": [
    "deck = Deck()\n",
    "deck.shuffle()\n",
    "\n",
    "print(deck)"
   ]
  },
  {
   "cell_type": "markdown",
   "metadata": {},
   "source": [
    "# Hand"
   ]
  },
  {
   "cell_type": "code",
   "execution_count": null,
   "metadata": {},
   "outputs": [],
   "source": [
    "class Hand(Deck):\n",
    "    \"\"\"Represents a hand of playing cards.\"\"\"\n",
    "    \n",
    "    def __init__(self, label=''):\n",
    "        self.cards = []\n",
    "        self.label = label\n",
    "\n",
    "\n",
    "def find_defining_class(obj, method_name):\n",
    "    \"\"\"Finds and returns the class object that will provide \n",
    "    the definition of method_name (as a string) if it is\n",
    "    invoked on obj.\n",
    "\n",
    "    obj: any python object\n",
    "    method_name: string method name\n",
    "    \"\"\"\n",
    "    for ty in type(obj).mro():\n",
    "        if method_name in ty.__dict__:\n",
    "            return ty\n",
    "    return None\n",
    "\n",
    "\n",
    "\n",
    "deck = Deck()\n",
    "deck.shuffle()\n",
    "\n",
    "hand = Hand()\n",
    "hand.shuffle()\n",
    "print hand\n",
    "\n",
    "print find_defining_class(hand, 'shuffle')\n",
    "\n",
    "deck.move_cards(hand, 5)\n",
    "hand.sort()\n",
    "print hand"
   ]
  },
  {
   "cell_type": "markdown",
   "metadata": {},
   "source": [
    "### Fix the problems\n",
    "\n",
    "- print\n",
    "- sorting"
   ]
  },
  {
   "cell_type": "code",
   "execution_count": null,
   "metadata": {},
   "outputs": [],
   "source": [
    "    def __lt__(self, other):\n",
    "        t1 = self.suit, self.rank\n",
    "        t2 = other.suit, other.rank\n",
    "        return t1 < t2"
   ]
  },
  {
   "cell_type": "markdown",
   "metadata": {},
   "source": [
    "## Add def of dunder lt()"
   ]
  },
  {
   "cell_type": "code",
   "execution_count": null,
   "metadata": {},
   "outputs": [],
   "source": [
    "import random\n",
    "\n",
    "class Card(object):\n",
    "    \"\"\"Represents a standard playing card.\n",
    "    \n",
    "    Attributes:\n",
    "      suit: integer 0-3\n",
    "      rank: integer 1-13\n",
    "    \"\"\"\n",
    "\n",
    "    suit_names = [\"Clubs\", \"Diamonds\", \"Hearts\", \"Spades\"]\n",
    "    rank_names = [None, \"Ace\", \"2\", \"3\", \"4\", \"5\", \"6\", \"7\", \n",
    "              \"8\", \"9\", \"10\", \"Jack\", \"Queen\", \"King\"]\n",
    "\n",
    "    def __init__(self, suit=0, rank=2):\n",
    "        self.suit = suit\n",
    "        self.rank = rank\n",
    "\n",
    "    def __str__(self):\n",
    "        \"\"\"Returns a human-readable string representation.\"\"\"\n",
    "        return '%s of %s' % (Card.rank_names[self.rank],\n",
    "                             Card.suit_names[self.suit])\n",
    "\n",
    "    def __cmp__(self, other):\n",
    "        \"\"\"Compares this card to other, first by suit, then rank.\n",
    "\n",
    "        Returns a positive number if this > other; negative if other > this;\n",
    "        and 0 if they are equivalent.\n",
    "        \"\"\"\n",
    "        t1 = self.suit, self.rank\n",
    "        t2 = other.suit, other.rank\n",
    "        return cmp(t1, t2)\n",
    "    \n",
    "    ####\n",
    "    #### Compare two cards\n",
    "    ####\n",
    "    def __lt__(self, other):\n",
    "        t1 = self.suit, self.rank\n",
    "        t2 = other.suit, other.rank\n",
    "        return t1 < t2\n",
    "\n",
    "    ####\n",
    "    #### Use a string to build a Card\n",
    "    #### You may use this for the next assignment\n",
    "    ####\n",
    "    @staticmethod\n",
    "    def str_to_card(text):\n",
    "        '''Take a line of text and return a Card\n",
    "           \"AC\" will yield \"Ace of Clubs\"  '''\n",
    "\n",
    "        name_to_suit = {'C':0, 'D':1, 'H':2, 'S':3}\n",
    "        name_to_rank = {'A':1, 'J':11, 'Q':12, 'K':13}\n",
    "\n",
    "        suit_name = text[-1]\n",
    "        rank_name = text[:-1]   # May be one or two chars\n",
    "\n",
    "        suit = name_to_suit[suit_name]\n",
    "        if rank_name in name_to_rank:\n",
    "            rank = name_to_rank[rank_name]\n",
    "        else:\n",
    "            rank = int(rank_name)\n",
    "\n",
    "        return Card(suit, rank)\n",
    "\n",
    "\n",
    "\n",
    "class Deck(object):\n",
    "    \"\"\"Represents a deck of cards.\n",
    "\n",
    "    Attributes:\n",
    "      cards: list of Card objects.\n",
    "    \"\"\"\n",
    "    \n",
    "    def __init__(self):\n",
    "        self.cards = []\n",
    "        for suit in range(4):\n",
    "            for rank in range(1, 14):\n",
    "                card = Card(suit, rank)\n",
    "                self.cards.append(card)\n",
    "\n",
    "    def __str__(self):\n",
    "        res = []\n",
    "        for card in self.cards:\n",
    "            res.append(str(card))\n",
    "        return '\\n'.join(res)\n",
    "\n",
    "    def add_card(self, card):\n",
    "        \"\"\"Adds a card to the deck.\"\"\"\n",
    "        self.cards.append(card)\n",
    "\n",
    "    def remove_card(self, card):\n",
    "        \"\"\"Removes a card from the deck.\"\"\"\n",
    "        self.cards.remove(card)\n",
    "\n",
    "    def pop_card(self, i=-1):\n",
    "        \"\"\"Removes and returns a card from the deck.\n",
    "\n",
    "        i: index of the card to pop; by default, pops the last card.\n",
    "        \"\"\"\n",
    "        return self.cards.pop(i)\n",
    "\n",
    "    def shuffle(self):\n",
    "        \"\"\"Shuffles the cards in this deck.\"\"\"\n",
    "        random.shuffle(self.cards)\n",
    "\n",
    "    def sort(self):\n",
    "        \"\"\"Sorts the cards in ascending order.\"\"\"\n",
    "        self.cards.sort()\n",
    "\n",
    "    def move_cards(self, hand, num):\n",
    "        \"\"\"Moves the given number of cards from the deck into the Hand.\n",
    "\n",
    "        hand: destination Hand object\n",
    "        num: integer number of cards to move\n",
    "        \"\"\"\n",
    "        for i in range(num):\n",
    "            hand.add_card(self.pop_card())\n",
    "\n",
    "\n",
    "class Hand(Deck):\n",
    "    \"\"\"Represents a hand of playing cards.\"\"\"\n",
    "    \n",
    "    def __init__(self, label=''):\n",
    "        self.cards = []\n",
    "        self.label = label\n",
    "\n",
    "\n",
    "def find_defining_class(obj, method_name):\n",
    "    \"\"\"Finds and returns the class object that will provide \n",
    "    the definition of method_name (as a string) if it is\n",
    "    invoked on obj.\n",
    "\n",
    "    obj: any python object\n",
    "    method_name: string method name\n",
    "    \"\"\"\n",
    "    for ty in type(obj).mro():\n",
    "        if method_name in ty.__dict__:\n",
    "            return ty\n",
    "    return None\n",
    "\n",
    "\n",
    "if __name__ == '__main__':\n",
    "    deck = Deck()\n",
    "    deck.shuffle()\n",
    "\n",
    "    hand = Hand()\n",
    "    print(find_defining_class(hand, 'shuffle'))\n",
    "\n",
    "    deck.move_cards(hand, 5)\n",
    "    hand.sort()\n",
    "    print(hand)\n",
    "    \n",
    "    # You may use this for the next assignment\n",
    "    c = Card.str_to_card('QH')\n",
    "    print(c)"
   ]
  },
  {
   "cell_type": "markdown",
   "metadata": {},
   "source": [
    "## Protection of Objects"
   ]
  },
  {
   "cell_type": "code",
   "execution_count": null,
   "metadata": {},
   "outputs": [],
   "source": [
    "c = Card(3, 4)\n",
    "print(c)"
   ]
  },
  {
   "cell_type": "code",
   "execution_count": null,
   "metadata": {},
   "outputs": [],
   "source": [
    "c.rank, c.suit = 5, 2\n",
    "print(c)"
   ]
  },
  {
   "cell_type": "code",
   "execution_count": null,
   "metadata": {},
   "outputs": [],
   "source": [
    "c.rank, c.suit = 15, 12\n",
    "print(c)"
   ]
  },
  {
   "cell_type": "markdown",
   "metadata": {
    "collapsed": true
   },
   "source": [
    "# Duck"
   ]
  },
  {
   "cell_type": "code",
   "execution_count": null,
   "metadata": {},
   "outputs": [],
   "source": [
    "class Duck():\n",
    "    \n",
    "    def __init__(self, name):\n",
    "        self.hidden_name = name\n",
    "        \n",
    "    def get_name(self):\n",
    "        return self.hidden_name\n",
    "    \n",
    "    def set_name(self, name):\n",
    "        self.hidden_name = name\n",
    "        \n",
    "    name = property(get_name, set_name)\n",
    "    \n",
    "d = Duck('Daffy')\n",
    "print(d)\n",
    "print(d.__dict__)\n"
   ]
  },
  {
   "cell_type": "markdown",
   "metadata": {},
   "source": [
    "## What will happen?"
   ]
  },
  {
   "cell_type": "code",
   "execution_count": null,
   "metadata": {},
   "outputs": [],
   "source": [
    "print(d.name)"
   ]
  },
  {
   "cell_type": "code",
   "execution_count": null,
   "metadata": {},
   "outputs": [],
   "source": [
    "print(d.get_name())"
   ]
  },
  {
   "cell_type": "code",
   "execution_count": null,
   "metadata": {},
   "outputs": [],
   "source": [
    "d.set_name('Daisy')\n",
    "print(d.name)"
   ]
  },
  {
   "cell_type": "markdown",
   "metadata": {},
   "source": [
    "## What will happen?"
   ]
  },
  {
   "cell_type": "code",
   "execution_count": null,
   "metadata": {},
   "outputs": [],
   "source": [
    "d.name = \"Bluto\"\n",
    "print(d.name)"
   ]
  },
  {
   "cell_type": "code",
   "execution_count": null,
   "metadata": {},
   "outputs": [],
   "source": [
    "class Duck():\n",
    "    \n",
    "    def __init__(self, name):\n",
    "        self.hidden_name = name\n",
    "        \n",
    "    def get_name(self):\n",
    "        return self.hidden_name\n",
    "    \n",
    "    def set_name(self, name):\n",
    "        if name != 'Bluto':\n",
    "            self.hidden_name = name\n",
    "        \n",
    "    name = property(get_name, set_name)\n",
    "\n"
   ]
  },
  {
   "cell_type": "code",
   "execution_count": null,
   "metadata": {},
   "outputs": [],
   "source": [
    "d = Duck('Daffy')\n",
    "print(d.name)"
   ]
  },
  {
   "cell_type": "code",
   "execution_count": null,
   "metadata": {},
   "outputs": [],
   "source": [
    "d.name = \"Bluto\"\n",
    "print(d.name)"
   ]
  },
  {
   "cell_type": "markdown",
   "metadata": {},
   "source": [
    "# Use decorators"
   ]
  },
  {
   "cell_type": "code",
   "execution_count": null,
   "metadata": {},
   "outputs": [],
   "source": [
    "class Duck():\n",
    "    \n",
    "    def __init__(self, name):\n",
    "        self.hidden_name = name\n",
    "       \n",
    "    @property\n",
    "    def name(self):\n",
    "        return self.hidden_name\n",
    "    \n",
    "    @name.setter\n",
    "    def name(self, name):\n",
    "        self.hidden_name = name\n",
    "    \n",
    "d = Duck('Daffy')\n",
    "print(d)\n",
    "print(d.__dict__)"
   ]
  },
  {
   "cell_type": "code",
   "execution_count": null,
   "metadata": {},
   "outputs": [],
   "source": [
    "print(d.name)"
   ]
  },
  {
   "cell_type": "code",
   "execution_count": null,
   "metadata": {},
   "outputs": [],
   "source": [
    "d.name = 'Daisy'\n",
    "print(d.name)"
   ]
  },
  {
   "cell_type": "code",
   "execution_count": null,
   "metadata": {},
   "outputs": [],
   "source": []
  }
 ],
 "metadata": {
  "kernelspec": {
   "display_name": "Python 3",
   "language": "python",
   "name": "python3"
  },
  "language_info": {
   "codemirror_mode": {
    "name": "ipython",
    "version": 3
   },
   "file_extension": ".py",
   "mimetype": "text/x-python",
   "name": "python",
   "nbconvert_exporter": "python",
   "pygments_lexer": "ipython3",
   "version": "3.8.3"
  }
 },
 "nbformat": 4,
 "nbformat_minor": 2
}
