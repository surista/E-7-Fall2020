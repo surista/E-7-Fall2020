{
 "cells": [
  {
   "cell_type": "markdown",
   "metadata": {},
   "source": [
    "# Homework 9 Share\n",
    "## Problems to discuss in section or Piazza\n",
    "### October 2020"
   ]
  },
  {
   "cell_type": "markdown",
   "metadata": {},
   "source": [
    "## Generators"
   ]
  },
  {
   "cell_type": "markdown",
   "metadata": {},
   "source": [
    "### 1) Write a generator that returns squares"
   ]
  },
  {
   "cell_type": "markdown",
   "metadata": {},
   "source": [
    "### 2) Write a generator that returns python files below a point in the file system\n",
    "\n",
    "```python\n",
    "    def find_files(path: str):\n",
    "        pass\n",
    "````\n",
    "\n",
    "Modify this to return files with an arbitrary extension"
   ]
  },
  {
   "cell_type": "markdown",
   "metadata": {},
   "source": [
    "### 3) Write a generator to return lines in a file longer than 40 characters\n",
    "\n",
    "```python\n",
    "    def find_files(path: str, len: int):\n",
    "        pass\n",
    "````\n",
    "\n",
    "Modify this to return lines longer than an arbitrary value\n",
    "\n",
    "Modify this to handle tabs correctly: a tab will take you past the next column that is a multiple of 8\n",
    "that is, _ _ \\t X translates to _ _ _ _ _ _ _ _ X.  Don't count characters: count spaces"
   ]
  },
  {
   "cell_type": "markdown",
   "metadata": {},
   "source": [
    "### 4) Sieve of Eratosthones\n",
    "\n",
    "Write a generator to produce the prime numbers using the Sieve of Eratosthones\n",
    "\n",
    "```python\n",
    "    def sieve():\n",
    "        pass\n",
    "````\n",
    "\n",
    "https://en.wikipedia.org/wiki/Sieve_of_Eratosthenes"
   ]
  },
  {
   "cell_type": "markdown",
   "metadata": {},
   "source": [
    "## Objects"
   ]
  },
  {
   "cell_type": "markdown",
   "metadata": {},
   "source": [
    "### 5) Write eq() for points"
   ]
  },
  {
   "cell_type": "markdown",
   "metadata": {},
   "source": [
    "### 6) Intersects\n",
    "\n",
    "Define rectangles, and write a rectangle method intersects() that decides if a point intersects a rectangle"
   ]
  },
  {
   "cell_type": "markdown",
   "metadata": {},
   "source": [
    "### 7) Intersects bis\n",
    "\n",
    "Define rectangles, and write a rectangle method intersects() that decides if a rectangle intersects a rectangle\n",
    "\n",
    "They intersect if one rectangle contains any corner of the other rectangle.  "
   ]
  },
  {
   "cell_type": "markdown",
   "metadata": {},
   "source": [
    "## Formatting\n",
    "\n",
    "Explain what is happening below"
   ]
  },
  {
   "cell_type": "code",
   "execution_count": 6,
   "metadata": {},
   "outputs": [
    {
     "name": "stdout",
     "output_type": "stream",
     "text": [
      "->1 -> 2 ->03\n"
     ]
    }
   ],
   "source": [
    "one = 1\n",
    "two = 2\n",
    "three = 3\n",
    "\n",
    "print(f\"->{one} ->{two:2} ->{three:02}\")"
   ]
  }
 ],
 "metadata": {
  "kernelspec": {
   "display_name": "Python 3",
   "language": "python",
   "name": "python3"
  },
  "language_info": {
   "codemirror_mode": {
    "name": "ipython",
    "version": 3
   },
   "file_extension": ".py",
   "mimetype": "text/x-python",
   "name": "python",
   "nbconvert_exporter": "python",
   "pygments_lexer": "ipython3",
   "version": "3.8.3"
  }
 },
 "nbformat": 4,
 "nbformat_minor": 4
}
