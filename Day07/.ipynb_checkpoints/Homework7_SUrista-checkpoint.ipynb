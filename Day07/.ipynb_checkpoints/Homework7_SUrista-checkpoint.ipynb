{
 "cells": [
  {
   "cell_type": "markdown",
   "metadata": {},
   "source": [
    "# Homework 7\n",
    "## Fill in your name"
   ]
  },
  {
   "cell_type": "code",
   "execution_count": 1,
   "metadata": {},
   "outputs": [],
   "source": [
    "first_name = \"Scott\"\n",
    "last_name = \"Urista\"\n",
    "\n",
    "assert(len(first_name) != 0)\n",
    "assert(len(last_name)  != 0)"
   ]
  },
  {
   "cell_type": "markdown",
   "metadata": {},
   "source": [
    "# Problem 1: List of Squares\n",
    "\n",
    "The List Comprehension below takes an integer N and returns the squares of the first N integers.  \n",
    "\n",
    "Rewrite the function without using List Comprehensions\n",
    "\n",
    "````python\n",
    "    def squares(N):\n",
    "        return [i * i for i in range(N+1)]\n",
    "```"
   ]
  },
  {
   "cell_type": "code",
   "execution_count": 2,
   "metadata": {},
   "outputs": [],
   "source": [
    "# Takes an integer and returns a list of the squares up to N*N\n",
    "# squares(4) would return [0, 1, 4, 9, 16]\n",
    "def squares(N):\n",
    "    squares_list = []\n",
    "    for i in range(N+1):\n",
    "        squares_list.append(i*i)\n",
    "    \n",
    "    return squares_list"
   ]
  },
  {
   "cell_type": "markdown",
   "metadata": {},
   "source": [
    "### Unit Tests for Squares"
   ]
  },
  {
   "cell_type": "code",
   "execution_count": 3,
   "metadata": {},
   "outputs": [
    {
     "data": {
      "text/plain": [
       "'Pass'"
      ]
     },
     "execution_count": 3,
     "metadata": {},
     "output_type": "execute_result"
    }
   ],
   "source": [
    "def test_squares():\n",
    "    assert(squares(1) == [0, 1])\n",
    "    assert(squares(4) == [0, 1, 4, 9, 16])\n",
    "    assert(squares(9) == [0, 1, 4, 9, 16, 25, 36, 49, 64, 81])\n",
    "    \n",
    "    return 'Pass'\n",
    "\n",
    "test_squares()"
   ]
  },
  {
   "cell_type": "markdown",
   "metadata": {},
   "source": [
    "## Problem 2: Whozit\n",
    "\n",
    "The List Comprehension below takes an integer and returns a string\n",
    "\n",
    "Rewrite Whozit without using a List Comprehension\n",
    "\n",
    "```python\n",
    "    def whozit(n):\n",
    "        return [i for i in range(n) if '3' in str(i)]\n",
    "```"
   ]
  },
  {
   "cell_type": "code",
   "execution_count": 4,
   "metadata": {},
   "outputs": [],
   "source": [
    "def whozit(n):\n",
    "    \"takes an integer, returns a list of integers from 0 up to the integer that has a 3 in it\"\n",
    "    sol = []\n",
    "    for i in range(n):\n",
    "        if '3' in str(i):\n",
    "            sol.append(i)\n",
    "    \n",
    "    return sol"
   ]
  },
  {
   "cell_type": "markdown",
   "metadata": {},
   "source": [
    "### Unit tests for Whozit"
   ]
  },
  {
   "cell_type": "code",
   "execution_count": 5,
   "metadata": {},
   "outputs": [
    {
     "name": "stdout",
     "output_type": "stream",
     "text": [
      "Success\n"
     ]
    }
   ],
   "source": [
    "def test_whozit():\n",
    "    assert whozit(20) == [3, 13]\n",
    "    assert whozit(30) == [3, 13, 23]\n",
    "    assert whozit(40) == [3, 13, 23, 30, 31, 32, 33, 34, 35, 36, 37, 38, 39]\n",
    "\n",
    "    print(\"Success\")\n",
    "    \n",
    "test_whozit()"
   ]
  },
  {
   "cell_type": "markdown",
   "metadata": {},
   "source": [
    "## Problem 3: Loop Garou\n",
    "\n",
    "Rewrite loop_garou as a List Comprehension, and describe what it does\n",
    "\n",
    "```python\n",
    "    def loop_garou(s):\n",
    "        res = []\n",
    "        for ch in s:\n",
    "            if ch in 'aeiou':\n",
    "                res.append(ch)\n",
    "        return '-'.join(res)\n",
    "```"
   ]
  },
  {
   "cell_type": "code",
   "execution_count": 6,
   "metadata": {},
   "outputs": [],
   "source": [
    "def loop_garou(s):\n",
    "    \"takes a string and returns a string of all lower-case vowels, joined by '-'\"\n",
    "    return '-'.join([ch for ch in s if ch in 'aeiou'])"
   ]
  },
  {
   "cell_type": "markdown",
   "metadata": {},
   "source": [
    "### Unit tests for Loop Garou"
   ]
  },
  {
   "cell_type": "code",
   "execution_count": 7,
   "metadata": {},
   "outputs": [
    {
     "name": "stdout",
     "output_type": "stream",
     "text": [
      "Success\n"
     ]
    }
   ],
   "source": [
    "def test_loop_garou():\n",
    "    assert loop_garou('We are his sisters') == 'e-a-e-i-i-e'\n",
    "    assert loop_garou('his cousins and his aunts') == 'i-o-u-i-a-i-a-u'\n",
    "    \n",
    "    print('Success')\n",
    "    \n",
    "test_loop_garou()"
   ]
  },
  {
   "cell_type": "markdown",
   "metadata": {},
   "source": [
    "## Problem 4: Common Elements\n",
    "\n",
    "Write a function common that takes two lists, and return a list of the items that appear in both lists, in the order they appear in the first list.\n",
    "\n",
    "Given [1, 3, 2, 5, 6, 0, 7] and [7, 4, 3, 2, 1], you should return [1, 3, 2, 7]"
   ]
  },
  {
   "cell_type": "code",
   "execution_count": 8,
   "metadata": {},
   "outputs": [],
   "source": [
    "def common(lst1, lst2):\n",
    "    return [i for i in lst1 if i in lst2]"
   ]
  },
  {
   "cell_type": "markdown",
   "metadata": {},
   "source": [
    "### Unit Tests for Common"
   ]
  },
  {
   "cell_type": "code",
   "execution_count": 9,
   "metadata": {},
   "outputs": [
    {
     "name": "stdout",
     "output_type": "stream",
     "text": [
      "Success\n"
     ]
    }
   ],
   "source": [
    "def test_common():\n",
    "    assert common([1, 3, 2, 5, 6, 0, 7], [7, 4, 3, 2, 1]) == [1, 3, 2, 7]\n",
    "    assert common([1, 2, 3, 4, 5], [7, 5, 3, 1]) == [1, 3, 5]\n",
    "    assert common([7, 5, 3, 1], [1, 2, 3, 4, 5]) == [5, 3, 1]\n",
    "    assert common([3*i for i in range(7)], [2*i for i in range(10)]) == [0, 6, 12, 18]\n",
    "      \n",
    "    print('Success')\n",
    "    \n",
    "test_common()"
   ]
  },
  {
   "cell_type": "markdown",
   "metadata": {
    "collapsed": true
   },
   "source": [
    "##### Problem 5: Missouri Wine and Beer\n",
    "\n",
    "Find the top beer and wine suppliers to the state of Missouri. \n",
    "\n",
    "The CVS file Missouri_Beer_Wine.cvs lists suppliers to the state of Missouri,\n",
    "which runs package stores.  Each line records a different supplier, and \n",
    "includes a 5 or 9 digit zip code.  Find the 5-digit zip codes that\n",
    "hold the most suppliers to the state.  When you see a 9-digit zip code, truncate the\n",
    "last 4 digits.  \n",
    "\n",
    "Your function should return a list of lists, with the frequency and the zip code.\n",
    "Organize the list in decreasing order of frequency.  \n",
    "\n",
    "Here are three items from my list of 720 zip codes\n",
    "\n",
    "```python\n",
    "    [ ... [9, '65616'], [8, '94573'], [8, '63103'] ...]\n",
    "```\n",
    "\n",
    "This tells me that Branson, Missouri, has 9 beer or wine suppliers to the state,\n",
    "and Rutherford, California, has 8.  \n",
    "\n",
    "Print the number of suppliers and the zip code for the 10 most common zip codes\n",
    "in the file.  \n",
    "\n",
    "Use the csv library to read the textfile.  Use the idiom Dictionary as a Counter (section 11.1 of Downey) to count the\n",
    "number of times you see each zip code.  Traverse the Dictionary and build \n",
    "a list of lists, and use sort() or sorted() to organize your list so the most common zip codes are first.\n",
    "\n",
    "To validate your results, you can check the three zip codes above, and you can \n",
    "use Google to map the zip code to a location\n",
    "and check that that is a likely source for wine or beer.    "
   ]
  },
  {
   "cell_type": "code",
   "execution_count": 9,
   "metadata": {},
   "outputs": [],
   "source": [
    "import csv      # Read Comma Separated Values (CSV) files\n",
    "import sys      # Read filename from command line\n",
    "\n",
    "def list_cities(filename):\n",
    "    \"\"\"\n",
    "    :param filename: string, name of file\n",
    "    :return: a sorted list of zip codes and counts\n",
    "    \"\"\"\n",
    "    \n",
    "    # dictionary generates counts\n",
    "    sol = {}\n",
    "    try:\n",
    "        with open(filename, 'rt') as f:\n",
    "            reader = csv.reader(f)\n",
    "            for line in reader:\n",
    "                if line[1].isdigit(): # ignore non-valid zip code\n",
    "                    if line[1][0:5] not in sol:   # take first five digits of zip\n",
    "                        sol[line[1][0:5]] = 1\n",
    "                    else:\n",
    "                        sol[line[1][0:5]] += 1\n",
    "\n",
    "    except FileNotFoundError:\n",
    "        print(\"Houston we have a problem, no such file exists:\",filename)\n",
    "\n",
    "    return zip_sorted(sol)\n",
    "\n",
    "\n",
    "def zip_sorted(cities_dict):\n",
    "    \"takes dictionary; generates reverse-sorted list\"\n",
    "    result =[[cities_dict[item], item] for item in cities_dict]\n",
    "    result.sort(reverse=True)\n",
    "\n",
    "    return result\n"
   ]
  },
  {
   "cell_type": "code",
   "execution_count": 10,
   "metadata": {},
   "outputs": [
    {
     "name": "stdout",
     "output_type": "stream",
     "text": [
      "720\n",
      "[[54, '94558'], [41, '94574'], [27, '95448'], [18, '95476'], [18, '94515'], [16, '95472'], [16, '93446'], [12, '95403'], [11, '99362'], [11, '94562']]\n"
     ]
    }
   ],
   "source": [
    "lst = list_cities(\"Missouri_Beer_Wine.csv\")\n",
    "\n",
    "print(len(lst))\n",
    "print(lst[:10])"
   ]
  },
  {
   "cell_type": "markdown",
   "metadata": {},
   "source": [
    "# Post Mortem"
   ]
  },
  {
   "cell_type": "markdown",
   "metadata": {},
   "source": [
    "How long did it take you to solve this problem set?\n",
    "\n",
    "Did anything confuse you or cause difficulty?"
   ]
  },
  {
   "cell_type": "code",
   "execution_count": 68,
   "metadata": {},
   "outputs": [],
   "source": [
    "# Enter your thoughts\n",
    "# I was able to get these problems done fairly quickly. I originally had list_cities as one function, but splitting it into \n",
    "# two functions - one to create the dictionary, one to create the sorted list - seemed 'neater'"
   ]
  }
 ],
 "metadata": {
  "kernelspec": {
   "display_name": "Python 3",
   "language": "python",
   "name": "python3"
  },
  "language_info": {
   "codemirror_mode": {
    "name": "ipython",
    "version": 3
   },
   "file_extension": ".py",
   "mimetype": "text/x-python",
   "name": "python",
   "nbconvert_exporter": "python",
   "pygments_lexer": "ipython3",
   "version": "3.8.3"
  }
 },
 "nbformat": 4,
 "nbformat_minor": 1
}
