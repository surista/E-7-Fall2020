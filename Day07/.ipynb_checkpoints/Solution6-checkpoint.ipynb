{
 "cells": [
  {
   "cell_type": "markdown",
   "metadata": {},
   "source": [
    "# Homework 6: Fall 2020\n",
    "## Fill in your name"
   ]
  },
  {
   "cell_type": "code",
   "execution_count": null,
   "metadata": {},
   "outputs": [],
   "source": [
    "first_name = \"\"\n",
    "last_name = \"\"\n",
    "\n",
    "assert(len(first_name) != 0)\n",
    "assert(len(last_name)  != 0)"
   ]
  },
  {
   "cell_type": "markdown",
   "metadata": {},
   "source": [
    "## Problem 1: Mailman\n",
    "### Turn an e-mail address into a list of components\n",
    "\n",
    "We address letters and and e-mail backwards. When the post office gets a letter, they need to read from the bottom up to decide where to send it next\n",
    "\n",
    "```python\n",
    "    Stephen Dedalus\n",
    "    Class of Elements\n",
    "    Clongowes Wood College\n",
    "    Sallins\n",
    "    Country Kildare\n",
    "    Ireland\n",
    "```\n",
    "\n",
    "Internet addresses such as 'jparker@word.std.com' work the same way.  \n",
    "\n",
    "Write a function that takes a string holding an e-mail address and returns a list with two items: the username, followed by a list of the steps we will need to take to route the mail. In the case above, you would return\n",
    "\n",
    "```python\n",
    "    ['jparker', ['com', 'std', 'world']]\n",
    "```\n",
    "\n",
    "Hint: Use the string method split() twice.  "
   ]
  },
  {
   "cell_type": "code",
   "execution_count": null,
   "metadata": {},
   "outputs": [],
   "source": [
    "# Takes a string and returns a list  \n",
    "def parse_email_address(s):\n",
    "    \"split a mail address into recipient and list of hops\"\n",
    "    pass"
   ]
  },
  {
   "cell_type": "code",
   "execution_count": null,
   "metadata": {},
   "outputs": [],
   "source": [
    "# Takes a string and returns a list  \n",
    "def parse_email_address(s):\n",
    "    \"split a mail address into recipient and list of hops\"\n",
    "    res = s.split('@')\n",
    "    location = res[1].split('.')\n",
    "    res[1] = location[::-1]\n",
    "    return res\n",
    "\n",
    "parse_email_address('jdp@world.std.com')"
   ]
  },
  {
   "cell_type": "markdown",
   "metadata": {},
   "source": [
    "### Test cases for Mailman"
   ]
  },
  {
   "cell_type": "code",
   "execution_count": null,
   "metadata": {},
   "outputs": [],
   "source": [
    "def mailman_test():\n",
    "    assert(parse_email_address('jdp@world.std.com') == ['jdp', ['com', 'std', 'world']])\n",
    "    \n",
    "    return('Pass')\n",
    "\n",
    "mailman_test()"
   ]
  },
  {
   "cell_type": "markdown",
   "metadata": {},
   "source": [
    "## Problem 2: Parentheses\n",
    "### Decide if a string contains valid nested parentheses\n",
    "\n",
    "You are given a string consisting only of parentheses - (, ), {, }, [, and ]. Write a Boolean function is_valid_parens() that takes a string and decides if it consists of valid nested parenthesis.\n",
    "\n",
    "Hint: Your function should take open parentheses, such as '(',  and 'push it on a stack' and should take closing parentheses, and pop the stack and compare.  If the close parenthesis doesn't match the open parenthesis on top of the stack, the string is invalid.  If the stack is empty too soon, or is not empty when you finish the string, the string is invalid.  \n",
    "\n",
    "You can read about stacks here: \n",
    "\n",
    "https://en.wikipedia.org/wiki/Stack_(abstract_data_type)\n",
    "\n",
    "Implement your stack with a list, pushing and poping the final element.  "
   ]
  },
  {
   "cell_type": "code",
   "execution_count": null,
   "metadata": {},
   "outputs": [],
   "source": [
    "# Takes a string, and returns a Boolean \n",
    "#  '{()[{}]}' is valid:    return True\n",
    "#  '{()[{}}' is not:       return False\n",
    "def is_valid_parens(s):\n",
    "    \"Is this a well-nested set of parentheses?\"\n",
    "    pass"
   ]
  },
  {
   "cell_type": "code",
   "execution_count": null,
   "metadata": {},
   "outputs": [],
   "source": [
    "def is_valid_parens(s):\n",
    "    \"Is this a well-nested set of parentheses?\"\n",
    "    stack = []   \n",
    "    pairs = {'[':']', '{':'}', '(':')'}   # a dictionary for things that count as pairs\n",
    "    \n",
    "    # loop through each character in the string\n",
    "    for ch in s:\n",
    "        # Is this an open paren?\n",
    "        if ch in pairs:\n",
    "            stack.append(ch)\n",
    "        else:\n",
    "            # Close paren\n",
    "            try: \n",
    "                cur = stack.pop()\n",
    "            except IndexError:\n",
    "                return False\n",
    "            \n",
    "            # Does the pair match?\n",
    "            if pairs[cur] != ch:\n",
    "                return False\n",
    "\n",
    "    # If the list is empty, we have a valid expression\n",
    "    return len(stack) == 0 "
   ]
  },
  {
   "cell_type": "markdown",
   "metadata": {},
   "source": [
    "### Test case for is_valid_parens()"
   ]
  },
  {
   "cell_type": "code",
   "execution_count": null,
   "metadata": {},
   "outputs": [],
   "source": [
    "def test_parens():\n",
    "    assert(is_valid_parens(\"\"))\n",
    "    assert(is_valid_parens(\"[]\"))\n",
    "    assert(is_valid_parens('{()[{}]}'))\n",
    "    assert(is_valid_parens(\"{}\"))\n",
    "    assert(is_valid_parens(\"{[]}\"))\n",
    "    assert(is_valid_parens(\"{}[]\"))\n",
    "    assert(is_valid_parens(\"([{}({}[])])\"))\n",
    "\n",
    "    assert not is_valid_parens('{()[{}}]'), 'Interlaced parentheses'\n",
    "    assert not is_valid_parens(\"[[\"), \"Unmatched opens\"\n",
    "    assert not is_valid_parens(\"}{\"), \"Unmatched close\"\n",
    "    assert not is_valid_parens(\"{]\"), \"Missmatched parentheses\"\n",
    "    assert not is_valid_parens(\"{[])\"), \"Missmatched parentheses\"\n",
    "    assert not is_valid_parens(\"{[)][]}\"), \"Missmatched parentheses\"\n",
    "    assert not is_valid_parens(\"([{])\"), \"Missmatched parentheses\"\n",
    "    assert not is_valid_parens(\"[({]})\"), \"Missmatched parentheses\"\n",
    "    \n",
    "    return 'Pass'\n",
    "\n",
    "test_parens()"
   ]
  },
  {
   "cell_type": "markdown",
   "metadata": {},
   "source": [
    "## Problem 3: Solitary\n",
    "\n",
    "While this is a classic program that has several elegant solutions, the solutions are too easy to find.  I have decided to replace the problem with the following:\n",
    "\n",
    "## Problem 3: Secret code\n",
    "\n",
    "We can devise a secret code that maps 'one' to 'two'.  We send 'o' to 't', 'n' to 'w' and 'e' to 'o'.\n",
    "\n",
    "We cannot find any code that sends 'two' to 'three', as the words have different length.\n",
    "\n",
    "We cannot find a code that sends 'foo' to 'bar', as we would need 'o' to represent 'a' and 'r'.\n",
    "\n",
    "Likewise we cannot send 'four' to 'aaaa', as there would be no way to map the letters back.\n",
    "\n",
    "Write a Boolean function secret_code() that decides if we can find a code that sends one word to another and back again.\n",
    "\n",
    "```python\n",
    "    def secret_code(word1: str, word2: str) -> bool:\n",
    "```"
   ]
  },
  {
   "cell_type": "code",
   "execution_count": null,
   "metadata": {},
   "outputs": [],
   "source": [
    "def secret_code(word1, word2):\n",
    "    \"\"\"Can we map word1` to word2?\"\"\"\n",
    "    pass"
   ]
  },
  {
   "cell_type": "code",
   "execution_count": 8,
   "metadata": {},
   "outputs": [],
   "source": [
    "def secret_code(s1, s2):\n",
    "    \"\"\"Can we map s1` to s2?\"\"\"\n",
    "    if len(s1) != len(s2):\n",
    "        return False\n",
    "    \n",
    "    mapping = {}   # Mapping\n",
    "    seen = set()   # charaacters we have seen\n",
    "    for pos in range(len(s1)):\n",
    "        ch1 = s1[pos]\n",
    "        ch2 = s2[pos]\n",
    "        if ch1 in mapping:\n",
    "            if mapping[ch1] != ch2:\n",
    "                return False\n",
    "        elif ch2 in seen:\n",
    "            return False\n",
    "        else:\n",
    "            mapping[ch1] = ch2\n",
    "            seen.add(ch2)\n",
    "            \n",
    "    return True"
   ]
  },
  {
   "cell_type": "markdown",
   "metadata": {},
   "source": [
    "### Unit Test cases for secret code"
   ]
  },
  {
   "cell_type": "code",
   "execution_count": 9,
   "metadata": {},
   "outputs": [
    {
     "name": "stdout",
     "output_type": "stream",
     "text": [
      "Success!\n"
     ]
    }
   ],
   "source": [
    "def test_secret():\n",
    "    assert secret_code('one', 'two'), \"Can map\"\n",
    "    assert not secret_code('one', 'four'), \"Different lengths\"\n",
    "    assert not secret_code('one', 'aaa'), \"No way back\"\n",
    "    assert not secret_code('sheep', 'black'), \"Can't decide where 'e' goes\"\n",
    "      \n",
    "    print('Success!')\n",
    "    \n",
    "test_secret()"
   ]
  },
  {
   "cell_type": "markdown",
   "metadata": {},
   "source": [
    "## Problem 4: Find Large Files\n",
    "\n",
    "Write a function that takes a directory and a size in bytes, \n",
    "and returns a list of files in the directory or below that \n",
    "are larger than the size.  \n",
    "\n",
    "*For example, you can use this function to look for files larger than 1 Meg below your Home directory.*\n",
    "\n",
    "You will find a Python function that gives you the size of a file in the os.path library: \n",
    "\n",
    "https://pymotw.com/3/os.path/"
   ]
  },
  {
   "cell_type": "code",
   "execution_count": null,
   "metadata": {},
   "outputs": [],
   "source": [
    "import os\n",
    "\n",
    "def find_large_files(dirname, filesize):\n",
    "    \"Return a list of large files below this point\"\n",
    "    pass"
   ]
  },
  {
   "cell_type": "code",
   "execution_count": 11,
   "metadata": {},
   "outputs": [],
   "source": [
    "import os\n",
    "\n",
    "def find_large_files(dirname, filesize):\n",
    "    \"Return a list of large files below this point\"\n",
    "\n",
    "    res = []                                    \n",
    "\n",
    "    # Walk over the files in this directory\n",
    "    for name in os.listdir(dirname):\n",
    "    \n",
    "        # Construct a full path\n",
    "        path = os.path.join(dirname, name)\n",
    "\n",
    "        # print filenames, and traverse directories\n",
    "        if os.path.isfile(path):\n",
    "            if os.path.getsize(path) > filesize:         # Check file type\n",
    "                res.append(path)               \n",
    "        else:\n",
    "            res = res + find_large_files(path, filesize)   \n",
    "\n",
    "    return res                                 "
   ]
  },
  {
   "cell_type": "markdown",
   "metadata": {},
   "source": [
    "### Show your program in action\n",
    "Give the parameters and show the results for your program\n",
    "\n",
    "I looked for files larger than a Megabyte found below the directory one step up.   "
   ]
  },
  {
   "cell_type": "code",
   "execution_count": 12,
   "metadata": {},
   "outputs": [
    {
     "name": "stdout",
     "output_type": "stream",
     "text": [
      "1\n",
      "../Assignment2.webarchive\n"
     ]
    }
   ],
   "source": [
    "lst = find_large_files('..', 1048576)\n",
    "print(len(lst))\n",
    "\n",
    "for path in lst:\n",
    "    print(path)"
   ]
  },
  {
   "cell_type": "markdown",
   "metadata": {},
   "source": [
    "## Problem 5:\n",
    "\n",
    "The following stand-alone program takes a url from the command line, reads the contents of a webpage, and prints it.\n",
    " \n",
    "Modify the program to take a filename as a second parameter and save the contents of the webpage in a text file.  \n",
    "\n",
    "```python\n",
    "    python save_url.py 'http://www.python.org/' pythonpage.txt\n",
    "```\n",
    "\n",
    "would save the contents of the webpage in the text file pythonpage.txt.  \n",
    "\n",
    "You may want to review the mycopy.py program from day 4 which takes two \n",
    "parameters and copies the contents of the first file to the second.  \n",
    "\n",
    "Use this and an editor to find the copyright notice on the following websites.\n",
    "\n",
    "```python\n",
    "    website = 'http://www.python.org/'\n",
    "    website = 'https://www.extension.harvard.edu'\n",
    "    website = 'http://en.wikipedia.org/wiki/Python'\n",
    "    \n",
    "    website = Your piazza link: mine looks something like this: \n",
    "            https://piazza.com/class/myxlplyxmyxlplyx?cid=194\n",
    "```\n",
    "You will need to remove the last bit from your piazza link that specifies the cid:  '?cid=194'.  In my case, this would leave https://piazza.com/class/myxlplyxmyxlplyx\n",
    "\n",
    "This problem gives you a chance to examine webpages, and shows how \n",
    "different website creators deal with a common problem, presenting a copyright.\n",
    "You will see that writing a program to extract the copyright from different websites would be difficult.  \n",
    "\n",
    "For example, here is the copyright notice for the New York Times, https://www.nytimes.com.  I have introduced whitespace to help visualize the element.  \n",
    "\n",
    "```python\n",
    "<li data-testid=\"copyright\">\n",
    "    <a class=\"css-jq1cx6\" href=\"https://help.nytimes.com/hc/en-us/articles/115014792127-Copyright-notice\">©     \n",
    "        <span>2020</span> \n",
    "        <span>The New York Times Company</span>\n",
    "    </a>\n",
    "</li>\n",
    "```\n",
    "\n",
    "One alternative way to view the source for a website is through your browser.\n",
    "For example, in Chrome you can use View/Developer/View Source"
   ]
  },
  {
   "cell_type": "code",
   "execution_count": null,
   "metadata": {},
   "outputs": [],
   "source": [
    "# read_url.py\n",
    "#\n",
    "# Jeff Parker\n",
    "#\n",
    "# Usage:\n",
    "#     python read_url.py <website>\n",
    "\n",
    "import urllib.request\n",
    "import sys\n",
    "\n",
    "\n",
    "def fetch_contents(website):\n",
    "    \"Return the contents of this webpage as a list of lines\"\n",
    "    try:\n",
    "        res = []\n",
    "\n",
    "        with urllib.request.urlopen(website) as f:\n",
    "            text = f.read().decode('utf-8')\n",
    "\n",
    "            # Break the page into lines\n",
    "            text = text.split('\\n')\n",
    "            for line in text:\n",
    "                res.append(line)\n",
    "    \n",
    "        return res\n",
    "\n",
    "    except urllib.error.URLError as e:\n",
    "        print(e.reason)\n",
    "        return []\n",
    "\n",
    "if (len(sys.argv) != 2):\n",
    "    print(f\"Usage: python read_url.py <website>\")\n",
    "else:\n",
    "    lst = fetch_contents(sys.argv[1])\n",
    "\n",
    "    # Now display the contents\n",
    "    for line in lst:\n",
    "        print(line)"
   ]
  },
  {
   "cell_type": "markdown",
   "metadata": {},
   "source": [
    "## Include your program below"
   ]
  },
  {
   "cell_type": "code",
   "execution_count": null,
   "metadata": {},
   "outputs": [],
   "source": [
    "# save_url.py\n",
    "#\n",
    "# Usage:\n",
    "#     python save_url.py <website> <textfile>\n",
    "\n",
    "import urllib.request\n",
    "import sys\n"
   ]
  },
  {
   "cell_type": "code",
   "execution_count": null,
   "metadata": {},
   "outputs": [],
   "source": [
    "# save_url.py\n",
    "# \n",
    "# Jeff Parker\n",
    "#\n",
    "# Usage:\n",
    "#     python save_utl.py <website> <output file>\n",
    "\n",
    "import urllib.request\n",
    "import sys\n",
    "\n",
    "def fetch_contents(website):\n",
    "    try:\n",
    "        res = []\n",
    "\n",
    "        with urllib.request.urlopen(website) as f:\n",
    "            text = f.read().decode('utf-8')\n",
    "\n",
    "            text = text.split('\\n')\n",
    "            for line in text:\n",
    "                res.append(line)\n",
    "   \n",
    "        return res\n",
    "\n",
    "    except urllib.error.URLError as e:\n",
    "        print(e.reason)\n",
    "        return []\n",
    "\n",
    "if (len(sys.argv) < 3):\n",
    "    print(f\"Usage: python save_url <website> <output file>\")\n",
    "else:\n",
    "    lst = fetch_contents(sys.argv[1])\n",
    "    dest = sys.argv[2]\n",
    "   \n",
    "    try:\n",
    "        with open(dest, 'w') as fout:\n",
    "            for line in lst:\n",
    "                fout.write(line)\n",
    "    except:\n",
    "        print(f\"Could not open {dest}\")"
   ]
  },
  {
   "cell_type": "markdown",
   "metadata": {},
   "source": [
    "### Show the webpage elements holding the copyright information for each website"
   ]
  },
  {
   "cell_type": "code",
   "execution_count": null,
   "metadata": {},
   "outputs": [],
   "source": [
    "### Copyright notice for 'http://www.python.org/'\n",
    "\n",
    "<div class=\"copyright\">\n",
    "    <p><small>\n",
    "        <span class=\"pre\">Copyright &copy;2001-2020.</span>\n",
    "        &nbsp;<span class=\"pre\"><a href=\"/psf-landing/\">Python Software Foundation</a></span>\n",
    "        &nbsp;<span class=\"pre\"><a href=\"/about/legal/\">Legal Statements</a></span>\n",
    "        &nbsp;<span class=\"pre\"><a href=\"/privacy/\">Privacy Policy</a></span>\n",
    "        &nbsp;<span class=\"pre\"><a href=\"/psf/sponsorship/sponsors/#heroku\">Powered by Heroku</a></span>\n",
    "    </small></p>\n",
    "</div>"
   ]
  },
  {
   "cell_type": "code",
   "execution_count": null,
   "metadata": {},
   "outputs": [],
   "source": [
    "### Copyright notice for 'https://www.extension.harvard.edu'\n",
    "\n",
    "<div class=\"pane-content longform\">\n",
    "    <p>Copyright &copy;2020 President and Fellows of Harvard College</p>\n",
    "</div>"
   ]
  },
  {
   "cell_type": "code",
   "execution_count": null,
   "metadata": {},
   "outputs": [],
   "source": [
    "### Copyright notice for 'http://en.wikipedia.org/wiki/Python'\n",
    "\n",
    "<li id=\"footer-info-copyright\">Text is available under the <a rel=\"license\" href=\"//en.wikipedia.org/wiki/Wikipedia:Text_of_Creative_Commons_Attribution-ShareAlike_3.0_Unported_License\">Creative Commons Attribution-ShareAlike License</a><a rel=\"license\" href=\"//creativecommons.org/licenses/by-sa/3.0/\" style=\"display:none;\"></a>;\n",
    "additional terms may apply.  By using this site, you agree to the <a href=\"//foundation.wikimedia.org/wiki/Terms_of_Use\">Terms of Use</a> and <a href=\"//foundation.wikimedia.org/wiki/Privacy_policy\">Privacy Policy</a>. Wikipedia® is a registered trademark of the <a href=\"//www.wikimediafoundation.org/\">Wikimedia Foundation, Inc.</a>, a non-profit organization.</li>\n",
    "\n",
    "\n",
    "<li id=\"footer-copyrightico\"><a href=\"https://wikimediafoundation.org/\"><img src=\"/static/images/footer/wikimedia-button.png\" srcset=\"/static/images/footer/wikimedia-button-1.5x.png 1.5x, /static/images/footer/wikimedia-button-2x.png 2x\" width=\"88\" height=\"31\" alt=\"Wikimedia Foundation\" loading=\"lazy\" /></a></li>"
   ]
  },
  {
   "cell_type": "markdown",
   "metadata": {},
   "source": [
    "# Post Mortem"
   ]
  },
  {
   "cell_type": "markdown",
   "metadata": {},
   "source": [
    "How long did it take you to solve this problem set?\n",
    "\n",
    "Did anything confuse you or cause difficulty?"
   ]
  },
  {
   "cell_type": "code",
   "execution_count": null,
   "metadata": {},
   "outputs": [],
   "source": [
    "# Enter your thoughts\n"
   ]
  }
 ],
 "metadata": {
  "kernelspec": {
   "display_name": "Python 3",
   "language": "python",
   "name": "python3"
  },
  "language_info": {
   "codemirror_mode": {
    "name": "ipython",
    "version": 3
   },
   "file_extension": ".py",
   "mimetype": "text/x-python",
   "name": "python",
   "nbconvert_exporter": "python",
   "pygments_lexer": "ipython3",
   "version": "3.8.3"
  }
 },
 "nbformat": 4,
 "nbformat_minor": 1
}
