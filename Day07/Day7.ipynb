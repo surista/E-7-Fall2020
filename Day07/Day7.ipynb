{
 "cells": [
  {
   "cell_type": "markdown",
   "metadata": {},
   "source": [
    "# Introduction to Programming in Python\n",
    "# Day 7 Notebook\n",
    "## Fall 2019 - (c) Jeff Parker"
   ]
  },
  {
   "cell_type": "markdown",
   "metadata": {},
   "source": [
    "# Topics\n",
    "- Code like a Pythonista\n",
    "- Homework\n",
    "- Enumerate\n",
    "- Reversing a List and Iterators\n",
    "- Throwing an Exception\n",
    "- Reversing a Dictionary\n",
    "- List Comprehensions\n",
    "- Tk File Picker\n",
    "- String Formatting"
   ]
  },
  {
   "cell_type": "markdown",
   "metadata": {},
   "source": [
    "## Rules to live by"
   ]
  },
  {
   "cell_type": "markdown",
   "metadata": {},
   "source": [
    "## Desiderata \n",
    "\n",
    "Max Ehrmann\n",
    "\n",
    "Go placidly amid the noise and haste, and remember what peace there may be in silence.\n",
    "\n",
    "As far as possible, without surrender, be on good terms with all persons. Speak your truth quietly and clearly; and listen to others, even to the dull and the ignorant, they too have their story. Avoid loud and aggressive persons, they are vexations to the spirit.\n",
    "\n",
    "If you compare yourself with others, you may become vain and bitter; for always there will be greater and lesser persons than yourself. Enjoy your achievements as well as your plans. Keep interested in your own career, however humble; it is a real possession in the changing fortunes of time.\n",
    "\n",
    "Exercise caution in your business affairs, for the world is full of trickery. But let this not blind you to what virtue there is; many persons strive for high ideals, and everywhere life is full of heroism. Be yourself. Especially, do not feign affection. Neither be cynical about love, for in the face of all aridity and disenchantment it is perennial as the grass.\n",
    "\n",
    "Take kindly to the counsel of the years, gracefully surrendering the things of youth. Nurture strength of spirit to shield you in sudden misfortune. But do not distress yourself with dark imaginings. Many fears are born of fatigue and loneliness.\n",
    "\n",
    "Beyond a wholesome discipline, be gentle with yourself. You are a child of the universe, no less than the trees and the stars; you have a right to be here. And whether or not it is clear to you, no doubt the universe is unfolding as it should.\n",
    "\n",
    "Therefore be at peace with God, whatever you conceive Him to be, and whatever your labors and aspirations, in the noisy confusion of life, keep peace in your soul.\n",
    "\n",
    "With all its sham, drudgery and broken dreams, it is still a beautiful world.\n",
    "\n",
    "Be cheerful. Strive to be happy."
   ]
  },
  {
   "cell_type": "code",
   "execution_count": null,
   "metadata": {},
   "outputs": [],
   "source": [
    "import this"
   ]
  },
  {
   "cell_type": "markdown",
   "metadata": {},
   "source": [
    "### You know enough Python to start puzzling through Code Like a Pythonista!\n",
    "\n",
    "### This is a guide to idiomatic Python\n",
    "\n",
    "### http://www.omahapython.org/IdiomaticPython.html"
   ]
  },
  {
   "cell_type": "markdown",
   "metadata": {},
   "source": [
    "# Homework"
   ]
  },
  {
   "cell_type": "markdown",
   "metadata": {},
   "source": [
    "# Student's Strings to Ints"
   ]
  },
  {
   "cell_type": "code",
   "execution_count": null,
   "metadata": {},
   "outputs": [],
   "source": [
    "from typing import List\n",
    "\n",
    "def strings_to_ints(text: str) -> List[int]:\n",
    "    \"\"\"Take a comma-separated list of integers and return a list of integers\"\"\"\n",
    "    intlist = text.split(',')\n",
    "    try:\n",
    "        finallist = []\n",
    "        for obj in intlist:\n",
    "            finallist.append(int(obj))\n",
    "        else:\n",
    "            return finallist\n",
    "    except ValueError:\n",
    "        print(\"Error: comma-separated list contains non-integers\")\n",
    "        return []\n",
    "    \n",
    "print(strings_to_ints('1, 2, three'))"
   ]
  },
  {
   "cell_type": "markdown",
   "metadata": {},
   "source": [
    "## Focus on error message\n",
    "\n",
    "### Would you like this error message?\n",
    "        \n",
    "###        print(\"Error: comma-separated list contains non-integers\")\n",
    "\n",
    "### *comma-separated list* - Why do I care?\n",
    " \n",
    "### *list contains non-integers* - It does?  Which ones?  "
   ]
  },
  {
   "cell_type": "markdown",
   "metadata": {},
   "source": [
    "## What if we had found valid integers?\n",
    "## Can we save anything?\n",
    "### Isolate the error: clamp try/except around problem"
   ]
  },
  {
   "cell_type": "code",
   "execution_count": null,
   "metadata": {},
   "outputs": [],
   "source": [
    "from typing import List\n",
    "\n",
    "def strings_to_ints(text: str) -> List[int]:\n",
    "    \"\"\"Take a comma-separated list of integers and return a list of integers\"\"\"\n",
    "    intlist = text.split(',')\n",
    "    finallist = []\n",
    "    for obj in intlist:\n",
    "        try:\n",
    "            finallist.append(int(obj))\n",
    "        except ValueError:\n",
    "            print(\"Could not parse string:\", obj)\n",
    "    return finallist\n",
    "\n",
    "print(strings_to_ints('1, 2, three, 4'))"
   ]
  },
  {
   "cell_type": "markdown",
   "metadata": {},
   "source": [
    "# Oxford Comma"
   ]
  },
  {
   "cell_type": "code",
   "execution_count": null,
   "metadata": {},
   "outputs": [],
   "source": [
    "def oxford_comma(lst: List[str]) -> str:\n",
    "    \"\"\"Take a list and apply the rules for Oxford Comma\"\"\"\n",
    "    if len(lst) == 0:\n",
    "        return \"\"\n",
    "    if len(lst) == 1:\n",
    "        return str(lst[0])            \n",
    "    if len(lst) == 2:\n",
    "        return str(lst[0]) + \" and \" + str(lst[1])\n",
    "    lelement = str(lst.pop(-1))\n",
    "    testlist = lelement.split(\" \")\n",
    "    a = str(lst.pop(0))          \n",
    "    if len(testlist) == 1:\n",
    "        for obj in lst:\n",
    "            a = a + \", \" + str(obj)\n",
    "        return a + \", and \" + str(testlist[0])\n",
    "    else:\n",
    "        ntlist = lelement.split(\" and\")\n",
    "        if len(ntlist) == 1:\n",
    "            for obj in lst:\n",
    "                a = a + \", \" + str(obj)\n",
    "            return a + \", and \" + str(ntlist[0])\n",
    "        if len(ntlist) > 1:\n",
    "            for obj in lst:\n",
    "                a = a + \", \" + str(obj)\n",
    "            return a + \", \" + str(ntlist[0]) + \", and\" + str(ntlist[1])"
   ]
  },
  {
   "cell_type": "markdown",
   "metadata": {},
   "source": [
    "## Review\n",
    "```python\n",
    "    if len(lst) == 1:\n",
    "        return str(lst[0]) \n",
    "```\n",
    "### list[0] is a string.  Why are we taking str(lst[0])?\n",
    "### Many other unneed calls to str()"
   ]
  },
  {
   "cell_type": "markdown",
   "metadata": {},
   "source": [
    "## What is going on here?\n",
    "\n",
    "```python\n",
    "    lelement = str(lst.pop(-1))\n",
    "    testlist = lelement.split(\" \")\n",
    "    a = str(lst.pop(0))          \n",
    "    if len(testlist) == 1:\n",
    "        for obj in lst:\n",
    "            a = a + \", \" + str(obj)\n",
    "        return a + \", and \" + str(testlist[0])\n",
    "    else:\n",
    "        ntlist = lelement.split(\" and\")\n",
    "        if len(ntlist) == 1:\n",
    "            for obj in lst:\n",
    "                a = a + \", \" + str(obj)\n",
    "            return a + \", and \" + str(ntlist[0])\n",
    "        if len(ntlist) > 1:\n",
    "            for obj in lst:\n",
    "                a = a + \", \" + str(obj)\n",
    "            return a + \", \" + str(ntlist[0]) + \", and\" + str(ntlist[1])\n",
    "```\n",
    "## We have handled empty string, singleton, and doubleton\n",
    "## Three or more is one case, not two cases"
   ]
  },
  {
   "cell_type": "markdown",
   "metadata": {},
   "source": [
    "## My solution to this part:\n",
    "```python\n",
    "        return ', '.join(lst[:-1]) + ', and ' + lst[-1]\n",
    "```\n",
    "### Join the front of the list with \", \"\n",
    "### Append the oxford comma, an \"and\", and the last element\n",
    "## Would it be better to have a second join?\n",
    "### Perhaps, but harder to read"
   ]
  },
  {
   "cell_type": "code",
   "execution_count": null,
   "metadata": {},
   "outputs": [],
   "source": [
    "def oxford_comma(lst: List[str]) -> str:\n",
    "    \"Take a list of strings and return a string\"\n",
    "    if len(lst) == 0:\n",
    "        return ''   # return the empty string if nothing in the list\n",
    "    elif len(lst) == 1:\n",
    "        return lst[0]\n",
    "    elif len(lst) == 2:\n",
    "        return lst[0] + ' and ' + lst[1]\n",
    "    else:\n",
    "        return ', '.join(lst[:-1]) + ', and ' + lst[-1]"
   ]
  },
  {
   "cell_type": "markdown",
   "metadata": {},
   "source": [
    "# Parentheses"
   ]
  },
  {
   "cell_type": "code",
   "execution_count": null,
   "metadata": {},
   "outputs": [],
   "source": [
    "def test_parens():\n",
    "    assert(is_valid_parens(\"\"))\n",
    "    assert(is_valid_parens(\"[]\"))\n",
    "    assert(is_valid_parens('{()[{}]}'))\n",
    "    assert(is_valid_parens(\"{}\"))\n",
    "    assert(is_valid_parens(\"{[]}\"))\n",
    "    assert(is_valid_parens(\"{}[]\"))\n",
    "    assert(is_valid_parens(\"([{}({}[])])\"))\n",
    "\n",
    "    assert(not is_valid_parens('{()[{}}]'))\n",
    "    assert(not is_valid_parens(\"[[\")) \n",
    "    assert(not is_valid_parens(\"}{\")) \n",
    "    assert(not is_valid_parens(\"{]\")) \n",
    "    assert(not is_valid_parens(\"{[])\")) \n",
    "    assert(not is_valid_parens(\"{[)][]}\")) \n",
    "    assert(not is_valid_parens(\"([{])\")) \n",
    "    assert(not is_valid_parens(\"[({]})\")) \n",
    "    \n",
    "    return 'Pass'"
   ]
  },
  {
   "cell_type": "markdown",
   "metadata": {},
   "source": [
    "## Student submission"
   ]
  },
  {
   "cell_type": "code",
   "execution_count": null,
   "metadata": {},
   "outputs": [],
   "source": [
    "def is_valid_parenthesis(expression: str) -> bool:\n",
    "    \"\"\"Is this string a valid set of parenthesis?\"\"\"\n",
    "    stack = []\n",
    "    for ch in expression:\n",
    "        if (ch == \"[\") or (ch == \"{\") or (ch == \"(\"):\n",
    "            stack.append(ch)\n",
    "        if ch == \"]\":\n",
    "            if (stack.count(\"[\") > 0) and (stack[-1] == \"[\"):\n",
    "                stack.pop(-1)\n",
    "            else:\n",
    "                return False\n",
    "        if ch == \"}\":  \n",
    "            if (stack.count(\"{\") > 0) and (stack[-1] == \"{\"):\n",
    "                stack.pop(-1)\n",
    "            else:\n",
    "                return False\n",
    "        if ch == \")\":\n",
    "            if (stack.count(\"(\") > 0) and (stack[-1] == \"(\"):\n",
    "                stack.pop(-1)\n",
    "            else:\n",
    "                return False\n",
    "    if len(stack) == 0:\n",
    "        return True\n",
    "    else:\n",
    "        return False\n"
   ]
  },
  {
   "cell_type": "markdown",
   "metadata": {},
   "source": [
    "## Review\n",
    "```python\n",
    "    for ch in expression:\n",
    "        if (ch == \"[\") or (ch == \"{\") or (ch == \"(\"):\t\n",
    "```\n",
    "### Deploy Membership testing on the set of Open Parens\n",
    "```python\n",
    "    for ch in expression:\n",
    "        if ch in \"[{(\":\t\n",
    "```\n",
    "### ... or use a set.  Or a Dictionary.  Or a list\n",
    "### Should be at top of function - see fuller example below\n",
    "\n",
    "## Now time to pop\n",
    "```python\n",
    "        if ch == \"]\":\n",
    "            if (stack.count(\"[\") > 0) and (stack[-1] == \"[\"):\t\t \n",
    "                stack.pop(-1)\n",
    "            else:\n",
    "                return False\n",
    "        if ch == \"}\":\t\t\t\t\t\t\t  \n",
    "            if (stack.count(\"{\") > 0) and (stack[-1] == \"{\"):\n",
    "                stack.pop(-1)\n",
    "            else:\n",
    "                return False\n",
    "        if ch == \")\":\n",
    "            if (stack.count(\"(\") > 0) and (stack[-1] == \"(\"):\n",
    "                stack.pop(-1)\n",
    "            else:\n",
    "                return False\n",
    "```\n",
    "## You are doing the same thing three times.  \n",
    "### Use a dictionary to map between the two types of parens\n",
    "### *Should we use open or close paren as key?*\n",
    "## Look at what we do for ')'\n",
    "```python\n",
    "        if ch == \")\":\n",
    "            if (stack.count(\"(\") > 0) and (stack[-1] == \"(\"):\n",
    "                stack.pop(-1)\n",
    "            else:\n",
    "                return False\n",
    "```\n",
    "### EIther this matches, or it doesn't. If it doesn't, game over.\n",
    "## *Don't dither: pop and compare*\n",
    "### Not stack.pop(-1) - pop() is pop(-1)\n",
    "```python\n",
    "        if ch == \")\":\n",
    "            if \"(\" != stack.pop():\n",
    "                return False\n",
    "```\n",
    "## Final return: end of expression\n",
    "```python\n",
    "    if len(stack) == 0:            \t\t\t\t\t \n",
    "        return True\n",
    "    else:\n",
    "        return False\n",
    "```\n",
    "## Pythonistas say:\n",
    "```python\n",
    "    return len(stack) == 0\n",
    "```"
   ]
  },
  {
   "cell_type": "markdown",
   "metadata": {},
   "source": [
    "# Match routine: do these match?\n",
    "## Violates the 79 col rule"
   ]
  },
  {
   "cell_type": "code",
   "execution_count": null,
   "metadata": {},
   "outputs": [],
   "source": [
    "# Takes a string, and returns a Boolean \n",
    "#  '{()[{}]}' is valid:    return True\n",
    "#  '{()[{}}' is not:       return False\n",
    "\n",
    "def match(c1,c2):\n",
    "    if (c1 == '{') and (c2 == '}') and (c1 == '(') and (c2 == ')') and (c1 == '[') and (c2 == ']'):\n",
    "        return True\n",
    "    else:\n",
    "        return False\n",
    "    \n",
    "match('(', ')')"
   ]
  },
  {
   "cell_type": "markdown",
   "metadata": {},
   "source": [
    "## Does this work?"
   ]
  },
  {
   "cell_type": "code",
   "execution_count": null,
   "metadata": {},
   "outputs": [],
   "source": [
    "# Takes a string, and returns a Boolean \n",
    "#  '{()[{}]}' is valid:    return True\n",
    "#  '{()[{}}' is not:       return False\n",
    "def is_valid_parens(s):\n",
    "    \n",
    "    stack = []\n",
    "    \n",
    "    for ch in s:\n",
    "        if (ch == '(') or (ch == '[') or (ch == '{'):\n",
    "            print(\"Push\", ch)\n",
    "            stack.append(ch)\n",
    "        else:\n",
    "            print(stack.pop())\n",
    "            try: \n",
    "                stack.pop()\n",
    "            except IndexError:\n",
    "                print (\"Nothing Left!\")\n",
    "            val = stack.pop()\n",
    "            print(\"Popped\", val, ch)\n",
    "            print(match(val, ch))\n",
    "            \n",
    "            if not match(val, ch):\n",
    "                return False\n",
    "            \n",
    "    if (stack != []):\n",
    "        return False\n",
    "                \n",
    "s = '{([]{}[])}'\n",
    "print(is_valid_parens(s))\n",
    "\n",
    "test_parens()\n",
    "# res = is_valid_parens(\"\")\n",
    "# print(res)"
   ]
  },
  {
   "cell_type": "markdown",
   "metadata": {},
   "source": [
    "```python\n",
    "        else:\n",
    "            print(stack.pop())\n",
    "            try: \n",
    "                stack.pop()\n",
    "            except IndexError:\n",
    "                print (\"Nothing Left!\")\n",
    "            val = stack.pop()\n",
    "```\n",
    "### Pops three times.  You only want to pop() one thing"
   ]
  },
  {
   "cell_type": "markdown",
   "metadata": {},
   "source": [
    "## New solution"
   ]
  },
  {
   "cell_type": "code",
   "execution_count": null,
   "metadata": {},
   "outputs": [],
   "source": [
    "# Andres\n",
    "\n",
    "# Takes a string, and returns a Boolean \n",
    "#  '{()[{}]}' is valid:    return True\n",
    "#  '{()[{}}' is not:       return False\n",
    "def is_valid_parens(s):\n",
    "    paren_list = []   \n",
    "    opens = ['(', '{', '[']   # a list for things that count as opens\n",
    "    pairs = {'[':']', '{':'}', '(':')'}   # a dictionary for things that count as pairs\n",
    "    \n",
    "    # loop through each character in the string\n",
    "    for ch in s:\n",
    "        # if the character counts as an open, add it to the list\n",
    "        if ch in opens:\n",
    "            paren_list.append(ch)\n",
    "        # othwerise it should be a close\n",
    "        else:\n",
    "            # make sure you don't try to pop off an empty list\n",
    "            if len(paren_list) != 0:\n",
    "                # pop the last thing added to the list\n",
    "                cur = paren_list.pop()\n",
    "                # determine if the popped item and the current item are a pair\n",
    "                if pairs[cur] == ch:\n",
    "                    # if so keep going on\n",
    "                    continue\n",
    "                else:\n",
    "                    # otherwise it's not a pair so it's not valid\n",
    "                    return False\n",
    "    # at this point the list should be empt if it's valid\n",
    "    # if it's not empty then it is a list of all opens, which is not valid\n",
    "    if len(paren_list) != 0:\n",
    "        return False\n",
    "    \n",
    "    return True\n",
    "\n",
    "test_parens()"
   ]
  },
  {
   "cell_type": "markdown",
   "metadata": {},
   "source": [
    "## Nice job: note the use of dictionary to match the parens\n",
    "## He doesn't react properly when the stack is empty\n",
    "\n",
    "## New attempt"
   ]
  },
  {
   "cell_type": "code",
   "execution_count": null,
   "metadata": {},
   "outputs": [],
   "source": [
    "def is_valid_parens(s):\n",
    "    paren_pair = {'(':')','{':'}','[':']'}\n",
    "    t=[]\n",
    "    for i in s:\n",
    "        t.append(i)\n",
    "    print(t)\n",
    "    if len(t)==0:\n",
    "        return True\n",
    "    if (len(t)<=2 and paren_pair[t[j]]==t[j+1]):\n",
    "        t.pop(j)\n",
    "        t.pop(j)\n",
    "    elif (len(t)>2):\n",
    "        for i in range (len(t)-1):\n",
    "            for j in range (len(t)-1):\n",
    "                print(i, j, t)\n",
    "                if paren_pair[t[j]]==t[j+1]:\n",
    "                    t.pop(j)\n",
    "                    t.pop(j)\n",
    "    else: \n",
    "        return False\n",
    "    return len(t)==0\n",
    "\n",
    "is_valid_parens(\"[()]\")"
   ]
  },
  {
   "cell_type": "markdown",
   "metadata": {},
   "source": [
    "## Let's find out what is going on\n",
    "## Add print before line 15"
   ]
  },
  {
   "cell_type": "code",
   "execution_count": null,
   "metadata": {},
   "outputs": [],
   "source": [
    "def is_valid_parens(s):\n",
    "    paren_pair = {'(':')','{':'}','[':']'}\n",
    "    t=[]\n",
    "    for i in s:\n",
    "        t.append(i)\n",
    "    print(t)\n",
    "    if len(t)==0:\n",
    "        return True\n",
    "    if (len(t)<=2 and paren_pair[t[j]]==t[j+1]):\n",
    "        t.pop(j)\n",
    "        t.pop(j)\n",
    "    elif (len(t)>2):\n",
    "        for i in range (len(t)-1):\n",
    "            for j in range (len(t)-1):\n",
    "                print(i, j, t)                    # - jdp\n",
    "                if paren_pair[t[j]]==t[j+1]:\n",
    "                    t.pop(j)\n",
    "                    t.pop(j)\n",
    "    else: \n",
    "        return False\n",
    "    return len(t)==0\n",
    "\n",
    "is_valid_parens(\"[()]\")"
   ]
  },
  {
   "cell_type": "markdown",
   "metadata": {},
   "source": [
    "# https://www.masterfile.com/image/en/846-05647442"
   ]
  },
  {
   "cell_type": "markdown",
   "metadata": {},
   "source": [
    "# Fred Brooks\n",
    "## Mythical Man Month\n",
    "### https://en.wikipedia.org/wiki/The_Mythical_Man-Month\n",
    "\n",
    "\"Some people have called the book the 'bible of software engineering'. I would agree with that in one respect: that is, everybody quotes it, some people read it, and a few people go by it.\"\n",
    "\n",
    "## Write two, and throw one away"
   ]
  },
  {
   "cell_type": "markdown",
   "metadata": {},
   "source": [
    "## Rewrite"
   ]
  },
  {
   "cell_type": "code",
   "execution_count": null,
   "metadata": {},
   "outputs": [],
   "source": [
    "def is_valid_parens(s):\n",
    "    paren_pair = {'(':')','{':'}','[':']'}\n",
    "    \n",
    "    t = list(s)\n",
    "    # Try to remove a pair\n",
    "    while (len(t) > 0):\n",
    "        matched = False\n",
    "        # Look at adjacent characters\n",
    "        for pos in range(len(t) - 1):\n",
    "            # Do they match?\n",
    "            if paren_pair[t[pos]] == t[pos+1]:\n",
    "                matched = True\n",
    "                t.pop(pos+1)\n",
    "                t.pop(pos)\n",
    "                break\n",
    "        # If we didn't make progress, quit\n",
    "        if not matched:\n",
    "            return False\n",
    "    \n",
    "    return (len(t) == 0) \n",
    "\n",
    "\n",
    "test_parens()"
   ]
  },
  {
   "cell_type": "markdown",
   "metadata": {},
   "source": [
    "## Works on all the positive tests: fails a negative test\n",
    "### Key error on '}' - we were trying to lookup '}'"
   ]
  },
  {
   "cell_type": "markdown",
   "metadata": {},
   "source": [
    "## Re-re-write using Enumerate\n",
    "### Allows you to get number and the value in a for loop\n",
    "### Will simplify the code"
   ]
  },
  {
   "cell_type": "code",
   "execution_count": null,
   "metadata": {},
   "outputs": [],
   "source": [
    "# Sample Enumerate to see how they work\n",
    "t = list(\"[()]\")\n",
    "print(t)\n",
    "\n",
    "# We get the index (pos) and the value (ch)\n",
    "for pos, ch in enumerate(t[:-1]):\n",
    "    print(pos, ch)"
   ]
  },
  {
   "cell_type": "markdown",
   "metadata": {},
   "source": [
    "## Zap matching Parens using enumerate and While "
   ]
  },
  {
   "cell_type": "code",
   "execution_count": null,
   "metadata": {},
   "outputs": [],
   "source": [
    "def is_valid_parens(s):\n",
    "    paren_pair = {'(':')','{':'}','[':']'}\n",
    "    \n",
    "    t = list(s)\n",
    "    \n",
    "    # Try to remove one pair\n",
    "    matched = True\n",
    "    while (matched):\n",
    "        matched = False\n",
    "        \n",
    "        # Look at adjacent characters\n",
    "        # We use the enumerate function\n",
    "        for pos, ch in enumerate(t[:-1]):\n",
    "            \n",
    "            # Is this an open paren with matching close?\n",
    "            if ch in '({[' and paren_pair[ch] == t[pos+1]:\n",
    "                \n",
    "                # Remove the pair\n",
    "                t.pop(pos+1)         # Clearer to pop later one first\n",
    "                t.pop(pos)\n",
    "                \n",
    "                # Go around again\n",
    "                matched = True\n",
    "                break\n",
    "    \n",
    "    return (len(t) == 0) \n",
    "\n",
    "\n",
    "test_parens()"
   ]
  },
  {
   "cell_type": "markdown",
   "metadata": {},
   "source": [
    "## My solution"
   ]
  },
  {
   "cell_type": "code",
   "execution_count": null,
   "metadata": {},
   "outputs": [],
   "source": [
    "# Takes a string, and returns a Boolean \n",
    "#  '{()[{}]}' is valid:    return True\n",
    "#  '{()[{}}' is not:       return False\n",
    "def is_valid_parens(s):\n",
    "    stack = []   \n",
    "    pairs = {'[':']', '{':'}', '(':')'}   # a dictionary for things that count as pairs\n",
    "    \n",
    "    # loop through each character in the string\n",
    "    for ch in s:\n",
    "        if ch in pairs:\n",
    "            stack.append(ch)\n",
    "        else:\n",
    "            try: \n",
    "                cur = stack.pop()\n",
    "            except IndexError:\n",
    "                return False\n",
    "            \n",
    "            # Do the pair match?\n",
    "            if pairs[cur] != ch:\n",
    "                return False\n",
    "\n",
    "    # If the list is empty, we have a valid expression\n",
    "    return len(stack) == 0 \n",
    "\n",
    "test_parens()"
   ]
  },
  {
   "cell_type": "markdown",
   "metadata": {},
   "source": [
    "# Count Bigrams"
   ]
  },
  {
   "cell_type": "markdown",
   "metadata": {},
   "source": [
    "## Going in circles"
   ]
  },
  {
   "cell_type": "code",
   "execution_count": null,
   "metadata": {},
   "outputs": [],
   "source": [
    "def readFastaFile(fileName: str) -> str:\n",
    "    \"Read in a fasta file, return contents\"\n",
    "\n",
    "    try:\n",
    "        with open(fileName, 'r') as f:\n",
    "            lines = f.readlines()[1:]\n",
    "            return lines\n",
    "            \n",
    "    except IOError:\n",
    "        return '%s does not exist' % fileName"
   ]
  },
  {
   "cell_type": "markdown",
   "metadata": {},
   "source": [
    "## Does it work?  Let's try it!"
   ]
  },
  {
   "cell_type": "code",
   "execution_count": null,
   "metadata": {},
   "outputs": [],
   "source": [
    "print(readFastaFile('sample.fasta'))"
   ]
  },
  {
   "cell_type": "markdown",
   "metadata": {},
   "source": [
    "## New routine"
   ]
  },
  {
   "cell_type": "code",
   "execution_count": null,
   "metadata": {},
   "outputs": [],
   "source": [
    "from typing import Dict\n",
    "\n",
    "def countDigrams(text: str) -> Dict[str, int]:\n",
    "    pairsCount: Dict[str, int] = {}        \n",
    "    lst = []\n",
    "    for i in range(0,len(text),1):\n",
    "        lst.append(text[i:(i+2)])\n",
    "        for ch in lst:\n",
    "            if (ch in pairsCount):\n",
    "                pairsCount[ch] = pairsCount[ch] + 1\n",
    "            else:\n",
    "                pairsCount[ch] = 1       \n",
    "    return pairsCount"
   ]
  },
  {
   "cell_type": "markdown",
   "metadata": {},
   "source": [
    "### Small test case"
   ]
  },
  {
   "cell_type": "code",
   "execution_count": null,
   "metadata": {},
   "outputs": [],
   "source": [
    "print(countDigrams('ABCDE'))"
   ]
  },
  {
   "cell_type": "code",
   "execution_count": null,
   "metadata": {},
   "outputs": [],
   "source": [
    "print(countDigrams('EDCBA'))"
   ]
  },
  {
   "cell_type": "markdown",
   "metadata": {},
   "source": [
    "<img src=\"CH.jpg\">"
   ]
  },
  {
   "cell_type": "markdown",
   "metadata": {},
   "source": [
    "# My Solution(s)"
   ]
  },
  {
   "cell_type": "code",
   "execution_count": null,
   "metadata": {},
   "outputs": [],
   "source": [
    "# bigram.py\n",
    "#\n",
    "# Jeff Parker      Jan 2010\n",
    "#\n",
    "# Count the frequency of each pair of bases in a sequence found in a Fasta File\n",
    "\n",
    "import sys\n",
    "import string\n",
    "from typing import Dict\n",
    "\n",
    "def readFastaFile(fileName: str) -> str:\n",
    "    \"Read in a fasta file\"\n",
    "\n",
    "    try:\n",
    "        f = open(fileName, 'r')\n",
    "        # First line in Fasta format is header\n",
    "        line = f.readline()\n",
    "\n",
    "        # Read rest of file\n",
    "        text = f.read()\n",
    "\n",
    "        # Remove cruft\n",
    "        text = text.replace('\\n', '')\n",
    "        text = text.upper()\n",
    "\n",
    "        return text\n",
    "\n",
    "    except IOError:\n",
    "        return ''"
   ]
  },
  {
   "cell_type": "code",
   "execution_count": null,
   "metadata": {},
   "outputs": [],
   "source": [
    "s = readFastaFile('../../Data/ecoli.fasta')\n",
    "print(len(s))"
   ]
  },
  {
   "cell_type": "markdown",
   "metadata": {},
   "source": [
    "# Count the pairs"
   ]
  },
  {
   "cell_type": "code",
   "execution_count": null,
   "metadata": {},
   "outputs": [],
   "source": [
    "def countDigrams(fileName: str) -> Dict[str, int]:\n",
    "    \"Count the pairs in the file\"\n",
    "\n",
    "    text = readFastaFile(fileName)\n",
    "\n",
    "    pairsCount: Dict[str, int] = {}\n",
    "\n",
    "    # Go over all pairs in the sequence\n",
    "    for x in range(len(text) - 1):\n",
    "        pair = text[x:x+2]\n",
    "\n",
    "        # Increment count - LBYL\n",
    "        if (pair in pairsCount):\n",
    "            pairsCount[pair] = pairsCount[pair] + 1\n",
    "        else:\n",
    "            pairsCount[pair] = 1\n",
    "\n",
    "    return pairsCount"
   ]
  },
  {
   "cell_type": "code",
   "execution_count": null,
   "metadata": {},
   "outputs": [],
   "source": [
    "d = countDigrams('../../Data/ecoli.fasta')\n",
    "print(len(d))"
   ]
  },
  {
   "cell_type": "markdown",
   "metadata": {},
   "source": [
    "# Print the table"
   ]
  },
  {
   "cell_type": "code",
   "execution_count": null,
   "metadata": {},
   "outputs": [],
   "source": [
    "def printDigrams(pairsCount: Dict[str, int]):\n",
    "    \"Print the digrams\"\n",
    "\n",
    "    bases = ['A', 'G', 'C', 'T']\n",
    "\n",
    "    # Print the column headings\n",
    "    print(' ', end=' ')\n",
    "    for ch in bases:\n",
    "        print(ch.rjust(7), end=' ')\n",
    "    print()\n",
    "\n",
    "    # Print the body of the table\n",
    "    for ch1 in bases:\n",
    "        print(ch1, end=' ')\n",
    "\n",
    "        for ch2 in bases:\n",
    "            digram = ch1 + ch2\n",
    "            if (digram in pairsCount):\n",
    "                count = pairsCount[digram]\n",
    "            else:\n",
    "                count = 0\n",
    "\n",
    "            # Print count, with formating\n",
    "            print(repr(count).rjust(7), end=' ')\n",
    "        print()"
   ]
  },
  {
   "cell_type": "code",
   "execution_count": null,
   "metadata": {},
   "outputs": [],
   "source": [
    "d = countDigrams('../../Data/ecoli.fasta')\n",
    "\n",
    "printDigrams(d)"
   ]
  },
  {
   "cell_type": "markdown",
   "metadata": {},
   "source": [
    "# Alternative to indexing\n",
    "\n",
    "## We can simplify this loop\n",
    "\n",
    "```python\n",
    "    for x in range(len(text) - 1):\n",
    "        pair = text[x:x+2]\n",
    "\n",
    "        # Increment count - LBYL\n",
    "        if (pair in pairsCount):\n",
    "            pairsCount[pair] = pairsCount[pair] + 1\n",
    "        else:\n",
    "            pairsCount[pair] = 1\n",
    "```\n",
    "### Use defaultdict\n",
    "### Use zip() to produce the pairs"
   ]
  },
  {
   "cell_type": "code",
   "execution_count": null,
   "metadata": {},
   "outputs": [],
   "source": [
    "from collections import defaultdict\n",
    "\n",
    "def countDigrams(fileName: str) -> Dict[str, int]:\n",
    "    \"Count the pairs in the file\"\n",
    "\n",
    "    text = readFastaFile(fileName)\n",
    "\n",
    "    pairsCount = defaultdict(int)\n",
    "\n",
    "    # Go over all pairs in the sequence\n",
    "    for x in range(len(text) - 1):\n",
    "        pair = text[x:x+2]\n",
    "        pairsCount[pair] = pairsCount[pair] + 1\n",
    "\n",
    "    return pairsCount"
   ]
  },
  {
   "cell_type": "code",
   "execution_count": null,
   "metadata": {},
   "outputs": [],
   "source": [
    "d = countDigrams('../../Data/ecoli.fasta')\n",
    "printDigrams(d)"
   ]
  },
  {
   "cell_type": "markdown",
   "metadata": {},
   "source": [
    "# Can we skip the indexing?"
   ]
  },
  {
   "cell_type": "code",
   "execution_count": null,
   "metadata": {},
   "outputs": [],
   "source": [
    "s = 'abcdefg'\n",
    "print(s[:-1])\n",
    "print(s[1:])"
   ]
  },
  {
   "cell_type": "markdown",
   "metadata": {},
   "source": [
    "## Use the function zip()\n",
    "### https://docs.python.org/3/library/functions.html#zip"
   ]
  },
  {
   "cell_type": "code",
   "execution_count": null,
   "metadata": {},
   "outputs": [],
   "source": [
    "s = 'abcdefg'\n",
    "\n",
    "stream = zip(s[:-1], s[1:])\n",
    "print(type(stream))\n",
    "\n",
    "for t in stream:\n",
    "    # print(type(t))\n",
    "    pair = t[0] + t[1]\n",
    "    print(pair, end=', ')\n",
    "    "
   ]
  },
  {
   "cell_type": "markdown",
   "metadata": {},
   "source": [
    "# Revise count Digram"
   ]
  },
  {
   "cell_type": "code",
   "execution_count": null,
   "metadata": {},
   "outputs": [],
   "source": [
    "from collections import defaultdict\n",
    "\n",
    "def countDigrams(fileName: str) -> Dict[str, int]:\n",
    "    \"Count the pairs in the file\"\n",
    "\n",
    "    text = readFastaFile(fileName)\n",
    "\n",
    "    pairsCount = defaultdict(int)\n",
    "    \n",
    "    for t in zip(text[:-1], text[1:]):\n",
    "        pair = t[0] + t[1]\n",
    "        pairsCount[pair] = pairsCount[pair] + 1\n",
    "\n",
    "    return pairsCount"
   ]
  },
  {
   "cell_type": "code",
   "execution_count": null,
   "metadata": {},
   "outputs": [],
   "source": [
    "d = countDigrams('../../Data/ecoli.fasta')\n",
    "printDigrams(d)"
   ]
  },
  {
   "cell_type": "markdown",
   "metadata": {},
   "source": [
    "## Compare to original"
   ]
  },
  {
   "cell_type": "code",
   "execution_count": null,
   "metadata": {},
   "outputs": [],
   "source": [
    "def countDigrams(fileName: str) -> Dict[str, int]:\n",
    "    \"Count the pairs in the file\"\n",
    "\n",
    "    text = readFastaFile(fileName)\n",
    "\n",
    "    pairsCount: Dict[str, int] = {}\n",
    "\n",
    "    # Go over all pairs in the sequence\n",
    "    for x in range(len(text) - 1):\n",
    "        pair = text[x:x+2]\n",
    "\n",
    "        # Increment count - LBYL\n",
    "        if (pair in pairsCount):\n",
    "            pairsCount[pair] = pairsCount[pair] + 1\n",
    "        else:\n",
    "            pairsCount[pair] = 1\n",
    "\n",
    "    return pairsCount"
   ]
  },
  {
   "cell_type": "markdown",
   "metadata": {},
   "source": [
    "## Could take another step, and have dictionary use tuples as keys"
   ]
  },
  {
   "cell_type": "markdown",
   "metadata": {},
   "source": [
    "# How Raise an exception"
   ]
  },
  {
   "cell_type": "code",
   "execution_count": null,
   "metadata": {},
   "outputs": [],
   "source": [
    "# For more info, see https://docs.python.org/3/tutorial/errors.html\n",
    "\n",
    "# Example: return the sum of elements in list\n",
    "def sum_list(lst: list) -> int:\n",
    "    if len(lst) == 0:\n",
    "        raise ValueError\n",
    "    return sum(lst)\n",
    "        \n",
    "    \n",
    "sum_list([1, 2, 3])"
   ]
  },
  {
   "cell_type": "code",
   "execution_count": null,
   "metadata": {},
   "outputs": [],
   "source": [
    "sum_list([])"
   ]
  },
  {
   "cell_type": "markdown",
   "metadata": {},
   "source": [
    "## Better to return a string explaining the issue"
   ]
  },
  {
   "cell_type": "code",
   "execution_count": null,
   "metadata": {},
   "outputs": [],
   "source": [
    "# For more info, see https://docs.python.org/3/tutorial/errors.html\n",
    "\n",
    "# Example: return the sum of elements in list\n",
    "def sum_list(lst: list) -> int:\n",
    "    if len(lst) == 0:\n",
    "        raise ValueError(\"Empty List in sum_list()!\")\n",
    "    return sum(lst)\n",
    "        \n",
    "\n",
    "sum_list([])"
   ]
  },
  {
   "cell_type": "markdown",
   "metadata": {},
   "source": [
    "# Example from Downey\n",
    "## Is this value in that dictionary?"
   ]
  },
  {
   "cell_type": "code",
   "execution_count": null,
   "metadata": {},
   "outputs": [],
   "source": [
    "# 11.4\n",
    "\n",
    "d = {'one':1, 'two':2, 'three':3}\n",
    "\n",
    "# Is v a value in dictionary d?\n",
    "def reverse_lookup(d: dict, v: str) -> bool:\n",
    "    # Run over all the keys\n",
    "    for k in d:\n",
    "        if d[k] == v:\n",
    "            return k\n",
    "        \n",
    "    # Not found: raise an error\n",
    "    raise LookupError('value does not appear in the dictionary')\n",
    "    \n",
    "    \n",
    "print(reverse_lookup(d, 3))\n",
    "print(reverse_lookup(d, 4))"
   ]
  },
  {
   "cell_type": "code",
   "execution_count": null,
   "metadata": {},
   "outputs": [],
   "source": [
    "d = {'one':[1], 'two':[2, 2], 'three':[3, 3, 3]}\n",
    "\n",
    "print(reverse_lookup(d, [1]))"
   ]
  },
  {
   "cell_type": "markdown",
   "metadata": {},
   "source": [
    "# List Comprehensions"
   ]
  },
  {
   "cell_type": "markdown",
   "metadata": {},
   "source": [
    "### Iterating over something and returning a filtered list is a common operation.  \n",
    "### Common enough that there is an idiom for it.\n",
    "\n",
    "```python\n",
    "    # Take the following fragment of pseudo-code\n",
    "    new_list = []\n",
    "    for item in collection:\n",
    "        if condition(item):   \n",
    "            new_list.append(item)\n",
    "        \n",
    "    # and rewrite as the following pseudo-code\n",
    "    new_list = [ item for item in collection \n",
    "                      if condition(item) ]\n",
    "```\n",
    "## We can use for filter, map and reduce"
   ]
  },
  {
   "cell_type": "markdown",
   "metadata": {},
   "source": [
    "## An Example of List Comprehension"
   ]
  },
  {
   "cell_type": "code",
   "execution_count": null,
   "metadata": {
    "scrolled": true
   },
   "outputs": [],
   "source": [
    "# Before\n",
    "lst = ['ship', 'set', 'mast']\n",
    "\n",
    "res = [] \n",
    "for word in lst:\n",
    "    if (len(word) == 4) and (word[-1] == 't'): \n",
    "        res.append(word)\n",
    "                \n",
    "print(res)"
   ]
  },
  {
   "cell_type": "markdown",
   "metadata": {},
   "source": [
    "## Replace with list comprehension"
   ]
  },
  {
   "cell_type": "code",
   "execution_count": null,
   "metadata": {
    "scrolled": true
   },
   "outputs": [],
   "source": [
    "# After\n",
    "lst = ['ship', 'set', 'mast']\n",
    "\n",
    "res = [ word for word in lst \n",
    "            if (len(word) == 4) and (word[-1] == 't') ] \n",
    "                \n",
    "print(res)"
   ]
  },
  {
   "cell_type": "markdown",
   "metadata": {},
   "source": [
    "# Reversals"
   ]
  },
  {
   "cell_type": "code",
   "execution_count": null,
   "metadata": {
    "scrolled": true
   },
   "outputs": [],
   "source": [
    "# Before\n",
    "def build_list(lst: list) -> list:\n",
    "    res = []\n",
    "\n",
    "    # Take each word in the list, and see if it's reverse is there as well\n",
    "    for word in lst:\n",
    "        rev = word[::-1]\n",
    "        # Don't include ('tuba', 'abut')\n",
    "        if (rev in lst) and (word <= rev):\n",
    "            res.append([word, rev])\n",
    "    return res\n",
    "\n",
    "\n",
    "s = ['abut', 'ant', 'fork', 'rat', 'tar', 'tuba', 'zap']\n",
    "print(s, \"\\n\", build_list(s))"
   ]
  },
  {
   "cell_type": "markdown",
   "metadata": {},
   "source": [
    "## Try rewriting this using List Comprehensions"
   ]
  },
  {
   "cell_type": "code",
   "execution_count": null,
   "metadata": {
    "scrolled": true
   },
   "outputs": [],
   "source": [
    "def build_list(lst: list) -> list:\n",
    "    # See if the reverse is in the list\n",
    "    lst1 = [wrd for wrd in lst if (wrd[::-1] in lst)]\n",
    "\n",
    "    # See if this is the representative\n",
    "    lst2 = [wrd for wrd in lst1 \n",
    "            if (wrd[::-1] >= wrd)]\n",
    "\n",
    "    # Build the pair \n",
    "    return  [[wrd, wrd[::-1]] for wrd in lst2]\n",
    "\n",
    "\n",
    "s = ['abut', 'ant', 'fork', 'rat', 'tar', 'tuba', 'zap']\n",
    "print(s, \"\\n\", build_list(s))"
   ]
  },
  {
   "cell_type": "markdown",
   "metadata": {},
   "source": [
    "### What happens at each stage of this process?"
   ]
  },
  {
   "cell_type": "code",
   "execution_count": null,
   "metadata": {
    "scrolled": true
   },
   "outputs": [],
   "source": [
    "def build_list(lst: list) -> list:\n",
    "    # lst has 113,809 words\n",
    "    \n",
    "    # Find those with a reverse in the dictionary\n",
    "    lst1 = [wrd for wrd in lst if (wrd[::-1] in lst)]\n",
    "    # 885 words\n",
    "    # [’tuba’,…,’aa’,…’yay’…’abut’,…]\n",
    "\n",
    "    # Filter out 'tuba' vs 'abut'\n",
    "    lst2 = [wrd for wrd in lst1 \n",
    "            if (wrd[::-1] >= wrd)]\n",
    "    # 488 words - ‘tuba’ is gone\n",
    "\n",
    "    # Build a list of the pairs of words\n",
    "    return  [[wrd, wrd[::-1]] for wrd in lst2]\n",
    "    # 488 pairs of words\n",
    "    \n",
    "\n",
    "s = ['abut', 'ant', 'fork', 'rat', 'tar', 'tuba', 'zap']\n",
    "print(s, \"\\n\", build_list(s))"
   ]
  },
  {
   "cell_type": "markdown",
   "metadata": {},
   "source": [
    "## But we can write this as one list comprehension"
   ]
  },
  {
   "cell_type": "code",
   "execution_count": null,
   "metadata": {
    "scrolled": true
   },
   "outputs": [],
   "source": [
    "# After\n",
    "def build_list(lst: list) -> list:\n",
    "    return [[word, word[::-1]] \n",
    "            for word in lst \n",
    "                 if (word <= word[::-1]) and (word[::-1] in lst)]\n",
    "\n",
    "s = ['abut', 'ant', 'fork', 'rat', 'tar', 'tuba', 'zap']\n",
    "print(s, \"\\n\", build_list(s))"
   ]
  },
  {
   "cell_type": "markdown",
   "metadata": {},
   "source": [
    "## How about this?"
   ]
  },
  {
   "cell_type": "code",
   "execution_count": null,
   "metadata": {
    "scrolled": true
   },
   "outputs": [],
   "source": [
    "# After\n",
    "def build_list(lst: list) -> list:\n",
    "    return [[word, word[::-1]] for word in lst if (word <= word[::-1]) and (word[::-1] in lst)]\n",
    "     \n",
    "s = ['abut', 'ant', 'fork', 'rat', 'tar', 'tuba', 'zap']\n",
    "print(s, \"\\n\", build_list(s))"
   ]
  },
  {
   "cell_type": "code",
   "execution_count": null,
   "metadata": {},
   "outputs": [],
   "source": [
    "# 234567890123456789012345678901234567890123456789012345678901234567890123456789\n",
    "# Violates PEP-8"
   ]
  },
  {
   "cell_type": "code",
   "execution_count": null,
   "metadata": {},
   "outputs": [],
   "source": [
    "def build_list(lst: list) -> list:\n",
    "    return [[word, word[::-1]] \n",
    "            for word in lst \n",
    "                if (word <= word[::-1]) and (word[::-1] in lst)]\n",
    "     \n",
    "s = ['abut', 'ant', 'fork', 'rat', 'tar', 'tuba', 'zap']\n",
    "print(s, \"\\n\", build_list(s))"
   ]
  },
  {
   "cell_type": "markdown",
   "metadata": {},
   "source": [
    "## List Comprehensions can be faster than hand coded loop\n",
    "### No great speedup here: the bulk of the time is the test for membership.  "
   ]
  },
  {
   "cell_type": "markdown",
   "metadata": {},
   "source": [
    "# Hal Abelson on legibility\n",
    "\n",
    "“Programs must be written for people to read, and only incidentally for machines to execute.”  \n",
    "― Harold Abelson\n"
   ]
  },
  {
   "cell_type": "markdown",
   "metadata": {},
   "source": [
    " # Alfred North Whitehead on Good Notation\n",
    "\n",
    "\"Of course, nothing is more incomprehensible than a symbolism which we do not understand....\n",
    "\n",
    "\"[But by] relieving \n",
    "the brain of all unnecessary work, a good \n",
    "notation sets it free to concentrate on more \n",
    "advanced problems, and in effect increases \n",
    "[our] mental power\""
   ]
  },
  {
   "cell_type": "markdown",
   "metadata": {},
   "source": [
    "## Pythonistas use list comprehension.  \n",
    "\n",
    "### You may not want to use them at first\n",
    "### But to read code out there, you will need to be able to understand them.    "
   ]
  },
  {
   "cell_type": "markdown",
   "metadata": {},
   "source": [
    "## Here is another idiom you will encounter.\n",
    "# What does this cell print?"
   ]
  },
  {
   "cell_type": "code",
   "execution_count": null,
   "metadata": {
    "scrolled": true
   },
   "outputs": [],
   "source": [
    "[print(x) for x in range(3)]"
   ]
  },
  {
   "cell_type": "markdown",
   "metadata": {},
   "source": [
    "## Catch the return value in variable garbage"
   ]
  },
  {
   "cell_type": "code",
   "execution_count": null,
   "metadata": {
    "scrolled": true
   },
   "outputs": [],
   "source": [
    "garbage = [print(x) for x in range(3)]"
   ]
  },
  {
   "cell_type": "markdown",
   "metadata": {},
   "source": [
    "## Zero is False.  Non zero integers are True.  \n",
    "\n",
    "## You will encounter this often.\n",
    "\n",
    "## Pythonistas like Guido favor this idiom.  "
   ]
  },
  {
   "cell_type": "code",
   "execution_count": null,
   "metadata": {
    "scrolled": true
   },
   "outputs": [],
   "source": [
    "garbage = [print(x) for x in range(10) if x % 2]"
   ]
  },
  {
   "cell_type": "markdown",
   "metadata": {},
   "source": [
    "# Recursion\n",
    "\n",
    "## The issues with the graphics library were fixed in OS X Cataline\n",
    "## I'd wait to install until the next dot release...\n",
    "# **Don't run this on a Mac running OS X 10.14**"
   ]
  },
  {
   "cell_type": "code",
   "execution_count": null,
   "metadata": {},
   "outputs": [],
   "source": [
    "import turtle\n",
    "import sys\n",
    "\n",
    "\n",
    "def edge(t: turtle, edgeLen: int, n: int):\n",
    "    \"Draw the edge of a Koch curve of a given complexity\"\n",
    "    if (n == 1):\n",
    "        t.fd(edgeLen)\n",
    "    else:\n",
    "        edgeLen = edgeLen // 3\n",
    "        edge(t, edgeLen, n-1)\n",
    "        t.lt(60)\n",
    "        edge(t, edgeLen, n-1)\n",
    "        t.rt(120)\n",
    "        edge(t, edgeLen, n-1)\n",
    "        t.lt(60)\n",
    "        edge(t, edgeLen, n-1)\n",
    "\n",
    "\n",
    "def snowflake(t: turtle, edgeLen: int, max: int):\n",
    "    \"Draw a Koch Snowflake\"\n",
    "    for i in range(3):\n",
    "        edge(t, edgeLen, max)\n",
    "        t.rt(120)\n",
    "\n",
    "\n",
    "my_turtle = turtle.Turtle()\n",
    "\n",
    "# Backup to try to center the image\n",
    "my_turtle.penup()\n",
    "my_turtle.setpos(-100, 100)\n",
    "my_turtle.pendown()\n",
    "\n",
    "# Draw the snowflake\n",
    "snowflake(my_turtle, 270, 5)\n",
    "\n",
    "turtle.mainloop()"
   ]
  },
  {
   "cell_type": "markdown",
   "metadata": {},
   "source": [
    "# Problem"
   ]
  },
  {
   "cell_type": "markdown",
   "metadata": {},
   "source": [
    "## Find all numbers from 1-1000 that are divisible by 7 and have the digit 3 in them.\n",
    "\n",
    "## We start by implementing the easy part to get going\n",
    "## *Get it running, get it right, then make it fast*"
   ]
  },
  {
   "cell_type": "code",
   "execution_count": null,
   "metadata": {
    "scrolled": true
   },
   "outputs": [],
   "source": [
    "# Starting point\n",
    "for i in range(100):\n",
    "    if (i % 7 ) == 0:\n",
    "        print(i)"
   ]
  },
  {
   "cell_type": "markdown",
   "metadata": {},
   "source": [
    "### Start at 1, and simplify the test\n",
    "\n",
    "### 0 is False, and other integers are not False"
   ]
  },
  {
   "cell_type": "code",
   "execution_count": null,
   "metadata": {
    "scrolled": true
   },
   "outputs": [],
   "source": [
    "# Starting point\n",
    "for i in range(1, 100):\n",
    "    if not (i % 7 ):\n",
    "        print(i)"
   ]
  },
  {
   "cell_type": "markdown",
   "metadata": {},
   "source": [
    "## Rewrite as list comprehension"
   ]
  },
  {
   "cell_type": "code",
   "execution_count": null,
   "metadata": {
    "scrolled": true
   },
   "outputs": [],
   "source": [
    "# Rewrite as list comprehension\n",
    "[i for i in range(1, 1001) \n",
    "     if not (i % 7)]"
   ]
  },
  {
   "cell_type": "markdown",
   "metadata": {},
   "source": [
    "## How can we test if a number contains the digit 3?\n",
    "\n",
    "## We need to get the representations for the number"
   ]
  },
  {
   "cell_type": "code",
   "execution_count": null,
   "metadata": {},
   "outputs": [],
   "source": [
    "'3' in str(123)"
   ]
  },
  {
   "cell_type": "code",
   "execution_count": null,
   "metadata": {
    "scrolled": true
   },
   "outputs": [],
   "source": [
    "for i in range(20):\n",
    "    if ('3' in str(i)):\n",
    "        print(i)"
   ]
  },
  {
   "cell_type": "code",
   "execution_count": null,
   "metadata": {
    "scrolled": true
   },
   "outputs": [],
   "source": [
    "# Starting point\n",
    "for i in range(1, 100):\n",
    "    if not (i % 7 ):\n",
    "        if '3' in str(i):\n",
    "            print(i)"
   ]
  },
  {
   "cell_type": "markdown",
   "metadata": {},
   "source": [
    "## Rewrite using List Comprehension"
   ]
  },
  {
   "cell_type": "code",
   "execution_count": null,
   "metadata": {
    "scrolled": true
   },
   "outputs": [],
   "source": [
    "[i for i in range(1, 100) \n",
    "      if not (i % 7) and ('3' in str(i))]"
   ]
  },
  {
   "cell_type": "markdown",
   "metadata": {},
   "source": [
    "# Long words begining with 'y'\n",
    "## How many words of 10 letters or more begin with 'y'?"
   ]
  },
  {
   "cell_type": "code",
   "execution_count": null,
   "metadata": {},
   "outputs": [],
   "source": [
    "with open('../words.txt', 'r') as words:\n",
    "    result = []\n",
    "    for word in words:\n",
    "        if len(word) >= 10 and word[0] == 'y':\n",
    "            result.append(word)\n",
    "\n",
    "    print(result)"
   ]
  },
  {
   "cell_type": "markdown",
   "metadata": {},
   "source": [
    "## Strip the newline"
   ]
  },
  {
   "cell_type": "code",
   "execution_count": null,
   "metadata": {},
   "outputs": [],
   "source": [
    "with open('../words.txt', 'r') as words:\n",
    "    result = []\n",
    "    for word in words:\n",
    "        if len(word) >= 10 and word[0] == 'y':\n",
    "            result.append(word.strip())\n",
    "\n",
    "    print(result)"
   ]
  },
  {
   "cell_type": "markdown",
   "metadata": {},
   "source": [
    "## Most of these words have 9 letters\n",
    "### We are counting the \\n"
   ]
  },
  {
   "cell_type": "code",
   "execution_count": null,
   "metadata": {},
   "outputs": [],
   "source": [
    "with open('../words.txt', 'r') as words:\n",
    "    result = []\n",
    "    for word in words:\n",
    "        word = word.strip()\n",
    "        if len(word) >= 10 and word[0] == 'y':\n",
    "            result.append(word)\n",
    "\n",
    "    print(result)"
   ]
  },
  {
   "cell_type": "markdown",
   "metadata": {},
   "source": [
    "# Nested loops\n",
    "## We can nest loops to get the product"
   ]
  },
  {
   "cell_type": "code",
   "execution_count": null,
   "metadata": {
    "scrolled": true
   },
   "outputs": [],
   "source": [
    "[(word, ch) for word in ['one', 'two', 'three', 'four'] \n",
    "                for ch in 'aeiou']"
   ]
  },
  {
   "cell_type": "markdown",
   "metadata": {},
   "source": [
    "## Add a condition: list the words, and only the vowels they contain"
   ]
  },
  {
   "cell_type": "code",
   "execution_count": null,
   "metadata": {
    "scrolled": true
   },
   "outputs": [],
   "source": [
    "[(word, ch) for word in ['one', 'two', 'three', 'four'] \n",
    "                for ch in 'aeiou' \n",
    "                    if ch in word]"
   ]
  },
  {
   "cell_type": "markdown",
   "metadata": {},
   "source": [
    "# Pythagorean Triples \n",
    "\n",
    "Looking for $(x, y, z)$ such that\n",
    "\n",
    "$x^2 + y^2 = z^2$\n",
    "\n",
    "Restrict it to integers under 30.  Show each triple only once"
   ]
  },
  {
   "cell_type": "code",
   "execution_count": null,
   "metadata": {
    "scrolled": true
   },
   "outputs": [],
   "source": [
    "[(x,y,z) \n",
    "    for x in range(1,30) \n",
    "        for y in range(x,30) \n",
    "            for z in range(y,30) \n",
    "                if x**2 + y**2 == z**2]"
   ]
  },
  {
   "cell_type": "markdown",
   "metadata": {},
   "source": [
    "## OK, maybe that was mathematics.  "
   ]
  },
  {
   "cell_type": "markdown",
   "metadata": {},
   "source": [
    "# Picking Files"
   ]
  },
  {
   "cell_type": "markdown",
   "metadata": {},
   "source": [
    "# The Danger of too short a List"
   ]
  },
  {
   "cell_type": "code",
   "execution_count": null,
   "metadata": {
    "scrolled": false
   },
   "outputs": [],
   "source": [
    "lst = [1, 2, 3]\n",
    "\n",
    "# Print the first 10 in the lis\n",
    "for i in range(10):\n",
    "    print(lst[i]) "
   ]
  },
  {
   "cell_type": "markdown",
   "metadata": {},
   "source": [
    "## Ways we could protect ourselves\n",
    "### Try-catch IndexError\n",
    "### For i in range(min(10, len(lst))):\n",
    "## Even simpler is the slice idiom trick\n",
    "### Slice is forgiving"
   ]
  },
  {
   "cell_type": "code",
   "execution_count": null,
   "metadata": {
    "scrolled": true
   },
   "outputs": [],
   "source": [
    "lst = [1, 2, 3]\n",
    "\n",
    "# Print the first 10 in the lst\n",
    "for val in lst[:10]:\n",
    "    print(val) "
   ]
  },
  {
   "cell_type": "markdown",
   "metadata": {},
   "source": [
    "# String Formatting\n",
    "\n",
    "## Motivation"
   ]
  },
  {
   "cell_type": "code",
   "execution_count": null,
   "metadata": {
    "scrolled": true
   },
   "outputs": [],
   "source": [
    "shopping = {'milk':1, 'eggs':12, 'bread':2}\n",
    "\n",
    "for w in shopping:\n",
    "    print(shopping[w], '|', w)"
   ]
  },
  {
   "cell_type": "markdown",
   "metadata": {},
   "source": [
    "## We would like to line things up\n",
    "\n",
    "## The old way"
   ]
  },
  {
   "cell_type": "code",
   "execution_count": null,
   "metadata": {
    "scrolled": true
   },
   "outputs": [],
   "source": [
    "# Field width of 3\n",
    "for w in shopping:\n",
    "    print('%3s | %s' % (shopping[w], w))"
   ]
  },
  {
   "cell_type": "markdown",
   "metadata": {},
   "source": [
    "## '%3s | %s' % (shopping[w], w)\n",
    "\n",
    "## Format string % (Tuple holding values)"
   ]
  },
  {
   "cell_type": "markdown",
   "metadata": {},
   "source": [
    "String in a field of width 3 - %3s\n",
    "\n",
    "3 Ordinary characters - ‘ | ‘\n",
    "\n",
    "String in variable field - %s\n",
    "\n",
    "       12 | eggs"
   ]
  },
  {
   "cell_type": "markdown",
   "metadata": {},
   "source": [
    "Python knows a number of formats. Here are some:\n",
    "    \n",
    "%s - String\n",
    "\n",
    "%d - Decimal integer\n",
    "\n",
    "%x - Hex integer\n",
    "\n",
    "%o - Octal integer\n",
    "\n",
    "%f - Decimal Floating point\n",
    "\n",
    "%e - Exponential floating point\n",
    "\n",
    "%g - %f or %e, depending.  See\n",
    "\n",
    "docs.python.org/3.1/library/string.html"
   ]
  },
  {
   "cell_type": "code",
   "execution_count": null,
   "metadata": {
    "scrolled": true
   },
   "outputs": [],
   "source": [
    "val = 3.14159\n",
    "print('%f' % val)\n",
    "\n",
    "print('%e' % val)\n",
    "\n",
    "print('%g' % val)"
   ]
  },
  {
   "cell_type": "code",
   "execution_count": null,
   "metadata": {
    "scrolled": true
   },
   "outputs": [],
   "source": [
    "val = 123456.789\n",
    "print('%f' % val)\n",
    "\n",
    "print('%e' % val)\n",
    "\n",
    "print('%g' % val)"
   ]
  },
  {
   "cell_type": "code",
   "execution_count": null,
   "metadata": {},
   "outputs": [],
   "source": [
    "import string\n",
    "\n",
    "print(string.digits * 3)   # Useful to count columns"
   ]
  },
  {
   "cell_type": "code",
   "execution_count": null,
   "metadata": {
    "scrolled": true
   },
   "outputs": [],
   "source": [
    "import string\n",
    "\n",
    "print(string.digits * 3)   # Useful to count columns\n",
    "\n",
    "t = (12, 3.14159, 'ducks')\n",
    "\n",
    "print('%10d %10f %10s' % t)\n",
    "\n",
    "print('%-10d %-10f %-10s' % t)\n",
    "   \n",
    "print('%10.4d %10.4f %10.4s' % t)"
   ]
  },
  {
   "cell_type": "markdown",
   "metadata": {},
   "source": [
    "# New Way"
   ]
  },
  {
   "cell_type": "code",
   "execution_count": null,
   "metadata": {
    "scrolled": true
   },
   "outputs": [],
   "source": [
    "print('{} {} {}'.format(12, 3.14159, 'ducks'))"
   ]
  },
  {
   "cell_type": "markdown",
   "metadata": {},
   "source": [
    "Format string\n",
    "\n",
    "Three placeholders - { }\n",
    "\n",
    "Call to method format()\n",
    "\n",
    "number of Parameters must match number of placeholders"
   ]
  },
  {
   "cell_type": "markdown",
   "metadata": {},
   "source": [
    "Sometimes we want to change the order we print things in"
   ]
  },
  {
   "cell_type": "code",
   "execution_count": null,
   "metadata": {
    "scrolled": true
   },
   "outputs": [],
   "source": [
    "print('{2} {1} {0}'.format(12, 3.14159, 'ducks'))"
   ]
  },
  {
   "cell_type": "code",
   "execution_count": null,
   "metadata": {
    "scrolled": true
   },
   "outputs": [],
   "source": [
    "print('{2} {2} {2}'.format(12, 3.14159, 'ducks'))"
   ]
  },
  {
   "cell_type": "markdown",
   "metadata": {},
   "source": [
    "Why change the order?\n",
    "\n",
    "Your program may want to print the date:\n",
    "    \n",
    "    7/18/2019\n",
    "    \n",
    "The rest of the world thinks it is odd to list things in this order: medium, small, large\n",
    "    \n",
    "    They would say\n",
    "    \n",
    "    18/7/2019\n",
    "    \n",
    "Your program may need to adapt"
   ]
  },
  {
   "cell_type": "markdown",
   "metadata": {},
   "source": [
    "## Add field width"
   ]
  },
  {
   "cell_type": "code",
   "execution_count": null,
   "metadata": {
    "scrolled": true
   },
   "outputs": [],
   "source": [
    "import string\n",
    "\n",
    "print(string.digits * 3)   # Useful to count columns\n",
    "\n",
    "print('{0:10d} {1:10f}'.format(12, 3.14159))\n",
    "#        12   3.141590          # Need to add position\n",
    "\n",
    "print('{0:>10d} {1:>10f}'.format(12, 3.14159))\n",
    "#        12   3.141590          # > - Right justify \n",
    "\n",
    "print('{0:<10d} {1:<10f}'.format(12, 3.14159))\n",
    "#12         3.141590            # < - Left justify\n",
    "\n",
    "print('{0:^10d} {1:^10f}'.format(12, 3.14159))\n",
    "#    12      3.141590           # ^ - Center   \n",
    "\n",
    "print('{0:10.4s} {1:10.4f}'.format('ducks', 3.14159))\n",
    "#duck           3.1416          # trim to 4 spaces"
   ]
  },
  {
   "cell_type": "markdown",
   "metadata": {},
   "source": [
    "## Problem\n",
    "\n",
    "You have a string holding a phone number: 1234567890\n",
    "    \n",
    "Wish to print in standard form: (123) 456-7890"
   ]
  },
  {
   "cell_type": "code",
   "execution_count": null,
   "metadata": {
    "scrolled": true
   },
   "outputs": [],
   "source": [
    "s = '1234567890'\n",
    "print('({}) {}-{}'.format(s[:3], s[3:6], s[6:]))"
   ]
  },
  {
   "cell_type": "markdown",
   "metadata": {},
   "source": [
    "# WTF - File Picker"
   ]
  },
  {
   "cell_type": "code",
   "execution_count": null,
   "metadata": {},
   "outputs": [],
   "source": [
    "# I have been able to use this in a program - it works well.\n",
    "# See doublesPick.py\n",
    "#\n",
    "\n",
    "from tkinter import Tk\n",
    "from tkinter.filedialog import askopenfilename\n",
    "\n",
    "Tk().withdraw() # Don't need a full GUI\n",
    "filename = askopenfilename() # show an \"Open\" dialog box \n",
    "\n",
    "print(\"Filename:\", filename)"
   ]
  },
  {
   "cell_type": "markdown",
   "metadata": {},
   "source": [
    "# Reflection"
   ]
  },
  {
   "cell_type": "markdown",
   "metadata": {},
   "source": [
    "### Do you have any Python Libraries you would like us to cover?  We won't be able to cover more than a handful, but will take requests."
   ]
  }
 ],
 "metadata": {
  "kernelspec": {
   "display_name": "Python 3",
   "language": "python",
   "name": "python3"
  },
  "language_info": {
   "codemirror_mode": {
    "name": "ipython",
    "version": 3
   },
   "file_extension": ".py",
   "mimetype": "text/x-python",
   "name": "python",
   "nbconvert_exporter": "python",
   "pygments_lexer": "ipython3",
   "version": "3.8.1"
  }
 },
 "nbformat": 4,
 "nbformat_minor": 1
}
