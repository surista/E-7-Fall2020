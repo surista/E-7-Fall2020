{
 "cells": [
  {
   "cell_type": "markdown",
   "metadata": {},
   "source": [
    "# Introduction to Programming with Python\n",
    "## Day 2 Notebook: Functions\n",
    "## Fall 2019 (c) Jeff Parker"
   ]
  },
  {
   "cell_type": "markdown",
   "metadata": {},
   "source": [
    "# Homework 1 Review"
   ]
  },
  {
   "cell_type": "markdown",
   "metadata": {},
   "source": [
    "## Problem 1, version 1"
   ]
  },
  {
   "cell_type": "code",
   "execution_count": null,
   "metadata": {},
   "outputs": [],
   "source": [
    "a = '+'\n",
    "b = '-'\n",
    "\n",
    "s2  = a   + b               # +-\n",
    "s4  = s2  + s2              # +-+-\n",
    "s8  = s4  + s4              # +-+-+-+-\n",
    "s16 = s8  + s8              # +-+-+-+-+-+-+-+-\n",
    "s32 = s16 + s16             # +-+-+-+-+-+-+-+-+-+-+-+-+-+-+-+-\n",
    "s45 = s32 + s8 + s4 + a     # 32 + 8 + 4 + 1 = 45\n",
    "\n",
    "len(s45)\n",
    "print(s45)"
   ]
  },
  {
   "cell_type": "code",
   "execution_count": null,
   "metadata": {},
   "outputs": [],
   "source": [
    "print(len(s45))"
   ]
  },
  {
   "cell_type": "code",
   "execution_count": null,
   "metadata": {},
   "outputs": [],
   "source": [
    "len(s45)"
   ]
  },
  {
   "cell_type": "markdown",
   "metadata": {},
   "source": [
    "## Problem 1, version 2"
   ]
  },
  {
   "cell_type": "code",
   "execution_count": null,
   "metadata": {},
   "outputs": [],
   "source": [
    "s45 = (a + b)*22 + a\n",
    "\n",
    "len(s45)\n",
    "print(s45)\n",
    "s45"
   ]
  },
  {
   "cell_type": "markdown",
   "metadata": {},
   "source": [
    "# Review Day 1\n",
    "\n",
    "# Investigate the documentation"
   ]
  },
  {
   "cell_type": "code",
   "execution_count": null,
   "metadata": {},
   "outputs": [],
   "source": [
    "# what does rfind() do in general?\n",
    "# See https://docs.python.org/3/library/stdtypes.html\n",
    "    \n",
    "print(s.rfind('pattern'))"
   ]
  },
  {
   "cell_type": "markdown",
   "metadata": {},
   "source": [
    "## Problem 2\n",
    "\n",
    "- The length of the string vip.\n",
    "- The eleventh character in the string vip. The first character is 'I'.\n",
    "- The index i of the first blank space character in the string vip. vip[i] should be blank.\n",
    "- The index j of the last blank space character in the string vip. vip[j] should be blank."
   ]
  },
  {
   "cell_type": "code",
   "execution_count": null,
   "metadata": {},
   "outputs": [],
   "source": [
    "vip = \"Important Person in High School\"\n",
    "\n",
    "# Place your code in this cell\n",
    "print(len(vip))         # Length of string\n",
    "print(vip[10])          # 11th character\n",
    "print(vip.find(' '))    # index of first blank\n",
    "print(vip.rfind(' '))   # index of last blank"
   ]
  },
  {
   "cell_type": "markdown",
   "metadata": {},
   "source": [
    "## Problem 3, Version 1\n",
    "\n",
    "### Gallia est omnis divisa in partes tres."
   ]
  },
  {
   "cell_type": "code",
   "execution_count": null,
   "metadata": {},
   "outputs": [],
   "source": [
    "s = 'Then he said \"I '   +    \"don't \"    +   'know\"'\n",
    "\n",
    "print(s)"
   ]
  },
  {
   "cell_type": "markdown",
   "metadata": {},
   "source": [
    "## Problem 3, Version 2: Escape Sequences"
   ]
  },
  {
   "cell_type": "code",
   "execution_count": null,
   "metadata": {},
   "outputs": [],
   "source": [
    "s = \"Then he said \\\"I don\\'t know\\\"\"\n",
    "\n",
    "print(s)"
   ]
  },
  {
   "cell_type": "markdown",
   "metadata": {},
   "source": [
    "## Problem 3, Version 3: Patch and replace"
   ]
  },
  {
   "cell_type": "code",
   "execution_count": null,
   "metadata": {},
   "outputs": [],
   "source": [
    "s = 'Then he said \"I donZt know\"'\n",
    "print(s)\n",
    "\n",
    "snew = s.replace('Z', \"'\")          # Replace Z with ‘\n",
    "\n",
    "print(snew)"
   ]
  },
  {
   "cell_type": "markdown",
   "metadata": {},
   "source": [
    "## Problem 4"
   ]
  },
  {
   "cell_type": "code",
   "execution_count": null,
   "metadata": {},
   "outputs": [],
   "source": [
    "import datetime\n",
    "\n",
    "print(datetime.date.today().year + 1)"
   ]
  },
  {
   "cell_type": "markdown",
   "metadata": {},
   "source": [
    "# %=%=%=%=%=%=%=%\n",
    "# Functions"
   ]
  },
  {
   "cell_type": "code",
   "execution_count": null,
   "metadata": {},
   "outputs": [],
   "source": [
    "# We have been using functions\n",
    "s = 'onetwo'\n",
    "\n",
    "print(len(s))"
   ]
  },
  {
   "cell_type": "markdown",
   "metadata": {},
   "source": [
    "## len() is a function\n",
    "## We are using it to map strings to non-negative integers\n",
    "### That is, len() takes a string as its only argument, and returns an integer "
   ]
  },
  {
   "cell_type": "markdown",
   "metadata": {},
   "source": [
    "## Here are some other functions we have been using"
   ]
  },
  {
   "cell_type": "code",
   "execution_count": null,
   "metadata": {},
   "outputs": [],
   "source": [
    "print(s)  # Takes an object as a parameter\n",
    "type(s)   # Takes an object, returns a string"
   ]
  },
  {
   "cell_type": "markdown",
   "metadata": {},
   "source": [
    "## Functions are used to codify a well-defined activity\n",
    "### In a French Restaurant - making white sauce\n",
    "### In the movies - The Wilhelm Scream \n",
    "#### www.youtube.com/watch?v=cdbYsoEasio"
   ]
  },
  {
   "cell_type": "code",
   "execution_count": null,
   "metadata": {},
   "outputs": [],
   "source": [
    "def chorus():\n",
    "    prnt('Bamba')\n",
    "\n",
    "chorus()"
   ]
  },
  {
   "cell_type": "code",
   "execution_count": null,
   "metadata": {},
   "outputs": [],
   "source": [
    "def chorus():              # 'def', function name, parameter list, colon\n",
    "    print(\"Bamba-bamba\")   # Body of the function\n",
    "    print(\"Bamba-bamba\")\n",
    "    print(\"Bamba-bamba\")\n",
    "    print(\"Bam\")\n",
    "    \n",
    "chorus()                   # Function call"
   ]
  },
  {
   "cell_type": "markdown",
   "metadata": {},
   "source": [
    "## Run over compontents"
   ]
  },
  {
   "cell_type": "markdown",
   "metadata": {
    "collapsed": true
   },
   "source": [
    "## Stack Diagram #1\n",
    "### print\n",
    "### chorus\n",
    "### main"
   ]
  },
  {
   "cell_type": "markdown",
   "metadata": {
    "collapsed": true
   },
   "source": [
    "## Stack Diagram #2\n",
    "### main\n",
    "### chorus\n",
    "### print"
   ]
  },
  {
   "cell_type": "markdown",
   "metadata": {},
   "source": [
    "# Functions with parameters"
   ]
  },
  {
   "cell_type": "code",
   "execution_count": null,
   "metadata": {},
   "outputs": [],
   "source": [
    "def print_greeting(name):              # Parameter List\n",
    "    print(\"Hello, \" + name)\n",
    "\n",
    "print_greeting('Sam')                  # Argument List\n",
    "print_greeting('Dave')\n",
    "print_greeting('Sam and Dave')"
   ]
  },
  {
   "cell_type": "code",
   "execution_count": null,
   "metadata": {},
   "outputs": [],
   "source": [
    "print('Sam', 'Dave')"
   ]
  },
  {
   "cell_type": "code",
   "execution_count": null,
   "metadata": {},
   "outputs": [],
   "source": [
    "print_greeting('Sam', 'Dave')"
   ]
  },
  {
   "cell_type": "markdown",
   "metadata": {},
   "source": [
    "## Example from Real Life\n",
    "\n",
    "https://www.youtube.com/watch?v=6u8AgUXPpLM"
   ]
  },
  {
   "cell_type": "code",
   "execution_count": null,
   "metadata": {},
   "outputs": [],
   "source": [
    "# Party of the first part gives party of the second part...\n",
    "def contract(first, second):\n",
    "    return first + \" will give to \" + second + \" the rights...\"\n",
    "\n",
    "\n",
    "print(contract('Groucho', 'Chico'))"
   ]
  },
  {
   "cell_type": "markdown",
   "metadata": {},
   "source": [
    "# Assertions"
   ]
  },
  {
   "cell_type": "code",
   "execution_count": null,
   "metadata": {},
   "outputs": [],
   "source": [
    "# A student asked about assertions.\n",
    "\n",
    "assert((1 + 1) == 2)"
   ]
  },
  {
   "cell_type": "code",
   "execution_count": null,
   "metadata": {},
   "outputs": [],
   "source": [
    "assert('black' == 'white')"
   ]
  },
  {
   "cell_type": "markdown",
   "metadata": {},
   "source": [
    "# What is your environment?\n",
    "### Students often have trouble running new commands from command line\n",
    "\n",
    "The command line is discussed in **Python the Hardway**\n",
    "\n",
    "https://learnpythonthehardway.org/book/appendixa.html"
   ]
  },
  {
   "cell_type": "code",
   "execution_count": null,
   "metadata": {},
   "outputs": [],
   "source": [
    "# From the DOS prompt\n",
    "\n",
    "! set"
   ]
  },
  {
   "cell_type": "code",
   "execution_count": null,
   "metadata": {},
   "outputs": [],
   "source": [
    "# From the Unix Prompt\n",
    "# ! is a signal to Jupyter Notebook to pass the command through to the Operation System (OS)\n",
    "\n",
    "! env                   # Display the Environment"
   ]
  },
  {
   "cell_type": "markdown",
   "metadata": {},
   "source": [
    "### When I run this on my machine, I see something like this:\n",
    "\n",
    "```python\n",
    " TERM_PROGRAM=Apple_Terminal\n",
    " SHELL=/bin/bash\n",
    " TERM=xterm-color\n",
    " CLICOLOR=1\n",
    " TMPDIR=/var/folders/sl/5k920rfn1r92jm2_02hg61lr0000gn/T/\n",
    " Apple_PubSub_Socket_Render=/private/tmp/com.apple.launchd.CyKKXecMN1/Render\n",
    " TERM_PROGRAM_VERSION=421.2\n",
    " TERM_SESSION_ID=0EDED937-A575-4CE0-B061-7231107AD8CB\n",
    " USER=jparker\n",
    " SSH_AUTH_SOCK=/private/tmp/com.apple.launchd.KfsNEifAWf/Listeners\n",
    " JPY_PARENT_PID=2601\n",
    " PAGER=cat\n",
    " VIRTUAL_ENV=/Users/jparker/Library/Enthought/Canopy_64bit/User\n",
    " PATH=//anaconda/bin:/Library/Frameworks/Python.framework/Versions/3.5/bin:/Users/jparker/Library/Enthought/Canopy_64bit/User/bin:/usr/local/bin:/usr/bin:/bin:/usr/sbin:/sbin:/Library/TeX/texbin:/opt/X11/bin:/usr/local/git/bin:/usr/local/git/bin/:/Users/jparker/bin/\n",
    " _=/usr/bin/env\n",
    " PWD=/Users/jparker/Documents/courses/Python/Programs/day2\n",
    " LANG=en_US.UTF-8\n",
    " XPC_FLAGS=0x0\n",
    " XPC_SERVICE_NAME=0\n",
    " HOME=/Users/jparker\n",
    " SHLVL=2\n",
    " LOGNAME=jparker\n",
    " DISPLAY=/private/tmp/com.apple.launchd.BXFujiny00/org.macosforge.xquartz:0\n",
    " GIT_PAGER=cat\n",
    "```"
   ]
  },
  {
   "cell_type": "markdown",
   "metadata": {},
   "source": [
    "## An important part of the environment is your path"
   ]
  },
  {
   "cell_type": "code",
   "execution_count": null,
   "metadata": {},
   "outputs": [],
   "source": [
    "# From the DOS prompt\n",
    "\n",
    "! PATH"
   ]
  },
  {
   "cell_type": "code",
   "execution_count": null,
   "metadata": {},
   "outputs": [],
   "source": [
    "# From the Unix prompt\n",
    "\n",
    "! echo $PATH"
   ]
  },
  {
   "cell_type": "markdown",
   "metadata": {},
   "source": [
    "### When I run this on my machine, I see something like this:\n",
    "\n",
    "```python\n",
    "PATH=//anaconda/bin:/Library/Frameworks/Python.framework/Versions/3.5/bin:/Users/jparker/Library/Enthought/Canopy_64bit/User/bin:/usr/local/bin:/usr/bin:/bin:/usr/sbin:/sbin:/Library/TeX/texbin:/opt/X11/bin:/usr/local/git/bin:/usr/local/git/bin/:/Users/jparker/bin\n",
    "```"
   ]
  },
  {
   "cell_type": "code",
   "execution_count": null,
   "metadata": {},
   "outputs": [],
   "source": [
    "# Pick this appart\n",
    "\n",
    "s = 'PATH=//anaconda/bin:/Library/Frameworks/Python.framework/Versions/3.5/bin:/Users/jparker/Library/Enthought/Canopy_64bit/User/bin:/usr/local/bin:/usr/bin:/bin:/usr/sbin:/sbin:/Library/TeX/texbin:/opt/X11/bin:/usr/local/git/bin:/usr/local/git/bin/:/Users/jparker/bin'\n",
    "\n",
    "lst = s.split(':')\n",
    "for line in lst:\n",
    "    print(line)"
   ]
  },
  {
   "cell_type": "markdown",
   "metadata": {},
   "source": [
    "## The Python Path"
   ]
  },
  {
   "cell_type": "code",
   "execution_count": null,
   "metadata": {},
   "outputs": [],
   "source": [
    "import sys              # Import the System Library sys\n",
    "\n",
    "for line in sys.path:   # For each string 'line' in the list \n",
    "    print(line)"
   ]
  },
  {
   "cell_type": "markdown",
   "metadata": {},
   "source": [
    "### When I run this, I see something like this:\n",
    "\n",
    "```python\n",
    "/Users/jparker/Library/Enthought/Canopy_64bit/User/lib/python3.5/site-packages\n",
    "\n",
    "//anaconda/lib/python35.zip\n",
    "//anaconda/lib/python3.5\n",
    "//anaconda/lib/python3.5/plat-darwin\n",
    "//anaconda/lib/python3.5/lib-dynload\n",
    "//anaconda/lib/python3.5/site-packages\n",
    "//anaconda/lib/python3.5/site-packages/Sphinx-1.3.5-py3.5.egg\n",
    "//anaconda/lib/python3.5/site-packages/aeosa\n",
    "//anaconda/lib/python3.5/site-packages/IPython/extensions\n",
    "/Users/jparker/.ipython\n",
    "/Users/jparker/Library/Enthought/Canopy_64bit/User/lib/python3.5/site-packages\n",
    "```"
   ]
  },
  {
   "cell_type": "markdown",
   "metadata": {},
   "source": [
    "## What else does sys know?"
   ]
  },
  {
   "cell_type": "code",
   "execution_count": null,
   "metadata": {},
   "outputs": [],
   "source": [
    "dir(sys)"
   ]
  },
  {
   "cell_type": "markdown",
   "metadata": {},
   "source": [
    "### When I run this, I see something like this:\n",
    "\n",
    "```python\n",
    "['__displayhook__',\n",
    " '__doc__',\n",
    " '__excepthook__',\n",
    " '__interactivehook__',\n",
    " '__loader__',\n",
    " '__name__',\n",
    " '__package__',\n",
    " '__spec__',\n",
    " '__stderr__',\n",
    " '__stdin__',\n",
    " '__stdout__',\n",
    " '_clear_type_cache',\n",
    " '_current_frames',\n",
    " '_debugmallocstats',\n",
    " '_getframe',\n",
    " '_git',\n",
    " '_home',\n",
    " '_xoptions',\n",
    " 'abiflags',\n",
    " 'api_version',\n",
    " 'argv',\n",
    " 'base_exec_prefix',\n",
    " 'base_prefix',\n",
    " 'builtin_module_names',\n",
    " 'byteorder',\n",
    " 'call_tracing',\n",
    " 'callstats',\n",
    " 'copyright',\n",
    " 'displayhook',\n",
    " 'dont_write_bytecode',\n",
    " 'exc_info',\n",
    " 'excepthook',\n",
    " 'exec_prefix',\n",
    " 'executable',\n",
    " 'exit',\n",
    " 'flags',\n",
    " 'float_info',\n",
    " 'float_repr_style',\n",
    " 'get_coroutine_wrapper',\n",
    " 'getallocatedblocks',\n",
    " 'getcheckinterval',\n",
    " 'getdefaultencoding',\n",
    " 'getdlopenflags',\n",
    " 'getfilesystemencoding',\n",
    " 'getprofile',\n",
    " 'getrecursionlimit',\n",
    " 'getrefcount',\n",
    " 'getsizeof',\n",
    " 'getswitchinterval',\n",
    " 'gettrace',\n",
    " 'hash_info',\n",
    " 'hexversion',\n",
    " 'implementation',\n",
    " 'int_info',\n",
    " 'intern',\n",
    " 'is_finalizing',\n",
    " 'last_traceback',\n",
    " 'last_type',\n",
    " 'last_value',\n",
    " 'maxsize',\n",
    " 'maxunicode',\n",
    " 'meta_path',\n",
    " 'modules',\n",
    " 'path',\n",
    " 'path_hooks',\n",
    " 'path_importer_cache',\n",
    " 'platform',\n",
    " 'prefix',\n",
    " 'ps1',\n",
    " 'ps2',\n",
    " 'ps3',\n",
    " 'set_coroutine_wrapper',\n",
    " 'setcheckinterval',\n",
    " 'setdlopenflags',\n",
    " 'setprofile',\n",
    " 'setrecursionlimit',\n",
    " 'setswitchinterval',\n",
    " 'settrace',\n",
    " 'stderr',\n",
    " 'stdin',\n",
    " 'stdout',\n",
    " 'thread_info',\n",
    " 'version',\n",
    " 'version_info',\n",
    " 'warnoptions']\n",
    "```"
   ]
  },
  {
   "cell_type": "code",
   "execution_count": null,
   "metadata": {},
   "outputs": [],
   "source": [
    "# What is the copyright?\n",
    "\n",
    "print(sys.copyright)"
   ]
  },
  {
   "cell_type": "markdown",
   "metadata": {},
   "source": [
    "## Our first python script"
   ]
  },
  {
   "cell_type": "code",
   "execution_count": null,
   "metadata": {},
   "outputs": [],
   "source": [
    "# system.py\n",
    "#\n",
    "# Explore variables the system knows\n",
    "# Usage:\n",
    "#      % python system.py arguments\n",
    "#\n",
    "# Jeff Parker, June 2013\n",
    "\n",
    "import sys\n",
    "\n",
    "print(\"Platform: \",  sys.platform)\n",
    "print()\n",
    "\n",
    "print(\"Arguments:\", sys.argv)\n",
    "print()\n",
    "\n",
    "print(\"Path:\")\n",
    "# Print each component in the path\n",
    "for p in sys.path:\n",
    "    print(p)"
   ]
  },
  {
   "cell_type": "markdown",
   "metadata": {},
   "source": [
    "### Create a file called system.py with the text above"
   ]
  },
  {
   "cell_type": "markdown",
   "metadata": {},
   "source": [
    "### Place it in the same directory, and run it by calling \n",
    "\n",
    "```python\n",
    "    python system.py one two three\n",
    "```"
   ]
  },
  {
   "cell_type": "code",
   "execution_count": null,
   "metadata": {},
   "outputs": [],
   "source": [
    "! python system.py one two three"
   ]
  },
  {
   "cell_type": "markdown",
   "metadata": {},
   "source": [
    "### When I run this, the program prints\n",
    "\n",
    "```python\n",
    "Platform:  darwin\n",
    "\n",
    "Arguments: ['system.py', 'one', 'two', 'three']\n",
    "\n",
    "Path:\n",
    "/Users/jparker/Documents/courses/Python/Programs/day2\n",
    "//anaconda/lib/python35.zip\n",
    "//anaconda/lib/python3.5\n",
    "//anaconda/lib/python3.5/plat-darwin\n",
    "//anaconda/lib/python3.5/lib-dynload\n",
    "//anaconda/lib/python3.5/site-packages\n",
    "//anaconda/lib/python3.5/site-packages/Sphinx-1.3.5-py3.5.egg\n",
    "//anaconda/lib/python3.5/site-packages/aeosa\n",
    "```\n"
   ]
  },
  {
   "cell_type": "markdown",
   "metadata": {},
   "source": [
    "## Interactive Mode vs script mode"
   ]
  },
  {
   "cell_type": "code",
   "execution_count": null,
   "metadata": {},
   "outputs": [],
   "source": [
    "# When you type an expression at the prompt, the interpreter evaluates it.\n",
    "# That is, it finds the value of the expression. \n",
    "\n",
    "17 + 25"
   ]
  },
  {
   "cell_type": "code",
   "execution_count": null,
   "metadata": {},
   "outputs": [],
   "source": [
    "! more sum.py      # A script holding the program above"
   ]
  },
  {
   "cell_type": "markdown",
   "metadata": {},
   "source": [
    "## I see\n",
    "\n",
    "```python\n",
    "# sum.py\n",
    "#\n",
    "# Show the difference between interactive and script mode\n",
    "# Usage:\n",
    "#      % python sum.py\n",
    "#\n",
    "# Jeff Parker, June 2019\n",
    "\n",
    "17 + 25\n",
    "```"
   ]
  },
  {
   "cell_type": "code",
   "execution_count": null,
   "metadata": {},
   "outputs": [],
   "source": [
    "! python sum.py    # Nothing is printed"
   ]
  },
  {
   "cell_type": "markdown",
   "metadata": {},
   "source": [
    "### To get something from a script, we must call print()"
   ]
  },
  {
   "cell_type": "code",
   "execution_count": null,
   "metadata": {},
   "outputs": [],
   "source": [
    "# script.py\n",
    "#\n",
    "# Show the difference between interactive and script mode\n",
    "# Usage:\n",
    "#      % python script.py\n",
    "#\n",
    "# Jeff Parker, June 2019\n",
    "\n",
    "n = 17 + 25\n",
    "print(n)"
   ]
  },
  {
   "cell_type": "markdown",
   "metadata": {},
   "source": [
    "## Commenting Scripts: Please always include the following "
   ]
  },
  {
   "cell_type": "code",
   "execution_count": null,
   "metadata": {},
   "outputs": [],
   "source": [
    "# programName.py\n",
    "#\n",
    "# Purpose of the program\n",
    "# Usage\n",
    "#     % python programName.py params\n",
    "#\n",
    "# Author and Date"
   ]
  },
  {
   "cell_type": "markdown",
   "metadata": {},
   "source": [
    "## Look at the Return value of a function"
   ]
  },
  {
   "cell_type": "code",
   "execution_count": null,
   "metadata": {},
   "outputs": [],
   "source": [
    "s = 'onetwo'\n",
    "\n",
    "ret_val = len(s)\n",
    "print(ret_val, type(ret_val))   # What does the function return?  "
   ]
  },
  {
   "cell_type": "code",
   "execution_count": null,
   "metadata": {},
   "outputs": [],
   "source": [
    "s = 'onetwo'\n",
    "\n",
    "ret_val = print(s)\n",
    "print(ret_val, type(ret_val))   # What does the function return?  "
   ]
  },
  {
   "cell_type": "code",
   "execution_count": null,
   "metadata": {},
   "outputs": [],
   "source": [
    "def print_greeting(name: str):              # Reminder\n",
    "    print(\"Hello, \" + name)\n",
    "\n",
    "ret_val = print_greeting('Sam')\n",
    "print(ret_val, type(ret_val))   # What does the function return?  "
   ]
  },
  {
   "cell_type": "markdown",
   "metadata": {},
   "source": [
    "## print() and print_greeting() are called \"void functions\"  \n",
    "### They may do something useful, but they do not return a value\n",
    "### *Well, they return **None**, but None isn't useful*\n",
    " \n",
    "### Downey uses the term 'Fruitful Function\" for functions that return a value"
   ]
  },
  {
   "cell_type": "code",
   "execution_count": null,
   "metadata": {},
   "outputs": [],
   "source": [
    "def fruitful_greet(name: str) -> str:              # A Fruitful Function\n",
    "    return \"Hello, \" + name\n",
    "\n",
    "x = fruitful_greet('Sam')\n",
    "print(x, type(x))   # What does the function return?  "
   ]
  },
  {
   "cell_type": "markdown",
   "metadata": {},
   "source": [
    "# Composing Functions\n",
    "## We can compose fruitful functions\n",
    "### I feed the value len() returns to function type()\n",
    "### I feed the value type() returns to function print()"
   ]
  },
  {
   "cell_type": "code",
   "execution_count": null,
   "metadata": {},
   "outputs": [],
   "source": [
    "print(type(len('Hello')))"
   ]
  },
  {
   "cell_type": "markdown",
   "metadata": {},
   "source": [
    "## What does this do?\n",
    "### I feed the value type() returns to function print()\n",
    "### I feed the value print() returns to function len()"
   ]
  },
  {
   "cell_type": "code",
   "execution_count": null,
   "metadata": {},
   "outputs": [],
   "source": [
    "len(print(type('Hello')))"
   ]
  },
  {
   "cell_type": "markdown",
   "metadata": {},
   "source": [
    "## type() returns class ‘str’\n",
    "## print() prints and returns None\n",
    "## len() complains"
   ]
  },
  {
   "cell_type": "markdown",
   "metadata": {},
   "source": [
    "# Parker's Prohibition\n",
    "# *Never print in a function - Return the result*\n",
    "\n",
    "## Exceptions\n",
    "- Functions with 'print' in the name\n",
    "- While debugging\n",
    "- When we have encountered an error and need to quit. *Still better to throw an exception with error message*"
   ]
  },
  {
   "cell_type": "markdown",
   "metadata": {
    "collapsed": true
   },
   "source": [
    "## *What is wrong with printing?*\n",
    "## Do you want len() to print the length of a string?\n",
    "## Or should len() return the length so you can use it?"
   ]
  },
  {
   "cell_type": "markdown",
   "metadata": {},
   "source": [
    "# Type Hints\n",
    "## We can declare what kind of arguments we expect\n",
    "### These are called 'type hints'"
   ]
  },
  {
   "cell_type": "code",
   "execution_count": null,
   "metadata": {},
   "outputs": [],
   "source": [
    "def print_greeting(name: str):          # Parameter List\n",
    "    print(\"Hello, \" + name)\n",
    "\n",
    "print_greeting('Sam')                   # Argument List\n",
    "print_greeting('Dave')"
   ]
  },
  {
   "cell_type": "code",
   "execution_count": null,
   "metadata": {},
   "outputs": [],
   "source": [
    "print_greeting('Sam' * 2)"
   ]
  },
  {
   "cell_type": "code",
   "execution_count": null,
   "metadata": {},
   "outputs": [],
   "source": [
    "print_greeting(2)"
   ]
  },
  {
   "cell_type": "markdown",
   "metadata": {},
   "source": [
    "## Python ignores these directions  "
   ]
  },
  {
   "cell_type": "code",
   "execution_count": null,
   "metadata": {},
   "outputs": [],
   "source": [
    "def double(s: str) -> str:\n",
    "    return s + s\n",
    "\n",
    "# RIP Aretha\n",
    "print(double('Sock it to me! '))"
   ]
  },
  {
   "cell_type": "code",
   "execution_count": null,
   "metadata": {},
   "outputs": [],
   "source": [
    "print(double(2))"
   ]
  },
  {
   "cell_type": "code",
   "execution_count": null,
   "metadata": {},
   "outputs": [],
   "source": [
    "print(double([1, 2, 3]))"
   ]
  },
  {
   "cell_type": "markdown",
   "metadata": {},
   "source": [
    "## But we can use mypy to enforce the hints"
   ]
  },
  {
   "cell_type": "code",
   "execution_count": null,
   "metadata": {},
   "outputs": [],
   "source": [
    "! more double.py"
   ]
  },
  {
   "cell_type": "markdown",
   "metadata": {},
   "source": [
    "```python\n",
    "# double.py\n",
    "#\n",
    "# Return twice as much\n",
    "#\n",
    "# Usage:\n",
    "#      % python double.py\n",
    "#\n",
    "# Jeff Parker, Sept. 2019\n",
    "\n",
    "\n",
    "# Double a string\n",
    "def double(s: str) -> str:\n",
    "    return s + s\n",
    "\n",
    "\n",
    "# RIP Aretha\n",
    "print(double('Sock it to me! '))\n",
    "print(double(2))\n",
    "print(double([1, 2, 3]))\n",
    "```"
   ]
  },
  {
   "cell_type": "code",
   "execution_count": null,
   "metadata": {},
   "outputs": [],
   "source": [
    "! mypy double.py"
   ]
  },
  {
   "cell_type": "markdown",
   "metadata": {},
   "source": [
    "```python\n",
    "mypy: command not found\n",
    "```"
   ]
  },
  {
   "cell_type": "code",
   "execution_count": null,
   "metadata": {},
   "outputs": [],
   "source": [
    "! conda install mypy"
   ]
  },
  {
   "cell_type": "markdown",
   "metadata": {},
   "source": [
    "```python\n",
    "conda install mypy\n",
    "Collecting package metadata (repodata.json): done\n",
    "Solving environment: done\n",
    "\n",
    "## Package Plan ##\n",
    "\n",
    "  environment location: /Users/jparker/anaconda3\n",
    "\n",
    "  added / updated specs:\n",
    "    - mypy\n",
    "\n",
    "\n",
    "The following packages will be downloaded:\n",
    "\n",
    "    package                    |            build\n",
    "    ---------------------------|-----------------\n",
    "    conda-4.7.11               |           py37_0         3.0 MB\n",
    "    mypy-0.660                 |           py37_0         1.3 MB\n",
    "    mypy_extensions-0.4.1      |           py37_0           8 KB\n",
    "    typed-ast-1.1.0            |   py37h1de35cc_0         183 KB\n",
    "    ------------------------------------------------------------\n",
    "                                           Total:         4.6 MB\n",
    "\n",
    "The following NEW packages will be INSTALLED:\n",
    "\n",
    "  mypy               pkgs/main/osx-64::mypy-0.660-py37_0\n",
    "  mypy_extensions    pkgs/main/osx-64::mypy_extensions-0.4.1-py37_0\n",
    "  typed-ast          pkgs/main/osx-64::typed-ast-1.1.0-py37h1de35cc_0\n",
    "\n",
    "The following packages will be UPDATED:\n",
    "\n",
    "  conda                                       4.7.10-py37_0 --> 4.7.11-py37_0\n",
    "\n",
    "\n",
    "Proceed ([y]/n)? y\n",
    "\n",
    "\n",
    "Downloading and Extracting Packages\n",
    "mypy-0.660           | 1.3 MB    | ########################################## | 100% \n",
    "typed-ast-1.1.0      | 183 KB    | ########################################## | 100% \n",
    "conda-4.7.11         | 3.0 MB    | ########################################## | 100% \n",
    "mypy_extensions-0.4. | 8 KB      | ########################################## | 100% \n",
    "Preparing transaction: done\n",
    "Verifying transaction: done\n",
    "Executing transaction: done\n",
    "```"
   ]
  },
  {
   "cell_type": "code",
   "execution_count": null,
   "metadata": {},
   "outputs": [],
   "source": [
    "! more double.py"
   ]
  },
  {
   "cell_type": "markdown",
   "metadata": {},
   "source": [
    "```python\n",
    "# double.py\n",
    "...\n",
    "\n",
    "# Double a string\n",
    "def double(s: str) -> str:\n",
    "    return s + s\n",
    "\n",
    "# RIP Aretha\n",
    "print(double('Sock it to me! '))\n",
    "print(double(2))\n",
    "print(double([1, 2, 3]))\n",
    "```"
   ]
  },
  {
   "cell_type": "code",
   "execution_count": null,
   "metadata": {},
   "outputs": [],
   "source": [
    "! mypy double.py"
   ]
  },
  {
   "cell_type": "markdown",
   "metadata": {},
   "source": [
    "## What I see:\n",
    "```python\n",
    "double.py:17: error: Argument 1 to \"double\" has incompatible type \"int\"; expected \"str\"\n",
    "double.py:18: error: Argument 1 to \"double\" has incompatible type \"List[int]\"; expected \"str\"\n",
    "```"
   ]
  },
  {
   "cell_type": "markdown",
   "metadata": {},
   "source": [
    "## For more on mypy and type hints, see\n",
    "\n",
    "https://mypy.readthedocs.io/en/latest/type_inference_and_annotations.html"
   ]
  },
  {
   "cell_type": "markdown",
   "metadata": {},
   "source": [
    "# Scope\n",
    "## The scope of a variable is where the variable is known\n",
    "## My family calls me Skip, but at work I'm known as Buzz"
   ]
  },
  {
   "cell_type": "code",
   "execution_count": null,
   "metadata": {},
   "outputs": [],
   "source": [
    "def greet(name: str) -> str:\n",
    "    s = \"Hello, \" + name\n",
    "    return(s)\n",
    "\n",
    "result = greet('Sam')\n",
    "print(s)"
   ]
  },
  {
   "cell_type": "markdown",
   "metadata": {},
   "source": [
    "### Scope of s is local to function greet.  \n",
    "### Not visible outside function"
   ]
  },
  {
   "cell_type": "markdown",
   "metadata": {},
   "source": [
    "## Another Example"
   ]
  },
  {
   "cell_type": "code",
   "execution_count": null,
   "metadata": {},
   "outputs": [],
   "source": [
    "i = 1\n",
    "\n",
    "def example():\n",
    "    i = 5\n",
    "    print(i, 'in example()')\n",
    "\n",
    "# print(i, 'in main')\n",
    "\n",
    "example()\n",
    "\n",
    "# Figure out what would be printed by the three statements\n",
    "# Uncomment the lines and see if you are right\n",
    "\n",
    "# print(i, 'at end')"
   ]
  },
  {
   "cell_type": "markdown",
   "metadata": {},
   "source": [
    "### What is printed by the third print?\n",
    "\n",
    "```python\n",
    "    print(i, 'at end')\n",
    "```"
   ]
  },
  {
   "cell_type": "markdown",
   "metadata": {},
   "source": [
    "### Now we declare i to be a global in function\n",
    "### What is printed this time?"
   ]
  },
  {
   "cell_type": "code",
   "execution_count": null,
   "metadata": {},
   "outputs": [],
   "source": [
    "i = 1\n",
    "\n",
    "def example():\n",
    "    global i\n",
    "    i = i + 1\n",
    "    print(i, 'in example()')\n",
    "\n",
    "# print(i, 'in main')\n",
    "\n",
    "example()\n",
    "\n",
    "# print(i, 'at end')"
   ]
  },
  {
   "cell_type": "markdown",
   "metadata": {},
   "source": [
    "## What is printed?  Review what we just saw"
   ]
  },
  {
   "cell_type": "code",
   "execution_count": null,
   "metadata": {},
   "outputs": [],
   "source": [
    "var = 'global value'\n",
    "\n",
    "def example():\n",
    "    print('var inside example() ', var)\n",
    "\n",
    "print('var before example()', var)\n",
    "example()\n",
    "print('var outside example()', var)"
   ]
  },
  {
   "cell_type": "markdown",
   "metadata": {},
   "source": [
    "## What happens when we declare var to be global?\n",
    "### What would the last print show?"
   ]
  },
  {
   "cell_type": "code",
   "execution_count": null,
   "metadata": {},
   "outputs": [],
   "source": [
    "var = 'global value'\n",
    "\n",
    "def example():\n",
    "    global var                           # <<<<<<<<<<<<<<<<<\n",
    "    var = 'local value'\n",
    "    print('var inside example() ', var)  # 2\n",
    "\n",
    "print('var before example()', var)       # 1 - printed first\n",
    "example()\n",
    "# print('var outside example()', var)    # 3"
   ]
  },
  {
   "cell_type": "markdown",
   "metadata": {},
   "source": [
    "### Scope in Python is LEGB - Local, Enclosed, Global, then Builtin"
   ]
  },
  {
   "cell_type": "code",
   "execution_count": null,
   "metadata": {},
   "outputs": [],
   "source": [
    "var = 1\n",
    "\n",
    "def example():\n",
    "    var = 2\n",
    "    print('var inside example() ', var)  # 2\n",
    "\n",
    "print('var outside example()', var)      # 1\n",
    "example()\n",
    "print('var outside example()', var)      # 3"
   ]
  },
  {
   "cell_type": "markdown",
   "metadata": {},
   "source": [
    "## Different treatment for reading and writing\n",
    "### I know Dr. Kissinger, but I can't update him\n",
    "## When we *read* unbound variable, look in LEGB\n",
    "## When we *write* unbound variable, assume it is local"
   ]
  },
  {
   "cell_type": "code",
   "execution_count": null,
   "metadata": {},
   "outputs": [],
   "source": [
    "var = 1\n",
    "\n",
    "def example():\n",
    "    var = 2\n",
    "    print('var inside example() ', var)  # 2\n",
    "    print(\"Local Variables:\", locals())\n",
    "    print(\"Global Variables:\", globals())\n",
    "\n",
    "print('var outside example()', var)      # 1\n",
    "example()\n",
    "print('var outside example()', var)      # 3"
   ]
  },
  {
   "cell_type": "markdown",
   "metadata": {},
   "source": [
    "## I see\n",
    "```python\n",
    "var outside example() 1\n",
    "var inside example()  2\n",
    "Local Variables: {'var': 2}\n",
    "Global Variables: {'__name__': '__main__', '__doc__': \n",
    "...\n",
    "```"
   ]
  },
  {
   "cell_type": "code",
   "execution_count": null,
   "metadata": {},
   "outputs": [],
   "source": [
    "var = 1\n",
    "\n",
    "def example():\n",
    "    var = var + 1\n",
    "    print('var inside example() ', var)  # 2\n",
    "\n",
    "print('var outside example()', var)      # 1\n",
    "example()\n",
    "print('var outside example()', var)      # 3"
   ]
  },
  {
   "cell_type": "markdown",
   "metadata": {},
   "source": [
    "## On line 4, var isn't defined for assignment\n",
    "### If I make var global, I can update the global value"
   ]
  },
  {
   "cell_type": "code",
   "execution_count": null,
   "metadata": {},
   "outputs": [],
   "source": [
    "var = 1\n",
    "\n",
    "def example():\n",
    "    global var \n",
    "    \n",
    "    var = var + 1\n",
    "    print('var inside example() ', var)\n",
    "\n",
    "print('var outside example()', var)\n",
    "example()\n",
    "print('var outside example()', var)"
   ]
  },
  {
   "cell_type": "markdown",
   "metadata": {},
   "source": [
    "# Why use Functions?  Four reasons"
   ]
  },
  {
   "cell_type": "markdown",
   "metadata": {},
   "source": [
    "## 1) Fix Errors only once\n",
    "### Example suggested by Don Knuth in the CACM, April 1984\n",
    "### http://www.cs.bme.hu/~friedl/alg/knuth_song_complexity.pdf"
   ]
  },
  {
   "cell_type": "code",
   "execution_count": null,
   "metadata": {},
   "outputs": [],
   "source": [
    "def grunt():\n",
    "    print(\"uh-huh\")\n",
    "          \n",
    "          \n",
    "def chorus():\n",
    "    print(\"That's the way\")\n",
    "    grunt()\n",
    "    print(\"I like it\")\n",
    "    grunt()\n",
    "    print()\n",
    "    \n",
    "chorus()"
   ]
  },
  {
   "cell_type": "markdown",
   "metadata": {},
   "source": [
    "## 2) Only write each task once"
   ]
  },
  {
   "cell_type": "code",
   "execution_count": null,
   "metadata": {},
   "outputs": [],
   "source": [
    "def hit_single():\n",
    "    chorus()\n",
    "    chorus()\n",
    "    chorus() \n",
    "    chorus()\n",
    "    chorus()\n",
    "    chorus()\n",
    "    \n",
    "hit_single()"
   ]
  },
  {
   "cell_type": "markdown",
   "metadata": {},
   "source": [
    "## 3) Separation of concerns"
   ]
  },
  {
   "cell_type": "code",
   "execution_count": null,
   "metadata": {},
   "outputs": [],
   "source": [
    "def sausage():\n",
    "    ...\n",
    "\n",
    "sausage()       # I don’t want to know the details"
   ]
  },
  {
   "cell_type": "markdown",
   "metadata": {
    "collapsed": true
   },
   "source": [
    "## 4) Debugging"
   ]
  },
  {
   "cell_type": "markdown",
   "metadata": {
    "collapsed": true
   },
   "source": [
    "### Decompose your program into functions - makes it easier to debug\n",
    "### Verify that each function is working\n",
    "### Then assemble the components\n",
    "### Allows you to take a leap of faith: \n",
    "### \"grunt() is working, so problem is elsewhere\""
   ]
  },
  {
   "cell_type": "markdown",
   "metadata": {},
   "source": [
    "# Python Library of the Week - https://pymotw.com/3/index.html"
   ]
  },
  {
   "cell_type": "code",
   "execution_count": null,
   "metadata": {},
   "outputs": [],
   "source": [
    "import platform                             # Not supported by Python Tutor\n",
    "\n",
    "print('Ver:  ', platform.python_version())  # Note use of whitespace to lineup output\n",
    "print('Build:', platform.python_build())"
   ]
  },
  {
   "cell_type": "markdown",
   "metadata": {},
   "source": [
    "### I saw\n",
    "```python\n",
    "Ver:   3.7.3\n",
    "Build: ('default', 'Mar 27 2019 16:54:48')\n",
    "```"
   ]
  },
  {
   "cell_type": "markdown",
   "metadata": {},
   "source": [
    "## Animal, vegtable, or mineral?"
   ]
  },
  {
   "cell_type": "code",
   "execution_count": null,
   "metadata": {},
   "outputs": [],
   "source": [
    "print(type(platform.python_version()))"
   ]
  },
  {
   "cell_type": "code",
   "execution_count": null,
   "metadata": {},
   "outputs": [],
   "source": [
    "print(type(platform.python_build()))"
   ]
  },
  {
   "cell_type": "markdown",
   "metadata": {
    "collapsed": true
   },
   "source": [
    "## Use platform.system() call to find name of your Operating System (OS)"
   ]
  },
  {
   "cell_type": "markdown",
   "metadata": {},
   "source": [
    "# How can we clear state in Notebook?\n",
    "## Who is a command to the Notebook"
   ]
  },
  {
   "cell_type": "code",
   "execution_count": null,
   "metadata": {},
   "outputs": [],
   "source": [
    "%who   "
   ]
  },
  {
   "cell_type": "markdown",
   "metadata": {},
   "source": [
    "## Go to Kernel/Restart and Clear Output\n",
    "\n",
    "#### When you have done that, run who again"
   ]
  },
  {
   "cell_type": "code",
   "execution_count": null,
   "metadata": {},
   "outputs": [],
   "source": [
    "%who"
   ]
  },
  {
   "cell_type": "markdown",
   "metadata": {
    "collapsed": true
   },
   "source": [
    "# Drop days\n",
    "- We want you to succeed\n",
    "- But if you are struggling, please take stock\n",
    "- Do you have the time to continue?\n",
    "- There will be another version this Spring "
   ]
  },
  {
   "cell_type": "markdown",
   "metadata": {},
   "source": [
    "# Wow, That's Fantastic!\n",
    "## A peek ahead to next week"
   ]
  },
  {
   "cell_type": "code",
   "execution_count": null,
   "metadata": {},
   "outputs": [],
   "source": [
    "# Turtle is not working in the 10.14.6 version of Mac OS X \n",
    "# It will crash your machine - similar to BSoD\n",
    "#\n",
    "# I will run these at https://trinket.io\n",
    "#\n",
    "import turtle\n",
    "\n",
    "# Create a turtle ojbect\n",
    "bob = turtle.Turtle()\n",
    "\n",
    "# Draw a picture\n",
    "for i in range(45):\n",
    "    # Draw an edge\n",
    "    bob.fd(100)\n",
    "    bob.lt(88)"
   ]
  },
  {
   "cell_type": "markdown",
   "metadata": {},
   "source": [
    "# Summary\n",
    "- Scripts vs Interactive Mode\n",
    "- Functions\n",
    "- Libraries such as platform can talk to OS - allows us to explore the world beyond our program"
   ]
  },
  {
   "cell_type": "markdown",
   "metadata": {},
   "source": [
    "# Reflection\n",
    "### We discussed the difference between string methods such as s.find() and the function such as len(). \n",
    "### Lookup the definition of the Python function len().  \n",
    "### *Is it limited to strings?*  \n",
    "### *What other data types can we take the length of?*"
   ]
  }
 ],
 "metadata": {
  "kernelspec": {
   "display_name": "Python 3",
   "language": "python",
   "name": "python3"
  },
  "language_info": {
   "codemirror_mode": {
    "name": "ipython",
    "version": 3
   },
   "file_extension": ".py",
   "mimetype": "text/x-python",
   "name": "python",
   "nbconvert_exporter": "python",
   "pygments_lexer": "ipython3",
   "version": "3.7.3"
  }
 },
 "nbformat": 4,
 "nbformat_minor": 2
}
